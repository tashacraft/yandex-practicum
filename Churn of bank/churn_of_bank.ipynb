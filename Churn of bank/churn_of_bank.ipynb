{# coding: utf8
}
{
 "cells": [
  {
   "cell_type": "code",
   "execution_count": 1,
   "metadata": {},
   "outputs": [],
   "source": [
    "# coding: utf8"
   ]
  },
  {
   "cell_type": "markdown",
   "metadata": {},
   "source": [
    "# Отток клиентов"
   ]
  },
  {
   "cell_type": "markdown",
   "metadata": {},
   "source": [
    "Из «Бета-Банка» стали уходить клиенты. Каждый месяц. Немного, но заметно. Банковские маркетологи посчитали: сохранять текущих клиентов дешевле, чем привлекать новых.\n",
    "\n",
    "Нужно спрогнозировать, уйдёт клиент из банка в ближайшее время или нет. Нам предоставлены исторические данные о поведении клиентов и расторжении договоров с банком. \n",
    "\n",
    "<b>Задачи</b>:\n",
    "- изучить данные, подготовить их к машинному обучению\n",
    "- разбить данные на 3 выборки: обучающую, валидационную и тестовую\n",
    "- обучить модель с помощью архитектур Дерево решений, Случайный лес и Логистическая регрессия без учета дисбаланса классов и исследовать их качество метриками классификации, сравнить результаты\n",
    "- проверить модель на адекватность с помощью константной модели\n",
    "- улучшить качество модели, учитывая дисбаланс классов, выбрать лучшую модель\n",
    "- построить модель с максимально большим значением F1-меры, довести метрику до 0.59\n",
    "- провести финальное тестирование на тестовой выборке\n",
    "\n",
    "Источник данных: [https://www.kaggle.com/barelydedicated/bank-customer-churn-modeling](https://www.kaggle.com/barelydedicated/bank-customer-churn-modeling)\n",
    "\n",
    "Каждый объект в наборе данных — это информация об одном клиенте:\n",
    "\n",
    "- RowNumber — индекс строки в данных\n",
    "- CustomerId — уникальный идентификатор клиента\n",
    "- Surname — фамилия\n",
    "- CreditScore — кредитный рейтинг\n",
    "- Geography — страна проживания\n",
    "- Gender — пол\n",
    "- Age — возраст\n",
    "- Tenure — сколько лет человек является клиентом банка\n",
    "- Balance — баланс на счёте\n",
    "- NumOfProducts — количество продуктов банка, используемых клиентом\n",
    "- HasCrCard — наличие кредитной карты\n",
    "- IsActiveMember — активность клиента\n",
    "- EstimatedSalary — предполагаемая зарплата\n",
    "- Exited — факт ухода клиента"
   ]
  },
  {
   "cell_type": "markdown",
   "metadata": {
    "toc": true
   },
   "source": [
    "<h1>Содержание<span class=\"tocSkip\"></span></h1>\n",
    "<div class=\"toc\"><ul class=\"toc-item\"><li><span><a href=\"#Подготовка-данных\" data-toc-modified-id=\"Подготовка-данных-1\"><span class=\"toc-item-num\">1&nbsp;&nbsp;</span>Подготовка данных</a></span><ul class=\"toc-item\"><li><span><a href=\"#Предобработка-данных\" data-toc-modified-id=\"Предобработка-данных-1.1\"><span class=\"toc-item-num\">1.1&nbsp;&nbsp;</span>Предобработка данных</a></span></li><li><span><a href=\"#Прямое-кодирование-OHE\" data-toc-modified-id=\"Прямое-кодирование-OHE-1.2\"><span class=\"toc-item-num\">1.2&nbsp;&nbsp;</span>Прямое кодирование OHE</a></span></li><li><span><a href=\"#Разбитие-данных-на-выборки\" data-toc-modified-id=\"Разбитие-данных-на-выборки-1.3\"><span class=\"toc-item-num\">1.3&nbsp;&nbsp;</span>Разбитие данных на выборки</a></span></li><li><span><a href=\"#Масштабирование-признаков\" data-toc-modified-id=\"Масштабирование-признаков-1.4\"><span class=\"toc-item-num\">1.4&nbsp;&nbsp;</span>Масштабирование признаков</a></span></li><li><span><a href=\"#Вывод\" data-toc-modified-id=\"Вывод-1.5\"><span class=\"toc-item-num\">1.5&nbsp;&nbsp;</span>Вывод</a></span></li></ul></li><li><span><a href=\"#Исследование-задачи\" data-toc-modified-id=\"Исследование-задачи-2\"><span class=\"toc-item-num\">2&nbsp;&nbsp;</span>Исследование задачи</a></span><ul class=\"toc-item\"><li><span><a href=\"#Обучение-моделей\" data-toc-modified-id=\"Обучение-моделей-2.1\"><span class=\"toc-item-num\">2.1&nbsp;&nbsp;</span>Обучение моделей</a></span></li><li><span><a href=\"#Проверка-модели-на-адекватность\" data-toc-modified-id=\"Проверка-модели-на-адекватность-2.2\"><span class=\"toc-item-num\">2.2&nbsp;&nbsp;</span>Проверка модели на адекватность</a></span></li></ul></li><li><span><a href=\"#Борьба-с-дисбалансом\" data-toc-modified-id=\"Борьба-с-дисбалансом-3\"><span class=\"toc-item-num\">3&nbsp;&nbsp;</span>Борьба с дисбалансом</a></span><ul class=\"toc-item\"><li><span><a href=\"#Взвешивание-классов\" data-toc-modified-id=\"Взвешивание-классов-3.1\"><span class=\"toc-item-num\">3.1&nbsp;&nbsp;</span>Взвешивание классов</a></span></li><li><span><a href=\"#Увеличение-выборки\" data-toc-modified-id=\"Увеличение-выборки-3.2\"><span class=\"toc-item-num\">3.2&nbsp;&nbsp;</span>Увеличение выборки</a></span></li><li><span><a href=\"#Обучение-моделей-на-увеличенной-выборке\" data-toc-modified-id=\"Обучение-моделей-на-увеличенной-выборке-3.3\"><span class=\"toc-item-num\">3.3&nbsp;&nbsp;</span>Обучение моделей на увеличенной выборке</a></span></li><li><span><a href=\"#Уменьшение-выборки\" data-toc-modified-id=\"Уменьшение-выборки-3.4\"><span class=\"toc-item-num\">3.4&nbsp;&nbsp;</span>Уменьшение выборки</a></span></li><li><span><a href=\"#Обучение-моделей-на-уменьшенной-выборке\" data-toc-modified-id=\"Обучение-моделей-на-уменьшенной-выборке-3.5\"><span class=\"toc-item-num\">3.5&nbsp;&nbsp;</span>Обучение моделей на уменьшенной выборке</a></span></li><li><span><a href=\"#Порог-классификации\" data-toc-modified-id=\"Порог-классификации-3.6\"><span class=\"toc-item-num\">3.6&nbsp;&nbsp;</span>Порог классификации</a></span></li><li><span><a href=\"#Финальное-обучение-модели\" data-toc-modified-id=\"Финальное-обучение-модели-3.7\"><span class=\"toc-item-num\">3.7&nbsp;&nbsp;</span>Финальное обучение модели</a></span></li><li><span><a href=\"#Вывод\" data-toc-modified-id=\"Вывод-3.8\"><span class=\"toc-item-num\">3.8&nbsp;&nbsp;</span>Вывод</a></span></li></ul></li><li><span><a href=\"#Тестирование-модели\" data-toc-modified-id=\"Тестирование-модели-4\"><span class=\"toc-item-num\">4&nbsp;&nbsp;</span>Тестирование модели</a></span></li><li><span><a href=\"#Тестирование-модели-(бонус)\" data-toc-modified-id=\"Тестирование-модели-(бонус)-5\"><span class=\"toc-item-num\">5&nbsp;&nbsp;</span>Тестирование модели (бонус)</a></span></li></ul></div>"
   ]
  },
  {
   "cell_type": "markdown",
   "metadata": {},
   "source": [
    "## Подготовка данных"
   ]
  },
  {
   "cell_type": "markdown",
   "metadata": {},
   "source": [
    "### Предобработка данных"
   ]
  },
  {
   "cell_type": "markdown",
   "metadata": {},
   "source": [
    "Загрузим файл и изучим данные. Подключим все необходимые библиотеки и функции."
   ]
  },
  {
   "cell_type": "code",
   "execution_count": 1,
   "metadata": {},
   "outputs": [],
   "source": [
    "import pandas as pd\n",
    "import numpy as np\n",
    "# для разделения выборки на обучающую и тестовую\n",
    "from sklearn.model_selection import train_test_split\n",
    "# для масштабирования признаков\n",
    "from sklearn.preprocessing import StandardScaler \n",
    "\n",
    "# для построения модели Дерево решений\n",
    "from sklearn.tree import DecisionTreeClassifier\n",
    "# для построения модели Случайный лес\n",
    "from sklearn.ensemble import RandomForestClassifier\n",
    "# для построения модели Логистическая регрессия\n",
    "from sklearn.linear_model import LogisticRegression \n",
    "\n",
    "# для вычисления F1-меры\n",
    "from sklearn.metrics import f1_score\n",
    "# для вычисления Accuracy\n",
    "from sklearn.metrics import accuracy_score\n",
    "# матрица ошибок\n",
    "from sklearn.metrics import confusion_matrix\n",
    "# для вычисления полноты\n",
    "from sklearn.metrics import recall_score\n",
    "# для вычисления точности\n",
    "from sklearn.metrics import precision_score\n",
    "# для вычисления AUC-ROC\n",
    "from sklearn.metrics import roc_auc_score\n",
    "# для ROC-кривой\n",
    "from sklearn.metrics import roc_curve\n",
    "# для перемешивания данных в выборке\n",
    "from sklearn.utils import shuffle\n",
    "# для построения PR curve\n",
    "from sklearn.metrics import precision_recall_curve\n",
    "# для проверки модели на адекватность методом classification_report\n",
    "from sklearn.metrics import classification_report\n",
    "\n",
    "# для построения графиков\n",
    "import matplotlib.pyplot as plt\n",
    "# для генерации случайных чисел\n",
    "import random"
   ]
  },
  {
   "cell_type": "code",
   "execution_count": 2,
   "metadata": {},
   "outputs": [
    {
     "data": {
      "text/html": [
       "<div>\n",
       "<style scoped>\n",
       "    .dataframe tbody tr th:only-of-type {\n",
       "        vertical-align: middle;\n",
       "    }\n",
       "\n",
       "    .dataframe tbody tr th {\n",
       "        vertical-align: top;\n",
       "    }\n",
       "\n",
       "    .dataframe thead th {\n",
       "        text-align: right;\n",
       "    }\n",
       "</style>\n",
       "<table border=\"1\" class=\"dataframe\">\n",
       "  <thead>\n",
       "    <tr style=\"text-align: right;\">\n",
       "      <th></th>\n",
       "      <th>RowNumber</th>\n",
       "      <th>CustomerId</th>\n",
       "      <th>Surname</th>\n",
       "      <th>CreditScore</th>\n",
       "      <th>Geography</th>\n",
       "      <th>Gender</th>\n",
       "      <th>Age</th>\n",
       "      <th>Tenure</th>\n",
       "      <th>Balance</th>\n",
       "      <th>NumOfProducts</th>\n",
       "      <th>HasCrCard</th>\n",
       "      <th>IsActiveMember</th>\n",
       "      <th>EstimatedSalary</th>\n",
       "      <th>Exited</th>\n",
       "    </tr>\n",
       "  </thead>\n",
       "  <tbody>\n",
       "    <tr>\n",
       "      <th>0</th>\n",
       "      <td>1</td>\n",
       "      <td>15634602</td>\n",
       "      <td>Hargrave</td>\n",
       "      <td>619</td>\n",
       "      <td>France</td>\n",
       "      <td>Female</td>\n",
       "      <td>42</td>\n",
       "      <td>2.0</td>\n",
       "      <td>0.00</td>\n",
       "      <td>1</td>\n",
       "      <td>1</td>\n",
       "      <td>1</td>\n",
       "      <td>101348.88</td>\n",
       "      <td>1</td>\n",
       "    </tr>\n",
       "    <tr>\n",
       "      <th>1</th>\n",
       "      <td>2</td>\n",
       "      <td>15647311</td>\n",
       "      <td>Hill</td>\n",
       "      <td>608</td>\n",
       "      <td>Spain</td>\n",
       "      <td>Female</td>\n",
       "      <td>41</td>\n",
       "      <td>1.0</td>\n",
       "      <td>83807.86</td>\n",
       "      <td>1</td>\n",
       "      <td>0</td>\n",
       "      <td>1</td>\n",
       "      <td>112542.58</td>\n",
       "      <td>0</td>\n",
       "    </tr>\n",
       "    <tr>\n",
       "      <th>2</th>\n",
       "      <td>3</td>\n",
       "      <td>15619304</td>\n",
       "      <td>Onio</td>\n",
       "      <td>502</td>\n",
       "      <td>France</td>\n",
       "      <td>Female</td>\n",
       "      <td>42</td>\n",
       "      <td>8.0</td>\n",
       "      <td>159660.80</td>\n",
       "      <td>3</td>\n",
       "      <td>1</td>\n",
       "      <td>0</td>\n",
       "      <td>113931.57</td>\n",
       "      <td>1</td>\n",
       "    </tr>\n",
       "    <tr>\n",
       "      <th>3</th>\n",
       "      <td>4</td>\n",
       "      <td>15701354</td>\n",
       "      <td>Boni</td>\n",
       "      <td>699</td>\n",
       "      <td>France</td>\n",
       "      <td>Female</td>\n",
       "      <td>39</td>\n",
       "      <td>1.0</td>\n",
       "      <td>0.00</td>\n",
       "      <td>2</td>\n",
       "      <td>0</td>\n",
       "      <td>0</td>\n",
       "      <td>93826.63</td>\n",
       "      <td>0</td>\n",
       "    </tr>\n",
       "    <tr>\n",
       "      <th>4</th>\n",
       "      <td>5</td>\n",
       "      <td>15737888</td>\n",
       "      <td>Mitchell</td>\n",
       "      <td>850</td>\n",
       "      <td>Spain</td>\n",
       "      <td>Female</td>\n",
       "      <td>43</td>\n",
       "      <td>2.0</td>\n",
       "      <td>125510.82</td>\n",
       "      <td>1</td>\n",
       "      <td>1</td>\n",
       "      <td>1</td>\n",
       "      <td>79084.10</td>\n",
       "      <td>0</td>\n",
       "    </tr>\n",
       "    <tr>\n",
       "      <th>5</th>\n",
       "      <td>6</td>\n",
       "      <td>15574012</td>\n",
       "      <td>Chu</td>\n",
       "      <td>645</td>\n",
       "      <td>Spain</td>\n",
       "      <td>Male</td>\n",
       "      <td>44</td>\n",
       "      <td>8.0</td>\n",
       "      <td>113755.78</td>\n",
       "      <td>2</td>\n",
       "      <td>1</td>\n",
       "      <td>0</td>\n",
       "      <td>149756.71</td>\n",
       "      <td>1</td>\n",
       "    </tr>\n",
       "    <tr>\n",
       "      <th>6</th>\n",
       "      <td>7</td>\n",
       "      <td>15592531</td>\n",
       "      <td>Bartlett</td>\n",
       "      <td>822</td>\n",
       "      <td>France</td>\n",
       "      <td>Male</td>\n",
       "      <td>50</td>\n",
       "      <td>7.0</td>\n",
       "      <td>0.00</td>\n",
       "      <td>2</td>\n",
       "      <td>1</td>\n",
       "      <td>1</td>\n",
       "      <td>10062.80</td>\n",
       "      <td>0</td>\n",
       "    </tr>\n",
       "    <tr>\n",
       "      <th>7</th>\n",
       "      <td>8</td>\n",
       "      <td>15656148</td>\n",
       "      <td>Obinna</td>\n",
       "      <td>376</td>\n",
       "      <td>Germany</td>\n",
       "      <td>Female</td>\n",
       "      <td>29</td>\n",
       "      <td>4.0</td>\n",
       "      <td>115046.74</td>\n",
       "      <td>4</td>\n",
       "      <td>1</td>\n",
       "      <td>0</td>\n",
       "      <td>119346.88</td>\n",
       "      <td>1</td>\n",
       "    </tr>\n",
       "    <tr>\n",
       "      <th>8</th>\n",
       "      <td>9</td>\n",
       "      <td>15792365</td>\n",
       "      <td>He</td>\n",
       "      <td>501</td>\n",
       "      <td>France</td>\n",
       "      <td>Male</td>\n",
       "      <td>44</td>\n",
       "      <td>4.0</td>\n",
       "      <td>142051.07</td>\n",
       "      <td>2</td>\n",
       "      <td>0</td>\n",
       "      <td>1</td>\n",
       "      <td>74940.50</td>\n",
       "      <td>0</td>\n",
       "    </tr>\n",
       "    <tr>\n",
       "      <th>9</th>\n",
       "      <td>10</td>\n",
       "      <td>15592389</td>\n",
       "      <td>H?</td>\n",
       "      <td>684</td>\n",
       "      <td>France</td>\n",
       "      <td>Male</td>\n",
       "      <td>27</td>\n",
       "      <td>2.0</td>\n",
       "      <td>134603.88</td>\n",
       "      <td>1</td>\n",
       "      <td>1</td>\n",
       "      <td>1</td>\n",
       "      <td>71725.73</td>\n",
       "      <td>0</td>\n",
       "    </tr>\n",
       "  </tbody>\n",
       "</table>\n",
       "</div>"
      ],
      "text/plain": [
       "   RowNumber  CustomerId   Surname  CreditScore Geography  Gender  Age  \\\n",
       "0          1    15634602  Hargrave          619    France  Female   42   \n",
       "1          2    15647311      Hill          608     Spain  Female   41   \n",
       "2          3    15619304      Onio          502    France  Female   42   \n",
       "3          4    15701354      Boni          699    France  Female   39   \n",
       "4          5    15737888  Mitchell          850     Spain  Female   43   \n",
       "5          6    15574012       Chu          645     Spain    Male   44   \n",
       "6          7    15592531  Bartlett          822    France    Male   50   \n",
       "7          8    15656148    Obinna          376   Germany  Female   29   \n",
       "8          9    15792365        He          501    France    Male   44   \n",
       "9         10    15592389        H?          684    France    Male   27   \n",
       "\n",
       "   Tenure    Balance  NumOfProducts  HasCrCard  IsActiveMember  \\\n",
       "0     2.0       0.00              1          1               1   \n",
       "1     1.0   83807.86              1          0               1   \n",
       "2     8.0  159660.80              3          1               0   \n",
       "3     1.0       0.00              2          0               0   \n",
       "4     2.0  125510.82              1          1               1   \n",
       "5     8.0  113755.78              2          1               0   \n",
       "6     7.0       0.00              2          1               1   \n",
       "7     4.0  115046.74              4          1               0   \n",
       "8     4.0  142051.07              2          0               1   \n",
       "9     2.0  134603.88              1          1               1   \n",
       "\n",
       "   EstimatedSalary  Exited  \n",
       "0        101348.88       1  \n",
       "1        112542.58       0  \n",
       "2        113931.57       1  \n",
       "3         93826.63       0  \n",
       "4         79084.10       0  \n",
       "5        149756.71       1  \n",
       "6         10062.80       0  \n",
       "7        119346.88       1  \n",
       "8         74940.50       0  \n",
       "9         71725.73       0  "
      ]
     },
     "execution_count": 2,
     "metadata": {},
     "output_type": "execute_result"
    }
   ],
   "source": [
    "data = pd.read_csv('Churn.csv')\n",
    "data.head(10)"
   ]
  },
  {
   "cell_type": "markdown",
   "metadata": {},
   "source": [
    "Целевой признак - Exited (факт ухода клиента) - категориальный признак (значения 0 - нет и 1 - да). Перед нами задача классификации."
   ]
  },
  {
   "cell_type": "code",
   "execution_count": 3,
   "metadata": {},
   "outputs": [
    {
     "data": {
      "text/plain": [
       "array([1, 0])"
      ]
     },
     "execution_count": 3,
     "metadata": {},
     "output_type": "execute_result"
    }
   ],
   "source": [
    "data['Exited'].unique()"
   ]
  },
  {
   "cell_type": "markdown",
   "metadata": {},
   "source": [
    "Рассмотрим подробную информацию о данных: количество записей, столбцов, пропусков, типы данных."
   ]
  },
  {
   "cell_type": "code",
   "execution_count": 4,
   "metadata": {},
   "outputs": [
    {
     "name": "stdout",
     "output_type": "stream",
     "text": [
      "<class 'pandas.core.frame.DataFrame'>\n",
      "RangeIndex: 10000 entries, 0 to 9999\n",
      "Data columns (total 14 columns):\n",
      " #   Column           Non-Null Count  Dtype  \n",
      "---  ------           --------------  -----  \n",
      " 0   RowNumber        10000 non-null  int64  \n",
      " 1   CustomerId       10000 non-null  int64  \n",
      " 2   Surname          10000 non-null  object \n",
      " 3   CreditScore      10000 non-null  int64  \n",
      " 4   Geography        10000 non-null  object \n",
      " 5   Gender           10000 non-null  object \n",
      " 6   Age              10000 non-null  int64  \n",
      " 7   Tenure           9091 non-null   float64\n",
      " 8   Balance          10000 non-null  float64\n",
      " 9   NumOfProducts    10000 non-null  int64  \n",
      " 10  HasCrCard        10000 non-null  int64  \n",
      " 11  IsActiveMember   10000 non-null  int64  \n",
      " 12  EstimatedSalary  10000 non-null  float64\n",
      " 13  Exited           10000 non-null  int64  \n",
      "dtypes: float64(3), int64(8), object(3)\n",
      "memory usage: 1.1+ MB\n"
     ]
    }
   ],
   "source": [
    "data.info()"
   ]
  },
  {
   "cell_type": "markdown",
   "metadata": {},
   "source": [
    "Приведем все названия колонок к нижнему регистру и к единому стилю с нижним подчеркиванием."
   ]
  },
  {
   "cell_type": "code",
   "execution_count": 5,
   "metadata": {},
   "outputs": [
    {
     "data": {
      "text/plain": [
       "Index(['row_number', 'customer_id', 'surname', 'credit_score', 'geography',\n",
       "       'gender', 'age', 'tenure', 'balance', 'num_of_products', 'has_crcard',\n",
       "       'active_member', 'estimated_salary', 'exited'],\n",
       "      dtype='object')"
      ]
     },
     "execution_count": 5,
     "metadata": {},
     "output_type": "execute_result"
    }
   ],
   "source": [
    "data.columns = ['row_number', 'customer_id', 'surname', 'credit_score', 'geography',\n",
    "       'gender', 'age', 'tenure', 'balance', 'num_of_products', 'has_crcard',\n",
    "       'active_member', 'estimated_salary', 'exited']\n",
    "data.columns"
   ]
  },
  {
   "cell_type": "markdown",
   "metadata": {},
   "source": [
    "Столбцы 'row_number', 'customer_id', 'surname' не несут никакой ценности для обучения модели, удалим их, предварительно проверив на наличие дубликатов (их нет)."
   ]
  },
  {
   "cell_type": "code",
   "execution_count": 6,
   "metadata": {},
   "outputs": [
    {
     "data": {
      "text/plain": [
       "0"
      ]
     },
     "execution_count": 6,
     "metadata": {},
     "output_type": "execute_result"
    }
   ],
   "source": [
    "# проверка на дубликаты\n",
    "data.duplicated().sum()"
   ]
  },
  {
   "cell_type": "code",
   "execution_count": 7,
   "metadata": {},
   "outputs": [],
   "source": [
    "data.drop(['row_number', 'customer_id', 'surname'], axis = 1, inplace= True)"
   ]
  },
  {
   "cell_type": "code",
   "execution_count": 8,
   "metadata": {},
   "outputs": [
    {
     "data": {
      "text/plain": [
       "Index(['credit_score', 'geography', 'gender', 'age', 'tenure', 'balance',\n",
       "       'num_of_products', 'has_crcard', 'active_member', 'estimated_salary',\n",
       "       'exited'],\n",
       "      dtype='object')"
      ]
     },
     "execution_count": 8,
     "metadata": {},
     "output_type": "execute_result"
    }
   ],
   "source": [
    "# проверим оставшиеся столбцы\n",
    "data.columns"
   ]
  },
  {
   "cell_type": "markdown",
   "metadata": {},
   "source": [
    "В столбце 'tenure' 909 пропусков, это более 9% от всего датасета. Оставлять значения пустыми нельзя. "
   ]
  },
  {
   "cell_type": "code",
   "execution_count": 9,
   "metadata": {},
   "outputs": [
    {
     "data": {
      "text/plain": [
       "909"
      ]
     },
     "execution_count": 9,
     "metadata": {},
     "output_type": "execute_result"
    }
   ],
   "source": [
    "data['tenure'].isna().sum()"
   ]
  },
  {
   "cell_type": "markdown",
   "metadata": {},
   "source": [
    "Посмотрим зависимости от количества лет клиента в банке на прекращение договора с банком."
   ]
  },
  {
   "cell_type": "code",
   "execution_count": 10,
   "metadata": {},
   "outputs": [
    {
     "data": {
      "image/png": "[encoded data removed]",
      "text/plain": [
       "<Figure size 864x360 with 1 Axes>"
      ]
     },
     "metadata": {
      "needs_background": "light"
     },
     "output_type": "display_data"
    }
   ],
   "source": [
    "exited_yes = data[data['exited']==1]['tenure']\n",
    "exited_no = data[data['exited']==0]['tenure']\n",
    "\n",
    "plt.figure(figsize=(12,5))\n",
    "plt.hist([exited_yes, exited_no], bins=11, color=['red', 'green'], label = ['exited yes', 'exited no'])\n",
    "plt.xlabel('Количество лет в банке', fontsize=20)\n",
    "plt.ylabel(\"Количество клиентов\", fontsize=20)\n",
    "plt.legend();"
   ]
  },
  {
   "cell_type": "code",
   "execution_count": 11,
   "metadata": {},
   "outputs": [
    {
     "data": {
      "text/plain": [
       "-0.016761481514933764"
      ]
     },
     "execution_count": 11,
     "metadata": {},
     "output_type": "execute_result"
    }
   ],
   "source": [
    "data['tenure'].corr(data['exited'])"
   ]
  },
  {
   "cell_type": "markdown",
   "metadata": {},
   "source": [
    "Явной зависимости между прекращением договора с банком и продолжительности пользования услугами банка нет. Поэтому можно заполнить пустые значения случайными числами от 0 до 10, это снизит влияние на общее распределение, в отличие, например, от заполнения медианой или средним."
   ]
  },
  {
   "cell_type": "code",
   "execution_count": 12,
   "metadata": {},
   "outputs": [
    {
     "data": {
      "text/plain": [
       "0"
      ]
     },
     "execution_count": 12,
     "metadata": {},
     "output_type": "execute_result"
    }
   ],
   "source": [
    "data.loc[data['tenure'].isna(), 'tenure'] = np.random.randint(0, 10, \\\n",
    "                                            size=data['tenure'].isna().sum())\n",
    "data['tenure'].isna().sum()"
   ]
  },
  {
   "cell_type": "code",
   "execution_count": 13,
   "metadata": {},
   "outputs": [
    {
     "data": {
      "image/png": "[encoded data removed]",
      "text/plain": [
       "<Figure size 864x360 with 1 Axes>"
      ]
     },
     "metadata": {
      "needs_background": "light"
     },
     "output_type": "display_data"
    }
   ],
   "source": [
    "# проверим новое распределение\n",
    "exited_yes = data[data['exited']==1]['tenure']\n",
    "exited_no = data[data['exited']==0]['tenure']\n",
    "\n",
    "plt.figure(figsize=(12,5))\n",
    "plt.hist([exited_yes, exited_no], bins=11, color=['red', 'green'], label = ['exited yes', 'exited no'])\n",
    "plt.xlabel('Количество лет в банке', fontsize=20)\n",
    "plt.ylabel(\"Количество клиентов\", fontsize=20)\n",
    "plt.legend();"
   ]
  },
  {
   "cell_type": "code",
   "execution_count": 14,
   "metadata": {},
   "outputs": [
    {
     "data": {
      "text/html": [
       "<div>\n",
       "<style scoped>\n",
       "    .dataframe tbody tr th:only-of-type {\n",
       "        vertical-align: middle;\n",
       "    }\n",
       "\n",
       "    .dataframe tbody tr th {\n",
       "        vertical-align: top;\n",
       "    }\n",
       "\n",
       "    .dataframe thead th {\n",
       "        text-align: right;\n",
       "    }\n",
       "</style>\n",
       "<table border=\"1\" class=\"dataframe\">\n",
       "  <thead>\n",
       "    <tr style=\"text-align: right;\">\n",
       "      <th></th>\n",
       "      <th>count</th>\n",
       "      <th>mean</th>\n",
       "      <th>std</th>\n",
       "      <th>min</th>\n",
       "      <th>25%</th>\n",
       "      <th>50%</th>\n",
       "      <th>75%</th>\n",
       "      <th>max</th>\n",
       "    </tr>\n",
       "  </thead>\n",
       "  <tbody>\n",
       "    <tr>\n",
       "      <th>credit_score</th>\n",
       "      <td>10000.0</td>\n",
       "      <td>650.528800</td>\n",
       "      <td>96.653299</td>\n",
       "      <td>350.00</td>\n",
       "      <td>584.00</td>\n",
       "      <td>652.000</td>\n",
       "      <td>718.0000</td>\n",
       "      <td>850.00</td>\n",
       "    </tr>\n",
       "    <tr>\n",
       "      <th>age</th>\n",
       "      <td>10000.0</td>\n",
       "      <td>38.921800</td>\n",
       "      <td>10.487806</td>\n",
       "      <td>18.00</td>\n",
       "      <td>32.00</td>\n",
       "      <td>37.000</td>\n",
       "      <td>44.0000</td>\n",
       "      <td>92.00</td>\n",
       "    </tr>\n",
       "    <tr>\n",
       "      <th>tenure</th>\n",
       "      <td>10000.0</td>\n",
       "      <td>4.937100</td>\n",
       "      <td>2.898963</td>\n",
       "      <td>0.00</td>\n",
       "      <td>2.00</td>\n",
       "      <td>5.000</td>\n",
       "      <td>7.0000</td>\n",
       "      <td>10.00</td>\n",
       "    </tr>\n",
       "    <tr>\n",
       "      <th>balance</th>\n",
       "      <td>10000.0</td>\n",
       "      <td>76485.889288</td>\n",
       "      <td>62397.405202</td>\n",
       "      <td>0.00</td>\n",
       "      <td>0.00</td>\n",
       "      <td>97198.540</td>\n",
       "      <td>127644.2400</td>\n",
       "      <td>250898.09</td>\n",
       "    </tr>\n",
       "    <tr>\n",
       "      <th>num_of_products</th>\n",
       "      <td>10000.0</td>\n",
       "      <td>1.530200</td>\n",
       "      <td>0.581654</td>\n",
       "      <td>1.00</td>\n",
       "      <td>1.00</td>\n",
       "      <td>1.000</td>\n",
       "      <td>2.0000</td>\n",
       "      <td>4.00</td>\n",
       "    </tr>\n",
       "    <tr>\n",
       "      <th>has_crcard</th>\n",
       "      <td>10000.0</td>\n",
       "      <td>0.705500</td>\n",
       "      <td>0.455840</td>\n",
       "      <td>0.00</td>\n",
       "      <td>0.00</td>\n",
       "      <td>1.000</td>\n",
       "      <td>1.0000</td>\n",
       "      <td>1.00</td>\n",
       "    </tr>\n",
       "    <tr>\n",
       "      <th>active_member</th>\n",
       "      <td>10000.0</td>\n",
       "      <td>0.515100</td>\n",
       "      <td>0.499797</td>\n",
       "      <td>0.00</td>\n",
       "      <td>0.00</td>\n",
       "      <td>1.000</td>\n",
       "      <td>1.0000</td>\n",
       "      <td>1.00</td>\n",
       "    </tr>\n",
       "    <tr>\n",
       "      <th>estimated_salary</th>\n",
       "      <td>10000.0</td>\n",
       "      <td>100090.239881</td>\n",
       "      <td>57510.492818</td>\n",
       "      <td>11.58</td>\n",
       "      <td>51002.11</td>\n",
       "      <td>100193.915</td>\n",
       "      <td>149388.2475</td>\n",
       "      <td>199992.48</td>\n",
       "    </tr>\n",
       "    <tr>\n",
       "      <th>exited</th>\n",
       "      <td>10000.0</td>\n",
       "      <td>0.203700</td>\n",
       "      <td>0.402769</td>\n",
       "      <td>0.00</td>\n",
       "      <td>0.00</td>\n",
       "      <td>0.000</td>\n",
       "      <td>0.0000</td>\n",
       "      <td>1.00</td>\n",
       "    </tr>\n",
       "  </tbody>\n",
       "</table>\n",
       "</div>"
      ],
      "text/plain": [
       "                    count           mean           std     min       25%  \\\n",
       "credit_score      10000.0     650.528800     96.653299  350.00    584.00   \n",
       "age               10000.0      38.921800     10.487806   18.00     32.00   \n",
       "tenure            10000.0       4.937100      2.898963    0.00      2.00   \n",
       "balance           10000.0   76485.889288  62397.405202    0.00      0.00   \n",
       "num_of_products   10000.0       1.530200      0.581654    1.00      1.00   \n",
       "has_crcard        10000.0       0.705500      0.455840    0.00      0.00   \n",
       "active_member     10000.0       0.515100      0.499797    0.00      0.00   \n",
       "estimated_salary  10000.0  100090.239881  57510.492818   11.58  51002.11   \n",
       "exited            10000.0       0.203700      0.402769    0.00      0.00   \n",
       "\n",
       "                         50%          75%        max  \n",
       "credit_score         652.000     718.0000     850.00  \n",
       "age                   37.000      44.0000      92.00  \n",
       "tenure                 5.000       7.0000      10.00  \n",
       "balance            97198.540  127644.2400  250898.09  \n",
       "num_of_products        1.000       2.0000       4.00  \n",
       "has_crcard             1.000       1.0000       1.00  \n",
       "active_member          1.000       1.0000       1.00  \n",
       "estimated_salary  100193.915  149388.2475  199992.48  \n",
       "exited                 0.000       0.0000       1.00  "
      ]
     },
     "execution_count": 14,
     "metadata": {},
     "output_type": "execute_result"
    }
   ],
   "source": [
    "data.describe().T"
   ]
  },
  {
   "cell_type": "code",
   "execution_count": 15,
   "metadata": {},
   "outputs": [
    {
     "data": {
      "image/png": "[encoded data removed]",
      "text/plain": [
       "<Figure size 1440x1080 with 9 Axes>"
      ]
     },
     "metadata": {
      "needs_background": "light"
     },
     "output_type": "display_data"
    }
   ],
   "source": [
    "data.hist(bins=50, figsize=(20,15));"
   ]
  },
  {
   "cell_type": "markdown",
   "metadata": {},
   "source": [
    "Аномалий в значениях или явных выбросов в данных не наблюдаем. Возраст - от 18 до 92 - вполне может быть правдой, нулевой баланс или максимальный рейтинг - тоже. Можно приступать к категориальным значениям в датасете."
   ]
  },
  {
   "cell_type": "markdown",
   "metadata": {},
   "source": [
    "### Прямое кодирование OHE"
   ]
  },
  {
   "cell_type": "code",
   "execution_count": 16,
   "metadata": {},
   "outputs": [
    {
     "name": "stdout",
     "output_type": "stream",
     "text": [
      "['France' 'Spain' 'Germany']\n",
      "['Female' 'Male']\n"
     ]
    }
   ],
   "source": [
    "# посмотрим уникальные значения столбцов geography и gender\n",
    "print(data['geography'].unique())\n",
    "print(data['gender'].unique())"
   ]
  },
  {
   "cell_type": "markdown",
   "metadata": {},
   "source": [
    "Чтобы использовать модели Дерево решений, Случайный лес и Логистическая регрессия, нужно категориальные данные преобразовать в числовые с помощью техники прямого кодирования OHE, при этом удалив один столбец, чтобы не попасть в дамми-ловушку."
   ]
  },
  {
   "cell_type": "code",
   "execution_count": 17,
   "metadata": {},
   "outputs": [],
   "source": [
    "data_ohe = pd.get_dummies(data, drop_first=True)"
   ]
  },
  {
   "cell_type": "code",
   "execution_count": 18,
   "metadata": {},
   "outputs": [
    {
     "data": {
      "text/html": [
       "<div>\n",
       "<style scoped>\n",
       "    .dataframe tbody tr th:only-of-type {\n",
       "        vertical-align: middle;\n",
       "    }\n",
       "\n",
       "    .dataframe tbody tr th {\n",
       "        vertical-align: top;\n",
       "    }\n",
       "\n",
       "    .dataframe thead th {\n",
       "        text-align: right;\n",
       "    }\n",
       "</style>\n",
       "<table border=\"1\" class=\"dataframe\">\n",
       "  <thead>\n",
       "    <tr style=\"text-align: right;\">\n",
       "      <th></th>\n",
       "      <th>credit_score</th>\n",
       "      <th>age</th>\n",
       "      <th>tenure</th>\n",
       "      <th>balance</th>\n",
       "      <th>num_of_products</th>\n",
       "      <th>has_crcard</th>\n",
       "      <th>active_member</th>\n",
       "      <th>estimated_salary</th>\n",
       "      <th>exited</th>\n",
       "      <th>geography_Germany</th>\n",
       "      <th>geography_Spain</th>\n",
       "      <th>gender_Male</th>\n",
       "    </tr>\n",
       "  </thead>\n",
       "  <tbody>\n",
       "    <tr>\n",
       "      <th>0</th>\n",
       "      <td>619</td>\n",
       "      <td>42</td>\n",
       "      <td>2.0</td>\n",
       "      <td>0.00</td>\n",
       "      <td>1</td>\n",
       "      <td>1</td>\n",
       "      <td>1</td>\n",
       "      <td>101348.88</td>\n",
       "      <td>1</td>\n",
       "      <td>0</td>\n",
       "      <td>0</td>\n",
       "      <td>0</td>\n",
       "    </tr>\n",
       "    <tr>\n",
       "      <th>1</th>\n",
       "      <td>608</td>\n",
       "      <td>41</td>\n",
       "      <td>1.0</td>\n",
       "      <td>83807.86</td>\n",
       "      <td>1</td>\n",
       "      <td>0</td>\n",
       "      <td>1</td>\n",
       "      <td>112542.58</td>\n",
       "      <td>0</td>\n",
       "      <td>0</td>\n",
       "      <td>1</td>\n",
       "      <td>0</td>\n",
       "    </tr>\n",
       "    <tr>\n",
       "      <th>2</th>\n",
       "      <td>502</td>\n",
       "      <td>42</td>\n",
       "      <td>8.0</td>\n",
       "      <td>159660.80</td>\n",
       "      <td>3</td>\n",
       "      <td>1</td>\n",
       "      <td>0</td>\n",
       "      <td>113931.57</td>\n",
       "      <td>1</td>\n",
       "      <td>0</td>\n",
       "      <td>0</td>\n",
       "      <td>0</td>\n",
       "    </tr>\n",
       "    <tr>\n",
       "      <th>3</th>\n",
       "      <td>699</td>\n",
       "      <td>39</td>\n",
       "      <td>1.0</td>\n",
       "      <td>0.00</td>\n",
       "      <td>2</td>\n",
       "      <td>0</td>\n",
       "      <td>0</td>\n",
       "      <td>93826.63</td>\n",
       "      <td>0</td>\n",
       "      <td>0</td>\n",
       "      <td>0</td>\n",
       "      <td>0</td>\n",
       "    </tr>\n",
       "    <tr>\n",
       "      <th>4</th>\n",
       "      <td>850</td>\n",
       "      <td>43</td>\n",
       "      <td>2.0</td>\n",
       "      <td>125510.82</td>\n",
       "      <td>1</td>\n",
       "      <td>1</td>\n",
       "      <td>1</td>\n",
       "      <td>79084.10</td>\n",
       "      <td>0</td>\n",
       "      <td>0</td>\n",
       "      <td>1</td>\n",
       "      <td>0</td>\n",
       "    </tr>\n",
       "  </tbody>\n",
       "</table>\n",
       "</div>"
      ],
      "text/plain": [
       "   credit_score  age  tenure    balance  num_of_products  has_crcard  \\\n",
       "0           619   42     2.0       0.00                1           1   \n",
       "1           608   41     1.0   83807.86                1           0   \n",
       "2           502   42     8.0  159660.80                3           1   \n",
       "3           699   39     1.0       0.00                2           0   \n",
       "4           850   43     2.0  125510.82                1           1   \n",
       "\n",
       "   active_member  estimated_salary  exited  geography_Germany  \\\n",
       "0              1         101348.88       1                  0   \n",
       "1              1         112542.58       0                  0   \n",
       "2              0         113931.57       1                  0   \n",
       "3              0          93826.63       0                  0   \n",
       "4              1          79084.10       0                  0   \n",
       "\n",
       "   geography_Spain  gender_Male  \n",
       "0                0            0  \n",
       "1                1            0  \n",
       "2                0            0  \n",
       "3                0            0  \n",
       "4                1            0  "
      ]
     },
     "execution_count": 18,
     "metadata": {},
     "output_type": "execute_result"
    }
   ],
   "source": [
    "data_ohe.head()"
   ]
  },
  {
   "cell_type": "code",
   "execution_count": 19,
   "metadata": {},
   "outputs": [
    {
     "name": "stdout",
     "output_type": "stream",
     "text": [
      "<class 'pandas.core.frame.DataFrame'>\n",
      "RangeIndex: 10000 entries, 0 to 9999\n",
      "Data columns (total 12 columns):\n",
      " #   Column             Non-Null Count  Dtype  \n",
      "---  ------             --------------  -----  \n",
      " 0   credit_score       10000 non-null  int64  \n",
      " 1   age                10000 non-null  int64  \n",
      " 2   tenure             10000 non-null  float64\n",
      " 3   balance            10000 non-null  float64\n",
      " 4   num_of_products    10000 non-null  int64  \n",
      " 5   has_crcard         10000 non-null  int64  \n",
      " 6   active_member      10000 non-null  int64  \n",
      " 7   estimated_salary   10000 non-null  float64\n",
      " 8   exited             10000 non-null  int64  \n",
      " 9   geography_Germany  10000 non-null  uint8  \n",
      " 10  geography_Spain    10000 non-null  uint8  \n",
      " 11  gender_Male        10000 non-null  uint8  \n",
      "dtypes: float64(3), int64(6), uint8(3)\n",
      "memory usage: 732.5 KB\n"
     ]
    }
   ],
   "source": [
    "data_ohe.info()"
   ]
  },
  {
   "cell_type": "markdown",
   "metadata": {},
   "source": [
    "В итоге получили датасет с 12-ю столбцами, 10000 строк, без пропусков, все данные числовые. Можно делать разбивку на выборки."
   ]
  },
  {
   "cell_type": "markdown",
   "metadata": {},
   "source": [
    "### Разбитие данных на выборки"
   ]
  },
  {
   "cell_type": "markdown",
   "metadata": {},
   "source": [
    "У нас имеется один датасет с данными. Нам нужны три выборки: обучающая (для обучения модели), валидационная (для применения гиперпараметров) и тестовая (для итоговой проверки). Так как \"спрятанной\" тестовой выборки у нас нет, будем делить данные на три части в соотношении 3:1:1 (60%:20%:20%).\n",
    "\n",
    "Для начала нужно создать переменные для признаков и целевого признака из нашего датасета. Целевой признак в данном проекте - факт ухода клиента - столбец \"exited\". Значение 1 - клиент ушел, значение 0 - клиент  продолжает сотрудничать с банком. Создадим нужные нам переменные."
   ]
  },
  {
   "cell_type": "code",
   "execution_count": 20,
   "metadata": {},
   "outputs": [],
   "source": [
    "features = data_ohe.drop('exited', axis=1)\n",
    "target = data_ohe['exited']"
   ]
  },
  {
   "cell_type": "code",
   "execution_count": 21,
   "metadata": {},
   "outputs": [
    {
     "data": {
      "text/plain": [
       "0    0.7963\n",
       "1    0.2037\n",
       "Name: exited, dtype: float64"
      ]
     },
     "execution_count": 21,
     "metadata": {},
     "output_type": "execute_result"
    }
   ],
   "source": [
    "# Теперь посмотрим, как распределены значения в целевом признаке.\n",
    "target.value_counts(normalize=True)"
   ]
  },
  {
   "cell_type": "markdown",
   "metadata": {},
   "source": [
    "Значений 0 намного больше (79%), чем 1. Чтобы обеспечить одинаковую репрезентативность объектов в обучающей, валидационной и тестовой выборках, разобьем данные на выборки так, чтобы в каждой были одинаковые пропорции тарифов. Используем для этого агрумент stratify.\n",
    "\n",
    "Сперва разобьем наши данные на 2 выборки (обучающую и дополнительную) в пропорции 60% и 40%."
   ]
  },
  {
   "cell_type": "code",
   "execution_count": 22,
   "metadata": {},
   "outputs": [],
   "source": [
    "features_train, features_valid_test, target_train, target_valid_test = \\\n",
    "train_test_split(features, target, train_size=0.6, random_state=12345, stratify=target)"
   ]
  },
  {
   "cell_type": "code",
   "execution_count": 23,
   "metadata": {},
   "outputs": [
    {
     "name": "stdout",
     "output_type": "stream",
     "text": [
      "(6000, 11)\n"
     ]
    },
    {
     "data": {
      "text/plain": [
       "(4000, 11)"
      ]
     },
     "execution_count": 23,
     "metadata": {},
     "output_type": "execute_result"
    }
   ],
   "source": [
    "# проверим размеры\n",
    "print(features_train.shape)\n",
    "features_valid_test.shape"
   ]
  },
  {
   "cell_type": "code",
   "execution_count": 24,
   "metadata": {},
   "outputs": [
    {
     "data": {
      "text/plain": [
       "0    0.796333\n",
       "1    0.203667\n",
       "Name: exited, dtype: float64"
      ]
     },
     "execution_count": 24,
     "metadata": {},
     "output_type": "execute_result"
    }
   ],
   "source": [
    "# проверим соотношение классов в обучающей выборке\n",
    "target_train.value_counts(normalize=True)"
   ]
  },
  {
   "cell_type": "markdown",
   "metadata": {},
   "source": [
    "Теперь разделим меньшую (дополнительную) выборку еще на 2 части пополам, так мы получим валидационную и тестовую выборки."
   ]
  },
  {
   "cell_type": "code",
   "execution_count": 25,
   "metadata": {},
   "outputs": [],
   "source": [
    "features_valid, features_test, target_valid, target_test = \\\n",
    "train_test_split(features_valid_test, target_valid_test, test_size=0.5, random_state=12345, \\\n",
    "                 stratify=target_valid_test)"
   ]
  },
  {
   "cell_type": "code",
   "execution_count": 26,
   "metadata": {},
   "outputs": [
    {
     "name": "stdout",
     "output_type": "stream",
     "text": [
      "(2000, 11)\n"
     ]
    },
    {
     "data": {
      "text/plain": [
       "(2000, 11)"
      ]
     },
     "execution_count": 26,
     "metadata": {},
     "output_type": "execute_result"
    }
   ],
   "source": [
    "# проверим размеры\n",
    "print(features_valid.shape)\n",
    "features_test.shape"
   ]
  },
  {
   "cell_type": "code",
   "execution_count": 27,
   "metadata": {},
   "outputs": [
    {
     "name": "stdout",
     "output_type": "stream",
     "text": [
      "0    0.796\n",
      "1    0.204\n",
      "Name: exited, dtype: float64\n"
     ]
    },
    {
     "data": {
      "text/plain": [
       "0    0.7965\n",
       "1    0.2035\n",
       "Name: exited, dtype: float64"
      ]
     },
     "execution_count": 27,
     "metadata": {},
     "output_type": "execute_result"
    }
   ],
   "source": [
    "# проверим соотношение классов в валидационной и тестовой выборках\n",
    "print(target_valid.value_counts(normalize=True))\n",
    "target_test.value_counts(normalize=True)"
   ]
  },
  {
   "cell_type": "markdown",
   "metadata": {},
   "source": [
    "Итог: имеем 3 разные выборки с пропорциональным разбиением классов в целевом признаке, для каждой выборки создали переменные с признаками и целевым признаком."
   ]
  },
  {
   "cell_type": "markdown",
   "metadata": {},
   "source": [
    "### Масштабирование признаков"
   ]
  },
  {
   "cell_type": "markdown",
   "metadata": {},
   "source": [
    "Стандартизуем численные признаки с помощью StandardScaler."
   ]
  },
  {
   "cell_type": "code",
   "execution_count": 28,
   "metadata": {},
   "outputs": [],
   "source": [
    "# зафиксируем все численные признаки\n",
    "numeric = ['credit_score', 'age', 'tenure', 'balance', 'num_of_products', \\\n",
    "           'estimated_salary']"
   ]
  },
  {
   "cell_type": "code",
   "execution_count": 29,
   "metadata": {},
   "outputs": [
    {
     "data": {
      "text/html": [
       "<div>\n",
       "<style scoped>\n",
       "    .dataframe tbody tr th:only-of-type {\n",
       "        vertical-align: middle;\n",
       "    }\n",
       "\n",
       "    .dataframe tbody tr th {\n",
       "        vertical-align: top;\n",
       "    }\n",
       "\n",
       "    .dataframe thead th {\n",
       "        text-align: right;\n",
       "    }\n",
       "</style>\n",
       "<table border=\"1\" class=\"dataframe\">\n",
       "  <thead>\n",
       "    <tr style=\"text-align: right;\">\n",
       "      <th></th>\n",
       "      <th>credit_score</th>\n",
       "      <th>age</th>\n",
       "      <th>tenure</th>\n",
       "      <th>balance</th>\n",
       "      <th>num_of_products</th>\n",
       "      <th>has_crcard</th>\n",
       "      <th>active_member</th>\n",
       "      <th>estimated_salary</th>\n",
       "      <th>geography_Germany</th>\n",
       "      <th>geography_Spain</th>\n",
       "      <th>gender_Male</th>\n",
       "    </tr>\n",
       "  </thead>\n",
       "  <tbody>\n",
       "    <tr>\n",
       "      <th>2837</th>\n",
       "      <td>-1.040434</td>\n",
       "      <td>0.953312</td>\n",
       "      <td>0.363266</td>\n",
       "      <td>0.774657</td>\n",
       "      <td>-0.914708</td>\n",
       "      <td>0</td>\n",
       "      <td>1</td>\n",
       "      <td>-0.119110</td>\n",
       "      <td>1</td>\n",
       "      <td>0</td>\n",
       "      <td>0</td>\n",
       "    </tr>\n",
       "    <tr>\n",
       "      <th>9925</th>\n",
       "      <td>0.454006</td>\n",
       "      <td>-0.095244</td>\n",
       "      <td>0.709508</td>\n",
       "      <td>1.910540</td>\n",
       "      <td>-0.914708</td>\n",
       "      <td>1</td>\n",
       "      <td>1</td>\n",
       "      <td>-0.258658</td>\n",
       "      <td>0</td>\n",
       "      <td>0</td>\n",
       "      <td>0</td>\n",
       "    </tr>\n",
       "    <tr>\n",
       "      <th>8746</th>\n",
       "      <td>0.103585</td>\n",
       "      <td>-0.476537</td>\n",
       "      <td>1.055750</td>\n",
       "      <td>0.481608</td>\n",
       "      <td>0.820981</td>\n",
       "      <td>0</td>\n",
       "      <td>1</td>\n",
       "      <td>1.422836</td>\n",
       "      <td>0</td>\n",
       "      <td>0</td>\n",
       "      <td>1</td>\n",
       "    </tr>\n",
       "    <tr>\n",
       "      <th>660</th>\n",
       "      <td>-0.184996</td>\n",
       "      <td>0.190726</td>\n",
       "      <td>1.401993</td>\n",
       "      <td>0.088439</td>\n",
       "      <td>-0.914708</td>\n",
       "      <td>1</td>\n",
       "      <td>1</td>\n",
       "      <td>-1.160427</td>\n",
       "      <td>1</td>\n",
       "      <td>0</td>\n",
       "      <td>0</td>\n",
       "    </tr>\n",
       "    <tr>\n",
       "      <th>3610</th>\n",
       "      <td>-0.720933</td>\n",
       "      <td>1.620574</td>\n",
       "      <td>-1.367946</td>\n",
       "      <td>0.879129</td>\n",
       "      <td>-0.914708</td>\n",
       "      <td>1</td>\n",
       "      <td>0</td>\n",
       "      <td>0.113236</td>\n",
       "      <td>0</td>\n",
       "      <td>0</td>\n",
       "      <td>0</td>\n",
       "    </tr>\n",
       "  </tbody>\n",
       "</table>\n",
       "</div>"
      ],
      "text/plain": [
       "      credit_score       age    tenure   balance  num_of_products  has_crcard  \\\n",
       "2837     -1.040434  0.953312  0.363266  0.774657        -0.914708           0   \n",
       "9925      0.454006 -0.095244  0.709508  1.910540        -0.914708           1   \n",
       "8746      0.103585 -0.476537  1.055750  0.481608         0.820981           0   \n",
       "660      -0.184996  0.190726  1.401993  0.088439        -0.914708           1   \n",
       "3610     -0.720933  1.620574 -1.367946  0.879129        -0.914708           1   \n",
       "\n",
       "      active_member  estimated_salary  geography_Germany  geography_Spain  \\\n",
       "2837              1         -0.119110                  1                0   \n",
       "9925              1         -0.258658                  0                0   \n",
       "8746              1          1.422836                  0                0   \n",
       "660               1         -1.160427                  1                0   \n",
       "3610              0          0.113236                  0                0   \n",
       "\n",
       "      gender_Male  \n",
       "2837            0  \n",
       "9925            0  \n",
       "8746            1  \n",
       "660             0  \n",
       "3610            0  "
      ]
     },
     "execution_count": 29,
     "metadata": {},
     "output_type": "execute_result"
    }
   ],
   "source": [
    "# убрать предупреждение SettingWithCopy от библиотек pandas и sklearn\n",
    "pd.options.mode.chained_assignment = None\n",
    "\n",
    "# создадим объект структуры StandardScaler и настроим его на обучающих данных\n",
    "scaler = StandardScaler()\n",
    "scaler.fit(features_train[numeric])\n",
    "\n",
    "# масштабируем численные признаки на всех выборках \n",
    "features_train[numeric] = scaler.transform(features_train[numeric])\n",
    "features_valid[numeric] = scaler.transform(features_valid[numeric])\n",
    "features_test[numeric] = scaler.transform(features_test[numeric])\n",
    "\n",
    "# проверим обучающую выборку\n",
    "features_train.head()"
   ]
  },
  {
   "cell_type": "markdown",
   "metadata": {},
   "source": [
    "### Вывод"
   ]
  },
  {
   "cell_type": "markdown",
   "metadata": {},
   "source": [
    "Мы подготовили исходный датасет к машинному обучению:\n",
    "- исправили названия ячеек\n",
    "- заполнили пропуски\n",
    "- проверили на дубликаты\n",
    "- закодировали категориальные данные\n",
    "- разбили датасет на 3 выборки\n",
    "- масштабировали численные данные"
   ]
  },
  {
   "cell_type": "markdown",
   "metadata": {},
   "source": [
    "## Исследование задачи"
   ]
  },
  {
   "cell_type": "markdown",
   "metadata": {},
   "source": [
    "### Обучение моделей "
   ]
  },
  {
   "cell_type": "markdown",
   "metadata": {},
   "source": [
    "Обучим три модели на обучающей выборке: Дерево решений, Случайный лес и Логистическая регрессия."
   ]
  },
  {
   "cell_type": "code",
   "execution_count": 30,
   "metadata": {},
   "outputs": [
    {
     "name": "stdout",
     "output_type": "stream",
     "text": [
      "F1-мера Дерева решений: 0.5278106508875741\n"
     ]
    }
   ],
   "source": [
    "# Дерево решений\n",
    "model_tree = DecisionTreeClassifier(random_state=12345)\n",
    "model_tree.fit(features_train, target_train)\n",
    "predicted_valid = model_tree.predict(features_valid)\n",
    "\n",
    "print('F1-мера Дерева решений:', f1_score(target_valid, predicted_valid))"
   ]
  },
  {
   "cell_type": "code",
   "execution_count": 31,
   "metadata": {},
   "outputs": [
    {
     "name": "stdout",
     "output_type": "stream",
     "text": [
      "F1-мера Случайного леса: 0.612184249628529\n"
     ]
    }
   ],
   "source": [
    "# Случайный лес\n",
    "model_forest = RandomForestClassifier(random_state=12345)\n",
    "model_forest.fit(features_train, target_train)\n",
    "predicted_valid = model_forest.predict(features_valid)\n",
    "\n",
    "print('F1-мера Случайного леса:', f1_score(target_valid, predicted_valid))"
   ]
  },
  {
   "cell_type": "code",
   "execution_count": 32,
   "metadata": {},
   "outputs": [
    {
     "name": "stdout",
     "output_type": "stream",
     "text": [
      "F1-мера Логистической регрессии: 0.30458715596330277\n"
     ]
    }
   ],
   "source": [
    "# Логистическая регрессия\n",
    "model_log = LogisticRegression(random_state=12345, solver='liblinear')\n",
    "model_log.fit(features_train, target_train)\n",
    "predicted_valid = model_log.predict(features_valid)\n",
    "\n",
    "print('F1-мера Логистической регрессии:', f1_score(target_valid, predicted_valid))"
   ]
  },
  {
   "cell_type": "markdown",
   "metadata": {},
   "source": [
    "Лучший показатель F1-меры дала модель Случайный лес:  0.612184249628529. Остальные модели справились хуже. \n",
    "У обучающей и валидационной выборок наблюдается заметный дисбаланс классов (примерно 80% на 20%), можно ожидать, что результаты предсказаний моделей будут сильно склоняться к одному варианту ответов."
   ]
  },
  {
   "cell_type": "markdown",
   "metadata": {},
   "source": [
    "### Проверка модели на адекватность"
   ]
  },
  {
   "cell_type": "markdown",
   "metadata": {},
   "source": [
    "Посчитаем долю ответов 0 и 1 и точность у всех моделей, а потом оценим адекватность модели с помощью константной модели."
   ]
  },
  {
   "cell_type": "code",
   "execution_count": 33,
   "metadata": {},
   "outputs": [
    {
     "name": "stdout",
     "output_type": "stream",
     "text": [
      "Доля ответов модели Дерева решений:\n",
      "0    0.7815\n",
      "1    0.2185\n",
      "dtype: float64\n",
      "Accuracy: 0.8005\n"
     ]
    },
    {
     "data": {
      "image/png": "[encoded data removed]",
      "text/plain": [
       "<Figure size 432x288 with 1 Axes>"
      ]
     },
     "metadata": {
      "needs_background": "light"
     },
     "output_type": "display_data"
    }
   ],
   "source": [
    "# Дерево решений\n",
    "model = DecisionTreeClassifier(random_state=12345)\n",
    "model.fit(features_train, target_train)\n",
    "pred = model.predict(features_valid)\n",
    "predicted_valid = pd.Series(pred)\n",
    "\n",
    "print('Доля ответов модели Дерева решений:')\n",
    "print(predicted_valid.value_counts(normalize=True))\n",
    "print('Accuracy:', accuracy_score(target_valid, pred))\n",
    "predicted_valid.value_counts(normalize=True).plot(kind='bar');"
   ]
  },
  {
   "cell_type": "code",
   "execution_count": 34,
   "metadata": {},
   "outputs": [
    {
     "name": "stdout",
     "output_type": "stream",
     "text": [
      "Доля ответов модели Случайного леса:\n",
      "0    0.8675\n",
      "1    0.1325\n",
      "dtype: float64\n",
      "Accuracy: 0.8695\n"
     ]
    },
    {
     "data": {
      "image/png": "[encoded data removed]",
      "text/plain": [
       "<Figure size 432x288 with 1 Axes>"
      ]
     },
     "metadata": {
      "needs_background": "light"
     },
     "output_type": "display_data"
    }
   ],
   "source": [
    "# Случайный лес\n",
    "model = RandomForestClassifier(random_state=12345)\n",
    "model.fit(features_train, target_train)\n",
    "pred = model.predict(features_valid)\n",
    "predicted_valid = pd.Series(pred)\n",
    "\n",
    "print('Доля ответов модели Случайного леса:')\n",
    "print(predicted_valid.value_counts(normalize=True))\n",
    "print('Accuracy:', accuracy_score(target_valid, pred))\n",
    "predicted_valid.value_counts(normalize=True).plot(kind='bar');"
   ]
  },
  {
   "cell_type": "code",
   "execution_count": 35,
   "metadata": {},
   "outputs": [
    {
     "name": "stdout",
     "output_type": "stream",
     "text": [
      "Доля ответов модели Логистической регрессии:\n",
      "0    0.9315\n",
      "1    0.0685\n",
      "dtype: float64\n",
      "Accuracy: 0.8105\n"
     ]
    },
    {
     "data": {
      "image/png": "[encoded data removed]",
      "text/plain": [
       "<Figure size 432x288 with 1 Axes>"
      ]
     },
     "metadata": {
      "needs_background": "light"
     },
     "output_type": "display_data"
    }
   ],
   "source": [
    "# Логистическая регрессия\n",
    "model = LogisticRegression(random_state=12345, solver='liblinear')\n",
    "model.fit(features_train, target_train)\n",
    "pred = model.predict(features_valid)\n",
    "predicted_valid = pd.Series(pred)\n",
    "\n",
    "print('Доля ответов модели Логистической регрессии:')\n",
    "print(predicted_valid.value_counts(normalize=True))\n",
    "print('Accuracy:', accuracy_score(target_valid, pred))\n",
    "predicted_valid.value_counts(normalize=True).plot(kind='bar');"
   ]
  },
  {
   "cell_type": "markdown",
   "metadata": {},
   "source": [
    "Самая высокую долю ответов предсказания класса 0 дала модель Логистическая регрессия, но она почти совсем не предсказывала класс 1. Самая высокая точность у модели Случайный лес: 0.8695.\n",
    "\n",
    "Проверим точность у константной модели: любому объекту она будет прогнозировать класс 0, так как это значение встречается почти в 80% случаев."
   ]
  },
  {
   "cell_type": "code",
   "execution_count": 36,
   "metadata": {},
   "outputs": [
    {
     "data": {
      "text/plain": [
       "(2000,)"
      ]
     },
     "execution_count": 36,
     "metadata": {},
     "output_type": "execute_result"
    }
   ],
   "source": [
    "target_pred_constant = pd.Series([0]*len(target_valid))\n",
    "target_pred_constant.shape"
   ]
  },
  {
   "cell_type": "code",
   "execution_count": 37,
   "metadata": {},
   "outputs": [
    {
     "name": "stdout",
     "output_type": "stream",
     "text": [
      "Точность Константной модели: 0.796\n"
     ]
    }
   ],
   "source": [
    "print('Точность Константной модели:', accuracy_score(target_valid, target_pred_constant))"
   ]
  },
  {
   "cell_type": "markdown",
   "metadata": {},
   "source": [
    "Точность константной модели такая же, как у модели Дерево решений. У других моделей точность повыше, но мы должны избавиться от дисбаланса классов, чтобы лучше обучить модель и получить более высокие результаты."
   ]
  },
  {
   "cell_type": "markdown",
   "metadata": {},
   "source": [
    "## Борьба с дисбалансом"
   ]
  },
  {
   "cell_type": "markdown",
   "metadata": {},
   "source": [
    "### Взвешивание классов"
   ]
  },
  {
   "cell_type": "markdown",
   "metadata": {},
   "source": [
    "Попробуем обучить модели с параметром class_weight='balanced' (взвешивание классов)."
   ]
  },
  {
   "cell_type": "code",
   "execution_count": 38,
   "metadata": {},
   "outputs": [
    {
     "name": "stdout",
     "output_type": "stream",
     "text": [
      "F1-мера Дерева решений: 0.520884520884521\n"
     ]
    }
   ],
   "source": [
    "# Дерево решений с параметром class_weight='balanced'\n",
    "model_tree_bal = DecisionTreeClassifier(random_state=12345, class_weight='balanced')\n",
    "model_tree_bal.fit(features_train, target_train)\n",
    "predicted_valid = model_tree_bal.predict(features_valid)\n",
    "\n",
    "print('F1-мера Дерева решений:', f1_score(target_valid, predicted_valid))"
   ]
  },
  {
   "cell_type": "markdown",
   "metadata": {},
   "source": [
    "С параметром взвешивания классов метрика F1-мера чуть уменьшилась (было 0.5278)."
   ]
  },
  {
   "cell_type": "code",
   "execution_count": 39,
   "metadata": {},
   "outputs": [
    {
     "name": "stdout",
     "output_type": "stream",
     "text": [
      "F1-мера Случайного леса: 0.5809379727685325\n"
     ]
    }
   ],
   "source": [
    "# Случайный лес с параметром class_weight='balanced'\n",
    "model_forest_bal = RandomForestClassifier(random_state=12345, class_weight='balanced')\n",
    "model_forest_bal.fit(features_train, target_train)\n",
    "predicted_valid = model_forest_bal.predict(features_valid)\n",
    "\n",
    "print('F1-мера Случайного леса:', f1_score(target_valid, predicted_valid))"
   ]
  },
  {
   "cell_type": "markdown",
   "metadata": {},
   "source": [
    "Показатель F1-мера ухудшился (было 0.6121). Сейчас мы не будем подбирать гиперпараметры, мы вернемся к этому после того, как исправим проблему дисбаланса."
   ]
  },
  {
   "cell_type": "code",
   "execution_count": 40,
   "metadata": {},
   "outputs": [
    {
     "name": "stdout",
     "output_type": "stream",
     "text": [
      "F1-мера Логистической регрессии: 0.5288966725043783\n"
     ]
    }
   ],
   "source": [
    "# Логистическая регрессия с параметром class_weight='balanced'\n",
    "model_log_bal = LogisticRegression(random_state=12345, solver='liblinear', class_weight='balanced')\n",
    "model_log_bal.fit(features_train, target_train)\n",
    "predicted_valid = model_log_bal.predict(features_valid)\n",
    "\n",
    "print('F1-мера Логистической регрессии:', f1_score(target_valid, predicted_valid))"
   ]
  },
  {
   "cell_type": "markdown",
   "metadata": {},
   "source": [
    "F1-мера значительно увеличилась (было 0.3046), но все равно это ниже, чем у модели Случайный лес. Не будеи мспользовать этот параметр при обучении модели."
   ]
  },
  {
   "cell_type": "markdown",
   "metadata": {},
   "source": [
    "### Увеличение выборки"
   ]
  },
  {
   "cell_type": "markdown",
   "metadata": {},
   "source": [
    "В нашей выборке ответов класса 1 в 4 раза меньше, чем ответов класса 0 (20% и 80%). Чтобы достичь баланса классов, можно увеличить количество положительных ответов в 4 раза.\n",
    "\n",
    "Для этого нужно: \n",
    "- разделить обучающую выборку на отрицательные и положительные объекты\n",
    "- скопировать 4 раза положительные объекты\n",
    "- с учётом полученных данных создать новую обучающую выборку\n",
    "- перемешать данные\n",
    "- и заново обучить модели на новых сбалансированных выборках\n"
   ]
  },
  {
   "cell_type": "code",
   "execution_count": 41,
   "metadata": {},
   "outputs": [],
   "source": [
    "# разделим выборку на 0 и 1 ответы\n",
    "features_zeros = features_train[target_train == 0]\n",
    "features_ones = features_train[target_train == 1]\n",
    "target_zeros = target_train[target_train == 0]\n",
    "target_ones = target_train[target_train == 1]"
   ]
  },
  {
   "cell_type": "code",
   "execution_count": 42,
   "metadata": {},
   "outputs": [
    {
     "name": "stdout",
     "output_type": "stream",
     "text": [
      "(4778, 11)\n",
      "(1222, 11)\n"
     ]
    }
   ],
   "source": [
    "print(features_zeros.shape)\n",
    "print(features_ones.shape)"
   ]
  },
  {
   "cell_type": "code",
   "execution_count": 43,
   "metadata": {},
   "outputs": [],
   "source": [
    "# увеличим в 4 раза положительные ответы в выборках\n",
    "repeat = 4\n",
    "features_upsampled = pd.concat([features_zeros] + [features_ones] * repeat)\n",
    "target_upsampled = pd.concat([target_zeros] + [target_ones] * repeat)"
   ]
  },
  {
   "cell_type": "code",
   "execution_count": 44,
   "metadata": {},
   "outputs": [
    {
     "name": "stdout",
     "output_type": "stream",
     "text": [
      "(9666, 11)\n",
      "(9666,)\n"
     ]
    }
   ],
   "source": [
    "print(features_upsampled.shape)\n",
    "print(target_upsampled.shape)"
   ]
  },
  {
   "cell_type": "code",
   "execution_count": 45,
   "metadata": {},
   "outputs": [],
   "source": [
    "# перемешаем данные в выборках\n",
    "features_upsampled, target_upsampled = shuffle(features_upsampled, target_upsampled, \\\n",
    "                                               random_state=12345)"
   ]
  },
  {
   "cell_type": "code",
   "execution_count": 46,
   "metadata": {},
   "outputs": [
    {
     "name": "stdout",
     "output_type": "stream",
     "text": [
      "1    0.50569\n",
      "0    0.49431\n",
      "Name: exited, dtype: float64\n"
     ]
    },
    {
     "data": {
      "image/png": "[encoded data removed]",
      "text/plain": [
       "<Figure size 432x288 with 1 Axes>"
      ]
     },
     "metadata": {
      "needs_background": "light"
     },
     "output_type": "display_data"
    }
   ],
   "source": [
    "# проверим долю классов в целевом признаке\n",
    "print(target_upsampled.value_counts(normalize = 1))\n",
    "target_upsampled.plot(kind ='hist', bins=3);"
   ]
  },
  {
   "cell_type": "markdown",
   "metadata": {},
   "source": [
    "Получили сбалансированные выборки по количеству положительных и отрицательных классов, можно заново обучать модели."
   ]
  },
  {
   "cell_type": "markdown",
   "metadata": {},
   "source": [
    "### Обучение моделей на увеличенной выборке"
   ]
  },
  {
   "cell_type": "code",
   "execution_count": 48,
   "metadata": {},
   "outputs": [
    {
     "name": "stdout",
     "output_type": "stream",
     "text": [
      "F1-мера с дисбалансом: 0.5278106508875741\n",
      "F1-мера Дерева решений: 0.5408038976857491\n"
     ]
    }
   ],
   "source": [
    "# Дерево решений\n",
    "model_tree_up = DecisionTreeClassifier(random_state=12345)\n",
    "model_tree_up.fit(features_upsampled, target_upsampled)\n",
    "predicted_valid_tree = model_tree_up.predict(features_valid)\n",
    "\n",
    "print('F1-мера с дисбалансом: 0.5278106508875741')\n",
    "print('F1-мера Дерева решений:', f1_score(target_valid, predicted_valid_tree))"
   ]
  },
  {
   "cell_type": "code",
   "execution_count": 49,
   "metadata": {},
   "outputs": [
    {
     "name": "stdout",
     "output_type": "stream",
     "text": [
      "F1-мера с дисбалансом: 0.612184249628529\n",
      "F1-мера Случайного леса: 0.616600790513834\n"
     ]
    }
   ],
   "source": [
    "# Случайный лес\n",
    "model_forest_up = RandomForestClassifier(random_state=12345)\n",
    "model_forest_up.fit(features_upsampled, target_upsampled)\n",
    "predicted_valid_forest = model_forest_up.predict(features_valid)\n",
    "\n",
    "print('F1-мера с дисбалансом: 0.612184249628529')\n",
    "print('F1-мера Случайного леса:', f1_score(target_valid, predicted_valid_forest))"
   ]
  },
  {
   "cell_type": "code",
   "execution_count": 50,
   "metadata": {},
   "outputs": [
    {
     "name": "stdout",
     "output_type": "stream",
     "text": [
      "F1-мера с дисбалансом: 0.30458715596330277\n",
      "F1-мера Логистической регрессии: 0.5267702936096719\n"
     ]
    }
   ],
   "source": [
    "# Логистическая регрессия\n",
    "model_log_up = LogisticRegression(random_state=12345, solver='liblinear')\n",
    "model_log_up.fit(features_upsampled, target_upsampled)\n",
    "predicted_valid_log = model_log_up.predict(features_valid)\n",
    "\n",
    "print('F1-мера с дисбалансом: 0.30458715596330277')\n",
    "print('F1-мера Логистической регрессии:', f1_score(target_valid, predicted_valid_log))"
   ]
  },
  {
   "cell_type": "markdown",
   "metadata": {},
   "source": [
    "У моделей Дерево решений и Случайный лес метрика чуть увеличилась. У модели Логистическая регрессия F1-мера получилась близка к метрике при обучении с параметром взвешенного класса class_weight='balanced'.\n",
    "\n",
    "Посмотрим также другие метрики качества."
   ]
  },
  {
   "cell_type": "code",
   "execution_count": 51,
   "metadata": {},
   "outputs": [],
   "source": [
    "# функция для вывода всех метрик одновременно\n",
    "def metric(target_valid, prediction):\n",
    "    print(\"Полнота:\" , recall_score(target_valid, prediction))\n",
    "    print(\"Точность:\", precision_score(target_valid, prediction))\n",
    "    print(\"F1-мера:\", f1_score(target_valid, prediction))\n",
    "    print(\"AUC-ROC:\", roc_auc_score(target_valid, prediction))"
   ]
  },
  {
   "cell_type": "code",
   "execution_count": 52,
   "metadata": {},
   "outputs": [
    {
     "name": "stdout",
     "output_type": "stream",
     "text": [
      "Полнота: 0.5441176470588235\n",
      "Точность: 0.5375302663438256\n",
      "F1-мера: 0.5408038976857491\n",
      "AUC-ROC: 0.7120713863434821\n"
     ]
    }
   ],
   "source": [
    "# Дерево решений\n",
    "model_tree_up = DecisionTreeClassifier(random_state=12345)\n",
    "model_tree_up.fit(features_upsampled, target_upsampled)\n",
    "predicted_valid_tree = model_tree_up.predict(features_valid)\n",
    "metric(target_valid, predicted_valid_tree)"
   ]
  },
  {
   "cell_type": "code",
   "execution_count": 53,
   "metadata": {},
   "outputs": [
    {
     "name": "stdout",
     "output_type": "stream",
     "text": [
      "Полнота: 0.5735294117647058\n",
      "Точность: 0.6666666666666666\n",
      "F1-мера: 0.616600790513834\n",
      "AUC-ROC: 0.750018474726574\n"
     ]
    }
   ],
   "source": [
    "# Случайный лес\n",
    "model_forest_up = RandomForestClassifier(random_state=12345)\n",
    "model_forest_up.fit(features_upsampled, target_upsampled)\n",
    "predicted_valid_forest = model_forest_up.predict(features_valid)\n",
    "metric(target_valid, predicted_valid_forest)"
   ]
  },
  {
   "cell_type": "code",
   "execution_count": 54,
   "metadata": {},
   "outputs": [
    {
     "name": "stdout",
     "output_type": "stream",
     "text": [
      "Полнота: 0.7475490196078431\n",
      "Точность: 0.4066666666666667\n",
      "F1-мера: 0.5267702936096719\n",
      "AUC-ROC: 0.7340132032712584\n"
     ]
    }
   ],
   "source": [
    "# Логистическая регрессия\n",
    "model_log_up = LogisticRegression(random_state=12345, solver='liblinear')\n",
    "model_log_up.fit(features_upsampled, target_upsampled)\n",
    "predicted_valid_log = model_log_up.predict(features_valid)\n",
    "metric(target_valid, predicted_valid_log)"
   ]
  },
  {
   "cell_type": "markdown",
   "metadata": {},
   "source": [
    "Самые лучшие показатели F1-меры и AUC-ROC у модели Случайный лес. F1-мера этой модели: 0.617, это значение уже выше минимального порога в 0,59. Эту модель и будем обучать, подбирая гиперпараметры количество деревьев (до 100) и глубина дерева (до 10) в модели. Попробуем другой способ борьбы с дисбалансом классов - уменьшение выборки."
   ]
  },
  {
   "cell_type": "markdown",
   "metadata": {},
   "source": [
    "### Уменьшение выборки"
   ]
  },
  {
   "cell_type": "markdown",
   "metadata": {},
   "source": [
    "Уменьшим выборку с негативными ответами, чтобы избавиться от дисбаланса классов.\n",
    "\n",
    "Для этого нужно:\n",
    "- разделить обучающую выборку на отрицательные и положительные объекты\n",
    "- случайным образом отбросить часть из отрицательных объектов\n",
    "- с учётом полученных данных создать новую обучающую выборку\n",
    "- перемешать данные\n",
    "- заново обучить модели на новой выборке"
   ]
  },
  {
   "cell_type": "code",
   "execution_count": 55,
   "metadata": {},
   "outputs": [],
   "source": [
    "# разделили выборку на 0 и 1\n",
    "features_zeros = features[target == 0]\n",
    "features_ones = features[target == 1]\n",
    "target_zeros = target[target == 0]\n",
    "target_ones = target[target == 1]"
   ]
  },
  {
   "cell_type": "code",
   "execution_count": 56,
   "metadata": {},
   "outputs": [],
   "source": [
    "# удалили часть отрицательных ответов\n",
    "features_downsampled = pd.concat([features_zeros.sample(frac=0.26, random_state=12345)] \\\n",
    "                                 + [features_ones])\n",
    "target_downsampled = pd.concat([target_zeros.sample(frac=0.26, random_state=12345)] + \\\n",
    "                               [target_ones])"
   ]
  },
  {
   "cell_type": "code",
   "execution_count": 57,
   "metadata": {},
   "outputs": [],
   "source": [
    "# перемешали данные\n",
    "features_downsampled, target_downsampled = shuffle(features_downsampled, target_downsampled, \\\n",
    "                                                   random_state=12345)"
   ]
  },
  {
   "cell_type": "code",
   "execution_count": 58,
   "metadata": {},
   "outputs": [
    {
     "name": "stdout",
     "output_type": "stream",
     "text": [
      "(4107, 11)\n",
      "(4107,)\n"
     ]
    }
   ],
   "source": [
    "print(features_downsampled.shape)\n",
    "print(target_downsampled.shape)"
   ]
  },
  {
   "cell_type": "code",
   "execution_count": 59,
   "metadata": {},
   "outputs": [
    {
     "name": "stdout",
     "output_type": "stream",
     "text": [
      "0    0.504018\n",
      "1    0.495982\n",
      "Name: exited, dtype: float64\n"
     ]
    },
    {
     "data": {
      "image/png": "[encoded data removed]",
      "text/plain": [
       "<Figure size 432x288 with 1 Axes>"
      ]
     },
     "metadata": {
      "needs_background": "light"
     },
     "output_type": "display_data"
    }
   ],
   "source": [
    "# проверим долю классов в целевом признаке\n",
    "print(target_downsampled.value_counts(normalize = 1))\n",
    "target_downsampled.plot(kind ='hist', bins=3);"
   ]
  },
  {
   "cell_type": "markdown",
   "metadata": {},
   "source": [
    "Получили сбалансированные выборки по количеству положительных и отрицательных классов, можно заново обучать модели."
   ]
  },
  {
   "cell_type": "markdown",
   "metadata": {},
   "source": [
    "### Обучение моделей на уменьшенной выборке"
   ]
  },
  {
   "cell_type": "code",
   "execution_count": 61,
   "metadata": {},
   "outputs": [
    {
     "name": "stdout",
     "output_type": "stream",
     "text": [
      "F1-мера с дисбалансом: 0.5278106508875741\n",
      "F1-мера Дерева решений: 0.29526704298740775\n"
     ]
    }
   ],
   "source": [
    "# Дерево решений\n",
    "model_tree_up = DecisionTreeClassifier(random_state=12345)\n",
    "model_tree_up.fit(features_downsampled, target_downsampled)\n",
    "predicted_valid_tree = model_tree_up.predict(features_valid)\n",
    "\n",
    "print('F1-мера с дисбалансом: 0.5278106508875741')\n",
    "print('F1-мера Дерева решений:', f1_score(target_valid, predicted_valid_tree))"
   ]
  },
  {
   "cell_type": "code",
   "execution_count": 62,
   "metadata": {},
   "outputs": [
    {
     "name": "stdout",
     "output_type": "stream",
     "text": [
      "F1-мера с дисбалансом: 0.612184249628529\n",
      "F1-мера Случайного леса: 0.23882783882783884\n"
     ]
    }
   ],
   "source": [
    "# Случайный лес\n",
    "model_forest_up = RandomForestClassifier(random_state=12345)\n",
    "model_forest_up.fit(features_downsampled, target_downsampled)\n",
    "predicted_valid_forest = model_forest_up.predict(features_valid)\n",
    "\n",
    "print('F1-мера с дисбалансом: 0.612184249628529')\n",
    "print('F1-мера Случайного леса:', f1_score(target_valid, predicted_valid_forest))"
   ]
  },
  {
   "cell_type": "code",
   "execution_count": 63,
   "metadata": {},
   "outputs": [
    {
     "name": "stdout",
     "output_type": "stream",
     "text": [
      "F1-мера с дисбалансом: 0.30458715596330277\n",
      "F1-мера Логистической регрессии: 0.49395161290322587\n"
     ]
    }
   ],
   "source": [
    "# Логистическая регрессия\n",
    "model_log_up = LogisticRegression(random_state=12345, solver='liblinear')\n",
    "model_log_up.fit(features_downsampled, target_downsampled)\n",
    "predicted_valid_log = model_log_up.predict(features_valid)\n",
    "\n",
    "print('F1-мера с дисбалансом: 0.30458715596330277')\n",
    "print('F1-мера Логистической регрессии:', f1_score(target_valid, predicted_valid_log))"
   ]
  },
  {
   "cell_type": "markdown",
   "metadata": {},
   "source": [
    "С уменьшением выборки показатель F1-мера сильно упал у Дерева решений и Случайного леса. В Логистической регрессии увеличился, но все равно меньше, чем при увеличении выборки. Дальше обученные модели по этой выборке рассматривать не будем."
   ]
  },
  {
   "cell_type": "markdown",
   "metadata": {},
   "source": [
    "### Порог классификации"
   ]
  },
  {
   "cell_type": "markdown",
   "metadata": {},
   "source": [
    "Для удобства близость к классам переведём в вероятность классов: модель пытается оценить, насколько вероятен тот или иной класс. У нас всего два класса (0 и 1). Нам достаточно вероятности класса «1». Число будет от нуля до единицы: если больше 0.5 — объект положительный, меньше — отрицательный.\n",
    "\n",
    "Граница, где заканчивается отрицательный класс и начинается положительный, называется порогом. По умолчанию он равен 0.5. Попробуем его изменить и найти точность, полноту и F1-меру для каждого значения порога."
   ]
  },
  {
   "cell_type": "code",
   "execution_count": 64,
   "metadata": {},
   "outputs": [
    {
     "name": "stdout",
     "output_type": "stream",
     "text": [
      "Порог = 0.00 | Точность = 0.510, Полнота = 0.547, F1-мера = 0.528\n",
      "Порог = 0.05 | Точность = 0.510, Полнота = 0.547, F1-мера = 0.528\n",
      "Порог = 0.10 | Точность = 0.510, Полнота = 0.547, F1-мера = 0.528\n",
      "Порог = 0.15 | Точность = 0.510, Полнота = 0.547, F1-мера = 0.528\n",
      "Порог = 0.20 | Точность = 0.510, Полнота = 0.547, F1-мера = 0.528\n",
      "Порог = 0.25 | Точность = 0.510, Полнота = 0.547, F1-мера = 0.528\n",
      "Порог = 0.30 | Точность = 0.510, Полнота = 0.547, F1-мера = 0.528\n",
      "Порог = 0.35 | Точность = 0.510, Полнота = 0.547, F1-мера = 0.528\n",
      "Порог = 0.40 | Точность = 0.510, Полнота = 0.547, F1-мера = 0.528\n",
      "Порог = 0.45 | Точность = 0.510, Полнота = 0.547, F1-мера = 0.528\n",
      "Порог = 0.50 | Точность = 0.510, Полнота = 0.547, F1-мера = 0.528\n",
      "Порог = 0.55 | Точность = 0.510, Полнота = 0.547, F1-мера = 0.528\n",
      "Порог = 0.60 | Точность = 0.510, Полнота = 0.547, F1-мера = 0.528\n",
      "Порог = 0.65 | Точность = 0.510, Полнота = 0.547, F1-мера = 0.528\n",
      "Порог = 0.70 | Точность = 0.510, Полнота = 0.547, F1-мера = 0.528\n",
      "Порог = 0.75 | Точность = 0.510, Полнота = 0.547, F1-мера = 0.528\n",
      "Порог = 0.80 | Точность = 0.510, Полнота = 0.547, F1-мера = 0.528\n",
      "Порог = 0.85 | Точность = 0.510, Полнота = 0.547, F1-мера = 0.528\n",
      "Порог = 0.90 | Точность = 0.510, Полнота = 0.547, F1-мера = 0.528\n",
      "Порог = 0.95 | Точность = 0.510, Полнота = 0.547, F1-мера = 0.528\n"
     ]
    }
   ],
   "source": [
    "# Дерево решений\n",
    "model = DecisionTreeClassifier(random_state=12345)\n",
    "model.fit(features_train, target_train)\n",
    "\n",
    "probabilities_valid = model.predict_proba(features_valid)\n",
    "probabilities_one_valid = probabilities_valid[:, 1]\n",
    "\n",
    "for threshold in np.arange(0, 0.96, 0.05):\n",
    "    predicted_valid = probabilities_one_valid > threshold\n",
    "    precision = precision_score(target_valid, predicted_valid)\n",
    "    recall = recall_score(target_valid, predicted_valid)\n",
    "    f1 = f1_score(target_valid, predicted_valid)\n",
    "\n",
    "    print(\"Порог = {:.2f} | Точность = {:.3f}, Полнота = {:.3f}, F1-мера = {:.3f}\".format(\n",
    "        threshold, precision, recall, f1))"
   ]
  },
  {
   "cell_type": "code",
   "execution_count": 65,
   "metadata": {},
   "outputs": [
    {
     "data": {
      "image/png": "[encoded data removed]",
      "text/plain": [
       "<Figure size 360x360 with 1 Axes>"
      ]
     },
     "metadata": {
      "needs_background": "light"
     },
     "output_type": "display_data"
    }
   ],
   "source": [
    "precision, recall, thresholds = precision_recall_curve(target_valid, probabilities_valid[:, 1])    \n",
    "plt.figure(figsize=(5, 5))\n",
    "plt.step(recall, precision, where='post')\n",
    "plt.xlabel('Recall')\n",
    "plt.ylabel('Precision')\n",
    "plt.ylim([0.0, 1.05])\n",
    "plt.xlim([0.0, 1.0])\n",
    "plt.title('PR curve')\n",
    "plt.show()"
   ]
  },
  {
   "cell_type": "markdown",
   "metadata": {},
   "source": [
    "В модели Дерево решений при изменении порога метрики не изменились и они достаточно низкие."
   ]
  },
  {
   "cell_type": "code",
   "execution_count": 66,
   "metadata": {
    "scrolled": true
   },
   "outputs": [
    {
     "name": "stdout",
     "output_type": "stream",
     "text": [
      "Порог = 0.00 | Точность = 0.214, Полнота = 0.995, F1-мера = 0.353\n",
      "Порог = 0.05 | Точность = 0.279, Полнота = 0.944, F1-мера = 0.431\n",
      "Порог = 0.10 | Точность = 0.348, Полнота = 0.892, F1-мера = 0.501\n",
      "Порог = 0.15 | Точность = 0.420, Полнота = 0.838, F1-мера = 0.559\n",
      "Порог = 0.20 | Точность = 0.477, Полнота = 0.789, F1-мера = 0.595\n",
      "Порог = 0.25 | Точность = 0.533, Полнота = 0.735, F1-мера = 0.618\n",
      "Порог = 0.30 | Точность = 0.587, Полнота = 0.694, F1-мера = 0.636\n",
      "Порог = 0.35 | Точность = 0.650, Полнота = 0.650, F1-мера = 0.650\n",
      "Порог = 0.40 | Точность = 0.697, Полнота = 0.591, F1-мера = 0.639\n",
      "Порог = 0.45 | Точность = 0.744, Полнота = 0.549, F1-мера = 0.632\n",
      "Порог = 0.50 | Точность = 0.777, Полнота = 0.505, F1-мера = 0.612\n",
      "Порог = 0.55 | Точность = 0.800, Полнота = 0.461, F1-мера = 0.585\n",
      "Порог = 0.60 | Точность = 0.823, Полнота = 0.422, F1-мера = 0.558\n",
      "Порог = 0.65 | Точность = 0.832, Полнота = 0.402, F1-мера = 0.542\n",
      "Порог = 0.70 | Точность = 0.842, Полнота = 0.365, F1-мера = 0.509\n",
      "Порог = 0.75 | Точность = 0.868, Полнота = 0.306, F1-мера = 0.453\n",
      "Порог = 0.80 | Точность = 0.879, Полнота = 0.250, F1-мера = 0.389\n",
      "Порог = 0.85 | Точность = 0.930, Полнота = 0.162, F1-мера = 0.276\n",
      "Порог = 0.90 | Точность = 1.000, Полнота = 0.069, F1-мера = 0.128\n",
      "Порог = 0.95 | Точность = 1.000, Полнота = 0.005, F1-мера = 0.010\n"
     ]
    }
   ],
   "source": [
    "# Случайный лес\n",
    "model = RandomForestClassifier(random_state=12345)\n",
    "model.fit(features_train, target_train)\n",
    "\n",
    "probabilities_valid = model.predict_proba(features_valid)\n",
    "probabilities_one_valid = probabilities_valid[:, 1]\n",
    "\n",
    "for threshold in np.arange(0, 0.96, 0.05):\n",
    "    predicted_valid = probabilities_one_valid > threshold\n",
    "    precision = precision_score(target_valid, predicted_valid)\n",
    "    recall = recall_score(target_valid, predicted_valid)\n",
    "    f1 = f1_score(target_valid, predicted_valid)\n",
    "\n",
    "    print(\"Порог = {:.2f} | Точность = {:.3f}, Полнота = {:.3f}, F1-мера = {:.3f}\".format(\n",
    "        threshold, precision, recall, f1))"
   ]
  },
  {
   "cell_type": "code",
   "execution_count": 67,
   "metadata": {},
   "outputs": [
    {
     "data": {
      "image/png": "[encoded data removed]",
      "text/plain": [
       "<Figure size 360x360 with 1 Axes>"
      ]
     },
     "metadata": {
      "needs_background": "light"
     },
     "output_type": "display_data"
    }
   ],
   "source": [
    "precision, recall, thresholds = precision_recall_curve(target_valid, probabilities_valid[:, 1])    \n",
    "plt.figure(figsize=(5, 5))\n",
    "plt.step(recall, precision, where='post')\n",
    "plt.xlabel('Recall')\n",
    "plt.ylabel('Precision')\n",
    "plt.ylim([0.0, 1.05])\n",
    "plt.xlim([0.0, 1.0])\n",
    "plt.title('PR curve')\n",
    "plt.show() "
   ]
  },
  {
   "cell_type": "markdown",
   "metadata": {},
   "source": [
    "В модели Случайный лес при пороге 0.35 метрика F1-мера достигла максимального значения 0.65. Затем начинает снижаться."
   ]
  },
  {
   "cell_type": "code",
   "execution_count": 68,
   "metadata": {},
   "outputs": [
    {
     "name": "stdout",
     "output_type": "stream",
     "text": [
      "Порог = 0.00 | Точность = 0.204, Полнота = 1.000, F1-мера = 0.339\n",
      "Порог = 0.05 | Точность = 0.226, Полнота = 0.985, F1-мера = 0.367\n",
      "Порог = 0.10 | Точность = 0.276, Полнота = 0.929, F1-мера = 0.426\n",
      "Порог = 0.15 | Точность = 0.333, Полнота = 0.836, F1-мера = 0.476\n",
      "Порог = 0.20 | Точность = 0.389, Полнота = 0.735, F1-мера = 0.508\n",
      "Порог = 0.25 | Точность = 0.434, Полнота = 0.635, F1-мера = 0.515\n",
      "Порог = 0.30 | Точность = 0.484, Полнота = 0.529, F1-мера = 0.506\n",
      "Порог = 0.35 | Точность = 0.522, Полнота = 0.414, F1-мера = 0.462\n",
      "Порог = 0.40 | Точность = 0.548, Полнота = 0.353, F1-мера = 0.429\n",
      "Порог = 0.45 | Точность = 0.546, Полнота = 0.260, F1-мера = 0.352\n",
      "Порог = 0.50 | Точность = 0.606, Полнота = 0.203, F1-мера = 0.305\n",
      "Порог = 0.55 | Точность = 0.680, Полнота = 0.172, F1-мера = 0.274\n",
      "Порог = 0.60 | Точность = 0.718, Полнота = 0.125, F1-мера = 0.213\n",
      "Порог = 0.65 | Точность = 0.636, Полнота = 0.069, F1-мера = 0.124\n",
      "Порог = 0.70 | Точность = 0.696, Полнота = 0.039, F1-мера = 0.074\n",
      "Порог = 0.75 | Точность = 0.615, Полнота = 0.020, F1-мера = 0.038\n",
      "Порог = 0.80 | Точность = 0.429, Полнота = 0.007, F1-мера = 0.014\n",
      "Порог = 0.85 | Точность = 0.000, Полнота = 0.000, F1-мера = 0.000\n",
      "Порог = 0.90 | Точность = 0.000, Полнота = 0.000, F1-мера = 0.000\n",
      "Порог = 0.95 | Точность = 0.000, Полнота = 0.000, F1-мера = 0.000\n"
     ]
    },
    {
     "name": "stderr",
     "output_type": "stream",
     "text": [
      "/opt/conda/lib/python3.9/site-packages/sklearn/metrics/_classification.py:1245: UndefinedMetricWarning: Precision is ill-defined and being set to 0.0 due to no predicted samples. Use `zero_division` parameter to control this behavior.\n",
      "  _warn_prf(average, modifier, msg_start, len(result))\n",
      "/opt/conda/lib/python3.9/site-packages/sklearn/metrics/_classification.py:1245: UndefinedMetricWarning: Precision is ill-defined and being set to 0.0 due to no predicted samples. Use `zero_division` parameter to control this behavior.\n",
      "  _warn_prf(average, modifier, msg_start, len(result))\n"
     ]
    }
   ],
   "source": [
    "# Логистическая регрессия\n",
    "model = LogisticRegression(random_state=12345, solver='liblinear')\n",
    "model.fit(features_train, target_train)\n",
    "\n",
    "probabilities_valid = model.predict_proba(features_valid)\n",
    "probabilities_one_valid = probabilities_valid[:, 1]\n",
    "\n",
    "for threshold in np.arange(0, 0.96, 0.05):\n",
    "    predicted_valid = probabilities_one_valid > threshold\n",
    "    precision = precision_score(target_valid, predicted_valid)\n",
    "    recall = recall_score(target_valid, predicted_valid)\n",
    "    f1 = f1_score(target_valid, predicted_valid)\n",
    "\n",
    "    print(\"Порог = {:.2f} | Точность = {:.3f}, Полнота = {:.3f}, F1-мера = {:.3f}\".format(\n",
    "        threshold, precision, recall, f1))"
   ]
  },
  {
   "cell_type": "code",
   "execution_count": 69,
   "metadata": {},
   "outputs": [
    {
     "data": {
      "image/png": "[encoded data removed]",
      "text/plain": [
       "<Figure size 360x360 with 1 Axes>"
      ]
     },
     "metadata": {
      "needs_background": "light"
     },
     "output_type": "display_data"
    }
   ],
   "source": [
    "precision, recall, thresholds = precision_recall_curve(target_valid, probabilities_valid[:, 1])    \n",
    "plt.figure(figsize=(5, 5))\n",
    "plt.step(recall, precision, where='post')\n",
    "plt.xlabel('Recall')\n",
    "plt.ylabel('Precision')\n",
    "plt.ylim([0.0, 1.05])\n",
    "plt.xlim([0.0, 1.0])\n",
    "plt.title('PR curve')\n",
    "plt.show()"
   ]
  },
  {
   "cell_type": "markdown",
   "metadata": {},
   "source": [
    "Для порога 0 полнота равна 1 — все ответы положительные. При пороге 0,85 модель перестает давать правильные ответы. Наибольшее значение F1-меры наблюдается при пороге 0,25."
   ]
  },
  {
   "cell_type": "markdown",
   "metadata": {},
   "source": [
    "### Финальное обучение модели"
   ]
  },
  {
   "cell_type": "markdown",
   "metadata": {},
   "source": [
    "Во время исследования всех моделей получили лучшую модель на увеличенной выборке Случайный лес. Обучим модель, перебрав гиперпараметры: максимальную глубину (до 10) и количество деревьев (до 100)."
   ]
  },
  {
   "cell_type": "code",
   "execution_count": 70,
   "metadata": {},
   "outputs": [
    {
     "name": "stdout",
     "output_type": "stream",
     "text": [
      "F1-мера наилучшей модели на валидационной выборке: 0.6586695747001091\n",
      "Лучшая модель: RandomForestClassifier(max_depth=10, n_estimators=58, random_state=12345)\n"
     ]
    }
   ],
   "source": [
    "best_model = None\n",
    "best_result = 0\n",
    "for depth in range(1, 11):\n",
    "    for est in range(1,101):\n",
    "        model = RandomForestClassifier(random_state=12345, n_estimators=est, max_depth=depth)\n",
    "        model.fit(features_upsampled, target_upsampled)\n",
    "        valid_predictions = model.predict(features_valid)\n",
    "        result = f1_score(target_valid,  valid_predictions)\n",
    "        if result > best_result:\n",
    "            best_model = model\n",
    "            best_result = result\n",
    "\n",
    "print(\"F1-мера наилучшей модели на валидационной выборке:\", best_result)\n",
    "print(\"Лучшая модель:\", best_model)"
   ]
  },
  {
   "cell_type": "markdown",
   "metadata": {},
   "source": [
    "Лучшей моделью оказался Случайный лес с 58-ю деревьями и максимальной глубиной 10. Посчитаем другие метрики и построим ROC-кривую для данной модели."
   ]
  },
  {
   "cell_type": "code",
   "execution_count": 71,
   "metadata": {
    "scrolled": false
   },
   "outputs": [
    {
     "name": "stdout",
     "output_type": "stream",
     "text": [
      "F1-мера: 0.6586695747001091\n",
      "Accuracy: 0.8435\n",
      "Полнота: 0.7401960784313726\n",
      "Точность: 0.593320235756385\n",
      "AUC-ROC: 0.869731623805301\n"
     ]
    },
    {
     "data": {
      "image/png": "[encoded data removed]",
      "text/plain": [
       "<Figure size 432x288 with 1 Axes>"
      ]
     },
     "metadata": {
      "needs_background": "light"
     },
     "output_type": "display_data"
    }
   ],
   "source": [
    "model = RandomForestClassifier(random_state=12345, n_estimators=58, max_depth=10)\n",
    "model.fit(features_upsampled, target_upsampled)\n",
    "predicted_valid = model.predict(features_valid)\n",
    "\n",
    "probabilities_valid = model.predict_proba(features_valid)\n",
    "probabilities_one_valid = probabilities_valid[:, 1]\n",
    "\n",
    "print('F1-мера:', f1_score(target_valid, predicted_valid))\n",
    "print('Accuracy:', accuracy_score(target_valid, predicted_valid))\n",
    "print('Полнота:', recall_score(target_valid, predicted_valid))\n",
    "print('Точность:', precision_score(target_valid, predicted_valid))\n",
    "print('AUC-ROC:', roc_auc_score(target_valid, probabilities_one_valid))\n",
    "\n",
    "fpr, tpr, thresholds = roc_curve(target_valid, probabilities_one_valid)\n",
    "\n",
    "plt.figure()\n",
    "plt.plot(fpr, tpr)\n",
    "plt.plot([0, 1], [0, 1], linestyle='--')\n",
    "plt.xlim([0.0, 1.0])\n",
    "plt.ylim([0.0, 1.0])\n",
    "plt.xlabel('False Positive Rate')\n",
    "plt.ylabel('True Positive Rate')\n",
    "plt.title('ROC-кривая')\n",
    "plt.show()"
   ]
  },
  {
   "cell_type": "markdown",
   "metadata": {},
   "source": [
    "Модель обучилась с такими метриками:\n",
    "- F1-мера: 0.6587\n",
    "- Accuracy: 0.8435\n",
    "- Полнота: 0.7402\n",
    "- Точность: 0.5933\n",
    "- AUC-ROC: 0.8697"
   ]
  },
  {
   "cell_type": "markdown",
   "metadata": {},
   "source": [
    " Проверим полученную модель на адекватность: сравним accuracy и AUC-ROC финальной модели с константной."
   ]
  },
  {
   "cell_type": "code",
   "execution_count": 72,
   "metadata": {},
   "outputs": [
    {
     "name": "stdout",
     "output_type": "stream",
     "text": [
      "Точность константной модели: 0.796\n",
      "Точность финальной модели: 0.8435\n"
     ]
    }
   ],
   "source": [
    "print('Точность константной модели:', accuracy_score(target_valid, target_pred_constant))\n",
    "print('Точность финальной модели:', accuracy_score(target_valid, predicted_valid))"
   ]
  },
  {
   "cell_type": "code",
   "execution_count": 73,
   "metadata": {},
   "outputs": [
    {
     "name": "stdout",
     "output_type": "stream",
     "text": [
      "AUC-ROC константной модели: 0.5\n",
      "AUC-ROC финальной модели: 0.869731623805301\n"
     ]
    }
   ],
   "source": [
    "print('AUC-ROC константной модели:', roc_auc_score(target_valid, target_pred_constant))\n",
    "print('AUC-ROC финальной модели:', roc_auc_score(target_valid, probabilities_one_valid))"
   ]
  },
  {
   "cell_type": "markdown",
   "metadata": {},
   "source": [
    "Наша финальная модель показывает результаты намного лучше, чем константная модель — модель можно считать адекватной."
   ]
  },
  {
   "cell_type": "markdown",
   "metadata": {},
   "source": [
    "### Вывод"
   ]
  },
  {
   "cell_type": "markdown",
   "metadata": {},
   "source": [
    "1. В изначальном датасете наблюдался  дисбаланс классов (80% ответов целевого признака были негативными и 20% позитивными), из-за чего обученная на этих данных модель не проходила проверку на адекватность. Самое высокое значение F1-меры было у модели Случайный лес: 0.6122.\n",
    "\n",
    "2. Устранили дисбаланс классов в обучающей выборке техникой upsampling — увеличили количество значений позитивного класса в 4 раза. На новых данных все модели показали результат выше, чем на несбалансированной выборке. Самые лучшие показатели F1-меры у модели Случайный лес: 0.6166.\n",
    "\n",
    "3. Устранение дисбаланса классов техникой downsampling не дало хороших результатов.\n",
    "\n",
    "4. Финальные параметры выбранной модели RandomForestClassifier (n_estimators = 58, max_depth = 10, random_state=12345).\n",
    "\n",
    "Метрики финальной модели:\n",
    "- F1-мера: 0.6587\n",
    "- Accuracy: 0.8435\n",
    "- Полнота: 0.7402\n",
    "- Точность: 0.5933\n",
    "- AUC-ROC: 0.8697\n",
    "\n",
    "5. Финальная модель прошла проверку на адекватность. Можно проверять модель на тестовой выборке."
   ]
  },
  {
   "cell_type": "markdown",
   "metadata": {},
   "source": [
    "## Тестирование модели"
   ]
  },
  {
   "cell_type": "markdown",
   "metadata": {},
   "source": [
    "Возьмем финальную модель Случайный лес с такими параметрами:\n",
    "- n_estimators = 58\n",
    "- max_depth = 10\n",
    "- random_state=12345 \n",
    "\n",
    "Обучим ее на увеличенной выборке и проверим на тестовой выборке."
   ]
  },
  {
   "cell_type": "code",
   "execution_count": 74,
   "metadata": {},
   "outputs": [
    {
     "name": "stdout",
     "output_type": "stream",
     "text": [
      "F1-мера: 0.6011173184357541\n",
      "Accuracy: 0.8215\n",
      "Полнота: 0.6609336609336609\n",
      "Точность: 0.5512295081967213\n",
      "AUC-ROC: 0.8498128328636803\n"
     ]
    }
   ],
   "source": [
    "model = RandomForestClassifier(random_state=12345, n_estimators=58, max_depth=10)\n",
    "model.fit(features_upsampled, target_upsampled)\n",
    "test_predictions = model.predict(features_test)\n",
    "\n",
    "probabilities_test = model.predict_proba(features_test)\n",
    "probabilities_one_test = probabilities_test[:, 1]\n",
    "\n",
    "print('F1-мера:', f1_score(target_test, test_predictions))\n",
    "print('Accuracy:', accuracy_score(target_test, test_predictions))\n",
    "print('Полнота:', recall_score(target_test, test_predictions))\n",
    "print('Точность:', precision_score(target_test, test_predictions))\n",
    "print('AUC-ROC:', roc_auc_score(target_test, probabilities_one_test))"
   ]
  },
  {
   "cell_type": "code",
   "execution_count": 75,
   "metadata": {
    "scrolled": true
   },
   "outputs": [
    {
     "data": {
      "image/png": "[encoded data removed]",
      "text/plain": [
       "<Figure size 432x288 with 1 Axes>"
      ]
     },
     "metadata": {
      "needs_background": "light"
     },
     "output_type": "display_data"
    }
   ],
   "source": [
    "fpr, tpr, thresholds = roc_curve(target_test, probabilities_one_test)\n",
    "\n",
    "plt.figure()\n",
    "plt.plot(fpr, tpr)\n",
    "plt.plot([0, 1], [0, 1], linestyle='--')\n",
    "plt.xlim([0.0, 1.0])\n",
    "plt.ylim([0.0, 1.0])\n",
    "plt.xlabel('False Positive Rate')\n",
    "plt.ylabel('True Positive Rate')\n",
    "plt.title('ROC-кривая')\n",
    "plt.show()"
   ]
  },
  {
   "cell_type": "code",
   "execution_count": 76,
   "metadata": {},
   "outputs": [
    {
     "name": "stdout",
     "output_type": "stream",
     "text": [
      "              precision    recall  f1-score   support\n",
      "\n",
      "           0       0.91      0.86      0.89      1593\n",
      "           1       0.55      0.66      0.60       407\n",
      "\n",
      "    accuracy                           0.82      2000\n",
      "   macro avg       0.73      0.76      0.74      2000\n",
      "weighted avg       0.84      0.82      0.83      2000\n",
      "\n"
     ]
    }
   ],
   "source": [
    "# классификационный отчет\n",
    "report = classification_report(target_test, test_predictions)\n",
    "print(report)"
   ]
  },
  {
   "cell_type": "markdown",
   "metadata": {},
   "source": [
    "<b>В итоге</b>\n",
    "\n",
    "Финальная модель на тестовой выборке достигла заданной метрики F1-меры > 0.59 (0.601) и показывает адекватные результаты.\n",
    "\n",
    "Модель характеризуется высоким показателем полноты (recall = 0.66), поэтому она с вероятностью 66% предскажет уход клиента из банка.\n",
    "\n",
    "Показатель точности невысокий (precision = 0.55) — модель верно предсказывает чуть больше половины точно ушедших клиентов (в данном случае важнее метрика полноты, нежели точность).\n",
    "\n",
    "Полученная модель поможет лучше определять клиентов, которые могут уйти в ближайшее время, чтобы маркетологи сформировали стратегию по удержанию клиента."
   ]
  },
  {
   "cell_type": "markdown",
   "metadata": {},
   "source": [
    "## Тестирование модели (бонус)"
   ]
  },
  {
   "cell_type": "markdown",
   "metadata": {},
   "source": [
    "Попробуем обучить нашу модель с подобранными гиперпараметрами и хорошими показателями на большой выборке (обучающая + валидационная), а тестирование новой модели произвести уже на тестовой выборке.\n",
    "\n",
    "Объединим обучающую и валидационные выборки."
   ]
  },
  {
   "cell_type": "code",
   "execution_count": 77,
   "metadata": {},
   "outputs": [],
   "source": [
    "features_train_valid = pd.concat([features_train, features_valid], axis=0)"
   ]
  },
  {
   "cell_type": "code",
   "execution_count": 78,
   "metadata": {},
   "outputs": [
    {
     "data": {
      "text/plain": [
       "(8000, 11)"
      ]
     },
     "execution_count": 78,
     "metadata": {},
     "output_type": "execute_result"
    }
   ],
   "source": [
    "# проверим размер\n",
    "features_train_valid.shape"
   ]
  },
  {
   "cell_type": "code",
   "execution_count": 79,
   "metadata": {},
   "outputs": [],
   "source": [
    "target_train_valid = pd.concat([target_train, target_valid], axis=0)"
   ]
  },
  {
   "cell_type": "code",
   "execution_count": 80,
   "metadata": {},
   "outputs": [
    {
     "data": {
      "text/plain": [
       "(8000,)"
      ]
     },
     "execution_count": 80,
     "metadata": {},
     "output_type": "execute_result"
    }
   ],
   "source": [
    "# проверим размер\n",
    "target_train_valid.shape"
   ]
  },
  {
   "cell_type": "code",
   "execution_count": 81,
   "metadata": {},
   "outputs": [
    {
     "data": {
      "text/plain": [
       "0    0.79625\n",
       "1    0.20375\n",
       "Name: exited, dtype: float64"
      ]
     },
     "execution_count": 81,
     "metadata": {},
     "output_type": "execute_result"
    }
   ],
   "source": [
    "# посмотрим доли классов\n",
    "target_train_valid.value_counts(normalize=True)"
   ]
  },
  {
   "cell_type": "markdown",
   "metadata": {},
   "source": [
    "Уберем дисбаланс классов с помощью техники upsampling, увеличив количество положительных ответов в 4 раза."
   ]
  },
  {
   "cell_type": "code",
   "execution_count": 82,
   "metadata": {},
   "outputs": [],
   "source": [
    "# разделим выборку на 0 и 1 ответы\n",
    "features_zeros_big = features_train_valid[target_train_valid == 0]\n",
    "features_ones_big = features_train_valid[target_train_valid == 1]\n",
    "target_zeros_big = target_train_valid[target_train_valid == 0]\n",
    "target_ones_big = target_train_valid[target_train_valid == 1]"
   ]
  },
  {
   "cell_type": "code",
   "execution_count": 83,
   "metadata": {},
   "outputs": [
    {
     "name": "stdout",
     "output_type": "stream",
     "text": [
      "(6370, 11)\n",
      "(1630, 11)\n"
     ]
    }
   ],
   "source": [
    "print(features_zeros_big.shape)\n",
    "print(features_ones_big.shape)"
   ]
  },
  {
   "cell_type": "code",
   "execution_count": 84,
   "metadata": {},
   "outputs": [],
   "source": [
    "# увеличим в 4 раза положительные ответы в выборках\n",
    "repeat = 4\n",
    "features_upsampled_big = pd.concat([features_zeros_big] + [features_ones_big] * repeat)\n",
    "target_upsampled_big = pd.concat([target_zeros_big] + [target_ones_big] * repeat)"
   ]
  },
  {
   "cell_type": "code",
   "execution_count": 85,
   "metadata": {},
   "outputs": [
    {
     "name": "stdout",
     "output_type": "stream",
     "text": [
      "(12890, 11)\n",
      "(12890,)\n"
     ]
    }
   ],
   "source": [
    "print(features_upsampled_big.shape)\n",
    "print(target_upsampled_big.shape)"
   ]
  },
  {
   "cell_type": "code",
   "execution_count": 86,
   "metadata": {},
   "outputs": [],
   "source": [
    "# перемешаем данные в выборках\n",
    "features_upsampled_big, target_upsampled_big = shuffle(features_upsampled_big, \\\n",
    "                                        target_upsampled_big, random_state=12345)"
   ]
  },
  {
   "cell_type": "code",
   "execution_count": 87,
   "metadata": {},
   "outputs": [
    {
     "name": "stdout",
     "output_type": "stream",
     "text": [
      "1    0.505818\n",
      "0    0.494182\n",
      "Name: exited, dtype: float64\n"
     ]
    },
    {
     "data": {
      "image/png": "[encoded data removed]",
      "text/plain": [
       "<Figure size 432x288 with 1 Axes>"
      ]
     },
     "metadata": {
      "needs_background": "light"
     },
     "output_type": "display_data"
    }
   ],
   "source": [
    "# проверим долю классов в целевом признаке\n",
    "print(target_upsampled_big.value_counts(normalize = True))\n",
    "target_upsampled_big.plot(kind ='hist', bins=3);"
   ]
  },
  {
   "cell_type": "markdown",
   "metadata": {},
   "source": [
    "Получили сбалансированные выборки по количеству положительных и отрицательных классов, можно заново обучать модель."
   ]
  },
  {
   "cell_type": "code",
   "execution_count": 88,
   "metadata": {},
   "outputs": [
    {
     "name": "stdout",
     "output_type": "stream",
     "text": [
      "F1-мера: 0.6108695652173912\n",
      "Accuracy: 0.821\n",
      "Полнота: 0.6904176904176904\n",
      "Точность: 0.5477582846003899\n",
      "AUC-ROC: 0.8558018727510254\n"
     ]
    }
   ],
   "source": [
    "model = RandomForestClassifier(random_state=12345, n_estimators=58, max_depth=10)\n",
    "model.fit(features_upsampled_big, target_upsampled_big)\n",
    "test_predictions = model.predict(features_test)\n",
    "\n",
    "probabilities_test = model.predict_proba(features_test)\n",
    "probabilities_one_test = probabilities_test[:, 1]\n",
    "\n",
    "print('F1-мера:', f1_score(target_test, test_predictions))\n",
    "print('Accuracy:', accuracy_score(target_test, test_predictions))\n",
    "print('Полнота:', recall_score(target_test, test_predictions))\n",
    "print('Точность:', precision_score(target_test, test_predictions))\n",
    "print('AUC-ROC:', roc_auc_score(target_test, probabilities_one_test))"
   ]
  },
  {
   "cell_type": "markdown",
   "metadata": {},
   "source": [
    "Показатели с предыдущего тестирования на выборке train\n",
    "- F1-мера: 0.6011173184357541\n",
    "- Accuracy: 0.8215\n",
    "- Полнота: 0.6609336609336609\n",
    "- Точность: 0.5512295081967213\n",
    "- AUC-ROC: 0.8498128328636803"
   ]
  },
  {
   "cell_type": "markdown",
   "metadata": {},
   "source": [
    "F1-мера увеличилась до 0.61 по сравнению с обучением на выборке меньшего размера. Также увеличились точность и accuracy. Остальные показатели немного уменьшились.\n",
    "\n",
    "Подобранные гиперпараметры были хороши для обучения на тренировочной выборке 60% от общего датасета. Их использование для обучения на совмещенной выборке вызвало небольшое переобучение для метрик полноты и AUC-ROC. В нашей задаче важнее метрика полноты, поэтому для бизнеса лучше использовать предыдущее обучение модели. Но для любопытства и интереса проверить стоило ) "
   ]
  },
  {
   "cell_type": "code",
   "execution_count": null,
   "metadata": {},
   "outputs": [],
   "source": []
  }
 ],
 "metadata": {
  "ExecuteTimeLog": [
   {
    "duration": 998,
    "start_time": "2022-08-15T10:28:42.782Z"
   },
   {
    "duration": 193,
    "start_time": "2022-08-15T10:29:13.960Z"
   },
   {
    "duration": 5,
    "start_time": "2022-08-15T10:32:41.835Z"
   },
   {
    "duration": 11,
    "start_time": "2022-08-15T10:34:32.861Z"
   },
   {
    "duration": 12,
    "start_time": "2022-08-15T10:34:39.481Z"
   },
   {
    "duration": 6,
    "start_time": "2022-08-15T10:45:09.713Z"
   },
   {
    "duration": 12,
    "start_time": "2022-08-15T12:05:07.070Z"
   },
   {
    "duration": 51,
    "start_time": "2022-08-15T12:05:17.190Z"
   },
   {
    "duration": 12,
    "start_time": "2022-08-15T12:05:22.141Z"
   },
   {
    "duration": 6,
    "start_time": "2022-08-15T12:06:34.178Z"
   },
   {
    "duration": 5,
    "start_time": "2022-08-15T12:07:01.041Z"
   },
   {
    "duration": 16,
    "start_time": "2022-08-15T12:10:01.386Z"
   },
   {
    "duration": 10,
    "start_time": "2022-08-15T12:10:09.271Z"
   },
   {
    "duration": 4,
    "start_time": "2022-08-15T12:17:28.167Z"
   },
   {
    "duration": 3,
    "start_time": "2022-08-15T12:17:34.025Z"
   },
   {
    "duration": 5,
    "start_time": "2022-08-15T12:18:34.367Z"
   },
   {
    "duration": 5,
    "start_time": "2022-08-15T12:32:32.826Z"
   },
   {
    "duration": 8,
    "start_time": "2022-08-15T12:37:28.083Z"
   },
   {
    "duration": 10,
    "start_time": "2022-08-15T12:39:00.554Z"
   },
   {
    "duration": 27,
    "start_time": "2022-08-15T12:46:46.998Z"
   },
   {
    "duration": 5,
    "start_time": "2022-08-15T12:49:43.222Z"
   },
   {
    "duration": 11,
    "start_time": "2022-08-15T12:49:53.080Z"
   },
   {
    "duration": 527,
    "start_time": "2022-08-15T12:51:43.224Z"
   },
   {
    "duration": 56,
    "start_time": "2022-08-15T12:51:50.585Z"
   },
   {
    "duration": 5,
    "start_time": "2022-08-15T12:51:54.049Z"
   },
   {
    "duration": 6,
    "start_time": "2022-08-15T12:55:49.284Z"
   },
   {
    "duration": 8,
    "start_time": "2022-08-15T12:56:02.485Z"
   },
   {
    "duration": 6,
    "start_time": "2022-08-15T12:56:10.912Z"
   },
   {
    "duration": 5,
    "start_time": "2022-08-15T12:56:25.348Z"
   },
   {
    "duration": 10,
    "start_time": "2022-08-15T12:56:45.053Z"
   },
   {
    "duration": 7,
    "start_time": "2022-08-15T12:57:02.578Z"
   },
   {
    "duration": 17,
    "start_time": "2022-08-15T12:58:15.394Z"
   },
   {
    "duration": 1116,
    "start_time": "2022-08-15T12:58:38.889Z"
   },
   {
    "duration": 75,
    "start_time": "2022-08-15T12:58:40.007Z"
   },
   {
    "duration": 7,
    "start_time": "2022-08-15T12:58:40.085Z"
   },
   {
    "duration": 19,
    "start_time": "2022-08-15T12:58:40.094Z"
   },
   {
    "duration": 7,
    "start_time": "2022-08-15T12:58:40.116Z"
   },
   {
    "duration": 24,
    "start_time": "2022-08-15T12:58:40.125Z"
   },
   {
    "duration": 11,
    "start_time": "2022-08-15T12:58:40.157Z"
   },
   {
    "duration": 23,
    "start_time": "2022-08-15T12:58:40.170Z"
   },
   {
    "duration": 28,
    "start_time": "2022-08-15T12:58:40.194Z"
   },
   {
    "duration": 7,
    "start_time": "2022-08-15T12:58:40.224Z"
   },
   {
    "duration": 11,
    "start_time": "2022-08-15T12:58:40.233Z"
   },
   {
    "duration": 15,
    "start_time": "2022-08-15T12:58:40.245Z"
   },
   {
    "duration": 29,
    "start_time": "2022-08-15T12:58:40.261Z"
   },
   {
    "duration": 12,
    "start_time": "2022-08-15T12:58:40.293Z"
   },
   {
    "duration": 4,
    "start_time": "2022-08-15T12:59:26.083Z"
   },
   {
    "duration": 2138,
    "start_time": "2022-08-15T13:02:22.312Z"
   },
   {
    "duration": 1809,
    "start_time": "2022-08-15T13:02:48.918Z"
   },
   {
    "duration": 4,
    "start_time": "2022-08-15T13:03:28.920Z"
   },
   {
    "duration": 1557,
    "start_time": "2022-08-15T13:03:35.552Z"
   },
   {
    "duration": 1744,
    "start_time": "2022-08-15T13:03:57.624Z"
   },
   {
    "duration": 6,
    "start_time": "2022-08-15T13:07:13.708Z"
   },
   {
    "duration": 6,
    "start_time": "2022-08-15T13:07:23.405Z"
   },
   {
    "duration": 4,
    "start_time": "2022-08-15T13:07:42.572Z"
   },
   {
    "duration": 33,
    "start_time": "2022-08-15T13:15:22.112Z"
   },
   {
    "duration": 32,
    "start_time": "2022-08-15T13:15:28.311Z"
   },
   {
    "duration": 1442,
    "start_time": "2022-08-15T13:23:33.056Z"
   },
   {
    "duration": 5,
    "start_time": "2022-08-15T13:23:40.408Z"
   },
   {
    "duration": 1281,
    "start_time": "2022-08-15T13:23:54.629Z"
   },
   {
    "duration": 61,
    "start_time": "2022-08-15T13:23:55.912Z"
   },
   {
    "duration": 3,
    "start_time": "2022-08-15T13:23:55.975Z"
   },
   {
    "duration": 13,
    "start_time": "2022-08-15T13:23:55.980Z"
   },
   {
    "duration": 8,
    "start_time": "2022-08-15T13:23:55.994Z"
   },
   {
    "duration": 22,
    "start_time": "2022-08-15T13:23:56.003Z"
   },
   {
    "duration": 4,
    "start_time": "2022-08-15T13:23:56.026Z"
   },
   {
    "duration": 12,
    "start_time": "2022-08-15T13:23:56.032Z"
   },
   {
    "duration": 16,
    "start_time": "2022-08-15T13:23:56.055Z"
   },
   {
    "duration": 6,
    "start_time": "2022-08-15T13:23:56.073Z"
   },
   {
    "duration": 6,
    "start_time": "2022-08-15T13:23:56.080Z"
   },
   {
    "duration": 33,
    "start_time": "2022-08-15T13:23:56.087Z"
   },
   {
    "duration": 1824,
    "start_time": "2022-08-15T13:23:56.122Z"
   },
   {
    "duration": 10,
    "start_time": "2022-08-15T13:23:57.947Z"
   },
   {
    "duration": 4,
    "start_time": "2022-08-15T13:24:47.108Z"
   },
   {
    "duration": 11,
    "start_time": "2022-08-15T13:26:19.176Z"
   },
   {
    "duration": 10,
    "start_time": "2022-08-15T13:26:25.338Z"
   },
   {
    "duration": 53,
    "start_time": "2022-08-16T10:02:31.000Z"
   },
   {
    "duration": 1649,
    "start_time": "2022-08-16T10:02:39.968Z"
   },
   {
    "duration": 103,
    "start_time": "2022-08-16T10:02:41.619Z"
   },
   {
    "duration": 6,
    "start_time": "2022-08-16T10:02:41.724Z"
   },
   {
    "duration": 17,
    "start_time": "2022-08-16T10:02:41.733Z"
   },
   {
    "duration": 5,
    "start_time": "2022-08-16T10:02:41.752Z"
   },
   {
    "duration": 14,
    "start_time": "2022-08-16T10:02:41.758Z"
   },
   {
    "duration": 26,
    "start_time": "2022-08-16T10:02:41.774Z"
   },
   {
    "duration": 6,
    "start_time": "2022-08-16T10:02:41.802Z"
   },
   {
    "duration": 22,
    "start_time": "2022-08-16T10:02:41.809Z"
   },
   {
    "duration": 10,
    "start_time": "2022-08-16T10:02:41.832Z"
   },
   {
    "duration": 9,
    "start_time": "2022-08-16T10:02:41.843Z"
   },
   {
    "duration": 38,
    "start_time": "2022-08-16T10:02:41.854Z"
   },
   {
    "duration": 1588,
    "start_time": "2022-08-16T10:02:41.898Z"
   },
   {
    "duration": 5,
    "start_time": "2022-08-16T10:02:43.498Z"
   },
   {
    "duration": 19,
    "start_time": "2022-08-16T10:02:43.505Z"
   },
   {
    "duration": 14,
    "start_time": "2022-08-16T10:02:43.526Z"
   },
   {
    "duration": 17,
    "start_time": "2022-08-16T10:02:43.542Z"
   },
   {
    "duration": 1465,
    "start_time": "2022-08-17T10:36:59.022Z"
   },
   {
    "duration": 103,
    "start_time": "2022-08-17T10:37:02.425Z"
   },
   {
    "duration": 5,
    "start_time": "2022-08-17T10:37:05.187Z"
   },
   {
    "duration": 11,
    "start_time": "2022-08-17T10:37:07.183Z"
   },
   {
    "duration": 6,
    "start_time": "2022-08-17T10:37:10.262Z"
   },
   {
    "duration": 12,
    "start_time": "2022-08-17T10:37:12.520Z"
   },
   {
    "duration": 4,
    "start_time": "2022-08-17T10:37:14.195Z"
   },
   {
    "duration": 4,
    "start_time": "2022-08-17T10:37:16.716Z"
   },
   {
    "duration": 4,
    "start_time": "2022-08-17T10:37:21.112Z"
   },
   {
    "duration": 6,
    "start_time": "2022-08-17T10:40:32.759Z"
   },
   {
    "duration": 143,
    "start_time": "2022-08-17T10:41:23.224Z"
   },
   {
    "duration": 118,
    "start_time": "2022-08-17T10:43:33.296Z"
   },
   {
    "duration": 138,
    "start_time": "2022-08-17T10:46:09.012Z"
   },
   {
    "duration": 46261,
    "start_time": "2022-08-17T10:49:23.037Z"
   },
   {
    "duration": 129,
    "start_time": "2022-08-17T10:50:14.476Z"
   },
   {
    "duration": 152,
    "start_time": "2022-08-17T10:52:03.511Z"
   },
   {
    "duration": 154,
    "start_time": "2022-08-17T10:59:24.669Z"
   },
   {
    "duration": 162,
    "start_time": "2022-08-17T11:00:04.057Z"
   },
   {
    "duration": 5,
    "start_time": "2022-08-17T11:03:56.877Z"
   },
   {
    "duration": 165,
    "start_time": "2022-08-17T11:04:27.622Z"
   },
   {
    "duration": 155,
    "start_time": "2022-08-17T11:04:37.774Z"
   },
   {
    "duration": 176,
    "start_time": "2022-08-17T11:07:29.905Z"
   },
   {
    "duration": 6,
    "start_time": "2022-08-17T11:14:16.009Z"
   },
   {
    "duration": 5,
    "start_time": "2022-08-17T11:14:28.045Z"
   },
   {
    "duration": 8,
    "start_time": "2022-08-17T11:23:22.065Z"
   },
   {
    "duration": 41,
    "start_time": "2022-08-17T11:23:24.867Z"
   },
   {
    "duration": 1724,
    "start_time": "2022-08-17T11:23:30.881Z"
   },
   {
    "duration": 7,
    "start_time": "2022-08-17T11:23:44.567Z"
   },
   {
    "duration": 10,
    "start_time": "2022-08-17T11:23:47.284Z"
   },
   {
    "duration": 12,
    "start_time": "2022-08-17T11:23:50.814Z"
   },
   {
    "duration": 16,
    "start_time": "2022-08-17T11:23:54.058Z"
   },
   {
    "duration": 6,
    "start_time": "2022-08-17T11:30:50.091Z"
   },
   {
    "duration": 5,
    "start_time": "2022-08-17T11:31:11.910Z"
   },
   {
    "duration": 109,
    "start_time": "2022-08-17T11:33:58.770Z"
   },
   {
    "duration": 6,
    "start_time": "2022-08-17T11:34:07.424Z"
   },
   {
    "duration": 10,
    "start_time": "2022-08-17T11:35:51.780Z"
   },
   {
    "duration": 6,
    "start_time": "2022-08-17T11:35:55.278Z"
   },
   {
    "duration": 5,
    "start_time": "2022-08-17T11:36:10.832Z"
   },
   {
    "duration": 5,
    "start_time": "2022-08-17T11:36:33.523Z"
   },
   {
    "duration": 6,
    "start_time": "2022-08-17T11:38:17.526Z"
   },
   {
    "duration": 5,
    "start_time": "2022-08-17T11:38:26.677Z"
   },
   {
    "duration": 9,
    "start_time": "2022-08-17T11:38:53.755Z"
   },
   {
    "duration": 3,
    "start_time": "2022-08-17T11:41:47.130Z"
   },
   {
    "duration": 4,
    "start_time": "2022-08-17T11:45:11.738Z"
   },
   {
    "duration": 2,
    "start_time": "2022-08-17T11:46:43.786Z"
   },
   {
    "duration": 41,
    "start_time": "2022-08-17T11:49:38.858Z"
   },
   {
    "duration": 30,
    "start_time": "2022-08-17T11:58:58.307Z"
   },
   {
    "duration": 38,
    "start_time": "2022-08-17T12:22:09.358Z"
   },
   {
    "duration": 3,
    "start_time": "2022-08-17T12:22:50.669Z"
   },
   {
    "duration": 39,
    "start_time": "2022-08-17T12:22:55.124Z"
   },
   {
    "duration": 114,
    "start_time": "2022-08-17T12:25:04.104Z"
   },
   {
    "duration": 44,
    "start_time": "2022-08-17T12:28:30.618Z"
   },
   {
    "duration": 715,
    "start_time": "2022-08-17T12:30:23.432Z"
   },
   {
    "duration": 737,
    "start_time": "2022-08-17T12:31:07.105Z"
   },
   {
    "duration": 49,
    "start_time": "2022-08-17T12:34:29.154Z"
   },
   {
    "duration": 21,
    "start_time": "2022-08-17T12:34:55.408Z"
   },
   {
    "duration": 24,
    "start_time": "2022-08-17T13:14:45.317Z"
   },
   {
    "duration": 22,
    "start_time": "2022-08-17T13:15:33.915Z"
   },
   {
    "duration": 44,
    "start_time": "2022-08-17T13:16:59.660Z"
   },
   {
    "duration": 6,
    "start_time": "2022-08-17T13:18:33.064Z"
   },
   {
    "duration": 39,
    "start_time": "2022-08-17T13:18:37.492Z"
   },
   {
    "duration": 55,
    "start_time": "2022-08-17T13:19:19.666Z"
   },
   {
    "duration": 37,
    "start_time": "2022-08-17T13:23:31.834Z"
   },
   {
    "duration": 47,
    "start_time": "2022-08-17T13:32:58.609Z"
   },
   {
    "duration": 37,
    "start_time": "2022-08-17T13:42:37.132Z"
   },
   {
    "duration": 39,
    "start_time": "2022-08-17T13:46:04.268Z"
   },
   {
    "duration": 38,
    "start_time": "2022-08-17T13:46:31.319Z"
   },
   {
    "duration": 1623,
    "start_time": "2022-08-18T07:35:24.857Z"
   },
   {
    "duration": 104,
    "start_time": "2022-08-18T07:35:26.483Z"
   },
   {
    "duration": 7,
    "start_time": "2022-08-18T07:35:26.589Z"
   },
   {
    "duration": 19,
    "start_time": "2022-08-18T07:35:26.599Z"
   },
   {
    "duration": 5,
    "start_time": "2022-08-18T07:35:26.619Z"
   },
   {
    "duration": 21,
    "start_time": "2022-08-18T07:35:26.627Z"
   },
   {
    "duration": 5,
    "start_time": "2022-08-18T07:35:26.650Z"
   },
   {
    "duration": 30,
    "start_time": "2022-08-18T07:35:26.658Z"
   },
   {
    "duration": 8,
    "start_time": "2022-08-18T07:35:26.690Z"
   },
   {
    "duration": 221,
    "start_time": "2022-08-18T07:35:26.701Z"
   },
   {
    "duration": 5,
    "start_time": "2022-08-18T07:35:26.924Z"
   },
   {
    "duration": 11,
    "start_time": "2022-08-18T07:35:26.930Z"
   },
   {
    "duration": 11,
    "start_time": "2022-08-18T07:35:26.942Z"
   },
   {
    "duration": 50,
    "start_time": "2022-08-18T07:35:26.954Z"
   },
   {
    "duration": 1783,
    "start_time": "2022-08-18T07:35:27.007Z"
   },
   {
    "duration": 6,
    "start_time": "2022-08-18T07:35:28.792Z"
   },
   {
    "duration": 14,
    "start_time": "2022-08-18T07:35:28.801Z"
   },
   {
    "duration": 20,
    "start_time": "2022-08-18T07:35:28.817Z"
   },
   {
    "duration": 17,
    "start_time": "2022-08-18T07:35:28.838Z"
   },
   {
    "duration": 6,
    "start_time": "2022-08-18T07:35:28.857Z"
   },
   {
    "duration": 26,
    "start_time": "2022-08-18T07:35:28.865Z"
   },
   {
    "duration": 15,
    "start_time": "2022-08-18T07:35:28.893Z"
   },
   {
    "duration": 5,
    "start_time": "2022-08-18T07:35:28.910Z"
   },
   {
    "duration": 8,
    "start_time": "2022-08-18T07:35:28.917Z"
   },
   {
    "duration": 16,
    "start_time": "2022-08-18T07:35:28.927Z"
   },
   {
    "duration": 8,
    "start_time": "2022-08-18T07:35:28.945Z"
   },
   {
    "duration": 38,
    "start_time": "2022-08-18T07:35:28.955Z"
   },
   {
    "duration": 3,
    "start_time": "2022-08-18T07:35:28.996Z"
   },
   {
    "duration": 44,
    "start_time": "2022-08-18T07:35:29.001Z"
   },
   {
    "duration": 54,
    "start_time": "2022-08-18T07:35:29.046Z"
   },
   {
    "duration": 35,
    "start_time": "2022-08-18T07:35:29.102Z"
   },
   {
    "duration": 1072,
    "start_time": "2022-08-18T07:35:29.139Z"
   },
   {
    "duration": 1227,
    "start_time": "2022-08-18T07:35:30.213Z"
   },
   {
    "duration": 146,
    "start_time": "2022-08-18T07:35:31.442Z"
   },
   {
    "duration": 120,
    "start_time": "2022-08-18T07:35:31.590Z"
   },
   {
    "duration": 195,
    "start_time": "2022-08-18T07:35:31.712Z"
   },
   {
    "duration": 647,
    "start_time": "2022-08-18T07:41:25.273Z"
   },
   {
    "duration": 19,
    "start_time": "2022-08-18T07:41:55.769Z"
   },
   {
    "duration": 5,
    "start_time": "2022-08-18T07:45:32.677Z"
   },
   {
    "duration": 4,
    "start_time": "2022-08-18T07:46:24.529Z"
   },
   {
    "duration": 37,
    "start_time": "2022-08-18T08:08:15.034Z"
   },
   {
    "duration": 33,
    "start_time": "2022-08-18T08:08:50.600Z"
   },
   {
    "duration": 34,
    "start_time": "2022-08-18T08:09:33.825Z"
   },
   {
    "duration": 35,
    "start_time": "2022-08-18T08:10:00.153Z"
   },
   {
    "duration": 37,
    "start_time": "2022-08-18T08:10:12.329Z"
   },
   {
    "duration": 657,
    "start_time": "2022-08-18T08:10:54.696Z"
   },
   {
    "duration": 30,
    "start_time": "2022-08-18T08:11:56.363Z"
   },
   {
    "duration": 138,
    "start_time": "2022-08-18T08:15:01.177Z"
   },
   {
    "duration": 130,
    "start_time": "2022-08-18T08:15:05.273Z"
   },
   {
    "duration": 757,
    "start_time": "2022-08-18T08:15:31.753Z"
   },
   {
    "duration": 258,
    "start_time": "2022-08-18T08:15:43.292Z"
   },
   {
    "duration": 165,
    "start_time": "2022-08-18T08:18:16.489Z"
   },
   {
    "duration": 46,
    "start_time": "2022-08-18T08:19:32.480Z"
   },
   {
    "duration": 128,
    "start_time": "2022-08-18T08:19:50.594Z"
   },
   {
    "duration": 225,
    "start_time": "2022-08-18T08:20:33.283Z"
   },
   {
    "duration": 126,
    "start_time": "2022-08-18T08:20:40.534Z"
   },
   {
    "duration": 736,
    "start_time": "2022-08-18T08:21:23.668Z"
   },
   {
    "duration": 237,
    "start_time": "2022-08-18T08:21:47.014Z"
   },
   {
    "duration": 10,
    "start_time": "2022-08-18T08:27:11.711Z"
   },
   {
    "duration": 4,
    "start_time": "2022-08-18T08:27:37.722Z"
   },
   {
    "duration": 9,
    "start_time": "2022-08-18T08:27:44.459Z"
   },
   {
    "duration": 8,
    "start_time": "2022-08-18T08:28:16.313Z"
   },
   {
    "duration": 12,
    "start_time": "2022-08-18T08:28:33.785Z"
   },
   {
    "duration": 45,
    "start_time": "2022-08-18T09:12:02.589Z"
   },
   {
    "duration": 1566,
    "start_time": "2022-08-18T09:12:18.783Z"
   },
   {
    "duration": 104,
    "start_time": "2022-08-18T09:12:20.351Z"
   },
   {
    "duration": 5,
    "start_time": "2022-08-18T09:12:20.456Z"
   },
   {
    "duration": 27,
    "start_time": "2022-08-18T09:12:20.463Z"
   },
   {
    "duration": 10,
    "start_time": "2022-08-18T09:12:20.492Z"
   },
   {
    "duration": 37,
    "start_time": "2022-08-18T09:12:20.504Z"
   },
   {
    "duration": 12,
    "start_time": "2022-08-18T09:12:20.542Z"
   },
   {
    "duration": 16,
    "start_time": "2022-08-18T09:12:20.555Z"
   },
   {
    "duration": 14,
    "start_time": "2022-08-18T09:12:20.572Z"
   },
   {
    "duration": 181,
    "start_time": "2022-08-18T09:12:20.588Z"
   },
   {
    "duration": 16,
    "start_time": "2022-08-18T09:12:20.771Z"
   },
   {
    "duration": 6,
    "start_time": "2022-08-18T09:12:20.788Z"
   },
   {
    "duration": 19,
    "start_time": "2022-08-18T09:12:20.795Z"
   },
   {
    "duration": 42,
    "start_time": "2022-08-18T09:12:20.817Z"
   },
   {
    "duration": 1680,
    "start_time": "2022-08-18T09:12:20.860Z"
   },
   {
    "duration": 5,
    "start_time": "2022-08-18T09:12:22.542Z"
   },
   {
    "duration": 21,
    "start_time": "2022-08-18T09:12:22.549Z"
   },
   {
    "duration": 21,
    "start_time": "2022-08-18T09:12:22.572Z"
   },
   {
    "duration": 17,
    "start_time": "2022-08-18T09:12:22.595Z"
   },
   {
    "duration": 14,
    "start_time": "2022-08-18T09:12:22.613Z"
   },
   {
    "duration": 20,
    "start_time": "2022-08-18T09:12:22.628Z"
   },
   {
    "duration": 15,
    "start_time": "2022-08-18T09:12:22.649Z"
   },
   {
    "duration": 5,
    "start_time": "2022-08-18T09:12:22.666Z"
   },
   {
    "duration": 8,
    "start_time": "2022-08-18T09:12:22.672Z"
   },
   {
    "duration": 12,
    "start_time": "2022-08-18T09:12:22.682Z"
   },
   {
    "duration": 11,
    "start_time": "2022-08-18T09:12:22.696Z"
   },
   {
    "duration": 13,
    "start_time": "2022-08-18T09:12:22.709Z"
   },
   {
    "duration": 8,
    "start_time": "2022-08-18T09:12:22.723Z"
   },
   {
    "duration": 39,
    "start_time": "2022-08-18T09:12:22.733Z"
   },
   {
    "duration": 41,
    "start_time": "2022-08-18T09:12:22.773Z"
   },
   {
    "duration": 34,
    "start_time": "2022-08-18T09:12:22.816Z"
   },
   {
    "duration": 694,
    "start_time": "2022-08-18T09:12:22.852Z"
   },
   {
    "duration": 658,
    "start_time": "2022-08-18T09:12:23.549Z"
   },
   {
    "duration": 81,
    "start_time": "2022-08-18T09:12:24.209Z"
   },
   {
    "duration": 198,
    "start_time": "2022-08-18T09:12:24.292Z"
   },
   {
    "duration": 235,
    "start_time": "2022-08-18T09:12:24.493Z"
   },
   {
    "duration": 822,
    "start_time": "2022-08-18T09:12:24.730Z"
   },
   {
    "duration": 308,
    "start_time": "2022-08-18T09:12:25.554Z"
   },
   {
    "duration": 5,
    "start_time": "2022-08-18T09:12:25.864Z"
   },
   {
    "duration": 33,
    "start_time": "2022-08-18T09:12:25.870Z"
   },
   {
    "duration": 16,
    "start_time": "2022-08-18T09:12:25.906Z"
   },
   {
    "duration": 5,
    "start_time": "2022-08-18T09:13:40.982Z"
   },
   {
    "duration": 3,
    "start_time": "2022-08-18T09:14:09.065Z"
   },
   {
    "duration": 6,
    "start_time": "2022-08-18T09:15:48.106Z"
   },
   {
    "duration": 4,
    "start_time": "2022-08-18T09:15:57.778Z"
   },
   {
    "duration": 4,
    "start_time": "2022-08-18T09:17:08.736Z"
   },
   {
    "duration": 6,
    "start_time": "2022-08-18T09:18:53.480Z"
   },
   {
    "duration": 4,
    "start_time": "2022-08-18T09:19:05.510Z"
   },
   {
    "duration": 5,
    "start_time": "2022-08-18T09:19:20.678Z"
   },
   {
    "duration": 7,
    "start_time": "2022-08-18T09:20:27.983Z"
   },
   {
    "duration": 9,
    "start_time": "2022-08-18T09:22:18.922Z"
   },
   {
    "duration": 41,
    "start_time": "2022-08-18T09:22:37.063Z"
   },
   {
    "duration": 6,
    "start_time": "2022-08-18T09:23:19.340Z"
   },
   {
    "duration": 86,
    "start_time": "2022-08-18T09:24:14.929Z"
   },
   {
    "duration": 112,
    "start_time": "2022-08-18T09:24:20.339Z"
   },
   {
    "duration": 240,
    "start_time": "2022-08-18T09:24:31.822Z"
   },
   {
    "duration": 132,
    "start_time": "2022-08-18T09:24:35.466Z"
   },
   {
    "duration": 117,
    "start_time": "2022-08-18T09:24:50.817Z"
   },
   {
    "duration": 128,
    "start_time": "2022-08-18T09:24:56.680Z"
   },
   {
    "duration": 116,
    "start_time": "2022-08-18T09:25:12.117Z"
   },
   {
    "duration": 235,
    "start_time": "2022-08-18T09:25:44.278Z"
   },
   {
    "duration": 120,
    "start_time": "2022-08-18T09:25:50.312Z"
   },
   {
    "duration": 115,
    "start_time": "2022-08-18T09:26:08.767Z"
   },
   {
    "duration": 113,
    "start_time": "2022-08-18T09:26:31.204Z"
   },
   {
    "duration": 3,
    "start_time": "2022-08-18T09:28:17.107Z"
   },
   {
    "duration": 41,
    "start_time": "2022-08-18T09:32:19.857Z"
   },
   {
    "duration": 8,
    "start_time": "2022-08-18T09:32:40.994Z"
   },
   {
    "duration": 42,
    "start_time": "2022-08-18T09:33:48.834Z"
   },
   {
    "duration": 33,
    "start_time": "2022-08-18T09:34:36.662Z"
   },
   {
    "duration": 35,
    "start_time": "2022-08-18T09:35:08.248Z"
   },
   {
    "duration": 684,
    "start_time": "2022-08-18T09:35:40.531Z"
   },
   {
    "duration": 704,
    "start_time": "2022-08-18T09:36:01.027Z"
   },
   {
    "duration": 70,
    "start_time": "2022-08-18T09:37:02.724Z"
   },
   {
    "duration": 33,
    "start_time": "2022-08-18T09:37:36.324Z"
   },
   {
    "duration": 254,
    "start_time": "2022-08-18T09:38:34.213Z"
   },
   {
    "duration": 54,
    "start_time": "2022-08-18T09:40:54.186Z"
   },
   {
    "duration": 757,
    "start_time": "2022-08-18T09:42:32.332Z"
   },
   {
    "duration": 1102,
    "start_time": "2022-08-18T09:42:55.357Z"
   },
   {
    "duration": 26,
    "start_time": "2022-08-18T09:44:17.848Z"
   },
   {
    "duration": 4,
    "start_time": "2022-08-18T09:52:26.525Z"
   },
   {
    "duration": 59,
    "start_time": "2022-08-18T09:53:58.568Z"
   },
   {
    "duration": 7,
    "start_time": "2022-08-18T09:55:35.010Z"
   },
   {
    "duration": 56,
    "start_time": "2022-08-18T09:55:47.714Z"
   },
   {
    "duration": 997,
    "start_time": "2022-08-18T09:57:26.450Z"
   },
   {
    "duration": 78,
    "start_time": "2022-08-18T09:58:43.914Z"
   },
   {
    "duration": 47,
    "start_time": "2022-08-18T10:05:13.651Z"
   },
   {
    "duration": 996,
    "start_time": "2022-08-18T10:05:26.805Z"
   },
   {
    "duration": 31,
    "start_time": "2022-08-18T10:05:36.299Z"
   },
   {
    "duration": 43,
    "start_time": "2022-08-18T10:07:27.854Z"
   },
   {
    "duration": 1013,
    "start_time": "2022-08-18T10:07:34.914Z"
   },
   {
    "duration": 49,
    "start_time": "2022-08-18T10:07:42.345Z"
   },
   {
    "duration": 48,
    "start_time": "2022-08-18T10:08:26.151Z"
   },
   {
    "duration": 13,
    "start_time": "2022-08-18T10:08:36.203Z"
   },
   {
    "duration": 10,
    "start_time": "2022-08-18T10:08:48.835Z"
   },
   {
    "duration": 1045,
    "start_time": "2022-08-18T10:09:03.711Z"
   },
   {
    "duration": 24,
    "start_time": "2022-08-18T10:09:12.645Z"
   },
   {
    "duration": 11,
    "start_time": "2022-08-18T10:09:26.524Z"
   },
   {
    "duration": 10,
    "start_time": "2022-08-18T10:09:35.669Z"
   },
   {
    "duration": 32,
    "start_time": "2022-08-18T10:09:58.685Z"
   },
   {
    "duration": 318,
    "start_time": "2022-08-18T10:20:14.012Z"
   },
   {
    "duration": 33,
    "start_time": "2022-08-18T10:22:53.728Z"
   },
   {
    "duration": 28,
    "start_time": "2022-08-18T10:23:29.475Z"
   },
   {
    "duration": 51541,
    "start_time": "2022-08-18T10:23:42.810Z"
   },
   {
    "duration": 49200,
    "start_time": "2022-08-18T10:26:12.978Z"
   },
   {
    "duration": 975,
    "start_time": "2022-08-18T10:38:06.552Z"
   },
   {
    "duration": 907,
    "start_time": "2022-08-18T10:39:26.634Z"
   },
   {
    "duration": 991,
    "start_time": "2022-08-18T10:40:34.669Z"
   },
   {
    "duration": 379,
    "start_time": "2022-08-18T10:40:54.092Z"
   },
   {
    "duration": 5,
    "start_time": "2022-08-18T10:43:11.179Z"
   },
   {
    "duration": 8,
    "start_time": "2022-08-18T10:56:28.027Z"
   },
   {
    "duration": 7,
    "start_time": "2022-08-18T10:59:03.683Z"
   },
   {
    "duration": 7,
    "start_time": "2022-08-18T10:59:06.245Z"
   },
   {
    "duration": 3,
    "start_time": "2022-08-18T10:59:16.082Z"
   },
   {
    "duration": 7,
    "start_time": "2022-08-18T10:59:47.840Z"
   },
   {
    "duration": 5,
    "start_time": "2022-08-18T10:59:50.364Z"
   },
   {
    "duration": 3,
    "start_time": "2022-08-18T10:59:52.630Z"
   },
   {
    "duration": 10,
    "start_time": "2022-08-18T11:00:06.382Z"
   },
   {
    "duration": 5,
    "start_time": "2022-08-18T11:00:06.578Z"
   },
   {
    "duration": 3,
    "start_time": "2022-08-18T11:00:08.008Z"
   },
   {
    "duration": 9,
    "start_time": "2022-08-18T11:01:57.369Z"
   },
   {
    "duration": 6,
    "start_time": "2022-08-18T11:01:58.909Z"
   },
   {
    "duration": 4,
    "start_time": "2022-08-18T11:02:00.387Z"
   },
   {
    "duration": 5,
    "start_time": "2022-08-18T11:02:23.996Z"
   },
   {
    "duration": 20,
    "start_time": "2022-08-18T11:02:46.620Z"
   },
   {
    "duration": 5,
    "start_time": "2022-08-18T11:03:07.000Z"
   },
   {
    "duration": 4,
    "start_time": "2022-08-18T11:03:27.900Z"
   },
   {
    "duration": 8,
    "start_time": "2022-08-18T11:03:50.930Z"
   },
   {
    "duration": 4,
    "start_time": "2022-08-18T11:03:52.688Z"
   },
   {
    "duration": 6,
    "start_time": "2022-08-18T11:03:55.981Z"
   },
   {
    "duration": 7,
    "start_time": "2022-08-18T11:04:21.372Z"
   },
   {
    "duration": 5,
    "start_time": "2022-08-18T11:04:25.636Z"
   },
   {
    "duration": 4,
    "start_time": "2022-08-18T11:04:27.166Z"
   },
   {
    "duration": 8,
    "start_time": "2022-08-18T11:04:32.430Z"
   },
   {
    "duration": 6,
    "start_time": "2022-08-18T11:04:34.170Z"
   },
   {
    "duration": 6,
    "start_time": "2022-08-18T11:04:35.657Z"
   },
   {
    "duration": 7,
    "start_time": "2022-08-18T11:04:53.717Z"
   },
   {
    "duration": 4,
    "start_time": "2022-08-18T11:04:55.914Z"
   },
   {
    "duration": 5,
    "start_time": "2022-08-18T11:04:58.006Z"
   },
   {
    "duration": 11,
    "start_time": "2022-08-18T11:05:25.235Z"
   },
   {
    "duration": 7,
    "start_time": "2022-08-18T11:05:26.926Z"
   },
   {
    "duration": 6,
    "start_time": "2022-08-18T11:05:28.275Z"
   },
   {
    "duration": 3,
    "start_time": "2022-08-18T11:05:35.013Z"
   },
   {
    "duration": 9,
    "start_time": "2022-08-18T11:06:02.921Z"
   },
   {
    "duration": 5,
    "start_time": "2022-08-18T11:06:04.642Z"
   },
   {
    "duration": 4,
    "start_time": "2022-08-18T11:06:06.367Z"
   },
   {
    "duration": 6,
    "start_time": "2022-08-18T11:06:17.328Z"
   },
   {
    "duration": 5,
    "start_time": "2022-08-18T11:06:22.237Z"
   },
   {
    "duration": 208,
    "start_time": "2022-08-18T11:09:40.318Z"
   },
   {
    "duration": 9,
    "start_time": "2022-08-18T11:10:30.614Z"
   },
   {
    "duration": 5,
    "start_time": "2022-08-18T11:10:32.860Z"
   },
   {
    "duration": 4,
    "start_time": "2022-08-18T11:10:35.253Z"
   },
   {
    "duration": 123,
    "start_time": "2022-08-18T11:10:38.158Z"
   },
   {
    "duration": 8,
    "start_time": "2022-08-18T11:10:47.721Z"
   },
   {
    "duration": 5,
    "start_time": "2022-08-18T11:10:49.023Z"
   },
   {
    "duration": 5,
    "start_time": "2022-08-18T11:10:50.917Z"
   },
   {
    "duration": 110,
    "start_time": "2022-08-18T11:10:53.298Z"
   },
   {
    "duration": 7,
    "start_time": "2022-08-18T11:11:01.947Z"
   },
   {
    "duration": 5,
    "start_time": "2022-08-18T11:11:04.300Z"
   },
   {
    "duration": 5,
    "start_time": "2022-08-18T11:11:06.586Z"
   },
   {
    "duration": 124,
    "start_time": "2022-08-18T11:11:09.548Z"
   },
   {
    "duration": 8,
    "start_time": "2022-08-18T11:11:17.721Z"
   },
   {
    "duration": 6,
    "start_time": "2022-08-18T11:11:20.018Z"
   },
   {
    "duration": 4,
    "start_time": "2022-08-18T11:11:21.814Z"
   },
   {
    "duration": 114,
    "start_time": "2022-08-18T11:11:23.705Z"
   },
   {
    "duration": 10,
    "start_time": "2022-08-18T11:11:43.983Z"
   },
   {
    "duration": 6,
    "start_time": "2022-08-18T11:11:46.045Z"
   },
   {
    "duration": 5,
    "start_time": "2022-08-18T11:11:48.965Z"
   },
   {
    "duration": 116,
    "start_time": "2022-08-18T11:11:54.715Z"
   },
   {
    "duration": 9,
    "start_time": "2022-08-18T11:12:09.275Z"
   },
   {
    "duration": 7,
    "start_time": "2022-08-18T11:12:11.285Z"
   },
   {
    "duration": 5,
    "start_time": "2022-08-18T11:12:14.769Z"
   },
   {
    "duration": 119,
    "start_time": "2022-08-18T11:12:18.499Z"
   },
   {
    "duration": 9,
    "start_time": "2022-08-18T11:12:28.782Z"
   },
   {
    "duration": 5,
    "start_time": "2022-08-18T11:12:30.599Z"
   },
   {
    "duration": 5,
    "start_time": "2022-08-18T11:12:33.873Z"
   },
   {
    "duration": 112,
    "start_time": "2022-08-18T11:12:37.434Z"
   },
   {
    "duration": 14,
    "start_time": "2022-08-18T11:12:46.480Z"
   },
   {
    "duration": 7,
    "start_time": "2022-08-18T11:12:48.310Z"
   },
   {
    "duration": 4,
    "start_time": "2022-08-18T11:12:50.028Z"
   },
   {
    "duration": 115,
    "start_time": "2022-08-18T11:12:52.402Z"
   },
   {
    "duration": 8,
    "start_time": "2022-08-18T11:13:00.750Z"
   },
   {
    "duration": 6,
    "start_time": "2022-08-18T11:13:02.787Z"
   },
   {
    "duration": 5,
    "start_time": "2022-08-18T11:13:05.211Z"
   },
   {
    "duration": 125,
    "start_time": "2022-08-18T11:13:07.866Z"
   },
   {
    "duration": 4,
    "start_time": "2022-08-18T11:21:29.894Z"
   },
   {
    "duration": 26,
    "start_time": "2022-08-18T11:25:32.200Z"
   },
   {
    "duration": 521,
    "start_time": "2022-08-18T11:26:11.157Z"
   },
   {
    "duration": 73,
    "start_time": "2022-08-18T11:34:03.418Z"
   },
   {
    "duration": 43,
    "start_time": "2022-08-18T11:47:30.722Z"
   },
   {
    "duration": 5,
    "start_time": "2022-08-18T11:47:49.344Z"
   },
   {
    "duration": 78,
    "start_time": "2022-08-18T11:48:04.498Z"
   },
   {
    "duration": 91,
    "start_time": "2022-08-18T11:48:37.954Z"
   },
   {
    "duration": 90,
    "start_time": "2022-08-18T11:48:52.571Z"
   },
   {
    "duration": 116,
    "start_time": "2022-08-18T11:50:44.074Z"
   },
   {
    "duration": 763,
    "start_time": "2022-08-18T11:51:51.815Z"
   },
   {
    "duration": 761,
    "start_time": "2022-08-18T11:52:29.853Z"
   },
   {
    "duration": 248,
    "start_time": "2022-08-18T11:55:27.143Z"
   },
   {
    "duration": 739,
    "start_time": "2022-08-18T11:56:39.359Z"
   },
   {
    "duration": 13,
    "start_time": "2022-08-18T11:56:58.472Z"
   },
   {
    "duration": 5,
    "start_time": "2022-08-18T11:58:18.016Z"
   },
   {
    "duration": 132,
    "start_time": "2022-08-18T11:58:25.778Z"
   },
   {
    "duration": 126,
    "start_time": "2022-08-18T11:58:34.848Z"
   },
   {
    "duration": 101,
    "start_time": "2022-08-18T12:00:45.228Z"
   },
   {
    "duration": 118,
    "start_time": "2022-08-18T12:02:00.645Z"
   },
   {
    "duration": 195,
    "start_time": "2022-08-18T12:02:06.994Z"
   },
   {
    "duration": 277,
    "start_time": "2022-08-18T12:03:50.852Z"
   },
   {
    "duration": 112,
    "start_time": "2022-08-18T12:03:54.516Z"
   },
   {
    "duration": 353,
    "start_time": "2022-08-18T12:17:41.060Z"
   },
   {
    "duration": 7,
    "start_time": "2022-08-18T12:18:12.227Z"
   },
   {
    "duration": 414,
    "start_time": "2022-08-18T12:18:47.772Z"
   },
   {
    "duration": 5,
    "start_time": "2022-08-18T12:18:51.779Z"
   },
   {
    "duration": 299,
    "start_time": "2022-08-18T12:25:22.915Z"
   },
   {
    "duration": 141,
    "start_time": "2022-08-18T12:26:40.353Z"
   },
   {
    "duration": 6,
    "start_time": "2022-08-18T12:27:00.799Z"
   },
   {
    "duration": 306,
    "start_time": "2022-08-18T12:30:23.150Z"
   },
   {
    "duration": 299,
    "start_time": "2022-08-18T12:31:52.213Z"
   },
   {
    "duration": 6,
    "start_time": "2022-08-18T12:36:22.154Z"
   },
   {
    "duration": 6,
    "start_time": "2022-08-18T12:36:39.066Z"
   },
   {
    "duration": 5,
    "start_time": "2022-08-18T12:37:31.918Z"
   },
   {
    "duration": 5,
    "start_time": "2022-08-18T12:39:20.872Z"
   },
   {
    "duration": 5,
    "start_time": "2022-08-18T12:39:27.479Z"
   },
   {
    "duration": 7,
    "start_time": "2022-08-18T12:40:09.139Z"
   },
   {
    "duration": 330,
    "start_time": "2022-08-18T12:57:38.540Z"
   },
   {
    "duration": 319,
    "start_time": "2022-08-18T12:57:49.829Z"
   },
   {
    "duration": 393,
    "start_time": "2022-08-18T12:57:56.512Z"
   },
   {
    "duration": 134,
    "start_time": "2022-08-18T12:58:34.937Z"
   },
   {
    "duration": 6,
    "start_time": "2022-08-18T12:59:27.698Z"
   },
   {
    "duration": 8,
    "start_time": "2022-08-18T12:59:40.761Z"
   },
   {
    "duration": 370,
    "start_time": "2022-08-18T12:59:56.042Z"
   },
   {
    "duration": 138,
    "start_time": "2022-08-18T13:00:00.614Z"
   },
   {
    "duration": 6,
    "start_time": "2022-08-18T13:00:31.877Z"
   },
   {
    "duration": 8,
    "start_time": "2022-08-18T13:00:34.152Z"
   },
   {
    "duration": 271,
    "start_time": "2022-08-18T13:05:37.736Z"
   },
   {
    "duration": 343,
    "start_time": "2022-08-18T13:07:17.358Z"
   },
   {
    "duration": 372,
    "start_time": "2022-08-18T13:08:36.132Z"
   },
   {
    "duration": 1636,
    "start_time": "2022-08-18T13:11:17.708Z"
   },
   {
    "duration": 71,
    "start_time": "2022-08-18T13:11:19.346Z"
   },
   {
    "duration": 14,
    "start_time": "2022-08-18T13:11:19.418Z"
   },
   {
    "duration": 15,
    "start_time": "2022-08-18T13:11:19.434Z"
   },
   {
    "duration": 4,
    "start_time": "2022-08-18T13:11:19.452Z"
   },
   {
    "duration": 14,
    "start_time": "2022-08-18T13:11:19.458Z"
   },
   {
    "duration": 4,
    "start_time": "2022-08-18T13:11:19.474Z"
   },
   {
    "duration": 12,
    "start_time": "2022-08-18T13:11:19.506Z"
   },
   {
    "duration": 16,
    "start_time": "2022-08-18T13:11:19.528Z"
   },
   {
    "duration": 215,
    "start_time": "2022-08-18T13:11:19.545Z"
   },
   {
    "duration": 5,
    "start_time": "2022-08-18T13:11:19.762Z"
   },
   {
    "duration": 5,
    "start_time": "2022-08-18T13:11:19.768Z"
   },
   {
    "duration": 20,
    "start_time": "2022-08-18T13:11:19.775Z"
   },
   {
    "duration": 66,
    "start_time": "2022-08-18T13:11:19.804Z"
   },
   {
    "duration": 1982,
    "start_time": "2022-08-18T13:11:19.871Z"
   },
   {
    "duration": 5,
    "start_time": "2022-08-18T13:11:21.855Z"
   },
   {
    "duration": 12,
    "start_time": "2022-08-18T13:11:21.862Z"
   },
   {
    "duration": 16,
    "start_time": "2022-08-18T13:11:21.886Z"
   },
   {
    "duration": 29,
    "start_time": "2022-08-18T13:11:21.914Z"
   },
   {
    "duration": 6,
    "start_time": "2022-08-18T13:11:21.945Z"
   },
   {
    "duration": 8,
    "start_time": "2022-08-18T13:11:21.952Z"
   },
   {
    "duration": 11,
    "start_time": "2022-08-18T13:11:21.961Z"
   },
   {
    "duration": 5,
    "start_time": "2022-08-18T13:11:21.974Z"
   },
   {
    "duration": 15,
    "start_time": "2022-08-18T13:11:21.981Z"
   },
   {
    "duration": 46,
    "start_time": "2022-08-18T13:11:22.000Z"
   },
   {
    "duration": 10,
    "start_time": "2022-08-18T13:11:22.048Z"
   },
   {
    "duration": 21,
    "start_time": "2022-08-18T13:11:22.059Z"
   },
   {
    "duration": 71,
    "start_time": "2022-08-18T13:11:22.082Z"
   },
   {
    "duration": 60,
    "start_time": "2022-08-18T13:11:22.154Z"
   },
   {
    "duration": 43,
    "start_time": "2022-08-18T13:11:22.216Z"
   },
   {
    "duration": 51,
    "start_time": "2022-08-18T13:11:22.261Z"
   },
   {
    "duration": 781,
    "start_time": "2022-08-18T13:11:22.314Z"
   },
   {
    "duration": 753,
    "start_time": "2022-08-18T13:11:23.097Z"
   },
   {
    "duration": 44,
    "start_time": "2022-08-18T13:11:23.851Z"
   },
   {
    "duration": 132,
    "start_time": "2022-08-18T13:11:23.898Z"
   },
   {
    "duration": 329,
    "start_time": "2022-08-18T13:11:24.034Z"
   },
   {
    "duration": 874,
    "start_time": "2022-08-18T13:11:24.364Z"
   },
   {
    "duration": 231,
    "start_time": "2022-08-18T13:11:25.240Z"
   },
   {
    "duration": 4,
    "start_time": "2022-08-18T13:11:25.473Z"
   },
   {
    "duration": 11,
    "start_time": "2022-08-18T13:11:25.479Z"
   },
   {
    "duration": 45,
    "start_time": "2022-08-18T13:11:25.496Z"
   },
   {
    "duration": 5,
    "start_time": "2022-08-18T13:11:25.543Z"
   },
   {
    "duration": 8,
    "start_time": "2022-08-18T13:11:25.549Z"
   },
   {
    "duration": 4,
    "start_time": "2022-08-18T13:11:25.559Z"
   },
   {
    "duration": 8,
    "start_time": "2022-08-18T13:11:25.565Z"
   },
   {
    "duration": 146,
    "start_time": "2022-08-18T13:11:25.574Z"
   },
   {
    "duration": 45,
    "start_time": "2022-08-18T13:11:25.726Z"
   },
   {
    "duration": 1111,
    "start_time": "2022-08-18T13:11:25.772Z"
   },
   {
    "duration": 106,
    "start_time": "2022-08-18T13:11:26.885Z"
   },
   {
    "duration": 104,
    "start_time": "2022-08-18T13:11:26.993Z"
   },
   {
    "duration": 47,
    "start_time": "2022-08-18T13:11:27.099Z"
   },
   {
    "duration": 12,
    "start_time": "2022-08-18T13:11:27.148Z"
   },
   {
    "duration": 11,
    "start_time": "2022-08-18T13:11:27.162Z"
   },
   {
    "duration": 56237,
    "start_time": "2022-08-18T13:11:27.175Z"
   },
   {
    "duration": 466,
    "start_time": "2022-08-18T13:12:23.414Z"
   },
   {
    "duration": 11,
    "start_time": "2022-08-18T13:12:23.882Z"
   },
   {
    "duration": 40,
    "start_time": "2022-08-18T13:12:23.895Z"
   },
   {
    "duration": 15,
    "start_time": "2022-08-18T13:12:23.938Z"
   },
   {
    "duration": 5,
    "start_time": "2022-08-18T13:12:23.954Z"
   },
   {
    "duration": 6,
    "start_time": "2022-08-18T13:12:23.961Z"
   },
   {
    "duration": 296,
    "start_time": "2022-08-18T13:12:23.968Z"
   },
   {
    "duration": 38,
    "start_time": "2022-08-18T13:12:24.265Z"
   },
   {
    "duration": 607,
    "start_time": "2022-08-18T13:12:24.305Z"
   },
   {
    "duration": 76,
    "start_time": "2022-08-18T13:12:24.913Z"
   },
   {
    "duration": 221,
    "start_time": "2022-08-18T13:12:24.991Z"
   },
   {
    "duration": 127,
    "start_time": "2022-08-18T13:12:25.214Z"
   },
   {
    "duration": 1132,
    "start_time": "2022-08-18T13:12:25.343Z"
   },
   {
    "duration": 158,
    "start_time": "2022-08-18T13:12:26.477Z"
   },
   {
    "duration": 246,
    "start_time": "2022-08-18T13:12:26.637Z"
   },
   {
    "duration": 156,
    "start_time": "2022-08-18T13:12:26.884Z"
   },
   {
    "duration": 365,
    "start_time": "2022-08-18T13:12:27.041Z"
   },
   {
    "duration": 166,
    "start_time": "2022-08-18T13:12:27.408Z"
   },
   {
    "duration": 6,
    "start_time": "2022-08-18T13:12:27.575Z"
   },
   {
    "duration": 59,
    "start_time": "2022-08-18T13:12:27.583Z"
   },
   {
    "duration": 357,
    "start_time": "2022-08-18T13:12:27.644Z"
   },
   {
    "duration": 1087,
    "start_time": "2022-08-18T13:12:53.530Z"
   },
   {
    "duration": 1062,
    "start_time": "2022-08-18T13:13:04.125Z"
   },
   {
    "duration": 1113,
    "start_time": "2022-08-18T13:13:09.141Z"
   },
   {
    "duration": 13,
    "start_time": "2022-08-18T13:23:51.108Z"
   },
   {
    "duration": 47,
    "start_time": "2022-08-18T13:25:05.825Z"
   },
   {
    "duration": 14,
    "start_time": "2022-08-18T13:25:25.704Z"
   },
   {
    "duration": 1176,
    "start_time": "2022-08-18T13:25:46.653Z"
   },
   {
    "duration": 180,
    "start_time": "2022-08-18T13:26:06.915Z"
   },
   {
    "duration": 56526,
    "start_time": "2022-08-18T13:26:44.965Z"
   },
   {
    "duration": 1235,
    "start_time": "2022-08-18T13:28:44.035Z"
   },
   {
    "duration": 10,
    "start_time": "2022-08-18T13:28:56.651Z"
   },
   {
    "duration": 7,
    "start_time": "2022-08-18T13:29:30.547Z"
   },
   {
    "duration": 9,
    "start_time": "2022-08-18T13:29:33.858Z"
   },
   {
    "duration": 11,
    "start_time": "2022-08-18T13:29:36.210Z"
   },
   {
    "duration": 7,
    "start_time": "2022-08-18T13:29:38.137Z"
   },
   {
    "duration": 149,
    "start_time": "2022-08-18T13:29:41.346Z"
   },
   {
    "duration": 30,
    "start_time": "2022-08-18T13:29:55.625Z"
   },
   {
    "duration": 599,
    "start_time": "2022-08-18T13:30:02.570Z"
   },
   {
    "duration": 79,
    "start_time": "2022-08-18T13:30:07.426Z"
   },
   {
    "duration": 179,
    "start_time": "2022-08-18T13:30:26.323Z"
   },
   {
    "duration": 142,
    "start_time": "2022-08-18T13:30:32.650Z"
   },
   {
    "duration": 892,
    "start_time": "2022-08-18T13:30:39.150Z"
   },
   {
    "duration": 137,
    "start_time": "2022-08-18T13:30:49.403Z"
   },
   {
    "duration": 265,
    "start_time": "2022-08-18T13:31:04.552Z"
   },
   {
    "duration": 138,
    "start_time": "2022-08-18T13:31:11.025Z"
   },
   {
    "duration": 1196,
    "start_time": "2022-08-18T13:31:42.158Z"
   },
   {
    "duration": 1162,
    "start_time": "2022-08-18T13:32:09.108Z"
   },
   {
    "duration": 1286,
    "start_time": "2022-08-18T13:32:15.238Z"
   },
   {
    "duration": 209,
    "start_time": "2022-08-18T13:32:33.312Z"
   },
   {
    "duration": 9,
    "start_time": "2022-08-18T13:33:30.838Z"
   },
   {
    "duration": 19,
    "start_time": "2022-08-18T13:33:36.036Z"
   },
   {
    "duration": 1118,
    "start_time": "2022-08-18T13:34:44.387Z"
   },
   {
    "duration": 188,
    "start_time": "2022-08-18T13:35:13.993Z"
   },
   {
    "duration": 6,
    "start_time": "2022-08-18T13:35:33.334Z"
   },
   {
    "duration": 1073,
    "start_time": "2022-08-18T13:35:56.133Z"
   },
   {
    "duration": 6,
    "start_time": "2022-08-18T13:36:40.083Z"
   },
   {
    "duration": 7,
    "start_time": "2022-08-18T13:36:44.677Z"
   },
   {
    "duration": 1035,
    "start_time": "2022-08-18T13:38:46.419Z"
   },
   {
    "duration": 1043,
    "start_time": "2022-08-18T13:39:00.721Z"
   },
   {
    "duration": 2063,
    "start_time": "2022-08-18T13:39:10.320Z"
   },
   {
    "duration": 1029,
    "start_time": "2022-08-18T13:39:20.618Z"
   },
   {
    "duration": 1056,
    "start_time": "2022-08-18T13:39:29.543Z"
   },
   {
    "duration": 674,
    "start_time": "2022-08-18T13:42:32.063Z"
   },
   {
    "duration": 940,
    "start_time": "2022-08-18T13:42:43.628Z"
   },
   {
    "duration": 913,
    "start_time": "2022-08-18T13:44:42.046Z"
   },
   {
    "duration": 959,
    "start_time": "2022-08-18T13:45:39.457Z"
   },
   {
    "duration": 926,
    "start_time": "2022-08-18T13:45:47.277Z"
   },
   {
    "duration": 810,
    "start_time": "2022-08-18T13:46:05.334Z"
   },
   {
    "duration": 933,
    "start_time": "2022-08-18T13:46:24.681Z"
   },
   {
    "duration": 783,
    "start_time": "2022-08-18T13:46:31.975Z"
   },
   {
    "duration": 107083,
    "start_time": "2022-08-18T13:54:29.741Z"
   },
   {
    "duration": 13821,
    "start_time": "2022-08-18T13:56:56.282Z"
   },
   {
    "duration": 813,
    "start_time": "2022-08-18T13:57:31.841Z"
   },
   {
    "duration": 790,
    "start_time": "2022-08-18T13:57:39.306Z"
   },
   {
    "duration": 289718,
    "start_time": "2022-08-18T13:59:51.302Z"
   },
   {
    "duration": 328,
    "start_time": "2022-08-18T14:05:28.177Z"
   },
   {
    "duration": 1547,
    "start_time": "2022-08-18T15:14:25.621Z"
   },
   {
    "duration": 96,
    "start_time": "2022-08-18T15:14:27.170Z"
   },
   {
    "duration": 5,
    "start_time": "2022-08-18T15:14:27.268Z"
   },
   {
    "duration": 43,
    "start_time": "2022-08-18T15:14:27.274Z"
   },
   {
    "duration": 28,
    "start_time": "2022-08-18T15:14:27.320Z"
   },
   {
    "duration": 15,
    "start_time": "2022-08-18T15:14:27.350Z"
   },
   {
    "duration": 5,
    "start_time": "2022-08-18T15:14:27.366Z"
   },
   {
    "duration": 9,
    "start_time": "2022-08-18T15:14:27.373Z"
   },
   {
    "duration": 52,
    "start_time": "2022-08-18T15:14:27.384Z"
   },
   {
    "duration": 231,
    "start_time": "2022-08-18T15:14:27.437Z"
   },
   {
    "duration": 6,
    "start_time": "2022-08-18T15:14:27.670Z"
   },
   {
    "duration": 9,
    "start_time": "2022-08-18T15:14:27.688Z"
   },
   {
    "duration": 56,
    "start_time": "2022-08-18T15:14:27.699Z"
   },
   {
    "duration": 47,
    "start_time": "2022-08-18T15:14:27.758Z"
   },
   {
    "duration": 1878,
    "start_time": "2022-08-18T15:14:27.815Z"
   },
   {
    "duration": 11,
    "start_time": "2022-08-18T15:14:29.694Z"
   },
   {
    "duration": 48,
    "start_time": "2022-08-18T15:14:29.708Z"
   },
   {
    "duration": 11,
    "start_time": "2022-08-18T15:14:29.758Z"
   },
   {
    "duration": 13,
    "start_time": "2022-08-18T15:14:29.771Z"
   },
   {
    "duration": 9,
    "start_time": "2022-08-18T15:14:29.788Z"
   },
   {
    "duration": 43,
    "start_time": "2022-08-18T15:14:29.798Z"
   },
   {
    "duration": 12,
    "start_time": "2022-08-18T15:14:29.843Z"
   },
   {
    "duration": 5,
    "start_time": "2022-08-18T15:14:29.856Z"
   },
   {
    "duration": 10,
    "start_time": "2022-08-18T15:14:29.863Z"
   },
   {
    "duration": 12,
    "start_time": "2022-08-18T15:14:29.874Z"
   },
   {
    "duration": 38,
    "start_time": "2022-08-18T15:14:29.893Z"
   },
   {
    "duration": 13,
    "start_time": "2022-08-18T15:14:29.933Z"
   },
   {
    "duration": 3,
    "start_time": "2022-08-18T15:14:29.948Z"
   },
   {
    "duration": 53,
    "start_time": "2022-08-18T15:14:29.953Z"
   },
   {
    "duration": 51,
    "start_time": "2022-08-18T15:14:30.010Z"
   },
   {
    "duration": 47,
    "start_time": "2022-08-18T15:14:30.062Z"
   },
   {
    "duration": 785,
    "start_time": "2022-08-18T15:14:30.114Z"
   },
   {
    "duration": 750,
    "start_time": "2022-08-18T15:14:30.900Z"
   },
   {
    "duration": 51,
    "start_time": "2022-08-18T15:14:31.652Z"
   },
   {
    "duration": 129,
    "start_time": "2022-08-18T15:14:31.709Z"
   },
   {
    "duration": 364,
    "start_time": "2022-08-18T15:14:31.840Z"
   },
   {
    "duration": 2005,
    "start_time": "2022-08-18T15:14:32.208Z"
   },
   {
    "duration": 480,
    "start_time": "2022-08-18T15:14:34.215Z"
   },
   {
    "duration": 7,
    "start_time": "2022-08-18T15:14:34.697Z"
   },
   {
    "duration": 50,
    "start_time": "2022-08-18T15:14:34.705Z"
   },
   {
    "duration": 12,
    "start_time": "2022-08-18T15:14:34.761Z"
   },
   {
    "duration": 15,
    "start_time": "2022-08-18T15:14:34.774Z"
   },
   {
    "duration": 8,
    "start_time": "2022-08-18T15:14:34.791Z"
   },
   {
    "duration": 40,
    "start_time": "2022-08-18T15:14:34.802Z"
   },
   {
    "duration": 9,
    "start_time": "2022-08-18T15:14:34.844Z"
   },
   {
    "duration": 157,
    "start_time": "2022-08-18T15:14:34.855Z"
   },
   {
    "duration": 47,
    "start_time": "2022-08-18T15:14:35.014Z"
   },
   {
    "duration": 1063,
    "start_time": "2022-08-18T15:14:35.063Z"
   },
   {
    "duration": 67,
    "start_time": "2022-08-18T15:14:36.128Z"
   },
   {
    "duration": 89,
    "start_time": "2022-08-18T15:14:36.199Z"
   },
   {
    "duration": 118,
    "start_time": "2022-08-18T15:14:36.297Z"
   },
   {
    "duration": 1194,
    "start_time": "2022-08-18T15:14:36.420Z"
   },
   {
    "duration": 108,
    "start_time": "2022-08-18T15:14:37.621Z"
   },
   {
    "duration": 1499,
    "start_time": "2022-08-18T15:14:53.524Z"
   },
   {
    "duration": 72,
    "start_time": "2022-08-18T15:14:59.139Z"
   },
   {
    "duration": 5,
    "start_time": "2022-08-18T15:15:10.875Z"
   },
   {
    "duration": 27,
    "start_time": "2022-08-18T15:15:12.982Z"
   },
   {
    "duration": 6,
    "start_time": "2022-08-18T15:15:15.471Z"
   },
   {
    "duration": 14,
    "start_time": "2022-08-18T15:15:17.538Z"
   },
   {
    "duration": 8,
    "start_time": "2022-08-18T15:15:19.613Z"
   },
   {
    "duration": 4,
    "start_time": "2022-08-18T15:15:23.029Z"
   },
   {
    "duration": 10,
    "start_time": "2022-08-18T15:15:25.117Z"
   },
   {
    "duration": 243,
    "start_time": "2022-08-18T15:15:27.113Z"
   },
   {
    "duration": 6,
    "start_time": "2022-08-18T15:15:40.942Z"
   },
   {
    "duration": 10,
    "start_time": "2022-08-18T15:15:42.782Z"
   },
   {
    "duration": 6,
    "start_time": "2022-08-18T15:15:44.955Z"
   },
   {
    "duration": 59,
    "start_time": "2022-08-18T15:15:46.966Z"
   },
   {
    "duration": 1838,
    "start_time": "2022-08-18T15:15:49.615Z"
   },
   {
    "duration": 15,
    "start_time": "2022-08-18T15:15:54.289Z"
   },
   {
    "duration": 21,
    "start_time": "2022-08-18T15:15:56.581Z"
   },
   {
    "duration": 15,
    "start_time": "2022-08-18T15:15:58.857Z"
   },
   {
    "duration": 11,
    "start_time": "2022-08-18T15:16:00.848Z"
   },
   {
    "duration": 6,
    "start_time": "2022-08-18T15:16:04.034Z"
   },
   {
    "duration": 7,
    "start_time": "2022-08-18T15:16:06.462Z"
   },
   {
    "duration": 9,
    "start_time": "2022-08-18T15:16:08.841Z"
   },
   {
    "duration": 5,
    "start_time": "2022-08-18T15:16:10.976Z"
   },
   {
    "duration": 6,
    "start_time": "2022-08-18T15:16:12.866Z"
   },
   {
    "duration": 13,
    "start_time": "2022-08-18T15:16:14.917Z"
   },
   {
    "duration": 7,
    "start_time": "2022-08-18T15:16:17.112Z"
   },
   {
    "duration": 15,
    "start_time": "2022-08-18T15:16:19.212Z"
   },
   {
    "duration": 8,
    "start_time": "2022-08-18T15:16:22.317Z"
   },
   {
    "duration": 35,
    "start_time": "2022-08-18T15:16:24.640Z"
   },
   {
    "duration": 47,
    "start_time": "2022-08-18T15:16:37.368Z"
   },
   {
    "duration": 41,
    "start_time": "2022-08-18T15:16:40.230Z"
   },
   {
    "duration": 818,
    "start_time": "2022-08-18T15:16:44.327Z"
   },
   {
    "duration": 802,
    "start_time": "2022-08-18T15:16:47.607Z"
   },
   {
    "duration": 58,
    "start_time": "2022-08-18T15:16:51.275Z"
   },
   {
    "duration": 49,
    "start_time": "2022-08-18T15:16:56.926Z"
   },
   {
    "duration": 188,
    "start_time": "2022-08-18T15:17:00.611Z"
   },
   {
    "duration": 918,
    "start_time": "2022-08-18T15:17:04.059Z"
   },
   {
    "duration": 304,
    "start_time": "2022-08-18T15:17:08.774Z"
   },
   {
    "duration": 13,
    "start_time": "2022-08-18T15:17:12.728Z"
   },
   {
    "duration": 6,
    "start_time": "2022-08-18T15:17:14.729Z"
   },
   {
    "duration": 7,
    "start_time": "2022-08-18T15:17:23.359Z"
   },
   {
    "duration": 3,
    "start_time": "2022-08-18T15:17:25.634Z"
   },
   {
    "duration": 6,
    "start_time": "2022-08-18T15:17:28.067Z"
   },
   {
    "duration": 6,
    "start_time": "2022-08-18T15:17:31.797Z"
   },
   {
    "duration": 5,
    "start_time": "2022-08-18T15:17:34.279Z"
   },
   {
    "duration": 116,
    "start_time": "2022-08-18T15:17:40.931Z"
   },
   {
    "duration": 49,
    "start_time": "2022-08-18T15:17:45.025Z"
   },
   {
    "duration": 1003,
    "start_time": "2022-08-18T15:17:58.818Z"
   },
   {
    "duration": 58,
    "start_time": "2022-08-18T15:18:11.835Z"
   },
   {
    "duration": 11,
    "start_time": "2022-08-18T15:18:21.046Z"
   },
   {
    "duration": 81,
    "start_time": "2022-08-18T15:18:23.971Z"
   },
   {
    "duration": 1085,
    "start_time": "2022-08-18T15:18:36.952Z"
   },
   {
    "duration": 43,
    "start_time": "2022-08-18T15:18:41.748Z"
   },
   {
    "duration": 330124,
    "start_time": "2022-08-18T15:19:05.574Z"
   },
   {
    "duration": 506,
    "start_time": "2022-08-18T15:25:55.969Z"
   },
   {
    "duration": 30,
    "start_time": "2022-08-18T15:26:02.219Z"
   },
   {
    "duration": 15,
    "start_time": "2022-08-18T15:26:35.108Z"
   },
   {
    "duration": 12,
    "start_time": "2022-08-18T15:26:39.689Z"
   },
   {
    "duration": 5,
    "start_time": "2022-08-18T15:26:43.872Z"
   },
   {
    "duration": 4,
    "start_time": "2022-08-18T15:26:47.052Z"
   },
   {
    "duration": 133,
    "start_time": "2022-08-18T15:26:49.650Z"
   },
   {
    "duration": 26,
    "start_time": "2022-08-18T15:26:59.937Z"
   },
   {
    "duration": 604,
    "start_time": "2022-08-18T15:27:04.518Z"
   },
   {
    "duration": 115,
    "start_time": "2022-08-18T15:27:14.382Z"
   },
   {
    "duration": 144,
    "start_time": "2022-08-18T15:27:31.862Z"
   },
   {
    "duration": 133,
    "start_time": "2022-08-18T15:27:38.277Z"
   },
   {
    "duration": 1016,
    "start_time": "2022-08-18T15:27:46.746Z"
   },
   {
    "duration": 125,
    "start_time": "2022-08-18T15:28:13.353Z"
   },
   {
    "duration": 264,
    "start_time": "2022-08-18T15:28:28.408Z"
   },
   {
    "duration": 143,
    "start_time": "2022-08-18T15:28:35.591Z"
   },
   {
    "duration": 147,
    "start_time": "2022-08-18T15:39:05.480Z"
   },
   {
    "duration": 533,
    "start_time": "2022-08-18T15:39:24.838Z"
   },
   {
    "duration": 30,
    "start_time": "2022-08-18T15:40:38.141Z"
   },
   {
    "duration": 571,
    "start_time": "2022-08-18T15:40:46.396Z"
   },
   {
    "duration": 6,
    "start_time": "2022-08-18T15:43:05.242Z"
   },
   {
    "duration": 7,
    "start_time": "2022-08-18T15:43:10.778Z"
   },
   {
    "duration": 353,
    "start_time": "2022-08-18T15:46:27.113Z"
   },
   {
    "duration": 371,
    "start_time": "2022-08-18T15:47:00.014Z"
   },
   {
    "duration": 418,
    "start_time": "2022-08-18T15:48:26.313Z"
   },
   {
    "duration": 164,
    "start_time": "2022-08-18T15:48:38.981Z"
   },
   {
    "duration": 144,
    "start_time": "2022-08-18T15:52:56.162Z"
   },
   {
    "duration": 5,
    "start_time": "2022-08-18T15:53:15.776Z"
   },
   {
    "duration": 13,
    "start_time": "2022-08-18T15:53:22.378Z"
   },
   {
    "duration": 9,
    "start_time": "2022-08-18T15:53:34.170Z"
   },
   {
    "duration": 11,
    "start_time": "2022-08-18T15:54:07.555Z"
   },
   {
    "duration": 5,
    "start_time": "2022-08-18T16:10:19.041Z"
   },
   {
    "duration": 7,
    "start_time": "2022-08-18T16:10:28.419Z"
   },
   {
    "duration": 3,
    "start_time": "2022-08-18T16:10:42.228Z"
   },
   {
    "duration": 3,
    "start_time": "2022-08-18T16:10:49.959Z"
   },
   {
    "duration": 5,
    "start_time": "2022-08-18T16:11:05.773Z"
   },
   {
    "duration": 11,
    "start_time": "2022-08-18T16:11:26.306Z"
   },
   {
    "duration": 7,
    "start_time": "2022-08-18T16:14:37.571Z"
   },
   {
    "duration": 6,
    "start_time": "2022-08-18T16:14:51.939Z"
   },
   {
    "duration": 6,
    "start_time": "2022-08-18T16:15:18.272Z"
   },
   {
    "duration": 3,
    "start_time": "2022-08-18T16:15:30.255Z"
   },
   {
    "duration": 6,
    "start_time": "2022-08-18T16:15:46.547Z"
   },
   {
    "duration": 144,
    "start_time": "2022-08-18T16:16:04.225Z"
   },
   {
    "duration": 11,
    "start_time": "2022-08-18T16:18:11.660Z"
   },
   {
    "duration": 8,
    "start_time": "2022-08-18T16:18:18.826Z"
   },
   {
    "duration": 7,
    "start_time": "2022-08-18T16:18:44.053Z"
   },
   {
    "duration": 11,
    "start_time": "2022-08-18T16:18:51.422Z"
   },
   {
    "duration": 15,
    "start_time": "2022-08-18T16:19:28.006Z"
   },
   {
    "duration": 190,
    "start_time": "2022-08-18T16:19:36.556Z"
   },
   {
    "duration": 448,
    "start_time": "2022-08-18T16:20:09.359Z"
   },
   {
    "duration": 1529,
    "start_time": "2022-08-18T16:31:44.916Z"
   },
   {
    "duration": 83,
    "start_time": "2022-08-18T16:31:46.450Z"
   },
   {
    "duration": 10,
    "start_time": "2022-08-18T16:31:46.538Z"
   },
   {
    "duration": 52,
    "start_time": "2022-08-18T16:31:46.550Z"
   },
   {
    "duration": 62,
    "start_time": "2022-08-18T16:31:46.604Z"
   },
   {
    "duration": 32,
    "start_time": "2022-08-18T16:31:46.669Z"
   },
   {
    "duration": 65,
    "start_time": "2022-08-18T16:31:46.703Z"
   },
   {
    "duration": 17,
    "start_time": "2022-08-18T16:31:46.769Z"
   },
   {
    "duration": 79,
    "start_time": "2022-08-18T16:31:46.788Z"
   },
   {
    "duration": 265,
    "start_time": "2022-08-18T16:31:46.869Z"
   },
   {
    "duration": 10,
    "start_time": "2022-08-18T16:31:47.136Z"
   },
   {
    "duration": 33,
    "start_time": "2022-08-18T16:31:47.148Z"
   },
   {
    "duration": 46,
    "start_time": "2022-08-18T16:31:47.183Z"
   },
   {
    "duration": 48,
    "start_time": "2022-08-18T16:31:47.232Z"
   },
   {
    "duration": 1999,
    "start_time": "2022-08-18T16:31:47.281Z"
   },
   {
    "duration": 13,
    "start_time": "2022-08-18T16:31:49.282Z"
   },
   {
    "duration": 70,
    "start_time": "2022-08-18T16:31:49.297Z"
   },
   {
    "duration": 37,
    "start_time": "2022-08-18T16:31:49.369Z"
   },
   {
    "duration": 64,
    "start_time": "2022-08-18T16:31:49.409Z"
   },
   {
    "duration": 16,
    "start_time": "2022-08-18T16:31:49.475Z"
   },
   {
    "duration": 64,
    "start_time": "2022-08-18T16:31:49.492Z"
   },
   {
    "duration": 42,
    "start_time": "2022-08-18T16:31:49.558Z"
   },
   {
    "duration": 56,
    "start_time": "2022-08-18T16:31:49.602Z"
   },
   {
    "duration": 8,
    "start_time": "2022-08-18T16:31:49.659Z"
   },
   {
    "duration": 17,
    "start_time": "2022-08-18T16:31:49.668Z"
   },
   {
    "duration": 66,
    "start_time": "2022-08-18T16:31:49.686Z"
   },
   {
    "duration": 18,
    "start_time": "2022-08-18T16:31:49.754Z"
   },
   {
    "duration": 66,
    "start_time": "2022-08-18T16:31:49.774Z"
   },
   {
    "duration": 73,
    "start_time": "2022-08-18T16:31:49.842Z"
   },
   {
    "duration": 69,
    "start_time": "2022-08-18T16:31:49.917Z"
   },
   {
    "duration": 54,
    "start_time": "2022-08-18T16:31:49.992Z"
   },
   {
    "duration": 789,
    "start_time": "2022-08-18T16:31:50.050Z"
   },
   {
    "duration": 775,
    "start_time": "2022-08-18T16:31:50.841Z"
   },
   {
    "duration": 82,
    "start_time": "2022-08-18T16:31:51.623Z"
   },
   {
    "duration": 122,
    "start_time": "2022-08-18T16:31:51.722Z"
   },
   {
    "duration": 270,
    "start_time": "2022-08-18T16:31:51.894Z"
   },
   {
    "duration": 859,
    "start_time": "2022-08-18T16:31:52.165Z"
   },
   {
    "duration": 236,
    "start_time": "2022-08-18T16:31:53.029Z"
   },
   {
    "duration": 5,
    "start_time": "2022-08-18T16:31:53.267Z"
   },
   {
    "duration": 7,
    "start_time": "2022-08-18T16:31:53.273Z"
   },
   {
    "duration": 12,
    "start_time": "2022-08-18T16:31:53.291Z"
   },
   {
    "duration": 37,
    "start_time": "2022-08-18T16:31:53.304Z"
   },
   {
    "duration": 7,
    "start_time": "2022-08-18T16:31:53.343Z"
   },
   {
    "duration": 4,
    "start_time": "2022-08-18T16:31:53.352Z"
   },
   {
    "duration": 7,
    "start_time": "2022-08-18T16:31:53.358Z"
   },
   {
    "duration": 144,
    "start_time": "2022-08-18T16:31:53.366Z"
   },
   {
    "duration": 48,
    "start_time": "2022-08-18T16:31:53.516Z"
   },
   {
    "duration": 1042,
    "start_time": "2022-08-18T16:31:53.566Z"
   },
   {
    "duration": 36,
    "start_time": "2022-08-18T16:31:54.610Z"
   },
   {
    "duration": 27,
    "start_time": "2022-08-18T16:31:54.695Z"
   },
   {
    "duration": 158,
    "start_time": "2022-08-18T16:31:54.724Z"
   },
   {
    "duration": 1083,
    "start_time": "2022-08-18T16:31:54.884Z"
   },
   {
    "duration": 57,
    "start_time": "2022-08-18T16:31:55.969Z"
   },
   {
    "duration": 68,
    "start_time": "2022-08-18T16:31:56.034Z"
   },
   {
    "duration": 16,
    "start_time": "2022-08-18T16:31:56.105Z"
   },
   {
    "duration": 65,
    "start_time": "2022-08-18T16:31:56.131Z"
   },
   {
    "duration": 80,
    "start_time": "2022-08-18T16:31:56.200Z"
   },
   {
    "duration": 246,
    "start_time": "2022-08-18T16:31:56.283Z"
   },
   {
    "duration": 38,
    "start_time": "2022-08-18T16:31:56.537Z"
   },
   {
    "duration": 647,
    "start_time": "2022-08-18T16:31:56.576Z"
   },
   {
    "duration": 28,
    "start_time": "2022-08-18T16:31:57.228Z"
   },
   {
    "duration": 226,
    "start_time": "2022-08-18T16:31:57.291Z"
   },
   {
    "duration": 129,
    "start_time": "2022-08-18T16:31:57.522Z"
   },
   {
    "duration": 982,
    "start_time": "2022-08-18T16:31:57.654Z"
   },
   {
    "duration": 126,
    "start_time": "2022-08-18T16:31:58.638Z"
   },
   {
    "duration": 296,
    "start_time": "2022-08-18T16:31:58.766Z"
   },
   {
    "duration": 126,
    "start_time": "2022-08-18T16:31:59.063Z"
   },
   {
    "duration": 310407,
    "start_time": "2022-08-18T16:31:59.202Z"
   },
   {
    "duration": 471,
    "start_time": "2022-08-18T16:37:09.610Z"
   },
   {
    "duration": 11,
    "start_time": "2022-08-18T16:37:10.090Z"
   },
   {
    "duration": 47,
    "start_time": "2022-08-18T16:37:10.108Z"
   },
   {
    "duration": 374,
    "start_time": "2022-08-18T16:37:10.156Z"
   },
   {
    "duration": 145,
    "start_time": "2022-08-18T16:37:10.540Z"
   },
   {
    "duration": 19,
    "start_time": "2022-08-18T16:37:10.687Z"
   },
   {
    "duration": 49,
    "start_time": "2022-08-18T16:37:10.711Z"
   },
   {
    "duration": 22,
    "start_time": "2022-08-18T16:37:10.762Z"
   },
   {
    "duration": 56,
    "start_time": "2022-08-18T16:37:10.785Z"
   },
   {
    "duration": 22,
    "start_time": "2022-08-18T16:37:10.844Z"
   },
   {
    "duration": 55,
    "start_time": "2022-08-18T16:37:10.867Z"
   },
   {
    "duration": 45,
    "start_time": "2022-08-18T16:37:10.923Z"
   },
   {
    "duration": 50,
    "start_time": "2022-08-18T16:37:10.969Z"
   },
   {
    "duration": 22,
    "start_time": "2022-08-18T16:37:11.030Z"
   },
   {
    "duration": 26,
    "start_time": "2022-08-18T16:37:11.053Z"
   },
   {
    "duration": 60,
    "start_time": "2022-08-18T16:37:11.081Z"
   },
   {
    "duration": 149,
    "start_time": "2022-08-18T16:37:11.143Z"
   },
   {
    "duration": 456,
    "start_time": "2022-08-18T16:37:11.294Z"
   },
   {
    "duration": 90,
    "start_time": "2022-08-18T16:37:11.752Z"
   },
   {
    "duration": 459,
    "start_time": "2022-08-18T16:52:00.408Z"
   },
   {
    "duration": 1113,
    "start_time": "2022-08-18T16:52:37.166Z"
   },
   {
    "duration": 41,
    "start_time": "2022-08-18T16:52:42.212Z"
   },
   {
    "duration": 3,
    "start_time": "2022-08-18T16:52:47.865Z"
   },
   {
    "duration": 76,
    "start_time": "2022-08-18T16:52:50.080Z"
   },
   {
    "duration": 1163,
    "start_time": "2022-08-18T16:52:55.653Z"
   },
   {
    "duration": 68,
    "start_time": "2022-08-18T16:52:59.371Z"
   },
   {
    "duration": 554,
    "start_time": "2022-08-18T16:53:23.777Z"
   },
   {
    "duration": 5,
    "start_time": "2022-08-18T16:53:32.251Z"
   },
   {
    "duration": 8,
    "start_time": "2022-08-18T16:53:34.679Z"
   },
   {
    "duration": 525,
    "start_time": "2022-08-18T16:54:07.551Z"
   },
   {
    "duration": 407,
    "start_time": "2022-08-18T16:54:23.020Z"
   },
   {
    "duration": 137,
    "start_time": "2022-08-18T16:54:27.859Z"
   },
   {
    "duration": 10,
    "start_time": "2022-08-18T16:54:32.163Z"
   },
   {
    "duration": 506,
    "start_time": "2022-08-18T16:54:51.452Z"
   },
   {
    "duration": 511,
    "start_time": "2022-08-18T16:56:02.812Z"
   },
   {
    "duration": 1520,
    "start_time": "2022-08-18T16:56:19.459Z"
   },
   {
    "duration": 96,
    "start_time": "2022-08-18T16:56:20.980Z"
   },
   {
    "duration": 5,
    "start_time": "2022-08-18T16:56:21.077Z"
   },
   {
    "duration": 67,
    "start_time": "2022-08-18T16:56:21.084Z"
   },
   {
    "duration": 7,
    "start_time": "2022-08-18T16:56:21.153Z"
   },
   {
    "duration": 12,
    "start_time": "2022-08-18T16:56:21.162Z"
   },
   {
    "duration": 4,
    "start_time": "2022-08-18T16:56:21.175Z"
   },
   {
    "duration": 21,
    "start_time": "2022-08-18T16:56:21.180Z"
   },
   {
    "duration": 54,
    "start_time": "2022-08-18T16:56:21.203Z"
   },
   {
    "duration": 212,
    "start_time": "2022-08-18T16:56:21.259Z"
   },
   {
    "duration": 5,
    "start_time": "2022-08-18T16:56:21.473Z"
   },
   {
    "duration": 9,
    "start_time": "2022-08-18T16:56:21.480Z"
   },
   {
    "duration": 28,
    "start_time": "2022-08-18T16:56:21.491Z"
   },
   {
    "duration": 63,
    "start_time": "2022-08-18T16:56:21.520Z"
   },
   {
    "duration": 1998,
    "start_time": "2022-08-18T16:56:21.584Z"
   },
   {
    "duration": 10,
    "start_time": "2022-08-18T16:56:23.583Z"
   },
   {
    "duration": 59,
    "start_time": "2022-08-18T16:56:23.596Z"
   },
   {
    "duration": 15,
    "start_time": "2022-08-18T16:56:23.659Z"
   },
   {
    "duration": 16,
    "start_time": "2022-08-18T16:56:23.676Z"
   },
   {
    "duration": 60,
    "start_time": "2022-08-18T16:56:23.694Z"
   },
   {
    "duration": 15,
    "start_time": "2022-08-18T16:56:23.755Z"
   },
   {
    "duration": 10,
    "start_time": "2022-08-18T16:56:23.771Z"
   },
   {
    "duration": 15,
    "start_time": "2022-08-18T16:56:23.783Z"
   },
   {
    "duration": 63,
    "start_time": "2022-08-18T16:56:23.800Z"
   },
   {
    "duration": 8,
    "start_time": "2022-08-18T16:56:23.864Z"
   },
   {
    "duration": 5,
    "start_time": "2022-08-18T16:56:23.873Z"
   },
   {
    "duration": 17,
    "start_time": "2022-08-18T16:56:23.879Z"
   },
   {
    "duration": 55,
    "start_time": "2022-08-18T16:56:23.900Z"
   },
   {
    "duration": 47,
    "start_time": "2022-08-18T16:56:23.956Z"
   },
   {
    "duration": 57,
    "start_time": "2022-08-18T16:56:24.005Z"
   },
   {
    "duration": 52,
    "start_time": "2022-08-18T16:56:24.064Z"
   },
   {
    "duration": 826,
    "start_time": "2022-08-18T16:56:24.120Z"
   },
   {
    "duration": 810,
    "start_time": "2022-08-18T16:56:24.949Z"
   },
   {
    "duration": 31,
    "start_time": "2022-08-18T16:56:25.761Z"
   },
   {
    "duration": 126,
    "start_time": "2022-08-18T16:56:25.794Z"
   },
   {
    "duration": 339,
    "start_time": "2022-08-18T16:56:25.923Z"
   },
   {
    "duration": 983,
    "start_time": "2022-08-18T16:56:26.264Z"
   },
   {
    "duration": 221,
    "start_time": "2022-08-18T16:56:27.249Z"
   },
   {
    "duration": 5,
    "start_time": "2022-08-18T16:56:27.471Z"
   },
   {
    "duration": 11,
    "start_time": "2022-08-18T16:56:27.478Z"
   },
   {
    "duration": 61,
    "start_time": "2022-08-18T16:56:27.491Z"
   },
   {
    "duration": 10,
    "start_time": "2022-08-18T16:56:27.553Z"
   },
   {
    "duration": 9,
    "start_time": "2022-08-18T16:56:27.565Z"
   },
   {
    "duration": 4,
    "start_time": "2022-08-18T16:56:27.576Z"
   },
   {
    "duration": 10,
    "start_time": "2022-08-18T16:56:27.582Z"
   },
   {
    "duration": 196,
    "start_time": "2022-08-18T16:56:27.595Z"
   },
   {
    "duration": 52,
    "start_time": "2022-08-18T16:56:27.793Z"
   },
   {
    "duration": 1136,
    "start_time": "2022-08-18T16:56:27.847Z"
   },
   {
    "duration": 126,
    "start_time": "2022-08-18T16:56:28.986Z"
   },
   {
    "duration": 13,
    "start_time": "2022-08-18T16:56:29.124Z"
   },
   {
    "duration": 123,
    "start_time": "2022-08-18T16:56:29.141Z"
   },
   {
    "duration": 1100,
    "start_time": "2022-08-18T16:56:29.266Z"
   },
   {
    "duration": 144,
    "start_time": "2022-08-18T16:56:30.368Z"
   },
   {
    "duration": 23,
    "start_time": "2022-08-18T16:56:30.524Z"
   },
   {
    "duration": 29,
    "start_time": "2022-08-18T16:56:30.549Z"
   },
   {
    "duration": 141,
    "start_time": "2022-08-18T16:56:30.580Z"
   },
   {
    "duration": 38,
    "start_time": "2022-08-18T16:56:30.724Z"
   },
   {
    "duration": 241,
    "start_time": "2022-08-18T16:56:30.764Z"
   },
   {
    "duration": 36,
    "start_time": "2022-08-18T16:56:31.007Z"
   },
   {
    "duration": 672,
    "start_time": "2022-08-18T16:56:31.045Z"
   },
   {
    "duration": 79,
    "start_time": "2022-08-18T16:56:31.719Z"
   },
   {
    "duration": 273,
    "start_time": "2022-08-18T16:56:31.813Z"
   },
   {
    "duration": 166,
    "start_time": "2022-08-18T16:56:32.087Z"
   },
   {
    "duration": 1076,
    "start_time": "2022-08-18T16:56:32.255Z"
   },
   {
    "duration": 139,
    "start_time": "2022-08-18T16:56:33.342Z"
   },
   {
    "duration": 274,
    "start_time": "2022-08-18T16:56:33.482Z"
   },
   {
    "duration": 135,
    "start_time": "2022-08-18T16:56:33.758Z"
   },
   {
    "duration": 335585,
    "start_time": "2022-08-18T16:56:33.895Z"
   },
   {
    "duration": 536,
    "start_time": "2022-08-18T17:02:09.482Z"
   },
   {
    "duration": 14,
    "start_time": "2022-08-18T17:02:10.030Z"
   },
   {
    "duration": 46,
    "start_time": "2022-08-18T17:02:10.048Z"
   },
   {
    "duration": 480,
    "start_time": "2022-08-18T17:02:10.108Z"
   },
   {
    "duration": 158,
    "start_time": "2022-08-18T17:02:10.590Z"
   },
   {
    "duration": 12,
    "start_time": "2022-08-18T17:02:10.751Z"
   },
   {
    "duration": 33,
    "start_time": "2022-08-18T17:02:10.766Z"
   },
   {
    "duration": 53,
    "start_time": "2022-08-18T17:02:10.800Z"
   },
   {
    "duration": 18,
    "start_time": "2022-08-18T17:02:10.855Z"
   },
   {
    "duration": 69,
    "start_time": "2022-08-18T17:02:10.874Z"
   },
   {
    "duration": 35,
    "start_time": "2022-08-18T17:02:10.944Z"
   },
   {
    "duration": 79,
    "start_time": "2022-08-18T17:02:10.981Z"
   },
   {
    "duration": 47,
    "start_time": "2022-08-18T17:02:11.062Z"
   },
   {
    "duration": 54,
    "start_time": "2022-08-18T17:02:11.123Z"
   },
   {
    "duration": 101,
    "start_time": "2022-08-18T17:02:11.179Z"
   },
   {
    "duration": 82,
    "start_time": "2022-08-18T17:02:11.282Z"
   },
   {
    "duration": 173,
    "start_time": "2022-08-18T17:02:11.366Z"
   },
   {
    "duration": 498,
    "start_time": "2022-08-18T17:02:11.544Z"
   },
   {
    "duration": 1328,
    "start_time": "2022-08-18T17:40:31.430Z"
   },
   {
    "duration": 76,
    "start_time": "2022-08-18T17:40:36.066Z"
   },
   {
    "duration": 5,
    "start_time": "2022-08-18T17:40:39.038Z"
   },
   {
    "duration": 12,
    "start_time": "2022-08-18T17:40:41.146Z"
   },
   {
    "duration": 5,
    "start_time": "2022-08-18T17:40:43.963Z"
   },
   {
    "duration": 26,
    "start_time": "2022-08-18T17:40:46.282Z"
   },
   {
    "duration": 5,
    "start_time": "2022-08-18T17:40:48.330Z"
   },
   {
    "duration": 4,
    "start_time": "2022-08-18T17:40:50.628Z"
   },
   {
    "duration": 5,
    "start_time": "2022-08-18T17:40:52.733Z"
   },
   {
    "duration": 205,
    "start_time": "2022-08-18T17:40:54.930Z"
   },
   {
    "duration": 5,
    "start_time": "2022-08-18T17:40:59.642Z"
   },
   {
    "duration": 5,
    "start_time": "2022-08-18T17:41:34.245Z"
   },
   {
    "duration": 6,
    "start_time": "2022-08-18T17:41:36.749Z"
   },
   {
    "duration": 34,
    "start_time": "2022-08-18T17:41:39.432Z"
   },
   {
    "duration": 1700,
    "start_time": "2022-08-18T17:41:42.240Z"
   },
   {
    "duration": 5,
    "start_time": "2022-08-18T17:41:47.156Z"
   },
   {
    "duration": 10,
    "start_time": "2022-08-18T17:41:50.447Z"
   },
   {
    "duration": 18,
    "start_time": "2022-08-18T17:41:52.945Z"
   },
   {
    "duration": 15,
    "start_time": "2022-08-18T17:41:55.679Z"
   },
   {
    "duration": 6,
    "start_time": "2022-08-18T17:41:59.554Z"
   },
   {
    "duration": 6,
    "start_time": "2022-08-18T17:42:01.532Z"
   },
   {
    "duration": 8,
    "start_time": "2022-08-18T17:42:03.745Z"
   },
   {
    "duration": 5,
    "start_time": "2022-08-18T17:42:06.766Z"
   },
   {
    "duration": 5,
    "start_time": "2022-08-18T17:42:08.881Z"
   },
   {
    "duration": 6,
    "start_time": "2022-08-18T17:42:11.059Z"
   },
   {
    "duration": 4,
    "start_time": "2022-08-18T17:42:14.278Z"
   },
   {
    "duration": 11,
    "start_time": "2022-08-18T17:42:16.180Z"
   },
   {
    "duration": 3,
    "start_time": "2022-08-18T17:42:24.475Z"
   },
   {
    "duration": 33,
    "start_time": "2022-08-18T17:42:26.837Z"
   },
   {
    "duration": 46,
    "start_time": "2022-08-18T17:42:31.283Z"
   },
   {
    "duration": 53,
    "start_time": "2022-08-18T17:42:33.344Z"
   },
   {
    "duration": 788,
    "start_time": "2022-08-18T17:42:35.932Z"
   },
   {
    "duration": 697,
    "start_time": "2022-08-18T17:42:39.840Z"
   },
   {
    "duration": 42,
    "start_time": "2022-08-18T17:42:43.557Z"
   },
   {
    "duration": 38,
    "start_time": "2022-08-18T17:42:55.059Z"
   },
   {
    "duration": 147,
    "start_time": "2022-08-18T17:43:00.784Z"
   },
   {
    "duration": 824,
    "start_time": "2022-08-18T17:43:04.737Z"
   },
   {
    "duration": 273,
    "start_time": "2022-08-18T17:43:08.762Z"
   },
   {
    "duration": 11,
    "start_time": "2022-08-18T17:43:13.787Z"
   },
   {
    "duration": 4,
    "start_time": "2022-08-18T17:43:17.529Z"
   },
   {
    "duration": 8,
    "start_time": "2022-08-18T17:43:22.550Z"
   },
   {
    "duration": 4,
    "start_time": "2022-08-18T17:43:25.529Z"
   },
   {
    "duration": 6,
    "start_time": "2022-08-18T17:43:28.633Z"
   },
   {
    "duration": 4,
    "start_time": "2022-08-18T17:43:30.577Z"
   },
   {
    "duration": 5,
    "start_time": "2022-08-18T17:43:52.932Z"
   },
   {
    "duration": 127,
    "start_time": "2022-08-18T17:43:54.863Z"
   },
   {
    "duration": 49,
    "start_time": "2022-08-18T17:43:59.353Z"
   },
   {
    "duration": 1081,
    "start_time": "2022-08-18T17:44:06.105Z"
   },
   {
    "duration": 29,
    "start_time": "2022-08-18T17:44:10.840Z"
   },
   {
    "duration": 4,
    "start_time": "2022-08-18T17:44:27.336Z"
   },
   {
    "duration": 77,
    "start_time": "2022-08-18T17:44:31.667Z"
   },
   {
    "duration": 1041,
    "start_time": "2022-08-18T17:44:35.137Z"
   },
   {
    "duration": 115,
    "start_time": "2022-08-18T17:44:40.582Z"
   },
   {
    "duration": 8,
    "start_time": "2022-08-18T17:44:51.740Z"
   },
   {
    "duration": 7,
    "start_time": "2022-08-18T17:44:54.161Z"
   },
   {
    "duration": 6,
    "start_time": "2022-08-18T17:44:56.746Z"
   },
   {
    "duration": 3,
    "start_time": "2022-08-18T17:44:59.137Z"
   },
   {
    "duration": 150,
    "start_time": "2022-08-18T17:45:01.742Z"
   },
   {
    "duration": 27,
    "start_time": "2022-08-18T17:45:06.056Z"
   },
   {
    "duration": 590,
    "start_time": "2022-08-18T17:45:11.167Z"
   },
   {
    "duration": 47,
    "start_time": "2022-08-18T17:45:15.653Z"
   },
   {
    "duration": 131,
    "start_time": "2022-08-18T17:45:22.345Z"
   },
   {
    "duration": 131,
    "start_time": "2022-08-18T17:45:33.157Z"
   },
   {
    "duration": 992,
    "start_time": "2022-08-18T17:45:39.357Z"
   },
   {
    "duration": 130,
    "start_time": "2022-08-18T17:45:44.920Z"
   },
   {
    "duration": 271,
    "start_time": "2022-08-18T17:45:56.231Z"
   },
   {
    "duration": 124,
    "start_time": "2022-08-18T17:46:03.037Z"
   },
   {
    "duration": 296022,
    "start_time": "2022-08-18T17:46:18.833Z"
   },
   {
    "duration": 461,
    "start_time": "2022-08-18T17:51:30.186Z"
   },
   {
    "duration": 11,
    "start_time": "2022-08-18T17:52:17.815Z"
   },
   {
    "duration": 8,
    "start_time": "2022-08-18T17:52:20.853Z"
   },
   {
    "duration": 392,
    "start_time": "2022-08-18T17:52:33.622Z"
   },
   {
    "duration": 121,
    "start_time": "2022-08-18T17:52:38.610Z"
   },
   {
    "duration": 12,
    "start_time": "2022-08-18T17:52:42.348Z"
   },
   {
    "duration": 4,
    "start_time": "2022-08-18T17:52:54.549Z"
   },
   {
    "duration": 6,
    "start_time": "2022-08-18T17:52:56.258Z"
   },
   {
    "duration": 4,
    "start_time": "2022-08-18T17:52:58.841Z"
   },
   {
    "duration": 4,
    "start_time": "2022-08-18T17:53:00.730Z"
   },
   {
    "duration": 6,
    "start_time": "2022-08-18T17:53:03.238Z"
   },
   {
    "duration": 6,
    "start_time": "2022-08-18T17:53:05.455Z"
   },
   {
    "duration": 4,
    "start_time": "2022-08-18T17:53:07.642Z"
   },
   {
    "duration": 7,
    "start_time": "2022-08-18T17:53:09.568Z"
   },
   {
    "duration": 9,
    "start_time": "2022-08-18T17:53:11.083Z"
   },
   {
    "duration": 6,
    "start_time": "2022-08-18T17:53:12.641Z"
   },
   {
    "duration": 137,
    "start_time": "2022-08-18T17:53:14.731Z"
   },
   {
    "duration": 423,
    "start_time": "2022-08-18T17:53:18.837Z"
   },
   {
    "duration": 1407,
    "start_time": "2022-08-18T17:53:47.738Z"
   },
   {
    "duration": 77,
    "start_time": "2022-08-18T17:53:49.148Z"
   },
   {
    "duration": 6,
    "start_time": "2022-08-18T17:53:49.230Z"
   },
   {
    "duration": 16,
    "start_time": "2022-08-18T17:53:49.238Z"
   },
   {
    "duration": 5,
    "start_time": "2022-08-18T17:53:49.256Z"
   },
   {
    "duration": 13,
    "start_time": "2022-08-18T17:53:49.262Z"
   },
   {
    "duration": 17,
    "start_time": "2022-08-18T17:53:49.277Z"
   },
   {
    "duration": 46,
    "start_time": "2022-08-18T17:53:49.295Z"
   },
   {
    "duration": 14,
    "start_time": "2022-08-18T17:53:49.343Z"
   },
   {
    "duration": 222,
    "start_time": "2022-08-18T17:53:49.359Z"
   },
   {
    "duration": 22,
    "start_time": "2022-08-18T17:53:49.583Z"
   },
   {
    "duration": 51,
    "start_time": "2022-08-18T17:53:49.609Z"
   },
   {
    "duration": 18,
    "start_time": "2022-08-18T17:53:49.662Z"
   },
   {
    "duration": 93,
    "start_time": "2022-08-18T17:53:49.683Z"
   },
   {
    "duration": 1810,
    "start_time": "2022-08-18T17:53:49.778Z"
   },
   {
    "duration": 13,
    "start_time": "2022-08-18T17:53:51.595Z"
   },
   {
    "duration": 33,
    "start_time": "2022-08-18T17:53:51.610Z"
   },
   {
    "duration": 17,
    "start_time": "2022-08-18T17:53:51.645Z"
   },
   {
    "duration": 14,
    "start_time": "2022-08-18T17:53:51.663Z"
   },
   {
    "duration": 5,
    "start_time": "2022-08-18T17:53:51.679Z"
   },
   {
    "duration": 47,
    "start_time": "2022-08-18T17:53:51.685Z"
   },
   {
    "duration": 9,
    "start_time": "2022-08-18T17:53:51.734Z"
   },
   {
    "duration": 5,
    "start_time": "2022-08-18T17:53:51.745Z"
   },
   {
    "duration": 5,
    "start_time": "2022-08-18T17:53:51.752Z"
   },
   {
    "duration": 7,
    "start_time": "2022-08-18T17:53:51.758Z"
   },
   {
    "duration": 5,
    "start_time": "2022-08-18T17:53:51.766Z"
   },
   {
    "duration": 13,
    "start_time": "2022-08-18T17:53:51.772Z"
   },
   {
    "duration": 44,
    "start_time": "2022-08-18T17:53:51.786Z"
   },
   {
    "duration": 35,
    "start_time": "2022-08-18T17:53:51.831Z"
   },
   {
    "duration": 40,
    "start_time": "2022-08-18T17:53:51.868Z"
   },
   {
    "duration": 37,
    "start_time": "2022-08-18T17:53:51.916Z"
   },
   {
    "duration": 735,
    "start_time": "2022-08-18T17:53:51.954Z"
   },
   {
    "duration": 735,
    "start_time": "2022-08-18T17:53:52.695Z"
   },
   {
    "duration": 58,
    "start_time": "2022-08-18T17:53:53.432Z"
   },
   {
    "duration": 121,
    "start_time": "2022-08-18T17:53:53.496Z"
   },
   {
    "duration": 291,
    "start_time": "2022-08-18T17:53:53.621Z"
   },
   {
    "duration": 850,
    "start_time": "2022-08-18T17:53:53.913Z"
   },
   {
    "duration": 238,
    "start_time": "2022-08-18T17:53:54.765Z"
   },
   {
    "duration": 17,
    "start_time": "2022-08-18T17:53:55.005Z"
   },
   {
    "duration": 16,
    "start_time": "2022-08-18T17:53:55.024Z"
   },
   {
    "duration": 7,
    "start_time": "2022-08-18T17:53:55.045Z"
   },
   {
    "duration": 4,
    "start_time": "2022-08-18T17:53:55.053Z"
   },
   {
    "duration": 6,
    "start_time": "2022-08-18T17:53:55.059Z"
   },
   {
    "duration": 3,
    "start_time": "2022-08-18T17:53:55.067Z"
   },
   {
    "duration": 18,
    "start_time": "2022-08-18T17:53:55.072Z"
   },
   {
    "duration": 128,
    "start_time": "2022-08-18T17:53:55.091Z"
   },
   {
    "duration": 42,
    "start_time": "2022-08-18T17:53:55.225Z"
   },
   {
    "duration": 1033,
    "start_time": "2022-08-18T17:53:55.268Z"
   },
   {
    "duration": 45,
    "start_time": "2022-08-18T17:53:56.302Z"
   },
   {
    "duration": 148,
    "start_time": "2022-08-18T17:53:56.350Z"
   },
   {
    "duration": 81,
    "start_time": "2022-08-18T17:53:56.509Z"
   },
   {
    "duration": 1054,
    "start_time": "2022-08-18T17:53:56.592Z"
   },
   {
    "duration": 56,
    "start_time": "2022-08-18T17:53:57.648Z"
   },
   {
    "duration": 12,
    "start_time": "2022-08-18T17:53:57.706Z"
   },
   {
    "duration": 46,
    "start_time": "2022-08-18T17:53:57.790Z"
   },
   {
    "duration": 5,
    "start_time": "2022-08-18T17:53:57.838Z"
   },
   {
    "duration": 5,
    "start_time": "2022-08-18T17:53:57.845Z"
   },
   {
    "duration": 140,
    "start_time": "2022-08-18T17:53:57.851Z"
   },
   {
    "duration": 33,
    "start_time": "2022-08-18T17:53:57.993Z"
   },
   {
    "duration": 541,
    "start_time": "2022-08-18T17:53:58.029Z"
   },
   {
    "duration": 43,
    "start_time": "2022-08-18T17:53:58.572Z"
   },
   {
    "duration": 287,
    "start_time": "2022-08-18T17:53:58.617Z"
   },
   {
    "duration": 125,
    "start_time": "2022-08-18T17:53:58.909Z"
   },
   {
    "duration": 925,
    "start_time": "2022-08-18T17:53:59.035Z"
   },
   {
    "duration": 159,
    "start_time": "2022-08-18T17:53:59.962Z"
   },
   {
    "duration": 230,
    "start_time": "2022-08-18T17:54:00.124Z"
   },
   {
    "duration": 135,
    "start_time": "2022-08-18T17:54:00.356Z"
   },
   {
    "duration": 294228,
    "start_time": "2022-08-18T17:54:00.496Z"
   },
   {
    "duration": 440,
    "start_time": "2022-08-18T17:58:54.730Z"
   },
   {
    "duration": 4,
    "start_time": "2022-08-18T17:58:55.172Z"
   },
   {
    "duration": 54,
    "start_time": "2022-08-18T17:58:55.178Z"
   },
   {
    "duration": 324,
    "start_time": "2022-08-18T17:58:55.233Z"
   },
   {
    "duration": 113,
    "start_time": "2022-08-18T17:58:55.558Z"
   },
   {
    "duration": 20,
    "start_time": "2022-08-18T17:58:55.673Z"
   },
   {
    "duration": 13,
    "start_time": "2022-08-18T17:58:55.704Z"
   },
   {
    "duration": 25,
    "start_time": "2022-08-18T17:58:55.718Z"
   },
   {
    "duration": 5,
    "start_time": "2022-08-18T17:58:55.744Z"
   },
   {
    "duration": 7,
    "start_time": "2022-08-18T17:58:55.750Z"
   },
   {
    "duration": 7,
    "start_time": "2022-08-18T17:58:55.759Z"
   },
   {
    "duration": 9,
    "start_time": "2022-08-18T17:58:55.767Z"
   },
   {
    "duration": 3,
    "start_time": "2022-08-18T17:58:55.777Z"
   },
   {
    "duration": 12,
    "start_time": "2022-08-18T17:58:55.781Z"
   },
   {
    "duration": 45,
    "start_time": "2022-08-18T17:58:55.794Z"
   },
   {
    "duration": 7,
    "start_time": "2022-08-18T17:58:55.841Z"
   },
   {
    "duration": 126,
    "start_time": "2022-08-18T17:58:55.849Z"
   },
   {
    "duration": 478,
    "start_time": "2022-08-18T17:58:55.977Z"
   },
   {
    "duration": 115,
    "start_time": "2022-08-18T18:13:55.236Z"
   },
   {
    "duration": 1410,
    "start_time": "2022-08-20T08:51:43.272Z"
   },
   {
    "duration": 4,
    "start_time": "2022-08-20T08:52:05.326Z"
   },
   {
    "duration": 99,
    "start_time": "2022-08-20T08:52:09.230Z"
   },
   {
    "duration": 5,
    "start_time": "2022-08-20T08:52:12.132Z"
   },
   {
    "duration": 12,
    "start_time": "2022-08-20T08:52:14.073Z"
   },
   {
    "duration": 6,
    "start_time": "2022-08-20T08:52:16.324Z"
   },
   {
    "duration": 12,
    "start_time": "2022-08-20T08:54:05.217Z"
   },
   {
    "duration": 5,
    "start_time": "2022-08-20T08:54:07.577Z"
   },
   {
    "duration": 4,
    "start_time": "2022-08-20T08:54:11.230Z"
   },
   {
    "duration": 5,
    "start_time": "2022-08-20T08:54:14.899Z"
   },
   {
    "duration": 184,
    "start_time": "2022-08-20T08:54:17.430Z"
   },
   {
    "duration": 5,
    "start_time": "2022-08-20T08:54:21.193Z"
   },
   {
    "duration": 8,
    "start_time": "2022-08-20T08:57:06.618Z"
   },
   {
    "duration": 39,
    "start_time": "2022-08-20T08:57:40.429Z"
   },
   {
    "duration": 1691,
    "start_time": "2022-08-20T08:57:43.926Z"
   },
   {
    "duration": 164,
    "start_time": "2022-08-20T08:59:40.819Z"
   },
   {
    "duration": 7,
    "start_time": "2022-08-20T09:00:03.658Z"
   },
   {
    "duration": 6,
    "start_time": "2022-08-20T09:00:25.704Z"
   },
   {
    "duration": 1175,
    "start_time": "2022-08-20T09:00:48.541Z"
   },
   {
    "duration": 59,
    "start_time": "2022-08-20T09:00:53.084Z"
   },
   {
    "duration": 4,
    "start_time": "2022-08-20T09:00:55.665Z"
   },
   {
    "duration": 12,
    "start_time": "2022-08-20T09:00:57.518Z"
   },
   {
    "duration": 6,
    "start_time": "2022-08-20T09:01:00.039Z"
   },
   {
    "duration": 13,
    "start_time": "2022-08-20T09:01:03.533Z"
   },
   {
    "duration": 5,
    "start_time": "2022-08-20T09:01:06.120Z"
   },
   {
    "duration": 4,
    "start_time": "2022-08-20T09:01:08.557Z"
   },
   {
    "duration": 5,
    "start_time": "2022-08-20T09:01:10.651Z"
   },
   {
    "duration": 176,
    "start_time": "2022-08-20T09:01:13.588Z"
   },
   {
    "duration": 5,
    "start_time": "2022-08-20T09:01:17.267Z"
   },
   {
    "duration": 6,
    "start_time": "2022-08-20T09:01:19.722Z"
   },
   {
    "duration": 7,
    "start_time": "2022-08-20T09:01:26.576Z"
   },
   {
    "duration": 6,
    "start_time": "2022-08-20T09:01:38.206Z"
   },
   {
    "duration": 185,
    "start_time": "2022-08-20T09:02:06.490Z"
   },
   {
    "duration": 163,
    "start_time": "2022-08-20T09:02:44.349Z"
   },
   {
    "duration": 36,
    "start_time": "2022-08-20T09:03:46.859Z"
   },
   {
    "duration": 1697,
    "start_time": "2022-08-20T09:04:02.656Z"
   },
   {
    "duration": 177,
    "start_time": "2022-08-20T09:09:42.267Z"
   },
   {
    "duration": 1713,
    "start_time": "2022-08-20T09:11:20.171Z"
   },
   {
    "duration": 5,
    "start_time": "2022-08-20T09:11:44.351Z"
   },
   {
    "duration": 14,
    "start_time": "2022-08-20T09:11:46.735Z"
   },
   {
    "duration": 15,
    "start_time": "2022-08-20T09:11:49.175Z"
   },
   {
    "duration": 15,
    "start_time": "2022-08-20T09:11:54.038Z"
   },
   {
    "duration": 6,
    "start_time": "2022-08-20T09:12:05.140Z"
   },
   {
    "duration": 7,
    "start_time": "2022-08-20T09:12:07.681Z"
   },
   {
    "duration": 9,
    "start_time": "2022-08-20T09:12:09.843Z"
   },
   {
    "duration": 4,
    "start_time": "2022-08-20T09:12:11.843Z"
   },
   {
    "duration": 6,
    "start_time": "2022-08-20T09:12:13.888Z"
   },
   {
    "duration": 7,
    "start_time": "2022-08-20T09:12:17.138Z"
   },
   {
    "duration": 5,
    "start_time": "2022-08-20T09:12:19.136Z"
   },
   {
    "duration": 8,
    "start_time": "2022-08-20T09:12:21.097Z"
   },
   {
    "duration": 3,
    "start_time": "2022-08-20T09:12:26.810Z"
   },
   {
    "duration": 32,
    "start_time": "2022-08-20T09:12:29.210Z"
   },
   {
    "duration": 34,
    "start_time": "2022-08-20T09:12:47.895Z"
   },
   {
    "duration": 658,
    "start_time": "2022-08-20T09:14:24.762Z"
   },
   {
    "duration": 26,
    "start_time": "2022-08-20T09:14:30.547Z"
   },
   {
    "duration": 129,
    "start_time": "2022-08-20T09:15:27.847Z"
   },
   {
    "duration": 716,
    "start_time": "2022-08-20T09:15:32.539Z"
   },
   {
    "duration": 225,
    "start_time": "2022-08-20T09:15:41.539Z"
   },
   {
    "duration": 5,
    "start_time": "2022-08-20T09:17:59.176Z"
   },
   {
    "duration": 5,
    "start_time": "2022-08-20T09:18:02.503Z"
   },
   {
    "duration": 53,
    "start_time": "2022-08-20T09:22:11.589Z"
   },
   {
    "duration": 667,
    "start_time": "2022-08-20T09:22:19.967Z"
   },
   {
    "duration": 62,
    "start_time": "2022-08-20T09:23:02.139Z"
   },
   {
    "duration": 1388,
    "start_time": "2022-08-20T09:24:32.521Z"
   },
   {
    "duration": 55,
    "start_time": "2022-08-20T09:24:37.301Z"
   },
   {
    "duration": 7,
    "start_time": "2022-08-20T09:24:40.001Z"
   },
   {
    "duration": 15,
    "start_time": "2022-08-20T09:24:42.115Z"
   },
   {
    "duration": 6,
    "start_time": "2022-08-20T09:24:44.676Z"
   },
   {
    "duration": 16,
    "start_time": "2022-08-20T09:24:48.200Z"
   },
   {
    "duration": 6,
    "start_time": "2022-08-20T09:24:51.322Z"
   },
   {
    "duration": 5,
    "start_time": "2022-08-20T09:24:54.044Z"
   },
   {
    "duration": 6,
    "start_time": "2022-08-20T09:24:56.133Z"
   },
   {
    "duration": 193,
    "start_time": "2022-08-20T09:24:58.516Z"
   },
   {
    "duration": 7,
    "start_time": "2022-08-20T09:25:20.536Z"
   },
   {
    "duration": 8,
    "start_time": "2022-08-20T09:25:31.887Z"
   },
   {
    "duration": 199,
    "start_time": "2022-08-20T09:25:35.617Z"
   },
   {
    "duration": 213,
    "start_time": "2022-08-20T09:27:15.163Z"
   },
   {
    "duration": 124,
    "start_time": "2022-08-20T09:27:35.063Z"
   },
   {
    "duration": 176,
    "start_time": "2022-08-20T09:27:55.620Z"
   },
   {
    "duration": 9,
    "start_time": "2022-08-20T09:28:38.857Z"
   },
   {
    "duration": 7,
    "start_time": "2022-08-20T09:28:50.090Z"
   },
   {
    "duration": 9,
    "start_time": "2022-08-20T09:29:02.115Z"
   },
   {
    "duration": 8,
    "start_time": "2022-08-20T09:29:32.676Z"
   },
   {
    "duration": 254,
    "start_time": "2022-08-20T09:30:16.683Z"
   },
   {
    "duration": 222,
    "start_time": "2022-08-20T09:30:40.926Z"
   },
   {
    "duration": 43,
    "start_time": "2022-08-20T09:32:16.171Z"
   },
   {
    "duration": 1539,
    "start_time": "2022-08-20T09:32:19.291Z"
   },
   {
    "duration": 7,
    "start_time": "2022-08-20T09:34:18.969Z"
   },
   {
    "duration": 7,
    "start_time": "2022-08-20T09:34:32.234Z"
   },
   {
    "duration": 224,
    "start_time": "2022-08-20T09:35:35.747Z"
   },
   {
    "duration": 114,
    "start_time": "2022-08-20T09:35:45.816Z"
   },
   {
    "duration": 144,
    "start_time": "2022-08-20T09:36:13.641Z"
   },
   {
    "duration": 18,
    "start_time": "2022-08-20T09:37:40.172Z"
   },
   {
    "duration": 7,
    "start_time": "2022-08-20T09:38:01.091Z"
   },
   {
    "duration": 2892,
    "start_time": "2022-08-20T09:38:07.945Z"
   },
   {
    "duration": 24294,
    "start_time": "2022-08-20T09:38:38.594Z"
   },
   {
    "duration": 1178,
    "start_time": "2022-08-20T09:39:27.089Z"
   },
   {
    "duration": 864,
    "start_time": "2022-08-20T09:39:40.132Z"
   },
   {
    "duration": 20,
    "start_time": "2022-08-20T09:42:50.526Z"
   },
   {
    "duration": 6,
    "start_time": "2022-08-20T09:43:29.458Z"
   },
   {
    "duration": 8,
    "start_time": "2022-08-20T09:43:39.685Z"
   },
   {
    "duration": 8,
    "start_time": "2022-08-20T09:43:49.638Z"
   },
   {
    "duration": 126,
    "start_time": "2022-08-20T09:44:11.815Z"
   },
   {
    "duration": 622,
    "start_time": "2022-08-20T09:45:09.031Z"
   },
   {
    "duration": 598,
    "start_time": "2022-08-20T09:45:27.943Z"
   },
   {
    "duration": 561,
    "start_time": "2022-08-20T09:45:43.782Z"
   },
   {
    "duration": 6,
    "start_time": "2022-08-20T09:46:14.876Z"
   },
   {
    "duration": 7,
    "start_time": "2022-08-20T09:46:22.991Z"
   },
   {
    "duration": 8,
    "start_time": "2022-08-20T09:46:33.330Z"
   },
   {
    "duration": 7,
    "start_time": "2022-08-20T09:46:38.857Z"
   },
   {
    "duration": 118,
    "start_time": "2022-08-20T09:46:48.426Z"
   },
   {
    "duration": 185,
    "start_time": "2022-08-20T09:47:09.673Z"
   },
   {
    "duration": 126,
    "start_time": "2022-08-20T09:49:50.645Z"
   },
   {
    "duration": 126,
    "start_time": "2022-08-20T09:50:00.328Z"
   },
   {
    "duration": 200,
    "start_time": "2022-08-20T09:50:11.457Z"
   },
   {
    "duration": 141,
    "start_time": "2022-08-20T09:50:21.993Z"
   },
   {
    "duration": 177,
    "start_time": "2022-08-20T09:51:30.962Z"
   },
   {
    "duration": 171,
    "start_time": "2022-08-20T09:51:50.631Z"
   },
   {
    "duration": 178,
    "start_time": "2022-08-20T09:57:01.188Z"
   },
   {
    "duration": 190,
    "start_time": "2022-08-20T09:57:11.960Z"
   },
   {
    "duration": 192,
    "start_time": "2022-08-20T09:57:56.705Z"
   },
   {
    "duration": 233,
    "start_time": "2022-08-20T09:58:06.750Z"
   },
   {
    "duration": 206,
    "start_time": "2022-08-20T09:58:19.251Z"
   },
   {
    "duration": 1562,
    "start_time": "2022-08-20T09:59:06.475Z"
   },
   {
    "duration": 65,
    "start_time": "2022-08-20T09:59:11.148Z"
   },
   {
    "duration": 6,
    "start_time": "2022-08-20T09:59:13.930Z"
   },
   {
    "duration": 13,
    "start_time": "2022-08-20T09:59:16.685Z"
   },
   {
    "duration": 5,
    "start_time": "2022-08-20T09:59:20.242Z"
   },
   {
    "duration": 12,
    "start_time": "2022-08-20T09:59:23.760Z"
   },
   {
    "duration": 4,
    "start_time": "2022-08-20T09:59:25.914Z"
   },
   {
    "duration": 5,
    "start_time": "2022-08-20T09:59:30.773Z"
   },
   {
    "duration": 5,
    "start_time": "2022-08-20T09:59:33.278Z"
   },
   {
    "duration": 190,
    "start_time": "2022-08-20T09:59:39.538Z"
   },
   {
    "duration": 6,
    "start_time": "2022-08-20T09:59:51.878Z"
   },
   {
    "duration": 7,
    "start_time": "2022-08-20T09:59:54.840Z"
   },
   {
    "duration": 181,
    "start_time": "2022-08-20T09:59:57.714Z"
   },
   {
    "duration": 52,
    "start_time": "2022-08-20T10:00:12.374Z"
   },
   {
    "duration": 1724,
    "start_time": "2022-08-20T10:00:20.846Z"
   },
   {
    "duration": 204,
    "start_time": "2022-08-20T10:00:48.474Z"
   },
   {
    "duration": 191,
    "start_time": "2022-08-20T10:00:52.779Z"
   },
   {
    "duration": 221,
    "start_time": "2022-08-20T10:01:08.116Z"
   },
   {
    "duration": 6,
    "start_time": "2022-08-20T10:01:18.363Z"
   },
   {
    "duration": 10,
    "start_time": "2022-08-20T10:01:20.853Z"
   },
   {
    "duration": 14,
    "start_time": "2022-08-20T10:01:23.707Z"
   },
   {
    "duration": 17,
    "start_time": "2022-08-20T10:01:26.110Z"
   },
   {
    "duration": 6,
    "start_time": "2022-08-20T10:01:29.849Z"
   },
   {
    "duration": 9,
    "start_time": "2022-08-20T10:01:31.547Z"
   },
   {
    "duration": 11,
    "start_time": "2022-08-20T10:01:33.761Z"
   },
   {
    "duration": 5,
    "start_time": "2022-08-20T10:01:35.533Z"
   },
   {
    "duration": 7,
    "start_time": "2022-08-20T10:01:37.328Z"
   },
   {
    "duration": 7,
    "start_time": "2022-08-20T10:01:43.061Z"
   },
   {
    "duration": 5,
    "start_time": "2022-08-20T10:01:44.726Z"
   },
   {
    "duration": 10,
    "start_time": "2022-08-20T10:01:46.893Z"
   },
   {
    "duration": 3,
    "start_time": "2022-08-20T10:01:49.887Z"
   },
   {
    "duration": 36,
    "start_time": "2022-08-20T10:01:51.823Z"
   },
   {
    "duration": 45,
    "start_time": "2022-08-20T10:01:56.986Z"
   },
   {
    "duration": 730,
    "start_time": "2022-08-20T10:02:05.691Z"
   },
   {
    "duration": 25,
    "start_time": "2022-08-20T10:02:16.549Z"
   },
   {
    "duration": 126,
    "start_time": "2022-08-20T10:02:45.810Z"
   },
   {
    "duration": 747,
    "start_time": "2022-08-20T10:02:49.132Z"
   },
   {
    "duration": 421,
    "start_time": "2022-08-20T10:02:53.292Z"
   },
   {
    "duration": 5,
    "start_time": "2022-08-20T10:03:26.644Z"
   },
   {
    "duration": 6,
    "start_time": "2022-08-20T10:03:29.264Z"
   },
   {
    "duration": 42,
    "start_time": "2022-08-20T10:03:36.292Z"
   },
   {
    "duration": 1356,
    "start_time": "2022-08-20T10:04:24.578Z"
   },
   {
    "duration": 58,
    "start_time": "2022-08-20T10:04:28.936Z"
   },
   {
    "duration": 6,
    "start_time": "2022-08-20T10:04:31.631Z"
   },
   {
    "duration": 12,
    "start_time": "2022-08-20T10:04:33.772Z"
   },
   {
    "duration": 4,
    "start_time": "2022-08-20T10:04:36.486Z"
   },
   {
    "duration": 16,
    "start_time": "2022-08-20T10:04:39.688Z"
   },
   {
    "duration": 5,
    "start_time": "2022-08-20T10:04:41.910Z"
   },
   {
    "duration": 3,
    "start_time": "2022-08-20T10:04:44.183Z"
   },
   {
    "duration": 5,
    "start_time": "2022-08-20T10:04:46.277Z"
   },
   {
    "duration": 203,
    "start_time": "2022-08-20T10:04:48.342Z"
   },
   {
    "duration": 6,
    "start_time": "2022-08-20T10:05:02.314Z"
   },
   {
    "duration": 7,
    "start_time": "2022-08-20T10:05:05.083Z"
   },
   {
    "duration": 181,
    "start_time": "2022-08-20T10:05:07.710Z"
   },
   {
    "duration": 46,
    "start_time": "2022-08-20T10:05:15.235Z"
   },
   {
    "duration": 1651,
    "start_time": "2022-08-20T10:05:22.846Z"
   },
   {
    "duration": 7,
    "start_time": "2022-08-20T10:05:28.518Z"
   },
   {
    "duration": 18,
    "start_time": "2022-08-20T10:05:30.598Z"
   },
   {
    "duration": 13,
    "start_time": "2022-08-20T10:05:32.978Z"
   },
   {
    "duration": 21,
    "start_time": "2022-08-20T10:05:34.887Z"
   },
   {
    "duration": 6,
    "start_time": "2022-08-20T10:05:38.242Z"
   },
   {
    "duration": 7,
    "start_time": "2022-08-20T10:05:40.445Z"
   },
   {
    "duration": 11,
    "start_time": "2022-08-20T10:05:42.531Z"
   },
   {
    "duration": 5,
    "start_time": "2022-08-20T10:05:44.491Z"
   },
   {
    "duration": 6,
    "start_time": "2022-08-20T10:05:46.652Z"
   },
   {
    "duration": 7,
    "start_time": "2022-08-20T10:05:49.357Z"
   },
   {
    "duration": 4,
    "start_time": "2022-08-20T10:05:51.141Z"
   },
   {
    "duration": 10,
    "start_time": "2022-08-20T10:05:52.946Z"
   },
   {
    "duration": 3,
    "start_time": "2022-08-20T10:05:56.401Z"
   },
   {
    "duration": 33,
    "start_time": "2022-08-20T10:05:58.337Z"
   },
   {
    "duration": 43,
    "start_time": "2022-08-20T10:06:02.408Z"
   },
   {
    "duration": 670,
    "start_time": "2022-08-20T10:06:18.337Z"
   },
   {
    "duration": 88,
    "start_time": "2022-08-20T10:06:24.715Z"
   },
   {
    "duration": 145,
    "start_time": "2022-08-20T10:06:42.914Z"
   },
   {
    "duration": 758,
    "start_time": "2022-08-20T10:06:46.769Z"
   },
   {
    "duration": 255,
    "start_time": "2022-08-20T10:06:50.677Z"
   },
   {
    "duration": 5,
    "start_time": "2022-08-20T10:07:12.553Z"
   },
   {
    "duration": 5,
    "start_time": "2022-08-20T10:07:14.786Z"
   },
   {
    "duration": 47,
    "start_time": "2022-08-20T10:07:18.981Z"
   },
   {
    "duration": 665,
    "start_time": "2022-08-20T10:07:53.750Z"
   },
   {
    "duration": 27,
    "start_time": "2022-08-20T10:08:34.067Z"
   },
   {
    "duration": 7,
    "start_time": "2022-08-20T10:10:25.069Z"
   },
   {
    "duration": 3,
    "start_time": "2022-08-20T10:10:27.151Z"
   },
   {
    "duration": 7,
    "start_time": "2022-08-20T10:10:32.539Z"
   },
   {
    "duration": 9,
    "start_time": "2022-08-20T10:10:34.699Z"
   },
   {
    "duration": 6,
    "start_time": "2022-08-20T10:10:37.225Z"
   },
   {
    "duration": 119,
    "start_time": "2022-08-20T10:10:39.195Z"
   },
   {
    "duration": 40,
    "start_time": "2022-08-20T10:10:47.762Z"
   },
   {
    "duration": 48,
    "start_time": "2022-08-20T10:11:15.893Z"
   },
   {
    "duration": 904,
    "start_time": "2022-08-20T10:11:36.455Z"
   },
   {
    "duration": 26,
    "start_time": "2022-08-20T10:11:55.449Z"
   },
   {
    "duration": 3,
    "start_time": "2022-08-20T10:12:17.750Z"
   },
   {
    "duration": 48,
    "start_time": "2022-08-20T10:12:26.270Z"
   },
   {
    "duration": 903,
    "start_time": "2022-08-20T10:12:29.618Z"
   },
   {
    "duration": 95,
    "start_time": "2022-08-20T10:12:32.619Z"
   },
   {
    "duration": 7,
    "start_time": "2022-08-20T10:13:24.960Z"
   },
   {
    "duration": 10,
    "start_time": "2022-08-20T10:13:26.783Z"
   },
   {
    "duration": 6,
    "start_time": "2022-08-20T10:13:28.648Z"
   },
   {
    "duration": 3,
    "start_time": "2022-08-20T10:13:30.523Z"
   },
   {
    "duration": 127,
    "start_time": "2022-08-20T10:13:32.489Z"
   },
   {
    "duration": 33,
    "start_time": "2022-08-20T10:13:38.887Z"
   },
   {
    "duration": 30,
    "start_time": "2022-08-20T10:13:57.982Z"
   },
   {
    "duration": 524,
    "start_time": "2022-08-20T10:14:10.305Z"
   },
   {
    "duration": 28,
    "start_time": "2022-08-20T10:14:25.775Z"
   },
   {
    "duration": 120,
    "start_time": "2022-08-20T10:14:52.220Z"
   },
   {
    "duration": 252,
    "start_time": "2022-08-20T10:14:58.070Z"
   },
   {
    "duration": 812,
    "start_time": "2022-08-20T10:15:03.825Z"
   },
   {
    "duration": 116,
    "start_time": "2022-08-20T10:15:28.637Z"
   },
   {
    "duration": 249,
    "start_time": "2022-08-20T10:16:14.279Z"
   },
   {
    "duration": 122,
    "start_time": "2022-08-20T10:16:22.584Z"
   },
   {
    "duration": 267813,
    "start_time": "2022-08-20T10:17:02.744Z"
   },
   {
    "duration": 595,
    "start_time": "2022-08-20T10:22:13.791Z"
   },
   {
    "duration": 6,
    "start_time": "2022-08-20T10:23:16.433Z"
   },
   {
    "duration": 8,
    "start_time": "2022-08-20T10:23:29.940Z"
   },
   {
    "duration": 482,
    "start_time": "2022-08-20T10:25:33.049Z"
   },
   {
    "duration": 119,
    "start_time": "2022-08-20T10:25:40.347Z"
   },
   {
    "duration": 9,
    "start_time": "2022-08-20T10:25:43.354Z"
   },
   {
    "duration": 5,
    "start_time": "2022-08-20T10:26:22.627Z"
   },
   {
    "duration": 5,
    "start_time": "2022-08-20T10:26:24.312Z"
   },
   {
    "duration": 3,
    "start_time": "2022-08-20T10:26:26.579Z"
   },
   {
    "duration": 3,
    "start_time": "2022-08-20T10:26:28.288Z"
   },
   {
    "duration": 6,
    "start_time": "2022-08-20T10:26:30.431Z"
   },
   {
    "duration": 7,
    "start_time": "2022-08-20T10:26:38.271Z"
   },
   {
    "duration": 4,
    "start_time": "2022-08-20T10:26:40.451Z"
   },
   {
    "duration": 5,
    "start_time": "2022-08-20T10:26:42.548Z"
   },
   {
    "duration": 3,
    "start_time": "2022-08-20T10:26:44.338Z"
   },
   {
    "duration": 6,
    "start_time": "2022-08-20T10:26:45.939Z"
   },
   {
    "duration": 106,
    "start_time": "2022-08-20T10:26:47.820Z"
   },
   {
    "duration": 561,
    "start_time": "2022-08-20T10:26:54.985Z"
   }
  ],
  "kernelspec": {
   "display_name": "Python 3 (ipykernel)",
   "language": "python",
   "name": "python3"
  },
  "language_info": {
   "codemirror_mode": {
    "name": "ipython",
    "version": 3
   },
   "file_extension": ".py",
   "mimetype": "text/x-python",
   "name": "python",
   "nbconvert_exporter": "python",
   "pygments_lexer": "ipython3",
   "version": "3.9.12"
  },
  "toc": {
   "base_numbering": 1,
   "nav_menu": {},
   "number_sections": true,
   "sideBar": true,
   "skip_h1_title": true,
   "title_cell": "Содержание",
   "title_sidebar": "Contents",
   "toc_cell": true,
   "toc_position": {
    "height": "calc(100% - 180px)",
    "left": "10px",
    "top": "150px",
    "width": "209px"
   },
   "toc_section_display": true,
   "toc_window_display": true
  }
 },
 "nbformat": 4,
 "nbformat_minor": 2
}
