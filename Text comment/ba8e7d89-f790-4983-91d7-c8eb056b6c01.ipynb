{
 "cells": [
  {
   "cell_type": "markdown",
   "metadata": {},
   "source": [
    "# Проект для «Викишоп»"
   ]
  },
  {
   "cell_type": "markdown",
   "metadata": {},
   "source": [
    "Интернет-магазин «Викишоп» запускает новый сервис, в котором пользователи могут редактировать и дополнять описания товаров как в вики-сообществах. То есть клиенты предлагают свои правки и комментируют изменения других. Магазину нужен инструмент, который будет искать токсичные комментарии и отправлять их на модерацию. \n",
    "\n",
    "<b>Задача</b>: обучить модель классифицировать комментарии на позитивные и негативные. В нашем распоряжении набор данных с разметкой о токсичности правок. \n",
    "\n",
    "Метрика качества *F1* должна быть не меньше 0.75. \n",
    "\n",
    "<b>Данные</b> находятся в файле \"toxic_comments.csv\". В столбце \"text\" содержится текст комментариев, а в \"toxic\" — целевой признак (0 и 1)."
   ]
  },
  {
   "cell_type": "markdown",
   "metadata": {},
   "source": [
    "Метрика F1 - это среднегармоничное значение между precision и recall. В данном проекте заказчику важны и точность, и полнота. Точность - сколько действительно негативных комментариев модель отнесла к классу 1 и нейтральных к классу 0. А полнота - сколько модель нашла негативных комментариев среди всех негативных комментариев. В случае метрики F1 модель находит оптимальный баланс между точностью и полнотой.\n",
    "\n",
    "Если бы заказчику было важнее найти как можно больше токсичных комментариев, мы бы воспользовались метрикой Полнота(recall). В этом случае учтен был бы каждый токсичный комментарий, попавший или не попавший в класс 1."
   ]
  },
  {
   "cell_type": "markdown",
   "metadata": {
    "toc": true
   },
   "source": [
    "<h1>Содержание<span class=\"tocSkip\"></span></h1>\n",
    "<div class=\"toc\"><ul class=\"toc-item\"><li><span><a href=\"#Подготовка-и-изучение-данных\" data-toc-modified-id=\"Подготовка-и-изучение-данных-1\"><span class=\"toc-item-num\">1&nbsp;&nbsp;</span>Подготовка и изучение данных</a></span><ul class=\"toc-item\"><li><span><a href=\"#Загрузка-и-изучение-данных\" data-toc-modified-id=\"Загрузка-и-изучение-данных-1.1\"><span class=\"toc-item-num\">1.1&nbsp;&nbsp;</span>Загрузка и изучение данных</a></span></li><li><span><a href=\"#Подготовка-данных-к-обучению\" data-toc-modified-id=\"Подготовка-данных-к-обучению-1.2\"><span class=\"toc-item-num\">1.2&nbsp;&nbsp;</span>Подготовка данных к обучению</a></span></li></ul></li><li><span><a href=\"#Обучение\" data-toc-modified-id=\"Обучение-2\"><span class=\"toc-item-num\">2&nbsp;&nbsp;</span>Обучение</a></span><ul class=\"toc-item\"><li><span><a href=\"#Мешок-слов\" data-toc-modified-id=\"Мешок-слов-2.1\"><span class=\"toc-item-num\">2.1&nbsp;&nbsp;</span>Мешок слов</a></span><ul class=\"toc-item\"><li><span><a href=\"#Случайный-лес\" data-toc-modified-id=\"Случайный-лес-2.1.1\"><span class=\"toc-item-num\">2.1.1&nbsp;&nbsp;</span>Случайный лес</a></span></li><li><span><a href=\"#Логистическая-регрессия\" data-toc-modified-id=\"Логистическая-регрессия-2.1.2\"><span class=\"toc-item-num\">2.1.2&nbsp;&nbsp;</span>Логистическая регрессия</a></span></li><li><span><a href=\"#CatBoost\" data-toc-modified-id=\"CatBoost-2.1.3\"><span class=\"toc-item-num\">2.1.3&nbsp;&nbsp;</span>CatBoost</a></span></li><li><span><a href=\"#SGDClassifier\" data-toc-modified-id=\"SGDClassifier-2.1.4\"><span class=\"toc-item-num\">2.1.4&nbsp;&nbsp;</span>SGDClassifier</a></span></li><li><span><a href=\"#Наивный-Байес\" data-toc-modified-id=\"Наивный-Байес-2.1.5\"><span class=\"toc-item-num\">2.1.5&nbsp;&nbsp;</span>Наивный Байес</a></span></li><li><span><a href=\"#Вывод\" data-toc-modified-id=\"Вывод-2.1.6\"><span class=\"toc-item-num\">2.1.6&nbsp;&nbsp;</span>Вывод</a></span></li></ul></li><li><span><a href=\"#TF-IDF-кодирование\" data-toc-modified-id=\"TF-IDF-кодирование-2.2\"><span class=\"toc-item-num\">2.2&nbsp;&nbsp;</span>TF-IDF кодирование</a></span><ul class=\"toc-item\"><li><span><a href=\"#Случайный-лес\" data-toc-modified-id=\"Случайный-лес-2.2.1\"><span class=\"toc-item-num\">2.2.1&nbsp;&nbsp;</span>Случайный лес</a></span></li><li><span><a href=\"#Логистическая-регрессия\" data-toc-modified-id=\"Логистическая-регрессия-2.2.2\"><span class=\"toc-item-num\">2.2.2&nbsp;&nbsp;</span>Логистическая регрессия</a></span></li><li><span><a href=\"#CatBoost\" data-toc-modified-id=\"CatBoost-2.2.3\"><span class=\"toc-item-num\">2.2.3&nbsp;&nbsp;</span>CatBoost</a></span></li><li><span><a href=\"#SGDClassifier\" data-toc-modified-id=\"SGDClassifier-2.2.4\"><span class=\"toc-item-num\">2.2.4&nbsp;&nbsp;</span>SGDClassifier</a></span></li><li><span><a href=\"#Наивный-Байес\" data-toc-modified-id=\"Наивный-Байес-2.2.5\"><span class=\"toc-item-num\">2.2.5&nbsp;&nbsp;</span>Наивный Байес</a></span></li><li><span><a href=\"#Вывод\" data-toc-modified-id=\"Вывод-2.2.6\"><span class=\"toc-item-num\">2.2.6&nbsp;&nbsp;</span>Вывод</a></span></li></ul></li><li><span><a href=\"#Эмбеддинги-BERT\" data-toc-modified-id=\"Эмбеддинги-BERT-2.3\"><span class=\"toc-item-num\">2.3&nbsp;&nbsp;</span>Эмбеддинги BERT</a></span></li></ul></li><li><span><a href=\"#Тестирование-модели\" data-toc-modified-id=\"Тестирование-модели-3\"><span class=\"toc-item-num\">3&nbsp;&nbsp;</span>Тестирование модели</a></span></li><li><span><a href=\"#Вывод\" data-toc-modified-id=\"Вывод-4\"><span class=\"toc-item-num\">4&nbsp;&nbsp;</span>Вывод</a></span></li></ul></div>"
   ]
  },
  {
   "cell_type": "markdown",
   "metadata": {},
   "source": [
    "## Подготовка и изучение данных"
   ]
  },
  {
   "cell_type": "markdown",
   "metadata": {},
   "source": [
    "### Загрузка и изучение данных"
   ]
  },
  {
   "cell_type": "code",
   "execution_count": 1,
   "metadata": {},
   "outputs": [
    {
     "name": "stderr",
     "output_type": "stream",
     "text": [
      "2022-12-13 20:52:34.247597: I tensorflow/core/platform/cpu_feature_guard.cc:193] This TensorFlow binary is optimized with oneAPI Deep Neural Network Library (oneDNN) to use the following CPU instructions in performance-critical operations:  AVX2 FMA\n",
      "To enable them in other operations, rebuild TensorFlow with the appropriate compiler flags.\n",
      "[nltk_data] Downloading package wordnet to /Users/Tasha/nltk_data...\n",
      "[nltk_data]   Package wordnet is already up-to-date!\n",
      "[nltk_data] Downloading package punkt to /Users/Tasha/nltk_data...\n",
      "[nltk_data]   Package punkt is already up-to-date!\n",
      "[nltk_data] Downloading package stopwords to /Users/Tasha/nltk_data...\n",
      "[nltk_data]   Package stopwords is already up-to-date!\n",
      "[nltk_data] Downloading package omw-1.4 to /Users/Tasha/nltk_data...\n",
      "[nltk_data]   Package omw-1.4 is already up-to-date!\n",
      "[nltk_data] Downloading package averaged_perceptron_tagger to\n",
      "[nltk_data]     /Users/Tasha/nltk_data...\n",
      "[nltk_data]   Package averaged_perceptron_tagger is already up-to-\n",
      "[nltk_data]       date!\n"
     ]
    }
   ],
   "source": [
    "import pandas as pd\n",
    "import matplotlib.pyplot as plt\n",
    "import nltk\n",
    "import re\n",
    "import warnings\n",
    "import torch\n",
    "import transformers\n",
    "\n",
    "# для лемматизации текста\n",
    "from nltk.stem import WordNetLemmatizer\n",
    "# для стоп-слов\n",
    "from nltk.corpus import stopwords as nltk_stopwords\n",
    "# для лемматизации с POS тегом\n",
    "from nltk.corpus import wordnet\n",
    "# для подсчета самых частовстречающихся слов в корпусе\n",
    "from nltk.probability import FreqDist\n",
    "# разбитие текста на слова\n",
    "from nltk import word_tokenize\n",
    "# для создания \"облако тегов\"\n",
    "from wordcloud import WordCloud\n",
    "# для создания мешков слов\n",
    "from sklearn.feature_extraction.text import CountVectorizer\n",
    "# для использования TF-IDF\n",
    "from sklearn.feature_extraction.text import TfidfVectorizer\n",
    "# для разделения выборок\n",
    "from sklearn.model_selection import train_test_split\n",
    "# для перемешивания данных в выборке\n",
    "from sklearn.utils import shuffle\n",
    "# для подбора параметров GridSearchCV и кросс-валидации\n",
    "from sklearn.model_selection import GridSearchCV, cross_val_score\n",
    "# для создания pipeline\n",
    "from sklearn.pipeline import Pipeline\n",
    "# для вычисления F1-меры\n",
    "from sklearn.metrics import f1_score\n",
    "# для построения модели Случайный лес\n",
    "from sklearn.ensemble import RandomForestClassifier\n",
    "# для построения модели Логистическая регрессия\n",
    "from sklearn.linear_model import LogisticRegression\n",
    "# для построения модели SGD\n",
    "from sklearn.linear_model import SGDClassifier\n",
    "# для построения модели Наивный Байес\n",
    "from sklearn.naive_bayes import ComplementNB, BernoulliNB\n",
    "# для построения модели Метод опорных векторов\n",
    "from sklearn.svm import SVC\n",
    "# библиотека CatBoost\n",
    "from catboost import CatBoostClassifier\n",
    "# предобученная модель BERT и ее токенизатор\n",
    "from transformers import AutoTokenizer, AutoModel\n",
    "\n",
    "# лемматизация\n",
    "nltk.download('wordnet')\n",
    "# делит текст на список предложений\n",
    "nltk.download('punkt')\n",
    "# удаление стоп-слов\n",
    "nltk.download('stopwords')\n",
    "nltk.download('omw-1.4')\n",
    "nltk.download('averaged_perceptron_tagger')\n",
    "stopwords = set(nltk_stopwords.words('english'))\n",
    "# убрать вывод уведомлений\n",
    "warnings.filterwarnings('ignore')"
   ]
  },
  {
   "cell_type": "code",
   "execution_count": 2,
   "metadata": {},
   "outputs": [
    {
     "data": {
      "text/html": [
       "<div>\n",
       "<style scoped>\n",
       "    .dataframe tbody tr th:only-of-type {\n",
       "        vertical-align: middle;\n",
       "    }\n",
       "\n",
       "    .dataframe tbody tr th {\n",
       "        vertical-align: top;\n",
       "    }\n",
       "\n",
       "    .dataframe thead th {\n",
       "        text-align: right;\n",
       "    }\n",
       "</style>\n",
       "<table border=\"1\" class=\"dataframe\">\n",
       "  <thead>\n",
       "    <tr style=\"text-align: right;\">\n",
       "      <th></th>\n",
       "      <th>text</th>\n",
       "      <th>toxic</th>\n",
       "    </tr>\n",
       "  </thead>\n",
       "  <tbody>\n",
       "    <tr>\n",
       "      <th>156472</th>\n",
       "      <td>\"\\n\\nI don't plan to expand it further. If you...</td>\n",
       "      <td>0</td>\n",
       "    </tr>\n",
       "    <tr>\n",
       "      <th>14012</th>\n",
       "      <td>\"\\n\\n pic for storm \\n\\nHi Julian, which is th...</td>\n",
       "      <td>0</td>\n",
       "    </tr>\n",
       "    <tr>\n",
       "      <th>62691</th>\n",
       "      <td>Meaning of the song \\n\\nWhat's the meaning of ...</td>\n",
       "      <td>0</td>\n",
       "    </tr>\n",
       "    <tr>\n",
       "      <th>139445</th>\n",
       "      <td>I am tired of neurotic idiots messing with my ...</td>\n",
       "      <td>1</td>\n",
       "    </tr>\n",
       "    <tr>\n",
       "      <th>21868</th>\n",
       "      <td>Come Join Us\\n\\nHey, I left a comment on [List...</td>\n",
       "      <td>0</td>\n",
       "    </tr>\n",
       "    <tr>\n",
       "      <th>50334</th>\n",
       "      <td>.And why did you delete the facts</td>\n",
       "      <td>0</td>\n",
       "    </tr>\n",
       "    <tr>\n",
       "      <th>72964</th>\n",
       "      <td>\"\\n\\n Missing affix defining ligands \\nA troll...</td>\n",
       "      <td>1</td>\n",
       "    </tr>\n",
       "    <tr>\n",
       "      <th>114443</th>\n",
       "      <td>]] \\n Archive 3 \\n Archive 4 \\n [[/Archive 5/|...</td>\n",
       "      <td>0</td>\n",
       "    </tr>\n",
       "    <tr>\n",
       "      <th>54385</th>\n",
       "      <td>Thank you for not reverting the subject headin...</td>\n",
       "      <td>0</td>\n",
       "    </tr>\n",
       "    <tr>\n",
       "      <th>112088</th>\n",
       "      <td>\"\\n\\nWalk away, I got this now.  ♠♣♥♦™№1185©♪♫® \"</td>\n",
       "      <td>0</td>\n",
       "    </tr>\n",
       "  </tbody>\n",
       "</table>\n",
       "</div>"
      ],
      "text/plain": [
       "                                                     text  toxic\n",
       "156472  \"\\n\\nI don't plan to expand it further. If you...      0\n",
       "14012   \"\\n\\n pic for storm \\n\\nHi Julian, which is th...      0\n",
       "62691   Meaning of the song \\n\\nWhat's the meaning of ...      0\n",
       "139445  I am tired of neurotic idiots messing with my ...      1\n",
       "21868   Come Join Us\\n\\nHey, I left a comment on [List...      0\n",
       "50334                   .And why did you delete the facts      0\n",
       "72964   \"\\n\\n Missing affix defining ligands \\nA troll...      1\n",
       "114443  ]] \\n Archive 3 \\n Archive 4 \\n [[/Archive 5/|...      0\n",
       "54385   Thank you for not reverting the subject headin...      0\n",
       "112088  \"\\n\\nWalk away, I got this now.  ♠♣♥♦™№1185©♪♫® \"      0"
      ]
     },
     "execution_count": 2,
     "metadata": {},
     "output_type": "execute_result"
    }
   ],
   "source": [
    "data = pd.read_csv('toxic_comments.csv', index_col=0)\n",
    "data.sample(10)"
   ]
  },
  {
   "cell_type": "code",
   "execution_count": 3,
   "metadata": {},
   "outputs": [
    {
     "name": "stdout",
     "output_type": "stream",
     "text": [
      "<class 'pandas.core.frame.DataFrame'>\n",
      "Int64Index: 159292 entries, 0 to 159450\n",
      "Data columns (total 2 columns):\n",
      " #   Column  Non-Null Count   Dtype \n",
      "---  ------  --------------   ----- \n",
      " 0   text    159292 non-null  object\n",
      " 1   toxic   159292 non-null  int64 \n",
      "dtypes: int64(1), object(1)\n",
      "memory usage: 3.6+ MB\n"
     ]
    }
   ],
   "source": [
    "data.info()"
   ]
  },
  {
   "cell_type": "code",
   "execution_count": 4,
   "metadata": {},
   "outputs": [
    {
     "data": {
      "text/plain": [
       "array([0, 1])"
      ]
     },
     "execution_count": 4,
     "metadata": {},
     "output_type": "execute_result"
    }
   ],
   "source": [
    "data['toxic'].unique()"
   ]
  },
  {
   "cell_type": "code",
   "execution_count": 5,
   "metadata": {},
   "outputs": [
    {
     "data": {
      "text/plain": [
       "0"
      ]
     },
     "execution_count": 5,
     "metadata": {},
     "output_type": "execute_result"
    }
   ],
   "source": [
    "# проверим на дубликаты\n",
    "data.duplicated().sum()"
   ]
  },
  {
   "cell_type": "markdown",
   "metadata": {},
   "source": [
    "Датасет состоит из 159292 строк и 2 столбцов. В столбце \"text\" тексты на английском языке. В столбце \"toxic\" значения только 0 и 1. \n",
    "\n",
    "Данные в целевом признаке сохранены типом int64, можно заменить на int8 для уменьшения занимаемой памяти. \n",
    "Пропусков и дубликатов в данных нет."
   ]
  },
  {
   "cell_type": "code",
   "execution_count": 6,
   "metadata": {},
   "outputs": [],
   "source": [
    "data['toxic'] = data['toxic'].astype('int8')"
   ]
  },
  {
   "cell_type": "markdown",
   "metadata": {},
   "source": [
    "Посмотрим, каким комментариям (позитивным или негативным) соответствуют единицы и нули в столбце \"toxic\"."
   ]
  },
  {
   "cell_type": "code",
   "execution_count": 7,
   "metadata": {},
   "outputs": [
    {
     "data": {
      "text/html": [
       "<div>\n",
       "<style scoped>\n",
       "    .dataframe tbody tr th:only-of-type {\n",
       "        vertical-align: middle;\n",
       "    }\n",
       "\n",
       "    .dataframe tbody tr th {\n",
       "        vertical-align: top;\n",
       "    }\n",
       "\n",
       "    .dataframe thead th {\n",
       "        text-align: right;\n",
       "    }\n",
       "</style>\n",
       "<table border=\"1\" class=\"dataframe\">\n",
       "  <thead>\n",
       "    <tr style=\"text-align: right;\">\n",
       "      <th></th>\n",
       "      <th>text</th>\n",
       "      <th>toxic</th>\n",
       "    </tr>\n",
       "  </thead>\n",
       "  <tbody>\n",
       "    <tr>\n",
       "      <th>67583</th>\n",
       "      <td>You dirty bastards. Arse!</td>\n",
       "      <td>1</td>\n",
       "    </tr>\n",
       "    <tr>\n",
       "      <th>27522</th>\n",
       "      <td>Do you know how pathetic you look with your si...</td>\n",
       "      <td>1</td>\n",
       "    </tr>\n",
       "    <tr>\n",
       "      <th>128858</th>\n",
       "      <td>JIMMY WALES IS A HOMO</td>\n",
       "      <td>1</td>\n",
       "    </tr>\n",
       "    <tr>\n",
       "      <th>75096</th>\n",
       "      <td>LOL what a load of unsourced, unscientific bul...</td>\n",
       "      <td>1</td>\n",
       "    </tr>\n",
       "    <tr>\n",
       "      <th>887</th>\n",
       "      <td>you gay motherfucker i know where you live,i a...</td>\n",
       "      <td>1</td>\n",
       "    </tr>\n",
       "    <tr>\n",
       "      <th>74186</th>\n",
       "      <td>\"\\nFor everyone's info I don't give a flying f...</td>\n",
       "      <td>1</td>\n",
       "    </tr>\n",
       "    <tr>\n",
       "      <th>33875</th>\n",
       "      <td>\"\\n\\n Hey dick \\nYou don't know what is copyri...</td>\n",
       "      <td>1</td>\n",
       "    </tr>\n",
       "    <tr>\n",
       "      <th>72896</th>\n",
       "      <td>fuck you \\nhow about you fuck off you fucking ...</td>\n",
       "      <td>1</td>\n",
       "    </tr>\n",
       "    <tr>\n",
       "      <th>150443</th>\n",
       "      <td>INTEVIEW \\n\\nME: ARE YOU GAY?\\n\\nABE GAY DASHI...</td>\n",
       "      <td>1</td>\n",
       "    </tr>\n",
       "    <tr>\n",
       "      <th>71529</th>\n",
       "      <td>twat \\n\\nyour a twat and im not checking back ...</td>\n",
       "      <td>1</td>\n",
       "    </tr>\n",
       "  </tbody>\n",
       "</table>\n",
       "</div>"
      ],
      "text/plain": [
       "                                                     text  toxic\n",
       "67583                           You dirty bastards. Arse!      1\n",
       "27522   Do you know how pathetic you look with your si...      1\n",
       "128858                              JIMMY WALES IS A HOMO      1\n",
       "75096   LOL what a load of unsourced, unscientific bul...      1\n",
       "887     you gay motherfucker i know where you live,i a...      1\n",
       "74186   \"\\nFor everyone's info I don't give a flying f...      1\n",
       "33875   \"\\n\\n Hey dick \\nYou don't know what is copyri...      1\n",
       "72896   fuck you \\nhow about you fuck off you fucking ...      1\n",
       "150443  INTEVIEW \\n\\nME: ARE YOU GAY?\\n\\nABE GAY DASHI...      1\n",
       "71529   twat \\n\\nyour a twat and im not checking back ...      1"
      ]
     },
     "execution_count": 7,
     "metadata": {},
     "output_type": "execute_result"
    }
   ],
   "source": [
    "data.query('toxic == 1').sample(10)"
   ]
  },
  {
   "cell_type": "code",
   "execution_count": 8,
   "metadata": {},
   "outputs": [
    {
     "data": {
      "text/html": [
       "<div>\n",
       "<style scoped>\n",
       "    .dataframe tbody tr th:only-of-type {\n",
       "        vertical-align: middle;\n",
       "    }\n",
       "\n",
       "    .dataframe tbody tr th {\n",
       "        vertical-align: top;\n",
       "    }\n",
       "\n",
       "    .dataframe thead th {\n",
       "        text-align: right;\n",
       "    }\n",
       "</style>\n",
       "<table border=\"1\" class=\"dataframe\">\n",
       "  <thead>\n",
       "    <tr style=\"text-align: right;\">\n",
       "      <th></th>\n",
       "      <th>text</th>\n",
       "      <th>toxic</th>\n",
       "    </tr>\n",
       "  </thead>\n",
       "  <tbody>\n",
       "    <tr>\n",
       "      <th>158887</th>\n",
       "      <td>So, how are WE interpreting it? Your response ...</td>\n",
       "      <td>0</td>\n",
       "    </tr>\n",
       "    <tr>\n",
       "      <th>54157</th>\n",
       "      <td>REDIRECT Talk:Gorenje Kamenje, Novo Mesto</td>\n",
       "      <td>0</td>\n",
       "    </tr>\n",
       "    <tr>\n",
       "      <th>42481</th>\n",
       "      <td>Commons does not follow our naming conventions...</td>\n",
       "      <td>0</td>\n",
       "    </tr>\n",
       "    <tr>\n",
       "      <th>150380</th>\n",
       "      <td>\"::LjL, carefully read the following caption, ...</td>\n",
       "      <td>0</td>\n",
       "    </tr>\n",
       "    <tr>\n",
       "      <th>48028</th>\n",
       "      <td>\"\\n\\n Not every hex code has an exact name. It...</td>\n",
       "      <td>0</td>\n",
       "    </tr>\n",
       "    <tr>\n",
       "      <th>22163</th>\n",
       "      <td>We're probably struggling to agree. My general...</td>\n",
       "      <td>0</td>\n",
       "    </tr>\n",
       "    <tr>\n",
       "      <th>120242</th>\n",
       "      <td>You are quie sure I can more sources that say ...</td>\n",
       "      <td>0</td>\n",
       "    </tr>\n",
       "    <tr>\n",
       "      <th>87617</th>\n",
       "      <td>—Preceding unsigned comment added by  (talk • ...</td>\n",
       "      <td>0</td>\n",
       "    </tr>\n",
       "    <tr>\n",
       "      <th>138245</th>\n",
       "      <td>\"\\n\\n Please do not remove content from pages ...</td>\n",
       "      <td>0</td>\n",
       "    </tr>\n",
       "    <tr>\n",
       "      <th>72780</th>\n",
       "      <td>\"\\n\\nWelcome!\\n\\nHello, , and welcome to Wikip...</td>\n",
       "      <td>0</td>\n",
       "    </tr>\n",
       "  </tbody>\n",
       "</table>\n",
       "</div>"
      ],
      "text/plain": [
       "                                                     text  toxic\n",
       "158887  So, how are WE interpreting it? Your response ...      0\n",
       "54157           REDIRECT Talk:Gorenje Kamenje, Novo Mesto      0\n",
       "42481   Commons does not follow our naming conventions...      0\n",
       "150380  \"::LjL, carefully read the following caption, ...      0\n",
       "48028   \"\\n\\n Not every hex code has an exact name. It...      0\n",
       "22163   We're probably struggling to agree. My general...      0\n",
       "120242  You are quie sure I can more sources that say ...      0\n",
       "87617   —Preceding unsigned comment added by  (talk • ...      0\n",
       "138245  \"\\n\\n Please do not remove content from pages ...      0\n",
       "72780   \"\\n\\nWelcome!\\n\\nHello, , and welcome to Wikip...      0"
      ]
     },
     "execution_count": 8,
     "metadata": {},
     "output_type": "execute_result"
    }
   ],
   "source": [
    "data.query('toxic == 0').sample(10)"
   ]
  },
  {
   "cell_type": "markdown",
   "metadata": {},
   "source": [
    "Единицы - это токсичные (негативные) комментарии, нули - обычные или позитивные. "
   ]
  },
  {
   "cell_type": "code",
   "execution_count": 9,
   "metadata": {},
   "outputs": [
    {
     "data": {
      "text/plain": [
       "0    143106\n",
       "1     16186\n",
       "Name: toxic, dtype: int64"
      ]
     },
     "execution_count": 9,
     "metadata": {},
     "output_type": "execute_result"
    }
   ],
   "source": [
    "data['toxic'].value_counts()"
   ]
  },
  {
   "cell_type": "code",
   "execution_count": 10,
   "metadata": {
    "scrolled": true
   },
   "outputs": [
    {
     "data": {
      "image/png": "[encoded data removed]",
      "text/plain": [
       "<Figure size 432x288 with 1 Axes>"
      ]
     },
     "metadata": {
      "needs_background": "light"
     },
     "output_type": "display_data"
    }
   ],
   "source": [
    "data['toxic'].value_counts(normalize=True).plot(kind='bar');"
   ]
  },
  {
   "cell_type": "markdown",
   "metadata": {},
   "source": [
    "Токсичных комментариев почти в 9 раз меньше, чем обычных. Выборка несбалансирована. Позже рассмотрим несколько способов борьбы с дисбалансом, обучим модели и сравним их качество.\n",
    "\n",
    "<b>Вывод</b>:\n",
    "- изучили данные, количество столбцов и строк\n",
    "- изменили тип данных в целевом признаке\n",
    "- пропусков и дубликатов нет\n",
    "- выборка несбалансированная\n",
    "- значение 1 в целевом признаке - это токсичный/негативный комментарий, 0 - нейтральный/позитивный\n",
    "- тексты с комментариями на английском языке, в текстах много мусора (спец.символы, знаки препинания)\n",
    "- можно приступать к подготовке данных к обучению"
   ]
  },
  {
   "cell_type": "markdown",
   "metadata": {},
   "source": [
    "### Подготовка данных к обучению"
   ]
  },
  {
   "cell_type": "markdown",
   "metadata": {},
   "source": [
    "Подготовим признаки и целевой признак перед обучением моделей. Напишем функции лемматизации и очистки текста (оставим только буквы латинского алфавита и пробелы). Также весь текст приведем к нижнему регистру.\n",
    "\n",
    "Для лемматизации используем библиотеку NLTK."
   ]
  },
  {
   "cell_type": "code",
   "execution_count": 11,
   "metadata": {},
   "outputs": [],
   "source": [
    "# функция для определения части речи слова - POS tag\n",
    "def get_wordnet_pos(text):\n",
    "    tag = nltk.pos_tag([text])[0][1][0].upper()\n",
    "    tag_dict = {\"J\": wordnet.ADJ,\n",
    "                \"N\": wordnet.NOUN,\n",
    "                \"V\": wordnet.VERB,\n",
    "                \"R\": wordnet.ADV}\n",
    "    return tag_dict.get(tag, wordnet.NOUN)"
   ]
  },
  {
   "cell_type": "code",
   "execution_count": 12,
   "metadata": {},
   "outputs": [],
   "source": [
    "lemmatizer = WordNetLemmatizer()"
   ]
  },
  {
   "cell_type": "code",
   "execution_count": 13,
   "metadata": {},
   "outputs": [],
   "source": [
    "# функция лемматизации\n",
    "def lemmatize(text):\n",
    "    text = text.lower()\n",
    "    word_list = nltk.word_tokenize(text)\n",
    "    lemmatized_output = ' '.join([lemmatizer.lemmatize(w, get_wordnet_pos(w)) for w in word_list])  \n",
    "    return lemmatized_output\n",
    "\n",
    "# функция очистки текста от \"мусора\"\n",
    "def clear_text(text):\n",
    "    text = re.sub(r\"[^a-zA-Z']\", ' ', text)\n",
    "    return ' '.join(text.split()) "
   ]
  },
  {
   "cell_type": "code",
   "execution_count": 14,
   "metadata": {},
   "outputs": [
    {
     "name": "stdout",
     "output_type": "stream",
     "text": [
      "CPU times: user 18min 20s, sys: 1min 33s, total: 19min 54s\n",
      "Wall time: 20min 22s\n"
     ]
    }
   ],
   "source": [
    "%%time\n",
    "\n",
    "data['lemma'] = data['text'].apply(lambda x: lemmatize(clear_text(x)))"
   ]
  },
  {
   "cell_type": "code",
   "execution_count": 15,
   "metadata": {},
   "outputs": [
    {
     "data": {
      "text/html": [
       "<div>\n",
       "<style scoped>\n",
       "    .dataframe tbody tr th:only-of-type {\n",
       "        vertical-align: middle;\n",
       "    }\n",
       "\n",
       "    .dataframe tbody tr th {\n",
       "        vertical-align: top;\n",
       "    }\n",
       "\n",
       "    .dataframe thead th {\n",
       "        text-align: right;\n",
       "    }\n",
       "</style>\n",
       "<table border=\"1\" class=\"dataframe\">\n",
       "  <thead>\n",
       "    <tr style=\"text-align: right;\">\n",
       "      <th></th>\n",
       "      <th>text</th>\n",
       "      <th>toxic</th>\n",
       "      <th>lemma</th>\n",
       "    </tr>\n",
       "  </thead>\n",
       "  <tbody>\n",
       "    <tr>\n",
       "      <th>0</th>\n",
       "      <td>Explanation\\nWhy the edits made under my usern...</td>\n",
       "      <td>0</td>\n",
       "      <td>explanation why the edits make under my userna...</td>\n",
       "    </tr>\n",
       "    <tr>\n",
       "      <th>1</th>\n",
       "      <td>D'aww! He matches this background colour I'm s...</td>\n",
       "      <td>0</td>\n",
       "      <td>d'aww he match this background colour i 'm see...</td>\n",
       "    </tr>\n",
       "    <tr>\n",
       "      <th>2</th>\n",
       "      <td>Hey man, I'm really not trying to edit war. It...</td>\n",
       "      <td>0</td>\n",
       "      <td>hey man i 'm really not try to edit war it 's ...</td>\n",
       "    </tr>\n",
       "    <tr>\n",
       "      <th>3</th>\n",
       "      <td>\"\\nMore\\nI can't make any real suggestions on ...</td>\n",
       "      <td>0</td>\n",
       "      <td>more i ca n't make any real suggestion on impr...</td>\n",
       "    </tr>\n",
       "    <tr>\n",
       "      <th>4</th>\n",
       "      <td>You, sir, are my hero. Any chance you remember...</td>\n",
       "      <td>0</td>\n",
       "      <td>you sir be my hero any chance you remember wha...</td>\n",
       "    </tr>\n",
       "  </tbody>\n",
       "</table>\n",
       "</div>"
      ],
      "text/plain": [
       "                                                text  toxic  \\\n",
       "0  Explanation\\nWhy the edits made under my usern...      0   \n",
       "1  D'aww! He matches this background colour I'm s...      0   \n",
       "2  Hey man, I'm really not trying to edit war. It...      0   \n",
       "3  \"\\nMore\\nI can't make any real suggestions on ...      0   \n",
       "4  You, sir, are my hero. Any chance you remember...      0   \n",
       "\n",
       "                                               lemma  \n",
       "0  explanation why the edits make under my userna...  \n",
       "1  d'aww he match this background colour i 'm see...  \n",
       "2  hey man i 'm really not try to edit war it 's ...  \n",
       "3  more i ca n't make any real suggestion on impr...  \n",
       "4  you sir be my hero any chance you remember wha...  "
      ]
     },
     "execution_count": 15,
     "metadata": {},
     "output_type": "execute_result"
    }
   ],
   "source": [
    "# проверим работу функций\n",
    "data.head()"
   ]
  },
  {
   "cell_type": "markdown",
   "metadata": {},
   "source": [
    "Мы добавили столбец \"lemma\", в котором лемматизировали очищенные тексты из столбца \"text\". Создадим облако тегов - самые популярные слова в корпусе."
   ]
  },
  {
   "cell_type": "code",
   "execution_count": 16,
   "metadata": {},
   "outputs": [],
   "source": [
    "# соединим все тексты из data['lemma'] в одну строку\n",
    "text = \" \".join(comment for comment in data['lemma'])"
   ]
  },
  {
   "cell_type": "code",
   "execution_count": 17,
   "metadata": {},
   "outputs": [],
   "source": [
    "# разобьем текст на слова\n",
    "slova = word_tokenize(text)"
   ]
  },
  {
   "cell_type": "code",
   "execution_count": 18,
   "metadata": {},
   "outputs": [],
   "source": [
    "# удалим стоп-слова\n",
    "slova = [word for word in slova if word not in stopwords]"
   ]
  },
  {
   "cell_type": "code",
   "execution_count": 19,
   "metadata": {},
   "outputs": [],
   "source": [
    "# посчитаем кол-во каждого слова\n",
    "fdist = FreqDist(slova)"
   ]
  },
  {
   "cell_type": "code",
   "execution_count": 20,
   "metadata": {},
   "outputs": [
    {
     "data": {
      "text/plain": [
       "[('article', 74383),\n",
       " (\"'s\", 66736),\n",
       " ('page', 57109),\n",
       " (\"n't\", 57039),\n",
       " ('wikipedia', 48461),\n",
       " ('talk', 40391),\n",
       " ('use', 31952),\n",
       " ('edit', 30786),\n",
       " ('would', 30767),\n",
       " ('one', 30634),\n",
       " ('make', 30451),\n",
       " ('please', 29764),\n",
       " ('like', 28648),\n",
       " ('see', 25486),\n",
       " ('say', 25401),\n",
       " ('source', 23850),\n",
       " ('know', 23424),\n",
       " ('get', 22430),\n",
       " ('think', 21851),\n",
       " ('go', 21790)]"
      ]
     },
     "execution_count": 20,
     "metadata": {},
     "output_type": "execute_result"
    }
   ],
   "source": [
    "# топ-10 популярных слов\n",
    "fdist.most_common(20)"
   ]
  },
  {
   "cell_type": "code",
   "execution_count": 21,
   "metadata": {},
   "outputs": [],
   "source": [
    "wordcloud = WordCloud(stopwords=stopwords, background_color=\"white\").generate(text)"
   ]
  },
  {
   "cell_type": "code",
   "execution_count": 22,
   "metadata": {
    "scrolled": true
   },
   "outputs": [
    {
     "data": {
      "image/png": "[encoded data removed]",
      "text/plain": [
       "<Figure size 864x576 with 1 Axes>"
      ]
     },
     "metadata": {
      "needs_background": "light"
     },
     "output_type": "display_data"
    }
   ],
   "source": [
    "plt.figure(figsize=[12,8])\n",
    "plt.imshow(wordcloud, interpolation='bilinear')\n",
    "plt.axis(\"off\")\n",
    "plt.show();"
   ]
  },
  {
   "cell_type": "markdown",
   "metadata": {},
   "source": [
    " Теперь можно создать переменные для признаков и целевого признака и разбить датасет на обучающую и тестовую выборки."
   ]
  },
  {
   "cell_type": "code",
   "execution_count": 23,
   "metadata": {},
   "outputs": [],
   "source": [
    "features = data['lemma']\n",
    "target = data['toxic']"
   ]
  },
  {
   "cell_type": "code",
   "execution_count": 24,
   "metadata": {},
   "outputs": [],
   "source": [
    "features_train, features_test, target_train, target_test = train_test_split(\n",
    "    features, target, test_size=0.25, random_state=2501, stratify = target)"
   ]
  },
  {
   "cell_type": "code",
   "execution_count": 25,
   "metadata": {},
   "outputs": [
    {
     "name": "stdout",
     "output_type": "stream",
     "text": [
      "(119469,)\n",
      "(39823,)\n",
      "(119469,)\n",
      "(39823,)\n"
     ]
    }
   ],
   "source": [
    "# проверим размеры выборок\n",
    "for i in (features_train, features_test, target_train, target_test):\n",
    "    print(i.shape)"
   ]
  },
  {
   "cell_type": "code",
   "execution_count": 26,
   "metadata": {},
   "outputs": [
    {
     "data": {
      "text/plain": [
       "0    0.898392\n",
       "1    0.101608\n",
       "Name: toxic, dtype: float64"
      ]
     },
     "execution_count": 26,
     "metadata": {},
     "output_type": "execute_result"
    }
   ],
   "source": [
    "target_train.value_counts(normalize=True)"
   ]
  },
  {
   "cell_type": "code",
   "execution_count": 27,
   "metadata": {},
   "outputs": [
    {
     "data": {
      "text/plain": [
       "0    0.898375\n",
       "1    0.101625\n",
       "Name: toxic, dtype: float64"
      ]
     },
     "execution_count": 27,
     "metadata": {},
     "output_type": "execute_result"
    }
   ],
   "source": [
    "target_test.value_counts(normalize=True)"
   ]
  },
  {
   "cell_type": "markdown",
   "metadata": {},
   "source": [
    "Выборки пропорционально изначальному датасету несбалансированные по классам. Попробуем обучить модели на несбалансированных данных, с параметром class_weight='balanced' и с использованием ресемплирования с уменьшением класса 0 (для \"тяжеловесных\"). Скорее всего на oversample датасете на валидационной выборке результат метрики F1 у моделей будет завышен, а на тестовой более низкий результат. Но проверить стоит 🙃\n",
    "\n",
    "Чтобы уменьшить выборку с нулевыми целевыми признаками, нужно:\n",
    "- разделить обучающую выборку на отрицательные и положительные объекты\n",
    "- случайным образом отбросить часть из отрицательных объектов\n",
    "- с учётом полученных данных создать новую обучающую выборку\n",
    "- перемешать данные"
   ]
  },
  {
   "cell_type": "code",
   "execution_count": 28,
   "metadata": {},
   "outputs": [],
   "source": [
    "# разделили выборки на 0 и 1\n",
    "features_zeros = features_train[target_train == 0]\n",
    "features_ones = features_train[target_train == 1]\n",
    "target_zeros = target_train[target_train == 0]\n",
    "target_ones = target_train[target_train == 1]"
   ]
  },
  {
   "cell_type": "code",
   "execution_count": 29,
   "metadata": {},
   "outputs": [
    {
     "name": "stdout",
     "output_type": "stream",
     "text": [
      "(107330,)\n",
      "(12139,)\n",
      "(107330,)\n",
      "(12139,)\n"
     ]
    }
   ],
   "source": [
    "# проверим размеры выборок\n",
    "for i in (features_zeros, features_ones, target_zeros, target_ones):\n",
    "    print(i.shape)"
   ]
  },
  {
   "cell_type": "code",
   "execution_count": 30,
   "metadata": {},
   "outputs": [],
   "source": [
    "# удалили часть отрицательных ответов\n",
    "features_downsampled = pd.concat([features_zeros.sample(frac=0.11, random_state=2501)] \\\n",
    "                                 + [features_ones])\n",
    "target_downsampled = pd.concat([target_zeros.sample(frac=0.11, random_state=2501)] + \\\n",
    "                               [target_ones])"
   ]
  },
  {
   "cell_type": "code",
   "execution_count": 31,
   "metadata": {},
   "outputs": [],
   "source": [
    "# перемешали данные\n",
    "features_downsampled, target_downsampled = shuffle(features_downsampled, target_downsampled, \\\n",
    "                                                   random_state=2501)"
   ]
  },
  {
   "cell_type": "code",
   "execution_count": 32,
   "metadata": {},
   "outputs": [
    {
     "data": {
      "text/plain": [
       "1    0.506953\n",
       "0    0.493047\n",
       "Name: toxic, dtype: float64"
      ]
     },
     "execution_count": 32,
     "metadata": {},
     "output_type": "execute_result"
    }
   ],
   "source": [
    "target_downsampled.value_counts(normalize=True)"
   ]
  },
  {
   "cell_type": "code",
   "execution_count": 33,
   "metadata": {},
   "outputs": [
    {
     "data": {
      "image/png": "[encoded data removed]",
      "text/plain": [
       "<Figure size 432x288 with 1 Axes>"
      ]
     },
     "metadata": {
      "needs_background": "light"
     },
     "output_type": "display_data"
    }
   ],
   "source": [
    "target_downsampled.plot(kind ='hist', bins=3);"
   ]
  },
  {
   "cell_type": "code",
   "execution_count": 34,
   "metadata": {},
   "outputs": [
    {
     "name": "stdout",
     "output_type": "stream",
     "text": [
      "(23945,)\n"
     ]
    },
    {
     "data": {
      "text/plain": [
       "(23945,)"
      ]
     },
     "execution_count": 34,
     "metadata": {},
     "output_type": "execute_result"
    }
   ],
   "source": [
    "print(features_downsampled.shape)\n",
    "target_downsampled.shape"
   ]
  },
  {
   "cell_type": "markdown",
   "metadata": {},
   "source": [
    "Теперь наши выборки сбалансированы по классам.\n",
    "\n",
    "<b>Вывод</b>:\n",
    "- лемматизировали и очистили от мусора исходный текст комментариев\n",
    "- создали список самых частоупотребляемых слов и вывели \"облако тегов\"\n",
    "- создали переменные для признака и таргета\n",
    "- разделили данные на 4 выборки: 2 обучающие и 2 тестовые\n",
    "- сделали дополнительную разбивку выборок с ресемплированием для борьбы с дисбалансом классов"
   ]
  },
  {
   "cell_type": "markdown",
   "metadata": {},
   "source": [
    "## Обучение"
   ]
  },
  {
   "cell_type": "markdown",
   "metadata": {},
   "source": [
    "Для обучения моделей нам нужно закодировать признаки - сделать из слов вектора. Будем использовать 3 способа:\n",
    "- мешок слов\n",
    "- TF-IDF кодирование\n",
    "- создание BERT-эмбеддингов\n",
    "\n",
    "После векторизации обучим модели и найдем метрику F1 для каждой модели, выберем наилучшую модель."
   ]
  },
  {
   "cell_type": "markdown",
   "metadata": {},
   "source": [
    "### Мешок слов"
   ]
  },
  {
   "cell_type": "code",
   "execution_count": 35,
   "metadata": {},
   "outputs": [],
   "source": [
    "# преобразуем корпус текстов в мешок слов, создав счетчик\n",
    "count_vect = CountVectorizer(stop_words = stopwords)"
   ]
  },
  {
   "cell_type": "markdown",
   "metadata": {},
   "source": [
    "#### Случайный лес"
   ]
  },
  {
   "cell_type": "code",
   "execution_count": 36,
   "metadata": {},
   "outputs": [],
   "source": [
    "# для Случайного леса\n",
    "pipeline_forest = Pipeline(steps=[\n",
    "    ('vectorizer', count_vect),\n",
    "    ('dt_estimator', RandomForestClassifier(random_state=2501))\n",
    "])"
   ]
  },
  {
   "cell_type": "code",
   "execution_count": 37,
   "metadata": {},
   "outputs": [
    {
     "name": "stdout",
     "output_type": "stream",
     "text": [
      "F1 Случайного леса: 0.07983421337702025\n",
      "Лучшие гиперпараметры: {'dt_estimator__max_depth': 6, 'dt_estimator__n_estimators': 1}\n",
      "CPU times: user 7min 35s, sys: 8.19 s, total: 7min 43s\n",
      "Wall time: 7min 46s\n"
     ]
    }
   ],
   "source": [
    "%%time\n",
    "\n",
    "param_grid = {'dt_estimator__max_depth': range(1, 7),\n",
    "              'dt_estimator__n_estimators': range(1, 42, 10)}\n",
    "\n",
    "grid_search_forest_bow = GridSearchCV(pipeline_forest, param_grid, cv=3, scoring='f1', n_jobs=1)\n",
    "grid_search_forest_bow.fit(features_train, target_train)\n",
    "f1_forest_bow = grid_search_forest_bow.best_score_\n",
    "\n",
    "print(f'F1 Случайного леса: {f1_forest_bow}') \n",
    "print(f'Лучшие гиперпараметры: {grid_search_forest_bow.best_params_}')"
   ]
  },
  {
   "cell_type": "markdown",
   "metadata": {},
   "source": [
    "С несбалансированными выборками значение метрики F1 катастрофически низкое. Также обучение модели происходит достаточно долго (более 8 минут). Попробуем использовать агрумент class_weight='balanced'."
   ]
  },
  {
   "cell_type": "code",
   "execution_count": 38,
   "metadata": {},
   "outputs": [],
   "source": [
    "# для Случайного леса с class_weight='balanced'\n",
    "pipeline_forest_cwb = Pipeline(steps=[\n",
    "    ('vectorizer', count_vect),\n",
    "    ('dt_estimator', RandomForestClassifier(random_state=2501, class_weight='balanced'))\n",
    "])"
   ]
  },
  {
   "cell_type": "code",
   "execution_count": 39,
   "metadata": {},
   "outputs": [
    {
     "name": "stdout",
     "output_type": "stream",
     "text": [
      "F1 Случайного леса с class_weight=\"balanced\": 0.3210159961766624\n",
      "Лучшие гиперпараметры: {'dt_estimator__max_depth': 6, 'dt_estimator__n_estimators': 41}\n",
      "CPU times: user 8min 1s, sys: 11.8 s, total: 8min 12s\n",
      "Wall time: 8min 31s\n"
     ]
    }
   ],
   "source": [
    "%%time\n",
    "\n",
    "param_grid = {'dt_estimator__max_depth': range(1, 7),\n",
    "              'dt_estimator__n_estimators': range(1, 42, 10)}\n",
    "\n",
    "grid_search_forest_cwb_bow = GridSearchCV(pipeline_forest_cwb, param_grid, cv=3, scoring='f1', \\\n",
    "                                          n_jobs=1)\n",
    "grid_search_forest_cwb_bow.fit(features_train, target_train)\n",
    "f1_forest_cwb_bow = grid_search_forest_cwb_bow.best_score_\n",
    "\n",
    "print(f'F1 Случайного леса с class_weight=\"balanced\": {f1_forest_cwb_bow}') \n",
    "print(f'Лучшие гиперпараметры: {grid_search_forest_cwb_bow.best_params_}')"
   ]
  },
  {
   "cell_type": "markdown",
   "metadata": {},
   "source": [
    "С аргументом class_weight='balanced' метрика улучшилась, но тоже очень низкая. Время обучения такое же."
   ]
  },
  {
   "cell_type": "markdown",
   "metadata": {},
   "source": [
    "#### Логистическая регрессия"
   ]
  },
  {
   "cell_type": "markdown",
   "metadata": {},
   "source": [
    "На прошлой модели явно видно, что с несбалансированными выборками модели обучаются намного хуже и медленнее. Далее будем использовать аргумент class_weight='balanced' для несбалансированных выборок."
   ]
  },
  {
   "cell_type": "code",
   "execution_count": 40,
   "metadata": {},
   "outputs": [],
   "source": [
    "# для Логистической регрессии\n",
    "pipeline_logreg = Pipeline(steps=[\n",
    "    ('vectorizer', count_vect),\n",
    "    ('dt_estimator', LogisticRegression(class_weight='balanced'))\n",
    "])"
   ]
  },
  {
   "cell_type": "code",
   "execution_count": 41,
   "metadata": {},
   "outputs": [
    {
     "name": "stdout",
     "output_type": "stream",
     "text": [
      "F1 Логистической регрессии: 0.7540084662423853\n",
      "Лучшие гиперпараметры: {'dt_estimator__C': 1, 'dt_estimator__max_iter': 1000, 'dt_estimator__solver': 'newton-cg'}\n",
      "CPU times: user 20min 22s, sys: 10.6 s, total: 20min 33s\n",
      "Wall time: 11min 28s\n"
     ]
    }
   ],
   "source": [
    "%%time\n",
    "\n",
    "param_grid = {'dt_estimator__max_iter': [1000],\n",
    "             'dt_estimator__solver':['newton-cg', 'lbfgs', 'liblinear'],\n",
    "             'dt_estimator__C': [0.1, 1, 10]}\n",
    "\n",
    "grid_search_log_cwb_bow = GridSearchCV(pipeline_logreg, param_grid, cv=3, scoring='f1', n_jobs=1)\n",
    "grid_search_log_cwb_bow.fit(features_train, target_train)\n",
    "f1_logreg_cwb_bow = grid_search_log_cwb_bow.best_score_\n",
    "\n",
    "print(f'F1 Логистической регрессии: {f1_logreg_cwb_bow}') \n",
    "print(f'Лучшие гиперпараметры: {grid_search_log_cwb_bow.best_params_}')"
   ]
  },
  {
   "cell_type": "markdown",
   "metadata": {},
   "source": [
    "Значение F1 у Логистической регрессии на обучающей выборке чуть больше, чем надо для проекта. Скорость обучения заметно увеличилась по сравнению с обучением Случайного леса."
   ]
  },
  {
   "cell_type": "markdown",
   "metadata": {},
   "source": [
    "#### CatBoost"
   ]
  },
  {
   "cell_type": "code",
   "execution_count": 42,
   "metadata": {},
   "outputs": [],
   "source": [
    "# для CatBoost\n",
    "pipeline_cat = Pipeline(steps=[\n",
    "    ('vectorizer', count_vect),\n",
    "    ('dt_estimator', CatBoostClassifier(eval_metric = 'F1', iterations=50, verbose=0, \\\n",
    "                                        random_state=2501, has_time=True))\n",
    "])"
   ]
  },
  {
   "cell_type": "markdown",
   "metadata": {},
   "source": [
    "Модель CatBoost очень долго обучалась на несбалансированной выборке, я не смогла дождаться результата. Поэтому принято решение использовать уменьшенную сбалансированную обучающую выборку. Проверим результат."
   ]
  },
  {
   "cell_type": "code",
   "execution_count": 43,
   "metadata": {},
   "outputs": [
    {
     "name": "stdout",
     "output_type": "stream",
     "text": [
      "F1 CatBoost: 0.824931509450949\n",
      "Лучшие гиперпараметры: {'dt_estimator__depth': 10, 'dt_estimator__l2_leaf_reg': 3, 'dt_estimator__learning_rate': 0.1}\n",
      "CPU times: user 32min 47s, sys: 25.3 s, total: 33min 12s\n",
      "Wall time: 11min 20s\n"
     ]
    }
   ],
   "source": [
    "%%time\n",
    "\n",
    "param_grid = [{\n",
    "    'dt_estimator__learning_rate': [0.03, 0.1],\n",
    "    'dt_estimator__depth': [1, 10],\n",
    "    'dt_estimator__l2_leaf_reg': [3, 5, 7, 9]\n",
    "}]\n",
    "\n",
    "grid_search_cat_down_bow = GridSearchCV(pipeline_cat, param_grid, cv=3, scoring='f1', n_jobs=1)\n",
    "grid_search_cat_down_bow.fit(features_downsampled, target_downsampled)\n",
    "\n",
    "f1_catboost_down_bow = grid_search_cat_down_bow.best_score_\n",
    "\n",
    "print(f'F1 CatBoost: {f1_catboost_down_bow}') \n",
    "print(f'Лучшие гиперпараметры: {grid_search_cat_down_bow.best_params_}')"
   ]
  },
  {
   "cell_type": "markdown",
   "metadata": {},
   "source": [
    "Значение метрики F1 хорошее, но очень большое время обучения модели по сравнению с логистической регрессией."
   ]
  },
  {
   "cell_type": "markdown",
   "metadata": {},
   "source": [
    "#### SGDClassifier"
   ]
  },
  {
   "cell_type": "code",
   "execution_count": 44,
   "metadata": {},
   "outputs": [],
   "source": [
    "# для SGDClassifier\n",
    "pipeline_sgd = Pipeline(steps=[\n",
    "    ('vectorizer', count_vect),\n",
    "    ('dt_estimator', SGDClassifier(random_state=2501, class_weight='balanced'))\n",
    "])"
   ]
  },
  {
   "cell_type": "markdown",
   "metadata": {},
   "source": [
    "Для модели SGD также использовали уменьшенную сбалансированную обучающую выборку, так как обучение на несбалансированной очень долгое."
   ]
  },
  {
   "cell_type": "code",
   "execution_count": 45,
   "metadata": {},
   "outputs": [
    {
     "name": "stdout",
     "output_type": "stream",
     "text": [
      "F1 SGD: 0.887959152978682\n",
      "Лучшие гиперпараметры: {'dt_estimator__eta0': 0.1, 'dt_estimator__learning_rate': 'adaptive', 'dt_estimator__loss': 'log'}\n",
      "CPU times: user 4min 45s, sys: 4.61 s, total: 4min 50s\n",
      "Wall time: 4min 4s\n"
     ]
    }
   ],
   "source": [
    "%%time\n",
    "\n",
    "param_grid = [{\n",
    "    'dt_estimator__learning_rate': ['constant', 'optimal', 'invscaling', 'adaptive'],\n",
    "    'dt_estimator__loss': ['hinge', 'log', 'modified_huber'],\n",
    "    'dt_estimator__eta0': [0.01, 0.05, 0.1, 0.2, 0.3, 0.5]\n",
    "}]\n",
    "\n",
    "grid_search_sgd_down_bow = GridSearchCV(pipeline_sgd, param_grid, cv=3, scoring='f1', n_jobs=1)\n",
    "grid_search_sgd_down_bow.fit(features_downsampled, target_downsampled)\n",
    "\n",
    "f1_sgd_down_bow = grid_search_sgd_down_bow.best_score_\n",
    "\n",
    "print(f'F1 SGD: {f1_sgd_down_bow}') \n",
    "print(f'Лучшие гиперпараметры: {grid_search_sgd_down_bow.best_params_}')"
   ]
  },
  {
   "cell_type": "markdown",
   "metadata": {},
   "source": [
    "Модель SGDClassifier показала хороший результат, обучалась намного быстрее модели CatBoost."
   ]
  },
  {
   "cell_type": "markdown",
   "metadata": {},
   "source": [
    "#### Наивный Байес"
   ]
  },
  {
   "cell_type": "code",
   "execution_count": 46,
   "metadata": {},
   "outputs": [],
   "source": [
    "# Наивный Байес Complement\n",
    "pipeline_nbc = Pipeline(steps=[\n",
    "    ('vectorizer', count_vect),\n",
    "    ('dt_estimator', ComplementNB())\n",
    "])"
   ]
  },
  {
   "cell_type": "code",
   "execution_count": 47,
   "metadata": {},
   "outputs": [
    {
     "name": "stdout",
     "output_type": "stream",
     "text": [
      "F1 Наивного Байеса Complement: 0.675505256572983\n",
      "Лучшие гиперпараметры: {'dt_estimator__alpha': 1.0, 'dt_estimator__fit_prior': True}\n",
      "CPU times: user 1min 31s, sys: 1.86 s, total: 1min 33s\n",
      "Wall time: 1min 34s\n"
     ]
    }
   ],
   "source": [
    "%%time\n",
    "\n",
    "param_grid = [{\n",
    "    'dt_estimator__alpha': [1.0, 0.0, 0.5],\n",
    "    'dt_estimator__fit_prior': [True, False]\n",
    "}]\n",
    "\n",
    "grid_search_nbc_bow = GridSearchCV(pipeline_nbc, param_grid, cv=3, scoring='f1', n_jobs=1)\n",
    "grid_search_nbc_bow.fit(features_train, target_train)\n",
    "f1_nbc_bow = grid_search_nbc_bow.best_score_\n",
    "\n",
    "print(f'F1 Наивного Байеса Complement: {f1_nbc_bow}') \n",
    "print(f'Лучшие гиперпараметры: {grid_search_nbc_bow.best_params_}')"
   ]
  },
  {
   "cell_type": "markdown",
   "metadata": {},
   "source": [
    "Наивный Байес Complement обучился очень быстро, но метрика F1 достаточно низкая."
   ]
  },
  {
   "cell_type": "code",
   "execution_count": 48,
   "metadata": {},
   "outputs": [],
   "source": [
    "# Наивный Байес Бернулли\n",
    "pipeline_nbc_ber = Pipeline(steps=[\n",
    "    ('vectorizer', count_vect),\n",
    "    ('dt_estimator', BernoulliNB())\n",
    "])"
   ]
  },
  {
   "cell_type": "code",
   "execution_count": 49,
   "metadata": {},
   "outputs": [
    {
     "name": "stdout",
     "output_type": "stream",
     "text": [
      "F1 Наивного Байеса Бернулли: 0.7060035288437295\n",
      "Лучшие гиперпараметры: {'dt_estimator__alpha': 1.0, 'dt_estimator__fit_prior': False}\n",
      "CPU times: user 1min 30s, sys: 1.65 s, total: 1min 31s\n",
      "Wall time: 1min 32s\n"
     ]
    }
   ],
   "source": [
    "%%time\n",
    "\n",
    "param_grid = [{\n",
    "    'dt_estimator__alpha': [1.0, 0.0, 0.5],\n",
    "    'dt_estimator__fit_prior': [True, False]\n",
    "}]\n",
    "\n",
    "grid_search_nbc_ber_bow = GridSearchCV(pipeline_nbc_ber, param_grid, cv=3, scoring='f1', n_jobs=1)\n",
    "grid_search_nbc_ber_bow.fit(features_train, target_train)\n",
    "f1_nbc_ber_bow = grid_search_nbc_ber_bow.best_score_\n",
    "\n",
    "print(f'F1 Наивного Байеса Бернулли: {f1_nbc_ber_bow}') \n",
    "print(f'Лучшие гиперпараметры: {grid_search_nbc_ber_bow.best_params_}')"
   ]
  },
  {
   "cell_type": "markdown",
   "metadata": {},
   "source": [
    "Обе модели на основе Наивного Байеса (распределение Бернулли и мультиномиальное распределение) обучились мгновенно, но качество ответов не удовлетворяет нашему условию. "
   ]
  },
  {
   "cell_type": "markdown",
   "metadata": {},
   "source": [
    "#### Вывод"
   ]
  },
  {
   "cell_type": "code",
   "execution_count": 50,
   "metadata": {},
   "outputs": [
    {
     "data": {
      "text/html": [
       "<div>\n",
       "<style scoped>\n",
       "    .dataframe tbody tr th:only-of-type {\n",
       "        vertical-align: middle;\n",
       "    }\n",
       "\n",
       "    .dataframe tbody tr th {\n",
       "        vertical-align: top;\n",
       "    }\n",
       "\n",
       "    .dataframe thead th {\n",
       "        text-align: right;\n",
       "    }\n",
       "</style>\n",
       "<table border=\"1\" class=\"dataframe\">\n",
       "  <thead>\n",
       "    <tr style=\"text-align: right;\">\n",
       "      <th></th>\n",
       "      <th>F1</th>\n",
       "    </tr>\n",
       "  </thead>\n",
       "  <tbody>\n",
       "    <tr>\n",
       "      <th>Случайный лес несбаланс.выборки</th>\n",
       "      <td>0.079834</td>\n",
       "    </tr>\n",
       "    <tr>\n",
       "      <th>Случайный лес balanced</th>\n",
       "      <td>0.321016</td>\n",
       "    </tr>\n",
       "    <tr>\n",
       "      <th>Логистическая регрессия balanced</th>\n",
       "      <td>0.754008</td>\n",
       "    </tr>\n",
       "    <tr>\n",
       "      <th>CatBoost</th>\n",
       "      <td>0.824932</td>\n",
       "    </tr>\n",
       "    <tr>\n",
       "      <th>SGDClassifier</th>\n",
       "      <td>0.887959</td>\n",
       "    </tr>\n",
       "    <tr>\n",
       "      <th>Наивный Байес Complement</th>\n",
       "      <td>0.675505</td>\n",
       "    </tr>\n",
       "    <tr>\n",
       "      <th>Наивный Байес Бернулли</th>\n",
       "      <td>0.706004</td>\n",
       "    </tr>\n",
       "  </tbody>\n",
       "</table>\n",
       "</div>"
      ],
      "text/plain": [
       "                                        F1\n",
       "Случайный лес несбаланс.выборки   0.079834\n",
       "Случайный лес balanced            0.321016\n",
       "Логистическая регрессия balanced  0.754008\n",
       "CatBoost                          0.824932\n",
       "SGDClassifier                     0.887959\n",
       "Наивный Байес Complement          0.675505\n",
       "Наивный Байес Бернулли            0.706004"
      ]
     },
     "execution_count": 50,
     "metadata": {},
     "output_type": "execute_result"
    }
   ],
   "source": [
    "# соберем все в одной таблице\n",
    "total = pd.DataFrame(columns=['F1'],\n",
    "                    index=['Случайный лес несбаланс.выборки', \n",
    "                           'Случайный лес balanced', \n",
    "                           'Логистическая регрессия balanced',\n",
    "                           'CatBoost',\n",
    "                           'SGDClassifier',\n",
    "                          'Наивный Байес Complement',\n",
    "                          'Наивный Байес Бернулли'],\n",
    "                    data=[f1_forest_bow, f1_forest_cwb_bow, f1_logreg_cwb_bow,\n",
    "                          f1_catboost_down_bow, f1_sgd_down_bow, f1_nbc_bow, \n",
    "                          f1_nbc_ber_bow])\n",
    "total"
   ]
  },
  {
   "cell_type": "code",
   "execution_count": 51,
   "metadata": {
    "scrolled": true
   },
   "outputs": [
    {
     "data": {
      "image/png": "[encoded data removed]",
      "text/plain": [
       "<Figure size 864x360 with 1 Axes>"
      ]
     },
     "metadata": {
      "needs_background": "light"
     },
     "output_type": "display_data"
    }
   ],
   "source": [
    "total.sort_values(by='F1', ascending=False).plot.barh(y='F1', figsize=(12,5), color='green')\n",
    "plt.title('Сравнение F1 моделей')\n",
    "plt.xlabel('F1')\n",
    "plt.ylabel('Модель')\n",
    "plt.axvline(x=0.75, color='r', linestyle='--')\n",
    "plt.show()"
   ]
  },
  {
   "cell_type": "markdown",
   "metadata": {},
   "source": [
    "В ходе обучения моделей с помощью векторизации Мешок слов можно сделать следующие выводы:\n",
    "- на несбалансированных выборках модели обучаются очень медленно и показывают очень плохие результаты F1, было принято решение для обучения некоторых моделей использовать только сбалансированные выборки\n",
    "- модели Случайный лес, Наивный Байес показали F1 ниже заданного уровня\n",
    "- остальные модели показали на обучающей выборке метрики F1 выше требуемого 0.75\n",
    "- быстрее всех обучается модель Наивный Байес (менее 2-х минут), CatBoost обучается очень долго - более 36 минут, SGD - чуть более 5 минут\n",
    "- на данном этапе проекта для проверки на тестовых данных лучшая модель Логистическая регрессия, так как она показала метрику выше 0.75, обучалась на полном датасете и ее время обучения допустимое (чуть более 20 минут)."
   ]
  },
  {
   "cell_type": "markdown",
   "metadata": {},
   "source": [
    "### TF-IDF кодирование"
   ]
  },
  {
   "cell_type": "markdown",
   "metadata": {},
   "source": [
    "Воспользуемся другим способом кодирование признаков TF-IDF: TF отвечает за количество упоминаний слова в отдельном тексте, а IDF отражает частоту его употребления во всём корпусе. Вместе они дают оценку важности слова во всем корпусе."
   ]
  },
  {
   "cell_type": "code",
   "execution_count": 52,
   "metadata": {},
   "outputs": [],
   "source": [
    "# объявляем векторизатор\n",
    "count_tf_idf = TfidfVectorizer(stop_words = stopwords)"
   ]
  },
  {
   "cell_type": "markdown",
   "metadata": {},
   "source": [
    "#### Случайный лес"
   ]
  },
  {
   "cell_type": "code",
   "execution_count": 53,
   "metadata": {},
   "outputs": [],
   "source": [
    "# для Случайного леса\n",
    "pipeline_forest = Pipeline(steps=[\n",
    "    ('vectorizer', count_tf_idf),\n",
    "    ('dt_estimator', RandomForestClassifier(random_state=2501))\n",
    "])"
   ]
  },
  {
   "cell_type": "code",
   "execution_count": 54,
   "metadata": {},
   "outputs": [
    {
     "name": "stdout",
     "output_type": "stream",
     "text": [
      "F1 Случайного леса: 0.06763497258403103\n",
      "Лучшие гиперпараметры: {'dt_estimator__max_depth': 6, 'dt_estimator__n_estimators': 1}\n",
      "CPU times: user 8min 5s, sys: 11.1 s, total: 8min 16s\n",
      "Wall time: 8min 31s\n"
     ]
    }
   ],
   "source": [
    "%%time\n",
    "\n",
    "param_grid = {'dt_estimator__max_depth': range(1, 7),\n",
    "              'dt_estimator__n_estimators': range(1, 42, 10)}\n",
    "\n",
    "grid_search_forest_tf = GridSearchCV(pipeline_forest, param_grid, cv=3, scoring='f1', n_jobs=1)\n",
    "grid_search_forest_tf.fit(features_train, target_train)\n",
    "f1_forest_tf = grid_search_forest_tf.best_score_\n",
    "\n",
    "print(f'F1 Случайного леса: {f1_forest_tf}')\n",
    "print(f'Лучшие гиперпараметры: {grid_search_forest_tf.best_params_}')"
   ]
  },
  {
   "cell_type": "markdown",
   "metadata": {},
   "source": [
    "Как и с мешком слов, модель Случайный лес на несбалансированной выборке совсем не справилась."
   ]
  },
  {
   "cell_type": "code",
   "execution_count": 55,
   "metadata": {},
   "outputs": [],
   "source": [
    "# для Случайного леса с class_weight='balanced'\n",
    "pipeline_forest_cwb_tf = Pipeline(steps=[\n",
    "    ('vectorizer', count_tf_idf),\n",
    "    ('dt_estimator', RandomForestClassifier(random_state=2501, class_weight='balanced'))\n",
    "])"
   ]
  },
  {
   "cell_type": "code",
   "execution_count": 56,
   "metadata": {},
   "outputs": [
    {
     "name": "stdout",
     "output_type": "stream",
     "text": [
      "F1 Случайного леса с class_weight=\"balanced\": 0.32311536465480106\n",
      "Лучшие гиперпараметры: {'dt_estimator__max_depth': 6, 'dt_estimator__n_estimators': 41}\n",
      "CPU times: user 8min 16s, sys: 13 s, total: 8min 29s\n",
      "Wall time: 8min 41s\n"
     ]
    }
   ],
   "source": [
    "%%time\n",
    "\n",
    "grid_search_forest_cwb_tf = GridSearchCV(pipeline_forest_cwb_tf, param_grid, cv=3, scoring='f1', \\\n",
    "                                         n_jobs=1)\n",
    "grid_search_forest_cwb_tf.fit(features_train, target_train)\n",
    "f1_forest_cwb_tf = grid_search_forest_cwb_tf.best_score_\n",
    "\n",
    "print(f'F1 Случайного леса с class_weight=\"balanced\": {f1_forest_cwb_tf}') \n",
    "print(f'Лучшие гиперпараметры: {grid_search_forest_cwb_tf.best_params_}')"
   ]
  },
  {
   "cell_type": "markdown",
   "metadata": {},
   "source": [
    "Метрика F1 немного больше при TF-IDF, чем при мешке слов. Также скорость обучения моделей чуть выше."
   ]
  },
  {
   "cell_type": "markdown",
   "metadata": {},
   "source": [
    "#### Логистическая регрессия"
   ]
  },
  {
   "cell_type": "code",
   "execution_count": 57,
   "metadata": {},
   "outputs": [],
   "source": [
    "# для Логистической регрессии\n",
    "pipeline_logreg_tf = Pipeline(steps=[\n",
    "    ('vectorizer', count_tf_idf),\n",
    "    ('dt_estimator', LogisticRegression(class_weight='balanced'))\n",
    "])"
   ]
  },
  {
   "cell_type": "code",
   "execution_count": 58,
   "metadata": {},
   "outputs": [
    {
     "name": "stdout",
     "output_type": "stream",
     "text": [
      "F1 Логистической регрессии: 0.7568429458831396\n",
      "Лучшие гиперпараметры: {'dt_estimator__C': 10, 'dt_estimator__max_iter': 1000, 'dt_estimator__solver': 'lbfgs'}\n",
      "CPU times: user 4min 8s, sys: 5.54 s, total: 4min 14s\n",
      "Wall time: 3min 27s\n"
     ]
    }
   ],
   "source": [
    "%%time\n",
    "\n",
    "param_grid = {'dt_estimator__max_iter': [1000],\n",
    "             'dt_estimator__solver':['newton-cg', 'lbfgs', 'liblinear'],\n",
    "             'dt_estimator__C': [0.1, 1, 10]\n",
    "             }\n",
    "\n",
    "grid_search_logreg_cwb_tf = GridSearchCV(pipeline_logreg_tf, param_grid, cv=3, scoring='f1', n_jobs=1)\n",
    "grid_search_logreg_cwb_tf.fit(features_train, target_train)\n",
    "f1_logreg_cwb_tf = grid_search_logreg_cwb_tf.best_score_\n",
    "\n",
    "print(f'F1 Логистической регрессии: {f1_logreg_cwb_tf}') \n",
    "print(f'Лучшие гиперпараметры: {grid_search_logreg_cwb_tf.best_params_}')"
   ]
  },
  {
   "cell_type": "markdown",
   "metadata": {},
   "source": [
    "Модель показала хороший результат F1 и быструю скорость обучения (на мешке слов модель обучалась более 20 минут)."
   ]
  },
  {
   "cell_type": "markdown",
   "metadata": {},
   "source": [
    "#### CatBoost"
   ]
  },
  {
   "cell_type": "code",
   "execution_count": 59,
   "metadata": {},
   "outputs": [],
   "source": [
    "# для CatBoost\n",
    "pipeline_cat_tf = Pipeline(steps=[\n",
    "    ('vectorizer', count_tf_idf),\n",
    "    ('dt_estimator', CatBoostClassifier(eval_metric = 'F1', iterations=50, verbose=0, \\\n",
    "                                        random_state=2501, has_time=True))\n",
    "])"
   ]
  },
  {
   "cell_type": "code",
   "execution_count": null,
   "metadata": {},
   "outputs": [],
   "source": [
    "%%time\n",
    "\n",
    "param_grid = [{\n",
    "    'dt_estimator__learning_rate': [0.03, 0.1],\n",
    "    'dt_estimator__depth': [1, 10],\n",
    "    'dt_estimator__l2_leaf_reg': [3, 5, 7, 9]\n",
    "}]\n",
    "\n",
    "grid_search_cat_down_tf = GridSearchCV(pipeline_cat_tf, param_grid, cv=3, scoring='f1', n_jobs=1)\n",
    "grid_search_cat_down_tf.fit(features_downsampled, target_downsampled)\n",
    "\n",
    "f1_catboost_down_tf = grid_search_cat_down_tf.best_score_\n",
    "\n",
    "print(f'F1 CatBoost: {f1_catboost_down_tf}') \n",
    "print(f'Лучшие гиперпараметры: {grid_search_cat_down_tf.best_params_}')"
   ]
  },
  {
   "cell_type": "markdown",
   "metadata": {},
   "source": [
    "Метрика F1 хорошая, лучше, чем у CatBoost на мешке слов. Также обучение модели длилось очень долго - почти 2 часа."
   ]
  },
  {
   "cell_type": "markdown",
   "metadata": {},
   "source": [
    "#### SGDClassifier"
   ]
  },
  {
   "cell_type": "code",
   "execution_count": null,
   "metadata": {},
   "outputs": [],
   "source": [
    "# для SGDClassifier\n",
    "pipeline_sgd_tf = Pipeline(steps=[\n",
    "    ('vectorizer', count_tf_idf),\n",
    "    ('dt_estimator', SGDClassifier(random_state=2501, class_weight='balanced'))\n",
    "])"
   ]
  },
  {
   "cell_type": "code",
   "execution_count": null,
   "metadata": {},
   "outputs": [],
   "source": [
    "%%time\n",
    "\n",
    "param_grid = [{\n",
    "    'dt_estimator__learning_rate': ['constant', 'optimal', 'invscaling', 'adaptive'],\n",
    "    'dt_estimator__loss': ['hinge', 'log', 'modified_huber'],\n",
    "    'dt_estimator__eta0': [0.01, 0.05, 0.1, 0.2, 0.3, 0.5]\n",
    "}]\n",
    "\n",
    "grid_search_sgd_down_tf = GridSearchCV(pipeline_sgd_tf, param_grid, cv=3, scoring='f1', n_jobs=1)\n",
    "grid_search_sgd_down_tf.fit(features_downsampled, target_downsampled)\n",
    "\n",
    "f1_sgd_down_tf = grid_search_sgd_down_tf.best_score_\n",
    "\n",
    "print(f'F1 SGD: {f1_sgd_down_tf}') \n",
    "print(f'Лучшие гиперпараметры: {grid_search_sgd_down_tf.best_params_}')"
   ]
  },
  {
   "cell_type": "markdown",
   "metadata": {},
   "source": [
    "Метрика F1 чуть выше, чем при мешке слов, время на обучение затрачено такое же."
   ]
  },
  {
   "cell_type": "markdown",
   "metadata": {},
   "source": [
    "#### Наивный Байес"
   ]
  },
  {
   "cell_type": "code",
   "execution_count": null,
   "metadata": {},
   "outputs": [],
   "source": [
    "# Наивный Байес Complement\n",
    "pipeline_nbc_tf = Pipeline(steps=[\n",
    "    ('vectorizer', count_tf_idf),\n",
    "    ('dt_estimator', ComplementNB())\n",
    "])"
   ]
  },
  {
   "cell_type": "code",
   "execution_count": null,
   "metadata": {},
   "outputs": [],
   "source": [
    "%%time\n",
    "\n",
    "param_grid = [{\n",
    "    'dt_estimator__alpha': [1.0, 0.0, 0.5],\n",
    "    'dt_estimator__fit_prior': [True, False]\n",
    "}]\n",
    "\n",
    "grid_search_nbc_tf = GridSearchCV(pipeline_nbc_tf, param_grid, cv=3, scoring='f1', n_jobs=1)\n",
    "grid_search_nbc_tf.fit(features_train, target_train)\n",
    "f1_nbc_tf = grid_search_nbc_tf.best_score_\n",
    "\n",
    "print(f'F1 Наивного Байеса Complement: {f1_nbc_tf}') \n",
    "print(f'Лучшие гиперпараметры: {grid_search_nbc_tf.best_params_}')"
   ]
  },
  {
   "cell_type": "code",
   "execution_count": null,
   "metadata": {},
   "outputs": [],
   "source": [
    "# Наивный Байес Бернулли\n",
    "pipeline_nbc_ber_tf = Pipeline(steps=[\n",
    "    ('vectorizer', count_tf_idf),\n",
    "    ('dt_estimator', BernoulliNB())\n",
    "])"
   ]
  },
  {
   "cell_type": "code",
   "execution_count": null,
   "metadata": {},
   "outputs": [],
   "source": [
    "%%time\n",
    "\n",
    "param_grid = [{\n",
    "    'dt_estimator__alpha': [1.0, 0.0, 0.5],\n",
    "    'dt_estimator__fit_prior': [True, False]\n",
    "}]\n",
    "\n",
    "grid_search_nbc_ber_tf = GridSearchCV(pipeline_nbc_ber_tf, param_grid, cv=3, scoring='f1', n_jobs=1)\n",
    "grid_search_nbc_ber_tf.fit(features_train, target_train)\n",
    "f1_nbc_ber_tf = grid_search_nbc_ber_tf.best_score_\n",
    "\n",
    "print(f'F1 Наивного Байеса Бернулли: {f1_nbc_ber_tf}') \n",
    "print(f'Лучшие гиперпараметры: {grid_search_nbc_ber_tf.best_params_}')"
   ]
  },
  {
   "cell_type": "markdown",
   "metadata": {},
   "source": [
    "Как и с мешком слов, Наивный Байес с TF-IDF не справился с заданным порогом метрики F1. Но скорость его обучения впечатляет."
   ]
  },
  {
   "cell_type": "markdown",
   "metadata": {},
   "source": [
    "#### Вывод"
   ]
  },
  {
   "cell_type": "code",
   "execution_count": null,
   "metadata": {},
   "outputs": [],
   "source": [
    "# соберем все в одной таблице\n",
    "total_tf = pd.DataFrame(columns=['F1'],\n",
    "                    index=['Случайный лес несбаланс.выборки', \n",
    "                           'Случайный лес balanced', \n",
    "                           'Логистическая регрессия balanced',\n",
    "                           'CatBoost',\n",
    "                           'SGDClassifier',\n",
    "                          'Наивный Байес Complement',\n",
    "                          'Наивный Байес Бернулли'],\n",
    "                    data=[f1_forest_tf, f1_forest_cwb_tf, f1_logreg_cwb_tf,\n",
    "                          f1_catboost_down_tf, f1_sgd_down_tf, f1_nbc_tf, \n",
    "                          f1_nbc_ber_tf])\n",
    "total_tf"
   ]
  },
  {
   "cell_type": "code",
   "execution_count": null,
   "metadata": {},
   "outputs": [],
   "source": [
    "total_tf.sort_values(by='F1', ascending=False).plot.barh(y='F1', figsize=(12,5), color='green')\n",
    "plt.title('Сравнение F1 моделей')\n",
    "plt.xlabel('F1')\n",
    "plt.ylabel('Модель')\n",
    "plt.axvline(x=0.75, color='r', linestyle='--')\n",
    "plt.show()"
   ]
  },
  {
   "cell_type": "markdown",
   "metadata": {},
   "source": [
    "При использовании векторизации TF-IDF метрики F1 получились чуть лучше, также в некоторых моделях уменьшилось время обучения модели. Лучшую метрику показала модель SGD, но она обучалась на сбалансированной уменьшенной выборке. Для проверки на тестовых данных нам нужна полный датасет. Поэтому лучшая и единственная в данном случае модель - Логистическая регрессия с параметром сбалансированности классов."
   ]
  },
  {
   "cell_type": "markdown",
   "metadata": {},
   "source": [
    "## Тестирование модели"
   ]
  },
  {
   "cell_type": "markdown",
   "metadata": {},
   "source": [
    "В результате обучения с помощью векторизации Мешка слов и TF-IDF кодирования лучшими моделями оказались Логистическая регрессия. F1 метрика с TF-IDF чуть выше, также скорость обучения в 5 раз быстрее (22 минуты против 4). Будем проверять на тестовой выборке именно Логистическую регрессию с TF-IDF."
   ]
  },
  {
   "cell_type": "code",
   "execution_count": null,
   "metadata": {},
   "outputs": [],
   "source": [
    "print(f'F1 логистической регрессии с мешком слов: {f1_logreg_cwb_bow}')\n",
    "print(f'F1 логистической регрессии с TF-IDF: {f1_logreg_cwb_tf}')"
   ]
  },
  {
   "cell_type": "code",
   "execution_count": null,
   "metadata": {},
   "outputs": [],
   "source": [
    "predicted_valid = grid_search_logreg_cwb_tf.best_estimator_.predict(features_test)\n",
    "f1_test = f1_score(target_test, predicted_valid)\n",
    "\n",
    "print(f'F1 Логистической регрессии на несбалансированных выборках: {f1_test}')"
   ]
  },
  {
   "cell_type": "markdown",
   "metadata": {},
   "source": [
    "Модель справилась на тестовой выборке, метрика F1 = 0.7528256650302546. "
   ]
  },
  {
   "cell_type": "markdown",
   "metadata": {},
   "source": [
    "## Вывод"
   ]
  },
  {
   "cell_type": "markdown",
   "metadata": {},
   "source": [
    "В ходе данного проекта было сделано:\n",
    "- первичная предобработка данных для дальнейшего обучения моделей\n",
    "- лемматизация и очистка текстов от \"мусора\"\n",
    "- создано \"облако тегов\" самых часто используемых слов\n",
    "- сделаны векторизации корпуса двумя способами: Мешок слов (BOW) и TF-IDF-кодирование\n",
    "- обучены пять моделей на сбалансированных и несбалансированных выборках\n",
    "- подобраны лучшие гиперпараметры с помощью кросс-валидации\n",
    "- выбрали лучшую модель по F1 и скорости обучения: Логистическая регрессия с TF-IDF-кодированием, обученная на несбалансированных выборках с аргументом class_weight='balanced'\n",
    "- лучшая модель проверена на тестовой выборке \n",
    "- F1 лучшей модели на тестовой выборке: 0.7528256650302546"
   ]
  },
  {
   "cell_type": "code",
   "execution_count": null,
   "metadata": {},
   "outputs": [],
   "source": []
  }
 ],
 "metadata": {
  "kernelspec": {
   "display_name": "Python 3 (ipykernel)",
   "language": "python",
   "name": "python3"
  },
  "language_info": {
   "codemirror_mode": {
    "name": "ipython",
    "version": 3
   },
   "file_extension": ".py",
   "mimetype": "text/x-python",
   "name": "python",
   "nbconvert_exporter": "python",
   "pygments_lexer": "ipython3",
   "version": "3.9.12"
  },
  "toc": {
   "base_numbering": 1,
   "nav_menu": {},
   "number_sections": true,
   "sideBar": true,
   "skip_h1_title": true,
   "title_cell": "Содержание",
   "title_sidebar": "Contents",
   "toc_cell": true,
   "toc_position": {
    "height": "calc(100% - 180px)",
    "left": "10px",
    "top": "150px",
    "width": "268px"
   },
   "toc_section_display": true,
   "toc_window_display": true
  }
 },
 "nbformat": 4,
 "nbformat_minor": 2
}
