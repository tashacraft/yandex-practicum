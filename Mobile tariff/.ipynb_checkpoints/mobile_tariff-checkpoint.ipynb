{
 "cells": [
  {
   "cell_type": "markdown",
   "metadata": {},
   "source": [
    "# Рекомендация тарифов"
   ]
  },
  {
   "cell_type": "markdown",
   "metadata": {},
   "source": [
    "Оператор мобильной связи «Мегалайн» выяснил: многие клиенты пользуются архивными тарифами. Они хотят построить систему, способную проанализировать поведение клиентов и предложить пользователям новый тариф: «Смарт» или «Ультра».\n",
    "\n",
    "В нашем распоряжении данные о поведении клиентов, которые уже перешли на эти тарифы. Нужно построить модель для задачи классификации, которая выберет подходящий тариф. Предобработка данных не понадобится — её уже сделали ранее в прошлом проекте.\n",
    "\n",
    "Нужно:\n",
    "- разбить данные на 3 выборки: обучающую, валидационную и тестовую\n",
    "- исследовать качество разных моделей машинного обучения для задачи классификации и сравнить результаты\n",
    "- построить модель с максимально большим значением \"accuracy\" и довести долю правильных ответов модели до 0.75\n",
    "- проверить модель на тестовой выборке\n",
    "- проверить модель на адекватность\n",
    "\n",
    "Каждый объект в наборе данных — это информация о поведении одного пользователя за месяц:\n",
    "- сalls — количество звонков,\n",
    "- minutes — суммарная длительность звонков в минутах,\n",
    "- messages — количество sms-сообщений,\n",
    "- mb_used — израсходованный интернет-трафик в Мб,\n",
    "- is_ultra — каким тарифом пользовался в течение месяца («Ультра» — 1, «Смарт» — 0)."
   ]
  },
  {
   "cell_type": "markdown",
   "metadata": {},
   "source": [
    "## Изучение файла"
   ]
  },
  {
   "cell_type": "markdown",
   "metadata": {},
   "source": [
    "Начнем с загрузки и изучения файла. В задании указано, что предобработка данных была сделана ранее, проверим, все ли хорошо с данными :)"
   ]
  },
  {
   "cell_type": "code",
   "execution_count": 2,
   "metadata": {
    "scrolled": true
   },
   "outputs": [],
   "source": [
    "import pandas as pd\n",
    "\n",
    "# для разделения выборки на обучающую и тестовую\n",
    "from sklearn.model_selection import train_test_split\n",
    "\n",
    "# для построения модели Дерево решений\n",
    "from sklearn.tree import DecisionTreeClassifier\n",
    "# для расчета метрики accuracy\n",
    "from sklearn.metrics import accuracy_score\n",
    "# для построения модели Случайный лес\n",
    "from sklearn.ensemble import RandomForestClassifier\n",
    "# для построения модели Логистическая регрессия\n",
    "from sklearn.linear_model import LogisticRegression\n",
    "# для проверки модели на адекватность методом classification_report\n",
    "from sklearn.metrics import classification_report\n",
    "# для создания baseline модели\n",
    "from sklearn.dummy import DummyClassifier \n",
    "# для перемешивания данных в выборке\n",
    "from sklearn.utils import shuffle"
   ]
  },
  {
   "cell_type": "code",
   "execution_count": 3,
   "metadata": {},
   "outputs": [
    {
     "data": {
      "text/html": [
       "<div>\n",
       "<style scoped>\n",
       "    .dataframe tbody tr th:only-of-type {\n",
       "        vertical-align: middle;\n",
       "    }\n",
       "\n",
       "    .dataframe tbody tr th {\n",
       "        vertical-align: top;\n",
       "    }\n",
       "\n",
       "    .dataframe thead th {\n",
       "        text-align: right;\n",
       "    }\n",
       "</style>\n",
       "<table border=\"1\" class=\"dataframe\">\n",
       "  <thead>\n",
       "    <tr style=\"text-align: right;\">\n",
       "      <th></th>\n",
       "      <th>calls</th>\n",
       "      <th>minutes</th>\n",
       "      <th>messages</th>\n",
       "      <th>mb_used</th>\n",
       "      <th>is_ultra</th>\n",
       "    </tr>\n",
       "  </thead>\n",
       "  <tbody>\n",
       "    <tr>\n",
       "      <th>0</th>\n",
       "      <td>40.0</td>\n",
       "      <td>311.90</td>\n",
       "      <td>83.0</td>\n",
       "      <td>19915.42</td>\n",
       "      <td>0</td>\n",
       "    </tr>\n",
       "    <tr>\n",
       "      <th>1</th>\n",
       "      <td>85.0</td>\n",
       "      <td>516.75</td>\n",
       "      <td>56.0</td>\n",
       "      <td>22696.96</td>\n",
       "      <td>0</td>\n",
       "    </tr>\n",
       "    <tr>\n",
       "      <th>2</th>\n",
       "      <td>77.0</td>\n",
       "      <td>467.66</td>\n",
       "      <td>86.0</td>\n",
       "      <td>21060.45</td>\n",
       "      <td>0</td>\n",
       "    </tr>\n",
       "    <tr>\n",
       "      <th>3</th>\n",
       "      <td>106.0</td>\n",
       "      <td>745.53</td>\n",
       "      <td>81.0</td>\n",
       "      <td>8437.39</td>\n",
       "      <td>1</td>\n",
       "    </tr>\n",
       "    <tr>\n",
       "      <th>4</th>\n",
       "      <td>66.0</td>\n",
       "      <td>418.74</td>\n",
       "      <td>1.0</td>\n",
       "      <td>14502.75</td>\n",
       "      <td>0</td>\n",
       "    </tr>\n",
       "    <tr>\n",
       "      <th>5</th>\n",
       "      <td>58.0</td>\n",
       "      <td>344.56</td>\n",
       "      <td>21.0</td>\n",
       "      <td>15823.37</td>\n",
       "      <td>0</td>\n",
       "    </tr>\n",
       "    <tr>\n",
       "      <th>6</th>\n",
       "      <td>57.0</td>\n",
       "      <td>431.64</td>\n",
       "      <td>20.0</td>\n",
       "      <td>3738.90</td>\n",
       "      <td>1</td>\n",
       "    </tr>\n",
       "    <tr>\n",
       "      <th>7</th>\n",
       "      <td>15.0</td>\n",
       "      <td>132.40</td>\n",
       "      <td>6.0</td>\n",
       "      <td>21911.60</td>\n",
       "      <td>0</td>\n",
       "    </tr>\n",
       "    <tr>\n",
       "      <th>8</th>\n",
       "      <td>7.0</td>\n",
       "      <td>43.39</td>\n",
       "      <td>3.0</td>\n",
       "      <td>2538.67</td>\n",
       "      <td>1</td>\n",
       "    </tr>\n",
       "    <tr>\n",
       "      <th>9</th>\n",
       "      <td>90.0</td>\n",
       "      <td>665.41</td>\n",
       "      <td>38.0</td>\n",
       "      <td>17358.61</td>\n",
       "      <td>0</td>\n",
       "    </tr>\n",
       "  </tbody>\n",
       "</table>\n",
       "</div>"
      ],
      "text/plain": [
       "   calls  minutes  messages   mb_used  is_ultra\n",
       "0   40.0   311.90      83.0  19915.42         0\n",
       "1   85.0   516.75      56.0  22696.96         0\n",
       "2   77.0   467.66      86.0  21060.45         0\n",
       "3  106.0   745.53      81.0   8437.39         1\n",
       "4   66.0   418.74       1.0  14502.75         0\n",
       "5   58.0   344.56      21.0  15823.37         0\n",
       "6   57.0   431.64      20.0   3738.90         1\n",
       "7   15.0   132.40       6.0  21911.60         0\n",
       "8    7.0    43.39       3.0   2538.67         1\n",
       "9   90.0   665.41      38.0  17358.61         0"
      ]
     },
     "execution_count": 3,
     "metadata": {},
     "output_type": "execute_result"
    }
   ],
   "source": [
    "data = pd.read_csv('users_behavior.csv')\n",
    "data.head(10)"
   ]
  },
  {
   "cell_type": "code",
   "execution_count": 4,
   "metadata": {},
   "outputs": [
    {
     "name": "stdout",
     "output_type": "stream",
     "text": [
      "<class 'pandas.core.frame.DataFrame'>\n",
      "RangeIndex: 3214 entries, 0 to 3213\n",
      "Data columns (total 5 columns):\n",
      " #   Column    Non-Null Count  Dtype  \n",
      "---  ------    --------------  -----  \n",
      " 0   calls     3214 non-null   float64\n",
      " 1   minutes   3214 non-null   float64\n",
      " 2   messages  3214 non-null   float64\n",
      " 3   mb_used   3214 non-null   float64\n",
      " 4   is_ultra  3214 non-null   int64  \n",
      "dtypes: float64(4), int64(1)\n",
      "memory usage: 125.7 KB\n"
     ]
    }
   ],
   "source": [
    "data.info()"
   ]
  },
  {
   "cell_type": "markdown",
   "metadata": {},
   "source": [
    "В датасете 3214 объектов, 5 столбцов. Все столбцы названы корректно, пропусков нет, типы данных - с плавающей точкой и целые. Можно приступать к разбивке данных на выборки."
   ]
  },
  {
   "cell_type": "markdown",
   "metadata": {},
   "source": [
    "## Разбитие данных на выборки"
   ]
  },
  {
   "cell_type": "markdown",
   "metadata": {},
   "source": [
    "У нас имеется один датасет с данными. Нам нужны три выборки: обучающая (для обучения модели), валидационная (для применения гиперпараметров) и тестовая (для итоговой проверки). Так как \"спрятанной\" тестовой выборки у нас нет, будем делить данные на три части в соотношении 3:1:1 (60%:20%:20%).\n",
    "\n",
    "Для начала нужно создать переменные для признаков и целевого признака из нашего датасета. \n",
    "Целевой признак в данном проекте - название тарифа - столбец \"is_ultra\". Значение 1 - тариф \"Ультра\", значение 0 - тариф \"Смарт\". Создадим нужные нам переменные."
   ]
  },
  {
   "cell_type": "code",
   "execution_count": 5,
   "metadata": {},
   "outputs": [],
   "source": [
    "features = data.drop('is_ultra', axis=1)\n",
    "target = data['is_ultra']"
   ]
  },
  {
   "cell_type": "markdown",
   "metadata": {},
   "source": [
    "Теперь посмотрим, как распределены значения в целевом признаке."
   ]
  },
  {
   "cell_type": "code",
   "execution_count": 6,
   "metadata": {},
   "outputs": [
    {
     "data": {
      "text/plain": [
       "0    0.693528\n",
       "1    0.306472\n",
       "Name: is_ultra, dtype: float64"
      ]
     },
     "execution_count": 6,
     "metadata": {},
     "output_type": "execute_result"
    }
   ],
   "source": [
    "target.value_counts(normalize=True)"
   ]
  },
  {
   "cell_type": "markdown",
   "metadata": {},
   "source": [
    "Тарифа Смарт намного больше (69%), чем тарифа Ультра. Чтобы обеспечить одинаковую репрезентативность объектов в обучающей, валидационной и тестовой выборках, разобьем данные на выборки так, чтобы в каждой были одинаковые пропорции тарифов. Используем для этого агрумент stratify.\n",
    "\n",
    "Сперва разобьем наши данные на 2 выборки (обучающую и дополнительную) в пропорции 60% и 40%."
   ]
  },
  {
   "cell_type": "code",
   "execution_count": 7,
   "metadata": {},
   "outputs": [],
   "source": [
    "features_train, features_valid_test, target_train, target_valid_test = \\\n",
    "train_test_split(features, target, train_size=0.6, random_state=12345, stratify=target)"
   ]
  },
  {
   "cell_type": "code",
   "execution_count": 8,
   "metadata": {},
   "outputs": [
    {
     "name": "stdout",
     "output_type": "stream",
     "text": [
      "(1928, 4)\n"
     ]
    },
    {
     "data": {
      "text/plain": [
       "(1286, 4)"
      ]
     },
     "execution_count": 8,
     "metadata": {},
     "output_type": "execute_result"
    }
   ],
   "source": [
    "# проверим размеры\n",
    "print(features_train.shape)\n",
    "features_valid_test.shape"
   ]
  },
  {
   "cell_type": "code",
   "execution_count": 10,
   "metadata": {},
   "outputs": [
    {
     "data": {
      "text/plain": [
       "0    0.693465\n",
       "1    0.306535\n",
       "Name: is_ultra, dtype: float64"
      ]
     },
     "execution_count": 10,
     "metadata": {},
     "output_type": "execute_result"
    }
   ],
   "source": [
    "# проверим соотношение классов в обучающей выборке\n",
    "target_train.value_counts(normalize=True)"
   ]
  },
  {
   "cell_type": "markdown",
   "metadata": {},
   "source": [
    "Теперь разделим меньшую (дополнительную) выборку еще на 2 части пополам, так мы получим валидационную и тестовую выборки."
   ]
  },
  {
   "cell_type": "code",
   "execution_count": 14,
   "metadata": {},
   "outputs": [],
   "source": [
    "features_valid, features_test, target_valid, target_test = \\\n",
    "train_test_split(features_valid_test, target_valid_test, test_size=0.5, random_state=12345, \\\n",
    "                 stratify=target_valid_test)"
   ]
  },
  {
   "cell_type": "code",
   "execution_count": 15,
   "metadata": {},
   "outputs": [
    {
     "name": "stdout",
     "output_type": "stream",
     "text": [
      "(643, 4)\n"
     ]
    },
    {
     "data": {
      "text/plain": [
       "(643, 4)"
      ]
     },
     "execution_count": 15,
     "metadata": {},
     "output_type": "execute_result"
    }
   ],
   "source": [
    "# проверим размеры\n",
    "print(features_valid.shape)\n",
    "features_test.shape"
   ]
  },
  {
   "cell_type": "code",
   "execution_count": 16,
   "metadata": {},
   "outputs": [
    {
     "name": "stdout",
     "output_type": "stream",
     "text": [
      "0    0.693624\n",
      "1    0.306376\n",
      "Name: is_ultra, dtype: float64\n"
     ]
    },
    {
     "data": {
      "text/plain": [
       "0    0.693624\n",
       "1    0.306376\n",
       "Name: is_ultra, dtype: float64"
      ]
     },
     "execution_count": 16,
     "metadata": {},
     "output_type": "execute_result"
    }
   ],
   "source": [
    "# проверим соотношение классов в валидационной и тестовой выборках\n",
    "print(target_valid.value_counts(normalize=True))\n",
    "target_test.value_counts(normalize=True)"
   ]
  },
  {
   "cell_type": "markdown",
   "metadata": {},
   "source": [
    "Итог: имеем 3 разные выборки с пропорциональным разбиением классов в целевом признаке, для каждой выборки создали переменные с признаками и целевым признаком. Можно приступать к построению и исследованию моделей."
   ]
  },
  {
   "cell_type": "markdown",
   "metadata": {},
   "source": [
    "## Модели для исследования"
   ]
  },
  {
   "cell_type": "markdown",
   "metadata": {},
   "source": [
    "### Дерево решений"
   ]
  },
  {
   "cell_type": "markdown",
   "metadata": {},
   "source": [
    "Начнем с самой популярной модели - дерево решений. Модель обучим на обучающей выборке."
   ]
  },
  {
   "cell_type": "code",
   "execution_count": 50,
   "metadata": {},
   "outputs": [],
   "source": [
    "# объявили модель Дерево решений\n",
    "tree_model = DecisionTreeClassifier(random_state=12345)\n",
    "# обучили на обучающей выборке\n",
    "tree_model.fit(features_train, target_train)\n",
    "# предсказали ответы на валидационной выборке\n",
    "valid_predictions = tree_model.predict(features_valid)"
   ]
  },
  {
   "cell_type": "markdown",
   "metadata": {},
   "source": [
    "Рассчитаем метрику accuracy - отношение числа правильных ответов к размеру выборки. Каждое наше неправильное предсказание — это неверная подсказка и потенциальная упущенная выгода для компании. Если клиент останется недоволен предложенным тарифом, он сменит оператора мобильной связи. И наоборот: чем выше точность классификации, тем больше прибыли принесёт продукт. Довольный клиент будет долгое время пользоваться новым тарифом + может порекомендовать тариф своим знакомым."
   ]
  },
  {
   "cell_type": "code",
   "execution_count": 51,
   "metadata": {},
   "outputs": [
    {
     "name": "stdout",
     "output_type": "stream",
     "text": [
      "Обучающая выборка: 1.0\n",
      "Валидационная выборка: 0.7013996889580093\n"
     ]
    }
   ],
   "source": [
    "# на обучающей выборке accuracy\n",
    "train_predictions = tree_model.predict(features_train)\n",
    "train_accuracy = accuracy_score(target_train, train_predictions)\n",
    "# на валидационной выборке accuracy\n",
    "valid_predictions = tree_model.predict(features_valid)\n",
    "valid_accuracy = accuracy_score(target_valid, valid_predictions)\n",
    "\n",
    "print(\"Обучающая выборка:\", train_accuracy)\n",
    "print(\"Валидационная выборка:\", valid_accuracy)"
   ]
  },
  {
   "cell_type": "markdown",
   "metadata": {},
   "source": [
    "Accuracy валидационной выборки достаточно низкий - 0.7. Модель отлично обучилась на тренировочной выборке, но запуталась в валидационной выборке - модель переобучилась.\n",
    "Добавим гиперпараметр максимальную глубину дерева (от 1 до 10) для валидационной выборки и выберем лучшую модель."
   ]
  },
  {
   "cell_type": "code",
   "execution_count": 52,
   "metadata": {
    "scrolled": true
   },
   "outputs": [
    {
     "name": "stdout",
     "output_type": "stream",
     "text": [
      "Макс. глубина дерева = 1 Accuracy:  0.7402799377916018\n",
      "Макс. глубина дерева = 2 Accuracy:  0.7729393468118196\n",
      "Макс. глубина дерева = 3 Accuracy:  0.7776049766718507\n",
      "Макс. глубина дерева = 4 Accuracy:  0.7542768273716952\n",
      "Макс. глубина дерева = 5 Accuracy:  0.7853810264385692\n",
      "Макс. глубина дерева = 6 Accuracy:  0.7744945567651633\n",
      "Макс. глубина дерева = 7 Accuracy:  0.7869362363919129\n",
      "Макс. глубина дерева = 8 Accuracy:  0.80248833592535\n",
      "Макс. глубина дерева = 9 Accuracy:  0.7822706065318819\n",
      "Макс. глубина дерева = 10 Accuracy:  0.7729393468118196\n",
      "\n",
      "Accuracy лучшей модели: 0.80248833592535\n",
      "Лучшая модель: DecisionTreeClassifier(max_depth=8, random_state=12345)\n"
     ]
    }
   ],
   "source": [
    "best_model = None\n",
    "tree_best_result = 0\n",
    "for depth in range(1, 11):\n",
    "    tree_model = DecisionTreeClassifier(random_state=12345, max_depth=depth)\n",
    "    tree_model.fit(features_train, target_train)\n",
    "    valid_predictions = tree_model.predict(features_valid)\n",
    "    result = accuracy_score(target_valid, valid_predictions)\n",
    "    if result > tree_best_result:\n",
    "        best_model = tree_model\n",
    "        tree_best_result = result\n",
    "    print(\"Макс. глубина дерева =\", depth, \"Accuracy: \", \\\n",
    "          accuracy_score(target_valid, valid_predictions))\n",
    "        \n",
    "print()\n",
    "print(\"Accuracy лучшей модели:\", tree_best_result)\n",
    "print(\"Лучшая модель:\", best_model)"
   ]
  },
  {
   "cell_type": "markdown",
   "metadata": {},
   "source": [
    "Accuracy увеличилась до 0.802. Лучшая модель Дерева решений имеет глубину дерева 8."
   ]
  },
  {
   "cell_type": "markdown",
   "metadata": {},
   "source": [
    "### Случайный лес"
   ]
  },
  {
   "cell_type": "markdown",
   "metadata": {},
   "source": [
    "Попробуем новый алгоритм классификации — случайный лес. Случайный лес помогает улучшить результат предсказания и избежать переобучения.\n",
    "\n",
    "Рассмотрим модель случайного леса с количеством деревьев от 1 до 100 и глубиной от 1 до 10."
   ]
  },
  {
   "cell_type": "code",
   "execution_count": 57,
   "metadata": {},
   "outputs": [
    {
     "name": "stdout",
     "output_type": "stream",
     "text": [
      "Accuracy наилучшей модели на валидационной выборке: 0.8227060653188181\n",
      "Лучшая модель: RandomForestClassifier(max_depth=9, n_estimators=39, random_state=12345)\n"
     ]
    }
   ],
   "source": [
    "best_model = None\n",
    "forest_best_result = 0\n",
    "for est in range(1, 101):\n",
    "    for depth in range(1, 11):\n",
    "        forest_model = RandomForestClassifier(random_state=12345, n_estimators=est, max_depth=depth)\n",
    "        forest_model.fit(features_train, target_train)\n",
    "        valid_predictions = forest_model.predict(features_valid)\n",
    "        result = forest_model.score(features_valid, target_valid)\n",
    "        if result > forest_best_result:\n",
    "            best_model = forest_model\n",
    "            forest_best_result = result\n",
    "\n",
    "print(\"Accuracy наилучшей модели на валидационной выборке:\", forest_best_result)\n",
    "print(\"Лучшая модель:\", best_model)"
   ]
  },
  {
   "cell_type": "markdown",
   "metadata": {},
   "source": [
    "Метрика accuracy увеличилась до 0.823 при количестве деревьев 39 и глубиной 9.\n",
    "Если сделать гиперпараметр n_estimators больше, модель начнёт разрастаться и медленнее обучаться."
   ]
  },
  {
   "cell_type": "markdown",
   "metadata": {},
   "source": [
    "### Логистическая регрессия"
   ]
  },
  {
   "cell_type": "markdown",
   "metadata": {},
   "source": [
    "Попробуем новый алгоритм — логистическую регрессию. В логистической регрессии параметров мало, поэтому и вероятность переобучения невелика.\n",
    "\n",
    "Добавим дополнительные гиперпараметры: solver='lbfgs' и max_iter=1000. Первый гиперпараметр позволяет выбрать алгоритм, который будет строить модель. Алгоритм 'lbfgs' — один из самых распространённых. Гиперпараметром max_iter задаётся максимальное количество итераций обучения (по умолчанию 100 итераций). "
   ]
  },
  {
   "cell_type": "code",
   "execution_count": 54,
   "metadata": {},
   "outputs": [
    {
     "name": "stdout",
     "output_type": "stream",
     "text": [
      "Accuracy модели на валидационной выборке: 0.7387247278382582\n"
     ]
    }
   ],
   "source": [
    "log_model = LogisticRegression(random_state=12345, solver='lbfgs', max_iter=1000)\n",
    "log_model.fit(features_train, target_train)\n",
    "log_model.predict(features_valid) \n",
    "log_result = log_model.score(features_valid, target_valid) \n",
    "\n",
    "print(\"Accuracy модели на валидационной выборке:\", log_result)"
   ]
  },
  {
   "cell_type": "markdown",
   "metadata": {},
   "source": [
    "Accuracy данной модели ниже даже обычного Дерева решения: 0.739. Если увеличить количество итераций до 10_000 или до 100_000 - значение не меняется.\n",
    "При использовании алгоритма \"liblinear\", значение Accuracy еще меньше: 0.718."
   ]
  },
  {
   "cell_type": "code",
   "execution_count": 58,
   "metadata": {
    "scrolled": true
   },
   "outputs": [
    {
     "name": "stdout",
     "output_type": "stream",
     "text": [
      "Accuracy модели Дерево решений: 0.80248833592535\n",
      "Accuracy модели Случайный лес: 0.8227060653188181\n",
      "Accuracy модели Логистической регрессии: 0.7387247278382582\n"
     ]
    }
   ],
   "source": [
    "print(\"Accuracy модели Дерево решений:\", tree_best_result)\n",
    "print(\"Accuracy модели Случайный лес:\", forest_best_result)\n",
    "print(\"Accuracy модели Логистической регрессии:\", log_result)"
   ]
  },
  {
   "cell_type": "code",
   "execution_count": 59,
   "metadata": {},
   "outputs": [
    {
     "data": {
      "image/png": "[encoded data removed]",
      "text/plain": [
       "<Figure size 432x288 with 1 Axes>"
      ]
     },
     "metadata": {
      "needs_background": "light"
     },
     "output_type": "display_data"
    }
   ],
   "source": [
    "total = pd.Series({'Дерево решений': tree_best_result, 'Случайный лес': forest_best_result, \\\n",
    "                   'Логистическая регрессия': log_result})\n",
    "total.plot(kind='barh', title='Accuracy разных моделей');"
   ]
  },
  {
   "cell_type": "markdown",
   "metadata": {},
   "source": [
    "### Выводы\n",
    "1. Самой обученной моделью оказалась Случайный лес при количестве 39 деревьев и максимальной глубиной 9. Ее доля правильных решений: 0.823. Эту модель и будем проверять на тестовой выборке.\n",
    "2. Модель Дерево решений при максимальной глубине дерева 8 ошибается чуть меньше, чем Случайный лес.\n",
    "3. Модель Логистическая регрессия показала самый худший результат, так как связи между признаками и целевой переменной несут выраженный нелинейный характер."
   ]
  },
  {
   "cell_type": "markdown",
   "metadata": {},
   "source": [
    "## Проверка модели на тестовой выборке"
   ]
  },
  {
   "cell_type": "markdown",
   "metadata": {},
   "source": [
    "Возьмем модель Случайный лес с 39-ю деревьями и максимальной глубиной 9. Проверим ее на тестовой выборке."
   ]
  },
  {
   "cell_type": "code",
   "execution_count": 60,
   "metadata": {},
   "outputs": [
    {
     "name": "stdout",
     "output_type": "stream",
     "text": [
      "Accuracy модели на тестовой выборке: 0.8118195956454122\n"
     ]
    }
   ],
   "source": [
    "best_model = RandomForestClassifier(random_state=12345, n_estimators=39, max_depth=9)\n",
    "best_model.fit(features_train, target_train)\n",
    "test_predictions = best_model.predict(features_test)\n",
    "result = best_model.score(features_test, target_test)\n",
    "\n",
    "print(\"Accuracy модели на тестовой выборке:\", result)"
   ]
  },
  {
   "cell_type": "markdown",
   "metadata": {},
   "source": [
    "Получили accuracy 0.81: чуть ниже, чем на валидационной выборке, но больше, чем 0.75. Модель проверку прошла."
   ]
  },
  {
   "cell_type": "markdown",
   "metadata": {},
   "source": [
    "Сейчас, когда гиперпараметры подобраны и валидационная выборка нам не нужна, мы можем обучить модель на большой выборке (обучающая + валидационная), а тестирование новой модели произвести уже на тестовой выборке.\n",
    "\n",
    "Объединим обучающую и валидационные выборки."
   ]
  },
  {
   "cell_type": "code",
   "execution_count": 61,
   "metadata": {},
   "outputs": [],
   "source": [
    "features_train_valid = pd.concat([features_train, features_valid], axis=0)"
   ]
  },
  {
   "cell_type": "code",
   "execution_count": 62,
   "metadata": {},
   "outputs": [
    {
     "data": {
      "text/plain": [
       "(2571, 4)"
      ]
     },
     "execution_count": 62,
     "metadata": {},
     "output_type": "execute_result"
    }
   ],
   "source": [
    "# проверим размер\n",
    "features_train_valid.shape"
   ]
  },
  {
   "cell_type": "code",
   "execution_count": 63,
   "metadata": {},
   "outputs": [],
   "source": [
    "target_train_valid = pd.concat([target_train, target_valid], axis=0)"
   ]
  },
  {
   "cell_type": "code",
   "execution_count": 64,
   "metadata": {},
   "outputs": [
    {
     "data": {
      "text/plain": [
       "(2571,)"
      ]
     },
     "execution_count": 64,
     "metadata": {},
     "output_type": "execute_result"
    }
   ],
   "source": [
    "# проверим размер\n",
    "target_train_valid.shape"
   ]
  },
  {
   "cell_type": "code",
   "execution_count": 65,
   "metadata": {},
   "outputs": [
    {
     "data": {
      "text/plain": [
       "0    0.693504\n",
       "1    0.306496\n",
       "Name: is_ultra, dtype: float64"
      ]
     },
     "execution_count": 65,
     "metadata": {},
     "output_type": "execute_result"
    }
   ],
   "source": [
    "target_train_valid.value_counts(normalize=True)"
   ]
  },
  {
   "cell_type": "markdown",
   "metadata": {},
   "source": [
    "А теперь обучим модель Случайный лес с 39-ю деревьями, глубиной 9 и проверим на тестовой выборке."
   ]
  },
  {
   "cell_type": "code",
   "execution_count": 66,
   "metadata": {},
   "outputs": [
    {
     "name": "stdout",
     "output_type": "stream",
     "text": [
      "Accuracy модели на тестовой выборке: 0.8289269051321928\n"
     ]
    }
   ],
   "source": [
    "new_model = RandomForestClassifier(random_state=12345, n_estimators=39, max_depth=9)\n",
    "new_model.fit(features_train_valid, target_train_valid)\n",
    "test_predictions = new_model.predict(features_test)\n",
    "result = new_model.score(features_test, target_test)\n",
    "\n",
    "print(\"Accuracy модели на тестовой выборке:\", result)"
   ]
  },
  {
   "cell_type": "markdown",
   "metadata": {},
   "source": [
    "Accuracy увеличился до 0.829, модель еще лучше обучилась."
   ]
  },
  {
   "cell_type": "markdown",
   "metadata": {},
   "source": [
    "## Проверка модели на адекватность"
   ]
  },
  {
   "cell_type": "markdown",
   "metadata": {},
   "source": [
    "### Случайная модель"
   ]
  },
  {
   "cell_type": "markdown",
   "metadata": {},
   "source": [
    "Проверим нашу обученную модель со случайной моделью, которая предсказывает все объекты случайным образом. С вероятностью 50/50 ответ будет 0 или 1.\n",
    "Посчитаем в нашем датасете количество тарифов Ультра (1) и Смарт (0) и долю распределения тарифов."
   ]
  },
  {
   "cell_type": "code",
   "execution_count": 69,
   "metadata": {},
   "outputs": [
    {
     "data": {
      "text/plain": [
       "0.693528313627878"
      ]
     },
     "execution_count": 69,
     "metadata": {},
     "output_type": "execute_result"
    }
   ],
   "source": [
    "# доля тарифа Смарт\n",
    "sm = 2229 / target.shape[0]\n",
    "sm"
   ]
  },
  {
   "cell_type": "code",
   "execution_count": 71,
   "metadata": {},
   "outputs": [
    {
     "data": {
      "text/plain": [
       "0.30647168637212197"
      ]
     },
     "execution_count": 71,
     "metadata": {},
     "output_type": "execute_result"
    }
   ],
   "source": [
    "# доля тарифа Ультра\n",
    "ul = 985 / target.shape[0]\n",
    "ul"
   ]
  },
  {
   "cell_type": "markdown",
   "metadata": {},
   "source": [
    "Ответы модели не связаны с правильными ответами, поэтому вероятность угадать 1 равна 30 %, а 0 - 69%. Accuracy будет равна 0.5."
   ]
  },
  {
   "cell_type": "code",
   "execution_count": 72,
   "metadata": {},
   "outputs": [
    {
     "name": "stdout",
     "output_type": "stream",
     "text": [
      "Accuracy случайной модели: 0.5\n"
     ]
    }
   ],
   "source": [
    "print('Accuracy случайной модели:', 0.5*ul + 0.5*sm)"
   ]
  },
  {
   "cell_type": "markdown",
   "metadata": {},
   "source": [
    "Наша модель имеет accuracy 0.829, что намного лучше случайной модели."
   ]
  },
  {
   "cell_type": "markdown",
   "metadata": {},
   "source": [
    "### DummyClassifier модель"
   ]
  },
  {
   "cell_type": "markdown",
   "metadata": {},
   "source": [
    "DummyClassifier - это классификатор, который делает прогнозы, используя простые правила.\n",
    "Cоздадим baseline модель. Она представляет собой простейшую (dummy) модель, которая всегда предсказывает наиболее часто встречающийся класс (в нашем случае тариф Смарт)."
   ]
  },
  {
   "cell_type": "code",
   "execution_count": 73,
   "metadata": {},
   "outputs": [
    {
     "data": {
      "text/plain": [
       "0.6936236391912908"
      ]
     },
     "execution_count": 73,
     "metadata": {},
     "output_type": "execute_result"
    }
   ],
   "source": [
    "dc_model = DummyClassifier(strategy=\"most_frequent\", random_state=12345) \n",
    "dc_model.fit(features_train_valid, target_train_valid)\n",
    "acc = dc_model.score(features_test, target_test)\n",
    "acc"
   ]
  },
  {
   "cell_type": "markdown",
   "metadata": {},
   "source": [
    "Получили accuracy 0.69. Наша обученная модель намного умнее )"
   ]
  },
  {
   "cell_type": "markdown",
   "metadata": {},
   "source": [
    "### Классификационный отчет"
   ]
  },
  {
   "cell_type": "markdown",
   "metadata": {},
   "source": [
    "Функция classification_report отображает точность, отзыв, f1-балл и поддержку для каждого класса."
   ]
  },
  {
   "cell_type": "code",
   "execution_count": 74,
   "metadata": {},
   "outputs": [
    {
     "name": "stdout",
     "output_type": "stream",
     "text": [
      "              precision    recall  f1-score   support\n",
      "\n",
      "           0       0.83      0.95      0.88       446\n",
      "           1       0.82      0.56      0.67       197\n",
      "\n",
      "    accuracy                           0.83       643\n",
      "   macro avg       0.83      0.75      0.78       643\n",
      "weighted avg       0.83      0.83      0.82       643\n",
      "\n"
     ]
    }
   ],
   "source": [
    "best_model = RandomForestClassifier(random_state=12345, n_estimators=39, max_depth=9)\n",
    "best_model.fit(features_train_valid, target_train_valid)\n",
    "test_predictions = best_model.predict(features_test)\n",
    "result = best_model.score(features_test, target_test)\n",
    "report = classification_report(target_test, test_predictions)\n",
    "\n",
    "print(report)"
   ]
  },
  {
   "cell_type": "markdown",
   "metadata": {},
   "source": [
    "Точность (способность классификатора не маркировать как положительный образец, который является отрицательным), отзыв (способность классификатора находить все положительные образцы), средневзвешенное значение точности и отзыва для класса 0 достаточно высокие. Для тарифа Ультра показатели ниже, но в итоге средние значения компенсируются и модель выдает хороший результат предсказания тарифов."
   ]
  },
  {
   "cell_type": "markdown",
   "metadata": {},
   "source": [
    "## Вывод"
   ]
  },
  {
   "cell_type": "markdown",
   "metadata": {},
   "source": [
    "В ходе данного проекта:\n",
    "- разбили один датасет с данными на 3 выборки: обучающую, валидационную и тестовую (60%, 20%, 20%)\n",
    "- обучили 3 разных модели для задачи классификации: Дерево принятия решений, Случайный лес и Логистическая регрессия\n",
    "- выявили лучше всего обученную: модель Случайный лес с количеством деревьев 39 и глубиной 9\n",
    "- добились метрики accuracy 0.823 для нашей модели\n",
    "- проверили модель на тестовой выборке, получили accuracy 0.811\n",
    "- обучили модель на большой выборке, проверили на тестовой - получили еще выше accuracy 0.83 \n",
    "- проверили модель на адекватность с помошью случайной модели, DummyClassifier и методом классификационного отчета"
   ]
  }
 ],
 "metadata": {
  "ExecuteTimeLog": [
   {
    "duration": 52,
    "start_time": "2022-07-28T11:13:25.867Z"
   },
   {
    "duration": 576,
    "start_time": "2022-07-28T11:13:39.841Z"
   },
   {
    "duration": 45,
    "start_time": "2022-07-28T11:13:49.783Z"
   },
   {
    "duration": 56,
    "start_time": "2022-07-28T11:14:09.498Z"
   },
   {
    "duration": 12,
    "start_time": "2022-07-28T11:15:05.056Z"
   },
   {
    "duration": 759,
    "start_time": "2022-07-28T11:26:47.539Z"
   },
   {
    "duration": 6,
    "start_time": "2022-07-28T11:30:24.341Z"
   },
   {
    "duration": 147,
    "start_time": "2022-07-28T11:30:39.075Z"
   },
   {
    "duration": 4,
    "start_time": "2022-07-28T11:30:44.184Z"
   },
   {
    "duration": 4,
    "start_time": "2022-07-28T11:30:52.039Z"
   },
   {
    "duration": 5,
    "start_time": "2022-07-28T11:31:12.250Z"
   },
   {
    "duration": 4,
    "start_time": "2022-07-28T11:31:15.706Z"
   },
   {
    "duration": 4,
    "start_time": "2022-07-28T11:31:17.579Z"
   },
   {
    "duration": 5,
    "start_time": "2022-07-28T11:31:38.584Z"
   },
   {
    "duration": 7,
    "start_time": "2022-07-28T11:33:36.084Z"
   },
   {
    "duration": 5,
    "start_time": "2022-07-28T11:33:56.749Z"
   },
   {
    "duration": 14,
    "start_time": "2022-07-28T11:41:00.097Z"
   },
   {
    "duration": 9,
    "start_time": "2022-07-28T11:41:12.648Z"
   },
   {
    "duration": 6,
    "start_time": "2022-07-28T11:41:18.760Z"
   },
   {
    "duration": 78,
    "start_time": "2022-07-28T11:49:29.534Z"
   },
   {
    "duration": 17,
    "start_time": "2022-07-28T11:53:36.334Z"
   },
   {
    "duration": 19,
    "start_time": "2022-07-28T11:55:53.482Z"
   },
   {
    "duration": 41,
    "start_time": "2022-07-28T12:04:37.333Z"
   },
   {
    "duration": 14,
    "start_time": "2022-07-28T12:05:37.261Z"
   },
   {
    "duration": 7,
    "start_time": "2022-07-28T12:09:44.678Z"
   },
   {
    "duration": 9,
    "start_time": "2022-07-28T12:10:27.660Z"
   },
   {
    "duration": 38,
    "start_time": "2022-07-28T12:34:26.496Z"
   },
   {
    "duration": 32,
    "start_time": "2022-07-28T12:35:20.771Z"
   },
   {
    "duration": 36,
    "start_time": "2022-07-28T12:35:51.341Z"
   },
   {
    "duration": 64,
    "start_time": "2022-07-28T12:43:50.691Z"
   },
   {
    "duration": 68,
    "start_time": "2022-07-28T12:43:57.564Z"
   },
   {
    "duration": 44,
    "start_time": "2022-07-28T12:44:01.397Z"
   },
   {
    "duration": 46,
    "start_time": "2022-07-28T12:47:42.273Z"
   },
   {
    "duration": 40,
    "start_time": "2022-07-28T12:47:57.604Z"
   },
   {
    "duration": 39,
    "start_time": "2022-07-28T12:48:56.810Z"
   },
   {
    "duration": 50,
    "start_time": "2022-07-28T12:49:41.944Z"
   },
   {
    "duration": 40,
    "start_time": "2022-07-28T12:50:16.367Z"
   },
   {
    "duration": 47,
    "start_time": "2022-07-28T12:50:57.911Z"
   },
   {
    "duration": 35,
    "start_time": "2022-07-28T12:52:11.060Z"
   },
   {
    "duration": 39,
    "start_time": "2022-07-28T12:52:36.357Z"
   },
   {
    "duration": 61,
    "start_time": "2022-07-28T13:18:40.457Z"
   },
   {
    "duration": 327,
    "start_time": "2022-07-28T13:21:19.750Z"
   },
   {
    "duration": 269,
    "start_time": "2022-07-28T13:21:40.149Z"
   },
   {
    "duration": 345,
    "start_time": "2022-07-28T13:23:16.462Z"
   },
   {
    "duration": 862,
    "start_time": "2022-07-28T13:23:30.959Z"
   },
   {
    "duration": 976,
    "start_time": "2022-07-28T13:24:00.675Z"
   },
   {
    "duration": 990,
    "start_time": "2022-07-28T13:25:40.258Z"
   },
   {
    "duration": 1037,
    "start_time": "2022-07-28T13:25:48.699Z"
   },
   {
    "duration": 986,
    "start_time": "2022-07-28T13:26:36.391Z"
   },
   {
    "duration": 937,
    "start_time": "2022-07-28T13:27:13.701Z"
   },
   {
    "duration": 2059,
    "start_time": "2022-07-28T13:27:42.537Z"
   },
   {
    "duration": 1026,
    "start_time": "2022-07-28T13:27:55.355Z"
   },
   {
    "duration": 71,
    "start_time": "2022-07-28T13:28:31.735Z"
   },
   {
    "duration": 29,
    "start_time": "2022-07-28T13:28:40.165Z"
   },
   {
    "duration": 40,
    "start_time": "2022-07-28T13:35:07.735Z"
   },
   {
    "duration": 32,
    "start_time": "2022-07-28T13:38:55.913Z"
   },
   {
    "duration": 32,
    "start_time": "2022-07-28T13:39:09.192Z"
   },
   {
    "duration": 27,
    "start_time": "2022-07-28T13:39:14.058Z"
   },
   {
    "duration": 30,
    "start_time": "2022-07-28T13:39:21.510Z"
   },
   {
    "duration": 1203,
    "start_time": "2022-07-29T07:19:57.078Z"
   },
   {
    "duration": 12,
    "start_time": "2022-07-29T07:19:58.284Z"
   },
   {
    "duration": 7,
    "start_time": "2022-07-29T07:19:58.297Z"
   },
   {
    "duration": 5,
    "start_time": "2022-07-29T07:19:58.306Z"
   },
   {
    "duration": 6,
    "start_time": "2022-07-29T07:19:58.313Z"
   },
   {
    "duration": 6,
    "start_time": "2022-07-29T07:19:58.320Z"
   },
   {
    "duration": 6,
    "start_time": "2022-07-29T07:19:58.327Z"
   },
   {
    "duration": 17,
    "start_time": "2022-07-29T07:19:58.335Z"
   },
   {
    "duration": 9,
    "start_time": "2022-07-29T07:19:58.353Z"
   },
   {
    "duration": 59,
    "start_time": "2022-07-29T07:19:58.365Z"
   },
   {
    "duration": 982,
    "start_time": "2022-07-29T07:19:58.426Z"
   },
   {
    "duration": 33,
    "start_time": "2022-07-29T07:19:59.410Z"
   },
   {
    "duration": 33,
    "start_time": "2022-07-29T07:30:16.897Z"
   },
   {
    "duration": 44,
    "start_time": "2022-07-29T07:30:22.310Z"
   },
   {
    "duration": 28,
    "start_time": "2022-07-29T07:30:28.193Z"
   },
   {
    "duration": 4,
    "start_time": "2022-07-29T07:41:05.167Z"
   },
   {
    "duration": 5,
    "start_time": "2022-07-29T07:41:16.240Z"
   },
   {
    "duration": 14,
    "start_time": "2022-07-29T07:43:50.257Z"
   },
   {
    "duration": 185,
    "start_time": "2022-07-29T07:44:03.988Z"
   },
   {
    "duration": 189,
    "start_time": "2022-07-29T07:44:27.537Z"
   },
   {
    "duration": 29,
    "start_time": "2022-07-29T07:44:33.665Z"
   },
   {
    "duration": 214,
    "start_time": "2022-07-29T07:44:51.448Z"
   },
   {
    "duration": 27,
    "start_time": "2022-07-29T07:45:03.505Z"
   },
   {
    "duration": 14,
    "start_time": "2022-07-29T07:46:06.536Z"
   },
   {
    "duration": 29,
    "start_time": "2022-07-29T07:46:25.017Z"
   },
   {
    "duration": 117,
    "start_time": "2022-07-29T07:55:19.073Z"
   },
   {
    "duration": 38,
    "start_time": "2022-07-29T07:55:45.820Z"
   },
   {
    "duration": 509,
    "start_time": "2022-07-29T07:55:54.122Z"
   },
   {
    "duration": 1190,
    "start_time": "2022-07-29T07:56:42.915Z"
   },
   {
    "duration": 16,
    "start_time": "2022-07-29T07:56:47.312Z"
   },
   {
    "duration": 6,
    "start_time": "2022-07-29T07:56:50.799Z"
   },
   {
    "duration": 5,
    "start_time": "2022-07-29T07:56:52.870Z"
   },
   {
    "duration": 4,
    "start_time": "2022-07-29T07:56:55.576Z"
   },
   {
    "duration": 5,
    "start_time": "2022-07-29T07:56:57.423Z"
   },
   {
    "duration": 8,
    "start_time": "2022-07-29T07:57:00.100Z"
   },
   {
    "duration": 107,
    "start_time": "2022-07-29T07:57:24.868Z"
   },
   {
    "duration": 15,
    "start_time": "2022-07-29T07:57:40.503Z"
   },
   {
    "duration": 22020,
    "start_time": "2022-07-29T07:58:09.923Z"
   },
   {
    "duration": 50,
    "start_time": "2022-07-29T07:58:54.082Z"
   },
   {
    "duration": 20,
    "start_time": "2022-07-29T07:59:04.434Z"
   },
   {
    "duration": 10,
    "start_time": "2022-07-29T07:59:57.481Z"
   },
   {
    "duration": 38,
    "start_time": "2022-07-29T08:00:21.662Z"
   },
   {
    "duration": 31,
    "start_time": "2022-07-29T08:01:00.629Z"
   },
   {
    "duration": 961,
    "start_time": "2022-07-29T08:01:36.177Z"
   },
   {
    "duration": 28,
    "start_time": "2022-07-29T08:02:28.526Z"
   },
   {
    "duration": 30,
    "start_time": "2022-07-29T08:06:27.341Z"
   },
   {
    "duration": 29,
    "start_time": "2022-07-29T08:07:00.349Z"
   },
   {
    "duration": 986,
    "start_time": "2022-07-29T08:07:35.545Z"
   },
   {
    "duration": 27,
    "start_time": "2022-07-29T08:07:57.376Z"
   },
   {
    "duration": 4,
    "start_time": "2022-07-29T08:08:04.686Z"
   },
   {
    "duration": 15,
    "start_time": "2022-07-29T08:15:02.158Z"
   },
   {
    "duration": 6,
    "start_time": "2022-07-29T08:15:54.731Z"
   },
   {
    "duration": 140,
    "start_time": "2022-07-29T08:16:54.029Z"
   },
   {
    "duration": 126,
    "start_time": "2022-07-29T08:17:26.308Z"
   },
   {
    "duration": 130,
    "start_time": "2022-07-29T08:17:58.319Z"
   },
   {
    "duration": 233,
    "start_time": "2022-07-29T08:18:12.827Z"
   },
   {
    "duration": 133,
    "start_time": "2022-07-29T08:18:34.023Z"
   },
   {
    "duration": 137,
    "start_time": "2022-07-29T08:18:48.752Z"
   },
   {
    "duration": 82,
    "start_time": "2022-07-29T08:24:51.647Z"
   },
   {
    "duration": 9,
    "start_time": "2022-07-29T08:49:52.872Z"
   },
   {
    "duration": 8,
    "start_time": "2022-07-29T08:49:57.353Z"
   },
   {
    "duration": 9,
    "start_time": "2022-07-29T08:50:04.404Z"
   },
   {
    "duration": 8,
    "start_time": "2022-07-29T08:50:14.508Z"
   },
   {
    "duration": 3,
    "start_time": "2022-07-29T08:51:03.273Z"
   },
   {
    "duration": 3,
    "start_time": "2022-07-29T08:51:16.314Z"
   },
   {
    "duration": 4,
    "start_time": "2022-07-29T08:51:36.056Z"
   },
   {
    "duration": 4,
    "start_time": "2022-07-29T09:00:41.175Z"
   },
   {
    "duration": 4,
    "start_time": "2022-07-29T09:02:09.887Z"
   },
   {
    "duration": 4,
    "start_time": "2022-07-29T09:03:20.053Z"
   },
   {
    "duration": 5,
    "start_time": "2022-07-29T09:03:26.670Z"
   },
   {
    "duration": 4,
    "start_time": "2022-07-29T09:04:25.798Z"
   },
   {
    "duration": 3,
    "start_time": "2022-07-29T09:05:23.125Z"
   },
   {
    "duration": 4,
    "start_time": "2022-07-29T09:05:33.935Z"
   },
   {
    "duration": 4,
    "start_time": "2022-07-29T09:08:58.975Z"
   },
   {
    "duration": 3,
    "start_time": "2022-07-29T09:09:11.312Z"
   },
   {
    "duration": 3,
    "start_time": "2022-07-29T09:09:23.668Z"
   },
   {
    "duration": 415,
    "start_time": "2022-07-29T09:13:44.776Z"
   },
   {
    "duration": 82,
    "start_time": "2022-07-29T09:13:50.564Z"
   },
   {
    "duration": 38,
    "start_time": "2022-07-29T09:21:09.607Z"
   },
   {
    "duration": 1052,
    "start_time": "2022-07-29T09:24:41.285Z"
   },
   {
    "duration": 92,
    "start_time": "2022-07-29T09:25:38.103Z"
   },
   {
    "duration": 99,
    "start_time": "2022-07-29T09:27:07.175Z"
   },
   {
    "duration": 1170,
    "start_time": "2022-07-29T09:55:14.874Z"
   },
   {
    "duration": 14,
    "start_time": "2022-07-29T09:55:16.046Z"
   },
   {
    "duration": 19,
    "start_time": "2022-07-29T09:55:16.062Z"
   },
   {
    "duration": 6,
    "start_time": "2022-07-29T09:55:16.084Z"
   },
   {
    "duration": 7,
    "start_time": "2022-07-29T09:55:16.092Z"
   },
   {
    "duration": 25,
    "start_time": "2022-07-29T09:55:16.101Z"
   },
   {
    "duration": 33,
    "start_time": "2022-07-29T09:55:16.129Z"
   },
   {
    "duration": 24,
    "start_time": "2022-07-29T09:55:16.164Z"
   },
   {
    "duration": 10,
    "start_time": "2022-07-29T09:55:16.189Z"
   },
   {
    "duration": 36,
    "start_time": "2022-07-29T09:55:16.201Z"
   },
   {
    "duration": 1103,
    "start_time": "2022-07-29T09:55:16.239Z"
   },
   {
    "duration": 37,
    "start_time": "2022-07-29T09:55:17.345Z"
   },
   {
    "duration": 5,
    "start_time": "2022-07-29T09:55:17.384Z"
   },
   {
    "duration": 433,
    "start_time": "2022-07-29T09:55:17.391Z"
   },
   {
    "duration": 108,
    "start_time": "2022-07-29T09:55:17.825Z"
   },
   {
    "duration": 10,
    "start_time": "2022-07-29T09:55:17.941Z"
   },
   {
    "duration": 8,
    "start_time": "2022-07-29T09:55:17.953Z"
   },
   {
    "duration": 14,
    "start_time": "2022-07-29T09:55:17.963Z"
   },
   {
    "duration": 10,
    "start_time": "2022-07-29T09:55:17.979Z"
   },
   {
    "duration": 6,
    "start_time": "2022-07-29T09:55:17.991Z"
   },
   {
    "duration": 125,
    "start_time": "2022-07-29T09:55:17.999Z"
   },
   {
    "duration": 38,
    "start_time": "2022-07-29T09:56:19.381Z"
   },
   {
    "duration": 13,
    "start_time": "2022-07-29T09:57:31.373Z"
   },
   {
    "duration": 1273,
    "start_time": "2022-07-29T09:58:02.038Z"
   },
   {
    "duration": 13,
    "start_time": "2022-07-29T09:58:03.313Z"
   },
   {
    "duration": 6,
    "start_time": "2022-07-29T09:58:03.328Z"
   },
   {
    "duration": 10,
    "start_time": "2022-07-29T09:58:03.336Z"
   },
   {
    "duration": 6,
    "start_time": "2022-07-29T09:58:03.348Z"
   },
   {
    "duration": 8,
    "start_time": "2022-07-29T09:58:03.356Z"
   },
   {
    "duration": 7,
    "start_time": "2022-07-29T09:58:03.366Z"
   },
   {
    "duration": 17,
    "start_time": "2022-07-29T09:58:03.374Z"
   },
   {
    "duration": 9,
    "start_time": "2022-07-29T09:58:03.424Z"
   },
   {
    "duration": 34,
    "start_time": "2022-07-29T09:58:03.435Z"
   },
   {
    "duration": 1054,
    "start_time": "2022-07-29T09:58:03.471Z"
   },
   {
    "duration": 45,
    "start_time": "2022-07-29T09:58:04.527Z"
   },
   {
    "duration": 5,
    "start_time": "2022-07-29T09:58:04.574Z"
   },
   {
    "duration": 430,
    "start_time": "2022-07-29T09:58:04.583Z"
   },
   {
    "duration": 110,
    "start_time": "2022-07-29T09:58:05.015Z"
   },
   {
    "duration": 10,
    "start_time": "2022-07-29T09:58:05.127Z"
   },
   {
    "duration": 13,
    "start_time": "2022-07-29T09:58:05.139Z"
   },
   {
    "duration": 8,
    "start_time": "2022-07-29T09:58:05.156Z"
   },
   {
    "duration": 16,
    "start_time": "2022-07-29T09:58:05.166Z"
   },
   {
    "duration": 6,
    "start_time": "2022-07-29T09:58:05.184Z"
   },
   {
    "duration": 122,
    "start_time": "2022-07-29T09:58:05.193Z"
   },
   {
    "duration": 1523,
    "start_time": "2022-07-29T13:57:10.120Z"
   },
   {
    "duration": 11,
    "start_time": "2022-07-29T13:57:11.645Z"
   },
   {
    "duration": 7,
    "start_time": "2022-07-29T13:57:11.657Z"
   },
   {
    "duration": 8,
    "start_time": "2022-07-29T13:57:11.666Z"
   },
   {
    "duration": 5,
    "start_time": "2022-07-29T13:57:11.677Z"
   },
   {
    "duration": 12,
    "start_time": "2022-07-29T13:57:11.689Z"
   },
   {
    "duration": 28,
    "start_time": "2022-07-29T13:57:11.703Z"
   },
   {
    "duration": 29,
    "start_time": "2022-07-29T13:57:11.733Z"
   },
   {
    "duration": 8,
    "start_time": "2022-07-29T13:57:11.764Z"
   },
   {
    "duration": 34,
    "start_time": "2022-07-29T13:57:11.773Z"
   },
   {
    "duration": 999,
    "start_time": "2022-07-29T13:57:11.808Z"
   },
   {
    "duration": 39,
    "start_time": "2022-07-29T13:57:12.809Z"
   },
   {
    "duration": 4,
    "start_time": "2022-07-29T13:57:12.849Z"
   },
   {
    "duration": 586,
    "start_time": "2022-07-29T13:57:12.856Z"
   },
   {
    "duration": 105,
    "start_time": "2022-07-29T13:57:13.444Z"
   },
   {
    "duration": 11,
    "start_time": "2022-07-29T13:57:13.551Z"
   },
   {
    "duration": 8,
    "start_time": "2022-07-29T13:57:13.564Z"
   },
   {
    "duration": 8,
    "start_time": "2022-07-29T13:57:13.575Z"
   },
   {
    "duration": 6,
    "start_time": "2022-07-29T13:57:13.585Z"
   },
   {
    "duration": 8,
    "start_time": "2022-07-29T13:57:13.592Z"
   },
   {
    "duration": 93,
    "start_time": "2022-07-29T13:57:13.624Z"
   },
   {
    "duration": 913,
    "start_time": "2022-07-29T19:22:13.984Z"
   },
   {
    "duration": 1149,
    "start_time": "2022-07-29T19:22:26.004Z"
   },
   {
    "duration": 11,
    "start_time": "2022-07-29T19:22:27.154Z"
   },
   {
    "duration": 7,
    "start_time": "2022-07-29T19:22:27.167Z"
   },
   {
    "duration": 5,
    "start_time": "2022-07-29T19:22:27.176Z"
   },
   {
    "duration": 7,
    "start_time": "2022-07-29T19:22:27.182Z"
   },
   {
    "duration": 9,
    "start_time": "2022-07-29T19:22:27.190Z"
   },
   {
    "duration": 7,
    "start_time": "2022-07-29T19:22:27.200Z"
   },
   {
    "duration": 34,
    "start_time": "2022-07-29T19:22:27.208Z"
   },
   {
    "duration": 9,
    "start_time": "2022-07-29T19:22:27.244Z"
   },
   {
    "duration": 26,
    "start_time": "2022-07-29T19:22:27.255Z"
   },
   {
    "duration": 938,
    "start_time": "2022-07-29T19:22:27.282Z"
   },
   {
    "duration": 31,
    "start_time": "2022-07-29T19:22:28.221Z"
   },
   {
    "duration": 3,
    "start_time": "2022-07-29T19:22:28.254Z"
   },
   {
    "duration": 513,
    "start_time": "2022-07-29T19:22:28.259Z"
   },
   {
    "duration": 96,
    "start_time": "2022-07-29T19:22:28.774Z"
   },
   {
    "duration": 13,
    "start_time": "2022-07-29T19:22:28.873Z"
   },
   {
    "duration": 11,
    "start_time": "2022-07-29T19:22:28.888Z"
   },
   {
    "duration": 9,
    "start_time": "2022-07-29T19:22:28.901Z"
   },
   {
    "duration": 16,
    "start_time": "2022-07-29T19:22:28.912Z"
   },
   {
    "duration": 7,
    "start_time": "2022-07-29T19:22:28.937Z"
   },
   {
    "duration": 118,
    "start_time": "2022-07-29T19:22:28.946Z"
   },
   {
    "duration": 7,
    "start_time": "2022-07-29T19:22:29.067Z"
   },
   {
    "duration": 9,
    "start_time": "2022-07-29T19:23:11.992Z"
   },
   {
    "duration": 6,
    "start_time": "2022-07-29T19:23:24.771Z"
   },
   {
    "duration": 115,
    "start_time": "2022-07-29T19:25:48.735Z"
   },
   {
    "duration": 7,
    "start_time": "2022-07-29T19:26:04.511Z"
   },
   {
    "duration": 6,
    "start_time": "2022-07-29T19:27:28.345Z"
   },
   {
    "duration": 6,
    "start_time": "2022-07-29T19:27:33.201Z"
   },
   {
    "duration": 1084,
    "start_time": "2022-07-29T19:38:19.613Z"
   },
   {
    "duration": 11,
    "start_time": "2022-07-29T19:38:24.420Z"
   },
   {
    "duration": 121,
    "start_time": "2022-07-29T19:39:42.562Z"
   },
   {
    "duration": 8,
    "start_time": "2022-07-29T19:41:17.848Z"
   },
   {
    "duration": 33,
    "start_time": "2022-07-29T19:41:31.099Z"
   },
   {
    "duration": 33,
    "start_time": "2022-07-29T19:55:06.049Z"
   },
   {
    "duration": 48,
    "start_time": "2022-07-29T19:55:19.044Z"
   },
   {
    "duration": 13,
    "start_time": "2022-07-29T19:57:12.250Z"
   },
   {
    "duration": 35,
    "start_time": "2022-07-29T19:57:54.753Z"
   },
   {
    "duration": 1084,
    "start_time": "2022-07-31T07:02:48.834Z"
   },
   {
    "duration": 1095,
    "start_time": "2022-07-31T07:02:58.312Z"
   },
   {
    "duration": 124,
    "start_time": "2022-07-31T07:03:05.701Z"
   },
   {
    "duration": 13,
    "start_time": "2022-07-31T07:04:13.395Z"
   },
   {
    "duration": 2,
    "start_time": "2022-07-31T07:07:02.141Z"
   },
   {
    "duration": 3,
    "start_time": "2022-07-31T07:07:05.944Z"
   },
   {
    "duration": 3,
    "start_time": "2022-07-31T07:07:09.074Z"
   },
   {
    "duration": 3,
    "start_time": "2022-07-31T07:07:14.300Z"
   },
   {
    "duration": 2,
    "start_time": "2022-07-31T07:07:36.702Z"
   },
   {
    "duration": 2,
    "start_time": "2022-07-31T07:15:19.927Z"
   },
   {
    "duration": 2,
    "start_time": "2022-07-31T07:15:40.605Z"
   },
   {
    "duration": 3,
    "start_time": "2022-07-31T07:15:54.508Z"
   },
   {
    "duration": 49,
    "start_time": "2022-07-31T07:16:58.040Z"
   },
   {
    "duration": 4,
    "start_time": "2022-07-31T07:17:07.111Z"
   },
   {
    "duration": 4,
    "start_time": "2022-07-31T07:17:20.312Z"
   },
   {
    "duration": 2,
    "start_time": "2022-07-31T07:17:31.060Z"
   },
   {
    "duration": 4,
    "start_time": "2022-07-31T07:19:13.647Z"
   },
   {
    "duration": 6,
    "start_time": "2022-07-31T07:21:57.952Z"
   },
   {
    "duration": 5,
    "start_time": "2022-07-31T07:23:42.035Z"
   },
   {
    "duration": 4,
    "start_time": "2022-07-31T07:23:53.248Z"
   },
   {
    "duration": 4,
    "start_time": "2022-07-31T07:24:06.582Z"
   },
   {
    "duration": 6,
    "start_time": "2022-07-31T07:29:07.358Z"
   },
   {
    "duration": 6,
    "start_time": "2022-07-31T07:30:06.118Z"
   },
   {
    "duration": 6,
    "start_time": "2022-07-31T07:30:36.129Z"
   },
   {
    "duration": 6,
    "start_time": "2022-07-31T07:30:52.089Z"
   },
   {
    "duration": 5,
    "start_time": "2022-07-31T07:31:01.817Z"
   },
   {
    "duration": 6,
    "start_time": "2022-07-31T07:32:32.436Z"
   },
   {
    "duration": 12,
    "start_time": "2022-07-31T07:33:12.769Z"
   },
   {
    "duration": 4,
    "start_time": "2022-07-31T07:33:20.648Z"
   },
   {
    "duration": 7,
    "start_time": "2022-07-31T07:34:32.012Z"
   },
   {
    "duration": 19,
    "start_time": "2022-07-31T07:39:21.654Z"
   },
   {
    "duration": 9,
    "start_time": "2022-07-31T07:39:30.762Z"
   },
   {
    "duration": 35,
    "start_time": "2022-07-31T07:40:49.094Z"
   },
   {
    "duration": 45,
    "start_time": "2022-07-31T07:42:29.640Z"
   },
   {
    "duration": 38,
    "start_time": "2022-07-31T07:42:33.827Z"
   },
   {
    "duration": 1044,
    "start_time": "2022-07-31T07:42:53.881Z"
   },
   {
    "duration": 22197,
    "start_time": "2022-07-31T07:43:08.808Z"
   },
   {
    "duration": 28,
    "start_time": "2022-07-31T07:46:22.034Z"
   },
   {
    "duration": 36,
    "start_time": "2022-07-31T07:47:29.292Z"
   },
   {
    "duration": 34,
    "start_time": "2022-07-31T07:47:33.089Z"
   },
   {
    "duration": 30,
    "start_time": "2022-07-31T07:47:36.436Z"
   },
   {
    "duration": 11,
    "start_time": "2022-07-31T07:47:48.159Z"
   },
   {
    "duration": 32,
    "start_time": "2022-07-31T07:48:07.067Z"
   },
   {
    "duration": 4,
    "start_time": "2022-07-31T07:48:23.778Z"
   },
   {
    "duration": 570,
    "start_time": "2022-07-31T07:48:30.648Z"
   },
   {
    "duration": 271,
    "start_time": "2022-07-31T07:50:05.973Z"
   },
   {
    "duration": 10,
    "start_time": "2022-07-31T08:01:57.065Z"
   },
   {
    "duration": 8,
    "start_time": "2022-07-31T08:01:59.869Z"
   },
   {
    "duration": 6,
    "start_time": "2022-07-31T08:02:57.225Z"
   },
   {
    "duration": 4,
    "start_time": "2022-07-31T08:03:16.521Z"
   },
   {
    "duration": 4,
    "start_time": "2022-07-31T08:03:23.626Z"
   },
   {
    "duration": 5,
    "start_time": "2022-07-31T08:03:30.116Z"
   },
   {
    "duration": 261,
    "start_time": "2022-07-31T08:05:19.531Z"
   },
   {
    "duration": 5,
    "start_time": "2022-07-31T08:07:55.378Z"
   },
   {
    "duration": 5,
    "start_time": "2022-07-31T08:15:07.311Z"
   },
   {
    "duration": 7,
    "start_time": "2022-07-31T08:19:44.964Z"
   },
   {
    "duration": 6,
    "start_time": "2022-07-31T08:35:31.969Z"
   },
   {
    "duration": 4,
    "start_time": "2022-07-31T08:35:43.598Z"
   },
   {
    "duration": 12,
    "start_time": "2022-07-31T08:35:56.717Z"
   },
   {
    "duration": 5,
    "start_time": "2022-07-31T08:36:00.847Z"
   },
   {
    "duration": 6,
    "start_time": "2022-07-31T08:36:39.828Z"
   },
   {
    "duration": 7,
    "start_time": "2022-07-31T08:37:07.679Z"
   },
   {
    "duration": 320,
    "start_time": "2022-07-31T08:40:03.702Z"
   },
   {
    "duration": 7,
    "start_time": "2022-07-31T08:46:09.129Z"
   },
   {
    "duration": 1137,
    "start_time": "2022-07-31T08:47:22.768Z"
   },
   {
    "duration": 44,
    "start_time": "2022-07-31T08:47:23.908Z"
   },
   {
    "duration": 12,
    "start_time": "2022-07-31T08:47:23.953Z"
   },
   {
    "duration": 6,
    "start_time": "2022-07-31T08:47:23.966Z"
   },
   {
    "duration": 5,
    "start_time": "2022-07-31T08:47:23.974Z"
   },
   {
    "duration": 7,
    "start_time": "2022-07-31T08:47:23.981Z"
   },
   {
    "duration": 11,
    "start_time": "2022-07-31T08:47:23.989Z"
   },
   {
    "duration": 11,
    "start_time": "2022-07-31T08:47:24.002Z"
   },
   {
    "duration": 7,
    "start_time": "2022-07-31T08:47:24.015Z"
   },
   {
    "duration": 5,
    "start_time": "2022-07-31T08:47:24.023Z"
   },
   {
    "duration": 5,
    "start_time": "2022-07-31T08:47:24.030Z"
   },
   {
    "duration": 29,
    "start_time": "2022-07-31T08:47:24.037Z"
   },
   {
    "duration": 12,
    "start_time": "2022-07-31T08:47:24.067Z"
   },
   {
    "duration": 15,
    "start_time": "2022-07-31T08:47:24.083Z"
   },
   {
    "duration": 14,
    "start_time": "2022-07-31T08:47:24.100Z"
   },
   {
    "duration": 7,
    "start_time": "2022-07-31T08:47:24.115Z"
   },
   {
    "duration": 8,
    "start_time": "2022-07-31T08:47:24.124Z"
   },
   {
    "duration": 9,
    "start_time": "2022-07-31T08:47:24.133Z"
   },
   {
    "duration": 5,
    "start_time": "2022-07-31T08:47:24.143Z"
   },
   {
    "duration": 10,
    "start_time": "2022-07-31T08:47:24.150Z"
   },
   {
    "duration": 41,
    "start_time": "2022-07-31T08:47:24.162Z"
   },
   {
    "duration": 8,
    "start_time": "2022-07-31T08:47:24.205Z"
   },
   {
    "duration": 44,
    "start_time": "2022-07-31T08:47:24.215Z"
   },
   {
    "duration": 21706,
    "start_time": "2022-07-31T08:47:24.261Z"
   },
   {
    "duration": 37,
    "start_time": "2022-07-31T08:47:45.969Z"
   },
   {
    "duration": 3,
    "start_time": "2022-07-31T08:47:46.008Z"
   },
   {
    "duration": 369,
    "start_time": "2022-07-31T08:47:46.013Z"
   },
   {
    "duration": 270,
    "start_time": "2022-07-31T08:47:46.384Z"
   },
   {
    "duration": 6,
    "start_time": "2022-07-31T08:47:46.656Z"
   },
   {
    "duration": 5,
    "start_time": "2022-07-31T08:47:46.663Z"
   },
   {
    "duration": 28,
    "start_time": "2022-07-31T08:47:46.670Z"
   },
   {
    "duration": 312,
    "start_time": "2022-07-31T08:47:46.700Z"
   },
   {
    "duration": 6,
    "start_time": "2022-07-31T08:47:47.014Z"
   },
   {
    "duration": 9,
    "start_time": "2022-07-31T08:47:47.022Z"
   },
   {
    "duration": 7,
    "start_time": "2022-07-31T08:47:47.033Z"
   },
   {
    "duration": 9,
    "start_time": "2022-07-31T08:47:47.042Z"
   },
   {
    "duration": 8,
    "start_time": "2022-07-31T08:47:47.052Z"
   },
   {
    "duration": 278,
    "start_time": "2022-07-31T08:47:47.061Z"
   },
   {
    "duration": 1146,
    "start_time": "2022-07-31T08:52:28.489Z"
   },
   {
    "duration": 46,
    "start_time": "2022-07-31T08:52:29.637Z"
   },
   {
    "duration": 11,
    "start_time": "2022-07-31T08:52:29.684Z"
   },
   {
    "duration": 21,
    "start_time": "2022-07-31T08:52:29.697Z"
   },
   {
    "duration": 4,
    "start_time": "2022-07-31T08:52:29.721Z"
   },
   {
    "duration": 4,
    "start_time": "2022-07-31T08:52:29.727Z"
   },
   {
    "duration": 4,
    "start_time": "2022-07-31T08:52:29.733Z"
   },
   {
    "duration": 5,
    "start_time": "2022-07-31T08:52:29.738Z"
   },
   {
    "duration": 6,
    "start_time": "2022-07-31T08:52:29.745Z"
   },
   {
    "duration": 5,
    "start_time": "2022-07-31T08:52:29.752Z"
   },
   {
    "duration": 8,
    "start_time": "2022-07-31T08:52:29.758Z"
   },
   {
    "duration": 13,
    "start_time": "2022-07-31T08:52:29.768Z"
   },
   {
    "duration": 10,
    "start_time": "2022-07-31T08:52:29.782Z"
   },
   {
    "duration": 17,
    "start_time": "2022-07-31T08:52:29.795Z"
   },
   {
    "duration": 12,
    "start_time": "2022-07-31T08:52:29.814Z"
   },
   {
    "duration": 6,
    "start_time": "2022-07-31T08:52:29.828Z"
   },
   {
    "duration": 7,
    "start_time": "2022-07-31T08:52:29.835Z"
   },
   {
    "duration": 10,
    "start_time": "2022-07-31T08:52:29.843Z"
   },
   {
    "duration": 10,
    "start_time": "2022-07-31T08:52:29.855Z"
   },
   {
    "duration": 7,
    "start_time": "2022-07-31T08:52:29.867Z"
   },
   {
    "duration": 44,
    "start_time": "2022-07-31T08:52:29.875Z"
   },
   {
    "duration": 10,
    "start_time": "2022-07-31T08:52:29.921Z"
   },
   {
    "duration": 38,
    "start_time": "2022-07-31T08:52:29.933Z"
   },
   {
    "duration": 22470,
    "start_time": "2022-07-31T08:52:29.973Z"
   },
   {
    "duration": 58,
    "start_time": "2022-07-31T08:52:52.445Z"
   },
   {
    "duration": 4,
    "start_time": "2022-07-31T08:52:52.506Z"
   },
   {
    "duration": 454,
    "start_time": "2022-07-31T08:52:52.517Z"
   },
   {
    "duration": 309,
    "start_time": "2022-07-31T08:52:52.972Z"
   },
   {
    "duration": 20,
    "start_time": "2022-07-31T08:52:53.283Z"
   },
   {
    "duration": 17,
    "start_time": "2022-07-31T08:52:53.305Z"
   },
   {
    "duration": 10,
    "start_time": "2022-07-31T08:52:53.323Z"
   },
   {
    "duration": 376,
    "start_time": "2022-07-31T08:52:53.335Z"
   },
   {
    "duration": 8,
    "start_time": "2022-07-31T08:52:53.713Z"
   },
   {
    "duration": 9,
    "start_time": "2022-07-31T08:52:53.723Z"
   },
   {
    "duration": 12,
    "start_time": "2022-07-31T08:52:53.734Z"
   },
   {
    "duration": 8,
    "start_time": "2022-07-31T08:52:53.748Z"
   },
   {
    "duration": 18,
    "start_time": "2022-07-31T08:52:53.759Z"
   },
   {
    "duration": 291,
    "start_time": "2022-07-31T08:52:53.779Z"
   }
  ],
  "kernelspec": {
   "display_name": "Python 3 (ipykernel)",
   "language": "python",
   "name": "python3"
  },
  "language_info": {
   "codemirror_mode": {
    "name": "ipython",
    "version": 3
   },
   "file_extension": ".py",
   "mimetype": "text/x-python",
   "name": "python",
   "nbconvert_exporter": "python",
   "pygments_lexer": "ipython3",
   "version": "3.9.12"
  },
  "toc": {
   "base_numbering": 1,
   "nav_menu": {},
   "number_sections": true,
   "sideBar": true,
   "skip_h1_title": true,
   "title_cell": "Table of Contents",
   "title_sidebar": "Contents",
   "toc_cell": false,
   "toc_position": {
    "height": "calc(100% - 180px)",
    "left": "10px",
    "top": "150px",
    "width": "223.391px"
   },
   "toc_section_display": true,
   "toc_window_display": true
  }
 },
 "nbformat": 4,
 "nbformat_minor": 2
}
