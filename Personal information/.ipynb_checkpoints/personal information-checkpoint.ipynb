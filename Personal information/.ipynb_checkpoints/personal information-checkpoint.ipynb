{
 "cells": [
  {
   "cell_type": "markdown",
   "metadata": {},
   "source": [
    "# Защита персональных данных клиентов"
   ]
  },
  {
   "cell_type": "markdown",
   "metadata": {},
   "source": [
    "<b>Описание задачи:</b>\n",
    "\n",
    "Есть данные клиентов страховой компании «Хоть потоп». Нужно разработать такой метод преобразования данных, чтобы по ним было сложно восстановить персональную информацию клиентов.\n",
    "\n",
    "При преобразовании данных качество моделей машинного обучения не должно ухудшиться. Подбирать наилучшую модель не требуется.\n",
    "\n",
    "<br /><b>План действий:</b>\n",
    "1. Загрузить, изучить и сделать предобработку данных.\n",
    "2. Ответить на вопрос: Признаки умножают на обратимую матрицу. Изменится ли качество линейной регрессии?\n",
    "3. Предложить алгоритм преобразования данных для решения задачи. Обосновать, почему качество линейной регрессии не поменяется.\n",
    "4. Запрограммировать этот алгоритм, применив матричные операции.\n",
    "5. Проверить, что качество линейной регрессии не отличается до и после преобразования, используя метрику R2.\n",
    "\n",
    "<br /><b>Данные проекта</b>\n",
    "\n",
    "Признаки: \n",
    "- пол \n",
    "- возраст\n",
    "- зарплата застрахованного\n",
    "- количество членов его семьи\n",
    "\n",
    "Целевой признак: количество страховых выплат клиенту за последние 5 лет."
   ]
  },
  {
   "cell_type": "markdown",
   "metadata": {
    "toc": true
   },
   "source": [
    "<h1>Содержание<span class=\"tocSkip\"></span></h1>\n",
    "<div class=\"toc\"><ul class=\"toc-item\"><li><span><a href=\"#Загрузка-данных\" data-toc-modified-id=\"Загрузка-данных-1\"><span class=\"toc-item-num\">1&nbsp;&nbsp;</span>Загрузка данных</a></span></li><li><span><a href=\"#Умножение-матриц\" data-toc-modified-id=\"Умножение-матриц-2\"><span class=\"toc-item-num\">2&nbsp;&nbsp;</span>Умножение матриц</a></span></li><li><span><a href=\"#Алгоритм-преобразования\" data-toc-modified-id=\"Алгоритм-преобразования-3\"><span class=\"toc-item-num\">3&nbsp;&nbsp;</span>Алгоритм преобразования</a></span></li><li><span><a href=\"#Проверка-алгоритма\" data-toc-modified-id=\"Проверка-алгоритма-4\"><span class=\"toc-item-num\">4&nbsp;&nbsp;</span>Проверка алгоритма</a></span></li><li><span><a href=\"#Вывод\" data-toc-modified-id=\"Вывод-5\"><span class=\"toc-item-num\">5&nbsp;&nbsp;</span>Вывод</a></span></li></ul></div>"
   ]
  },
  {
   "cell_type": "markdown",
   "metadata": {},
   "source": [
    "## Загрузка данных"
   ]
  },
  {
   "cell_type": "code",
   "execution_count": 1,
   "metadata": {},
   "outputs": [],
   "source": [
    "import pandas as pd\n",
    "import numpy as np\n",
    "import seaborn as sns\n",
    "\n",
    "# для разделения выборок\n",
    "from sklearn.model_selection import train_test_split\n",
    "# Линейная регрессия\n",
    "from sklearn.linear_model import LinearRegression\n",
    "# для подсчета R2\n",
    "from sklearn.metrics import r2_score"
   ]
  },
  {
   "cell_type": "code",
   "execution_count": 2,
   "metadata": {},
   "outputs": [
    {
     "data": {
      "text/html": [
       "<div>\n",
       "<style scoped>\n",
       "    .dataframe tbody tr th:only-of-type {\n",
       "        vertical-align: middle;\n",
       "    }\n",
       "\n",
       "    .dataframe tbody tr th {\n",
       "        vertical-align: top;\n",
       "    }\n",
       "\n",
       "    .dataframe thead th {\n",
       "        text-align: right;\n",
       "    }\n",
       "</style>\n",
       "<table border=\"1\" class=\"dataframe\">\n",
       "  <thead>\n",
       "    <tr style=\"text-align: right;\">\n",
       "      <th></th>\n",
       "      <th>Пол</th>\n",
       "      <th>Возраст</th>\n",
       "      <th>Зарплата</th>\n",
       "      <th>Члены семьи</th>\n",
       "      <th>Страховые выплаты</th>\n",
       "    </tr>\n",
       "  </thead>\n",
       "  <tbody>\n",
       "    <tr>\n",
       "      <th>0</th>\n",
       "      <td>1</td>\n",
       "      <td>41.0</td>\n",
       "      <td>49600.0</td>\n",
       "      <td>1</td>\n",
       "      <td>0</td>\n",
       "    </tr>\n",
       "    <tr>\n",
       "      <th>1</th>\n",
       "      <td>0</td>\n",
       "      <td>46.0</td>\n",
       "      <td>38000.0</td>\n",
       "      <td>1</td>\n",
       "      <td>1</td>\n",
       "    </tr>\n",
       "    <tr>\n",
       "      <th>2</th>\n",
       "      <td>0</td>\n",
       "      <td>29.0</td>\n",
       "      <td>21000.0</td>\n",
       "      <td>0</td>\n",
       "      <td>0</td>\n",
       "    </tr>\n",
       "    <tr>\n",
       "      <th>3</th>\n",
       "      <td>0</td>\n",
       "      <td>21.0</td>\n",
       "      <td>41700.0</td>\n",
       "      <td>2</td>\n",
       "      <td>0</td>\n",
       "    </tr>\n",
       "    <tr>\n",
       "      <th>4</th>\n",
       "      <td>1</td>\n",
       "      <td>28.0</td>\n",
       "      <td>26100.0</td>\n",
       "      <td>0</td>\n",
       "      <td>0</td>\n",
       "    </tr>\n",
       "  </tbody>\n",
       "</table>\n",
       "</div>"
      ],
      "text/plain": [
       "   Пол  Возраст  Зарплата  Члены семьи  Страховые выплаты\n",
       "0    1     41.0   49600.0            1                  0\n",
       "1    0     46.0   38000.0            1                  1\n",
       "2    0     29.0   21000.0            0                  0\n",
       "3    0     21.0   41700.0            2                  0\n",
       "4    1     28.0   26100.0            0                  0"
      ]
     },
     "execution_count": 2,
     "metadata": {},
     "output_type": "execute_result"
    }
   ],
   "source": [
    "data = pd.read_csv('/datasets/insurance.csv')\n",
    "data.head()"
   ]
  },
  {
   "cell_type": "code",
   "execution_count": 3,
   "metadata": {},
   "outputs": [
    {
     "name": "stdout",
     "output_type": "stream",
     "text": [
      "<class 'pandas.core.frame.DataFrame'>\n",
      "RangeIndex: 5000 entries, 0 to 4999\n",
      "Data columns (total 5 columns):\n",
      " #   Column             Non-Null Count  Dtype  \n",
      "---  ------             --------------  -----  \n",
      " 0   Пол                5000 non-null   int64  \n",
      " 1   Возраст            5000 non-null   float64\n",
      " 2   Зарплата           5000 non-null   float64\n",
      " 3   Члены семьи        5000 non-null   int64  \n",
      " 4   Страховые выплаты  5000 non-null   int64  \n",
      "dtypes: float64(2), int64(3)\n",
      "memory usage: 195.4 KB\n"
     ]
    }
   ],
   "source": [
    "data.info()"
   ]
  },
  {
   "cell_type": "markdown",
   "metadata": {},
   "source": [
    "В датасете 5000 строк, 5 столбцов. Нет пропусков, все значения численные. Названия колонок указаны кириллицей, для удобства дальнейшего использования переименуем столбцы латиницей."
   ]
  },
  {
   "cell_type": "code",
   "execution_count": 4,
   "metadata": {},
   "outputs": [],
   "source": [
    "data = data.rename(columns={'Пол': 'genre' , 'Возраст': 'age', 'Зарплата': 'salary', \\\n",
    "                            'Члены семьи': 'family','Страховые выплаты': 'insurance'})"
   ]
  },
  {
   "cell_type": "code",
   "execution_count": 5,
   "metadata": {},
   "outputs": [
    {
     "data": {
      "text/plain": [
       "Index(['genre', 'age', 'salary', 'family', 'insurance'], dtype='object')"
      ]
     },
     "execution_count": 5,
     "metadata": {},
     "output_type": "execute_result"
    }
   ],
   "source": [
    "data.columns"
   ]
  },
  {
   "cell_type": "markdown",
   "metadata": {},
   "source": [
    "Выведем общую информацию и посмотрим на минимальные и максимальные значения."
   ]
  },
  {
   "cell_type": "code",
   "execution_count": 6,
   "metadata": {},
   "outputs": [
    {
     "data": {
      "text/html": [
       "<div>\n",
       "<style scoped>\n",
       "    .dataframe tbody tr th:only-of-type {\n",
       "        vertical-align: middle;\n",
       "    }\n",
       "\n",
       "    .dataframe tbody tr th {\n",
       "        vertical-align: top;\n",
       "    }\n",
       "\n",
       "    .dataframe thead th {\n",
       "        text-align: right;\n",
       "    }\n",
       "</style>\n",
       "<table border=\"1\" class=\"dataframe\">\n",
       "  <thead>\n",
       "    <tr style=\"text-align: right;\">\n",
       "      <th></th>\n",
       "      <th>count</th>\n",
       "      <th>mean</th>\n",
       "      <th>std</th>\n",
       "      <th>min</th>\n",
       "      <th>25%</th>\n",
       "      <th>50%</th>\n",
       "      <th>75%</th>\n",
       "      <th>max</th>\n",
       "    </tr>\n",
       "  </thead>\n",
       "  <tbody>\n",
       "    <tr>\n",
       "      <th>genre</th>\n",
       "      <td>5000.0</td>\n",
       "      <td>0.4990</td>\n",
       "      <td>0.500049</td>\n",
       "      <td>0.0</td>\n",
       "      <td>0.0</td>\n",
       "      <td>0.0</td>\n",
       "      <td>1.0</td>\n",
       "      <td>1.0</td>\n",
       "    </tr>\n",
       "    <tr>\n",
       "      <th>age</th>\n",
       "      <td>5000.0</td>\n",
       "      <td>30.9528</td>\n",
       "      <td>8.440807</td>\n",
       "      <td>18.0</td>\n",
       "      <td>24.0</td>\n",
       "      <td>30.0</td>\n",
       "      <td>37.0</td>\n",
       "      <td>65.0</td>\n",
       "    </tr>\n",
       "    <tr>\n",
       "      <th>salary</th>\n",
       "      <td>5000.0</td>\n",
       "      <td>39916.3600</td>\n",
       "      <td>9900.083569</td>\n",
       "      <td>5300.0</td>\n",
       "      <td>33300.0</td>\n",
       "      <td>40200.0</td>\n",
       "      <td>46600.0</td>\n",
       "      <td>79000.0</td>\n",
       "    </tr>\n",
       "    <tr>\n",
       "      <th>family</th>\n",
       "      <td>5000.0</td>\n",
       "      <td>1.1942</td>\n",
       "      <td>1.091387</td>\n",
       "      <td>0.0</td>\n",
       "      <td>0.0</td>\n",
       "      <td>1.0</td>\n",
       "      <td>2.0</td>\n",
       "      <td>6.0</td>\n",
       "    </tr>\n",
       "    <tr>\n",
       "      <th>insurance</th>\n",
       "      <td>5000.0</td>\n",
       "      <td>0.1480</td>\n",
       "      <td>0.463183</td>\n",
       "      <td>0.0</td>\n",
       "      <td>0.0</td>\n",
       "      <td>0.0</td>\n",
       "      <td>0.0</td>\n",
       "      <td>5.0</td>\n",
       "    </tr>\n",
       "  </tbody>\n",
       "</table>\n",
       "</div>"
      ],
      "text/plain": [
       "            count        mean          std     min      25%      50%      75%  \\\n",
       "genre      5000.0      0.4990     0.500049     0.0      0.0      0.0      1.0   \n",
       "age        5000.0     30.9528     8.440807    18.0     24.0     30.0     37.0   \n",
       "salary     5000.0  39916.3600  9900.083569  5300.0  33300.0  40200.0  46600.0   \n",
       "family     5000.0      1.1942     1.091387     0.0      0.0      1.0      2.0   \n",
       "insurance  5000.0      0.1480     0.463183     0.0      0.0      0.0      0.0   \n",
       "\n",
       "               max  \n",
       "genre          1.0  \n",
       "age           65.0  \n",
       "salary     79000.0  \n",
       "family         6.0  \n",
       "insurance      5.0  "
      ]
     },
     "execution_count": 6,
     "metadata": {},
     "output_type": "execute_result"
    }
   ],
   "source": [
    "data.describe().T"
   ]
  },
  {
   "cell_type": "code",
   "execution_count": 7,
   "metadata": {},
   "outputs": [
    {
     "data": {
      "text/plain": [
       "array([1, 0])"
      ]
     },
     "execution_count": 7,
     "metadata": {},
     "output_type": "execute_result"
    }
   ],
   "source": [
    "data['genre'].unique()"
   ]
  },
  {
   "cell_type": "code",
   "execution_count": 8,
   "metadata": {},
   "outputs": [
    {
     "data": {
      "text/plain": [
       "array([1, 0, 2, 4, 3, 5, 6])"
      ]
     },
     "execution_count": 8,
     "metadata": {},
     "output_type": "execute_result"
    }
   ],
   "source": [
    "data['family'].unique()"
   ]
  },
  {
   "cell_type": "code",
   "execution_count": 9,
   "metadata": {},
   "outputs": [
    {
     "data": {
      "text/plain": [
       "array([0, 1, 2, 3, 5, 4])"
      ]
     },
     "execution_count": 9,
     "metadata": {},
     "output_type": "execute_result"
    }
   ],
   "source": [
    "data['insurance'].unique()"
   ]
  },
  {
   "cell_type": "markdown",
   "metadata": {},
   "source": [
    "Значения в столбцах 'genre', 'family', 'insurance' целочисленные и находятся в диапазоне от 0 до 6. Для экономии занимаемой памяти можно изменить их тип данных на int8. "
   ]
  },
  {
   "cell_type": "code",
   "execution_count": 10,
   "metadata": {},
   "outputs": [],
   "source": [
    "data['genre'] = data['genre'].astype('int8')\n",
    "data['family'] = data['family'].astype('int8')\n",
    "data['insurance'] = data['insurance'].astype('int8')"
   ]
  },
  {
   "cell_type": "markdown",
   "metadata": {},
   "source": [
    "Значения столбцов 'age' и 'salary' имеют ресурсозатратный тип данных float64, хотя внешне и идеалогически походят на целочисленный тип int. Проверим их дробную часть. Если ее нет, можно изменить тип данных столбца 'age' на int8 (максимальное значение 65), а столбца 'salary' на int64 (максимальное значение 79000)."
   ]
  },
  {
   "cell_type": "code",
   "execution_count": 11,
   "metadata": {},
   "outputs": [
    {
     "data": {
      "text/plain": [
       "genre        0\n",
       "age          0\n",
       "salary       0\n",
       "family       0\n",
       "insurance    0\n",
       "dtype: int64"
      ]
     },
     "execution_count": 11,
     "metadata": {},
     "output_type": "execute_result"
    }
   ],
   "source": [
    "data[data['age'] % 1 != 0].count()"
   ]
  },
  {
   "cell_type": "markdown",
   "metadata": {},
   "source": [
    "Все значения целочисленные. Можем менять тип данных."
   ]
  },
  {
   "cell_type": "code",
   "execution_count": 12,
   "metadata": {},
   "outputs": [],
   "source": [
    "data['age'] = data['age'].astype('int8')"
   ]
  },
  {
   "cell_type": "code",
   "execution_count": 13,
   "metadata": {},
   "outputs": [
    {
     "data": {
      "text/plain": [
       "genre        40\n",
       "age          40\n",
       "salary       40\n",
       "family       40\n",
       "insurance    40\n",
       "dtype: int64"
      ]
     },
     "execution_count": 13,
     "metadata": {},
     "output_type": "execute_result"
    }
   ],
   "source": [
    "data[data['salary'] % 1 != 0].count()"
   ]
  },
  {
   "cell_type": "markdown",
   "metadata": {},
   "source": [
    "В столбце с зарплатами есть 40 клиентов, у которых зарплата не целочисленная. Чтобы не потерять нужную информацию для обучения модели, оставим этот столбец как есть. \n",
    "\n",
    "Перепроверим изменения типов. Изначально датасет весил 195.4 KB, после изменений - 58.7 KB. В данном случае эти числа небольшие, но если бы датасет был намного большего размера, мы существенно уменьшили бы его размер. "
   ]
  },
  {
   "cell_type": "code",
   "execution_count": 14,
   "metadata": {},
   "outputs": [
    {
     "name": "stdout",
     "output_type": "stream",
     "text": [
      "<class 'pandas.core.frame.DataFrame'>\n",
      "RangeIndex: 5000 entries, 0 to 4999\n",
      "Data columns (total 5 columns):\n",
      " #   Column     Non-Null Count  Dtype  \n",
      "---  ------     --------------  -----  \n",
      " 0   genre      5000 non-null   int8   \n",
      " 1   age        5000 non-null   int8   \n",
      " 2   salary     5000 non-null   float64\n",
      " 3   family     5000 non-null   int8   \n",
      " 4   insurance  5000 non-null   int8   \n",
      "dtypes: float64(1), int8(4)\n",
      "memory usage: 58.7 KB\n"
     ]
    }
   ],
   "source": [
    "data.info()"
   ]
  },
  {
   "cell_type": "code",
   "execution_count": 15,
   "metadata": {
    "scrolled": false
   },
   "outputs": [
    {
     "data": {
      "image/png": "[encoded data removed]",
      "text/plain": [
       "<Figure size 720x720 with 6 Axes>"
      ]
     },
     "metadata": {
      "needs_background": "light"
     },
     "output_type": "display_data"
    }
   ],
   "source": [
    "data.hist(figsize=(10, 10));"
   ]
  },
  {
   "cell_type": "markdown",
   "metadata": {},
   "source": [
    "Аномалий в датасете не выявлено, лишних для обучения модели данных нет."
   ]
  },
  {
   "cell_type": "markdown",
   "metadata": {},
   "source": [
    "Цель данного проекта не в получении наиболее точных предсказаний и интерпретации результатов обучения, но так как мы будем использовать архитектуру линейной регрессии, интересно посмотреть взаимосвязи и корреляции между признаками. Воспользуемся библиотекой seaborn."
   ]
  },
  {
   "cell_type": "code",
   "execution_count": 16,
   "metadata": {},
   "outputs": [
    {
     "data": {
      "image/png": "[encoded data removed]",
      "text/plain": [
       "<Figure size 900x900 with 30 Axes>"
      ]
     },
     "metadata": {
      "needs_background": "light"
     },
     "output_type": "display_data"
    }
   ],
   "source": [
    "sns.pairplot(data);"
   ]
  },
  {
   "cell_type": "markdown",
   "metadata": {},
   "source": [
    "Из графиков видим:\n",
    "- Зависимость возраста на страховые выплаты: больше возраст клиента - больше раз он обращался за выплатами.\n",
    "- Количество членов в семье и количество страховых выплат: больше всего выплат запрашивали клиенты, живущие с супругом/-й, одиночки и с 1 ребенком в семье.\n",
    "- Уровень зарплаты и количество страховых выплат: с самой высокой зарплатой меньше всего запросов на страховку, больше всех просят выплаты клиенты со средней заработной платой.\n",
    "\n",
    "Рассчитаем коэффициенты корреляции Пирсона для этих признаков."
   ]
  },
  {
   "cell_type": "code",
   "execution_count": 17,
   "metadata": {},
   "outputs": [
    {
     "data": {
      "text/plain": [
       "0.6510300979467255"
      ]
     },
     "execution_count": 17,
     "metadata": {},
     "output_type": "execute_result"
    }
   ],
   "source": [
    "data['insurance'].corr(data['age'])"
   ]
  },
  {
   "cell_type": "code",
   "execution_count": 18,
   "metadata": {},
   "outputs": [
    {
     "data": {
      "text/plain": [
       "-0.03629045878481033"
      ]
     },
     "execution_count": 18,
     "metadata": {},
     "output_type": "execute_result"
    }
   ],
   "source": [
    "data['insurance'].corr(data['family'])"
   ]
  },
  {
   "cell_type": "code",
   "execution_count": 19,
   "metadata": {},
   "outputs": [
    {
     "data": {
      "text/plain": [
       "-0.014963293460130526"
      ]
     },
     "execution_count": 19,
     "metadata": {},
     "output_type": "execute_result"
    }
   ],
   "source": [
    "data['insurance'].corr(data['salary'])"
   ]
  },
  {
   "cell_type": "markdown",
   "metadata": {},
   "source": [
    "Взаимосвязь между возрастом клиента и количеством страховых выплат линейная, коэффициент Пирсона положительный и стремится к 1. Между количеством членов семьи, зарплатой и страховыми выплатами связи нелинейные, поэтому коэффициент их не показывает."
   ]
  },
  {
   "cell_type": "markdown",
   "metadata": {},
   "source": [
    "Вывод:\n",
    "- данные загрузили, изучили\n",
    "- переименовали столбцы для удобства\n",
    "- изменили типы данных для уменьшения размера датасета, что позволит быстрее обращаться к данным в памяти\n",
    "- увидели взаимосвязи между признаками\n",
    "- аномалий и пропусков нет\n",
    "\n",
    "Данные готовы к дальнейшей работе."
   ]
  },
  {
   "cell_type": "markdown",
   "metadata": {},
   "source": [
    "## Умножение матриц"
   ]
  },
  {
   "cell_type": "markdown",
   "metadata": {},
   "source": [
    "<b>Вопрос</b>: Признаки умножают на обратимую матрицу. Изменится ли качество линейной регрессии? \n",
    "\n",
    "Качество линейной регрессии не меняется при умножении матрицы признаков на квадратную обратимую матрицу. Докажем это на практике и математически.\n",
    "\n",
    "Подготовим переменные для обучения модели."
   ]
  },
  {
   "cell_type": "code",
   "execution_count": 20,
   "metadata": {},
   "outputs": [
    {
     "data": {
      "text/plain": [
       "((5000, 4), (5000,))"
      ]
     },
     "execution_count": 20,
     "metadata": {},
     "output_type": "execute_result"
    }
   ],
   "source": [
    "features = data.drop('insurance', axis=1)\n",
    "target = data['insurance']\n",
    "\n",
    "features.shape, target.shape"
   ]
  },
  {
   "cell_type": "markdown",
   "metadata": {},
   "source": [
    "В матрице признаков 4 столбца, значит нам нужна квадратная обратимая матрица размером 4*4. Создадим ее с помощью модуля random библиотеки numpy. В цикле происходит проверка матрицы на обратимость - неравенство определителя нулю."
   ]
  },
  {
   "cell_type": "code",
   "execution_count": 21,
   "metadata": {},
   "outputs": [],
   "source": [
    "def create_matrix(df):\n",
    "    np.random.seed(2501)\n",
    "    det = 0\n",
    "    n = df.shape[1]\n",
    "    # проверяем, чтобы определитель не был равен 0\n",
    "    while det == 0:\n",
    "        matrix = np.random.rand(n, n)\n",
    "        # находим определитель матрицы\n",
    "        det = np.linalg.det(matrix)\n",
    "    return det, matrix"
   ]
  },
  {
   "cell_type": "code",
   "execution_count": 22,
   "metadata": {},
   "outputs": [
    {
     "name": "stdout",
     "output_type": "stream",
     "text": [
      "Определитель матрицы: -0.09772110525525335\n",
      "\n",
      "Случайная квадратная обратимая матрица:\n",
      "[[0.97809293 0.37202526 0.07254313 0.89866816]\n",
      " [0.79414145 0.78007826 0.29730676 0.8964875 ]\n",
      " [0.60746046 0.78857659 0.83709349 0.40855927]\n",
      " [0.5247798  0.8856667  0.39511707 0.30556897]]\n",
      "\n",
      "Обратная матрица:\n",
      "[[ 2.82198211 -3.50363253  0.17720554  1.74277618]\n",
      " [-0.97370332  0.86672511 -1.01618731  1.67949222]\n",
      " [-0.38660055  0.04163308  1.99054398 -1.64661072]\n",
      " [-1.52433718  3.451123    0.06712553 -2.45915052]]\n"
     ]
    }
   ],
   "source": [
    "det, matrix = create_matrix(features)\n",
    "print(f'Определитель матрицы: {det}\\n')\n",
    "print(f'Случайная квадратная обратимая матрица:\\n{matrix}\\n')\n",
    "print(f'Обратная матрица:\\n{np.linalg.inv(matrix)}')"
   ]
  },
  {
   "cell_type": "markdown",
   "metadata": {},
   "source": [
    "Обучим модель и вычислим метрику R2."
   ]
  },
  {
   "cell_type": "code",
   "execution_count": 23,
   "metadata": {},
   "outputs": [
    {
     "name": "stdout",
     "output_type": "stream",
     "text": [
      "R2 обычной матрицы признаков: 0.4249455028666801\n"
     ]
    }
   ],
   "source": [
    "model = LinearRegression()\n",
    "model.fit(features, target)\n",
    "r2 = model.score(features, target)\n",
    "print(f'R2 обычной матрицы признаков: {r2}')"
   ]
  },
  {
   "cell_type": "markdown",
   "metadata": {},
   "source": [
    "Умножим матрицу признаков на обратимую матрицу и проверим R2."
   ]
  },
  {
   "cell_type": "code",
   "execution_count": 24,
   "metadata": {
    "scrolled": true
   },
   "outputs": [
    {
     "name": "stdout",
     "output_type": "stream",
     "text": [
      "R2 матрицы признаков, умноженной на обратимую матрицу: 0.42494550286667643\n"
     ]
    }
   ],
   "source": [
    "features_inv = features @ matrix\n",
    "model = LinearRegression()\n",
    "model.fit(features_inv, target)\n",
    "r2_inv = model.score(features_inv, target)\n",
    "print(f'R2 матрицы признаков, умноженной на обратимую матрицу: {r2_inv}')"
   ]
  },
  {
   "cell_type": "markdown",
   "metadata": {},
   "source": [
    "Метрики R2 не изменились при разных матрицах признаков. Попробуем доказать математически, используя формулы."
   ]
  },
  {
   "cell_type": "markdown",
   "metadata": {},
   "source": [
    "Обозначения:\n",
    "\n",
    "- $X$ — матрица признаков (нулевой столбец состоит из единиц)\n",
    "\n",
    "- $y$ — вектор целевого признака\n",
    "\n",
    "- $P$ — матрица, на которую умножаются признаки\n",
    "\n",
    "- $w$ — вектор весов линейной регрессии (нулевой элемент равен сдвигу)"
   ]
  },
  {
   "cell_type": "markdown",
   "metadata": {},
   "source": [
    "Предсказания:\n",
    "\n",
    "$$\n",
    "a = Xw\n",
    "$$\n",
    "\n",
    "Задача обучения:\n",
    "\n",
    "$$\n",
    "w = \\arg\\min_w MSE(Xw, y)\n",
    "$$\n",
    "\n",
    "Формула обучения:\n",
    "\n",
    "$$\n",
    "w = (X^T X)^{-1} X^T y\n",
    "$$"
   ]
  },
  {
   "cell_type": "markdown",
   "metadata": {},
   "source": [
    "Заменим матрицу $X$ на матрицу $Z$:\n",
    "\n",
    "$$\n",
    "Z= XP, \n",
    "$$\n",
    "\n",
    "где $P$ - обратимая матрица, на которую может быть умножена матрица $X$."
   ]
  },
  {
   "cell_type": "markdown",
   "metadata": {},
   "source": [
    "Заменим $X$ на $Z$ и вычислим предсказание и вектор весов:\n",
    "\n",
    "$$\n",
    "a_1 = Zw_1\n",
    "$$\n",
    "\n",
    "$$\n",
    "w_1 = (Z^TZ)^{-1}Z^Ty\n",
    "$$\n",
    "\n",
    "Подставим в правую часть уравнения предсказания правую часть уравнения вектора весов:\n",
    "\n",
    "$$\n",
    "a_1 = Z(Z^TZ)^{-1}Z^Ty\n",
    "$$\n",
    "\n",
    "Заменим все $Z$ значением $XP$:\n",
    "\n",
    "$$\n",
    "a_1 = XP((XP)^T(XP))^{-1}(XP)^Ty\n",
    "$$"
   ]
  },
  {
   "cell_type": "markdown",
   "metadata": {},
   "source": [
    "По свойству транспонированной матрицы:\n",
    "\n",
    "$$\n",
    "(AB)^T = B^TA^T\n",
    "$$\n",
    "\n",
    "раскроем скобки:\n",
    "\n",
    "$$\n",
    "a_1 = XP(P^TX^TXP)^{-1}P^TX^Ty\n",
    "$$\n",
    "\n",
    "По свойству обратной матрицы для трех множителей:\n",
    "\n",
    "$$\n",
    "(ABC)^{-1} = C^{-1}B^{-1}A^{-1} \n",
    "$$\n",
    "\n",
    "преобразуем:\n",
    "\n",
    "$$\n",
    "a_1 = XPP^{-1}(X^TX)^{-1}(P^T)^{-1}P^TX^Ty\n",
    "$$"
   ]
  },
  {
   "cell_type": "markdown",
   "metadata": {},
   "source": [
    "Упростим уравнение с помощью формул единичной матрицы:\n",
    "\n",
    "$$\n",
    "PP^{-1} = E\n",
    "$$\n",
    "\n",
    "и\n",
    "\n",
    "$$\n",
    "(P^T)^{-1}P^T = E\n",
    "$$\n",
    "\n",
    "Получаем:\n",
    "\n",
    "$$\n",
    "a_1 = XE(X^TX)^{-1}EX^Ty = X(X^TX)^{-1}X^Ty = Xw = a\n",
    "$$"
   ]
  },
  {
   "cell_type": "markdown",
   "metadata": {},
   "source": [
    "Значение предсказания не меняется, если умножать матрицу признаков на обратимую матрицу."
   ]
  },
  {
   "cell_type": "markdown",
   "metadata": {},
   "source": [
    "## Алгоритм преобразования"
   ]
  },
  {
   "cell_type": "markdown",
   "metadata": {},
   "source": [
    "Для защиты персональных данных клиентов умножим матрицу признаков на обратимую квадратную матрицу размерностью равной количеству признаков. В пункте 2 доказали, что на качество модели это преобразование не скажется.\n",
    "\n",
    "Алгоритм:\n",
    "1. Генерируем случайную квадратную матрицу в качестве ключа шифрования.\n",
    "2. Проверяем матрицу на обратимость с помощью вычисления детерминанта матрицы, так как обратная матрица  существует только для квадратных невырожденных матриц (определитель которых не равен нулю).\n",
    "3. Производим матричное умножение набора данных с признаками и обратимой матрицы.\n",
    "4. Передаем модели преобразованные признаки и неизмененные целевые признаки.\n",
    "5. Обучаем модель и рассчитываем метрику R2.\n",
    "6. Сравниваем метрики R2 для моделей с неизмененными признаками и с преобразованными. Метрики не должны существенно отличаться."
   ]
  },
  {
   "cell_type": "markdown",
   "metadata": {},
   "source": [
    "Произведение матрицы признаков и случайной матрицы состоит из всех возможных комбинаций скалярных произведений вектор-строк матрицы features и вектор-столбцов матрицы random. Так мы произведем умножение каждого набора признаков (строка-вектор) из features на одинаковые наборы векторов (столбец - вектор) из random и запишем их в новый вектор - строку. Соответственно итоговые веса каждого такого вектора будут примерно соотноситься с весами набора признаков для каждого нового набора векторов в результирующей матрице.\n",
    "Процесс дешифрования также не приведет модель к потере качества, так как мы преобразованную матрицу признаков умножим на обратную матрицу к той, на которую умножали исходную матрицу признаков."
   ]
  },
  {
   "cell_type": "markdown",
   "metadata": {},
   "source": [
    "## Проверка алгоритма"
   ]
  },
  {
   "cell_type": "markdown",
   "metadata": {},
   "source": [
    "Сперва создадим 2 выборки из нашего датасета в соотношении 75:25. На обучающей выборке будем обучать модель архитектурой Линейной регрессии, а на валидационной выборке проверять модель на качество."
   ]
  },
  {
   "cell_type": "code",
   "execution_count": 25,
   "metadata": {},
   "outputs": [
    {
     "name": "stdout",
     "output_type": "stream",
     "text": [
      "(3750, 4)\n"
     ]
    },
    {
     "data": {
      "text/plain": [
       "(1250, 4)"
      ]
     },
     "execution_count": 25,
     "metadata": {},
     "output_type": "execute_result"
    }
   ],
   "source": [
    "features_train, features_test, target_train, target_test = train_test_split(\n",
    "    features, target, test_size=0.25, random_state=2501)\n",
    "\n",
    "print(features_train.shape)\n",
    "features_test.shape"
   ]
  },
  {
   "cell_type": "markdown",
   "metadata": {},
   "source": [
    "Найдем качество модели без преобразования матрицы признаков."
   ]
  },
  {
   "cell_type": "code",
   "execution_count": 26,
   "metadata": {},
   "outputs": [
    {
     "name": "stdout",
     "output_type": "stream",
     "text": [
      "R2 обычной модели без преобразования признаков: 0.4290333134006169\n"
     ]
    }
   ],
   "source": [
    "model = LinearRegression()\n",
    "model.fit(features_train, target_train)\n",
    "predicted = model.predict(features_test)\n",
    "r2 = r2_score(target_test, predicted)\n",
    "print(f'R2 обычной модели без преобразования признаков: {r2}')"
   ]
  },
  {
   "cell_type": "markdown",
   "metadata": {},
   "source": [
    "Преобразуем матрицу признаков с помощью ранее написанной функции."
   ]
  },
  {
   "cell_type": "code",
   "execution_count": 27,
   "metadata": {},
   "outputs": [
    {
     "name": "stdout",
     "output_type": "stream",
     "text": [
      "Изначальная матрица признаков:\n"
     ]
    },
    {
     "data": {
      "text/html": [
       "<div>\n",
       "<style scoped>\n",
       "    .dataframe tbody tr th:only-of-type {\n",
       "        vertical-align: middle;\n",
       "    }\n",
       "\n",
       "    .dataframe tbody tr th {\n",
       "        vertical-align: top;\n",
       "    }\n",
       "\n",
       "    .dataframe thead th {\n",
       "        text-align: right;\n",
       "    }\n",
       "</style>\n",
       "<table border=\"1\" class=\"dataframe\">\n",
       "  <thead>\n",
       "    <tr style=\"text-align: right;\">\n",
       "      <th></th>\n",
       "      <th>genre</th>\n",
       "      <th>age</th>\n",
       "      <th>salary</th>\n",
       "      <th>family</th>\n",
       "    </tr>\n",
       "  </thead>\n",
       "  <tbody>\n",
       "    <tr>\n",
       "      <th>0</th>\n",
       "      <td>1</td>\n",
       "      <td>41</td>\n",
       "      <td>49600.0</td>\n",
       "      <td>1</td>\n",
       "    </tr>\n",
       "    <tr>\n",
       "      <th>1</th>\n",
       "      <td>0</td>\n",
       "      <td>46</td>\n",
       "      <td>38000.0</td>\n",
       "      <td>1</td>\n",
       "    </tr>\n",
       "    <tr>\n",
       "      <th>2</th>\n",
       "      <td>0</td>\n",
       "      <td>29</td>\n",
       "      <td>21000.0</td>\n",
       "      <td>0</td>\n",
       "    </tr>\n",
       "    <tr>\n",
       "      <th>3</th>\n",
       "      <td>0</td>\n",
       "      <td>21</td>\n",
       "      <td>41700.0</td>\n",
       "      <td>2</td>\n",
       "    </tr>\n",
       "    <tr>\n",
       "      <th>4</th>\n",
       "      <td>1</td>\n",
       "      <td>28</td>\n",
       "      <td>26100.0</td>\n",
       "      <td>0</td>\n",
       "    </tr>\n",
       "  </tbody>\n",
       "</table>\n",
       "</div>"
      ],
      "text/plain": [
       "   genre  age   salary  family\n",
       "0      1   41  49600.0       1\n",
       "1      0   46  38000.0       1\n",
       "2      0   29  21000.0       0\n",
       "3      0   21  41700.0       2\n",
       "4      1   28  26100.0       0"
      ]
     },
     "metadata": {},
     "output_type": "display_data"
    },
    {
     "name": "stdout",
     "output_type": "stream",
     "text": [
      "\n",
      "Преобразованная матрица признаков:\n"
     ]
    },
    {
     "data": {
      "text/html": [
       "<div>\n",
       "<style scoped>\n",
       "    .dataframe tbody tr th:only-of-type {\n",
       "        vertical-align: middle;\n",
       "    }\n",
       "\n",
       "    .dataframe tbody tr th {\n",
       "        vertical-align: top;\n",
       "    }\n",
       "\n",
       "    .dataframe thead th {\n",
       "        text-align: right;\n",
       "    }\n",
       "</style>\n",
       "<table border=\"1\" class=\"dataframe\">\n",
       "  <thead>\n",
       "    <tr style=\"text-align: right;\">\n",
       "      <th></th>\n",
       "      <th>0</th>\n",
       "      <th>1</th>\n",
       "      <th>2</th>\n",
       "      <th>3</th>\n",
       "    </tr>\n",
       "  </thead>\n",
       "  <tbody>\n",
       "    <tr>\n",
       "      <th>0</th>\n",
       "      <td>30164.101275</td>\n",
       "      <td>39146.639864</td>\n",
       "      <td>41532.494422</td>\n",
       "      <td>20302.500168</td>\n",
       "    </tr>\n",
       "    <tr>\n",
       "      <th>1</th>\n",
       "      <td>23120.552603</td>\n",
       "      <td>30002.679763</td>\n",
       "      <td>31823.623910</td>\n",
       "      <td>15566.796370</td>\n",
       "    </tr>\n",
       "    <tr>\n",
       "      <th>2</th>\n",
       "      <td>12779.699672</td>\n",
       "      <td>16582.730702</td>\n",
       "      <td>17587.585220</td>\n",
       "      <td>8605.742872</td>\n",
       "    </tr>\n",
       "    <tr>\n",
       "      <th>3</th>\n",
       "      <td>25348.827533</td>\n",
       "      <td>32901.796864</td>\n",
       "      <td>34913.832277</td>\n",
       "      <td>17056.359062</td>\n",
       "    </tr>\n",
       "    <tr>\n",
       "      <th>4</th>\n",
       "      <td>15877.931947</td>\n",
       "      <td>20604.063268</td>\n",
       "      <td>21856.537264</td>\n",
       "      <td>10689.397345</td>\n",
       "    </tr>\n",
       "  </tbody>\n",
       "</table>\n",
       "</div>"
      ],
      "text/plain": [
       "              0             1             2             3\n",
       "0  30164.101275  39146.639864  41532.494422  20302.500168\n",
       "1  23120.552603  30002.679763  31823.623910  15566.796370\n",
       "2  12779.699672  16582.730702  17587.585220   8605.742872\n",
       "3  25348.827533  32901.796864  34913.832277  17056.359062\n",
       "4  15877.931947  20604.063268  21856.537264  10689.397345"
      ]
     },
     "execution_count": 27,
     "metadata": {},
     "output_type": "execute_result"
    }
   ],
   "source": [
    "#  умножаем признаки на обратимую матрицу\n",
    "new_features = features @ matrix\n",
    "create_matrix(new_features)\n",
    "\n",
    "print('Изначальная матрица признаков:')\n",
    "display(features.head())\n",
    "print()\n",
    "print('Преобразованная матрица признаков:')\n",
    "new_features.head()"
   ]
  },
  {
   "cell_type": "markdown",
   "metadata": {},
   "source": [
    "Все данные преобразовались и зашифровались. Обучим модель на преобразованных данных и проверим ее качество."
   ]
  },
  {
   "cell_type": "code",
   "execution_count": 28,
   "metadata": {},
   "outputs": [],
   "source": [
    "features_train, features_test, target_train, target_test = train_test_split(\n",
    "    new_features, target, test_size=0.25, random_state=2501)"
   ]
  },
  {
   "cell_type": "code",
   "execution_count": 29,
   "metadata": {},
   "outputs": [
    {
     "name": "stdout",
     "output_type": "stream",
     "text": [
      "R2 модели с преобразованными признаками: 0.4290333133998221\n"
     ]
    }
   ],
   "source": [
    "model = LinearRegression()\n",
    "model.fit(features_train, target_train)\n",
    "predicted = model.predict(features_test)\n",
    "r2_new = r2_score(target_test, predicted)\n",
    "print(f'R2 модели с преобразованными признаками: {r2_new}')"
   ]
  },
  {
   "cell_type": "markdown",
   "metadata": {},
   "source": [
    "Сравним показатели качества двух моделей."
   ]
  },
  {
   "cell_type": "code",
   "execution_count": 30,
   "metadata": {},
   "outputs": [
    {
     "data": {
      "text/html": [
       "<div>\n",
       "<style scoped>\n",
       "    .dataframe tbody tr th:only-of-type {\n",
       "        vertical-align: middle;\n",
       "    }\n",
       "\n",
       "    .dataframe tbody tr th {\n",
       "        vertical-align: top;\n",
       "    }\n",
       "\n",
       "    .dataframe thead th {\n",
       "        text-align: right;\n",
       "    }\n",
       "</style>\n",
       "<table border=\"1\" class=\"dataframe\">\n",
       "  <thead>\n",
       "    <tr style=\"text-align: right;\">\n",
       "      <th></th>\n",
       "      <th>Метрика R2</th>\n",
       "    </tr>\n",
       "  </thead>\n",
       "  <tbody>\n",
       "    <tr>\n",
       "      <th>Модель с исходными признаками</th>\n",
       "      <td>0.429033</td>\n",
       "    </tr>\n",
       "    <tr>\n",
       "      <th>Модель с преобразованными признаками</th>\n",
       "      <td>0.429033</td>\n",
       "    </tr>\n",
       "  </tbody>\n",
       "</table>\n",
       "</div>"
      ],
      "text/plain": [
       "                                      Метрика R2\n",
       "Модель с исходными признаками           0.429033\n",
       "Модель с преобразованными признаками    0.429033"
      ]
     },
     "execution_count": 30,
     "metadata": {},
     "output_type": "execute_result"
    }
   ],
   "source": [
    "total = pd.DataFrame(data = [r2, r2_new], \n",
    "                     columns=['Метрика R2'], \n",
    "                     index=['Модель с исходными признаками',\n",
    "                            'Модель с преобразованными признаками'])\n",
    "total"
   ]
  },
  {
   "cell_type": "markdown",
   "metadata": {},
   "source": [
    "Метрики качества практически одинаковые."
   ]
  },
  {
   "cell_type": "markdown",
   "metadata": {},
   "source": [
    "А сейчас попробуем дешифровать нашу преобразованную матрицу признаков и вернуть ее в исходный вид. Умножим преобразованную матрицу признаков на обратную матрицу к обратимой."
   ]
  },
  {
   "cell_type": "code",
   "execution_count": 31,
   "metadata": {},
   "outputs": [
    {
     "name": "stdout",
     "output_type": "stream",
     "text": [
      "Изначальная матрица:\n"
     ]
    },
    {
     "data": {
      "text/html": [
       "<div>\n",
       "<style scoped>\n",
       "    .dataframe tbody tr th:only-of-type {\n",
       "        vertical-align: middle;\n",
       "    }\n",
       "\n",
       "    .dataframe tbody tr th {\n",
       "        vertical-align: top;\n",
       "    }\n",
       "\n",
       "    .dataframe thead th {\n",
       "        text-align: right;\n",
       "    }\n",
       "</style>\n",
       "<table border=\"1\" class=\"dataframe\">\n",
       "  <thead>\n",
       "    <tr style=\"text-align: right;\">\n",
       "      <th></th>\n",
       "      <th>genre</th>\n",
       "      <th>age</th>\n",
       "      <th>salary</th>\n",
       "      <th>family</th>\n",
       "    </tr>\n",
       "  </thead>\n",
       "  <tbody>\n",
       "    <tr>\n",
       "      <th>0</th>\n",
       "      <td>1</td>\n",
       "      <td>41</td>\n",
       "      <td>49600.0</td>\n",
       "      <td>1</td>\n",
       "    </tr>\n",
       "    <tr>\n",
       "      <th>1</th>\n",
       "      <td>0</td>\n",
       "      <td>46</td>\n",
       "      <td>38000.0</td>\n",
       "      <td>1</td>\n",
       "    </tr>\n",
       "    <tr>\n",
       "      <th>2</th>\n",
       "      <td>0</td>\n",
       "      <td>29</td>\n",
       "      <td>21000.0</td>\n",
       "      <td>0</td>\n",
       "    </tr>\n",
       "    <tr>\n",
       "      <th>3</th>\n",
       "      <td>0</td>\n",
       "      <td>21</td>\n",
       "      <td>41700.0</td>\n",
       "      <td>2</td>\n",
       "    </tr>\n",
       "    <tr>\n",
       "      <th>4</th>\n",
       "      <td>1</td>\n",
       "      <td>28</td>\n",
       "      <td>26100.0</td>\n",
       "      <td>0</td>\n",
       "    </tr>\n",
       "  </tbody>\n",
       "</table>\n",
       "</div>"
      ],
      "text/plain": [
       "   genre  age   salary  family\n",
       "0      1   41  49600.0       1\n",
       "1      0   46  38000.0       1\n",
       "2      0   29  21000.0       0\n",
       "3      0   21  41700.0       2\n",
       "4      1   28  26100.0       0"
      ]
     },
     "metadata": {},
     "output_type": "display_data"
    },
    {
     "name": "stdout",
     "output_type": "stream",
     "text": [
      "Преобразованная  матрица после дешифровки:\n"
     ]
    },
    {
     "data": {
      "text/html": [
       "<div>\n",
       "<style scoped>\n",
       "    .dataframe tbody tr th:only-of-type {\n",
       "        vertical-align: middle;\n",
       "    }\n",
       "\n",
       "    .dataframe tbody tr th {\n",
       "        vertical-align: top;\n",
       "    }\n",
       "\n",
       "    .dataframe thead th {\n",
       "        text-align: right;\n",
       "    }\n",
       "</style>\n",
       "<table border=\"1\" class=\"dataframe\">\n",
       "  <thead>\n",
       "    <tr style=\"text-align: right;\">\n",
       "      <th></th>\n",
       "      <th>0</th>\n",
       "      <th>1</th>\n",
       "      <th>2</th>\n",
       "      <th>3</th>\n",
       "    </tr>\n",
       "  </thead>\n",
       "  <tbody>\n",
       "    <tr>\n",
       "      <th>0</th>\n",
       "      <td>1.000000e+00</td>\n",
       "      <td>41.0</td>\n",
       "      <td>49600.0</td>\n",
       "      <td>1.000000e+00</td>\n",
       "    </tr>\n",
       "    <tr>\n",
       "      <th>1</th>\n",
       "      <td>3.629365e-13</td>\n",
       "      <td>46.0</td>\n",
       "      <td>38000.0</td>\n",
       "      <td>1.000000e+00</td>\n",
       "    </tr>\n",
       "    <tr>\n",
       "      <th>2</th>\n",
       "      <td>1.109542e-11</td>\n",
       "      <td>29.0</td>\n",
       "      <td>21000.0</td>\n",
       "      <td>-7.663486e-13</td>\n",
       "    </tr>\n",
       "    <tr>\n",
       "      <th>3</th>\n",
       "      <td>7.260433e-12</td>\n",
       "      <td>21.0</td>\n",
       "      <td>41700.0</td>\n",
       "      <td>2.000000e+00</td>\n",
       "    </tr>\n",
       "    <tr>\n",
       "      <th>4</th>\n",
       "      <td>1.000000e+00</td>\n",
       "      <td>28.0</td>\n",
       "      <td>26100.0</td>\n",
       "      <td>-6.264422e-13</td>\n",
       "    </tr>\n",
       "  </tbody>\n",
       "</table>\n",
       "</div>"
      ],
      "text/plain": [
       "              0     1        2             3\n",
       "0  1.000000e+00  41.0  49600.0  1.000000e+00\n",
       "1  3.629365e-13  46.0  38000.0  1.000000e+00\n",
       "2  1.109542e-11  29.0  21000.0 -7.663486e-13\n",
       "3  7.260433e-12  21.0  41700.0  2.000000e+00\n",
       "4  1.000000e+00  28.0  26100.0 -6.264422e-13"
      ]
     },
     "execution_count": 31,
     "metadata": {},
     "output_type": "execute_result"
    }
   ],
   "source": [
    "check = new_features @ np.linalg.inv(matrix)\n",
    "print('Изначальная матрица:')\n",
    "display(features.head())\n",
    "print('Преобразованная  матрица после дешифровки:')\n",
    "check.head()"
   ]
  },
  {
   "cell_type": "markdown",
   "metadata": {},
   "source": [
    "Сравним значения признаков в обеих матрицах с помощью метода allclose. Формат float имеет особый способ хранения значений, который не позволяет производить вычисления со 100% точностью, но значения приближены к ожидаемым.\n",
    "\n",
    "Данные совпадают. Значит дешифровка работает корректно."
   ]
  },
  {
   "cell_type": "code",
   "execution_count": 32,
   "metadata": {},
   "outputs": [
    {
     "data": {
      "text/plain": [
       "True"
      ]
     },
     "execution_count": 32,
     "metadata": {},
     "output_type": "execute_result"
    }
   ],
   "source": [
    "np.allclose(features, check)"
   ]
  },
  {
   "cell_type": "markdown",
   "metadata": {},
   "source": [
    "## Вывод"
   ]
  },
  {
   "cell_type": "markdown",
   "metadata": {},
   "source": [
    "В ходе данного проекта было сделано:\n",
    "1. Загружены и изучены данные. Изменены названия столбцов для удобства.\n",
    "2. Изменены типы данных для некоторых признаков.\n",
    "3. Обосновано и доказано математически, что умножение матрицы признаков на обратимую квадратную матрицу не меняет качество модели линейной регрессии.\n",
    "4. Предложен алгоритм преобразования матрицы данных для шифрования.\n",
    "5. Запрограммирован предложенный алгоритм с применением матричных операций.\n",
    "6. Обучены 2 модели линейной регрессии с исходными признаками и преобразованными.\n",
    "7. Посчитаны метрики R2 для обеих моделей.\n",
    "8. Проведена расшифровка преобразованной матрицы признаков.\n",
    "\n",
    "По результатам проекта можно сделать вывод, что данные с признаками можно легко преобразовать с помощью матричных операций и не потерять при этом качество обученной модели, таким образом зашифровав их для безопасности использования и передачи третьим лицам. Затем с помощью ключа можно вернуть данные в первоначальный вид."
   ]
  },
  {
   "cell_type": "code",
   "execution_count": null,
   "metadata": {},
   "outputs": [],
   "source": []
  }
 ],
 "metadata": {
  "ExecuteTimeLog": [
   {
    "duration": 387,
    "start_time": "2022-09-28T07:30:13.200Z"
   },
   {
    "duration": 100,
    "start_time": "2022-09-28T07:30:40.333Z"
   },
   {
    "duration": 10,
    "start_time": "2022-09-28T07:30:57.000Z"
   },
   {
    "duration": 12,
    "start_time": "2022-09-28T07:31:02.084Z"
   },
   {
    "duration": 4,
    "start_time": "2022-09-28T07:36:19.657Z"
   },
   {
    "duration": 3,
    "start_time": "2022-09-28T07:36:26.193Z"
   },
   {
    "duration": 1068,
    "start_time": "2022-09-28T07:37:28.847Z"
   },
   {
    "duration": 553,
    "start_time": "2022-09-28T07:37:40.630Z"
   },
   {
    "duration": 787,
    "start_time": "2022-09-28T08:24:05.928Z"
   },
   {
    "duration": 8,
    "start_time": "2022-09-28T08:29:53.093Z"
   },
   {
    "duration": 5,
    "start_time": "2022-09-28T08:35:08.853Z"
   },
   {
    "duration": 5,
    "start_time": "2022-09-28T08:35:15.828Z"
   },
   {
    "duration": 10,
    "start_time": "2022-09-28T08:37:20.207Z"
   },
   {
    "duration": 5,
    "start_time": "2022-09-28T08:42:23.612Z"
   },
   {
    "duration": 219,
    "start_time": "2022-09-28T08:42:27.063Z"
   },
   {
    "duration": 5,
    "start_time": "2022-09-28T08:43:04.982Z"
   },
   {
    "duration": 5,
    "start_time": "2022-09-28T08:43:07.169Z"
   },
   {
    "duration": 5,
    "start_time": "2022-09-28T08:43:10.679Z"
   },
   {
    "duration": 6,
    "start_time": "2022-09-28T08:43:13.233Z"
   },
   {
    "duration": 17,
    "start_time": "2022-09-28T08:46:31.604Z"
   },
   {
    "duration": 9,
    "start_time": "2022-09-28T08:46:36.077Z"
   },
   {
    "duration": 15,
    "start_time": "2022-09-28T08:47:32.000Z"
   },
   {
    "duration": 17,
    "start_time": "2022-09-28T08:47:55.508Z"
   },
   {
    "duration": 12,
    "start_time": "2022-09-28T08:48:01.709Z"
   },
   {
    "duration": 11,
    "start_time": "2022-09-28T08:50:54.548Z"
   },
   {
    "duration": 13,
    "start_time": "2022-09-28T08:51:10.007Z"
   },
   {
    "duration": 16,
    "start_time": "2022-09-28T11:43:02.677Z"
   },
   {
    "duration": 11,
    "start_time": "2022-09-28T11:45:04.085Z"
   },
   {
    "duration": 10,
    "start_time": "2022-09-28T11:45:26.435Z"
   },
   {
    "duration": 23,
    "start_time": "2022-09-28T11:46:45.793Z"
   },
   {
    "duration": 19,
    "start_time": "2022-09-28T11:47:00.635Z"
   },
   {
    "duration": 9,
    "start_time": "2022-09-28T11:47:30.959Z"
   },
   {
    "duration": 5,
    "start_time": "2022-09-28T12:10:52.674Z"
   },
   {
    "duration": 4,
    "start_time": "2022-09-28T12:10:55.883Z"
   },
   {
    "duration": 1172,
    "start_time": "2022-09-28T12:11:10.358Z"
   },
   {
    "duration": 45,
    "start_time": "2022-09-28T12:11:11.532Z"
   },
   {
    "duration": 13,
    "start_time": "2022-09-28T12:11:11.579Z"
   },
   {
    "duration": 12,
    "start_time": "2022-09-28T12:11:11.594Z"
   },
   {
    "duration": 16,
    "start_time": "2022-09-28T12:11:11.609Z"
   },
   {
    "duration": 914,
    "start_time": "2022-09-28T12:11:11.627Z"
   },
   {
    "duration": 7,
    "start_time": "2022-09-28T12:11:12.543Z"
   },
   {
    "duration": 8,
    "start_time": "2022-09-28T12:11:12.552Z"
   },
   {
    "duration": 38,
    "start_time": "2022-09-28T12:11:12.562Z"
   },
   {
    "duration": 200,
    "start_time": "2022-09-28T12:11:12.602Z"
   },
   {
    "duration": 101,
    "start_time": "2022-09-28T12:11:12.804Z"
   },
   {
    "duration": 11,
    "start_time": "2022-09-28T12:18:55.968Z"
   },
   {
    "duration": 12,
    "start_time": "2022-09-28T12:23:35.143Z"
   },
   {
    "duration": 4,
    "start_time": "2022-09-28T12:30:32.182Z"
   },
   {
    "duration": 6,
    "start_time": "2022-09-28T12:38:17.531Z"
   },
   {
    "duration": 5,
    "start_time": "2022-09-28T12:39:04.332Z"
   },
   {
    "duration": 6,
    "start_time": "2022-09-28T12:40:28.827Z"
   },
   {
    "duration": 16,
    "start_time": "2022-09-28T12:41:35.796Z"
   },
   {
    "duration": 21,
    "start_time": "2022-09-28T12:44:25.338Z"
   },
   {
    "duration": 17,
    "start_time": "2022-09-28T12:44:39.501Z"
   },
   {
    "duration": 19,
    "start_time": "2022-09-28T12:44:49.082Z"
   },
   {
    "duration": 18,
    "start_time": "2022-09-28T12:45:04.005Z"
   },
   {
    "duration": 15,
    "start_time": "2022-09-28T12:45:37.560Z"
   },
   {
    "duration": 14,
    "start_time": "2022-09-28T12:45:43.801Z"
   },
   {
    "duration": 27,
    "start_time": "2022-09-28T12:46:10.832Z"
   },
   {
    "duration": 20,
    "start_time": "2022-09-28T12:46:30.493Z"
   },
   {
    "duration": 7,
    "start_time": "2022-09-28T12:49:54.112Z"
   },
   {
    "duration": 13,
    "start_time": "2022-09-28T12:50:29.064Z"
   },
   {
    "duration": 80,
    "start_time": "2022-09-28T12:50:57.118Z"
   },
   {
    "duration": 10,
    "start_time": "2022-09-28T12:52:23.642Z"
   },
   {
    "duration": 9,
    "start_time": "2022-09-28T12:52:33.776Z"
   },
   {
    "duration": 10,
    "start_time": "2022-09-28T13:03:04.351Z"
   },
   {
    "duration": 1251,
    "start_time": "2022-09-28T13:04:26.387Z"
   },
   {
    "duration": 44,
    "start_time": "2022-09-28T13:04:27.640Z"
   },
   {
    "duration": 19,
    "start_time": "2022-09-28T13:04:27.686Z"
   },
   {
    "duration": 23,
    "start_time": "2022-09-28T13:04:27.706Z"
   },
   {
    "duration": 6,
    "start_time": "2022-09-28T13:04:27.732Z"
   },
   {
    "duration": 996,
    "start_time": "2022-09-28T13:04:27.740Z"
   },
   {
    "duration": 7,
    "start_time": "2022-09-28T13:04:28.738Z"
   },
   {
    "duration": 17,
    "start_time": "2022-09-28T13:04:28.747Z"
   },
   {
    "duration": 33,
    "start_time": "2022-09-28T13:04:28.766Z"
   },
   {
    "duration": 15,
    "start_time": "2022-09-28T13:04:28.800Z"
   },
   {
    "duration": 209,
    "start_time": "2022-09-28T13:04:28.817Z"
   },
   {
    "duration": 72,
    "start_time": "2022-09-28T13:04:29.032Z"
   },
   {
    "duration": 118,
    "start_time": "2022-09-28T13:04:29.109Z"
   },
   {
    "duration": 25,
    "start_time": "2022-09-28T13:04:29.230Z"
   },
   {
    "duration": 6,
    "start_time": "2022-09-28T13:04:29.257Z"
   },
   {
    "duration": 11,
    "start_time": "2022-09-28T13:04:29.265Z"
   },
   {
    "duration": 19,
    "start_time": "2022-09-28T13:04:29.277Z"
   },
   {
    "duration": 27,
    "start_time": "2022-09-28T13:07:07.108Z"
   },
   {
    "duration": 1670,
    "start_time": "2022-09-29T06:16:04.164Z"
   },
   {
    "duration": 125,
    "start_time": "2022-09-29T06:16:12.898Z"
   },
   {
    "duration": 90,
    "start_time": "2022-09-29T06:16:20.965Z"
   },
   {
    "duration": 3,
    "start_time": "2022-09-29T06:16:26.303Z"
   },
   {
    "duration": 3200,
    "start_time": "2022-09-29T06:16:31.180Z"
   },
   {
    "duration": 25,
    "start_time": "2022-09-29T07:54:46.239Z"
   },
   {
    "duration": 22,
    "start_time": "2022-09-29T07:54:56.604Z"
   },
   {
    "duration": 4,
    "start_time": "2022-09-29T08:00:22.949Z"
   },
   {
    "duration": 1347,
    "start_time": "2022-09-29T08:00:40.930Z"
   },
   {
    "duration": 41,
    "start_time": "2022-09-29T08:00:44.008Z"
   },
   {
    "duration": 11,
    "start_time": "2022-09-29T08:00:46.088Z"
   },
   {
    "duration": 4,
    "start_time": "2022-09-29T08:00:49.008Z"
   },
   {
    "duration": 5,
    "start_time": "2022-09-29T08:00:51.388Z"
   },
   {
    "duration": 24,
    "start_time": "2022-09-29T08:01:13.985Z"
   },
   {
    "duration": 1497,
    "start_time": "2022-09-29T08:01:28.399Z"
   },
   {
    "duration": 4,
    "start_time": "2022-09-29T08:01:40.179Z"
   },
   {
    "duration": 4,
    "start_time": "2022-09-29T08:01:42.148Z"
   },
   {
    "duration": 4,
    "start_time": "2022-09-29T08:01:44.554Z"
   },
   {
    "duration": 3,
    "start_time": "2022-09-29T08:01:49.429Z"
   },
   {
    "duration": 4,
    "start_time": "2022-09-29T08:01:53.689Z"
   },
   {
    "duration": 1336,
    "start_time": "2022-09-29T08:02:06.743Z"
   },
   {
    "duration": 41,
    "start_time": "2022-09-29T08:02:08.764Z"
   },
   {
    "duration": 11,
    "start_time": "2022-09-29T08:02:10.996Z"
   },
   {
    "duration": 3,
    "start_time": "2022-09-29T08:02:13.091Z"
   },
   {
    "duration": 5,
    "start_time": "2022-09-29T08:02:15.197Z"
   },
   {
    "duration": 26,
    "start_time": "2022-09-29T08:02:17.795Z"
   },
   {
    "duration": 5,
    "start_time": "2022-09-29T08:02:20.033Z"
   },
   {
    "duration": 4,
    "start_time": "2022-09-29T08:02:39.782Z"
   },
   {
    "duration": 5,
    "start_time": "2022-09-29T08:03:00.802Z"
   },
   {
    "duration": 4,
    "start_time": "2022-09-29T08:03:13.482Z"
   },
   {
    "duration": 4,
    "start_time": "2022-09-29T08:06:39.160Z"
   },
   {
    "duration": 9,
    "start_time": "2022-09-29T08:06:51.493Z"
   },
   {
    "duration": 7,
    "start_time": "2022-09-29T08:13:40.631Z"
   },
   {
    "duration": 8,
    "start_time": "2022-09-29T08:15:13.444Z"
   },
   {
    "duration": 6,
    "start_time": "2022-09-29T08:15:20.435Z"
   },
   {
    "duration": 7,
    "start_time": "2022-09-29T08:15:34.938Z"
   },
   {
    "duration": 7,
    "start_time": "2022-09-29T08:16:07.302Z"
   },
   {
    "duration": 179,
    "start_time": "2022-09-29T08:16:18.879Z"
   },
   {
    "duration": 112,
    "start_time": "2022-09-29T08:16:26.723Z"
   },
   {
    "duration": 8,
    "start_time": "2022-09-29T08:16:44.616Z"
   },
   {
    "duration": 14,
    "start_time": "2022-09-29T08:16:54.633Z"
   },
   {
    "duration": 57,
    "start_time": "2022-09-29T08:17:07.424Z"
   },
   {
    "duration": 9,
    "start_time": "2022-09-29T08:19:56.343Z"
   },
   {
    "duration": 208,
    "start_time": "2022-09-29T08:20:37.114Z"
   },
   {
    "duration": 9,
    "start_time": "2022-09-29T08:21:01.188Z"
   },
   {
    "duration": 7,
    "start_time": "2022-09-29T08:21:15.890Z"
   },
   {
    "duration": 7,
    "start_time": "2022-09-29T08:21:30.121Z"
   },
   {
    "duration": 7,
    "start_time": "2022-09-29T08:21:54.333Z"
   },
   {
    "duration": 8,
    "start_time": "2022-09-29T08:22:00.430Z"
   },
   {
    "duration": 7,
    "start_time": "2022-09-29T08:22:29.446Z"
   },
   {
    "duration": 15,
    "start_time": "2022-09-29T08:23:19.047Z"
   },
   {
    "duration": 14,
    "start_time": "2022-09-29T08:24:37.865Z"
   },
   {
    "duration": 4,
    "start_time": "2022-09-29T08:30:17.416Z"
   },
   {
    "duration": 9,
    "start_time": "2022-09-29T08:30:50.357Z"
   },
   {
    "duration": 6,
    "start_time": "2022-09-29T08:34:33.216Z"
   },
   {
    "duration": 470,
    "start_time": "2022-09-29T08:35:05.636Z"
   },
   {
    "duration": 3118,
    "start_time": "2022-09-29T09:13:35.694Z"
   },
   {
    "duration": 4,
    "start_time": "2022-09-29T09:29:56.940Z"
   },
   {
    "duration": 5,
    "start_time": "2022-09-29T09:30:12.656Z"
   },
   {
    "duration": 5,
    "start_time": "2022-09-29T09:30:51.483Z"
   },
   {
    "duration": 4,
    "start_time": "2022-09-29T09:46:57.697Z"
   },
   {
    "duration": 6,
    "start_time": "2022-09-29T09:47:06.784Z"
   },
   {
    "duration": 4,
    "start_time": "2022-09-29T09:47:10.249Z"
   },
   {
    "duration": 4,
    "start_time": "2022-09-29T09:47:30.333Z"
   },
   {
    "duration": 5,
    "start_time": "2022-09-29T09:49:04.407Z"
   },
   {
    "duration": 5,
    "start_time": "2022-09-29T09:49:28.320Z"
   },
   {
    "duration": 3,
    "start_time": "2022-09-29T10:11:30.812Z"
   },
   {
    "duration": 4,
    "start_time": "2022-09-29T10:11:32.084Z"
   },
   {
    "duration": 5,
    "start_time": "2022-09-29T10:11:33.108Z"
   },
   {
    "duration": 4,
    "start_time": "2022-09-29T10:11:34.333Z"
   },
   {
    "duration": 4,
    "start_time": "2022-09-29T10:11:35.310Z"
   },
   {
    "duration": 4,
    "start_time": "2022-09-29T10:15:24.687Z"
   },
   {
    "duration": 4,
    "start_time": "2022-09-29T10:15:25.489Z"
   },
   {
    "duration": 5,
    "start_time": "2022-09-29T10:15:26.216Z"
   },
   {
    "duration": 5,
    "start_time": "2022-09-29T10:15:29.811Z"
   },
   {
    "duration": 4,
    "start_time": "2022-09-29T10:15:31.541Z"
   },
   {
    "duration": 4,
    "start_time": "2022-09-29T10:15:33.105Z"
   },
   {
    "duration": 5,
    "start_time": "2022-09-29T11:36:52.662Z"
   },
   {
    "duration": 10,
    "start_time": "2022-09-29T11:42:18.021Z"
   },
   {
    "duration": 2,
    "start_time": "2022-09-29T11:42:32.303Z"
   },
   {
    "duration": 4,
    "start_time": "2022-09-29T11:43:27.124Z"
   },
   {
    "duration": 5,
    "start_time": "2022-09-29T11:43:31.349Z"
   },
   {
    "duration": 3,
    "start_time": "2022-09-29T11:43:32.359Z"
   },
   {
    "duration": 4,
    "start_time": "2022-09-29T11:44:43.047Z"
   },
   {
    "duration": 6,
    "start_time": "2022-09-29T11:47:00.121Z"
   },
   {
    "duration": 6,
    "start_time": "2022-09-29T11:47:20.787Z"
   },
   {
    "duration": 6,
    "start_time": "2022-09-29T11:47:40.707Z"
   },
   {
    "duration": 5,
    "start_time": "2022-09-29T11:48:13.751Z"
   },
   {
    "duration": 6,
    "start_time": "2022-09-29T11:48:24.537Z"
   },
   {
    "duration": 6,
    "start_time": "2022-09-29T11:48:32.824Z"
   },
   {
    "duration": 7,
    "start_time": "2022-09-29T11:49:19.921Z"
   },
   {
    "duration": 5,
    "start_time": "2022-09-29T11:49:51.420Z"
   },
   {
    "duration": 4,
    "start_time": "2022-09-29T11:58:46.988Z"
   },
   {
    "duration": 5,
    "start_time": "2022-09-29T11:58:51.385Z"
   },
   {
    "duration": 4,
    "start_time": "2022-09-29T12:00:12.888Z"
   },
   {
    "duration": 9,
    "start_time": "2022-09-29T12:00:15.271Z"
   },
   {
    "duration": 5,
    "start_time": "2022-09-29T12:00:29.682Z"
   },
   {
    "duration": 6,
    "start_time": "2022-09-29T12:00:34.257Z"
   },
   {
    "duration": 13,
    "start_time": "2022-09-29T12:02:29.200Z"
   },
   {
    "duration": 12,
    "start_time": "2022-09-29T12:02:55.368Z"
   },
   {
    "duration": 9,
    "start_time": "2022-09-29T12:51:12.040Z"
   },
   {
    "duration": 8,
    "start_time": "2022-09-29T12:51:17.387Z"
   },
   {
    "duration": 17,
    "start_time": "2022-09-29T12:53:09.233Z"
   },
   {
    "duration": 6,
    "start_time": "2022-09-29T12:55:24.570Z"
   },
   {
    "duration": 9,
    "start_time": "2022-09-29T12:55:39.895Z"
   },
   {
    "duration": 9,
    "start_time": "2022-09-29T12:55:42.551Z"
   },
   {
    "duration": 14,
    "start_time": "2022-09-29T12:55:45.955Z"
   },
   {
    "duration": 5,
    "start_time": "2022-09-29T12:55:56.385Z"
   },
   {
    "duration": 11,
    "start_time": "2022-09-29T12:56:00.140Z"
   },
   {
    "duration": 9,
    "start_time": "2022-09-29T12:56:18.252Z"
   },
   {
    "duration": 7,
    "start_time": "2022-09-29T13:13:01.561Z"
   },
   {
    "duration": 15,
    "start_time": "2022-09-29T13:14:54.831Z"
   },
   {
    "duration": 10,
    "start_time": "2022-09-29T13:15:07.667Z"
   },
   {
    "duration": 22,
    "start_time": "2022-09-29T13:15:32.097Z"
   },
   {
    "duration": 19,
    "start_time": "2022-09-29T13:16:01.110Z"
   },
   {
    "duration": 18,
    "start_time": "2022-09-29T13:16:50.453Z"
   },
   {
    "duration": 51,
    "start_time": "2022-09-30T10:07:37.358Z"
   },
   {
    "duration": 1681,
    "start_time": "2022-09-30T10:07:45.931Z"
   },
   {
    "duration": 103,
    "start_time": "2022-09-30T10:07:47.614Z"
   },
   {
    "duration": 12,
    "start_time": "2022-09-30T10:07:47.718Z"
   },
   {
    "duration": 3,
    "start_time": "2022-09-30T10:07:47.732Z"
   },
   {
    "duration": 7,
    "start_time": "2022-09-30T10:07:47.737Z"
   },
   {
    "duration": 31,
    "start_time": "2022-09-30T10:07:47.745Z"
   },
   {
    "duration": 5,
    "start_time": "2022-09-30T10:07:47.789Z"
   },
   {
    "duration": 11,
    "start_time": "2022-09-30T10:07:47.795Z"
   },
   {
    "duration": 5,
    "start_time": "2022-09-30T10:07:47.808Z"
   },
   {
    "duration": 5,
    "start_time": "2022-09-30T10:07:47.815Z"
   },
   {
    "duration": 8,
    "start_time": "2022-09-30T10:07:47.822Z"
   },
   {
    "duration": 3,
    "start_time": "2022-09-30T10:07:47.832Z"
   },
   {
    "duration": 10,
    "start_time": "2022-09-30T10:07:47.837Z"
   },
   {
    "duration": 47,
    "start_time": "2022-09-30T10:07:47.851Z"
   },
   {
    "duration": 633,
    "start_time": "2022-09-30T10:07:47.900Z"
   },
   {
    "duration": 4150,
    "start_time": "2022-09-30T10:07:48.535Z"
   },
   {
    "duration": 6,
    "start_time": "2022-09-30T10:07:52.687Z"
   },
   {
    "duration": 7,
    "start_time": "2022-09-30T10:07:52.695Z"
   },
   {
    "duration": 6,
    "start_time": "2022-09-30T10:07:52.703Z"
   },
   {
    "duration": 7,
    "start_time": "2022-09-30T10:07:52.710Z"
   },
   {
    "duration": 8,
    "start_time": "2022-09-30T10:07:52.718Z"
   },
   {
    "duration": 130,
    "start_time": "2022-09-30T10:07:52.728Z"
   },
   {
    "duration": 0,
    "start_time": "2022-09-30T10:07:52.860Z"
   },
   {
    "duration": 0,
    "start_time": "2022-09-30T10:07:52.861Z"
   },
   {
    "duration": 0,
    "start_time": "2022-09-30T10:07:52.862Z"
   },
   {
    "duration": 0,
    "start_time": "2022-09-30T10:07:52.863Z"
   },
   {
    "duration": 0,
    "start_time": "2022-09-30T10:07:52.864Z"
   },
   {
    "duration": 0,
    "start_time": "2022-09-30T10:07:52.866Z"
   },
   {
    "duration": 0,
    "start_time": "2022-09-30T10:07:52.867Z"
   },
   {
    "duration": 0,
    "start_time": "2022-09-30T10:07:52.868Z"
   },
   {
    "duration": 0,
    "start_time": "2022-09-30T10:07:52.869Z"
   },
   {
    "duration": 1566,
    "start_time": "2022-09-30T10:08:09.684Z"
   },
   {
    "duration": 42,
    "start_time": "2022-09-30T10:08:11.252Z"
   },
   {
    "duration": 13,
    "start_time": "2022-09-30T10:08:11.296Z"
   },
   {
    "duration": 4,
    "start_time": "2022-09-30T10:08:11.311Z"
   },
   {
    "duration": 6,
    "start_time": "2022-09-30T10:08:11.318Z"
   },
   {
    "duration": 28,
    "start_time": "2022-09-30T10:08:11.326Z"
   },
   {
    "duration": 5,
    "start_time": "2022-09-30T10:08:11.356Z"
   },
   {
    "duration": 32,
    "start_time": "2022-09-30T10:08:11.363Z"
   },
   {
    "duration": 10,
    "start_time": "2022-09-30T10:08:11.397Z"
   },
   {
    "duration": 13,
    "start_time": "2022-09-30T10:08:11.410Z"
   },
   {
    "duration": 11,
    "start_time": "2022-09-30T10:08:11.425Z"
   },
   {
    "duration": 4,
    "start_time": "2022-09-30T10:08:11.438Z"
   },
   {
    "duration": 17,
    "start_time": "2022-09-30T10:08:11.444Z"
   },
   {
    "duration": 16,
    "start_time": "2022-09-30T10:08:11.490Z"
   },
   {
    "duration": 732,
    "start_time": "2022-09-30T10:08:11.509Z"
   },
   {
    "duration": 3901,
    "start_time": "2022-09-30T10:08:12.244Z"
   },
   {
    "duration": 6,
    "start_time": "2022-09-30T10:08:16.147Z"
   },
   {
    "duration": 6,
    "start_time": "2022-09-30T10:08:16.155Z"
   },
   {
    "duration": 6,
    "start_time": "2022-09-30T10:08:16.163Z"
   },
   {
    "duration": 8,
    "start_time": "2022-09-30T10:08:16.172Z"
   },
   {
    "duration": 10,
    "start_time": "2022-09-30T10:08:16.182Z"
   },
   {
    "duration": 124,
    "start_time": "2022-09-30T10:08:16.194Z"
   },
   {
    "duration": 0,
    "start_time": "2022-09-30T10:08:16.320Z"
   },
   {
    "duration": 0,
    "start_time": "2022-09-30T10:08:16.321Z"
   },
   {
    "duration": 0,
    "start_time": "2022-09-30T10:08:16.322Z"
   },
   {
    "duration": 0,
    "start_time": "2022-09-30T10:08:16.322Z"
   },
   {
    "duration": 0,
    "start_time": "2022-09-30T10:08:16.324Z"
   },
   {
    "duration": 0,
    "start_time": "2022-09-30T10:08:16.325Z"
   },
   {
    "duration": 0,
    "start_time": "2022-09-30T10:08:16.326Z"
   },
   {
    "duration": 0,
    "start_time": "2022-09-30T10:08:16.327Z"
   },
   {
    "duration": 0,
    "start_time": "2022-09-30T10:08:16.328Z"
   },
   {
    "duration": 10,
    "start_time": "2022-09-30T10:09:01.538Z"
   },
   {
    "duration": 4,
    "start_time": "2022-09-30T10:09:15.979Z"
   },
   {
    "duration": 11,
    "start_time": "2022-09-30T10:09:19.621Z"
   },
   {
    "duration": 14,
    "start_time": "2022-09-30T10:10:22.078Z"
   },
   {
    "duration": 1510,
    "start_time": "2022-09-30T10:11:25.008Z"
   },
   {
    "duration": 41,
    "start_time": "2022-09-30T10:11:28.483Z"
   },
   {
    "duration": 13,
    "start_time": "2022-09-30T10:11:31.534Z"
   },
   {
    "duration": 4,
    "start_time": "2022-09-30T10:11:33.802Z"
   },
   {
    "duration": 4,
    "start_time": "2022-09-30T10:11:36.921Z"
   },
   {
    "duration": 28,
    "start_time": "2022-09-30T10:11:40.077Z"
   },
   {
    "duration": 4,
    "start_time": "2022-09-30T10:11:42.375Z"
   },
   {
    "duration": 4,
    "start_time": "2022-09-30T10:11:45.238Z"
   },
   {
    "duration": 5,
    "start_time": "2022-09-30T10:11:47.421Z"
   },
   {
    "duration": 5,
    "start_time": "2022-09-30T10:11:49.798Z"
   },
   {
    "duration": 10,
    "start_time": "2022-09-30T10:11:52.033Z"
   },
   {
    "duration": 6,
    "start_time": "2022-09-30T10:11:54.150Z"
   },
   {
    "duration": 9,
    "start_time": "2022-09-30T10:11:56.415Z"
   },
   {
    "duration": 12,
    "start_time": "2022-09-30T10:11:59.653Z"
   },
   {
    "duration": 711,
    "start_time": "2022-09-30T10:12:01.818Z"
   },
   {
    "duration": 3989,
    "start_time": "2022-09-30T10:12:06.612Z"
   },
   {
    "duration": 7,
    "start_time": "2022-09-30T10:12:15.878Z"
   },
   {
    "duration": 7,
    "start_time": "2022-09-30T10:12:17.713Z"
   },
   {
    "duration": 6,
    "start_time": "2022-09-30T10:12:19.814Z"
   },
   {
    "duration": 6,
    "start_time": "2022-09-30T10:12:29.415Z"
   },
   {
    "duration": 4,
    "start_time": "2022-09-30T10:12:33.037Z"
   },
   {
    "duration": 142,
    "start_time": "2022-09-30T10:12:38.957Z"
   },
   {
    "duration": 14,
    "start_time": "2022-09-30T10:13:07.961Z"
   },
   {
    "duration": 4,
    "start_time": "2022-09-30T10:13:40.670Z"
   },
   {
    "duration": 13,
    "start_time": "2022-09-30T10:13:45.713Z"
   },
   {
    "duration": 12,
    "start_time": "2022-09-30T10:14:25.923Z"
   },
   {
    "duration": 9,
    "start_time": "2022-09-30T10:15:05.808Z"
   },
   {
    "duration": 10,
    "start_time": "2022-09-30T10:15:48.410Z"
   },
   {
    "duration": 112,
    "start_time": "2022-09-30T10:15:58.906Z"
   },
   {
    "duration": 4,
    "start_time": "2022-09-30T10:16:05.178Z"
   },
   {
    "duration": 10,
    "start_time": "2022-09-30T10:16:10.809Z"
   },
   {
    "duration": 4,
    "start_time": "2022-09-30T10:16:37.803Z"
   },
   {
    "duration": 15,
    "start_time": "2022-09-30T10:16:41.521Z"
   },
   {
    "duration": 5,
    "start_time": "2022-09-30T10:16:51.851Z"
   },
   {
    "duration": 11,
    "start_time": "2022-09-30T10:16:54.312Z"
   },
   {
    "duration": 1502,
    "start_time": "2022-09-30T10:18:56.138Z"
   },
   {
    "duration": 43,
    "start_time": "2022-09-30T10:19:00.174Z"
   },
   {
    "duration": 13,
    "start_time": "2022-09-30T10:19:02.480Z"
   },
   {
    "duration": 4,
    "start_time": "2022-09-30T10:19:05.011Z"
   },
   {
    "duration": 5,
    "start_time": "2022-09-30T10:19:06.719Z"
   },
   {
    "duration": 38,
    "start_time": "2022-09-30T10:19:08.727Z"
   },
   {
    "duration": 6,
    "start_time": "2022-09-30T10:19:10.958Z"
   },
   {
    "duration": 6,
    "start_time": "2022-09-30T10:19:12.652Z"
   },
   {
    "duration": 5,
    "start_time": "2022-09-30T10:19:14.764Z"
   },
   {
    "duration": 6,
    "start_time": "2022-09-30T10:19:16.978Z"
   },
   {
    "duration": 28,
    "start_time": "2022-09-30T10:19:19.835Z"
   },
   {
    "duration": 5,
    "start_time": "2022-09-30T10:19:21.931Z"
   },
   {
    "duration": 9,
    "start_time": "2022-09-30T10:19:23.763Z"
   },
   {
    "duration": 11,
    "start_time": "2022-09-30T10:19:26.740Z"
   },
   {
    "duration": 604,
    "start_time": "2022-09-30T10:19:29.248Z"
   },
   {
    "duration": 3920,
    "start_time": "2022-09-30T10:19:33.449Z"
   },
   {
    "duration": 6,
    "start_time": "2022-09-30T10:19:41.218Z"
   },
   {
    "duration": 8,
    "start_time": "2022-09-30T10:19:43.010Z"
   },
   {
    "duration": 6,
    "start_time": "2022-09-30T10:19:44.616Z"
   },
   {
    "duration": 9,
    "start_time": "2022-09-30T10:19:50.714Z"
   },
   {
    "duration": 5,
    "start_time": "2022-09-30T10:19:53.603Z"
   },
   {
    "duration": 170,
    "start_time": "2022-09-30T10:19:57.734Z"
   },
   {
    "duration": 1678,
    "start_time": "2022-09-30T10:32:55.364Z"
   },
   {
    "duration": 47,
    "start_time": "2022-09-30T10:33:03.803Z"
   },
   {
    "duration": 17,
    "start_time": "2022-09-30T10:33:06.954Z"
   },
   {
    "duration": 6,
    "start_time": "2022-09-30T10:33:10.112Z"
   },
   {
    "duration": 5,
    "start_time": "2022-09-30T10:33:12.412Z"
   },
   {
    "duration": 39,
    "start_time": "2022-09-30T10:33:15.013Z"
   },
   {
    "duration": 6,
    "start_time": "2022-09-30T10:33:17.644Z"
   },
   {
    "duration": 5,
    "start_time": "2022-09-30T10:33:19.520Z"
   },
   {
    "duration": 7,
    "start_time": "2022-09-30T10:33:21.815Z"
   },
   {
    "duration": 5,
    "start_time": "2022-09-30T10:33:24.013Z"
   },
   {
    "duration": 9,
    "start_time": "2022-09-30T10:33:26.405Z"
   },
   {
    "duration": 5,
    "start_time": "2022-09-30T10:33:28.607Z"
   },
   {
    "duration": 11,
    "start_time": "2022-09-30T10:33:31.347Z"
   },
   {
    "duration": 11,
    "start_time": "2022-09-30T10:33:34.676Z"
   },
   {
    "duration": 663,
    "start_time": "2022-09-30T10:33:36.974Z"
   },
   {
    "duration": 4057,
    "start_time": "2022-09-30T10:33:41.440Z"
   },
   {
    "duration": 7,
    "start_time": "2022-09-30T10:33:49.632Z"
   },
   {
    "duration": 6,
    "start_time": "2022-09-30T10:33:51.104Z"
   },
   {
    "duration": 6,
    "start_time": "2022-09-30T10:33:52.716Z"
   },
   {
    "duration": 6,
    "start_time": "2022-09-30T10:33:57.303Z"
   },
   {
    "duration": 4,
    "start_time": "2022-09-30T10:34:10.719Z"
   },
   {
    "duration": 5,
    "start_time": "2022-09-30T10:34:17.900Z"
   },
   {
    "duration": 141,
    "start_time": "2022-09-30T10:34:23.322Z"
   },
   {
    "duration": 4,
    "start_time": "2022-09-30T10:35:19.364Z"
   },
   {
    "duration": 10,
    "start_time": "2022-09-30T10:35:26.177Z"
   },
   {
    "duration": 3,
    "start_time": "2022-09-30T10:35:38.105Z"
   },
   {
    "duration": 10,
    "start_time": "2022-09-30T10:35:43.714Z"
   },
   {
    "duration": 14,
    "start_time": "2022-09-30T10:36:11.724Z"
   },
   {
    "duration": 9,
    "start_time": "2022-09-30T10:36:22.396Z"
   },
   {
    "duration": 4,
    "start_time": "2022-09-30T10:36:43.707Z"
   },
   {
    "duration": 13,
    "start_time": "2022-09-30T10:36:48.177Z"
   },
   {
    "duration": 11,
    "start_time": "2022-09-30T10:36:59.095Z"
   },
   {
    "duration": 12,
    "start_time": "2022-09-30T10:37:10.960Z"
   },
   {
    "duration": 5,
    "start_time": "2022-09-30T10:37:29.911Z"
   },
   {
    "duration": 10,
    "start_time": "2022-09-30T10:39:37.877Z"
   },
   {
    "duration": 6,
    "start_time": "2022-09-30T10:39:45.879Z"
   },
   {
    "duration": 3,
    "start_time": "2022-09-30T10:39:58.854Z"
   },
   {
    "duration": 3,
    "start_time": "2022-09-30T10:40:20.212Z"
   },
   {
    "duration": 3,
    "start_time": "2022-09-30T10:41:09.410Z"
   },
   {
    "duration": 5,
    "start_time": "2022-09-30T10:41:27.857Z"
   },
   {
    "duration": 4,
    "start_time": "2022-09-30T10:41:37.013Z"
   },
   {
    "duration": 5,
    "start_time": "2022-09-30T10:41:38.951Z"
   },
   {
    "duration": 4,
    "start_time": "2022-09-30T10:43:21.166Z"
   },
   {
    "duration": 6,
    "start_time": "2022-09-30T10:43:25.518Z"
   },
   {
    "duration": 4,
    "start_time": "2022-09-30T10:43:47.472Z"
   },
   {
    "duration": 5,
    "start_time": "2022-09-30T10:44:14.449Z"
   },
   {
    "duration": 5,
    "start_time": "2022-09-30T10:44:27.240Z"
   },
   {
    "duration": 6,
    "start_time": "2022-09-30T10:44:41.936Z"
   },
   {
    "duration": 5,
    "start_time": "2022-09-30T10:44:50.312Z"
   },
   {
    "duration": 3,
    "start_time": "2022-09-30T10:44:59.701Z"
   },
   {
    "duration": 5,
    "start_time": "2022-09-30T10:45:19.518Z"
   },
   {
    "duration": 4,
    "start_time": "2022-09-30T10:45:52.714Z"
   },
   {
    "duration": 4,
    "start_time": "2022-09-30T10:46:42.425Z"
   },
   {
    "duration": 5,
    "start_time": "2022-09-30T10:46:46.869Z"
   },
   {
    "duration": 5,
    "start_time": "2022-09-30T10:47:08.758Z"
   },
   {
    "duration": 5,
    "start_time": "2022-09-30T10:47:11.383Z"
   },
   {
    "duration": 5,
    "start_time": "2022-09-30T10:47:16.760Z"
   },
   {
    "duration": 14,
    "start_time": "2022-09-30T10:47:35.422Z"
   },
   {
    "duration": 4,
    "start_time": "2022-09-30T10:47:48.817Z"
   },
   {
    "duration": 15,
    "start_time": "2022-09-30T10:47:50.730Z"
   },
   {
    "duration": 6,
    "start_time": "2022-09-30T10:48:01.501Z"
   },
   {
    "duration": 4,
    "start_time": "2022-09-30T10:49:11.471Z"
   },
   {
    "duration": 7,
    "start_time": "2022-09-30T10:49:13.348Z"
   },
   {
    "duration": 5,
    "start_time": "2022-09-30T10:49:57.533Z"
   },
   {
    "duration": 6,
    "start_time": "2022-09-30T10:49:59.715Z"
   },
   {
    "duration": 10,
    "start_time": "2022-09-30T10:50:34.413Z"
   },
   {
    "duration": 5,
    "start_time": "2022-09-30T10:51:45.073Z"
   },
   {
    "duration": 7,
    "start_time": "2022-09-30T10:51:47.112Z"
   },
   {
    "duration": 5,
    "start_time": "2022-09-30T10:52:00.754Z"
   },
   {
    "duration": 6,
    "start_time": "2022-09-30T10:52:10.664Z"
   },
   {
    "duration": 7,
    "start_time": "2022-09-30T10:52:20.568Z"
   },
   {
    "duration": 7,
    "start_time": "2022-09-30T10:52:23.144Z"
   },
   {
    "duration": 14,
    "start_time": "2022-09-30T10:52:33.585Z"
   },
   {
    "duration": 15,
    "start_time": "2022-09-30T10:53:05.811Z"
   },
   {
    "duration": 14,
    "start_time": "2022-09-30T10:53:19.107Z"
   },
   {
    "duration": 4,
    "start_time": "2022-09-30T10:53:32.185Z"
   },
   {
    "duration": 5,
    "start_time": "2022-09-30T10:53:50.870Z"
   },
   {
    "duration": 5,
    "start_time": "2022-09-30T10:54:03.486Z"
   },
   {
    "duration": 12,
    "start_time": "2022-09-30T10:54:17.559Z"
   },
   {
    "duration": 15,
    "start_time": "2022-09-30T10:54:48.381Z"
   },
   {
    "duration": 16,
    "start_time": "2022-09-30T10:54:52.111Z"
   },
   {
    "duration": 6,
    "start_time": "2022-09-30T10:55:02.810Z"
   },
   {
    "duration": 4,
    "start_time": "2022-09-30T10:55:10.222Z"
   },
   {
    "duration": 6,
    "start_time": "2022-09-30T10:55:12.114Z"
   },
   {
    "duration": 9,
    "start_time": "2022-09-30T10:55:15.716Z"
   },
   {
    "duration": 5,
    "start_time": "2022-09-30T10:57:23.429Z"
   },
   {
    "duration": 5,
    "start_time": "2022-09-30T10:57:25.636Z"
   },
   {
    "duration": 4,
    "start_time": "2022-09-30T10:58:15.921Z"
   },
   {
    "duration": 6,
    "start_time": "2022-09-30T10:58:18.257Z"
   },
   {
    "duration": 8,
    "start_time": "2022-09-30T10:58:57.635Z"
   },
   {
    "duration": 6,
    "start_time": "2022-09-30T10:59:47.669Z"
   },
   {
    "duration": 11,
    "start_time": "2022-09-30T11:00:33.257Z"
   },
   {
    "duration": 12,
    "start_time": "2022-09-30T11:00:36.316Z"
   },
   {
    "duration": 12,
    "start_time": "2022-09-30T11:01:02.135Z"
   },
   {
    "duration": 11,
    "start_time": "2022-09-30T11:01:04.377Z"
   },
   {
    "duration": 24,
    "start_time": "2022-09-30T11:01:07.128Z"
   },
   {
    "duration": 6,
    "start_time": "2022-09-30T11:01:27.325Z"
   },
   {
    "duration": 11,
    "start_time": "2022-09-30T11:01:29.221Z"
   },
   {
    "duration": 11,
    "start_time": "2022-09-30T11:01:35.071Z"
   },
   {
    "duration": 27,
    "start_time": "2022-09-30T11:01:49.746Z"
   },
   {
    "duration": 11,
    "start_time": "2022-09-30T11:05:38.125Z"
   },
   {
    "duration": 6,
    "start_time": "2022-09-30T11:05:43.853Z"
   },
   {
    "duration": 6,
    "start_time": "2022-09-30T11:06:27.705Z"
   },
   {
    "duration": 6,
    "start_time": "2022-09-30T11:11:56.841Z"
   },
   {
    "duration": 6,
    "start_time": "2022-09-30T11:12:00.020Z"
   },
   {
    "duration": 1467,
    "start_time": "2022-09-30T11:19:52.919Z"
   },
   {
    "duration": 42,
    "start_time": "2022-09-30T11:19:54.388Z"
   },
   {
    "duration": 12,
    "start_time": "2022-09-30T11:19:54.431Z"
   },
   {
    "duration": 15,
    "start_time": "2022-09-30T11:19:54.445Z"
   },
   {
    "duration": 13,
    "start_time": "2022-09-30T11:19:54.462Z"
   },
   {
    "duration": 46,
    "start_time": "2022-09-30T11:19:54.476Z"
   },
   {
    "duration": 5,
    "start_time": "2022-09-30T11:19:54.524Z"
   },
   {
    "duration": 11,
    "start_time": "2022-09-30T11:19:54.531Z"
   },
   {
    "duration": 11,
    "start_time": "2022-09-30T11:19:54.544Z"
   },
   {
    "duration": 8,
    "start_time": "2022-09-30T11:19:54.558Z"
   },
   {
    "duration": 12,
    "start_time": "2022-09-30T11:19:54.568Z"
   },
   {
    "duration": 9,
    "start_time": "2022-09-30T11:19:54.582Z"
   },
   {
    "duration": 13,
    "start_time": "2022-09-30T11:19:54.593Z"
   },
   {
    "duration": 28,
    "start_time": "2022-09-30T11:19:54.608Z"
   },
   {
    "duration": 615,
    "start_time": "2022-09-30T11:19:54.638Z"
   },
   {
    "duration": 3769,
    "start_time": "2022-09-30T11:19:55.255Z"
   },
   {
    "duration": 6,
    "start_time": "2022-09-30T11:19:59.026Z"
   },
   {
    "duration": 10,
    "start_time": "2022-09-30T11:19:59.033Z"
   },
   {
    "duration": 8,
    "start_time": "2022-09-30T11:19:59.044Z"
   },
   {
    "duration": 8,
    "start_time": "2022-09-30T11:19:59.053Z"
   },
   {
    "duration": 6,
    "start_time": "2022-09-30T11:19:59.063Z"
   },
   {
    "duration": 18,
    "start_time": "2022-09-30T11:19:59.071Z"
   },
   {
    "duration": 101,
    "start_time": "2022-09-30T11:19:59.091Z"
   },
   {
    "duration": 99,
    "start_time": "2022-09-30T11:19:59.194Z"
   },
   {
    "duration": 105,
    "start_time": "2022-09-30T11:19:59.295Z"
   },
   {
    "duration": 18,
    "start_time": "2022-09-30T11:19:59.488Z"
   },
   {
    "duration": 18,
    "start_time": "2022-09-30T11:19:59.508Z"
   },
   {
    "duration": 6,
    "start_time": "2022-09-30T11:19:59.528Z"
   },
   {
    "duration": 12,
    "start_time": "2022-09-30T11:19:59.535Z"
   },
   {
    "duration": 8,
    "start_time": "2022-09-30T11:19:59.548Z"
   },
   {
    "duration": 52,
    "start_time": "2022-09-30T11:19:59.558Z"
   },
   {
    "duration": 82,
    "start_time": "2022-09-30T11:19:59.612Z"
   }
  ],
  "kernelspec": {
   "display_name": "Python 3 (ipykernel)",
   "language": "python",
   "name": "python3"
  },
  "language_info": {
   "codemirror_mode": {
    "name": "ipython",
    "version": 3
   },
   "file_extension": ".py",
   "mimetype": "text/x-python",
   "name": "python",
   "nbconvert_exporter": "python",
   "pygments_lexer": "ipython3",
   "version": "3.9.12"
  },
  "toc": {
   "base_numbering": 1,
   "nav_menu": {},
   "number_sections": true,
   "sideBar": true,
   "skip_h1_title": true,
   "title_cell": "Содержание",
   "title_sidebar": "Contents",
   "toc_cell": true,
   "toc_position": {},
   "toc_section_display": true,
   "toc_window_display": true
  }
 },
 "nbformat": 4,
 "nbformat_minor": 2
}
