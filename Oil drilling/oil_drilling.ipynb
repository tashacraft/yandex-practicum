{
 "cells": [
  {
   "cell_type": "markdown",
   "metadata": {},
   "source": [
    "# Выбор локации для скважины"
   ]
  },
  {
   "cell_type": "markdown",
   "metadata": {},
   "source": [
    "Мы работаем в добывающей компании «ГлавРосГосНефть». Нужно решить, где бурить новую скважину.\n",
    "\n",
    "Нам предоставлены пробы нефти в трёх регионах: в каждом 100 000 месторождений, где измерили качество нефти и объём её запасов. Нужно построить модель машинного обучения, которая поможет определить регион, где добыча принесёт наибольшую прибыль.\n",
    "\n",
    "Шаги для выбора локации:\n",
    "\n",
    "- В избранном регионе ищут месторождения, для каждого определяют значения признаков.\n",
    "- Строят модель и оценивают объём запасов.\n",
    "- Выбирают месторождения с самым высокими оценками значений. Количество месторождений зависит от бюджета компании и стоимости разработки одной скважины.\n",
    "- Прибыль равна суммарной прибыли отобранных месторождений.\n",
    "\n",
    "План проекта:\n",
    "- загрузить и подготовить данные для анализа\n",
    "- разбить данные на обучающую и валидационную выборки\n",
    "- обучить и проверить модели Линейной регрессии для каждого региона\n",
    "- посчитать средний запас предсказанного сырья и RMSE модели\n",
    "- рассчитать достаточный объём сырья для безубыточной разработки новой скважины и сравнить полученный объём сырья со средним запасом в каждом регионе\n",
    "- написать функцию для расчёта прибыли по выбранным скважинам и предсказаниям модели\n",
    "- посчитать риски и прибыль для каждого региона:\n",
    "    - применить технику Bootstrap с 1000 выборок, чтобы найти распределение прибыли\n",
    "    - найти среднюю прибыль, 95%-й доверительный интервал и риск убытков (отрицательную прибыль)\n",
    "- предложить регион для разработки скважин\n",
    "\n",
    "Условия задачи:\n",
    "1. Для обучения модели подходит только линейная регрессия (остальные — недостаточно предсказуемые).\n",
    "2. При разведке региона исследуют 500 точек, из которых с помощью машинного обучения выбирают 200 лучших для разработки.\n",
    "3. Бюджет на разработку скважин в регионе — 10 млрд рублей.\n",
    "4. При нынешних ценах один баррель сырья приносит 450 рублей дохода. Доход с каждой единицы продукта составляет 450 тыс. рублей, поскольку объём указан в тысячах баррелей.\n",
    "5. После оценки рисков нужно оставить лишь те регионы, в которых вероятность убытков меньше 2.5%. Среди них выбирают регион с наибольшей средней прибылью.\n",
    "\n",
    "Описание данных:\n",
    "- данные геологоразведки трёх регионов находятся в трех файлах\n",
    "- id — уникальный идентификатор скважины\n",
    "- f0, f1, f2 — три признака точек (неважно, что они означают, но сами признаки значимы)\n",
    "- product — объём запасов в скважине (тыс. баррелей)"
   ]
  },
  {
   "cell_type": "markdown",
   "metadata": {
    "toc": true
   },
   "source": [
    "<h1>Содержание<span class=\"tocSkip\"></span></h1>\n",
    "<div class=\"toc\"><ul class=\"toc-item\"><li><span><a href=\"#Загрузка-и-подготовка-данных\" data-toc-modified-id=\"Загрузка-и-подготовка-данных-1\"><span class=\"toc-item-num\">1&nbsp;&nbsp;</span>Загрузка и подготовка данных</a></span><ul class=\"toc-item\"><li><span><a href=\"#Изучение-данных\" data-toc-modified-id=\"Изучение-данных-1.1\"><span class=\"toc-item-num\">1.1&nbsp;&nbsp;</span>Изучение данных</a></span></li><li><span><a href=\"#Разбитие-данных-на-выборки\" data-toc-modified-id=\"Разбитие-данных-на-выборки-1.2\"><span class=\"toc-item-num\">1.2&nbsp;&nbsp;</span>Разбитие данных на выборки</a></span></li><li><span><a href=\"#Масштабирование-признаков\" data-toc-modified-id=\"Масштабирование-признаков-1.3\"><span class=\"toc-item-num\">1.3&nbsp;&nbsp;</span>Масштабирование признаков</a></span></li></ul></li><li><span><a href=\"#Обучение-и-проверка-модели\" data-toc-modified-id=\"Обучение-и-проверка-модели-2\"><span class=\"toc-item-num\">2&nbsp;&nbsp;</span>Обучение и проверка модели</a></span><ul class=\"toc-item\"><li><span><a href=\"#Обучение-модели\" data-toc-modified-id=\"Обучение-модели-2.1\"><span class=\"toc-item-num\">2.1&nbsp;&nbsp;</span>Обучение модели</a></span></li><li><span><a href=\"#Проверка-модели\" data-toc-modified-id=\"Проверка-модели-2.2\"><span class=\"toc-item-num\">2.2&nbsp;&nbsp;</span>Проверка модели</a></span></li></ul></li><li><span><a href=\"#Подготовка-к-расчёту-прибыли\" data-toc-modified-id=\"Подготовка-к-расчёту-прибыли-3\"><span class=\"toc-item-num\">3&nbsp;&nbsp;</span>Подготовка к расчёту прибыли</a></span></li><li><span><a href=\"#Расчёт-прибыли-и-рисков\" data-toc-modified-id=\"Расчёт-прибыли-и-рисков-4\"><span class=\"toc-item-num\">4&nbsp;&nbsp;</span>Расчёт прибыли и рисков</a></span></li><li><span><a href=\"#Выводы\" data-toc-modified-id=\"Выводы-5\"><span class=\"toc-item-num\">5&nbsp;&nbsp;</span>Выводы</a></span></li></ul></div>"
   ]
  },
  {
   "cell_type": "markdown",
   "metadata": {},
   "source": [
    "## Загрузка и подготовка данных"
   ]
  },
  {
   "cell_type": "markdown",
   "metadata": {},
   "source": [
    "### Изучение данных"
   ]
  },
  {
   "cell_type": "markdown",
   "metadata": {},
   "source": [
    "Подключим все необходимые библиотеки и функции. Загрузим файлы и изучим данные."
   ]
  },
  {
   "cell_type": "code",
   "execution_count": 1,
   "metadata": {},
   "outputs": [],
   "source": [
    "import pandas as pd\n",
    "import numpy as np\n",
    "\n",
    "# для разделения выборки на обучающую и валидационную\n",
    "from sklearn.model_selection import train_test_split\n",
    "# для масштабирования признаков\n",
    "from sklearn.preprocessing import StandardScaler\n",
    "\n",
    "# для модели Линейная регрессия\n",
    "from sklearn.linear_model import LinearRegression\n",
    "# для метрики RMSE\n",
    "from sklearn.metrics import mean_squared_error"
   ]
  },
  {
   "cell_type": "code",
   "execution_count": 2,
   "metadata": {},
   "outputs": [
    {
     "data": {
      "text/html": [
       "<div>\n",
       "<style scoped>\n",
       "    .dataframe tbody tr th:only-of-type {\n",
       "        vertical-align: middle;\n",
       "    }\n",
       "\n",
       "    .dataframe tbody tr th {\n",
       "        vertical-align: top;\n",
       "    }\n",
       "\n",
       "    .dataframe thead th {\n",
       "        text-align: right;\n",
       "    }\n",
       "</style>\n",
       "<table border=\"1\" class=\"dataframe\">\n",
       "  <thead>\n",
       "    <tr style=\"text-align: right;\">\n",
       "      <th></th>\n",
       "      <th>id</th>\n",
       "      <th>f0</th>\n",
       "      <th>f1</th>\n",
       "      <th>f2</th>\n",
       "      <th>product</th>\n",
       "    </tr>\n",
       "  </thead>\n",
       "  <tbody>\n",
       "    <tr>\n",
       "      <th>0</th>\n",
       "      <td>txEyH</td>\n",
       "      <td>0.705745</td>\n",
       "      <td>-0.497823</td>\n",
       "      <td>1.221170</td>\n",
       "      <td>105.280062</td>\n",
       "    </tr>\n",
       "    <tr>\n",
       "      <th>1</th>\n",
       "      <td>2acmU</td>\n",
       "      <td>1.334711</td>\n",
       "      <td>-0.340164</td>\n",
       "      <td>4.365080</td>\n",
       "      <td>73.037750</td>\n",
       "    </tr>\n",
       "    <tr>\n",
       "      <th>2</th>\n",
       "      <td>409Wp</td>\n",
       "      <td>1.022732</td>\n",
       "      <td>0.151990</td>\n",
       "      <td>1.419926</td>\n",
       "      <td>85.265647</td>\n",
       "    </tr>\n",
       "    <tr>\n",
       "      <th>3</th>\n",
       "      <td>iJLyR</td>\n",
       "      <td>-0.032172</td>\n",
       "      <td>0.139033</td>\n",
       "      <td>2.978566</td>\n",
       "      <td>168.620776</td>\n",
       "    </tr>\n",
       "    <tr>\n",
       "      <th>4</th>\n",
       "      <td>Xdl7t</td>\n",
       "      <td>1.988431</td>\n",
       "      <td>0.155413</td>\n",
       "      <td>4.751769</td>\n",
       "      <td>154.036647</td>\n",
       "    </tr>\n",
       "  </tbody>\n",
       "</table>\n",
       "</div>"
      ],
      "text/plain": [
       "      id        f0        f1        f2     product\n",
       "0  txEyH  0.705745 -0.497823  1.221170  105.280062\n",
       "1  2acmU  1.334711 -0.340164  4.365080   73.037750\n",
       "2  409Wp  1.022732  0.151990  1.419926   85.265647\n",
       "3  iJLyR -0.032172  0.139033  2.978566  168.620776\n",
       "4  Xdl7t  1.988431  0.155413  4.751769  154.036647"
      ]
     },
     "execution_count": 2,
     "metadata": {},
     "output_type": "execute_result"
    }
   ],
   "source": [
    "data1 = pd.read_csv('/datasets/geo_data_0.csv')\n",
    "data2 = pd.read_csv('/datasets/geo_data_1.csv')\n",
    "data3 = pd.read_csv('/datasets/geo_data_2.csv')\n",
    "data1.head()"
   ]
  },
  {
   "cell_type": "code",
   "execution_count": 3,
   "metadata": {},
   "outputs": [
    {
     "data": {
      "text/html": [
       "<div>\n",
       "<style scoped>\n",
       "    .dataframe tbody tr th:only-of-type {\n",
       "        vertical-align: middle;\n",
       "    }\n",
       "\n",
       "    .dataframe tbody tr th {\n",
       "        vertical-align: top;\n",
       "    }\n",
       "\n",
       "    .dataframe thead th {\n",
       "        text-align: right;\n",
       "    }\n",
       "</style>\n",
       "<table border=\"1\" class=\"dataframe\">\n",
       "  <thead>\n",
       "    <tr style=\"text-align: right;\">\n",
       "      <th></th>\n",
       "      <th>id</th>\n",
       "      <th>f0</th>\n",
       "      <th>f1</th>\n",
       "      <th>f2</th>\n",
       "      <th>product</th>\n",
       "    </tr>\n",
       "  </thead>\n",
       "  <tbody>\n",
       "    <tr>\n",
       "      <th>0</th>\n",
       "      <td>kBEdx</td>\n",
       "      <td>-15.001348</td>\n",
       "      <td>-8.276000</td>\n",
       "      <td>-0.005876</td>\n",
       "      <td>3.179103</td>\n",
       "    </tr>\n",
       "    <tr>\n",
       "      <th>1</th>\n",
       "      <td>62mP7</td>\n",
       "      <td>14.272088</td>\n",
       "      <td>-3.475083</td>\n",
       "      <td>0.999183</td>\n",
       "      <td>26.953261</td>\n",
       "    </tr>\n",
       "    <tr>\n",
       "      <th>2</th>\n",
       "      <td>vyE1P</td>\n",
       "      <td>6.263187</td>\n",
       "      <td>-5.948386</td>\n",
       "      <td>5.001160</td>\n",
       "      <td>134.766305</td>\n",
       "    </tr>\n",
       "    <tr>\n",
       "      <th>3</th>\n",
       "      <td>KcrkZ</td>\n",
       "      <td>-13.081196</td>\n",
       "      <td>-11.506057</td>\n",
       "      <td>4.999415</td>\n",
       "      <td>137.945408</td>\n",
       "    </tr>\n",
       "    <tr>\n",
       "      <th>4</th>\n",
       "      <td>AHL4O</td>\n",
       "      <td>12.702195</td>\n",
       "      <td>-8.147433</td>\n",
       "      <td>5.004363</td>\n",
       "      <td>134.766305</td>\n",
       "    </tr>\n",
       "  </tbody>\n",
       "</table>\n",
       "</div>"
      ],
      "text/plain": [
       "      id         f0         f1        f2     product\n",
       "0  kBEdx -15.001348  -8.276000 -0.005876    3.179103\n",
       "1  62mP7  14.272088  -3.475083  0.999183   26.953261\n",
       "2  vyE1P   6.263187  -5.948386  5.001160  134.766305\n",
       "3  KcrkZ -13.081196 -11.506057  4.999415  137.945408\n",
       "4  AHL4O  12.702195  -8.147433  5.004363  134.766305"
      ]
     },
     "execution_count": 3,
     "metadata": {},
     "output_type": "execute_result"
    }
   ],
   "source": [
    "data2.head()"
   ]
  },
  {
   "cell_type": "code",
   "execution_count": 4,
   "metadata": {},
   "outputs": [
    {
     "data": {
      "text/html": [
       "<div>\n",
       "<style scoped>\n",
       "    .dataframe tbody tr th:only-of-type {\n",
       "        vertical-align: middle;\n",
       "    }\n",
       "\n",
       "    .dataframe tbody tr th {\n",
       "        vertical-align: top;\n",
       "    }\n",
       "\n",
       "    .dataframe thead th {\n",
       "        text-align: right;\n",
       "    }\n",
       "</style>\n",
       "<table border=\"1\" class=\"dataframe\">\n",
       "  <thead>\n",
       "    <tr style=\"text-align: right;\">\n",
       "      <th></th>\n",
       "      <th>id</th>\n",
       "      <th>f0</th>\n",
       "      <th>f1</th>\n",
       "      <th>f2</th>\n",
       "      <th>product</th>\n",
       "    </tr>\n",
       "  </thead>\n",
       "  <tbody>\n",
       "    <tr>\n",
       "      <th>0</th>\n",
       "      <td>fwXo0</td>\n",
       "      <td>-1.146987</td>\n",
       "      <td>0.963328</td>\n",
       "      <td>-0.828965</td>\n",
       "      <td>27.758673</td>\n",
       "    </tr>\n",
       "    <tr>\n",
       "      <th>1</th>\n",
       "      <td>WJtFt</td>\n",
       "      <td>0.262778</td>\n",
       "      <td>0.269839</td>\n",
       "      <td>-2.530187</td>\n",
       "      <td>56.069697</td>\n",
       "    </tr>\n",
       "    <tr>\n",
       "      <th>2</th>\n",
       "      <td>ovLUW</td>\n",
       "      <td>0.194587</td>\n",
       "      <td>0.289035</td>\n",
       "      <td>-5.586433</td>\n",
       "      <td>62.871910</td>\n",
       "    </tr>\n",
       "    <tr>\n",
       "      <th>3</th>\n",
       "      <td>q6cA6</td>\n",
       "      <td>2.236060</td>\n",
       "      <td>-0.553760</td>\n",
       "      <td>0.930038</td>\n",
       "      <td>114.572842</td>\n",
       "    </tr>\n",
       "    <tr>\n",
       "      <th>4</th>\n",
       "      <td>WPMUX</td>\n",
       "      <td>-0.515993</td>\n",
       "      <td>1.716266</td>\n",
       "      <td>5.899011</td>\n",
       "      <td>149.600746</td>\n",
       "    </tr>\n",
       "  </tbody>\n",
       "</table>\n",
       "</div>"
      ],
      "text/plain": [
       "      id        f0        f1        f2     product\n",
       "0  fwXo0 -1.146987  0.963328 -0.828965   27.758673\n",
       "1  WJtFt  0.262778  0.269839 -2.530187   56.069697\n",
       "2  ovLUW  0.194587  0.289035 -5.586433   62.871910\n",
       "3  q6cA6  2.236060 -0.553760  0.930038  114.572842\n",
       "4  WPMUX -0.515993  1.716266  5.899011  149.600746"
      ]
     },
     "execution_count": 4,
     "metadata": {},
     "output_type": "execute_result"
    }
   ],
   "source": [
    "data3.head()"
   ]
  },
  {
   "cell_type": "markdown",
   "metadata": {},
   "source": [
    "Нам нужно определить регион, где добыча принесёт наибольшую прибыль. Следовательно перед нами задача регрессии.\n",
    "\n",
    "Рассмотрим подробную информацию о данных во всех файлах: количество записей, столбцов, пропусков, типы данных."
   ]
  },
  {
   "cell_type": "code",
   "execution_count": 5,
   "metadata": {},
   "outputs": [
    {
     "name": "stdout",
     "output_type": "stream",
     "text": [
      "<class 'pandas.core.frame.DataFrame'>\n",
      "RangeIndex: 100000 entries, 0 to 99999\n",
      "Data columns (total 5 columns):\n",
      " #   Column   Non-Null Count   Dtype  \n",
      "---  ------   --------------   -----  \n",
      " 0   id       100000 non-null  object \n",
      " 1   f0       100000 non-null  float64\n",
      " 2   f1       100000 non-null  float64\n",
      " 3   f2       100000 non-null  float64\n",
      " 4   product  100000 non-null  float64\n",
      "dtypes: float64(4), object(1)\n",
      "memory usage: 3.8+ MB\n"
     ]
    }
   ],
   "source": [
    "data1.info()"
   ]
  },
  {
   "cell_type": "code",
   "execution_count": 6,
   "metadata": {},
   "outputs": [
    {
     "name": "stdout",
     "output_type": "stream",
     "text": [
      "<class 'pandas.core.frame.DataFrame'>\n",
      "RangeIndex: 100000 entries, 0 to 99999\n",
      "Data columns (total 5 columns):\n",
      " #   Column   Non-Null Count   Dtype  \n",
      "---  ------   --------------   -----  \n",
      " 0   id       100000 non-null  object \n",
      " 1   f0       100000 non-null  float64\n",
      " 2   f1       100000 non-null  float64\n",
      " 3   f2       100000 non-null  float64\n",
      " 4   product  100000 non-null  float64\n",
      "dtypes: float64(4), object(1)\n",
      "memory usage: 3.8+ MB\n"
     ]
    }
   ],
   "source": [
    "data2.info()"
   ]
  },
  {
   "cell_type": "code",
   "execution_count": 7,
   "metadata": {},
   "outputs": [
    {
     "name": "stdout",
     "output_type": "stream",
     "text": [
      "<class 'pandas.core.frame.DataFrame'>\n",
      "RangeIndex: 100000 entries, 0 to 99999\n",
      "Data columns (total 5 columns):\n",
      " #   Column   Non-Null Count   Dtype  \n",
      "---  ------   --------------   -----  \n",
      " 0   id       100000 non-null  object \n",
      " 1   f0       100000 non-null  float64\n",
      " 2   f1       100000 non-null  float64\n",
      " 3   f2       100000 non-null  float64\n",
      " 4   product  100000 non-null  float64\n",
      "dtypes: float64(4), object(1)\n",
      "memory usage: 3.8+ MB\n"
     ]
    }
   ],
   "source": [
    "data3.info()"
   ]
  },
  {
   "cell_type": "markdown",
   "metadata": {},
   "source": [
    "Во всех трех файлах одинаковое количество строк, ячеек, одинаковые типы данных и названия столбцов, пропусков нет.\n",
    "\n",
    "Столбцы 'id' не несут никакой ценности для обучения модели, удалим их, предварительно проверив на наличие дубликатов (их нет)."
   ]
  },
  {
   "cell_type": "code",
   "execution_count": 8,
   "metadata": {},
   "outputs": [
    {
     "name": "stdout",
     "output_type": "stream",
     "text": [
      "0\n",
      "0\n",
      "0\n"
     ]
    }
   ],
   "source": [
    "# проверка на дубликаты\n",
    "print(data1.duplicated().sum())\n",
    "print(data2.duplicated().sum())\n",
    "print(data3.duplicated().sum())"
   ]
  },
  {
   "cell_type": "code",
   "execution_count": 9,
   "metadata": {},
   "outputs": [],
   "source": [
    "data1.drop(['id'], axis = 1, inplace= True)\n",
    "data2.drop(['id'], axis = 1, inplace= True)\n",
    "data3.drop(['id'], axis = 1, inplace= True)"
   ]
  },
  {
   "cell_type": "code",
   "execution_count": 10,
   "metadata": {},
   "outputs": [
    {
     "data": {
      "text/html": [
       "<div>\n",
       "<style scoped>\n",
       "    .dataframe tbody tr th:only-of-type {\n",
       "        vertical-align: middle;\n",
       "    }\n",
       "\n",
       "    .dataframe tbody tr th {\n",
       "        vertical-align: top;\n",
       "    }\n",
       "\n",
       "    .dataframe thead th {\n",
       "        text-align: right;\n",
       "    }\n",
       "</style>\n",
       "<table border=\"1\" class=\"dataframe\">\n",
       "  <thead>\n",
       "    <tr style=\"text-align: right;\">\n",
       "      <th></th>\n",
       "      <th>count</th>\n",
       "      <th>mean</th>\n",
       "      <th>std</th>\n",
       "      <th>min</th>\n",
       "      <th>25%</th>\n",
       "      <th>50%</th>\n",
       "      <th>75%</th>\n",
       "      <th>max</th>\n",
       "    </tr>\n",
       "  </thead>\n",
       "  <tbody>\n",
       "    <tr>\n",
       "      <th>f0</th>\n",
       "      <td>100000.0</td>\n",
       "      <td>0.500419</td>\n",
       "      <td>0.871832</td>\n",
       "      <td>-1.408605</td>\n",
       "      <td>-0.072580</td>\n",
       "      <td>0.502360</td>\n",
       "      <td>1.073581</td>\n",
       "      <td>2.362331</td>\n",
       "    </tr>\n",
       "    <tr>\n",
       "      <th>f1</th>\n",
       "      <td>100000.0</td>\n",
       "      <td>0.250143</td>\n",
       "      <td>0.504433</td>\n",
       "      <td>-0.848218</td>\n",
       "      <td>-0.200881</td>\n",
       "      <td>0.250252</td>\n",
       "      <td>0.700646</td>\n",
       "      <td>1.343769</td>\n",
       "    </tr>\n",
       "    <tr>\n",
       "      <th>f2</th>\n",
       "      <td>100000.0</td>\n",
       "      <td>2.502647</td>\n",
       "      <td>3.248248</td>\n",
       "      <td>-12.088328</td>\n",
       "      <td>0.287748</td>\n",
       "      <td>2.515969</td>\n",
       "      <td>4.715088</td>\n",
       "      <td>16.003790</td>\n",
       "    </tr>\n",
       "    <tr>\n",
       "      <th>product</th>\n",
       "      <td>100000.0</td>\n",
       "      <td>92.500000</td>\n",
       "      <td>44.288691</td>\n",
       "      <td>0.000000</td>\n",
       "      <td>56.497507</td>\n",
       "      <td>91.849972</td>\n",
       "      <td>128.564089</td>\n",
       "      <td>185.364347</td>\n",
       "    </tr>\n",
       "  </tbody>\n",
       "</table>\n",
       "</div>"
      ],
      "text/plain": [
       "            count       mean        std        min        25%        50%  \\\n",
       "f0       100000.0   0.500419   0.871832  -1.408605  -0.072580   0.502360   \n",
       "f1       100000.0   0.250143   0.504433  -0.848218  -0.200881   0.250252   \n",
       "f2       100000.0   2.502647   3.248248 -12.088328   0.287748   2.515969   \n",
       "product  100000.0  92.500000  44.288691   0.000000  56.497507  91.849972   \n",
       "\n",
       "                75%         max  \n",
       "f0         1.073581    2.362331  \n",
       "f1         0.700646    1.343769  \n",
       "f2         4.715088   16.003790  \n",
       "product  128.564089  185.364347  "
      ]
     },
     "execution_count": 10,
     "metadata": {},
     "output_type": "execute_result"
    }
   ],
   "source": [
    "data1.describe().T"
   ]
  },
  {
   "cell_type": "code",
   "execution_count": 11,
   "metadata": {},
   "outputs": [
    {
     "data": {
      "text/html": [
       "<div>\n",
       "<style scoped>\n",
       "    .dataframe tbody tr th:only-of-type {\n",
       "        vertical-align: middle;\n",
       "    }\n",
       "\n",
       "    .dataframe tbody tr th {\n",
       "        vertical-align: top;\n",
       "    }\n",
       "\n",
       "    .dataframe thead th {\n",
       "        text-align: right;\n",
       "    }\n",
       "</style>\n",
       "<table border=\"1\" class=\"dataframe\">\n",
       "  <thead>\n",
       "    <tr style=\"text-align: right;\">\n",
       "      <th></th>\n",
       "      <th>count</th>\n",
       "      <th>mean</th>\n",
       "      <th>std</th>\n",
       "      <th>min</th>\n",
       "      <th>25%</th>\n",
       "      <th>50%</th>\n",
       "      <th>75%</th>\n",
       "      <th>max</th>\n",
       "    </tr>\n",
       "  </thead>\n",
       "  <tbody>\n",
       "    <tr>\n",
       "      <th>f0</th>\n",
       "      <td>100000.0</td>\n",
       "      <td>1.141296</td>\n",
       "      <td>8.965932</td>\n",
       "      <td>-31.609576</td>\n",
       "      <td>-6.298551</td>\n",
       "      <td>1.153055</td>\n",
       "      <td>8.621015</td>\n",
       "      <td>29.421755</td>\n",
       "    </tr>\n",
       "    <tr>\n",
       "      <th>f1</th>\n",
       "      <td>100000.0</td>\n",
       "      <td>-4.796579</td>\n",
       "      <td>5.119872</td>\n",
       "      <td>-26.358598</td>\n",
       "      <td>-8.267985</td>\n",
       "      <td>-4.813172</td>\n",
       "      <td>-1.332816</td>\n",
       "      <td>18.734063</td>\n",
       "    </tr>\n",
       "    <tr>\n",
       "      <th>f2</th>\n",
       "      <td>100000.0</td>\n",
       "      <td>2.494541</td>\n",
       "      <td>1.703572</td>\n",
       "      <td>-0.018144</td>\n",
       "      <td>1.000021</td>\n",
       "      <td>2.011479</td>\n",
       "      <td>3.999904</td>\n",
       "      <td>5.019721</td>\n",
       "    </tr>\n",
       "    <tr>\n",
       "      <th>product</th>\n",
       "      <td>100000.0</td>\n",
       "      <td>68.825000</td>\n",
       "      <td>45.944423</td>\n",
       "      <td>0.000000</td>\n",
       "      <td>26.953261</td>\n",
       "      <td>57.085625</td>\n",
       "      <td>107.813044</td>\n",
       "      <td>137.945408</td>\n",
       "    </tr>\n",
       "  </tbody>\n",
       "</table>\n",
       "</div>"
      ],
      "text/plain": [
       "            count       mean        std        min        25%        50%  \\\n",
       "f0       100000.0   1.141296   8.965932 -31.609576  -6.298551   1.153055   \n",
       "f1       100000.0  -4.796579   5.119872 -26.358598  -8.267985  -4.813172   \n",
       "f2       100000.0   2.494541   1.703572  -0.018144   1.000021   2.011479   \n",
       "product  100000.0  68.825000  45.944423   0.000000  26.953261  57.085625   \n",
       "\n",
       "                75%         max  \n",
       "f0         8.621015   29.421755  \n",
       "f1        -1.332816   18.734063  \n",
       "f2         3.999904    5.019721  \n",
       "product  107.813044  137.945408  "
      ]
     },
     "execution_count": 11,
     "metadata": {},
     "output_type": "execute_result"
    }
   ],
   "source": [
    "data2.describe().T"
   ]
  },
  {
   "cell_type": "code",
   "execution_count": 12,
   "metadata": {},
   "outputs": [
    {
     "data": {
      "text/html": [
       "<div>\n",
       "<style scoped>\n",
       "    .dataframe tbody tr th:only-of-type {\n",
       "        vertical-align: middle;\n",
       "    }\n",
       "\n",
       "    .dataframe tbody tr th {\n",
       "        vertical-align: top;\n",
       "    }\n",
       "\n",
       "    .dataframe thead th {\n",
       "        text-align: right;\n",
       "    }\n",
       "</style>\n",
       "<table border=\"1\" class=\"dataframe\">\n",
       "  <thead>\n",
       "    <tr style=\"text-align: right;\">\n",
       "      <th></th>\n",
       "      <th>count</th>\n",
       "      <th>mean</th>\n",
       "      <th>std</th>\n",
       "      <th>min</th>\n",
       "      <th>25%</th>\n",
       "      <th>50%</th>\n",
       "      <th>75%</th>\n",
       "      <th>max</th>\n",
       "    </tr>\n",
       "  </thead>\n",
       "  <tbody>\n",
       "    <tr>\n",
       "      <th>f0</th>\n",
       "      <td>100000.0</td>\n",
       "      <td>0.002023</td>\n",
       "      <td>1.732045</td>\n",
       "      <td>-8.760004</td>\n",
       "      <td>-1.162288</td>\n",
       "      <td>0.009424</td>\n",
       "      <td>1.158535</td>\n",
       "      <td>7.238262</td>\n",
       "    </tr>\n",
       "    <tr>\n",
       "      <th>f1</th>\n",
       "      <td>100000.0</td>\n",
       "      <td>-0.002081</td>\n",
       "      <td>1.730417</td>\n",
       "      <td>-7.084020</td>\n",
       "      <td>-1.174820</td>\n",
       "      <td>-0.009482</td>\n",
       "      <td>1.163678</td>\n",
       "      <td>7.844801</td>\n",
       "    </tr>\n",
       "    <tr>\n",
       "      <th>f2</th>\n",
       "      <td>100000.0</td>\n",
       "      <td>2.495128</td>\n",
       "      <td>3.473445</td>\n",
       "      <td>-11.970335</td>\n",
       "      <td>0.130359</td>\n",
       "      <td>2.484236</td>\n",
       "      <td>4.858794</td>\n",
       "      <td>16.739402</td>\n",
       "    </tr>\n",
       "    <tr>\n",
       "      <th>product</th>\n",
       "      <td>100000.0</td>\n",
       "      <td>95.000000</td>\n",
       "      <td>44.749921</td>\n",
       "      <td>0.000000</td>\n",
       "      <td>59.450441</td>\n",
       "      <td>94.925613</td>\n",
       "      <td>130.595027</td>\n",
       "      <td>190.029838</td>\n",
       "    </tr>\n",
       "  </tbody>\n",
       "</table>\n",
       "</div>"
      ],
      "text/plain": [
       "            count       mean        std        min        25%        50%  \\\n",
       "f0       100000.0   0.002023   1.732045  -8.760004  -1.162288   0.009424   \n",
       "f1       100000.0  -0.002081   1.730417  -7.084020  -1.174820  -0.009482   \n",
       "f2       100000.0   2.495128   3.473445 -11.970335   0.130359   2.484236   \n",
       "product  100000.0  95.000000  44.749921   0.000000  59.450441  94.925613   \n",
       "\n",
       "                75%         max  \n",
       "f0         1.158535    7.238262  \n",
       "f1         1.163678    7.844801  \n",
       "f2         4.858794   16.739402  \n",
       "product  130.595027  190.029838  "
      ]
     },
     "execution_count": 12,
     "metadata": {},
     "output_type": "execute_result"
    }
   ],
   "source": [
    "data3.describe().T"
   ]
  },
  {
   "cell_type": "code",
   "execution_count": 13,
   "metadata": {},
   "outputs": [
    {
     "data": {
      "image/png": "[encoded data removed]",
      "text/plain": [
       "<Figure size 720x576 with 4 Axes>"
      ]
     },
     "metadata": {
      "needs_background": "light"
     },
     "output_type": "display_data"
    }
   ],
   "source": [
    "data1.hist(bins=50, figsize=(10,8));"
   ]
  },
  {
   "cell_type": "code",
   "execution_count": 14,
   "metadata": {},
   "outputs": [
    {
     "data": {
      "image/png": "[encoded data removed]",
      "text/plain": [
       "<Figure size 720x576 with 4 Axes>"
      ]
     },
     "metadata": {
      "needs_background": "light"
     },
     "output_type": "display_data"
    }
   ],
   "source": [
    "data2.hist(bins=50, figsize=(10,8));"
   ]
  },
  {
   "cell_type": "code",
   "execution_count": 15,
   "metadata": {
    "scrolled": false
   },
   "outputs": [
    {
     "data": {
      "image/png": "[encoded data removed]",
      "text/plain": [
       "<Figure size 720x576 with 4 Axes>"
      ]
     },
     "metadata": {
      "needs_background": "light"
     },
     "output_type": "display_data"
    }
   ],
   "source": [
    "data3.hist(bins=50, figsize=(10,8));"
   ]
  },
  {
   "cell_type": "code",
   "execution_count": 16,
   "metadata": {},
   "outputs": [
    {
     "data": {
      "text/plain": [
       "99988"
      ]
     },
     "execution_count": 16,
     "metadata": {},
     "output_type": "execute_result"
    }
   ],
   "source": [
    "# посчитаем дубликаты в столбце 'product' во втором регионе\n",
    "data2['product'].duplicated().sum()"
   ]
  },
  {
   "cell_type": "code",
   "execution_count": 17,
   "metadata": {},
   "outputs": [
    {
     "data": {
      "text/plain": [
       "array([  3.17910258,  26.95326103, 134.76630516, 137.94540774,\n",
       "        84.03888568, 110.99214671,  53.90652206,   0.        ,\n",
       "       107.81304413,  57.08562465,  30.13236361,  80.85978309])"
      ]
     },
     "execution_count": 17,
     "metadata": {},
     "output_type": "execute_result"
    }
   ],
   "source": [
    "# уникальные значения столбца 'product'\n",
    "data2['product'].unique()"
   ]
  },
  {
   "cell_type": "markdown",
   "metadata": {},
   "source": [
    "Во втором регионе всего 12 уникальных значений в столбце 'product', которые повторяются. Скорее всего это связано с измерительным оборудованием (работа оборудования с погрешностью или низкая дискретность) или данные не были получены. И, возможно, данные вводились искусственно.\n",
    "\n",
    "Посчитаем, сколько нулевых значений в столбце 'product'."
   ]
  },
  {
   "cell_type": "code",
   "execution_count": 18,
   "metadata": {},
   "outputs": [
    {
     "data": {
      "text/html": [
       "<div>\n",
       "<style scoped>\n",
       "    .dataframe tbody tr th:only-of-type {\n",
       "        vertical-align: middle;\n",
       "    }\n",
       "\n",
       "    .dataframe tbody tr th {\n",
       "        vertical-align: top;\n",
       "    }\n",
       "\n",
       "    .dataframe thead th {\n",
       "        text-align: right;\n",
       "    }\n",
       "</style>\n",
       "<table border=\"1\" class=\"dataframe\">\n",
       "  <thead>\n",
       "    <tr style=\"text-align: right;\">\n",
       "      <th></th>\n",
       "      <th>f0</th>\n",
       "      <th>f1</th>\n",
       "      <th>f2</th>\n",
       "      <th>product</th>\n",
       "    </tr>\n",
       "  </thead>\n",
       "  <tbody>\n",
       "    <tr>\n",
       "      <th>57263</th>\n",
       "      <td>-0.702064</td>\n",
       "      <td>0.375992</td>\n",
       "      <td>0.236572</td>\n",
       "      <td>0.0</td>\n",
       "    </tr>\n",
       "  </tbody>\n",
       "</table>\n",
       "</div>"
      ],
      "text/plain": [
       "             f0        f1        f2  product\n",
       "57263 -0.702064  0.375992  0.236572      0.0"
      ]
     },
     "execution_count": 18,
     "metadata": {},
     "output_type": "execute_result"
    }
   ],
   "source": [
    "data1[data1['product'] == 0]"
   ]
  },
  {
   "cell_type": "code",
   "execution_count": 19,
   "metadata": {},
   "outputs": [
    {
     "data": {
      "text/html": [
       "<div>\n",
       "<style scoped>\n",
       "    .dataframe tbody tr th:only-of-type {\n",
       "        vertical-align: middle;\n",
       "    }\n",
       "\n",
       "    .dataframe tbody tr th {\n",
       "        vertical-align: top;\n",
       "    }\n",
       "\n",
       "    .dataframe thead th {\n",
       "        text-align: right;\n",
       "    }\n",
       "</style>\n",
       "<table border=\"1\" class=\"dataframe\">\n",
       "  <thead>\n",
       "    <tr style=\"text-align: right;\">\n",
       "      <th></th>\n",
       "      <th>f0</th>\n",
       "      <th>f1</th>\n",
       "      <th>f2</th>\n",
       "      <th>product</th>\n",
       "    </tr>\n",
       "  </thead>\n",
       "  <tbody>\n",
       "    <tr>\n",
       "      <th>11</th>\n",
       "      <td>16.320755</td>\n",
       "      <td>-0.562946</td>\n",
       "      <td>-0.001783</td>\n",
       "      <td>0.0</td>\n",
       "    </tr>\n",
       "    <tr>\n",
       "      <th>13</th>\n",
       "      <td>6.695604</td>\n",
       "      <td>-0.749449</td>\n",
       "      <td>-0.007630</td>\n",
       "      <td>0.0</td>\n",
       "    </tr>\n",
       "    <tr>\n",
       "      <th>62</th>\n",
       "      <td>21.418478</td>\n",
       "      <td>-5.134490</td>\n",
       "      <td>-0.002836</td>\n",
       "      <td>0.0</td>\n",
       "    </tr>\n",
       "    <tr>\n",
       "      <th>63</th>\n",
       "      <td>6.822701</td>\n",
       "      <td>3.104979</td>\n",
       "      <td>-0.000723</td>\n",
       "      <td>0.0</td>\n",
       "    </tr>\n",
       "    <tr>\n",
       "      <th>77</th>\n",
       "      <td>6.750150</td>\n",
       "      <td>-11.893512</td>\n",
       "      <td>-0.001601</td>\n",
       "      <td>0.0</td>\n",
       "    </tr>\n",
       "    <tr>\n",
       "      <th>...</th>\n",
       "      <td>...</td>\n",
       "      <td>...</td>\n",
       "      <td>...</td>\n",
       "      <td>...</td>\n",
       "    </tr>\n",
       "    <tr>\n",
       "      <th>99936</th>\n",
       "      <td>5.085749</td>\n",
       "      <td>-3.980305</td>\n",
       "      <td>0.005063</td>\n",
       "      <td>0.0</td>\n",
       "    </tr>\n",
       "    <tr>\n",
       "      <th>99948</th>\n",
       "      <td>8.277805</td>\n",
       "      <td>-9.178818</td>\n",
       "      <td>0.003275</td>\n",
       "      <td>0.0</td>\n",
       "    </tr>\n",
       "    <tr>\n",
       "      <th>99956</th>\n",
       "      <td>13.343983</td>\n",
       "      <td>-1.290200</td>\n",
       "      <td>0.005980</td>\n",
       "      <td>0.0</td>\n",
       "    </tr>\n",
       "    <tr>\n",
       "      <th>99961</th>\n",
       "      <td>13.854163</td>\n",
       "      <td>-11.528089</td>\n",
       "      <td>-0.005556</td>\n",
       "      <td>0.0</td>\n",
       "    </tr>\n",
       "    <tr>\n",
       "      <th>99973</th>\n",
       "      <td>12.698645</td>\n",
       "      <td>-4.384673</td>\n",
       "      <td>-0.002600</td>\n",
       "      <td>0.0</td>\n",
       "    </tr>\n",
       "  </tbody>\n",
       "</table>\n",
       "<p>8235 rows × 4 columns</p>\n",
       "</div>"
      ],
      "text/plain": [
       "              f0         f1        f2  product\n",
       "11     16.320755  -0.562946 -0.001783      0.0\n",
       "13      6.695604  -0.749449 -0.007630      0.0\n",
       "62     21.418478  -5.134490 -0.002836      0.0\n",
       "63      6.822701   3.104979 -0.000723      0.0\n",
       "77      6.750150 -11.893512 -0.001601      0.0\n",
       "...          ...        ...       ...      ...\n",
       "99936   5.085749  -3.980305  0.005063      0.0\n",
       "99948   8.277805  -9.178818  0.003275      0.0\n",
       "99956  13.343983  -1.290200  0.005980      0.0\n",
       "99961  13.854163 -11.528089 -0.005556      0.0\n",
       "99973  12.698645  -4.384673 -0.002600      0.0\n",
       "\n",
       "[8235 rows x 4 columns]"
      ]
     },
     "execution_count": 19,
     "metadata": {},
     "output_type": "execute_result"
    }
   ],
   "source": [
    "data2[data2['product'] == 0]"
   ]
  },
  {
   "cell_type": "code",
   "execution_count": 20,
   "metadata": {},
   "outputs": [
    {
     "data": {
      "text/html": [
       "<div>\n",
       "<style scoped>\n",
       "    .dataframe tbody tr th:only-of-type {\n",
       "        vertical-align: middle;\n",
       "    }\n",
       "\n",
       "    .dataframe tbody tr th {\n",
       "        vertical-align: top;\n",
       "    }\n",
       "\n",
       "    .dataframe thead th {\n",
       "        text-align: right;\n",
       "    }\n",
       "</style>\n",
       "<table border=\"1\" class=\"dataframe\">\n",
       "  <thead>\n",
       "    <tr style=\"text-align: right;\">\n",
       "      <th></th>\n",
       "      <th>f0</th>\n",
       "      <th>f1</th>\n",
       "      <th>f2</th>\n",
       "      <th>product</th>\n",
       "    </tr>\n",
       "  </thead>\n",
       "  <tbody>\n",
       "    <tr>\n",
       "      <th>68149</th>\n",
       "      <td>-0.865596</td>\n",
       "      <td>-1.615247</td>\n",
       "      <td>-4.126441</td>\n",
       "      <td>0.0</td>\n",
       "    </tr>\n",
       "  </tbody>\n",
       "</table>\n",
       "</div>"
      ],
      "text/plain": [
       "             f0        f1        f2  product\n",
       "68149 -0.865596 -1.615247 -4.126441      0.0"
      ]
     },
     "execution_count": 20,
     "metadata": {},
     "output_type": "execute_result"
    }
   ],
   "source": [
    "data3[data3['product'] == 0]"
   ]
  },
  {
   "cell_type": "markdown",
   "metadata": {},
   "source": [
    "Во втором регионе более 8% нулевых данных об объемах запасов в скважинах, что еще раз показывает, что данные были утеряны или не собраны.\n",
    "\n",
    "По таблицам и по графикам видим, что значения одних и тех же признаков для разных регионов абсолютно разные, как и их распределения. Есть нормальные распределения, есть с множественными \"пиками\", а есть дискретные. Скорее всего это связано с географическими различиями исследуемых районов: например горы и равнины или богатые черноземом почвы и сухие выжженные степи.\n",
    "\n",
    "Данные об объеме запасов в скважинах положительные или 0.\n",
    "\n",
    "Все данные в датасетах остались численные, значит преобразование OHE не нужно."
   ]
  },
  {
   "cell_type": "markdown",
   "metadata": {},
   "source": [
    "### Разбитие данных на выборки"
   ]
  },
  {
   "cell_type": "markdown",
   "metadata": {},
   "source": [
    "В данном проекте просят разбить данные на обучающую и валидационную выборки в соотношении 75:25. В реальном проекте я бы разбила данные на 3 (+ тестовая для итоговой проверки модели), так как наличие тестовой выборки повышает уверенность разработчика в качестве построенной им модели. \n",
    "\n",
    "На обучающей выборке будем обучать модель архитектурой Линейной регрессии, а на валидационной выборке проверять модель на качество.\n",
    "\n",
    "Для начала нужно создать переменные для признаков и целевого признака из наших датасетов. Целевой признак в данном проекте - объем запасов в скважине - столбец \"product\". Создадим нужные нам переменные."
   ]
  },
  {
   "cell_type": "code",
   "execution_count": 21,
   "metadata": {},
   "outputs": [],
   "source": [
    "features1 = data1.drop('product', axis=1)\n",
    "target1 = data1['product']\n",
    "\n",
    "features2 = data2.drop('product', axis=1)\n",
    "target2 = data2['product']\n",
    "\n",
    "features3 = data3.drop('product', axis=1)\n",
    "target3 = data3['product']"
   ]
  },
  {
   "cell_type": "markdown",
   "metadata": {},
   "source": [
    "Теперь разобьем данные на 2 выборки (обучающую и валидационную) в пропорции 75% и 25% для каждого из датасетов."
   ]
  },
  {
   "cell_type": "code",
   "execution_count": 22,
   "metadata": {},
   "outputs": [],
   "source": [
    "# функция для разбивки на выборки\n",
    "def split(features, target):\n",
    "    features_train, features_valid, target_train, target_valid = \\\n",
    "    train_test_split(features, target, train_size=.75, random_state=12345)\n",
    "    return features_train, features_valid, target_train, target_valid"
   ]
  },
  {
   "cell_type": "code",
   "execution_count": 23,
   "metadata": {},
   "outputs": [],
   "source": [
    "features1_train, features1_valid, target1_train, target1_valid = split(features1, target1)\n",
    "features2_train, features2_valid, target2_train, target2_valid = split(features2, target2)\n",
    "features3_train, features3_valid, target3_train, target3_valid = split(features3, target3)"
   ]
  },
  {
   "cell_type": "code",
   "execution_count": 24,
   "metadata": {},
   "outputs": [
    {
     "data": {
      "text/plain": [
       "(75000, 3)"
      ]
     },
     "execution_count": 24,
     "metadata": {},
     "output_type": "execute_result"
    }
   ],
   "source": [
    "# проверка одной из выборок\n",
    "features1_train.shape"
   ]
  },
  {
   "cell_type": "markdown",
   "metadata": {},
   "source": [
    "### Масштабирование признаков"
   ]
  },
  {
   "cell_type": "markdown",
   "metadata": {},
   "source": [
    "Стандартизуем численные признаки с помощью StandardScaler."
   ]
  },
  {
   "cell_type": "code",
   "execution_count": 25,
   "metadata": {},
   "outputs": [],
   "source": [
    "# зафиксируем все численные признаки\n",
    "numeric = ['f0', 'f1', 'f2']"
   ]
  },
  {
   "cell_type": "code",
   "execution_count": 26,
   "metadata": {},
   "outputs": [],
   "source": [
    "# убрать предупреждение SettingWithCopy от библиотек pandas и sklearn\n",
    "pd.options.mode.chained_assignment = None\n",
    "\n",
    "# создадим объект структуры StandardScaler и настроим его на обучающих данных\n",
    "scaler = StandardScaler()\n",
    "\n",
    "# для первого региона\n",
    "scaler.fit(features1_train[numeric])\n",
    "# масштабируем численные признаки на всех выборках \n",
    "features1_train[numeric] = scaler.transform(features1_train[numeric])\n",
    "features1_valid[numeric] = scaler.transform(features1_valid[numeric])\n",
    "\n",
    "# для второго региона\n",
    "scaler.fit(features2_train[numeric])\n",
    "features2_train[numeric] = scaler.transform(features2_train[numeric])\n",
    "features2_valid[numeric] = scaler.transform(features2_valid[numeric])\n",
    "\n",
    "# для третьего региона\n",
    "scaler.fit(features3_train[numeric])\n",
    "features3_train[numeric] = scaler.transform(features3_train[numeric])\n",
    "features3_valid[numeric] = scaler.transform(features3_valid[numeric])"
   ]
  },
  {
   "cell_type": "markdown",
   "metadata": {},
   "source": [
    "Мы подготовили исходные датасеты к машинному обучению:\n",
    "\n",
    "- изучили размер датасетов, строки и ячейки\n",
    "- проверили на дубликаты, пропуски\n",
    "- удалили ненужные для обучения модели столбцы\n",
    "- разбили датасеты на 2 выборки\n",
    "- масштабировали численные данные"
   ]
  },
  {
   "cell_type": "markdown",
   "metadata": {},
   "source": [
    "## Обучение и проверка модели"
   ]
  },
  {
   "cell_type": "markdown",
   "metadata": {},
   "source": [
    "### Обучение модели"
   ]
  },
  {
   "cell_type": "markdown",
   "metadata": {},
   "source": [
    "Обучим модель Линейной регрессии и посчитаем средний запас предсказанного сырья одной скважины для каждого региона."
   ]
  },
  {
   "cell_type": "code",
   "execution_count": 27,
   "metadata": {},
   "outputs": [],
   "source": [
    "model = LinearRegression()"
   ]
  },
  {
   "cell_type": "code",
   "execution_count": 28,
   "metadata": {},
   "outputs": [],
   "source": [
    "# функция считает RMSE для модели и средний запас предсказанного сырья\n",
    "def rmse(features_train, target_train, features_valid, target_valid):\n",
    "    model.fit(features_train, target_train)\n",
    "    predicted_valid = model.predict(features_valid)\n",
    "    rmse = mean_squared_error(target_valid, predicted_valid, squared=False)\n",
    "    mean_pred_stock = predicted_valid.mean()\n",
    "    mean_fact_stock = target_valid.mean()\n",
    "    return rmse, mean_pred_stock, mean_fact_stock, predicted_valid"
   ]
  },
  {
   "cell_type": "code",
   "execution_count": 29,
   "metadata": {},
   "outputs": [],
   "source": [
    "# для первого региона\n",
    "rmse1, mean_pred_stock1, mean_fact_stock1, predicted_valid1 = rmse(features1_train, \\\n",
    "                                            target1_train, features1_valid, target1_valid)"
   ]
  },
  {
   "cell_type": "code",
   "execution_count": 30,
   "metadata": {},
   "outputs": [
    {
     "name": "stdout",
     "output_type": "stream",
     "text": [
      "RMSE модели первого региона: 37.58\n",
      "Средний запас предсказанного сырья: 92.59\n",
      "Средний запас фактического сырья: 92.08\n"
     ]
    }
   ],
   "source": [
    "print(f'RMSE модели первого региона: {rmse1:,.2f}')\n",
    "print(f'Средний запас предсказанного сырья: {mean_pred_stock1:,.2f}')\n",
    "print(f'Средний запас фактического сырья: {mean_fact_stock1:,.2f}')"
   ]
  },
  {
   "cell_type": "code",
   "execution_count": 31,
   "metadata": {},
   "outputs": [],
   "source": [
    "# для второго региона\n",
    "rmse2, mean_pred_stock2, mean_fact_stock2, predicted_valid2 = rmse(features2_train, \\\n",
    "                                            target2_train, features2_valid, target2_valid)"
   ]
  },
  {
   "cell_type": "code",
   "execution_count": 32,
   "metadata": {},
   "outputs": [
    {
     "name": "stdout",
     "output_type": "stream",
     "text": [
      "RMSE модели второго региона: 0.89\n",
      "Средний запас предсказанного сырья: 68.73\n",
      "Средний запас фактического сырья: 68.72\n"
     ]
    }
   ],
   "source": [
    "print(f'RMSE модели второго региона: {rmse2:,.2f}')\n",
    "print(f'Средний запас предсказанного сырья: {mean_pred_stock2:,.2f}')\n",
    "print(f'Средний запас фактического сырья: {mean_fact_stock2:,.2f}')"
   ]
  },
  {
   "cell_type": "code",
   "execution_count": 33,
   "metadata": {},
   "outputs": [],
   "source": [
    "# для третьего региона\n",
    "rmse3, mean_pred_stock3, mean_fact_stock3, predicted_valid3 = rmse(features3_train, \\\n",
    "                                            target3_train, features3_valid, target3_valid)"
   ]
  },
  {
   "cell_type": "code",
   "execution_count": 34,
   "metadata": {},
   "outputs": [
    {
     "name": "stdout",
     "output_type": "stream",
     "text": [
      "RMSE модели третьего региона: 40.03\n",
      "Средний запас предсказанного сырья: 94.97\n",
      "Средний запас фактического сырья: 94.88\n"
     ]
    }
   ],
   "source": [
    "print(f'RMSE модели третьего региона: {rmse3:,.2f}')\n",
    "print(f'Средний запас предсказанного сырья: {mean_pred_stock3:,.2f}')\n",
    "print(f'Средний запас фактического сырья: {mean_fact_stock3:,.2f}')"
   ]
  },
  {
   "cell_type": "code",
   "execution_count": 35,
   "metadata": {},
   "outputs": [
    {
     "data": {
      "text/html": [
       "<div>\n",
       "<style scoped>\n",
       "    .dataframe tbody tr th:only-of-type {\n",
       "        vertical-align: middle;\n",
       "    }\n",
       "\n",
       "    .dataframe tbody tr th {\n",
       "        vertical-align: top;\n",
       "    }\n",
       "\n",
       "    .dataframe thead th {\n",
       "        text-align: right;\n",
       "    }\n",
       "</style>\n",
       "<table border=\"1\" class=\"dataframe\">\n",
       "  <thead>\n",
       "    <tr style=\"text-align: right;\">\n",
       "      <th></th>\n",
       "      <th>RMSE</th>\n",
       "      <th>Mean pred. stock</th>\n",
       "      <th>Mean fact stock</th>\n",
       "    </tr>\n",
       "  </thead>\n",
       "  <tbody>\n",
       "    <tr>\n",
       "      <th>1 регион</th>\n",
       "      <td>37.579422</td>\n",
       "      <td>92.592568</td>\n",
       "      <td>92.078597</td>\n",
       "    </tr>\n",
       "    <tr>\n",
       "      <th>2 регион</th>\n",
       "      <td>0.893099</td>\n",
       "      <td>68.728547</td>\n",
       "      <td>68.723136</td>\n",
       "    </tr>\n",
       "    <tr>\n",
       "      <th>3 регион</th>\n",
       "      <td>40.029709</td>\n",
       "      <td>94.965046</td>\n",
       "      <td>94.884233</td>\n",
       "    </tr>\n",
       "  </tbody>\n",
       "</table>\n",
       "</div>"
      ],
      "text/plain": [
       "               RMSE  Mean pred. stock  Mean fact stock\n",
       "1 регион  37.579422         92.592568        92.078597\n",
       "2 регион   0.893099         68.728547        68.723136\n",
       "3 регион  40.029709         94.965046        94.884233"
      ]
     },
     "metadata": {},
     "output_type": "display_data"
    },
    {
     "data": {
      "image/png": "[encoded data removed]",
      "text/plain": [
       "<Figure size 720x432 with 1 Axes>"
      ]
     },
     "metadata": {
      "needs_background": "light"
     },
     "output_type": "display_data"
    }
   ],
   "source": [
    "rmse_stock = pd.DataFrame(\n",
    "    index=['1 регион', '2 регион', '3 регион'],\n",
    "    data={\n",
    "        'RMSE': [rmse1, rmse2, rmse3],\n",
    "        'Mean pred. stock': [mean_pred_stock1, mean_pred_stock2, mean_pred_stock3],\n",
    "        'Mean fact stock': [mean_fact_stock1, mean_fact_stock2, mean_fact_stock3]\n",
    "    }\n",
    ")\n",
    "display(rmse_stock)\n",
    "\n",
    "rmse_stock.plot(kind='bar', title='Значения по регионам RMSE модели и средний запас скважины', \\\n",
    "                legend=True, figsize=(10,6));"
   ]
  },
  {
   "cell_type": "markdown",
   "metadata": {},
   "source": [
    "Среднеквадратичная ошибка меньше всего у модели для второго региона, она близка к нулю. То есть модель практически не ошибается при предсказании объемов запаса скважины. Но также в этом регионе средний запас предсказанного сырья в скважинах значительно меньше, чем в других регионах. Возможно, модель переобучилась из-за недостоверных/нехватающих данных.\n",
    "\n",
    "В первом и третьем регионах значения RMSE и средние фактические и предсказанные запасы сырья примерно одинаковы."
   ]
  },
  {
   "cell_type": "markdown",
   "metadata": {},
   "source": [
    "### Проверка модели "
   ]
  },
  {
   "cell_type": "markdown",
   "metadata": {},
   "source": [
    "Проверим наши обученные модели, посчитав RMSE для константной модели, которая каждому объекту прогнозирует среднее значение целевого признака (в нашем случае объем запасов в скважине)."
   ]
  },
  {
   "cell_type": "code",
   "execution_count": 36,
   "metadata": {},
   "outputs": [],
   "source": [
    "model = LinearRegression()"
   ]
  },
  {
   "cell_type": "code",
   "execution_count": 37,
   "metadata": {},
   "outputs": [],
   "source": [
    "# функция считает RMSE для константной модели\n",
    "def rmse_const(features_train, target_train, target_valid):\n",
    "    model.fit(features_train, target_train)\n",
    "    predicted_valid = pd.Series([target_train.mean()] * len(target_valid))\n",
    "    rmse_const = mean_squared_error(target_valid, predicted_valid, squared=False)\n",
    "    print(f'RMSE константной модели для региона: {rmse_const:,.2f}')"
   ]
  },
  {
   "cell_type": "code",
   "execution_count": 38,
   "metadata": {},
   "outputs": [
    {
     "name": "stdout",
     "output_type": "stream",
     "text": [
      "RMSE модели первого региона: 37.58\n",
      "RMSE константной модели для региона: 44.29\n"
     ]
    }
   ],
   "source": [
    "# для первого региона\n",
    "print(f'RMSE модели первого региона: {rmse1:,.2f}')\n",
    "rmse_const(features1_train, target1_train, target1_valid)"
   ]
  },
  {
   "cell_type": "code",
   "execution_count": 39,
   "metadata": {},
   "outputs": [
    {
     "name": "stdout",
     "output_type": "stream",
     "text": [
      "RMSE модели второго региона: 0.89\n",
      "RMSE константной модели для региона: 46.02\n"
     ]
    }
   ],
   "source": [
    "# для второго региона\n",
    "print(f'RMSE модели второго региона: {rmse2:,.2f}')\n",
    "rmse_const(features2_train, target2_train, target2_valid)"
   ]
  },
  {
   "cell_type": "code",
   "execution_count": 40,
   "metadata": {},
   "outputs": [
    {
     "name": "stdout",
     "output_type": "stream",
     "text": [
      "RMSE модели третьего региона: 40.03\n",
      "RMSE константной модели для региона: 44.90\n"
     ]
    }
   ],
   "source": [
    "# для третьего региона\n",
    "print(f'RMSE модели третьего региона: {rmse3:,.2f}')\n",
    "rmse_const(features3_train, target3_train, target3_valid)"
   ]
  },
  {
   "cell_type": "markdown",
   "metadata": {},
   "source": [
    "Во всех регионах RMSE константной модели намного выше, чем в обученной. Модели прошли проверку на адекватность."
   ]
  },
  {
   "cell_type": "markdown",
   "metadata": {},
   "source": [
    "## Подготовка к расчёту прибыли"
   ]
  },
  {
   "cell_type": "markdown",
   "metadata": {},
   "source": [
    "Для дальнейших расчетов создадим переменные с имеющимися данными."
   ]
  },
  {
   "cell_type": "code",
   "execution_count": 41,
   "metadata": {},
   "outputs": [],
   "source": [
    "BUDGET = 10_000_000_000 # бюджет на разработку скважин в регионе\n",
    "PRICE = 450_000 # доход с каждой единицы продукта нефти (с 1 тысячи баррелей в рублях)\n",
    "POINT = 500 # при разведке региона исследуют кол-во точек\n",
    "POINT_BEST = 200 # выбранные точки для разработки из всех исследуемых"
   ]
  },
  {
   "cell_type": "markdown",
   "metadata": {},
   "source": [
    "Для начала рассчитаем усредненный достаточный объём сырья для безубыточной разработки новой скважины, зная бюджет и количество выбранных скважин."
   ]
  },
  {
   "cell_type": "code",
   "execution_count": 42,
   "metadata": {},
   "outputs": [
    {
     "name": "stdout",
     "output_type": "stream",
     "text": [
      "Достаточный объём сырья для безубыточной разработки новой скважины: 111.11 тыс.баррелей\n"
     ]
    }
   ],
   "source": [
    "average_volume_per_point = BUDGET / POINT_BEST / PRICE\n",
    "print(f'Достаточный объём сырья для безубыточной разработки новой скважины: \\\n",
    "{average_volume_per_point:,.2f} тыс.баррелей' )"
   ]
  },
  {
   "cell_type": "code",
   "execution_count": 43,
   "metadata": {},
   "outputs": [
    {
     "name": "stdout",
     "output_type": "stream",
     "text": [
      "Средний запас фактичекой нефти на скважину в первом регионе: 92.08\n",
      "Средний запас фактичекой нефти на скважину во втором регионе: 68.72\n",
      "Средний запас фактичекой нефти на скважину в третьем регионе: 94.88\n"
     ]
    }
   ],
   "source": [
    "print('Средний запас фактичекой нефти на скважину в первом регионе:', round(target1_valid.mean(), 2))\n",
    "print('Средний запас фактичекой нефти на скважину во втором регионе:', round(target2_valid.mean(), 2))\n",
    "print('Средний запас фактичекой нефти на скважину в третьем регионе:', round(target3_valid.mean(), 2))"
   ]
  },
  {
   "cell_type": "code",
   "execution_count": 44,
   "metadata": {},
   "outputs": [],
   "source": [
    "# функция для вывода гистограммы распределения по объему скважин\n",
    "def hist_volume(predicted_valid, number_region):\n",
    "    predicted_valid = pd.Series(predicted_valid)\n",
    "    ax = predicted_valid.hist(bins=100)\n",
    "    ax.set_xlabel('Объем нефти на скважину')\n",
    "    ax.set_ylabel('Количество скважин')\n",
    "    ax.set_title(f'Распределение по объему скважин в регионе {number_region}');"
   ]
  },
  {
   "cell_type": "code",
   "execution_count": 45,
   "metadata": {},
   "outputs": [
    {
     "data": {
      "image/png": "[encoded data removed]",
      "text/plain": [
       "<Figure size 432x288 with 1 Axes>"
      ]
     },
     "metadata": {
      "needs_background": "light"
     },
     "output_type": "display_data"
    }
   ],
   "source": [
    "# первый регион\n",
    "hist_volume(predicted_valid1, 1)"
   ]
  },
  {
   "cell_type": "code",
   "execution_count": 46,
   "metadata": {},
   "outputs": [
    {
     "data": {
      "image/png": "[encoded data removed]",
      "text/plain": [
       "<Figure size 432x288 with 1 Axes>"
      ]
     },
     "metadata": {
      "needs_background": "light"
     },
     "output_type": "display_data"
    }
   ],
   "source": [
    "# второй регион\n",
    "hist_volume(predicted_valid2, 2)"
   ]
  },
  {
   "cell_type": "code",
   "execution_count": 47,
   "metadata": {},
   "outputs": [
    {
     "data": {
      "image/png": "[encoded data removed]",
      "text/plain": [
       "<Figure size 432x288 with 1 Axes>"
      ]
     },
     "metadata": {
      "needs_background": "light"
     },
     "output_type": "display_data"
    }
   ],
   "source": [
    "# третий регион\n",
    "hist_volume(predicted_valid3, 3)"
   ]
  },
  {
   "cell_type": "code",
   "execution_count": 48,
   "metadata": {
    "scrolled": true
   },
   "outputs": [
    {
     "data": {
      "text/plain": [
       "count    25000.000000\n",
       "mean        68.723136\n",
       "std         46.022165\n",
       "min          0.000000\n",
       "25%         26.953261\n",
       "50%         57.085625\n",
       "75%        107.813044\n",
       "max        137.945408\n",
       "Name: product, dtype: float64"
      ]
     },
     "execution_count": 48,
     "metadata": {},
     "output_type": "execute_result"
    }
   ],
   "source": [
    "target2_valid.describe()"
   ]
  },
  {
   "cell_type": "code",
   "execution_count": 49,
   "metadata": {},
   "outputs": [
    {
     "data": {
      "text/plain": [
       "110.992146709366"
      ]
     },
     "execution_count": 49,
     "metadata": {},
     "output_type": "execute_result"
    }
   ],
   "source": [
    "target2_valid.quantile(0.76)"
   ]
  },
  {
   "cell_type": "markdown",
   "metadata": {},
   "source": [
    "<b>Вывод</b>\n",
    "\n",
    "Посчитаны средние фактические запасы нефти для всех регионов. Минимальный объем нефти для безубыточной разработки составил 111.11 тыс.баррелей. \n",
    "\n",
    "Для первого и третьего регионов есть высокая вероятность окупить затраты: разброс значений вокруг среднего 92 и 95 говорит нам о том, что существует достаточно много скважин, где запасы больше необходимого среднего.\n",
    "\n",
    "Во втором регионе среднее значение достаточно низкое (68.8). Есть значения выше 111, но их не так много в отличие от других регионов. Только 24% скважин имеют запасы 111 и более тыс.баррелей. Если в выборку лучших скважин (200 из 500) попадут такие скважины, то тоже есть шанс получить безубыточную разработку."
   ]
  },
  {
   "cell_type": "markdown",
   "metadata": {},
   "source": [
    "## Расчёт прибыли и рисков "
   ]
  },
  {
   "cell_type": "markdown",
   "metadata": {},
   "source": [
    "Создадим функцию для подсчета прибыли по выбранным скважинам и предсказаниям модели. \n",
    "Нужно:\n",
    "- выбрать скважины с максимальными значениями предсказаний\n",
    "- просуммировать целевое значение объёма сырья, соответствующее этим предсказаниям\n",
    "- рассчитать прибыль для полученного объёма сырья"
   ]
  },
  {
   "cell_type": "code",
   "execution_count": 50,
   "metadata": {},
   "outputs": [],
   "source": [
    "def revenue(target, probabilities, point_best):\n",
    "    probs_sorted = pd.Series(probabilities).sort_values(ascending=False)[:point_best]\n",
    "    selected = target.reset_index(drop = True)[probs_sorted.index]\n",
    "    rev = PRICE * selected.sum() - BUDGET\n",
    "    return round(rev,2)"
   ]
  },
  {
   "cell_type": "code",
   "execution_count": 51,
   "metadata": {},
   "outputs": [],
   "source": [
    "rev1 = revenue(target1_valid, predicted_valid1, POINT_BEST)\n",
    "rev2 = revenue(target2_valid, predicted_valid2, POINT_BEST)\n",
    "rev3 = revenue(target3_valid, predicted_valid3, POINT_BEST)"
   ]
  },
  {
   "cell_type": "code",
   "execution_count": 52,
   "metadata": {},
   "outputs": [
    {
     "name": "stdout",
     "output_type": "stream",
     "text": [
      "Прибыль с лучших 200 скважин в первом регионе: 3320826043.14\n",
      "Прибыль с лучших 200 скважин во втором регионе: 2415086696.68\n",
      "Прибыль с лучших 200 скважин в третьем регионе: 2710349963.6\n"
     ]
    }
   ],
   "source": [
    "print(\"Прибыль с лучших 200 скважин в первом регионе:\", rev1)\n",
    "print(\"Прибыль с лучших 200 скважин во втором регионе:\", rev2)\n",
    "print(\"Прибыль с лучших 200 скважин в третьем регионе:\", rev3)"
   ]
  },
  {
   "cell_type": "code",
   "execution_count": 53,
   "metadata": {},
   "outputs": [
    {
     "data": {
      "image/png": "[encoded data removed]",
      "text/plain": [
       "<Figure size 432x288 with 1 Axes>"
      ]
     },
     "metadata": {
      "needs_background": "light"
     },
     "output_type": "display_data"
    }
   ],
   "source": [
    "rev_200 = pd.DataFrame(\n",
    "    index=['1 регион', '2 регион', '3 регион'],\n",
    "    data={\n",
    "        'Прибыль с 200 скважин': [rev1, rev2, rev3],\n",
    "    }\n",
    ")\n",
    "rev_200.plot(kind='bar', title='Прибыль с лучших 200 скважин по регионам');"
   ]
  },
  {
   "cell_type": "markdown",
   "metadata": {},
   "source": [
    "Больше всего прибыли с 200 скважин может принести первый регион. Меньше всего - второй регион.\n",
    "\n",
    "А теперь посчитаем риски для каждого региона. Применим технику Bootstrap с 1000 выборками, чтобы найти распределение прибыли.\n",
    "Найдем среднюю прибыль по регионам, 95% доверительный интервал и процент риска."
   ]
  },
  {
   "cell_type": "code",
   "execution_count": 56,
   "metadata": {},
   "outputs": [],
   "source": [
    "state = np.random.RandomState(12345)\n",
    "def bootstrap(target, probabilities):\n",
    "    values = []\n",
    "    lost = 0\n",
    "    for i in range(1000):\n",
    "        target_sample = target.reset_index(drop = True).sample(replace=True, \\\n",
    "                                                               random_state=state, n=POINT)\n",
    "        probs_sample = probabilities[target_sample.index]\n",
    "        profit = revenue(target_sample, probs_sample, POINT_BEST)\n",
    "        if profit < 0:\n",
    "            lost +=1\n",
    "        values.append(profit)\n",
    "        \n",
    "    values = pd.Series(values)\n",
    "    lower = round(values.quantile(0.025),2)\n",
    "    upper = round(values.quantile(0.975),2)\n",
    "    average = round(values.mean(),2)\n",
    "    risk = lost / 1000 * 100\n",
    "    return average, lower, upper, risk"
   ]
  },
  {
   "cell_type": "code",
   "execution_count": 57,
   "metadata": {},
   "outputs": [
    {
     "name": "stdout",
     "output_type": "stream",
     "text": [
      "Средняя прибыль по первому региону: 396164984.8\n",
      "95% доверительный интервал: (-111215545.89, 909766941.55) тыс.руб.\n",
      "Процент риска 6.9%\n"
     ]
    }
   ],
   "source": [
    "average1, lower1, upper1, risk1 = bootstrap(target1_valid, predicted_valid1)\n",
    "print('Средняя прибыль по первому региону:', average1)\n",
    "print(f'95% доверительный интервал: ({lower1}, {upper1}) тыс.руб.')\n",
    "print(f'Процент риска {risk1}%')"
   ]
  },
  {
   "cell_type": "code",
   "execution_count": 58,
   "metadata": {},
   "outputs": [
    {
     "name": "stdout",
     "output_type": "stream",
     "text": [
      "Средняя прибыль по второму региону: 461155817.28\n",
      "95% доверительный интервал: (78050810.75, 862952060.26) тыс.руб.\n",
      "Процент риска 0.7000000000000001%\n"
     ]
    }
   ],
   "source": [
    "average2, lower2, upper2, risk2 = bootstrap(target2_valid, predicted_valid2)\n",
    "print('Средняя прибыль по второму региону:', average2)\n",
    "print(f'95% доверительный интервал: ({lower2}, {upper2}) тыс.руб.')\n",
    "print(f'Процент риска {risk2}%')"
   ]
  },
  {
   "cell_type": "code",
   "execution_count": 59,
   "metadata": {},
   "outputs": [
    {
     "name": "stdout",
     "output_type": "stream",
     "text": [
      "Средняя прибыль по второму региону: 392950475.17\n",
      "95% доверительный интервал: (-112227625.38, 934562914.55) тыс.руб.\n",
      "Процент риска 6.5%\n"
     ]
    }
   ],
   "source": [
    "average3, lower3, upper3, risk3 = bootstrap(target3_valid, predicted_valid3)\n",
    "print('Средняя прибыль по второму региону:', average3)\n",
    "print(f'95% доверительный интервал: ({lower3}, {upper3}) тыс.руб.')\n",
    "print(f'Процент риска {risk3}%')"
   ]
  },
  {
   "cell_type": "code",
   "execution_count": 60,
   "metadata": {},
   "outputs": [
    {
     "data": {
      "image/png": "[encoded data removed]",
      "text/plain": [
       "<Figure size 432x360 with 1 Axes>"
      ]
     },
     "metadata": {
      "needs_background": "light"
     },
     "output_type": "display_data"
    }
   ],
   "source": [
    "total_rev = pd.DataFrame(\n",
    "    index=['1 регион', '2 регион', '3 регион'],\n",
    "    data={\n",
    "        'Средняя прибыль': [average1, average2, average3]\n",
    "    }\n",
    ")\n",
    "total_rev.plot(kind='bar', title='Средняя прибыль по регионам', figsize=(6, 5), color='g');"
   ]
  },
  {
   "cell_type": "code",
   "execution_count": 61,
   "metadata": {
    "scrolled": true
   },
   "outputs": [
    {
     "data": {
      "image/png": "[encoded data removed]",
      "text/plain": [
       "<Figure size 432x288 with 1 Axes>"
      ]
     },
     "metadata": {
      "needs_background": "light"
     },
     "output_type": "display_data"
    }
   ],
   "source": [
    "total_risk = pd.DataFrame(\n",
    "    index=['1 регион', '2 регион', '3 регион'],\n",
    "    data={\n",
    "        'Процент риска': [risk1, risk2, risk3]\n",
    "    }\n",
    ")\n",
    "total_risk.plot(kind='bar', title='Проценты риска по регионам', color='r');"
   ]
  },
  {
   "cell_type": "markdown",
   "metadata": {},
   "source": [
    "Сделав необходимые вычисления, можно сделать следующие выводы:\n",
    "- предполагаемая средняя прибыль больше всего во втором регионе\n",
    "- самые низкие риски также во втором регионе: всего 0.7%. Первый и третий регион не подходят по условию, что вероятность убытков должна быть не выше 2.5%\n",
    "- доверительный интервал второго региона также показывает, что даже при не самых удачных выбранных скважинах разработка в целом окупится \n",
    "\n",
    "<b>Итог</b>: выбираем второй регион."
   ]
  },
  {
   "cell_type": "markdown",
   "metadata": {},
   "source": [
    "## Выводы"
   ]
  },
  {
   "cell_type": "markdown",
   "metadata": {},
   "source": [
    "В ходе данного проекта было сделано:\n",
    "- подготовлены и изучены данные по трем регионам\n",
    "- обучены и проверены модели архитектурой Линейная регрессия\n",
    "- посчитаны средние фактические запасы нефти для всех регионов\n",
    "- сделаны расчеты по средней прибыли, рискам разработки, расчитан 95% доверительный интервал\n",
    "- выбран лучший из трех регионов (с максимальной прибылью и меньшими рисками) для добычи нефти\n",
    "\n",
    "Второй регион имеет лучшие показатели, хотя данные, на которых обучалась модель, могут быть не совсем корректны или созданы искусственно."
   ]
  },
  {
   "cell_type": "code",
   "execution_count": null,
   "metadata": {},
   "outputs": [],
   "source": []
  }
 ],
 "metadata": {
  "ExecuteTimeLog": [
   {
    "duration": 420,
    "start_time": "2022-08-26T11:48:47.375Z"
   },
   {
    "duration": 807,
    "start_time": "2022-08-26T11:49:52.831Z"
   },
   {
    "duration": 9,
    "start_time": "2022-08-26T11:50:16.560Z"
   },
   {
    "duration": 11,
    "start_time": "2022-08-26T11:50:28.880Z"
   },
   {
    "duration": 391,
    "start_time": "2022-08-26T11:50:48.894Z"
   },
   {
    "duration": 9,
    "start_time": "2022-08-26T11:50:52.518Z"
   },
   {
    "duration": 8,
    "start_time": "2022-08-26T11:50:56.276Z"
   },
   {
    "duration": 13,
    "start_time": "2022-08-26T11:55:08.911Z"
   },
   {
    "duration": 25,
    "start_time": "2022-08-26T11:56:23.486Z"
   },
   {
    "duration": 17,
    "start_time": "2022-08-26T11:56:33.791Z"
   },
   {
    "duration": 10,
    "start_time": "2022-08-26T11:58:46.340Z"
   },
   {
    "duration": 52,
    "start_time": "2022-08-26T11:59:55.273Z"
   },
   {
    "duration": 137,
    "start_time": "2022-08-26T12:00:24.995Z"
   },
   {
    "duration": 11,
    "start_time": "2022-08-26T12:01:03.060Z"
   },
   {
    "duration": 36,
    "start_time": "2022-08-26T12:02:17.649Z"
   },
   {
    "duration": 34,
    "start_time": "2022-08-26T12:02:43.039Z"
   },
   {
    "duration": 49,
    "start_time": "2022-08-26T12:02:50.275Z"
   },
   {
    "duration": 1208,
    "start_time": "2022-08-26T12:03:52.037Z"
   },
   {
    "duration": 579,
    "start_time": "2022-08-26T12:04:05.236Z"
   },
   {
    "duration": 602,
    "start_time": "2022-08-26T12:04:16.450Z"
   },
   {
    "duration": 684,
    "start_time": "2022-08-26T12:04:58.599Z"
   },
   {
    "duration": 8,
    "start_time": "2022-08-26T14:09:34.928Z"
   },
   {
    "duration": 673,
    "start_time": "2022-08-26T14:12:16.797Z"
   },
   {
    "duration": 3,
    "start_time": "2022-08-26T14:13:07.648Z"
   },
   {
    "duration": 3,
    "start_time": "2022-08-26T14:14:53.377Z"
   },
   {
    "duration": 3,
    "start_time": "2022-08-26T14:14:56.612Z"
   },
   {
    "duration": 3,
    "start_time": "2022-08-26T14:15:52.521Z"
   },
   {
    "duration": 11,
    "start_time": "2022-08-26T14:18:51.549Z"
   },
   {
    "duration": 5,
    "start_time": "2022-08-26T14:19:02.754Z"
   },
   {
    "duration": 12,
    "start_time": "2022-08-26T14:19:36.015Z"
   },
   {
    "duration": 11,
    "start_time": "2022-08-26T14:19:54.283Z"
   },
   {
    "duration": 3,
    "start_time": "2022-08-26T14:38:40.738Z"
   },
   {
    "duration": 113,
    "start_time": "2022-08-26T14:43:40.699Z"
   },
   {
    "duration": 26,
    "start_time": "2022-08-26T14:44:24.897Z"
   },
   {
    "duration": 7,
    "start_time": "2022-08-26T14:44:33.456Z"
   },
   {
    "duration": 4,
    "start_time": "2022-08-26T14:45:07.856Z"
   },
   {
    "duration": 4,
    "start_time": "2022-08-26T14:45:37.863Z"
   },
   {
    "duration": 9,
    "start_time": "2022-08-26T14:45:47.294Z"
   },
   {
    "duration": 10,
    "start_time": "2022-08-26T14:45:49.711Z"
   },
   {
    "duration": 11,
    "start_time": "2022-08-26T14:45:56.653Z"
   },
   {
    "duration": 9,
    "start_time": "2022-08-26T14:45:58.465Z"
   },
   {
    "duration": 2,
    "start_time": "2022-08-26T14:46:58.569Z"
   },
   {
    "duration": 39,
    "start_time": "2022-08-26T14:47:44.364Z"
   },
   {
    "duration": 8,
    "start_time": "2022-08-26T14:47:48.443Z"
   },
   {
    "duration": 7,
    "start_time": "2022-08-26T14:53:22.902Z"
   },
   {
    "duration": 7,
    "start_time": "2022-08-26T14:53:28.506Z"
   },
   {
    "duration": 7,
    "start_time": "2022-08-26T14:53:34.862Z"
   },
   {
    "duration": 7,
    "start_time": "2022-08-26T14:53:42.528Z"
   },
   {
    "duration": 5,
    "start_time": "2022-08-26T14:53:46.617Z"
   },
   {
    "duration": 4,
    "start_time": "2022-08-26T14:54:00.165Z"
   },
   {
    "duration": 8,
    "start_time": "2022-08-26T14:55:49.823Z"
   },
   {
    "duration": 8,
    "start_time": "2022-08-26T14:55:55.570Z"
   },
   {
    "duration": 13,
    "start_time": "2022-08-26T14:56:00.570Z"
   },
   {
    "duration": 7,
    "start_time": "2022-08-26T14:56:11.275Z"
   },
   {
    "duration": 5,
    "start_time": "2022-08-26T14:57:50.923Z"
   },
   {
    "duration": 4,
    "start_time": "2022-08-26T14:57:52.497Z"
   },
   {
    "duration": 9,
    "start_time": "2022-08-26T15:01:31.038Z"
   },
   {
    "duration": 7,
    "start_time": "2022-08-26T15:01:42.844Z"
   },
   {
    "duration": 3,
    "start_time": "2022-08-26T15:14:14.066Z"
   },
   {
    "duration": 974,
    "start_time": "2022-08-27T09:29:09.509Z"
   },
   {
    "duration": 761,
    "start_time": "2022-08-27T09:29:10.485Z"
   },
   {
    "duration": 10,
    "start_time": "2022-08-27T09:29:11.247Z"
   },
   {
    "duration": 17,
    "start_time": "2022-08-27T09:29:11.258Z"
   },
   {
    "duration": 19,
    "start_time": "2022-08-27T09:29:11.278Z"
   },
   {
    "duration": 15,
    "start_time": "2022-08-27T09:29:11.299Z"
   },
   {
    "duration": 14,
    "start_time": "2022-08-27T09:29:11.316Z"
   },
   {
    "duration": 141,
    "start_time": "2022-08-27T09:29:11.331Z"
   },
   {
    "duration": 18,
    "start_time": "2022-08-27T09:29:11.474Z"
   },
   {
    "duration": 42,
    "start_time": "2022-08-27T09:29:11.493Z"
   },
   {
    "duration": 49,
    "start_time": "2022-08-27T09:29:11.537Z"
   },
   {
    "duration": 32,
    "start_time": "2022-08-27T09:29:11.587Z"
   },
   {
    "duration": 988,
    "start_time": "2022-08-27T09:29:11.621Z"
   },
   {
    "duration": 755,
    "start_time": "2022-08-27T09:29:12.612Z"
   },
   {
    "duration": 613,
    "start_time": "2022-08-27T09:29:13.369Z"
   },
   {
    "duration": 6,
    "start_time": "2022-08-27T09:29:13.984Z"
   },
   {
    "duration": 8,
    "start_time": "2022-08-27T09:29:13.992Z"
   },
   {
    "duration": 10,
    "start_time": "2022-08-27T09:29:14.004Z"
   },
   {
    "duration": 17,
    "start_time": "2022-08-27T09:29:14.015Z"
   },
   {
    "duration": 12,
    "start_time": "2022-08-27T09:29:14.034Z"
   },
   {
    "duration": 37,
    "start_time": "2022-08-27T09:29:14.048Z"
   },
   {
    "duration": 11,
    "start_time": "2022-08-27T09:29:14.086Z"
   },
   {
    "duration": 4,
    "start_time": "2022-08-27T09:29:14.098Z"
   },
   {
    "duration": 46,
    "start_time": "2022-08-27T09:29:14.104Z"
   },
   {
    "duration": 3,
    "start_time": "2022-08-27T09:32:21.937Z"
   },
   {
    "duration": 98,
    "start_time": "2022-08-27T09:37:43.786Z"
   },
   {
    "duration": 11,
    "start_time": "2022-08-27T09:38:33.282Z"
   },
   {
    "duration": 680,
    "start_time": "2022-08-27T09:38:43.908Z"
   },
   {
    "duration": 4,
    "start_time": "2022-08-27T09:38:54.944Z"
   },
   {
    "duration": 4,
    "start_time": "2022-08-27T09:39:37.099Z"
   },
   {
    "duration": 4,
    "start_time": "2022-08-27T09:39:59.922Z"
   },
   {
    "duration": 3,
    "start_time": "2022-08-27T09:40:51.932Z"
   },
   {
    "duration": 3,
    "start_time": "2022-08-27T09:41:50.437Z"
   },
   {
    "duration": 16,
    "start_time": "2022-08-27T09:44:26.139Z"
   },
   {
    "duration": 3,
    "start_time": "2022-08-27T09:44:41.477Z"
   },
   {
    "duration": 4,
    "start_time": "2022-08-27T09:44:45.804Z"
   },
   {
    "duration": 18,
    "start_time": "2022-08-27T09:45:26.511Z"
   },
   {
    "duration": 373,
    "start_time": "2022-08-27T09:45:44.514Z"
   },
   {
    "duration": 4,
    "start_time": "2022-08-27T09:45:48.070Z"
   },
   {
    "duration": 7,
    "start_time": "2022-08-27T09:46:58.004Z"
   },
   {
    "duration": 4,
    "start_time": "2022-08-27T09:47:05.609Z"
   },
   {
    "duration": 6,
    "start_time": "2022-08-27T09:47:39.381Z"
   },
   {
    "duration": 3,
    "start_time": "2022-08-27T09:49:13.322Z"
   },
   {
    "duration": 12,
    "start_time": "2022-08-27T09:49:30.548Z"
   },
   {
    "duration": 10,
    "start_time": "2022-08-27T09:49:39.788Z"
   },
   {
    "duration": 4,
    "start_time": "2022-08-27T09:49:45.513Z"
   },
   {
    "duration": 11,
    "start_time": "2022-08-27T09:49:57.123Z"
   },
   {
    "duration": 5,
    "start_time": "2022-08-27T09:51:17.301Z"
   },
   {
    "duration": 4,
    "start_time": "2022-08-27T09:51:30.793Z"
   },
   {
    "duration": 416,
    "start_time": "2022-08-27T09:55:44.281Z"
   },
   {
    "duration": 3,
    "start_time": "2022-08-27T09:55:48.363Z"
   },
   {
    "duration": 6,
    "start_time": "2022-08-27T09:56:04.548Z"
   },
   {
    "duration": 3,
    "start_time": "2022-08-27T10:01:29.013Z"
   },
   {
    "duration": 46,
    "start_time": "2022-08-27T10:02:41.244Z"
   },
   {
    "duration": 18,
    "start_time": "2022-08-27T10:02:57.142Z"
   },
   {
    "duration": 3,
    "start_time": "2022-08-27T10:11:03.734Z"
   },
   {
    "duration": 491,
    "start_time": "2022-08-27T10:11:16.218Z"
   },
   {
    "duration": 5,
    "start_time": "2022-08-27T10:11:45.050Z"
   },
   {
    "duration": 3,
    "start_time": "2022-08-27T10:17:40.163Z"
   },
   {
    "duration": 419,
    "start_time": "2022-08-27T10:17:59.879Z"
   },
   {
    "duration": 1023,
    "start_time": "2022-08-28T09:53:15.018Z"
   },
   {
    "duration": 89,
    "start_time": "2022-08-28T09:56:19.133Z"
   },
   {
    "duration": 1008,
    "start_time": "2022-08-28T09:56:31.560Z"
   },
   {
    "duration": 776,
    "start_time": "2022-08-28T09:56:32.570Z"
   },
   {
    "duration": 10,
    "start_time": "2022-08-28T09:56:33.348Z"
   },
   {
    "duration": 11,
    "start_time": "2022-08-28T09:56:33.360Z"
   },
   {
    "duration": 23,
    "start_time": "2022-08-28T09:56:33.374Z"
   },
   {
    "duration": 13,
    "start_time": "2022-08-28T09:56:33.399Z"
   },
   {
    "duration": 15,
    "start_time": "2022-08-28T09:56:33.414Z"
   },
   {
    "duration": 132,
    "start_time": "2022-08-28T09:56:33.431Z"
   },
   {
    "duration": 22,
    "start_time": "2022-08-28T09:56:33.565Z"
   },
   {
    "duration": 41,
    "start_time": "2022-08-28T09:56:33.588Z"
   },
   {
    "duration": 35,
    "start_time": "2022-08-28T09:56:33.631Z"
   },
   {
    "duration": 50,
    "start_time": "2022-08-28T09:56:33.668Z"
   },
   {
    "duration": 1104,
    "start_time": "2022-08-28T09:56:33.720Z"
   },
   {
    "duration": 852,
    "start_time": "2022-08-28T09:56:34.827Z"
   },
   {
    "duration": 625,
    "start_time": "2022-08-28T09:56:35.681Z"
   },
   {
    "duration": 5,
    "start_time": "2022-08-28T09:56:36.308Z"
   },
   {
    "duration": 6,
    "start_time": "2022-08-28T09:56:36.315Z"
   },
   {
    "duration": 12,
    "start_time": "2022-08-28T09:56:36.322Z"
   },
   {
    "duration": 15,
    "start_time": "2022-08-28T09:56:36.336Z"
   },
   {
    "duration": 36,
    "start_time": "2022-08-28T09:56:36.353Z"
   },
   {
    "duration": 14,
    "start_time": "2022-08-28T09:56:36.391Z"
   },
   {
    "duration": 4,
    "start_time": "2022-08-28T09:56:36.407Z"
   },
   {
    "duration": 10,
    "start_time": "2022-08-28T09:56:36.413Z"
   },
   {
    "duration": 63,
    "start_time": "2022-08-28T09:56:36.425Z"
   },
   {
    "duration": 3,
    "start_time": "2022-08-28T09:56:36.490Z"
   },
   {
    "duration": 106,
    "start_time": "2022-08-28T09:56:36.494Z"
   },
   {
    "duration": 0,
    "start_time": "2022-08-28T09:56:36.602Z"
   },
   {
    "duration": 0,
    "start_time": "2022-08-28T09:56:36.604Z"
   },
   {
    "duration": 0,
    "start_time": "2022-08-28T09:56:36.606Z"
   },
   {
    "duration": 179,
    "start_time": "2022-08-28T09:59:14.307Z"
   },
   {
    "duration": 16,
    "start_time": "2022-08-28T09:59:20.940Z"
   },
   {
    "duration": 14,
    "start_time": "2022-08-28T09:59:54.966Z"
   },
   {
    "duration": 4,
    "start_time": "2022-08-28T10:03:08.654Z"
   },
   {
    "duration": 21,
    "start_time": "2022-08-28T10:04:33.668Z"
   },
   {
    "duration": 3,
    "start_time": "2022-08-28T10:06:15.104Z"
   },
   {
    "duration": 17,
    "start_time": "2022-08-28T10:06:20.780Z"
   },
   {
    "duration": 3,
    "start_time": "2022-08-28T10:06:33.416Z"
   },
   {
    "duration": 13,
    "start_time": "2022-08-28T10:06:35.736Z"
   },
   {
    "duration": 3,
    "start_time": "2022-08-28T10:06:58.408Z"
   },
   {
    "duration": 12,
    "start_time": "2022-08-28T10:07:02.604Z"
   },
   {
    "duration": 16,
    "start_time": "2022-08-28T10:07:36.647Z"
   },
   {
    "duration": 13,
    "start_time": "2022-08-28T10:07:54.007Z"
   },
   {
    "duration": 4,
    "start_time": "2022-08-28T10:13:11.070Z"
   },
   {
    "duration": 9,
    "start_time": "2022-08-28T10:13:24.053Z"
   },
   {
    "duration": 5,
    "start_time": "2022-08-28T10:13:31.797Z"
   },
   {
    "duration": 4,
    "start_time": "2022-08-28T10:13:56.183Z"
   },
   {
    "duration": 4,
    "start_time": "2022-08-28T10:15:52.087Z"
   },
   {
    "duration": 16,
    "start_time": "2022-08-28T10:16:33.136Z"
   },
   {
    "duration": 15,
    "start_time": "2022-08-28T10:16:36.105Z"
   },
   {
    "duration": 12,
    "start_time": "2022-08-28T10:16:39.050Z"
   },
   {
    "duration": 3,
    "start_time": "2022-08-28T10:16:46.706Z"
   },
   {
    "duration": 4,
    "start_time": "2022-08-28T10:19:03.674Z"
   },
   {
    "duration": 14,
    "start_time": "2022-08-28T10:19:07.346Z"
   },
   {
    "duration": 13,
    "start_time": "2022-08-28T10:19:20.328Z"
   },
   {
    "duration": 12,
    "start_time": "2022-08-28T10:19:24.351Z"
   },
   {
    "duration": 4,
    "start_time": "2022-08-28T10:20:08.951Z"
   },
   {
    "duration": 27,
    "start_time": "2022-08-28T10:20:20.358Z"
   },
   {
    "duration": 10,
    "start_time": "2022-08-28T10:20:36.118Z"
   },
   {
    "duration": 12,
    "start_time": "2022-08-28T10:20:37.856Z"
   },
   {
    "duration": 4,
    "start_time": "2022-08-28T10:20:41.493Z"
   },
   {
    "duration": 13,
    "start_time": "2022-08-28T10:20:43.225Z"
   },
   {
    "duration": 13,
    "start_time": "2022-08-28T10:20:47.322Z"
   },
   {
    "duration": 18,
    "start_time": "2022-08-28T10:20:49.119Z"
   },
   {
    "duration": 4,
    "start_time": "2022-08-28T10:31:48.021Z"
   },
   {
    "duration": 67,
    "start_time": "2022-08-28T10:32:07.921Z"
   },
   {
    "duration": 17,
    "start_time": "2022-08-28T10:32:15.090Z"
   },
   {
    "duration": 27,
    "start_time": "2022-08-28T10:32:32.755Z"
   },
   {
    "duration": 14,
    "start_time": "2022-08-28T10:32:44.625Z"
   },
   {
    "duration": 4,
    "start_time": "2022-08-28T10:33:06.724Z"
   },
   {
    "duration": 3,
    "start_time": "2022-08-28T10:33:22.975Z"
   },
   {
    "duration": 4,
    "start_time": "2022-08-28T10:33:28.745Z"
   },
   {
    "duration": 4,
    "start_time": "2022-08-28T10:33:38.519Z"
   },
   {
    "duration": 13,
    "start_time": "2022-08-28T10:33:42.732Z"
   },
   {
    "duration": 12,
    "start_time": "2022-08-28T10:33:52.101Z"
   },
   {
    "duration": 16,
    "start_time": "2022-08-28T10:33:56.339Z"
   },
   {
    "duration": 12,
    "start_time": "2022-08-28T10:34:00.697Z"
   },
   {
    "duration": 131,
    "start_time": "2022-08-28T10:36:33.447Z"
   },
   {
    "duration": 120,
    "start_time": "2022-08-28T10:36:45.276Z"
   },
   {
    "duration": 125,
    "start_time": "2022-08-28T10:36:51.628Z"
   },
   {
    "duration": 135,
    "start_time": "2022-08-28T10:37:33.799Z"
   },
   {
    "duration": 225,
    "start_time": "2022-08-28T10:37:50.246Z"
   },
   {
    "duration": 138,
    "start_time": "2022-08-28T10:38:10.044Z"
   },
   {
    "duration": 131,
    "start_time": "2022-08-28T10:38:33.020Z"
   },
   {
    "duration": 138,
    "start_time": "2022-08-28T10:38:46.677Z"
   },
   {
    "duration": 149,
    "start_time": "2022-08-28T10:39:35.019Z"
   },
   {
    "duration": 1053,
    "start_time": "2022-08-30T09:06:29.629Z"
   },
   {
    "duration": 1744,
    "start_time": "2022-08-30T09:06:30.684Z"
   },
   {
    "duration": 8,
    "start_time": "2022-08-30T09:06:32.430Z"
   },
   {
    "duration": 12,
    "start_time": "2022-08-30T09:06:32.440Z"
   },
   {
    "duration": 19,
    "start_time": "2022-08-30T09:06:32.454Z"
   },
   {
    "duration": 15,
    "start_time": "2022-08-30T09:06:32.475Z"
   },
   {
    "duration": 12,
    "start_time": "2022-08-30T09:06:32.491Z"
   },
   {
    "duration": 130,
    "start_time": "2022-08-30T09:06:32.504Z"
   },
   {
    "duration": 12,
    "start_time": "2022-08-30T09:06:32.635Z"
   },
   {
    "duration": 48,
    "start_time": "2022-08-30T09:06:32.648Z"
   },
   {
    "duration": 33,
    "start_time": "2022-08-30T09:06:32.698Z"
   },
   {
    "duration": 56,
    "start_time": "2022-08-30T09:06:32.733Z"
   },
   {
    "duration": 1070,
    "start_time": "2022-08-30T09:06:32.791Z"
   },
   {
    "duration": 763,
    "start_time": "2022-08-30T09:06:33.868Z"
   },
   {
    "duration": 650,
    "start_time": "2022-08-30T09:06:34.633Z"
   },
   {
    "duration": 5,
    "start_time": "2022-08-30T09:06:35.285Z"
   },
   {
    "duration": 7,
    "start_time": "2022-08-30T09:06:35.292Z"
   },
   {
    "duration": 10,
    "start_time": "2022-08-30T09:06:35.301Z"
   },
   {
    "duration": 14,
    "start_time": "2022-08-30T09:06:35.313Z"
   },
   {
    "duration": 39,
    "start_time": "2022-08-30T09:06:35.329Z"
   },
   {
    "duration": 13,
    "start_time": "2022-08-30T09:06:35.369Z"
   },
   {
    "duration": 4,
    "start_time": "2022-08-30T09:06:35.383Z"
   },
   {
    "duration": 11,
    "start_time": "2022-08-30T09:06:35.388Z"
   },
   {
    "duration": 50,
    "start_time": "2022-08-30T09:06:35.401Z"
   },
   {
    "duration": 2,
    "start_time": "2022-08-30T09:06:35.453Z"
   },
   {
    "duration": 12,
    "start_time": "2022-08-30T09:06:35.457Z"
   },
   {
    "duration": 101,
    "start_time": "2022-08-30T09:06:35.470Z"
   },
   {
    "duration": 198,
    "start_time": "2022-08-30T09:06:35.573Z"
   },
   {
    "duration": 98,
    "start_time": "2022-08-30T09:06:35.773Z"
   },
   {
    "duration": 353,
    "start_time": "2022-08-30T09:06:35.873Z"
   },
   {
    "duration": 2,
    "start_time": "2022-08-30T10:11:25.754Z"
   },
   {
    "duration": 3,
    "start_time": "2022-08-30T10:20:08.564Z"
   },
   {
    "duration": 3,
    "start_time": "2022-08-30T10:20:24.600Z"
   },
   {
    "duration": 4,
    "start_time": "2022-08-30T10:20:26.048Z"
   },
   {
    "duration": 4,
    "start_time": "2022-08-30T10:21:08.694Z"
   },
   {
    "duration": 14,
    "start_time": "2022-08-30T10:21:11.736Z"
   },
   {
    "duration": 107,
    "start_time": "2022-08-30T10:21:50.461Z"
   },
   {
    "duration": 107,
    "start_time": "2022-08-30T10:22:03.862Z"
   },
   {
    "duration": 34,
    "start_time": "2022-08-30T10:22:42.834Z"
   },
   {
    "duration": 39,
    "start_time": "2022-08-30T10:23:15.730Z"
   },
   {
    "duration": 3,
    "start_time": "2022-08-30T10:41:00.154Z"
   },
   {
    "duration": 12,
    "start_time": "2022-08-30T11:24:21.481Z"
   },
   {
    "duration": 14,
    "start_time": "2022-08-30T11:24:35.469Z"
   },
   {
    "duration": 10,
    "start_time": "2022-08-30T11:24:49.027Z"
   },
   {
    "duration": 7,
    "start_time": "2022-08-30T11:38:45.412Z"
   },
   {
    "duration": 3,
    "start_time": "2022-08-30T11:38:49.007Z"
   },
   {
    "duration": 11,
    "start_time": "2022-08-30T11:39:28.677Z"
   },
   {
    "duration": 23,
    "start_time": "2022-08-30T11:40:07.446Z"
   },
   {
    "duration": 4,
    "start_time": "2022-08-30T11:40:16.253Z"
   },
   {
    "duration": 2,
    "start_time": "2022-08-30T11:41:54.747Z"
   },
   {
    "duration": 42,
    "start_time": "2022-08-30T11:41:56.750Z"
   },
   {
    "duration": 4,
    "start_time": "2022-08-30T11:43:27.092Z"
   },
   {
    "duration": 261,
    "start_time": "2022-08-30T11:43:33.720Z"
   },
   {
    "duration": 4,
    "start_time": "2022-08-30T11:43:46.252Z"
   },
   {
    "duration": 12,
    "start_time": "2022-08-30T11:43:48.308Z"
   },
   {
    "duration": 14,
    "start_time": "2022-08-30T11:43:53.526Z"
   },
   {
    "duration": 15,
    "start_time": "2022-08-30T11:43:55.458Z"
   },
   {
    "duration": 164,
    "start_time": "2022-08-30T11:45:27.066Z"
   },
   {
    "duration": 3,
    "start_time": "2022-08-30T11:59:00.561Z"
   },
   {
    "duration": 3,
    "start_time": "2022-08-30T11:59:01.913Z"
   },
   {
    "duration": 115,
    "start_time": "2022-08-30T11:59:05.356Z"
   },
   {
    "duration": 86,
    "start_time": "2022-08-30T12:00:12.582Z"
   },
   {
    "duration": 144,
    "start_time": "2022-08-30T12:00:18.725Z"
   },
   {
    "duration": 3,
    "start_time": "2022-08-30T12:00:23.166Z"
   },
   {
    "duration": 3,
    "start_time": "2022-08-30T12:06:16.453Z"
   },
   {
    "duration": 4,
    "start_time": "2022-08-30T12:06:59.405Z"
   },
   {
    "duration": 4,
    "start_time": "2022-08-30T12:08:02.131Z"
   },
   {
    "duration": 4,
    "start_time": "2022-08-30T12:08:12.306Z"
   },
   {
    "duration": 4,
    "start_time": "2022-08-30T12:08:18.754Z"
   },
   {
    "duration": 3,
    "start_time": "2022-08-30T12:08:24.162Z"
   },
   {
    "duration": 3,
    "start_time": "2022-08-30T12:09:14.618Z"
   },
   {
    "duration": 7,
    "start_time": "2022-08-30T12:12:09.501Z"
   },
   {
    "duration": 6,
    "start_time": "2022-08-30T12:12:42.624Z"
   },
   {
    "duration": 115,
    "start_time": "2022-08-30T12:12:55.406Z"
   },
   {
    "duration": 108,
    "start_time": "2022-08-30T12:13:07.344Z"
   },
   {
    "duration": 88,
    "start_time": "2022-08-30T12:13:51.643Z"
   },
   {
    "duration": 6,
    "start_time": "2022-08-30T12:14:07.794Z"
   },
   {
    "duration": 5,
    "start_time": "2022-08-30T12:14:16.197Z"
   },
   {
    "duration": 4,
    "start_time": "2022-08-30T12:21:18.076Z"
   },
   {
    "duration": 29,
    "start_time": "2022-08-30T12:21:20.339Z"
   },
   {
    "duration": 3,
    "start_time": "2022-08-30T12:22:02.472Z"
   },
   {
    "duration": 14,
    "start_time": "2022-08-30T12:22:05.173Z"
   },
   {
    "duration": 4,
    "start_time": "2022-08-30T12:24:20.348Z"
   },
   {
    "duration": 13,
    "start_time": "2022-08-30T12:24:23.925Z"
   },
   {
    "duration": 3,
    "start_time": "2022-08-30T12:24:36.429Z"
   },
   {
    "duration": 5,
    "start_time": "2022-08-30T12:24:57.211Z"
   },
   {
    "duration": 12,
    "start_time": "2022-08-30T12:25:05.079Z"
   },
   {
    "duration": 3,
    "start_time": "2022-08-30T12:25:55.449Z"
   },
   {
    "duration": 12,
    "start_time": "2022-08-30T12:25:58.442Z"
   },
   {
    "duration": 3,
    "start_time": "2022-08-30T12:26:07.590Z"
   },
   {
    "duration": 4,
    "start_time": "2022-08-30T12:26:31.074Z"
   },
   {
    "duration": 4,
    "start_time": "2022-08-30T12:27:09.815Z"
   },
   {
    "duration": 4,
    "start_time": "2022-08-30T12:27:20.725Z"
   },
   {
    "duration": 4,
    "start_time": "2022-08-30T12:27:28.637Z"
   },
   {
    "duration": 4,
    "start_time": "2022-08-30T12:27:40.439Z"
   },
   {
    "duration": 4,
    "start_time": "2022-08-30T12:28:07.495Z"
   },
   {
    "duration": 14,
    "start_time": "2022-08-30T12:28:53.574Z"
   },
   {
    "duration": 5,
    "start_time": "2022-08-30T12:29:06.470Z"
   },
   {
    "duration": 4,
    "start_time": "2022-08-30T12:29:28.549Z"
   },
   {
    "duration": 3,
    "start_time": "2022-08-30T12:29:32.823Z"
   },
   {
    "duration": 78,
    "start_time": "2022-08-30T12:29:35.689Z"
   },
   {
    "duration": 4,
    "start_time": "2022-08-30T12:29:37.749Z"
   },
   {
    "duration": 4,
    "start_time": "2022-08-30T12:29:57.934Z"
   },
   {
    "duration": 4,
    "start_time": "2022-08-30T12:30:12.358Z"
   },
   {
    "duration": 4,
    "start_time": "2022-08-30T12:30:35.273Z"
   },
   {
    "duration": 4,
    "start_time": "2022-08-30T12:30:54.084Z"
   },
   {
    "duration": 4,
    "start_time": "2022-08-30T12:30:56.733Z"
   },
   {
    "duration": 13,
    "start_time": "2022-08-30T12:31:29.143Z"
   },
   {
    "duration": 4,
    "start_time": "2022-08-30T12:31:49.728Z"
   },
   {
    "duration": 167,
    "start_time": "2022-08-30T12:32:49.998Z"
   },
   {
    "duration": 28,
    "start_time": "2022-08-30T12:34:01.154Z"
   },
   {
    "duration": 14,
    "start_time": "2022-08-30T12:34:44.049Z"
   },
   {
    "duration": 4,
    "start_time": "2022-08-30T12:35:35.826Z"
   },
   {
    "duration": 15,
    "start_time": "2022-08-30T12:35:37.657Z"
   },
   {
    "duration": 4,
    "start_time": "2022-08-30T12:35:45.365Z"
   },
   {
    "duration": 14,
    "start_time": "2022-08-30T12:35:47.021Z"
   },
   {
    "duration": 16,
    "start_time": "2022-08-30T12:36:08.937Z"
   },
   {
    "duration": 14,
    "start_time": "2022-08-30T12:37:07.606Z"
   },
   {
    "duration": 4,
    "start_time": "2022-08-30T12:39:38.388Z"
   },
   {
    "duration": 3,
    "start_time": "2022-08-30T12:40:05.332Z"
   },
   {
    "duration": 72,
    "start_time": "2022-08-30T12:40:14.500Z"
   },
   {
    "duration": 5,
    "start_time": "2022-08-30T12:40:24.938Z"
   },
   {
    "duration": 3,
    "start_time": "2022-08-30T12:40:30.151Z"
   },
   {
    "duration": 22,
    "start_time": "2022-08-30T12:40:54.238Z"
   },
   {
    "duration": 14,
    "start_time": "2022-08-30T12:41:02.446Z"
   },
   {
    "duration": 12,
    "start_time": "2022-08-30T12:41:30.405Z"
   },
   {
    "duration": 9,
    "start_time": "2022-08-30T12:41:51.776Z"
   },
   {
    "duration": 4,
    "start_time": "2022-08-30T12:42:24.044Z"
   },
   {
    "duration": 147,
    "start_time": "2022-08-30T12:42:26.274Z"
   },
   {
    "duration": 344,
    "start_time": "2022-08-30T12:42:33.921Z"
   },
   {
    "duration": 4,
    "start_time": "2022-08-30T12:43:11.221Z"
   },
   {
    "duration": 28,
    "start_time": "2022-08-30T12:43:16.480Z"
   },
   {
    "duration": 3,
    "start_time": "2022-08-30T12:43:22.722Z"
   },
   {
    "duration": 18,
    "start_time": "2022-08-30T12:43:27.436Z"
   },
   {
    "duration": 4,
    "start_time": "2022-08-30T12:43:29.513Z"
   },
   {
    "duration": 13,
    "start_time": "2022-08-30T12:43:32.290Z"
   },
   {
    "duration": 4,
    "start_time": "2022-08-30T12:43:33.559Z"
   },
   {
    "duration": 233,
    "start_time": "2022-08-30T12:43:49.295Z"
   },
   {
    "duration": 176,
    "start_time": "2022-08-30T12:44:45.658Z"
   },
   {
    "duration": 367,
    "start_time": "2022-08-30T12:44:56.639Z"
   },
   {
    "duration": 259,
    "start_time": "2022-08-30T12:45:18.673Z"
   },
   {
    "duration": 267,
    "start_time": "2022-08-30T12:47:04.990Z"
   },
   {
    "duration": 356,
    "start_time": "2022-08-30T12:47:15.726Z"
   },
   {
    "duration": 230,
    "start_time": "2022-08-30T12:48:26.593Z"
   },
   {
    "duration": 260,
    "start_time": "2022-08-30T12:48:37.123Z"
   },
   {
    "duration": 4,
    "start_time": "2022-08-30T12:49:36.308Z"
   },
   {
    "duration": 274,
    "start_time": "2022-08-30T12:49:49.150Z"
   },
   {
    "duration": 3,
    "start_time": "2022-08-30T12:50:17.270Z"
   },
   {
    "duration": 75,
    "start_time": "2022-08-30T12:51:37.227Z"
   },
   {
    "duration": 3,
    "start_time": "2022-08-30T12:51:48.856Z"
   },
   {
    "duration": 274,
    "start_time": "2022-08-30T12:51:51.867Z"
   },
   {
    "duration": 4,
    "start_time": "2022-08-30T12:52:16.014Z"
   },
   {
    "duration": 389,
    "start_time": "2022-08-30T12:52:18.142Z"
   },
   {
    "duration": 428,
    "start_time": "2022-08-30T12:52:37.846Z"
   },
   {
    "duration": 269,
    "start_time": "2022-08-30T12:52:55.711Z"
   },
   {
    "duration": 10,
    "start_time": "2022-08-30T13:06:29.848Z"
   },
   {
    "duration": 10,
    "start_time": "2022-08-30T13:06:37.478Z"
   },
   {
    "duration": 23,
    "start_time": "2022-08-30T13:08:30.390Z"
   },
   {
    "duration": 9,
    "start_time": "2022-08-30T13:08:39.724Z"
   },
   {
    "duration": 6,
    "start_time": "2022-08-30T13:12:15.035Z"
   },
   {
    "duration": 5,
    "start_time": "2022-08-30T13:12:23.748Z"
   },
   {
    "duration": 6,
    "start_time": "2022-08-30T13:12:27.895Z"
   },
   {
    "duration": 7,
    "start_time": "2022-08-30T13:12:31.572Z"
   },
   {
    "duration": 6,
    "start_time": "2022-08-30T13:12:34.976Z"
   },
   {
    "duration": 6,
    "start_time": "2022-08-30T13:12:39.934Z"
   },
   {
    "duration": 5,
    "start_time": "2022-08-30T13:12:43.232Z"
   },
   {
    "duration": 6,
    "start_time": "2022-08-30T13:12:57.660Z"
   },
   {
    "duration": 7,
    "start_time": "2022-08-30T13:13:01.497Z"
   },
   {
    "duration": 6,
    "start_time": "2022-08-30T13:13:04.968Z"
   },
   {
    "duration": 7,
    "start_time": "2022-08-30T13:13:17.176Z"
   },
   {
    "duration": 6,
    "start_time": "2022-08-30T13:13:20.967Z"
   },
   {
    "duration": 6,
    "start_time": "2022-08-30T13:13:29.880Z"
   },
   {
    "duration": 6,
    "start_time": "2022-08-30T13:13:37.557Z"
   },
   {
    "duration": 7,
    "start_time": "2022-08-30T13:13:45.278Z"
   },
   {
    "duration": 6,
    "start_time": "2022-08-30T13:13:49.772Z"
   },
   {
    "duration": 4,
    "start_time": "2022-08-30T13:35:27.197Z"
   },
   {
    "duration": 4,
    "start_time": "2022-08-30T13:42:26.505Z"
   },
   {
    "duration": 31,
    "start_time": "2022-08-30T13:47:40.028Z"
   },
   {
    "duration": 3,
    "start_time": "2022-08-30T13:48:41.395Z"
   },
   {
    "duration": 23,
    "start_time": "2022-08-30T13:48:44.001Z"
   },
   {
    "duration": 3,
    "start_time": "2022-08-30T13:53:15.157Z"
   },
   {
    "duration": 9,
    "start_time": "2022-08-30T13:53:17.292Z"
   },
   {
    "duration": 4,
    "start_time": "2022-08-30T13:53:36.545Z"
   },
   {
    "duration": 8,
    "start_time": "2022-08-30T13:53:46.024Z"
   },
   {
    "duration": 70,
    "start_time": "2022-08-30T13:54:41.897Z"
   },
   {
    "duration": 91,
    "start_time": "2022-08-30T13:54:52.329Z"
   },
   {
    "duration": 81,
    "start_time": "2022-08-30T13:54:56.306Z"
   },
   {
    "duration": 74,
    "start_time": "2022-08-30T13:55:21.218Z"
   },
   {
    "duration": 75,
    "start_time": "2022-08-30T13:55:25.193Z"
   },
   {
    "duration": 67,
    "start_time": "2022-08-30T13:56:25.813Z"
   },
   {
    "duration": 75,
    "start_time": "2022-08-30T13:56:53.825Z"
   },
   {
    "duration": 3,
    "start_time": "2022-08-30T13:57:05.839Z"
   },
   {
    "duration": 128,
    "start_time": "2022-08-30T13:57:51.610Z"
   },
   {
    "duration": 71,
    "start_time": "2022-08-30T13:58:12.151Z"
   },
   {
    "duration": 7,
    "start_time": "2022-08-30T13:58:45.266Z"
   },
   {
    "duration": 7,
    "start_time": "2022-08-30T13:59:05.082Z"
   },
   {
    "duration": 10,
    "start_time": "2022-08-30T13:59:16.643Z"
   },
   {
    "duration": 11,
    "start_time": "2022-08-30T13:59:53.415Z"
   },
   {
    "duration": 12,
    "start_time": "2022-08-30T14:00:19.233Z"
   },
   {
    "duration": 16,
    "start_time": "2022-08-30T14:00:34.774Z"
   },
   {
    "duration": 6,
    "start_time": "2022-08-30T14:11:09.575Z"
   },
   {
    "duration": 5,
    "start_time": "2022-08-30T14:12:09.948Z"
   },
   {
    "duration": 25,
    "start_time": "2022-08-30T14:14:52.894Z"
   },
   {
    "duration": 6,
    "start_time": "2022-08-30T14:21:08.719Z"
   },
   {
    "duration": 24,
    "start_time": "2022-08-30T14:21:11.595Z"
   },
   {
    "duration": 6,
    "start_time": "2022-08-30T14:26:31.067Z"
   },
   {
    "duration": 23,
    "start_time": "2022-08-30T14:26:33.082Z"
   },
   {
    "duration": 21,
    "start_time": "2022-08-30T14:26:42.677Z"
   },
   {
    "duration": 3,
    "start_time": "2022-08-30T14:35:05.779Z"
   },
   {
    "duration": 22,
    "start_time": "2022-08-30T14:35:10.506Z"
   },
   {
    "duration": 5,
    "start_time": "2022-08-30T14:35:20.037Z"
   },
   {
    "duration": 25,
    "start_time": "2022-08-30T14:35:23.148Z"
   },
   {
    "duration": 1149,
    "start_time": "2022-08-31T11:01:59.797Z"
   },
   {
    "duration": 826,
    "start_time": "2022-08-31T11:02:00.949Z"
   },
   {
    "duration": 10,
    "start_time": "2022-08-31T11:02:01.777Z"
   },
   {
    "duration": 11,
    "start_time": "2022-08-31T11:02:01.789Z"
   },
   {
    "duration": 17,
    "start_time": "2022-08-31T11:02:01.802Z"
   },
   {
    "duration": 15,
    "start_time": "2022-08-31T11:02:01.820Z"
   },
   {
    "duration": 13,
    "start_time": "2022-08-31T11:02:01.837Z"
   },
   {
    "duration": 172,
    "start_time": "2022-08-31T11:02:01.852Z"
   },
   {
    "duration": 13,
    "start_time": "2022-08-31T11:02:02.026Z"
   },
   {
    "duration": 46,
    "start_time": "2022-08-31T11:02:02.041Z"
   },
   {
    "duration": 41,
    "start_time": "2022-08-31T11:02:02.103Z"
   },
   {
    "duration": 58,
    "start_time": "2022-08-31T11:02:02.146Z"
   },
   {
    "duration": 1136,
    "start_time": "2022-08-31T11:02:02.206Z"
   },
   {
    "duration": 877,
    "start_time": "2022-08-31T11:02:03.345Z"
   },
   {
    "duration": 709,
    "start_time": "2022-08-31T11:02:04.224Z"
   },
   {
    "duration": 6,
    "start_time": "2022-08-31T11:02:04.935Z"
   },
   {
    "duration": 6,
    "start_time": "2022-08-31T11:02:04.942Z"
   },
   {
    "duration": 14,
    "start_time": "2022-08-31T11:02:04.950Z"
   },
   {
    "duration": 39,
    "start_time": "2022-08-31T11:02:04.966Z"
   },
   {
    "duration": 10,
    "start_time": "2022-08-31T11:02:05.007Z"
   },
   {
    "duration": 14,
    "start_time": "2022-08-31T11:02:05.019Z"
   },
   {
    "duration": 8,
    "start_time": "2022-08-31T11:02:05.035Z"
   },
   {
    "duration": 39,
    "start_time": "2022-08-31T11:02:05.045Z"
   },
   {
    "duration": 18,
    "start_time": "2022-08-31T11:02:05.086Z"
   },
   {
    "duration": 4,
    "start_time": "2022-08-31T11:02:05.106Z"
   },
   {
    "duration": 46,
    "start_time": "2022-08-31T11:02:05.112Z"
   },
   {
    "duration": 3,
    "start_time": "2022-08-31T11:02:05.160Z"
   },
   {
    "duration": 10,
    "start_time": "2022-08-31T11:02:05.167Z"
   },
   {
    "duration": 130,
    "start_time": "2022-08-31T11:02:05.179Z"
   },
   {
    "duration": 101,
    "start_time": "2022-08-31T11:02:05.311Z"
   },
   {
    "duration": 23,
    "start_time": "2022-08-31T11:02:05.414Z"
   },
   {
    "duration": 5,
    "start_time": "2022-08-31T11:02:05.504Z"
   },
   {
    "duration": 109,
    "start_time": "2022-08-31T11:02:05.510Z"
   },
   {
    "duration": 84,
    "start_time": "2022-08-31T11:02:05.621Z"
   },
   {
    "duration": 277,
    "start_time": "2022-08-31T11:02:05.707Z"
   },
   {
    "duration": 2,
    "start_time": "2022-08-31T11:02:05.986Z"
   },
   {
    "duration": 13,
    "start_time": "2022-08-31T11:02:05.990Z"
   },
   {
    "duration": 17,
    "start_time": "2022-08-31T11:02:06.005Z"
   },
   {
    "duration": 14,
    "start_time": "2022-08-31T11:02:06.024Z"
   },
   {
    "duration": 14,
    "start_time": "2022-08-31T11:02:06.040Z"
   },
   {
    "duration": 4,
    "start_time": "2022-08-31T11:02:06.056Z"
   },
   {
    "duration": 9,
    "start_time": "2022-08-31T11:02:06.061Z"
   },
   {
    "duration": 33,
    "start_time": "2022-08-31T11:02:06.072Z"
   },
   {
    "duration": 3,
    "start_time": "2022-08-31T11:02:06.107Z"
   },
   {
    "duration": 307,
    "start_time": "2022-08-31T11:02:06.111Z"
   },
   {
    "duration": 396,
    "start_time": "2022-08-31T11:02:06.421Z"
   },
   {
    "duration": 290,
    "start_time": "2022-08-31T11:02:06.818Z"
   },
   {
    "duration": 10,
    "start_time": "2022-08-31T11:02:07.110Z"
   },
   {
    "duration": 7,
    "start_time": "2022-08-31T11:02:07.122Z"
   },
   {
    "duration": 5,
    "start_time": "2022-08-31T11:02:07.130Z"
   },
   {
    "duration": 19,
    "start_time": "2022-08-31T11:02:07.137Z"
   },
   {
    "duration": 6,
    "start_time": "2022-08-31T11:02:07.158Z"
   },
   {
    "duration": 166,
    "start_time": "2022-08-31T11:02:07.166Z"
   },
   {
    "duration": 4,
    "start_time": "2022-08-31T11:04:06.223Z"
   },
   {
    "duration": 26,
    "start_time": "2022-08-31T11:04:08.756Z"
   },
   {
    "duration": 109,
    "start_time": "2022-08-31T11:04:34.763Z"
   },
   {
    "duration": 24,
    "start_time": "2022-08-31T11:04:44.666Z"
   },
   {
    "duration": 4,
    "start_time": "2022-08-31T11:05:12.033Z"
   },
   {
    "duration": 4,
    "start_time": "2022-08-31T11:05:20.178Z"
   },
   {
    "duration": 4,
    "start_time": "2022-08-31T11:07:16.058Z"
   },
   {
    "duration": 33,
    "start_time": "2022-08-31T11:07:42.165Z"
   },
   {
    "duration": 3,
    "start_time": "2022-08-31T11:08:15.429Z"
   },
   {
    "duration": 30,
    "start_time": "2022-08-31T11:08:17.860Z"
   },
   {
    "duration": 4,
    "start_time": "2022-08-31T11:08:34.328Z"
   },
   {
    "duration": 26,
    "start_time": "2022-08-31T11:08:36.261Z"
   },
   {
    "duration": 3,
    "start_time": "2022-08-31T11:08:54.304Z"
   },
   {
    "duration": 12,
    "start_time": "2022-08-31T11:08:56.609Z"
   },
   {
    "duration": 3,
    "start_time": "2022-08-31T11:09:11.128Z"
   },
   {
    "duration": 12,
    "start_time": "2022-08-31T11:09:16.416Z"
   },
   {
    "duration": 20,
    "start_time": "2022-08-31T11:09:32.135Z"
   },
   {
    "duration": 5,
    "start_time": "2022-08-31T11:10:21.166Z"
   },
   {
    "duration": 22,
    "start_time": "2022-08-31T11:10:23.957Z"
   },
   {
    "duration": 5,
    "start_time": "2022-08-31T11:12:49.725Z"
   },
   {
    "duration": 20,
    "start_time": "2022-08-31T11:12:52.299Z"
   },
   {
    "duration": 21,
    "start_time": "2022-08-31T11:13:19.726Z"
   },
   {
    "duration": 6,
    "start_time": "2022-08-31T11:16:32.806Z"
   },
   {
    "duration": 20,
    "start_time": "2022-08-31T11:16:50.483Z"
   },
   {
    "duration": 31,
    "start_time": "2022-08-31T11:17:58.887Z"
   },
   {
    "duration": 6,
    "start_time": "2022-08-31T11:19:24.098Z"
   },
   {
    "duration": 32,
    "start_time": "2022-08-31T11:19:27.240Z"
   },
   {
    "duration": 5,
    "start_time": "2022-08-31T11:21:48.772Z"
   },
   {
    "duration": 20,
    "start_time": "2022-08-31T11:21:51.088Z"
   },
   {
    "duration": 10,
    "start_time": "2022-08-31T11:25:56.373Z"
   },
   {
    "duration": 13,
    "start_time": "2022-08-31T11:26:09.291Z"
   },
   {
    "duration": 12,
    "start_time": "2022-08-31T11:26:33.306Z"
   },
   {
    "duration": 15,
    "start_time": "2022-08-31T11:27:27.083Z"
   },
   {
    "duration": 16,
    "start_time": "2022-08-31T11:28:03.210Z"
   },
   {
    "duration": 53,
    "start_time": "2022-08-31T11:28:29.833Z"
   },
   {
    "duration": 3,
    "start_time": "2022-08-31T11:29:07.027Z"
   },
   {
    "duration": 25,
    "start_time": "2022-08-31T11:29:17.240Z"
   },
   {
    "duration": 8,
    "start_time": "2022-08-31T11:30:03.775Z"
   },
   {
    "duration": 8,
    "start_time": "2022-08-31T11:30:46.043Z"
   },
   {
    "duration": 18,
    "start_time": "2022-08-31T11:31:02.195Z"
   },
   {
    "duration": 19,
    "start_time": "2022-08-31T11:31:22.317Z"
   },
   {
    "duration": 8,
    "start_time": "2022-08-31T11:31:39.560Z"
   },
   {
    "duration": 8,
    "start_time": "2022-08-31T11:32:09.397Z"
   },
   {
    "duration": 7,
    "start_time": "2022-08-31T11:32:15.327Z"
   },
   {
    "duration": 3,
    "start_time": "2022-08-31T11:33:00.040Z"
   },
   {
    "duration": 6,
    "start_time": "2022-08-31T11:33:07.057Z"
   },
   {
    "duration": 19,
    "start_time": "2022-08-31T11:33:10.798Z"
   },
   {
    "duration": 3,
    "start_time": "2022-08-31T11:33:32.636Z"
   },
   {
    "duration": 17,
    "start_time": "2022-08-31T11:33:34.425Z"
   },
   {
    "duration": 85,
    "start_time": "2022-08-31T11:37:15.359Z"
   },
   {
    "duration": 1277,
    "start_time": "2022-08-31T11:37:42.665Z"
   },
   {
    "duration": 19,
    "start_time": "2022-08-31T11:39:00.200Z"
   },
   {
    "duration": 17,
    "start_time": "2022-08-31T11:39:58.308Z"
   },
   {
    "duration": 21,
    "start_time": "2022-08-31T11:40:51.075Z"
   },
   {
    "duration": 1263,
    "start_time": "2022-08-31T11:41:01.916Z"
   },
   {
    "duration": 20,
    "start_time": "2022-08-31T11:47:00.164Z"
   },
   {
    "duration": 18,
    "start_time": "2022-08-31T12:03:14.285Z"
   },
   {
    "duration": 17,
    "start_time": "2022-08-31T12:04:10.774Z"
   },
   {
    "duration": 1281,
    "start_time": "2022-08-31T12:04:39.580Z"
   },
   {
    "duration": 1265,
    "start_time": "2022-08-31T12:05:10.946Z"
   },
   {
    "duration": 4,
    "start_time": "2022-08-31T12:05:57.035Z"
   },
   {
    "duration": 19,
    "start_time": "2022-08-31T12:05:59.022Z"
   },
   {
    "duration": 1260,
    "start_time": "2022-08-31T12:06:09.193Z"
   },
   {
    "duration": 1265,
    "start_time": "2022-08-31T12:06:33.151Z"
   },
   {
    "duration": 608,
    "start_time": "2022-08-31T12:07:20.438Z"
   },
   {
    "duration": 19,
    "start_time": "2022-08-31T12:07:57.154Z"
   },
   {
    "duration": 18,
    "start_time": "2022-08-31T12:08:24.798Z"
   },
   {
    "duration": 19,
    "start_time": "2022-08-31T12:08:46.785Z"
   },
   {
    "duration": 780,
    "start_time": "2022-08-31T12:11:23.704Z"
   },
   {
    "duration": 360,
    "start_time": "2022-08-31T12:11:45.950Z"
   },
   {
    "duration": 598,
    "start_time": "2022-08-31T12:12:17.643Z"
   },
   {
    "duration": 308,
    "start_time": "2022-08-31T12:12:32.226Z"
   },
   {
    "duration": 1300,
    "start_time": "2022-08-31T12:12:54.704Z"
   },
   {
    "duration": 14,
    "start_time": "2022-08-31T12:13:26.740Z"
   },
   {
    "duration": 13,
    "start_time": "2022-08-31T12:13:31.363Z"
   },
   {
    "duration": 4,
    "start_time": "2022-08-31T12:14:20.295Z"
   },
   {
    "duration": 15,
    "start_time": "2022-08-31T12:14:25.431Z"
   },
   {
    "duration": 4,
    "start_time": "2022-08-31T12:14:28.178Z"
   },
   {
    "duration": 13,
    "start_time": "2022-08-31T12:14:30.840Z"
   },
   {
    "duration": 3,
    "start_time": "2022-08-31T12:14:32.785Z"
   },
   {
    "duration": 13,
    "start_time": "2022-08-31T12:14:34.852Z"
   },
   {
    "duration": 4,
    "start_time": "2022-08-31T12:14:36.659Z"
   },
   {
    "duration": 176,
    "start_time": "2022-08-31T12:14:42.828Z"
   },
   {
    "duration": 3,
    "start_time": "2022-08-31T12:14:48.805Z"
   },
   {
    "duration": 4,
    "start_time": "2022-08-31T12:14:57.222Z"
   },
   {
    "duration": 16,
    "start_time": "2022-08-31T12:15:00.276Z"
   },
   {
    "duration": 15,
    "start_time": "2022-08-31T12:15:04.531Z"
   },
   {
    "duration": 15,
    "start_time": "2022-08-31T12:15:06.953Z"
   },
   {
    "duration": 3,
    "start_time": "2022-08-31T12:15:09.868Z"
   },
   {
    "duration": 4,
    "start_time": "2022-08-31T12:15:12.982Z"
   },
   {
    "duration": 7,
    "start_time": "2022-08-31T12:15:15.992Z"
   },
   {
    "duration": 3,
    "start_time": "2022-08-31T12:15:21.813Z"
   },
   {
    "duration": 14,
    "start_time": "2022-08-31T12:15:23.871Z"
   },
   {
    "duration": 3,
    "start_time": "2022-08-31T12:15:36.443Z"
   },
   {
    "duration": 4,
    "start_time": "2022-08-31T12:16:20.967Z"
   },
   {
    "duration": 282,
    "start_time": "2022-08-31T12:16:28.156Z"
   },
   {
    "duration": 264,
    "start_time": "2022-08-31T12:16:33.656Z"
   },
   {
    "duration": 384,
    "start_time": "2022-08-31T12:16:36.552Z"
   },
   {
    "duration": 10,
    "start_time": "2022-08-31T12:16:41.095Z"
   },
   {
    "duration": 6,
    "start_time": "2022-08-31T12:16:43.545Z"
   },
   {
    "duration": 4,
    "start_time": "2022-08-31T12:16:47.394Z"
   },
   {
    "duration": 14,
    "start_time": "2022-08-31T12:16:54.225Z"
   },
   {
    "duration": 16,
    "start_time": "2022-08-31T12:17:43.417Z"
   },
   {
    "duration": 606,
    "start_time": "2022-08-31T12:17:49.973Z"
   },
   {
    "duration": 12,
    "start_time": "2022-08-31T12:17:58.136Z"
   },
   {
    "duration": 320,
    "start_time": "2022-08-31T12:18:41.515Z"
   },
   {
    "duration": 11,
    "start_time": "2022-08-31T12:19:21.555Z"
   },
   {
    "duration": 2158,
    "start_time": "2022-08-31T12:19:49.648Z"
   },
   {
    "duration": 2031,
    "start_time": "2022-08-31T12:20:30.682Z"
   },
   {
    "duration": 343,
    "start_time": "2022-08-31T12:20:38.289Z"
   },
   {
    "duration": 1351,
    "start_time": "2022-08-31T12:20:55.760Z"
   },
   {
    "duration": 15,
    "start_time": "2022-08-31T12:21:12.199Z"
   },
   {
    "duration": 14,
    "start_time": "2022-08-31T12:21:55.151Z"
   },
   {
    "duration": 18,
    "start_time": "2022-08-31T12:23:10.193Z"
   },
   {
    "duration": 1385,
    "start_time": "2022-08-31T12:23:18.484Z"
   },
   {
    "duration": 3,
    "start_time": "2022-08-31T12:23:25.619Z"
   },
   {
    "duration": 101,
    "start_time": "2022-08-31T12:23:27.501Z"
   },
   {
    "duration": 13,
    "start_time": "2022-08-31T12:23:31.070Z"
   },
   {
    "duration": 14,
    "start_time": "2022-08-31T12:23:33.088Z"
   },
   {
    "duration": 13,
    "start_time": "2022-08-31T12:23:40.115Z"
   },
   {
    "duration": 11,
    "start_time": "2022-08-31T12:23:53.018Z"
   },
   {
    "duration": 12,
    "start_time": "2022-08-31T12:26:27.953Z"
   },
   {
    "duration": 13,
    "start_time": "2022-08-31T12:26:47.370Z"
   },
   {
    "duration": 2575,
    "start_time": "2022-08-31T12:27:05.855Z"
   },
   {
    "duration": 2694,
    "start_time": "2022-08-31T12:27:38.144Z"
   },
   {
    "duration": 4,
    "start_time": "2022-08-31T12:27:42.903Z"
   },
   {
    "duration": 22,
    "start_time": "2022-08-31T12:27:44.614Z"
   },
   {
    "duration": 11,
    "start_time": "2022-08-31T12:27:52.231Z"
   },
   {
    "duration": 613,
    "start_time": "2022-08-31T12:27:59.291Z"
   },
   {
    "duration": 4,
    "start_time": "2022-08-31T12:30:03.164Z"
   },
   {
    "duration": 17,
    "start_time": "2022-08-31T12:30:06.639Z"
   },
   {
    "duration": 1393,
    "start_time": "2022-08-31T12:30:39.782Z"
   },
   {
    "duration": 13,
    "start_time": "2022-08-31T12:30:52.035Z"
   },
   {
    "duration": 597,
    "start_time": "2022-08-31T12:32:36.252Z"
   },
   {
    "duration": 771,
    "start_time": "2022-08-31T12:33:29.812Z"
   },
   {
    "duration": 501,
    "start_time": "2022-08-31T12:34:32.184Z"
   },
   {
    "duration": 231,
    "start_time": "2022-08-31T12:34:57.044Z"
   },
   {
    "duration": 3,
    "start_time": "2022-08-31T12:37:13.170Z"
   },
   {
    "duration": 16,
    "start_time": "2022-08-31T12:37:28.063Z"
   },
   {
    "duration": 250,
    "start_time": "2022-08-31T12:39:18.010Z"
   },
   {
    "duration": 14,
    "start_time": "2022-08-31T12:39:25.676Z"
   },
   {
    "duration": 12,
    "start_time": "2022-08-31T12:43:09.449Z"
   },
   {
    "duration": 1136,
    "start_time": "2022-08-31T12:43:34.563Z"
   },
   {
    "duration": 413,
    "start_time": "2022-08-31T12:43:35.702Z"
   },
   {
    "duration": 10,
    "start_time": "2022-08-31T12:43:36.116Z"
   },
   {
    "duration": 13,
    "start_time": "2022-08-31T12:43:36.129Z"
   },
   {
    "duration": 35,
    "start_time": "2022-08-31T12:43:36.144Z"
   },
   {
    "duration": 22,
    "start_time": "2022-08-31T12:43:36.181Z"
   },
   {
    "duration": 20,
    "start_time": "2022-08-31T12:43:36.204Z"
   },
   {
    "duration": 155,
    "start_time": "2022-08-31T12:43:36.226Z"
   },
   {
    "duration": 22,
    "start_time": "2022-08-31T12:43:36.382Z"
   },
   {
    "duration": 54,
    "start_time": "2022-08-31T12:43:36.407Z"
   },
   {
    "duration": 59,
    "start_time": "2022-08-31T12:43:36.463Z"
   },
   {
    "duration": 38,
    "start_time": "2022-08-31T12:43:36.524Z"
   },
   {
    "duration": 1014,
    "start_time": "2022-08-31T12:43:36.564Z"
   },
   {
    "duration": 832,
    "start_time": "2022-08-31T12:43:37.580Z"
   },
   {
    "duration": 826,
    "start_time": "2022-08-31T12:43:38.414Z"
   },
   {
    "duration": 6,
    "start_time": "2022-08-31T12:43:39.242Z"
   },
   {
    "duration": 10,
    "start_time": "2022-08-31T12:43:39.250Z"
   },
   {
    "duration": 14,
    "start_time": "2022-08-31T12:43:39.262Z"
   },
   {
    "duration": 37,
    "start_time": "2022-08-31T12:43:39.278Z"
   },
   {
    "duration": 13,
    "start_time": "2022-08-31T12:43:39.317Z"
   },
   {
    "duration": 17,
    "start_time": "2022-08-31T12:43:39.332Z"
   },
   {
    "duration": 5,
    "start_time": "2022-08-31T12:43:39.351Z"
   },
   {
    "duration": 54,
    "start_time": "2022-08-31T12:43:39.358Z"
   },
   {
    "duration": 5,
    "start_time": "2022-08-31T12:43:39.414Z"
   },
   {
    "duration": 5,
    "start_time": "2022-08-31T12:43:39.421Z"
   },
   {
    "duration": 48,
    "start_time": "2022-08-31T12:43:39.428Z"
   },
   {
    "duration": 25,
    "start_time": "2022-08-31T12:43:39.478Z"
   },
   {
    "duration": 4,
    "start_time": "2022-08-31T12:43:39.508Z"
   },
   {
    "duration": 22,
    "start_time": "2022-08-31T12:43:39.514Z"
   },
   {
    "duration": 70,
    "start_time": "2022-08-31T12:43:39.537Z"
   },
   {
    "duration": 106,
    "start_time": "2022-08-31T12:43:39.608Z"
   },
   {
    "duration": 89,
    "start_time": "2022-08-31T12:43:39.716Z"
   },
   {
    "duration": 102,
    "start_time": "2022-08-31T12:43:39.807Z"
   },
   {
    "duration": 193,
    "start_time": "2022-08-31T12:43:39.911Z"
   },
   {
    "duration": 203,
    "start_time": "2022-08-31T12:43:40.106Z"
   },
   {
    "duration": 3,
    "start_time": "2022-08-31T12:43:40.312Z"
   },
   {
    "duration": 6,
    "start_time": "2022-08-31T12:43:40.317Z"
   },
   {
    "duration": 31,
    "start_time": "2022-08-31T12:43:40.325Z"
   },
   {
    "duration": 20,
    "start_time": "2022-08-31T12:43:40.359Z"
   },
   {
    "duration": 18,
    "start_time": "2022-08-31T12:43:40.402Z"
   },
   {
    "duration": 16,
    "start_time": "2022-08-31T12:43:40.422Z"
   },
   {
    "duration": 15,
    "start_time": "2022-08-31T12:43:40.440Z"
   },
   {
    "duration": 14,
    "start_time": "2022-08-31T12:43:40.458Z"
   },
   {
    "duration": 8,
    "start_time": "2022-08-31T12:43:40.475Z"
   },
   {
    "duration": 331,
    "start_time": "2022-08-31T12:43:40.486Z"
   },
   {
    "duration": 707,
    "start_time": "2022-08-31T12:43:40.820Z"
   },
   {
    "duration": 600,
    "start_time": "2022-08-31T12:43:41.528Z"
   },
   {
    "duration": 10,
    "start_time": "2022-08-31T12:43:42.130Z"
   },
   {
    "duration": 62,
    "start_time": "2022-08-31T12:43:42.142Z"
   },
   {
    "duration": 3,
    "start_time": "2022-08-31T12:43:42.206Z"
   },
   {
    "duration": 24,
    "start_time": "2022-08-31T12:43:42.211Z"
   },
   {
    "duration": 501,
    "start_time": "2022-08-31T12:43:42.237Z"
   },
   {
    "duration": 265,
    "start_time": "2022-08-31T12:43:42.739Z"
   },
   {
    "duration": 11,
    "start_time": "2022-08-31T12:43:53.617Z"
   },
   {
    "duration": 5,
    "start_time": "2022-08-31T12:43:59.600Z"
   },
   {
    "duration": 11,
    "start_time": "2022-08-31T12:44:57.299Z"
   },
   {
    "duration": 12,
    "start_time": "2022-08-31T12:45:29.925Z"
   },
   {
    "duration": 323,
    "start_time": "2022-08-31T12:45:42.307Z"
   },
   {
    "duration": 425,
    "start_time": "2022-08-31T12:46:12.638Z"
   },
   {
    "duration": 295,
    "start_time": "2022-08-31T12:46:20.273Z"
   },
   {
    "duration": 616,
    "start_time": "2022-08-31T12:46:33.930Z"
   },
   {
    "duration": 1560,
    "start_time": "2022-08-31T12:46:55.454Z"
   },
   {
    "duration": 1046,
    "start_time": "2022-08-31T12:47:17.482Z"
   },
   {
    "duration": 977,
    "start_time": "2022-08-31T12:47:32.650Z"
   },
   {
    "duration": 5568,
    "start_time": "2022-08-31T12:47:46.703Z"
   },
   {
    "duration": 14,
    "start_time": "2022-08-31T12:47:54.687Z"
   },
   {
    "duration": 22,
    "start_time": "2022-08-31T12:48:15.662Z"
   },
   {
    "duration": 12,
    "start_time": "2022-08-31T12:49:03.662Z"
   },
   {
    "duration": 13,
    "start_time": "2022-08-31T12:51:07.314Z"
   },
   {
    "duration": 282,
    "start_time": "2022-08-31T12:51:16.702Z"
   },
   {
    "duration": 1118,
    "start_time": "2022-08-31T12:51:38.298Z"
   },
   {
    "duration": 1033,
    "start_time": "2022-08-31T12:51:52.451Z"
   },
   {
    "duration": 1106,
    "start_time": "2022-08-31T12:52:10.948Z"
   },
   {
    "duration": 1100,
    "start_time": "2022-08-31T12:52:20.976Z"
   },
   {
    "duration": 87,
    "start_time": "2022-08-31T12:53:04.585Z"
   },
   {
    "duration": 7,
    "start_time": "2022-08-31T12:53:14.628Z"
   },
   {
    "duration": 1034,
    "start_time": "2022-08-31T12:53:19.142Z"
   },
   {
    "duration": 5,
    "start_time": "2022-08-31T12:53:41.027Z"
   },
   {
    "duration": 1008,
    "start_time": "2022-08-31T12:54:05.180Z"
   },
   {
    "duration": 1080,
    "start_time": "2022-08-31T12:54:11.565Z"
   },
   {
    "duration": 7,
    "start_time": "2022-08-31T12:54:54.631Z"
   },
   {
    "duration": 1026,
    "start_time": "2022-08-31T12:55:01.065Z"
   },
   {
    "duration": 1108,
    "start_time": "2022-08-31T12:55:08.668Z"
   },
   {
    "duration": 5,
    "start_time": "2022-08-31T12:55:49.648Z"
   },
   {
    "duration": 1024,
    "start_time": "2022-08-31T12:55:52.829Z"
   },
   {
    "duration": 6,
    "start_time": "2022-08-31T12:56:59.384Z"
   },
   {
    "duration": 4,
    "start_time": "2022-08-31T12:58:31.178Z"
   },
   {
    "duration": 6,
    "start_time": "2022-08-31T12:58:44.585Z"
   },
   {
    "duration": 10,
    "start_time": "2022-08-31T12:58:48.855Z"
   },
   {
    "duration": 5,
    "start_time": "2022-08-31T13:00:04.850Z"
   },
   {
    "duration": 4,
    "start_time": "2022-08-31T13:00:18.211Z"
   },
   {
    "duration": 6,
    "start_time": "2022-08-31T13:00:27.565Z"
   },
   {
    "duration": 1146,
    "start_time": "2022-08-31T13:00:31.989Z"
   },
   {
    "duration": 4,
    "start_time": "2022-08-31T13:00:35.819Z"
   },
   {
    "duration": 6,
    "start_time": "2022-08-31T13:01:03.815Z"
   },
   {
    "duration": 1071,
    "start_time": "2022-08-31T13:01:05.472Z"
   },
   {
    "duration": 4,
    "start_time": "2022-08-31T13:01:15.004Z"
   },
   {
    "duration": 1088,
    "start_time": "2022-08-31T13:01:21.697Z"
   },
   {
    "duration": 4,
    "start_time": "2022-08-31T13:08:48.597Z"
   },
   {
    "duration": 4,
    "start_time": "2022-08-31T13:09:10.310Z"
   },
   {
    "duration": 19,
    "start_time": "2022-08-31T13:09:20.417Z"
   },
   {
    "duration": 20,
    "start_time": "2022-08-31T13:09:40.612Z"
   },
   {
    "duration": 5,
    "start_time": "2022-08-31T13:10:04.022Z"
   },
   {
    "duration": 17,
    "start_time": "2022-08-31T13:10:05.974Z"
   },
   {
    "duration": 4,
    "start_time": "2022-08-31T13:10:58.143Z"
   },
   {
    "duration": 17,
    "start_time": "2022-08-31T13:11:07.772Z"
   },
   {
    "duration": 3,
    "start_time": "2022-08-31T13:11:17.505Z"
   },
   {
    "duration": 17,
    "start_time": "2022-08-31T13:11:20.357Z"
   },
   {
    "duration": 19,
    "start_time": "2022-08-31T13:17:29.538Z"
   },
   {
    "duration": 4,
    "start_time": "2022-08-31T13:17:46.810Z"
   },
   {
    "duration": 15,
    "start_time": "2022-08-31T13:17:57.616Z"
   },
   {
    "duration": 4,
    "start_time": "2022-08-31T13:17:59.263Z"
   },
   {
    "duration": 153,
    "start_time": "2022-08-31T13:18:35.888Z"
   },
   {
    "duration": 186,
    "start_time": "2022-08-31T13:18:49.006Z"
   },
   {
    "duration": 67,
    "start_time": "2022-08-31T13:19:03.108Z"
   },
   {
    "duration": 137,
    "start_time": "2022-08-31T13:19:09.341Z"
   },
   {
    "duration": 141,
    "start_time": "2022-08-31T13:19:36.163Z"
   },
   {
    "duration": 10,
    "start_time": "2022-08-31T13:20:23.461Z"
   },
   {
    "duration": 139,
    "start_time": "2022-08-31T13:20:29.704Z"
   },
   {
    "duration": 6,
    "start_time": "2022-08-31T13:22:29.986Z"
   },
   {
    "duration": 1063,
    "start_time": "2022-08-31T13:22:32.668Z"
   },
   {
    "duration": 1061,
    "start_time": "2022-08-31T13:24:01.860Z"
   },
   {
    "duration": 1077,
    "start_time": "2022-08-31T13:25:09.333Z"
   },
   {
    "duration": 153,
    "start_time": "2022-08-31T13:28:11.019Z"
   },
   {
    "duration": 167,
    "start_time": "2022-08-31T13:28:38.046Z"
   },
   {
    "duration": 202,
    "start_time": "2022-08-31T13:28:45.983Z"
   },
   {
    "duration": 164,
    "start_time": "2022-08-31T13:28:54.551Z"
   },
   {
    "duration": 145,
    "start_time": "2022-08-31T13:29:00.093Z"
   },
   {
    "duration": 229,
    "start_time": "2022-08-31T13:29:13.076Z"
   },
   {
    "duration": 141,
    "start_time": "2022-08-31T13:29:39.739Z"
   },
   {
    "duration": 141,
    "start_time": "2022-08-31T13:29:43.049Z"
   },
   {
    "duration": 133,
    "start_time": "2022-08-31T13:29:58.414Z"
   },
   {
    "duration": 133,
    "start_time": "2022-08-31T13:30:28.521Z"
   },
   {
    "duration": 137,
    "start_time": "2022-08-31T13:30:37.526Z"
   },
   {
    "duration": 137,
    "start_time": "2022-08-31T13:30:45.963Z"
   },
   {
    "duration": 130,
    "start_time": "2022-08-31T13:33:50.147Z"
   },
   {
    "duration": 133,
    "start_time": "2022-08-31T13:33:57.248Z"
   },
   {
    "duration": 175,
    "start_time": "2022-08-31T13:34:09.042Z"
   },
   {
    "duration": 148,
    "start_time": "2022-08-31T13:49:04.337Z"
   },
   {
    "duration": 134,
    "start_time": "2022-08-31T13:49:13.510Z"
   },
   {
    "duration": 1076,
    "start_time": "2022-08-31T18:27:31.657Z"
   },
   {
    "duration": 3,
    "start_time": "2022-08-31T18:27:38.429Z"
   },
   {
    "duration": 421,
    "start_time": "2022-08-31T18:27:45.231Z"
   },
   {
    "duration": 11,
    "start_time": "2022-08-31T18:27:50.629Z"
   },
   {
    "duration": 10,
    "start_time": "2022-08-31T18:27:53.220Z"
   },
   {
    "duration": 15,
    "start_time": "2022-08-31T18:28:03.904Z"
   },
   {
    "duration": 14,
    "start_time": "2022-08-31T18:28:06.629Z"
   },
   {
    "duration": 15,
    "start_time": "2022-08-31T18:28:08.740Z"
   },
   {
    "duration": 132,
    "start_time": "2022-08-31T18:28:19.340Z"
   },
   {
    "duration": 12,
    "start_time": "2022-08-31T18:28:21.786Z"
   },
   {
    "duration": 43,
    "start_time": "2022-08-31T18:28:24.163Z"
   },
   {
    "duration": 41,
    "start_time": "2022-08-31T18:28:29.304Z"
   },
   {
    "duration": 39,
    "start_time": "2022-08-31T18:28:31.782Z"
   },
   {
    "duration": 951,
    "start_time": "2022-08-31T18:28:33.884Z"
   },
   {
    "duration": 785,
    "start_time": "2022-08-31T18:28:39.344Z"
   },
   {
    "duration": 674,
    "start_time": "2022-08-31T18:28:43.413Z"
   },
   {
    "duration": 6,
    "start_time": "2022-08-31T18:28:48.001Z"
   },
   {
    "duration": 6,
    "start_time": "2022-08-31T18:28:53.780Z"
   },
   {
    "duration": 12,
    "start_time": "2022-08-31T18:29:19.255Z"
   },
   {
    "duration": 14,
    "start_time": "2022-08-31T18:29:21.691Z"
   },
   {
    "duration": 11,
    "start_time": "2022-08-31T18:29:24.772Z"
   },
   {
    "duration": 12,
    "start_time": "2022-08-31T18:31:05.133Z"
   },
   {
    "duration": 4,
    "start_time": "2022-08-31T18:31:19.005Z"
   },
   {
    "duration": 33,
    "start_time": "2022-08-31T18:31:21.582Z"
   },
   {
    "duration": 4,
    "start_time": "2022-08-31T18:31:24.200Z"
   },
   {
    "duration": 3,
    "start_time": "2022-08-31T18:31:31.958Z"
   },
   {
    "duration": 44,
    "start_time": "2022-08-31T18:31:52.626Z"
   },
   {
    "duration": 3,
    "start_time": "2022-08-31T18:32:12.248Z"
   },
   {
    "duration": 4,
    "start_time": "2022-08-31T18:32:14.167Z"
   },
   {
    "duration": 49,
    "start_time": "2022-08-31T18:32:49.754Z"
   },
   {
    "duration": 6,
    "start_time": "2022-08-31T18:32:53.440Z"
   },
   {
    "duration": 15,
    "start_time": "2022-08-31T18:33:51.325Z"
   },
   {
    "duration": 4,
    "start_time": "2022-08-31T18:33:53.949Z"
   },
   {
    "duration": 20,
    "start_time": "2022-08-31T18:34:13.034Z"
   },
   {
    "duration": 5,
    "start_time": "2022-08-31T18:34:15.020Z"
   },
   {
    "duration": 176,
    "start_time": "2022-08-31T18:34:20.972Z"
   },
   {
    "duration": 3,
    "start_time": "2022-08-31T18:34:39.928Z"
   },
   {
    "duration": 4,
    "start_time": "2022-08-31T18:34:41.697Z"
   },
   {
    "duration": 20,
    "start_time": "2022-08-31T18:34:49.882Z"
   },
   {
    "duration": 20,
    "start_time": "2022-08-31T18:34:54.290Z"
   },
   {
    "duration": 21,
    "start_time": "2022-08-31T18:34:56.838Z"
   },
   {
    "duration": 4,
    "start_time": "2022-08-31T18:35:02.667Z"
   },
   {
    "duration": 5,
    "start_time": "2022-08-31T18:35:10.120Z"
   },
   {
    "duration": 6,
    "start_time": "2022-08-31T18:35:16.545Z"
   },
   {
    "duration": 4,
    "start_time": "2022-08-31T18:35:20.902Z"
   },
   {
    "duration": 289,
    "start_time": "2022-08-31T18:35:23.506Z"
   },
   {
    "duration": 415,
    "start_time": "2022-08-31T18:35:26.806Z"
   },
   {
    "duration": 276,
    "start_time": "2022-08-31T18:35:30.707Z"
   },
   {
    "duration": 10,
    "start_time": "2022-08-31T18:35:33.662Z"
   },
   {
    "duration": 6,
    "start_time": "2022-08-31T18:35:55.617Z"
   },
   {
    "duration": 4,
    "start_time": "2022-08-31T18:45:34.326Z"
   },
   {
    "duration": 14,
    "start_time": "2022-08-31T18:45:36.323Z"
   },
   {
    "duration": 4,
    "start_time": "2022-08-31T18:45:38.358Z"
   },
   {
    "duration": 142,
    "start_time": "2022-08-31T18:45:42.201Z"
   },
   {
    "duration": 6,
    "start_time": "2022-08-31T18:45:50.997Z"
   },
   {
    "duration": 1099,
    "start_time": "2022-08-31T18:45:55.110Z"
   },
   {
    "duration": 1080,
    "start_time": "2022-08-31T18:46:03.197Z"
   },
   {
    "duration": 1134,
    "start_time": "2022-08-31T18:46:06.767Z"
   },
   {
    "duration": 126,
    "start_time": "2022-08-31T18:46:14.921Z"
   },
   {
    "duration": 137,
    "start_time": "2022-08-31T18:46:18.424Z"
   },
   {
    "duration": 994,
    "start_time": "2022-09-02T07:57:58.727Z"
   },
   {
    "duration": 1631,
    "start_time": "2022-09-02T07:58:01.805Z"
   },
   {
    "duration": 9,
    "start_time": "2022-09-02T07:58:05.866Z"
   },
   {
    "duration": 8,
    "start_time": "2022-09-02T07:58:08.017Z"
   },
   {
    "duration": 14,
    "start_time": "2022-09-02T07:58:10.970Z"
   },
   {
    "duration": 13,
    "start_time": "2022-09-02T07:58:12.999Z"
   },
   {
    "duration": 19,
    "start_time": "2022-09-02T07:58:14.893Z"
   },
   {
    "duration": 114,
    "start_time": "2022-09-02T07:58:17.750Z"
   },
   {
    "duration": 10,
    "start_time": "2022-09-02T07:58:19.874Z"
   },
   {
    "duration": 35,
    "start_time": "2022-09-02T07:58:22.229Z"
   },
   {
    "duration": 34,
    "start_time": "2022-09-02T07:58:23.801Z"
   },
   {
    "duration": 46,
    "start_time": "2022-09-02T07:58:25.868Z"
   },
   {
    "duration": 962,
    "start_time": "2022-09-02T07:58:27.881Z"
   },
   {
    "duration": 630,
    "start_time": "2022-09-02T07:58:31.736Z"
   },
   {
    "duration": 563,
    "start_time": "2022-09-02T07:58:34.986Z"
   },
   {
    "duration": 6,
    "start_time": "2022-09-02T07:58:38.238Z"
   },
   {
    "duration": 6,
    "start_time": "2022-09-02T07:58:40.171Z"
   },
   {
    "duration": 9,
    "start_time": "2022-09-02T07:58:42.849Z"
   },
   {
    "duration": 16,
    "start_time": "2022-09-02T07:59:23.777Z"
   },
   {
    "duration": 9,
    "start_time": "2022-09-02T07:59:28.286Z"
   },
   {
    "duration": 8,
    "start_time": "2022-09-02T08:01:25.923Z"
   },
   {
    "duration": 2,
    "start_time": "2022-09-02T08:01:28.361Z"
   },
   {
    "duration": 28,
    "start_time": "2022-09-02T08:01:30.241Z"
   },
   {
    "duration": 3,
    "start_time": "2022-09-02T08:01:31.978Z"
   },
   {
    "duration": 2,
    "start_time": "2022-09-02T08:01:34.959Z"
   },
   {
    "duration": 37,
    "start_time": "2022-09-02T08:01:37.085Z"
   },
   {
    "duration": 3,
    "start_time": "2022-09-02T08:01:43.086Z"
   },
   {
    "duration": 3,
    "start_time": "2022-09-02T08:01:44.563Z"
   },
   {
    "duration": 75,
    "start_time": "2022-09-02T08:01:46.687Z"
   },
   {
    "duration": 3,
    "start_time": "2022-09-02T08:01:48.314Z"
   },
   {
    "duration": 12,
    "start_time": "2022-09-02T08:01:50.353Z"
   },
   {
    "duration": 3,
    "start_time": "2022-09-02T08:01:52.049Z"
   },
   {
    "duration": 12,
    "start_time": "2022-09-02T08:01:55.746Z"
   },
   {
    "duration": 3,
    "start_time": "2022-09-02T08:01:57.535Z"
   },
   {
    "duration": 151,
    "start_time": "2022-09-02T08:02:25.173Z"
   },
   {
    "duration": 2,
    "start_time": "2022-09-02T08:02:31.752Z"
   },
   {
    "duration": 4,
    "start_time": "2022-09-02T08:02:33.016Z"
   },
   {
    "duration": 14,
    "start_time": "2022-09-02T08:02:35.170Z"
   },
   {
    "duration": 15,
    "start_time": "2022-09-02T08:02:36.671Z"
   },
   {
    "duration": 13,
    "start_time": "2022-09-02T08:02:39.363Z"
   },
   {
    "duration": 2,
    "start_time": "2022-09-02T08:03:08.908Z"
   },
   {
    "duration": 4,
    "start_time": "2022-09-02T08:04:10.732Z"
   },
   {
    "duration": 5,
    "start_time": "2022-09-02T08:04:17.777Z"
   },
   {
    "duration": 3,
    "start_time": "2022-09-02T08:04:26.695Z"
   },
   {
    "duration": 237,
    "start_time": "2022-09-02T08:04:30.218Z"
   },
   {
    "duration": 309,
    "start_time": "2022-09-02T08:04:33.393Z"
   },
   {
    "duration": 234,
    "start_time": "2022-09-02T08:04:36.488Z"
   },
   {
    "duration": 8,
    "start_time": "2022-09-02T08:04:39.379Z"
   },
   {
    "duration": 5,
    "start_time": "2022-09-02T08:04:41.530Z"
   },
   {
    "duration": 3,
    "start_time": "2022-09-02T08:05:31.269Z"
   },
   {
    "duration": 12,
    "start_time": "2022-09-02T08:05:49.241Z"
   },
   {
    "duration": 4,
    "start_time": "2022-09-02T08:05:52.341Z"
   },
   {
    "duration": 124,
    "start_time": "2022-09-02T08:05:58.947Z"
   },
   {
    "duration": 6,
    "start_time": "2022-09-02T08:06:41.908Z"
   },
   {
    "duration": 97,
    "start_time": "2022-09-02T08:07:02.530Z"
   },
   {
    "duration": 5,
    "start_time": "2022-09-02T08:07:20.197Z"
   },
   {
    "duration": 893,
    "start_time": "2022-09-02T08:07:22.913Z"
   },
   {
    "duration": 869,
    "start_time": "2022-09-02T08:07:43.026Z"
   },
   {
    "duration": 954,
    "start_time": "2022-09-02T08:07:46.546Z"
   },
   {
    "duration": 101,
    "start_time": "2022-09-02T08:07:50.272Z"
   },
   {
    "duration": 109,
    "start_time": "2022-09-02T08:07:53.502Z"
   }
  ],
  "kernelspec": {
   "display_name": "Python 3 (ipykernel)",
   "language": "python",
   "name": "python3"
  },
  "language_info": {
   "codemirror_mode": {
    "name": "ipython",
    "version": 3
   },
   "file_extension": ".py",
   "mimetype": "text/x-python",
   "name": "python",
   "nbconvert_exporter": "python",
   "pygments_lexer": "ipython3",
   "version": "3.9.12"
  },
  "toc": {
   "base_numbering": 1,
   "nav_menu": {},
   "number_sections": true,
   "sideBar": true,
   "skip_h1_title": true,
   "title_cell": "Содержание",
   "title_sidebar": "Содержание",
   "toc_cell": true,
   "toc_position": {},
   "toc_section_display": true,
   "toc_window_display": true
  }
 },
 "nbformat": 4,
 "nbformat_minor": 2
}
