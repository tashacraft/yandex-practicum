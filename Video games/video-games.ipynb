{
 "cells": [
  {
   "cell_type": "markdown",
   "metadata": {},
   "source": [
    "# Исследование продаж компьютерных игр\n",
    "Мы работаем в интернет-магазине «Стримчик», который продаёт по всему миру компьютерные игры. Из открытых источников доступны исторические данные о продажах игр, оценки пользователей и экспертов, жанры и платформы (например, Xbox или PlayStation). \n",
    "Нужно выявить определяющие успешность игры закономерности. Это позволит сделать ставку на потенциально популярный продукт и спланировать рекламные кампании.\n",
    "Перед нами данные до 2016 года. Представим, что сейчас декабрь 2016 г., и мы планируем кампанию на 2017-й.\n",
    "\n",
    "План проекта:\n",
    "1. Изучить данные и подготовить их для дальнейшего анализа:\n",
    "- заменить названия столбцов, \n",
    "- изменить типы данных, \n",
    "- обработать пропуски, \n",
    "- посчитать суммарные продажи по регионам и добавить в отдельный столбец\n",
    "2. Провести исследовательский анализ данных:\n",
    "- сколько игр выпускалось в разные годы\n",
    "- как менялись продажи по платформам\n",
    "- выявить лидеров платформ по продажам\n",
    "- проанализировать влияние отзывов пользователей и оценки критиков на продажи\n",
    "- выявить самые прибыльные жанры игр\n",
    "3. Составить портрет пользователя по регионам (NA, EU, JP):\n",
    "- определить самые популярные платформы\n",
    "- определить самые популярные жанры\n",
    "- определить, влияет ли рейтинг ESRB на продажи в отдельном регионе\n",
    "4. Проверить гипотезы:\n",
    "- средние пользовательские рейтинги платформ Xbox One и PC одинаковы\n",
    "- средние пользовательские рейтинги жанров Action и Sports разные\n",
    "5. Сделать выводы по полученным результатам исследования"
   ]
  },
  {
   "cell_type": "markdown",
   "metadata": {},
   "source": [
    "### Общая информация датасета и предобработка данных\n",
    "Посмотрим на данные в датасете: какое количество строк и столбцов, какие названия они имеют, есть ли пропуски в данных, какие типы данных в ячейках.\n",
    "\n",
    "#### Общий анализ данных"
   ]
  },
  {
   "cell_type": "code",
   "execution_count": 1,
   "metadata": {},
   "outputs": [
    {
     "data": {
      "text/html": [
       "<div>\n",
       "<style scoped>\n",
       "    .dataframe tbody tr th:only-of-type {\n",
       "        vertical-align: middle;\n",
       "    }\n",
       "\n",
       "    .dataframe tbody tr th {\n",
       "        vertical-align: top;\n",
       "    }\n",
       "\n",
       "    .dataframe thead th {\n",
       "        text-align: right;\n",
       "    }\n",
       "</style>\n",
       "<table border=\"1\" class=\"dataframe\">\n",
       "  <thead>\n",
       "    <tr style=\"text-align: right;\">\n",
       "      <th></th>\n",
       "      <th>Name</th>\n",
       "      <th>Platform</th>\n",
       "      <th>Year_of_Release</th>\n",
       "      <th>Genre</th>\n",
       "      <th>NA_sales</th>\n",
       "      <th>EU_sales</th>\n",
       "      <th>JP_sales</th>\n",
       "      <th>Other_sales</th>\n",
       "      <th>Critic_Score</th>\n",
       "      <th>User_Score</th>\n",
       "      <th>Rating</th>\n",
       "    </tr>\n",
       "  </thead>\n",
       "  <tbody>\n",
       "    <tr>\n",
       "      <th>0</th>\n",
       "      <td>Wii Sports</td>\n",
       "      <td>Wii</td>\n",
       "      <td>2,006.00</td>\n",
       "      <td>Sports</td>\n",
       "      <td>41.36</td>\n",
       "      <td>28.96</td>\n",
       "      <td>3.77</td>\n",
       "      <td>8.45</td>\n",
       "      <td>76.00</td>\n",
       "      <td>8</td>\n",
       "      <td>E</td>\n",
       "    </tr>\n",
       "    <tr>\n",
       "      <th>1</th>\n",
       "      <td>Super Mario Bros.</td>\n",
       "      <td>NES</td>\n",
       "      <td>1,985.00</td>\n",
       "      <td>Platform</td>\n",
       "      <td>29.08</td>\n",
       "      <td>3.58</td>\n",
       "      <td>6.81</td>\n",
       "      <td>0.77</td>\n",
       "      <td>NaN</td>\n",
       "      <td>NaN</td>\n",
       "      <td>NaN</td>\n",
       "    </tr>\n",
       "    <tr>\n",
       "      <th>2</th>\n",
       "      <td>Mario Kart Wii</td>\n",
       "      <td>Wii</td>\n",
       "      <td>2,008.00</td>\n",
       "      <td>Racing</td>\n",
       "      <td>15.68</td>\n",
       "      <td>12.76</td>\n",
       "      <td>3.79</td>\n",
       "      <td>3.29</td>\n",
       "      <td>82.00</td>\n",
       "      <td>8.3</td>\n",
       "      <td>E</td>\n",
       "    </tr>\n",
       "    <tr>\n",
       "      <th>3</th>\n",
       "      <td>Wii Sports Resort</td>\n",
       "      <td>Wii</td>\n",
       "      <td>2,009.00</td>\n",
       "      <td>Sports</td>\n",
       "      <td>15.61</td>\n",
       "      <td>10.93</td>\n",
       "      <td>3.28</td>\n",
       "      <td>2.95</td>\n",
       "      <td>80.00</td>\n",
       "      <td>8</td>\n",
       "      <td>E</td>\n",
       "    </tr>\n",
       "    <tr>\n",
       "      <th>4</th>\n",
       "      <td>Pokemon Red/Pokemon Blue</td>\n",
       "      <td>GB</td>\n",
       "      <td>1,996.00</td>\n",
       "      <td>Role-Playing</td>\n",
       "      <td>11.27</td>\n",
       "      <td>8.89</td>\n",
       "      <td>10.22</td>\n",
       "      <td>1.00</td>\n",
       "      <td>NaN</td>\n",
       "      <td>NaN</td>\n",
       "      <td>NaN</td>\n",
       "    </tr>\n",
       "    <tr>\n",
       "      <th>5</th>\n",
       "      <td>Tetris</td>\n",
       "      <td>GB</td>\n",
       "      <td>1,989.00</td>\n",
       "      <td>Puzzle</td>\n",
       "      <td>23.20</td>\n",
       "      <td>2.26</td>\n",
       "      <td>4.22</td>\n",
       "      <td>0.58</td>\n",
       "      <td>NaN</td>\n",
       "      <td>NaN</td>\n",
       "      <td>NaN</td>\n",
       "    </tr>\n",
       "    <tr>\n",
       "      <th>6</th>\n",
       "      <td>New Super Mario Bros.</td>\n",
       "      <td>DS</td>\n",
       "      <td>2,006.00</td>\n",
       "      <td>Platform</td>\n",
       "      <td>11.28</td>\n",
       "      <td>9.14</td>\n",
       "      <td>6.50</td>\n",
       "      <td>2.88</td>\n",
       "      <td>89.00</td>\n",
       "      <td>8.5</td>\n",
       "      <td>E</td>\n",
       "    </tr>\n",
       "    <tr>\n",
       "      <th>7</th>\n",
       "      <td>Wii Play</td>\n",
       "      <td>Wii</td>\n",
       "      <td>2,006.00</td>\n",
       "      <td>Misc</td>\n",
       "      <td>13.96</td>\n",
       "      <td>9.18</td>\n",
       "      <td>2.93</td>\n",
       "      <td>2.84</td>\n",
       "      <td>58.00</td>\n",
       "      <td>6.6</td>\n",
       "      <td>E</td>\n",
       "    </tr>\n",
       "    <tr>\n",
       "      <th>8</th>\n",
       "      <td>New Super Mario Bros. Wii</td>\n",
       "      <td>Wii</td>\n",
       "      <td>2,009.00</td>\n",
       "      <td>Platform</td>\n",
       "      <td>14.44</td>\n",
       "      <td>6.94</td>\n",
       "      <td>4.70</td>\n",
       "      <td>2.24</td>\n",
       "      <td>87.00</td>\n",
       "      <td>8.4</td>\n",
       "      <td>E</td>\n",
       "    </tr>\n",
       "    <tr>\n",
       "      <th>9</th>\n",
       "      <td>Duck Hunt</td>\n",
       "      <td>NES</td>\n",
       "      <td>1,984.00</td>\n",
       "      <td>Shooter</td>\n",
       "      <td>26.93</td>\n",
       "      <td>0.63</td>\n",
       "      <td>0.28</td>\n",
       "      <td>0.47</td>\n",
       "      <td>NaN</td>\n",
       "      <td>NaN</td>\n",
       "      <td>NaN</td>\n",
       "    </tr>\n",
       "  </tbody>\n",
       "</table>\n",
       "</div>"
      ],
      "text/plain": [
       "                        Name Platform  Year_of_Release         Genre  \\\n",
       "0                 Wii Sports      Wii         2,006.00        Sports   \n",
       "1          Super Mario Bros.      NES         1,985.00      Platform   \n",
       "2             Mario Kart Wii      Wii         2,008.00        Racing   \n",
       "3          Wii Sports Resort      Wii         2,009.00        Sports   \n",
       "4   Pokemon Red/Pokemon Blue       GB         1,996.00  Role-Playing   \n",
       "5                     Tetris       GB         1,989.00        Puzzle   \n",
       "6      New Super Mario Bros.       DS         2,006.00      Platform   \n",
       "7                   Wii Play      Wii         2,006.00          Misc   \n",
       "8  New Super Mario Bros. Wii      Wii         2,009.00      Platform   \n",
       "9                  Duck Hunt      NES         1,984.00       Shooter   \n",
       "\n",
       "   NA_sales  EU_sales  JP_sales  Other_sales  Critic_Score User_Score Rating  \n",
       "0     41.36     28.96      3.77         8.45         76.00          8      E  \n",
       "1     29.08      3.58      6.81         0.77           NaN        NaN    NaN  \n",
       "2     15.68     12.76      3.79         3.29         82.00        8.3      E  \n",
       "3     15.61     10.93      3.28         2.95         80.00          8      E  \n",
       "4     11.27      8.89     10.22         1.00           NaN        NaN    NaN  \n",
       "5     23.20      2.26      4.22         0.58           NaN        NaN    NaN  \n",
       "6     11.28      9.14      6.50         2.88         89.00        8.5      E  \n",
       "7     13.96      9.18      2.93         2.84         58.00        6.6      E  \n",
       "8     14.44      6.94      4.70         2.24         87.00        8.4      E  \n",
       "9     26.93      0.63      0.28         0.47           NaN        NaN    NaN  "
      ]
     },
     "execution_count": 1,
     "metadata": {},
     "output_type": "execute_result"
    }
   ],
   "source": [
    "import pandas as pd\n",
    "import matplotlib.pyplot as plt\n",
    "import math\n",
    "import numpy as np\n",
    "from scipy import stats as st\n",
    "import seaborn as sns\n",
    "\n",
    "# для округления до двух знаков после запятой\n",
    "pd.options.display.float_format = '{:,.2f}'.format\n",
    "\n",
    "data = pd.read_csv('games.csv')\n",
    "data.head(10)"
   ]
  },
  {
   "cell_type": "code",
   "execution_count": 2,
   "metadata": {},
   "outputs": [
    {
     "name": "stdout",
     "output_type": "stream",
     "text": [
      "<class 'pandas.core.frame.DataFrame'>\n",
      "RangeIndex: 16715 entries, 0 to 16714\n",
      "Data columns (total 11 columns):\n",
      " #   Column           Non-Null Count  Dtype  \n",
      "---  ------           --------------  -----  \n",
      " 0   Name             16713 non-null  object \n",
      " 1   Platform         16715 non-null  object \n",
      " 2   Year_of_Release  16446 non-null  float64\n",
      " 3   Genre            16713 non-null  object \n",
      " 4   NA_sales         16715 non-null  float64\n",
      " 5   EU_sales         16715 non-null  float64\n",
      " 6   JP_sales         16715 non-null  float64\n",
      " 7   Other_sales      16715 non-null  float64\n",
      " 8   Critic_Score     8137 non-null   float64\n",
      " 9   User_Score       10014 non-null  object \n",
      " 10  Rating           9949 non-null   object \n",
      "dtypes: float64(6), object(5)\n",
      "memory usage: 1.4+ MB\n"
     ]
    }
   ],
   "source": [
    "data.info()"
   ]
  },
  {
   "cell_type": "markdown",
   "metadata": {},
   "source": [
    "В датасете 16715 строк, 11 столбцов. Названия колонок оформлены не в стиле \"snake_case\". Есть колонки с пропусками.\n",
    "\n",
    "Есть проблемы в типах данных столбцов:\n",
    "\n",
    "Столбец \"Year_of_Release\" имеет тип float64, хотя это год и может быть только целым числом.\n",
    "Столбец \"Critic_Score\" имеет только целые значения, тип данных float64.\n",
    "Но в этих столбцах есть пропущенные значения, которые мы не сможем заполнить, поэтому оставим тип float."
   ]
  },
  {
   "cell_type": "code",
   "execution_count": 3,
   "metadata": {},
   "outputs": [
    {
     "data": {
      "text/plain": [
       "array([76., nan, 82., 80., 89., 58., 87., 91., 61., 97., 95., 77., 88.,\n",
       "       83., 94., 93., 85., 86., 98., 96., 90., 84., 73., 74., 78., 92.,\n",
       "       71., 72., 68., 62., 49., 67., 81., 66., 56., 79., 70., 59., 64.,\n",
       "       75., 60., 63., 69., 50., 25., 42., 44., 55., 48., 57., 29., 47.,\n",
       "       65., 54., 20., 53., 37., 38., 33., 52., 30., 32., 43., 45., 51.,\n",
       "       40., 46., 39., 34., 35., 41., 36., 28., 31., 27., 26., 19., 23.,\n",
       "       24., 21., 17., 22., 13.])"
      ]
     },
     "execution_count": 3,
     "metadata": {},
     "output_type": "execute_result"
    }
   ],
   "source": [
    "data['Critic_Score'].unique()"
   ]
  },
  {
   "cell_type": "markdown",
   "metadata": {},
   "source": [
    "В столбце \"User_Score\" есть значения \"tbd\" - to be determined (будет определено позднее). Нам этот вариант не принесет никакой пользы, заменим в п.1.4 эти значения на пропуски, а потом изменим тип столбца на float."
   ]
  },
  {
   "cell_type": "code",
   "execution_count": 4,
   "metadata": {},
   "outputs": [
    {
     "data": {
      "text/plain": [
       "array(['8', nan, '8.3', '8.5', '6.6', '8.4', '8.6', '7.7', '6.3', '7.4',\n",
       "       '8.2', '9', '7.9', '8.1', '8.7', '7.1', '3.4', '5.3', '4.8', '3.2',\n",
       "       '8.9', '6.4', '7.8', '7.5', '2.6', '7.2', '9.2', '7', '7.3', '4.3',\n",
       "       '7.6', '5.7', '5', '9.1', '6.5', 'tbd', '8.8', '6.9', '9.4', '6.8',\n",
       "       '6.1', '6.7', '5.4', '4', '4.9', '4.5', '9.3', '6.2', '4.2', '6',\n",
       "       '3.7', '4.1', '5.8', '5.6', '5.5', '4.4', '4.6', '5.9', '3.9',\n",
       "       '3.1', '2.9', '5.2', '3.3', '4.7', '5.1', '3.5', '2.5', '1.9', '3',\n",
       "       '2.7', '2.2', '2', '9.5', '2.1', '3.6', '2.8', '1.8', '3.8', '0',\n",
       "       '1.6', '9.6', '2.4', '1.7', '1.1', '0.3', '1.5', '0.7', '1.2',\n",
       "       '2.3', '0.5', '1.3', '0.2', '0.6', '1.4', '0.9', '1', '9.7'],\n",
       "      dtype=object)"
      ]
     },
     "execution_count": 4,
     "metadata": {},
     "output_type": "execute_result"
    }
   ],
   "source": [
    "data['User_Score'].unique()"
   ]
  },
  {
   "cell_type": "markdown",
   "metadata": {},
   "source": [
    "#### Гистограмма для всех столбцов датасета"
   ]
  },
  {
   "cell_type": "code",
   "execution_count": 5,
   "metadata": {},
   "outputs": [
    {
     "data": {
      "image/png": "[encoded data removed]",
      "text/plain": [
       "<Figure size 864x720 with 6 Axes>"
      ]
     },
     "metadata": {
      "needs_background": "light"
     },
     "output_type": "display_data"
    }
   ],
   "source": [
    "data.hist(figsize=(12, 10));"
   ]
  },
  {
   "cell_type": "markdown",
   "metadata": {},
   "source": [
    "На графиках наглядно видно дельту годов выпуска игр нашего датасета, продаж игр по 4-м регионам и распределение оценок критиков игр.  "
   ]
  },
  {
   "cell_type": "markdown",
   "metadata": {},
   "source": [
    "#### Замена названий столбцов\n",
    "Сначала изменим названия столбцов в едином стиле: только строчные буквы и с нижним подчеркиванием. Также приведем все содержимое категориальных столбцов к нижнему регистру."
   ]
  },
  {
   "cell_type": "code",
   "execution_count": 6,
   "metadata": {},
   "outputs": [],
   "source": [
    "data.columns = data.columns.str.lower()"
   ]
  },
  {
   "cell_type": "code",
   "execution_count": 7,
   "metadata": {},
   "outputs": [],
   "source": [
    "data['platform'] = data['platform'].str.lower()\n",
    "data['genre'] = data['genre'].str.lower()\n",
    "data['rating'] = data['rating'].str.lower()\n",
    "data['name'] = data['name'].str.lower()"
   ]
  },
  {
   "cell_type": "code",
   "execution_count": 8,
   "metadata": {},
   "outputs": [
    {
     "name": "stdout",
     "output_type": "stream",
     "text": [
      "<class 'pandas.core.frame.DataFrame'>\n",
      "RangeIndex: 16715 entries, 0 to 16714\n",
      "Data columns (total 11 columns):\n",
      " #   Column           Non-Null Count  Dtype  \n",
      "---  ------           --------------  -----  \n",
      " 0   name             16713 non-null  object \n",
      " 1   platform         16715 non-null  object \n",
      " 2   year_of_release  16446 non-null  float64\n",
      " 3   genre            16713 non-null  object \n",
      " 4   na_sales         16715 non-null  float64\n",
      " 5   eu_sales         16715 non-null  float64\n",
      " 6   jp_sales         16715 non-null  float64\n",
      " 7   other_sales      16715 non-null  float64\n",
      " 8   critic_score     8137 non-null   float64\n",
      " 9   user_score       10014 non-null  object \n",
      " 10  rating           9949 non-null   object \n",
      "dtypes: float64(6), object(5)\n",
      "memory usage: 1.4+ MB\n"
     ]
    }
   ],
   "source": [
    "# проверим названия столбцов\n",
    "data.info()"
   ]
  },
  {
   "cell_type": "markdown",
   "metadata": {},
   "source": [
    "#### Изменение типов данных\n",
    "В столбце 'user_score' 2424 значений 'tbd'."
   ]
  },
  {
   "cell_type": "code",
   "execution_count": 9,
   "metadata": {
    "scrolled": true
   },
   "outputs": [
    {
     "data": {
      "text/html": [
       "<div>\n",
       "<style scoped>\n",
       "    .dataframe tbody tr th:only-of-type {\n",
       "        vertical-align: middle;\n",
       "    }\n",
       "\n",
       "    .dataframe tbody tr th {\n",
       "        vertical-align: top;\n",
       "    }\n",
       "\n",
       "    .dataframe thead th {\n",
       "        text-align: right;\n",
       "    }\n",
       "</style>\n",
       "<table border=\"1\" class=\"dataframe\">\n",
       "  <thead>\n",
       "    <tr style=\"text-align: right;\">\n",
       "      <th></th>\n",
       "      <th>name</th>\n",
       "      <th>platform</th>\n",
       "      <th>year_of_release</th>\n",
       "      <th>genre</th>\n",
       "      <th>na_sales</th>\n",
       "      <th>eu_sales</th>\n",
       "      <th>jp_sales</th>\n",
       "      <th>other_sales</th>\n",
       "      <th>critic_score</th>\n",
       "      <th>user_score</th>\n",
       "      <th>rating</th>\n",
       "    </tr>\n",
       "  </thead>\n",
       "  <tbody>\n",
       "    <tr>\n",
       "      <th>119</th>\n",
       "      <td>zumba fitness</td>\n",
       "      <td>wii</td>\n",
       "      <td>2,010.00</td>\n",
       "      <td>sports</td>\n",
       "      <td>3.45</td>\n",
       "      <td>2.59</td>\n",
       "      <td>0.00</td>\n",
       "      <td>0.66</td>\n",
       "      <td>NaN</td>\n",
       "      <td>tbd</td>\n",
       "      <td>e</td>\n",
       "    </tr>\n",
       "    <tr>\n",
       "      <th>301</th>\n",
       "      <td>namco museum: 50th anniversary</td>\n",
       "      <td>ps2</td>\n",
       "      <td>2,005.00</td>\n",
       "      <td>misc</td>\n",
       "      <td>2.08</td>\n",
       "      <td>1.35</td>\n",
       "      <td>0.00</td>\n",
       "      <td>0.54</td>\n",
       "      <td>61.00</td>\n",
       "      <td>tbd</td>\n",
       "      <td>e10+</td>\n",
       "    </tr>\n",
       "    <tr>\n",
       "      <th>520</th>\n",
       "      <td>zumba fitness 2</td>\n",
       "      <td>wii</td>\n",
       "      <td>2,011.00</td>\n",
       "      <td>sports</td>\n",
       "      <td>1.51</td>\n",
       "      <td>1.03</td>\n",
       "      <td>0.00</td>\n",
       "      <td>0.27</td>\n",
       "      <td>NaN</td>\n",
       "      <td>tbd</td>\n",
       "      <td>t</td>\n",
       "    </tr>\n",
       "    <tr>\n",
       "      <th>645</th>\n",
       "      <td>udraw studio</td>\n",
       "      <td>wii</td>\n",
       "      <td>2,010.00</td>\n",
       "      <td>misc</td>\n",
       "      <td>1.65</td>\n",
       "      <td>0.57</td>\n",
       "      <td>0.00</td>\n",
       "      <td>0.20</td>\n",
       "      <td>71.00</td>\n",
       "      <td>tbd</td>\n",
       "      <td>e</td>\n",
       "    </tr>\n",
       "    <tr>\n",
       "      <th>657</th>\n",
       "      <td>frogger's adventures: temple of the frog</td>\n",
       "      <td>gba</td>\n",
       "      <td>NaN</td>\n",
       "      <td>adventure</td>\n",
       "      <td>2.15</td>\n",
       "      <td>0.18</td>\n",
       "      <td>0.00</td>\n",
       "      <td>0.07</td>\n",
       "      <td>73.00</td>\n",
       "      <td>tbd</td>\n",
       "      <td>e</td>\n",
       "    </tr>\n",
       "    <tr>\n",
       "      <th>...</th>\n",
       "      <td>...</td>\n",
       "      <td>...</td>\n",
       "      <td>...</td>\n",
       "      <td>...</td>\n",
       "      <td>...</td>\n",
       "      <td>...</td>\n",
       "      <td>...</td>\n",
       "      <td>...</td>\n",
       "      <td>...</td>\n",
       "      <td>...</td>\n",
       "      <td>...</td>\n",
       "    </tr>\n",
       "    <tr>\n",
       "      <th>16695</th>\n",
       "      <td>planet monsters</td>\n",
       "      <td>gba</td>\n",
       "      <td>2,001.00</td>\n",
       "      <td>action</td>\n",
       "      <td>0.01</td>\n",
       "      <td>0.00</td>\n",
       "      <td>0.00</td>\n",
       "      <td>0.00</td>\n",
       "      <td>67.00</td>\n",
       "      <td>tbd</td>\n",
       "      <td>e</td>\n",
       "    </tr>\n",
       "    <tr>\n",
       "      <th>16697</th>\n",
       "      <td>bust-a-move 3000</td>\n",
       "      <td>gc</td>\n",
       "      <td>2,003.00</td>\n",
       "      <td>puzzle</td>\n",
       "      <td>0.01</td>\n",
       "      <td>0.00</td>\n",
       "      <td>0.00</td>\n",
       "      <td>0.00</td>\n",
       "      <td>53.00</td>\n",
       "      <td>tbd</td>\n",
       "      <td>e</td>\n",
       "    </tr>\n",
       "    <tr>\n",
       "      <th>16698</th>\n",
       "      <td>mega brain boost</td>\n",
       "      <td>ds</td>\n",
       "      <td>2,008.00</td>\n",
       "      <td>puzzle</td>\n",
       "      <td>0.01</td>\n",
       "      <td>0.00</td>\n",
       "      <td>0.00</td>\n",
       "      <td>0.00</td>\n",
       "      <td>48.00</td>\n",
       "      <td>tbd</td>\n",
       "      <td>e</td>\n",
       "    </tr>\n",
       "    <tr>\n",
       "      <th>16704</th>\n",
       "      <td>plushees</td>\n",
       "      <td>ds</td>\n",
       "      <td>2,008.00</td>\n",
       "      <td>simulation</td>\n",
       "      <td>0.01</td>\n",
       "      <td>0.00</td>\n",
       "      <td>0.00</td>\n",
       "      <td>0.00</td>\n",
       "      <td>NaN</td>\n",
       "      <td>tbd</td>\n",
       "      <td>e</td>\n",
       "    </tr>\n",
       "    <tr>\n",
       "      <th>16706</th>\n",
       "      <td>men in black ii: alien escape</td>\n",
       "      <td>gc</td>\n",
       "      <td>2,003.00</td>\n",
       "      <td>shooter</td>\n",
       "      <td>0.01</td>\n",
       "      <td>0.00</td>\n",
       "      <td>0.00</td>\n",
       "      <td>0.00</td>\n",
       "      <td>NaN</td>\n",
       "      <td>tbd</td>\n",
       "      <td>t</td>\n",
       "    </tr>\n",
       "  </tbody>\n",
       "</table>\n",
       "<p>2424 rows × 11 columns</p>\n",
       "</div>"
      ],
      "text/plain": [
       "                                           name platform  year_of_release  \\\n",
       "119                               zumba fitness      wii         2,010.00   \n",
       "301              namco museum: 50th anniversary      ps2         2,005.00   \n",
       "520                             zumba fitness 2      wii         2,011.00   \n",
       "645                                udraw studio      wii         2,010.00   \n",
       "657    frogger's adventures: temple of the frog      gba              NaN   \n",
       "...                                         ...      ...              ...   \n",
       "16695                           planet monsters      gba         2,001.00   \n",
       "16697                          bust-a-move 3000       gc         2,003.00   \n",
       "16698                          mega brain boost       ds         2,008.00   \n",
       "16704                                  plushees       ds         2,008.00   \n",
       "16706             men in black ii: alien escape       gc         2,003.00   \n",
       "\n",
       "            genre  na_sales  eu_sales  jp_sales  other_sales  critic_score  \\\n",
       "119        sports      3.45      2.59      0.00         0.66           NaN   \n",
       "301          misc      2.08      1.35      0.00         0.54         61.00   \n",
       "520        sports      1.51      1.03      0.00         0.27           NaN   \n",
       "645          misc      1.65      0.57      0.00         0.20         71.00   \n",
       "657     adventure      2.15      0.18      0.00         0.07         73.00   \n",
       "...           ...       ...       ...       ...          ...           ...   \n",
       "16695      action      0.01      0.00      0.00         0.00         67.00   \n",
       "16697      puzzle      0.01      0.00      0.00         0.00         53.00   \n",
       "16698      puzzle      0.01      0.00      0.00         0.00         48.00   \n",
       "16704  simulation      0.01      0.00      0.00         0.00           NaN   \n",
       "16706     shooter      0.01      0.00      0.00         0.00           NaN   \n",
       "\n",
       "      user_score rating  \n",
       "119          tbd      e  \n",
       "301          tbd   e10+  \n",
       "520          tbd      t  \n",
       "645          tbd      e  \n",
       "657          tbd      e  \n",
       "...          ...    ...  \n",
       "16695        tbd      e  \n",
       "16697        tbd      e  \n",
       "16698        tbd      e  \n",
       "16704        tbd      e  \n",
       "16706        tbd      t  \n",
       "\n",
       "[2424 rows x 11 columns]"
      ]
     },
     "execution_count": 9,
     "metadata": {},
     "output_type": "execute_result"
    }
   ],
   "source": [
    "data[data['user_score'] == 'tbd']"
   ]
  },
  {
   "cell_type": "code",
   "execution_count": 10,
   "metadata": {},
   "outputs": [],
   "source": [
    "# Изменим тип данных на float64, причем все ошибки (значения \"tbd\") заменятся на nan благодаря атрибуту errors='coerce'\n",
    "data['user_score'] = pd.to_numeric(data['user_score'], errors='coerce')"
   ]
  },
  {
   "cell_type": "code",
   "execution_count": 11,
   "metadata": {},
   "outputs": [
    {
     "data": {
      "text/plain": [
       "array([8. , nan, 8.3, 8.5, 6.6, 8.4, 8.6, 7.7, 6.3, 7.4, 8.2, 9. , 7.9,\n",
       "       8.1, 8.7, 7.1, 3.4, 5.3, 4.8, 3.2, 8.9, 6.4, 7.8, 7.5, 2.6, 7.2,\n",
       "       9.2, 7. , 7.3, 4.3, 7.6, 5.7, 5. , 9.1, 6.5, 8.8, 6.9, 9.4, 6.8,\n",
       "       6.1, 6.7, 5.4, 4. , 4.9, 4.5, 9.3, 6.2, 4.2, 6. , 3.7, 4.1, 5.8,\n",
       "       5.6, 5.5, 4.4, 4.6, 5.9, 3.9, 3.1, 2.9, 5.2, 3.3, 4.7, 5.1, 3.5,\n",
       "       2.5, 1.9, 3. , 2.7, 2.2, 2. , 9.5, 2.1, 3.6, 2.8, 1.8, 3.8, 0. ,\n",
       "       1.6, 9.6, 2.4, 1.7, 1.1, 0.3, 1.5, 0.7, 1.2, 2.3, 0.5, 1.3, 0.2,\n",
       "       0.6, 1.4, 0.9, 1. , 9.7])"
      ]
     },
     "execution_count": 11,
     "metadata": {},
     "output_type": "execute_result"
    }
   ],
   "source": [
    "# Проверим уникальные значения - tbd пропали, данные стали float\n",
    "data['user_score'].unique()"
   ]
  },
  {
   "cell_type": "markdown",
   "metadata": {},
   "source": [
    "#### Суммарные продажи\n",
    "Добавим столбец \"total_sales\", в котором просуммируем все продажи по регионам для каждой игры."
   ]
  },
  {
   "cell_type": "code",
   "execution_count": 12,
   "metadata": {},
   "outputs": [],
   "source": [
    "data['total_sales'] = data[['na_sales','eu_sales','jp_sales', 'other_sales']].sum(axis = 1)"
   ]
  },
  {
   "cell_type": "code",
   "execution_count": 13,
   "metadata": {},
   "outputs": [
    {
     "data": {
      "text/html": [
       "<div>\n",
       "<style scoped>\n",
       "    .dataframe tbody tr th:only-of-type {\n",
       "        vertical-align: middle;\n",
       "    }\n",
       "\n",
       "    .dataframe tbody tr th {\n",
       "        vertical-align: top;\n",
       "    }\n",
       "\n",
       "    .dataframe thead th {\n",
       "        text-align: right;\n",
       "    }\n",
       "</style>\n",
       "<table border=\"1\" class=\"dataframe\">\n",
       "  <thead>\n",
       "    <tr style=\"text-align: right;\">\n",
       "      <th></th>\n",
       "      <th>name</th>\n",
       "      <th>platform</th>\n",
       "      <th>year_of_release</th>\n",
       "      <th>genre</th>\n",
       "      <th>na_sales</th>\n",
       "      <th>eu_sales</th>\n",
       "      <th>jp_sales</th>\n",
       "      <th>other_sales</th>\n",
       "      <th>critic_score</th>\n",
       "      <th>user_score</th>\n",
       "      <th>rating</th>\n",
       "      <th>total_sales</th>\n",
       "    </tr>\n",
       "  </thead>\n",
       "  <tbody>\n",
       "    <tr>\n",
       "      <th>0</th>\n",
       "      <td>wii sports</td>\n",
       "      <td>wii</td>\n",
       "      <td>2,006.00</td>\n",
       "      <td>sports</td>\n",
       "      <td>41.36</td>\n",
       "      <td>28.96</td>\n",
       "      <td>3.77</td>\n",
       "      <td>8.45</td>\n",
       "      <td>76.00</td>\n",
       "      <td>8.00</td>\n",
       "      <td>e</td>\n",
       "      <td>82.54</td>\n",
       "    </tr>\n",
       "    <tr>\n",
       "      <th>1</th>\n",
       "      <td>super mario bros.</td>\n",
       "      <td>nes</td>\n",
       "      <td>1,985.00</td>\n",
       "      <td>platform</td>\n",
       "      <td>29.08</td>\n",
       "      <td>3.58</td>\n",
       "      <td>6.81</td>\n",
       "      <td>0.77</td>\n",
       "      <td>NaN</td>\n",
       "      <td>NaN</td>\n",
       "      <td>NaN</td>\n",
       "      <td>40.24</td>\n",
       "    </tr>\n",
       "    <tr>\n",
       "      <th>2</th>\n",
       "      <td>mario kart wii</td>\n",
       "      <td>wii</td>\n",
       "      <td>2,008.00</td>\n",
       "      <td>racing</td>\n",
       "      <td>15.68</td>\n",
       "      <td>12.76</td>\n",
       "      <td>3.79</td>\n",
       "      <td>3.29</td>\n",
       "      <td>82.00</td>\n",
       "      <td>8.30</td>\n",
       "      <td>e</td>\n",
       "      <td>35.52</td>\n",
       "    </tr>\n",
       "    <tr>\n",
       "      <th>3</th>\n",
       "      <td>wii sports resort</td>\n",
       "      <td>wii</td>\n",
       "      <td>2,009.00</td>\n",
       "      <td>sports</td>\n",
       "      <td>15.61</td>\n",
       "      <td>10.93</td>\n",
       "      <td>3.28</td>\n",
       "      <td>2.95</td>\n",
       "      <td>80.00</td>\n",
       "      <td>8.00</td>\n",
       "      <td>e</td>\n",
       "      <td>32.77</td>\n",
       "    </tr>\n",
       "    <tr>\n",
       "      <th>4</th>\n",
       "      <td>pokemon red/pokemon blue</td>\n",
       "      <td>gb</td>\n",
       "      <td>1,996.00</td>\n",
       "      <td>role-playing</td>\n",
       "      <td>11.27</td>\n",
       "      <td>8.89</td>\n",
       "      <td>10.22</td>\n",
       "      <td>1.00</td>\n",
       "      <td>NaN</td>\n",
       "      <td>NaN</td>\n",
       "      <td>NaN</td>\n",
       "      <td>31.38</td>\n",
       "    </tr>\n",
       "  </tbody>\n",
       "</table>\n",
       "</div>"
      ],
      "text/plain": [
       "                       name platform  year_of_release         genre  na_sales  \\\n",
       "0                wii sports      wii         2,006.00        sports     41.36   \n",
       "1         super mario bros.      nes         1,985.00      platform     29.08   \n",
       "2            mario kart wii      wii         2,008.00        racing     15.68   \n",
       "3         wii sports resort      wii         2,009.00        sports     15.61   \n",
       "4  pokemon red/pokemon blue       gb         1,996.00  role-playing     11.27   \n",
       "\n",
       "   eu_sales  jp_sales  other_sales  critic_score  user_score rating  \\\n",
       "0     28.96      3.77         8.45         76.00        8.00      e   \n",
       "1      3.58      6.81         0.77           NaN         NaN    NaN   \n",
       "2     12.76      3.79         3.29         82.00        8.30      e   \n",
       "3     10.93      3.28         2.95         80.00        8.00      e   \n",
       "4      8.89     10.22         1.00           NaN         NaN    NaN   \n",
       "\n",
       "   total_sales  \n",
       "0        82.54  \n",
       "1        40.24  \n",
       "2        35.52  \n",
       "3        32.77  \n",
       "4        31.38  "
      ]
     },
     "execution_count": 13,
     "metadata": {},
     "output_type": "execute_result"
    }
   ],
   "source": [
    "# проверим\n",
    "data.head()"
   ]
  },
  {
   "cell_type": "markdown",
   "metadata": {},
   "source": [
    "#### Обработка пропусков"
   ]
  },
  {
   "cell_type": "markdown",
   "metadata": {},
   "source": [
    "Выведем графики для наглядности количества пропусков в столбцах."
   ]
  },
  {
   "cell_type": "code",
   "execution_count": 14,
   "metadata": {},
   "outputs": [
    {
     "data": {
      "image/png": "[encoded data removed]",
      "text/plain": [
       "<Figure size 720x216 with 1 Axes>"
      ]
     },
     "metadata": {
      "needs_background": "light"
     },
     "output_type": "display_data"
    }
   ],
   "source": [
    "def pass_value_barh(df):\n",
    "    (\n",
    "        (df.isna().mean())\n",
    "        .to_frame()\n",
    "        .rename(columns = {0:'space'})\n",
    "        .query('space > 0')\n",
    "        .sort_values(by = 'space', ascending = True)\n",
    "        .plot(kind= 'barh', figsize=(10,3), legend = False)\n",
    "        .set_title('Пропущенные значения в столбцах' + \"\\n\", fontsize = 22, color = 'SteelBlue')    \n",
    "    );\n",
    "\n",
    "#Вызов функции:\n",
    "pass_value_barh(data)"
   ]
  },
  {
   "cell_type": "markdown",
   "metadata": {},
   "source": [
    "##### Название игры и жанра\n",
    "В столбце \"name\" всего 2 пропуска, в этих же строках пропущены названия жанров, удалим эти строки из датасета."
   ]
  },
  {
   "cell_type": "code",
   "execution_count": 15,
   "metadata": {},
   "outputs": [
    {
     "data": {
      "text/html": [
       "<div>\n",
       "<style scoped>\n",
       "    .dataframe tbody tr th:only-of-type {\n",
       "        vertical-align: middle;\n",
       "    }\n",
       "\n",
       "    .dataframe tbody tr th {\n",
       "        vertical-align: top;\n",
       "    }\n",
       "\n",
       "    .dataframe thead th {\n",
       "        text-align: right;\n",
       "    }\n",
       "</style>\n",
       "<table border=\"1\" class=\"dataframe\">\n",
       "  <thead>\n",
       "    <tr style=\"text-align: right;\">\n",
       "      <th></th>\n",
       "      <th>name</th>\n",
       "      <th>platform</th>\n",
       "      <th>year_of_release</th>\n",
       "      <th>genre</th>\n",
       "      <th>na_sales</th>\n",
       "      <th>eu_sales</th>\n",
       "      <th>jp_sales</th>\n",
       "      <th>other_sales</th>\n",
       "      <th>critic_score</th>\n",
       "      <th>user_score</th>\n",
       "      <th>rating</th>\n",
       "      <th>total_sales</th>\n",
       "    </tr>\n",
       "  </thead>\n",
       "  <tbody>\n",
       "    <tr>\n",
       "      <th>659</th>\n",
       "      <td>NaN</td>\n",
       "      <td>gen</td>\n",
       "      <td>1,993.00</td>\n",
       "      <td>NaN</td>\n",
       "      <td>1.78</td>\n",
       "      <td>0.53</td>\n",
       "      <td>0.00</td>\n",
       "      <td>0.08</td>\n",
       "      <td>NaN</td>\n",
       "      <td>NaN</td>\n",
       "      <td>NaN</td>\n",
       "      <td>2.39</td>\n",
       "    </tr>\n",
       "    <tr>\n",
       "      <th>14244</th>\n",
       "      <td>NaN</td>\n",
       "      <td>gen</td>\n",
       "      <td>1,993.00</td>\n",
       "      <td>NaN</td>\n",
       "      <td>0.00</td>\n",
       "      <td>0.00</td>\n",
       "      <td>0.03</td>\n",
       "      <td>0.00</td>\n",
       "      <td>NaN</td>\n",
       "      <td>NaN</td>\n",
       "      <td>NaN</td>\n",
       "      <td>0.03</td>\n",
       "    </tr>\n",
       "  </tbody>\n",
       "</table>\n",
       "</div>"
      ],
      "text/plain": [
       "      name platform  year_of_release genre  na_sales  eu_sales  jp_sales  \\\n",
       "659    NaN      gen         1,993.00   NaN      1.78      0.53      0.00   \n",
       "14244  NaN      gen         1,993.00   NaN      0.00      0.00      0.03   \n",
       "\n",
       "       other_sales  critic_score  user_score rating  total_sales  \n",
       "659           0.08           NaN         NaN    NaN         2.39  \n",
       "14244         0.00           NaN         NaN    NaN         0.03  "
      ]
     },
     "execution_count": 15,
     "metadata": {},
     "output_type": "execute_result"
    }
   ],
   "source": [
    "data[data['name'].isna()]"
   ]
  },
  {
   "cell_type": "code",
   "execution_count": 16,
   "metadata": {},
   "outputs": [],
   "source": [
    "data = data.dropna(subset=['name'])"
   ]
  },
  {
   "cell_type": "markdown",
   "metadata": {},
   "source": [
    "##### Оценка пользователей, оценка критиков, рейтинг ESRB\n",
    "В этих столбцах много пропусков, мы не можем заполнить столбцы с оценкой пользоваталей и критиков, так как эти игры просто не оценивали. Оставим эти пропуски.\n",
    "\n",
    "Рейтинг ESRB - это категориальные данные. Рассмотрим их поближе."
   ]
  },
  {
   "cell_type": "code",
   "execution_count": 17,
   "metadata": {},
   "outputs": [
    {
     "data": {
      "text/plain": [
       "array(['e', nan, 'm', 't', 'e10+', 'k-a', 'ao', 'ec', 'rp'], dtype=object)"
      ]
     },
     "execution_count": 17,
     "metadata": {},
     "output_type": "execute_result"
    }
   ],
   "source": [
    "data['rating'].unique()"
   ]
  },
  {
   "cell_type": "code",
   "execution_count": 18,
   "metadata": {},
   "outputs": [
    {
     "data": {
      "text/plain": [
       "e       3990\n",
       "t       2961\n",
       "m       1563\n",
       "e10+    1420\n",
       "ec         8\n",
       "k-a        3\n",
       "rp         3\n",
       "ao         1\n",
       "Name: rating, dtype: int64"
      ]
     },
     "execution_count": 18,
     "metadata": {},
     "output_type": "execute_result"
    }
   ],
   "source": [
    "data['rating'].value_counts()"
   ]
  },
  {
   "cell_type": "markdown",
   "metadata": {},
   "source": [
    "Рейтинг ESRB играм присваивается американской компанией. Скорее всего эта организация делает упор на игры, которые продаются в Северной Америке, и ее меньше интересуют продаваемые игры в других регионах. На это косвенно указывает большая часть японских игр без рейтинга ESRB.\n",
    "Если у игры не заполнен этот столбец, скорее всего этой игре не присвоили рейтинг ESRB. Чтобы не потерять при дальнейшем анализе данные игр без рейтинга, присвоим им значение 'no rating'.\n",
    "\n",
    "Также есть 3 игры с рейтингом \"rp\" - рейтинг ожидается, заменим его на \"no rating\", так как по сути у этих игр тоже пока нет рейтинга.\n",
    "\n",
    "Есть всего одна игра для взрослых (18+), добавим ее в группу 17+, это уменьшит количество категорий.\n",
    "\n",
    "Категория \"k-a\" (\"Kids to Adults\") это устаревшее название категории \"e\"(\"Everyone\"), переименуем 3 игры категории \"k-a\" на \"e\".\n",
    "\n",
    "Игры с категорией \"ec\" подходят для детей от 3 лет. Продукты, получившие данный рейтинг, изначально разрабатываются для детей и обычно представляют собой развивающие игры. Некоторые усложнённые развивающие игры могут иметь рейтинг «Everyone», заменим наши 8 детских игр на игры для любого возраста."
   ]
  },
  {
   "cell_type": "code",
   "execution_count": 19,
   "metadata": {},
   "outputs": [
    {
     "data": {
      "text/plain": [
       "array(['e', 'no rating', 'm', 't', 'e10+'], dtype=object)"
      ]
     },
     "execution_count": 19,
     "metadata": {},
     "output_type": "execute_result"
    }
   ],
   "source": [
    "data['rating'] = data['rating'].fillna('no rating')\n",
    "data['rating'] = data['rating'].where((data['rating'] != 'rp'), 'no rating')\n",
    "data['rating'] = data['rating'].where((data['rating'] != 'ao'), 'm')\n",
    "data['rating'] = data['rating'].where((data['rating'] != 'k-a'), 'e')\n",
    "data['rating'] = data['rating'].where((data['rating'] != 'ec'), 'e')\n",
    "data['rating'].unique()"
   ]
  },
  {
   "cell_type": "markdown",
   "metadata": {},
   "source": [
    "Мы заполнили все пропуски в столбце рейтинга и уменьшили количество категорий для дальнейшего анализа игр."
   ]
  },
  {
   "cell_type": "markdown",
   "metadata": {},
   "source": [
    "##### Год релиза игры"
   ]
  },
  {
   "cell_type": "markdown",
   "metadata": {},
   "source": [
    "В столбце \"year_of_release\" 269 пропущенных значений."
   ]
  },
  {
   "cell_type": "code",
   "execution_count": 20,
   "metadata": {},
   "outputs": [
    {
     "data": {
      "text/plain": [
       "269"
      ]
     },
     "execution_count": 20,
     "metadata": {},
     "output_type": "execute_result"
    }
   ],
   "source": [
    "data['year_of_release'].isna().sum()"
   ]
  },
  {
   "cell_type": "code",
   "execution_count": 21,
   "metadata": {},
   "outputs": [
    {
     "data": {
      "text/html": [
       "<div>\n",
       "<style scoped>\n",
       "    .dataframe tbody tr th:only-of-type {\n",
       "        vertical-align: middle;\n",
       "    }\n",
       "\n",
       "    .dataframe tbody tr th {\n",
       "        vertical-align: top;\n",
       "    }\n",
       "\n",
       "    .dataframe thead th {\n",
       "        text-align: right;\n",
       "    }\n",
       "</style>\n",
       "<table border=\"1\" class=\"dataframe\">\n",
       "  <thead>\n",
       "    <tr style=\"text-align: right;\">\n",
       "      <th></th>\n",
       "      <th>name</th>\n",
       "      <th>platform</th>\n",
       "      <th>year_of_release</th>\n",
       "      <th>genre</th>\n",
       "      <th>na_sales</th>\n",
       "      <th>eu_sales</th>\n",
       "      <th>jp_sales</th>\n",
       "      <th>other_sales</th>\n",
       "      <th>critic_score</th>\n",
       "      <th>user_score</th>\n",
       "      <th>rating</th>\n",
       "      <th>total_sales</th>\n",
       "    </tr>\n",
       "  </thead>\n",
       "  <tbody>\n",
       "    <tr>\n",
       "      <th>183</th>\n",
       "      <td>madden nfl 2004</td>\n",
       "      <td>ps2</td>\n",
       "      <td>NaN</td>\n",
       "      <td>sports</td>\n",
       "      <td>4.26</td>\n",
       "      <td>0.26</td>\n",
       "      <td>0.01</td>\n",
       "      <td>0.71</td>\n",
       "      <td>94.00</td>\n",
       "      <td>8.50</td>\n",
       "      <td>e</td>\n",
       "      <td>5.24</td>\n",
       "    </tr>\n",
       "    <tr>\n",
       "      <th>377</th>\n",
       "      <td>fifa soccer 2004</td>\n",
       "      <td>ps2</td>\n",
       "      <td>NaN</td>\n",
       "      <td>sports</td>\n",
       "      <td>0.59</td>\n",
       "      <td>2.36</td>\n",
       "      <td>0.04</td>\n",
       "      <td>0.51</td>\n",
       "      <td>84.00</td>\n",
       "      <td>6.40</td>\n",
       "      <td>e</td>\n",
       "      <td>3.50</td>\n",
       "    </tr>\n",
       "    <tr>\n",
       "      <th>456</th>\n",
       "      <td>lego batman: the videogame</td>\n",
       "      <td>wii</td>\n",
       "      <td>NaN</td>\n",
       "      <td>action</td>\n",
       "      <td>1.80</td>\n",
       "      <td>0.97</td>\n",
       "      <td>0.00</td>\n",
       "      <td>0.29</td>\n",
       "      <td>74.00</td>\n",
       "      <td>7.90</td>\n",
       "      <td>e10+</td>\n",
       "      <td>3.06</td>\n",
       "    </tr>\n",
       "    <tr>\n",
       "      <th>475</th>\n",
       "      <td>wwe smackdown vs. raw 2006</td>\n",
       "      <td>ps2</td>\n",
       "      <td>NaN</td>\n",
       "      <td>fighting</td>\n",
       "      <td>1.57</td>\n",
       "      <td>1.02</td>\n",
       "      <td>0.00</td>\n",
       "      <td>0.41</td>\n",
       "      <td>NaN</td>\n",
       "      <td>NaN</td>\n",
       "      <td>no rating</td>\n",
       "      <td>3.00</td>\n",
       "    </tr>\n",
       "    <tr>\n",
       "      <th>609</th>\n",
       "      <td>space invaders</td>\n",
       "      <td>2600</td>\n",
       "      <td>NaN</td>\n",
       "      <td>shooter</td>\n",
       "      <td>2.36</td>\n",
       "      <td>0.14</td>\n",
       "      <td>0.00</td>\n",
       "      <td>0.03</td>\n",
       "      <td>NaN</td>\n",
       "      <td>NaN</td>\n",
       "      <td>no rating</td>\n",
       "      <td>2.53</td>\n",
       "    </tr>\n",
       "    <tr>\n",
       "      <th>...</th>\n",
       "      <td>...</td>\n",
       "      <td>...</td>\n",
       "      <td>...</td>\n",
       "      <td>...</td>\n",
       "      <td>...</td>\n",
       "      <td>...</td>\n",
       "      <td>...</td>\n",
       "      <td>...</td>\n",
       "      <td>...</td>\n",
       "      <td>...</td>\n",
       "      <td>...</td>\n",
       "      <td>...</td>\n",
       "    </tr>\n",
       "    <tr>\n",
       "      <th>16373</th>\n",
       "      <td>pdc world championship darts 2008</td>\n",
       "      <td>psp</td>\n",
       "      <td>NaN</td>\n",
       "      <td>sports</td>\n",
       "      <td>0.01</td>\n",
       "      <td>0.00</td>\n",
       "      <td>0.00</td>\n",
       "      <td>0.00</td>\n",
       "      <td>43.00</td>\n",
       "      <td>NaN</td>\n",
       "      <td>e10+</td>\n",
       "      <td>0.01</td>\n",
       "    </tr>\n",
       "    <tr>\n",
       "      <th>16405</th>\n",
       "      <td>freaky flyers</td>\n",
       "      <td>gc</td>\n",
       "      <td>NaN</td>\n",
       "      <td>racing</td>\n",
       "      <td>0.01</td>\n",
       "      <td>0.00</td>\n",
       "      <td>0.00</td>\n",
       "      <td>0.00</td>\n",
       "      <td>69.00</td>\n",
       "      <td>6.50</td>\n",
       "      <td>t</td>\n",
       "      <td>0.01</td>\n",
       "    </tr>\n",
       "    <tr>\n",
       "      <th>16448</th>\n",
       "      <td>inversion</td>\n",
       "      <td>pc</td>\n",
       "      <td>NaN</td>\n",
       "      <td>shooter</td>\n",
       "      <td>0.01</td>\n",
       "      <td>0.00</td>\n",
       "      <td>0.00</td>\n",
       "      <td>0.00</td>\n",
       "      <td>59.00</td>\n",
       "      <td>6.70</td>\n",
       "      <td>m</td>\n",
       "      <td>0.01</td>\n",
       "    </tr>\n",
       "    <tr>\n",
       "      <th>16458</th>\n",
       "      <td>hakuouki: shinsengumi kitan</td>\n",
       "      <td>ps3</td>\n",
       "      <td>NaN</td>\n",
       "      <td>adventure</td>\n",
       "      <td>0.01</td>\n",
       "      <td>0.00</td>\n",
       "      <td>0.00</td>\n",
       "      <td>0.00</td>\n",
       "      <td>NaN</td>\n",
       "      <td>NaN</td>\n",
       "      <td>no rating</td>\n",
       "      <td>0.01</td>\n",
       "    </tr>\n",
       "    <tr>\n",
       "      <th>16522</th>\n",
       "      <td>virtua quest</td>\n",
       "      <td>gc</td>\n",
       "      <td>NaN</td>\n",
       "      <td>role-playing</td>\n",
       "      <td>0.01</td>\n",
       "      <td>0.00</td>\n",
       "      <td>0.00</td>\n",
       "      <td>0.00</td>\n",
       "      <td>55.00</td>\n",
       "      <td>5.50</td>\n",
       "      <td>t</td>\n",
       "      <td>0.01</td>\n",
       "    </tr>\n",
       "  </tbody>\n",
       "</table>\n",
       "<p>269 rows × 12 columns</p>\n",
       "</div>"
      ],
      "text/plain": [
       "                                    name platform  year_of_release  \\\n",
       "183                      madden nfl 2004      ps2              NaN   \n",
       "377                     fifa soccer 2004      ps2              NaN   \n",
       "456           lego batman: the videogame      wii              NaN   \n",
       "475           wwe smackdown vs. raw 2006      ps2              NaN   \n",
       "609                       space invaders     2600              NaN   \n",
       "...                                  ...      ...              ...   \n",
       "16373  pdc world championship darts 2008      psp              NaN   \n",
       "16405                      freaky flyers       gc              NaN   \n",
       "16448                          inversion       pc              NaN   \n",
       "16458        hakuouki: shinsengumi kitan      ps3              NaN   \n",
       "16522                       virtua quest       gc              NaN   \n",
       "\n",
       "              genre  na_sales  eu_sales  jp_sales  other_sales  critic_score  \\\n",
       "183          sports      4.26      0.26      0.01         0.71         94.00   \n",
       "377          sports      0.59      2.36      0.04         0.51         84.00   \n",
       "456          action      1.80      0.97      0.00         0.29         74.00   \n",
       "475        fighting      1.57      1.02      0.00         0.41           NaN   \n",
       "609         shooter      2.36      0.14      0.00         0.03           NaN   \n",
       "...             ...       ...       ...       ...          ...           ...   \n",
       "16373        sports      0.01      0.00      0.00         0.00         43.00   \n",
       "16405        racing      0.01      0.00      0.00         0.00         69.00   \n",
       "16448       shooter      0.01      0.00      0.00         0.00         59.00   \n",
       "16458     adventure      0.01      0.00      0.00         0.00           NaN   \n",
       "16522  role-playing      0.01      0.00      0.00         0.00         55.00   \n",
       "\n",
       "       user_score     rating  total_sales  \n",
       "183          8.50          e         5.24  \n",
       "377          6.40          e         3.50  \n",
       "456          7.90       e10+         3.06  \n",
       "475           NaN  no rating         3.00  \n",
       "609           NaN  no rating         2.53  \n",
       "...           ...        ...          ...  \n",
       "16373         NaN       e10+         0.01  \n",
       "16405        6.50          t         0.01  \n",
       "16448        6.70          m         0.01  \n",
       "16458         NaN  no rating         0.01  \n",
       "16522        5.50          t         0.01  \n",
       "\n",
       "[269 rows x 12 columns]"
      ]
     },
     "execution_count": 21,
     "metadata": {},
     "output_type": "execute_result"
    }
   ],
   "source": [
    "data[data['year_of_release'].isna()]"
   ]
  },
  {
   "cell_type": "markdown",
   "metadata": {},
   "source": [
    "Сгруппируем игры по названию и, где не заполнен год релиза, установим медианное значение среди этих игр. Скорее всего, если игра выходит на нескольких платформах, она выходит примерно в одно время."
   ]
  },
  {
   "cell_type": "code",
   "execution_count": 22,
   "metadata": {},
   "outputs": [],
   "source": [
    "for game in data['name'].unique():\n",
    "    data.loc[(data['name'] == game) & (data['year_of_release'].isna()), 'year_of_release'] = \\\n",
    "    data.loc[(data['name'] == game), 'year_of_release'].median()"
   ]
  },
  {
   "cell_type": "code",
   "execution_count": 23,
   "metadata": {},
   "outputs": [
    {
     "data": {
      "text/plain": [
       "146"
      ]
     },
     "execution_count": 23,
     "metadata": {},
     "output_type": "execute_result"
    }
   ],
   "source": [
    "# осталось 146 пустых значений\n",
    "data['year_of_release'].isna().sum()"
   ]
  },
  {
   "cell_type": "code",
   "execution_count": 24,
   "metadata": {},
   "outputs": [
    {
     "data": {
      "text/plain": [
       "count   16,713.00\n",
       "mean         0.53\n",
       "std          1.55\n",
       "min          0.00\n",
       "25%          0.06\n",
       "50%          0.17\n",
       "75%          0.47\n",
       "max         82.54\n",
       "Name: total_sales, dtype: float64"
      ]
     },
     "execution_count": 24,
     "metadata": {},
     "output_type": "execute_result"
    }
   ],
   "source": [
    "# посмотрим общую информацию по столбцу \"total_sales\"\n",
    "data['total_sales'].describe()"
   ]
  },
  {
   "cell_type": "markdown",
   "metadata": {},
   "source": [
    "Первый квартиль общих сумм продаж менее 0.06 млн. копий. Посмотрим оставшиеся повторные игры, в которых не заполнился год релиза."
   ]
  },
  {
   "cell_type": "code",
   "execution_count": 25,
   "metadata": {
    "scrolled": true
   },
   "outputs": [
    {
     "data": {
      "text/html": [
       "<div>\n",
       "<style scoped>\n",
       "    .dataframe tbody tr th:only-of-type {\n",
       "        vertical-align: middle;\n",
       "    }\n",
       "\n",
       "    .dataframe tbody tr th {\n",
       "        vertical-align: top;\n",
       "    }\n",
       "\n",
       "    .dataframe thead th {\n",
       "        text-align: right;\n",
       "    }\n",
       "</style>\n",
       "<table border=\"1\" class=\"dataframe\">\n",
       "  <thead>\n",
       "    <tr style=\"text-align: right;\">\n",
       "      <th></th>\n",
       "      <th>name</th>\n",
       "      <th>platform</th>\n",
       "      <th>year_of_release</th>\n",
       "      <th>genre</th>\n",
       "      <th>na_sales</th>\n",
       "      <th>eu_sales</th>\n",
       "      <th>jp_sales</th>\n",
       "      <th>other_sales</th>\n",
       "      <th>critic_score</th>\n",
       "      <th>user_score</th>\n",
       "      <th>rating</th>\n",
       "      <th>total_sales</th>\n",
       "    </tr>\n",
       "  </thead>\n",
       "  <tbody>\n",
       "    <tr>\n",
       "      <th>805</th>\n",
       "      <td>rock band</td>\n",
       "      <td>wii</td>\n",
       "      <td>NaN</td>\n",
       "      <td>misc</td>\n",
       "      <td>1.33</td>\n",
       "      <td>0.56</td>\n",
       "      <td>0.00</td>\n",
       "      <td>0.20</td>\n",
       "      <td>80.00</td>\n",
       "      <td>6.30</td>\n",
       "      <td>t</td>\n",
       "      <td>2.09</td>\n",
       "    </tr>\n",
       "    <tr>\n",
       "      <th>1142</th>\n",
       "      <td>rock band</td>\n",
       "      <td>ps3</td>\n",
       "      <td>NaN</td>\n",
       "      <td>misc</td>\n",
       "      <td>0.99</td>\n",
       "      <td>0.41</td>\n",
       "      <td>0.00</td>\n",
       "      <td>0.22</td>\n",
       "      <td>92.00</td>\n",
       "      <td>8.40</td>\n",
       "      <td>t</td>\n",
       "      <td>1.62</td>\n",
       "    </tr>\n",
       "    <tr>\n",
       "      <th>1840</th>\n",
       "      <td>rock band</td>\n",
       "      <td>ps2</td>\n",
       "      <td>NaN</td>\n",
       "      <td>misc</td>\n",
       "      <td>0.71</td>\n",
       "      <td>0.06</td>\n",
       "      <td>0.00</td>\n",
       "      <td>0.35</td>\n",
       "      <td>82.00</td>\n",
       "      <td>6.80</td>\n",
       "      <td>t</td>\n",
       "      <td>1.12</td>\n",
       "    </tr>\n",
       "    <tr>\n",
       "      <th>3233</th>\n",
       "      <td>test drive unlimited 2</td>\n",
       "      <td>ps3</td>\n",
       "      <td>NaN</td>\n",
       "      <td>racing</td>\n",
       "      <td>0.16</td>\n",
       "      <td>0.34</td>\n",
       "      <td>0.01</td>\n",
       "      <td>0.12</td>\n",
       "      <td>70.00</td>\n",
       "      <td>6.10</td>\n",
       "      <td>t</td>\n",
       "      <td>0.63</td>\n",
       "    </tr>\n",
       "    <tr>\n",
       "      <th>4945</th>\n",
       "      <td>robert ludlum's the bourne conspiracy</td>\n",
       "      <td>ps3</td>\n",
       "      <td>NaN</td>\n",
       "      <td>action</td>\n",
       "      <td>0.18</td>\n",
       "      <td>0.14</td>\n",
       "      <td>0.00</td>\n",
       "      <td>0.06</td>\n",
       "      <td>70.00</td>\n",
       "      <td>7.60</td>\n",
       "      <td>t</td>\n",
       "      <td>0.38</td>\n",
       "    </tr>\n",
       "    <tr>\n",
       "      <th>4959</th>\n",
       "      <td>silent hill: homecoming</td>\n",
       "      <td>ps3</td>\n",
       "      <td>NaN</td>\n",
       "      <td>action</td>\n",
       "      <td>0.18</td>\n",
       "      <td>0.14</td>\n",
       "      <td>0.00</td>\n",
       "      <td>0.06</td>\n",
       "      <td>71.00</td>\n",
       "      <td>6.90</td>\n",
       "      <td>m</td>\n",
       "      <td>0.38</td>\n",
       "    </tr>\n",
       "    <tr>\n",
       "      <th>7735</th>\n",
       "      <td>test drive unlimited 2</td>\n",
       "      <td>pc</td>\n",
       "      <td>NaN</td>\n",
       "      <td>racing</td>\n",
       "      <td>0.05</td>\n",
       "      <td>0.11</td>\n",
       "      <td>0.00</td>\n",
       "      <td>0.03</td>\n",
       "      <td>72.00</td>\n",
       "      <td>5.70</td>\n",
       "      <td>t</td>\n",
       "      <td>0.19</td>\n",
       "    </tr>\n",
       "    <tr>\n",
       "      <th>8260</th>\n",
       "      <td>backbreaker</td>\n",
       "      <td>ps3</td>\n",
       "      <td>NaN</td>\n",
       "      <td>sports</td>\n",
       "      <td>0.16</td>\n",
       "      <td>0.00</td>\n",
       "      <td>0.00</td>\n",
       "      <td>0.01</td>\n",
       "      <td>58.00</td>\n",
       "      <td>7.00</td>\n",
       "      <td>e</td>\n",
       "      <td>0.17</td>\n",
       "    </tr>\n",
       "    <tr>\n",
       "      <th>8918</th>\n",
       "      <td>all-star baseball 2005</td>\n",
       "      <td>xb</td>\n",
       "      <td>NaN</td>\n",
       "      <td>sports</td>\n",
       "      <td>0.11</td>\n",
       "      <td>0.03</td>\n",
       "      <td>0.00</td>\n",
       "      <td>0.01</td>\n",
       "      <td>75.00</td>\n",
       "      <td>8.80</td>\n",
       "      <td>e</td>\n",
       "      <td>0.15</td>\n",
       "    </tr>\n",
       "    <tr>\n",
       "      <th>10993</th>\n",
       "      <td>the daring game for girls</td>\n",
       "      <td>wii</td>\n",
       "      <td>NaN</td>\n",
       "      <td>adventure</td>\n",
       "      <td>0.09</td>\n",
       "      <td>0.00</td>\n",
       "      <td>0.00</td>\n",
       "      <td>0.01</td>\n",
       "      <td>NaN</td>\n",
       "      <td>NaN</td>\n",
       "      <td>e</td>\n",
       "      <td>0.10</td>\n",
       "    </tr>\n",
       "    <tr>\n",
       "      <th>12221</th>\n",
       "      <td>port royale 3</td>\n",
       "      <td>x360</td>\n",
       "      <td>NaN</td>\n",
       "      <td>simulation</td>\n",
       "      <td>0.06</td>\n",
       "      <td>0.00</td>\n",
       "      <td>0.00</td>\n",
       "      <td>0.01</td>\n",
       "      <td>56.00</td>\n",
       "      <td>4.50</td>\n",
       "      <td>t</td>\n",
       "      <td>0.07</td>\n",
       "    </tr>\n",
       "    <tr>\n",
       "      <th>14546</th>\n",
       "      <td>combat elite: wwii paratroopers</td>\n",
       "      <td>xb</td>\n",
       "      <td>NaN</td>\n",
       "      <td>shooter</td>\n",
       "      <td>0.02</td>\n",
       "      <td>0.01</td>\n",
       "      <td>0.00</td>\n",
       "      <td>0.00</td>\n",
       "      <td>56.00</td>\n",
       "      <td>NaN</td>\n",
       "      <td>t</td>\n",
       "      <td>0.03</td>\n",
       "    </tr>\n",
       "    <tr>\n",
       "      <th>16522</th>\n",
       "      <td>virtua quest</td>\n",
       "      <td>gc</td>\n",
       "      <td>NaN</td>\n",
       "      <td>role-playing</td>\n",
       "      <td>0.01</td>\n",
       "      <td>0.00</td>\n",
       "      <td>0.00</td>\n",
       "      <td>0.00</td>\n",
       "      <td>55.00</td>\n",
       "      <td>5.50</td>\n",
       "      <td>t</td>\n",
       "      <td>0.01</td>\n",
       "    </tr>\n",
       "  </tbody>\n",
       "</table>\n",
       "</div>"
      ],
      "text/plain": [
       "                                        name platform  year_of_release  \\\n",
       "805                                rock band      wii              NaN   \n",
       "1142                               rock band      ps3              NaN   \n",
       "1840                               rock band      ps2              NaN   \n",
       "3233                  test drive unlimited 2      ps3              NaN   \n",
       "4945   robert ludlum's the bourne conspiracy      ps3              NaN   \n",
       "4959                 silent hill: homecoming      ps3              NaN   \n",
       "7735                  test drive unlimited 2       pc              NaN   \n",
       "8260                             backbreaker      ps3              NaN   \n",
       "8918                  all-star baseball 2005       xb              NaN   \n",
       "10993              the daring game for girls      wii              NaN   \n",
       "12221                          port royale 3     x360              NaN   \n",
       "14546        combat elite: wwii paratroopers       xb              NaN   \n",
       "16522                           virtua quest       gc              NaN   \n",
       "\n",
       "              genre  na_sales  eu_sales  jp_sales  other_sales  critic_score  \\\n",
       "805            misc      1.33      0.56      0.00         0.20         80.00   \n",
       "1142           misc      0.99      0.41      0.00         0.22         92.00   \n",
       "1840           misc      0.71      0.06      0.00         0.35         82.00   \n",
       "3233         racing      0.16      0.34      0.01         0.12         70.00   \n",
       "4945         action      0.18      0.14      0.00         0.06         70.00   \n",
       "4959         action      0.18      0.14      0.00         0.06         71.00   \n",
       "7735         racing      0.05      0.11      0.00         0.03         72.00   \n",
       "8260         sports      0.16      0.00      0.00         0.01         58.00   \n",
       "8918         sports      0.11      0.03      0.00         0.01         75.00   \n",
       "10993     adventure      0.09      0.00      0.00         0.01           NaN   \n",
       "12221    simulation      0.06      0.00      0.00         0.01         56.00   \n",
       "14546       shooter      0.02      0.01      0.00         0.00         56.00   \n",
       "16522  role-playing      0.01      0.00      0.00         0.00         55.00   \n",
       "\n",
       "       user_score rating  total_sales  \n",
       "805          6.30      t         2.09  \n",
       "1142         8.40      t         1.62  \n",
       "1840         6.80      t         1.12  \n",
       "3233         6.10      t         0.63  \n",
       "4945         7.60      t         0.38  \n",
       "4959         6.90      m         0.38  \n",
       "7735         5.70      t         0.19  \n",
       "8260         7.00      e         0.17  \n",
       "8918         8.80      e         0.15  \n",
       "10993         NaN      e         0.10  \n",
       "12221        4.50      t         0.07  \n",
       "14546         NaN      t         0.03  \n",
       "16522        5.50      t         0.01  "
      ]
     },
     "execution_count": 25,
     "metadata": {},
     "output_type": "execute_result"
    }
   ],
   "source": [
    "data[(data.duplicated(subset='name')) & (data['year_of_release'].isna())]"
   ]
  },
  {
   "cell_type": "markdown",
   "metadata": {},
   "source": [
    "Только одна имеет общие продажи более 0.06 млн. - \"Rock Band\". Заполним эти данные вручную, использовав интернет. Год релиза - 2007 на всех платформах. "
   ]
  },
  {
   "cell_type": "code",
   "execution_count": 26,
   "metadata": {},
   "outputs": [],
   "source": [
    "data['year_of_release'] = data['year_of_release'].where((data['name'] != 'Rock Band'), 2007)"
   ]
  },
  {
   "cell_type": "markdown",
   "metadata": {},
   "source": [
    "Оставшиеся 142 игры без заполненного года релиза удалим, это 0.8% от всех игр в датасете."
   ]
  },
  {
   "cell_type": "code",
   "execution_count": 27,
   "metadata": {},
   "outputs": [],
   "source": [
    "data = data.dropna(subset=['year_of_release'])"
   ]
  },
  {
   "cell_type": "markdown",
   "metadata": {},
   "source": [
    "Сейчас в столбце нет пропусков, можно изменить тип данных на int."
   ]
  },
  {
   "cell_type": "code",
   "execution_count": 28,
   "metadata": {},
   "outputs": [
    {
     "data": {
      "text/html": [
       "<div>\n",
       "<style scoped>\n",
       "    .dataframe tbody tr th:only-of-type {\n",
       "        vertical-align: middle;\n",
       "    }\n",
       "\n",
       "    .dataframe tbody tr th {\n",
       "        vertical-align: top;\n",
       "    }\n",
       "\n",
       "    .dataframe thead th {\n",
       "        text-align: right;\n",
       "    }\n",
       "</style>\n",
       "<table border=\"1\" class=\"dataframe\">\n",
       "  <thead>\n",
       "    <tr style=\"text-align: right;\">\n",
       "      <th></th>\n",
       "      <th>index</th>\n",
       "      <th>name</th>\n",
       "      <th>platform</th>\n",
       "      <th>year_of_release</th>\n",
       "      <th>genre</th>\n",
       "      <th>na_sales</th>\n",
       "      <th>eu_sales</th>\n",
       "      <th>jp_sales</th>\n",
       "      <th>other_sales</th>\n",
       "      <th>critic_score</th>\n",
       "      <th>user_score</th>\n",
       "      <th>rating</th>\n",
       "      <th>total_sales</th>\n",
       "    </tr>\n",
       "  </thead>\n",
       "  <tbody>\n",
       "    <tr>\n",
       "      <th>0</th>\n",
       "      <td>0</td>\n",
       "      <td>wii sports</td>\n",
       "      <td>wii</td>\n",
       "      <td>2,006.00</td>\n",
       "      <td>sports</td>\n",
       "      <td>41.36</td>\n",
       "      <td>28.96</td>\n",
       "      <td>3.77</td>\n",
       "      <td>8.45</td>\n",
       "      <td>76.00</td>\n",
       "      <td>8.00</td>\n",
       "      <td>e</td>\n",
       "      <td>82.54</td>\n",
       "    </tr>\n",
       "    <tr>\n",
       "      <th>1</th>\n",
       "      <td>1</td>\n",
       "      <td>super mario bros.</td>\n",
       "      <td>nes</td>\n",
       "      <td>1,985.00</td>\n",
       "      <td>platform</td>\n",
       "      <td>29.08</td>\n",
       "      <td>3.58</td>\n",
       "      <td>6.81</td>\n",
       "      <td>0.77</td>\n",
       "      <td>NaN</td>\n",
       "      <td>NaN</td>\n",
       "      <td>no rating</td>\n",
       "      <td>40.24</td>\n",
       "    </tr>\n",
       "    <tr>\n",
       "      <th>2</th>\n",
       "      <td>2</td>\n",
       "      <td>mario kart wii</td>\n",
       "      <td>wii</td>\n",
       "      <td>2,008.00</td>\n",
       "      <td>racing</td>\n",
       "      <td>15.68</td>\n",
       "      <td>12.76</td>\n",
       "      <td>3.79</td>\n",
       "      <td>3.29</td>\n",
       "      <td>82.00</td>\n",
       "      <td>8.30</td>\n",
       "      <td>e</td>\n",
       "      <td>35.52</td>\n",
       "    </tr>\n",
       "    <tr>\n",
       "      <th>3</th>\n",
       "      <td>3</td>\n",
       "      <td>wii sports resort</td>\n",
       "      <td>wii</td>\n",
       "      <td>2,009.00</td>\n",
       "      <td>sports</td>\n",
       "      <td>15.61</td>\n",
       "      <td>10.93</td>\n",
       "      <td>3.28</td>\n",
       "      <td>2.95</td>\n",
       "      <td>80.00</td>\n",
       "      <td>8.00</td>\n",
       "      <td>e</td>\n",
       "      <td>32.77</td>\n",
       "    </tr>\n",
       "    <tr>\n",
       "      <th>4</th>\n",
       "      <td>4</td>\n",
       "      <td>pokemon red/pokemon blue</td>\n",
       "      <td>gb</td>\n",
       "      <td>1,996.00</td>\n",
       "      <td>role-playing</td>\n",
       "      <td>11.27</td>\n",
       "      <td>8.89</td>\n",
       "      <td>10.22</td>\n",
       "      <td>1.00</td>\n",
       "      <td>NaN</td>\n",
       "      <td>NaN</td>\n",
       "      <td>no rating</td>\n",
       "      <td>31.38</td>\n",
       "    </tr>\n",
       "    <tr>\n",
       "      <th>...</th>\n",
       "      <td>...</td>\n",
       "      <td>...</td>\n",
       "      <td>...</td>\n",
       "      <td>...</td>\n",
       "      <td>...</td>\n",
       "      <td>...</td>\n",
       "      <td>...</td>\n",
       "      <td>...</td>\n",
       "      <td>...</td>\n",
       "      <td>...</td>\n",
       "      <td>...</td>\n",
       "      <td>...</td>\n",
       "      <td>...</td>\n",
       "    </tr>\n",
       "    <tr>\n",
       "      <th>16562</th>\n",
       "      <td>16710</td>\n",
       "      <td>samurai warriors: sanada maru</td>\n",
       "      <td>ps3</td>\n",
       "      <td>2,016.00</td>\n",
       "      <td>action</td>\n",
       "      <td>0.00</td>\n",
       "      <td>0.00</td>\n",
       "      <td>0.01</td>\n",
       "      <td>0.00</td>\n",
       "      <td>NaN</td>\n",
       "      <td>NaN</td>\n",
       "      <td>no rating</td>\n",
       "      <td>0.01</td>\n",
       "    </tr>\n",
       "    <tr>\n",
       "      <th>16563</th>\n",
       "      <td>16711</td>\n",
       "      <td>lma manager 2007</td>\n",
       "      <td>x360</td>\n",
       "      <td>2,006.00</td>\n",
       "      <td>sports</td>\n",
       "      <td>0.00</td>\n",
       "      <td>0.01</td>\n",
       "      <td>0.00</td>\n",
       "      <td>0.00</td>\n",
       "      <td>NaN</td>\n",
       "      <td>NaN</td>\n",
       "      <td>no rating</td>\n",
       "      <td>0.01</td>\n",
       "    </tr>\n",
       "    <tr>\n",
       "      <th>16564</th>\n",
       "      <td>16712</td>\n",
       "      <td>haitaka no psychedelica</td>\n",
       "      <td>psv</td>\n",
       "      <td>2,016.00</td>\n",
       "      <td>adventure</td>\n",
       "      <td>0.00</td>\n",
       "      <td>0.00</td>\n",
       "      <td>0.01</td>\n",
       "      <td>0.00</td>\n",
       "      <td>NaN</td>\n",
       "      <td>NaN</td>\n",
       "      <td>no rating</td>\n",
       "      <td>0.01</td>\n",
       "    </tr>\n",
       "    <tr>\n",
       "      <th>16565</th>\n",
       "      <td>16713</td>\n",
       "      <td>spirits &amp; spells</td>\n",
       "      <td>gba</td>\n",
       "      <td>2,003.00</td>\n",
       "      <td>platform</td>\n",
       "      <td>0.01</td>\n",
       "      <td>0.00</td>\n",
       "      <td>0.00</td>\n",
       "      <td>0.00</td>\n",
       "      <td>NaN</td>\n",
       "      <td>NaN</td>\n",
       "      <td>no rating</td>\n",
       "      <td>0.01</td>\n",
       "    </tr>\n",
       "    <tr>\n",
       "      <th>16566</th>\n",
       "      <td>16714</td>\n",
       "      <td>winning post 8 2016</td>\n",
       "      <td>psv</td>\n",
       "      <td>2,016.00</td>\n",
       "      <td>simulation</td>\n",
       "      <td>0.00</td>\n",
       "      <td>0.00</td>\n",
       "      <td>0.01</td>\n",
       "      <td>0.00</td>\n",
       "      <td>NaN</td>\n",
       "      <td>NaN</td>\n",
       "      <td>no rating</td>\n",
       "      <td>0.01</td>\n",
       "    </tr>\n",
       "  </tbody>\n",
       "</table>\n",
       "<p>16567 rows × 13 columns</p>\n",
       "</div>"
      ],
      "text/plain": [
       "       index                           name platform  year_of_release  \\\n",
       "0          0                     wii sports      wii         2,006.00   \n",
       "1          1              super mario bros.      nes         1,985.00   \n",
       "2          2                 mario kart wii      wii         2,008.00   \n",
       "3          3              wii sports resort      wii         2,009.00   \n",
       "4          4       pokemon red/pokemon blue       gb         1,996.00   \n",
       "...      ...                            ...      ...              ...   \n",
       "16562  16710  samurai warriors: sanada maru      ps3         2,016.00   \n",
       "16563  16711               lma manager 2007     x360         2,006.00   \n",
       "16564  16712        haitaka no psychedelica      psv         2,016.00   \n",
       "16565  16713               spirits & spells      gba         2,003.00   \n",
       "16566  16714            winning post 8 2016      psv         2,016.00   \n",
       "\n",
       "              genre  na_sales  eu_sales  jp_sales  other_sales  critic_score  \\\n",
       "0            sports     41.36     28.96      3.77         8.45         76.00   \n",
       "1          platform     29.08      3.58      6.81         0.77           NaN   \n",
       "2            racing     15.68     12.76      3.79         3.29         82.00   \n",
       "3            sports     15.61     10.93      3.28         2.95         80.00   \n",
       "4      role-playing     11.27      8.89     10.22         1.00           NaN   \n",
       "...             ...       ...       ...       ...          ...           ...   \n",
       "16562        action      0.00      0.00      0.01         0.00           NaN   \n",
       "16563        sports      0.00      0.01      0.00         0.00           NaN   \n",
       "16564     adventure      0.00      0.00      0.01         0.00           NaN   \n",
       "16565      platform      0.01      0.00      0.00         0.00           NaN   \n",
       "16566    simulation      0.00      0.00      0.01         0.00           NaN   \n",
       "\n",
       "       user_score     rating  total_sales  \n",
       "0            8.00          e        82.54  \n",
       "1             NaN  no rating        40.24  \n",
       "2            8.30          e        35.52  \n",
       "3            8.00          e        32.77  \n",
       "4             NaN  no rating        31.38  \n",
       "...           ...        ...          ...  \n",
       "16562         NaN  no rating         0.01  \n",
       "16563         NaN  no rating         0.01  \n",
       "16564         NaN  no rating         0.01  \n",
       "16565         NaN  no rating         0.01  \n",
       "16566         NaN  no rating         0.01  \n",
       "\n",
       "[16567 rows x 13 columns]"
      ]
     },
     "execution_count": 28,
     "metadata": {},
     "output_type": "execute_result"
    }
   ],
   "source": [
    "# сбросим индексы у нашей таблицы после удаления строк\n",
    "data.reset_index()"
   ]
  },
  {
   "cell_type": "code",
   "execution_count": 29,
   "metadata": {},
   "outputs": [],
   "source": [
    "data['year_of_release'] = data['year_of_release'].astype('int')"
   ]
  },
  {
   "cell_type": "code",
   "execution_count": 30,
   "metadata": {},
   "outputs": [
    {
     "data": {
      "text/plain": [
       "array([2006, 1985, 2008, 2009, 1996, 1989, 1984, 2005, 1999, 2007, 2010,\n",
       "       2013, 2004, 1990, 1988, 2002, 2001, 2011, 1998, 2015, 2012, 2014,\n",
       "       1992, 1997, 1993, 1994, 1982, 2016, 2003, 1986, 2000, 1995, 1991,\n",
       "       1981, 1987, 1980, 1983])"
      ]
     },
     "execution_count": 30,
     "metadata": {},
     "output_type": "execute_result"
    }
   ],
   "source": [
    "data['year_of_release'].unique()"
   ]
  },
  {
   "cell_type": "code",
   "execution_count": 31,
   "metadata": {
    "scrolled": true
   },
   "outputs": [
    {
     "name": "stdout",
     "output_type": "stream",
     "text": [
      "<class 'pandas.core.frame.DataFrame'>\n",
      "Int64Index: 16567 entries, 0 to 16714\n",
      "Data columns (total 12 columns):\n",
      " #   Column           Non-Null Count  Dtype  \n",
      "---  ------           --------------  -----  \n",
      " 0   name             16567 non-null  object \n",
      " 1   platform         16567 non-null  object \n",
      " 2   year_of_release  16567 non-null  int64  \n",
      " 3   genre            16567 non-null  object \n",
      " 4   na_sales         16567 non-null  float64\n",
      " 5   eu_sales         16567 non-null  float64\n",
      " 6   jp_sales         16567 non-null  float64\n",
      " 7   other_sales      16567 non-null  float64\n",
      " 8   critic_score     8075 non-null   float64\n",
      " 9   user_score       7540 non-null   float64\n",
      " 10  rating           16567 non-null  object \n",
      " 11  total_sales      16567 non-null  float64\n",
      "dtypes: float64(7), int64(1), object(4)\n",
      "memory usage: 1.6+ MB\n"
     ]
    }
   ],
   "source": [
    "# проверим еще раз датасет, пропуски остались только в оценках игр\n",
    "data.info()"
   ]
  },
  {
   "cell_type": "markdown",
   "metadata": {},
   "source": [
    "#### Вывод\n",
    "Проанализировали все данные в датасете, заменили названия столбцов, изменили типы данных, избавились от пропусков, где это возможно, добавили столбцы для дальнейших вычислений. Можно приступать к исследовательскому анализу."
   ]
  },
  {
   "cell_type": "markdown",
   "metadata": {},
   "source": [
    "### Исследовательский анализ данных\n",
    "#### Количество игр в разные годы\n",
    "Посмотрим, сколько разных игр выпускалось в разные годы."
   ]
  },
  {
   "cell_type": "code",
   "execution_count": 32,
   "metadata": {},
   "outputs": [
    {
     "data": {
      "text/plain": [
       "2008    1441\n",
       "2009    1430\n",
       "2010    1269\n",
       "2007    1202\n",
       "2011    1153\n",
       "2006    1019\n",
       "2005     948\n",
       "2002     844\n",
       "2003     784\n",
       "2004     765\n",
       "2012     662\n",
       "2015     606\n",
       "2014     581\n",
       "2013     548\n",
       "2016     502\n",
       "2001     486\n",
       "1998     379\n",
       "2000     351\n",
       "1999     340\n",
       "1997     289\n",
       "1996     263\n",
       "1995     219\n",
       "1994     121\n",
       "1993      60\n",
       "1981      46\n",
       "1992      43\n",
       "1991      41\n",
       "1982      36\n",
       "1986      21\n",
       "1989      17\n",
       "1983      17\n",
       "1990      16\n",
       "1987      16\n",
       "1988      15\n",
       "1985      14\n",
       "1984      14\n",
       "1980       9\n",
       "Name: year_of_release, dtype: int64"
      ]
     },
     "execution_count": 32,
     "metadata": {},
     "output_type": "execute_result"
    }
   ],
   "source": [
    "data['year_of_release'].value_counts().sort_values(ascending=False)"
   ]
  },
  {
   "cell_type": "code",
   "execution_count": 33,
   "metadata": {},
   "outputs": [
    {
     "data": {
      "image/png": "[encoded data removed]",
      "text/plain": [
       "<Figure size 432x288 with 1 Axes>"
      ]
     },
     "metadata": {
      "needs_background": "light"
     },
     "output_type": "display_data"
    }
   ],
   "source": [
    "ax = data['year_of_release'].hist()\n",
    "ax.set_xlabel('Годы выхода игр')\n",
    "ax.set_ylabel('Количество игр')\n",
    "ax.set_title('Количество выхода игр по годам');"
   ]
  },
  {
   "cell_type": "markdown",
   "metadata": {},
   "source": [
    "До 2000 года игр продавалось значительно меньше, чем после 2000 года. Самый \"пик\" - с 2005 по 2011 года. Для прогноза продаж данные продаж игр ранее 2000 года точно будут неактуальны."
   ]
  },
  {
   "cell_type": "markdown",
   "metadata": {},
   "source": [
    "#### Продажи по платформам\n",
    "Теперь рассмотрим продажи игр на разных платформах. Для начала выведем название платформ, на которых больше всего создано игр. Лидеры: PS2, DS, PS3, Wii, X360, PSP, PS."
   ]
  },
  {
   "cell_type": "code",
   "execution_count": 34,
   "metadata": {},
   "outputs": [
    {
     "data": {
      "text/plain": [
       "ps2     2140\n",
       "ds      2129\n",
       "ps3     1320\n",
       "wii     1301\n",
       "x360    1250\n",
       "psp     1203\n",
       "ps      1190\n",
       "pc       970\n",
       "xb       817\n",
       "gba      813\n",
       "gc       552\n",
       "3ds      515\n",
       "psv      429\n",
       "ps4      392\n",
       "n64      318\n",
       "xone     247\n",
       "snes     239\n",
       "sat      173\n",
       "wiiu     147\n",
       "2600     117\n",
       "nes       98\n",
       "gb        97\n",
       "dc        52\n",
       "gen       27\n",
       "ng        12\n",
       "scd        6\n",
       "ws         6\n",
       "3do        3\n",
       "tg16       2\n",
       "gg         1\n",
       "pcfx       1\n",
       "Name: platform, dtype: int64"
      ]
     },
     "execution_count": 34,
     "metadata": {},
     "output_type": "execute_result"
    }
   ],
   "source": [
    "data['platform'].value_counts()"
   ]
  },
  {
   "cell_type": "markdown",
   "metadata": {},
   "source": [
    "Теперь посчитаем суммарные продажи по каждой платформе. Лидеры: PS2, X360, PS3, Wii, DS, PS. Логично, что лидерами остались те же платформы. Чем больше игр на платформе - тем больше продаж."
   ]
  },
  {
   "cell_type": "code",
   "execution_count": 35,
   "metadata": {},
   "outputs": [
    {
     "data": {
      "image/png": "[encoded data removed]",
      "text/plain": [
       "<Figure size 864x432 with 1 Axes>"
      ]
     },
     "metadata": {
      "needs_background": "light"
     },
     "output_type": "display_data"
    }
   ],
   "source": [
    "data.groupby(by='platform')['total_sales'].sum().sort_values(ascending=False)\\\n",
    "    .plot(x='platform', y='total_sales', kind='bar', figsize=(12,6));"
   ]
  },
  {
   "cell_type": "code",
   "execution_count": 36,
   "metadata": {},
   "outputs": [],
   "source": [
    "# сохраним лидеров продаж в отдельной переменной\n",
    "lider = ['ps2', 'x360', 'ps3', 'wii', 'ds', 'ps']\n",
    "data_lider = data.query('platform == @lider')\n",
    "#data_lider.info()"
   ]
  },
  {
   "cell_type": "code",
   "execution_count": 37,
   "metadata": {},
   "outputs": [],
   "source": [
    "# сгруппировали игры по типу платформы, года выпуска и посчитали суммарные продажи по каждому году,\n",
    "# вытащили столбцы из индекса\n",
    "top6 = data_lider.pivot_table(index=['platform', 'year_of_release'], \\\n",
    "                              values=['total_sales'], aggfunc='sum').reset_index()"
   ]
  },
  {
   "cell_type": "code",
   "execution_count": 38,
   "metadata": {},
   "outputs": [
    {
     "data": {
      "text/html": [
       "<div>\n",
       "<style scoped>\n",
       "    .dataframe tbody tr th:only-of-type {\n",
       "        vertical-align: middle;\n",
       "    }\n",
       "\n",
       "    .dataframe tbody tr th {\n",
       "        vertical-align: top;\n",
       "    }\n",
       "\n",
       "    .dataframe thead th {\n",
       "        text-align: right;\n",
       "    }\n",
       "</style>\n",
       "<table border=\"1\" class=\"dataframe\">\n",
       "  <thead>\n",
       "    <tr style=\"text-align: right;\">\n",
       "      <th></th>\n",
       "      <th>platform</th>\n",
       "      <th>year_of_release</th>\n",
       "      <th>total_sales</th>\n",
       "    </tr>\n",
       "  </thead>\n",
       "  <tbody>\n",
       "    <tr>\n",
       "      <th>0</th>\n",
       "      <td>ds</td>\n",
       "      <td>1985</td>\n",
       "      <td>0.02</td>\n",
       "    </tr>\n",
       "    <tr>\n",
       "      <th>1</th>\n",
       "      <td>ds</td>\n",
       "      <td>2004</td>\n",
       "      <td>17.27</td>\n",
       "    </tr>\n",
       "    <tr>\n",
       "      <th>2</th>\n",
       "      <td>ds</td>\n",
       "      <td>2005</td>\n",
       "      <td>130.14</td>\n",
       "    </tr>\n",
       "    <tr>\n",
       "      <th>3</th>\n",
       "      <td>ds</td>\n",
       "      <td>2006</td>\n",
       "      <td>119.81</td>\n",
       "    </tr>\n",
       "    <tr>\n",
       "      <th>4</th>\n",
       "      <td>ds</td>\n",
       "      <td>2007</td>\n",
       "      <td>147.23</td>\n",
       "    </tr>\n",
       "    <tr>\n",
       "      <th>5</th>\n",
       "      <td>ds</td>\n",
       "      <td>2008</td>\n",
       "      <td>145.36</td>\n",
       "    </tr>\n",
       "    <tr>\n",
       "      <th>6</th>\n",
       "      <td>ds</td>\n",
       "      <td>2009</td>\n",
       "      <td>119.56</td>\n",
       "    </tr>\n",
       "    <tr>\n",
       "      <th>7</th>\n",
       "      <td>ds</td>\n",
       "      <td>2010</td>\n",
       "      <td>85.35</td>\n",
       "    </tr>\n",
       "    <tr>\n",
       "      <th>8</th>\n",
       "      <td>ds</td>\n",
       "      <td>2011</td>\n",
       "      <td>26.33</td>\n",
       "    </tr>\n",
       "    <tr>\n",
       "      <th>9</th>\n",
       "      <td>ds</td>\n",
       "      <td>2012</td>\n",
       "      <td>11.67</td>\n",
       "    </tr>\n",
       "  </tbody>\n",
       "</table>\n",
       "</div>"
      ],
      "text/plain": [
       "  platform  year_of_release  total_sales\n",
       "0       ds             1985         0.02\n",
       "1       ds             2004        17.27\n",
       "2       ds             2005       130.14\n",
       "3       ds             2006       119.81\n",
       "4       ds             2007       147.23\n",
       "5       ds             2008       145.36\n",
       "6       ds             2009       119.56\n",
       "7       ds             2010        85.35\n",
       "8       ds             2011        26.33\n",
       "9       ds             2012        11.67"
      ]
     },
     "execution_count": 38,
     "metadata": {},
     "output_type": "execute_result"
    }
   ],
   "source": [
    "top6.head(10)"
   ]
  },
  {
   "cell_type": "markdown",
   "metadata": {},
   "source": [
    "Странное значение у платформы DS - продажи в 1985 году, платформа выпущена в 2004. Удалим эти данные из таблицы."
   ]
  },
  {
   "cell_type": "code",
   "execution_count": 39,
   "metadata": {},
   "outputs": [
    {
     "data": {
      "text/html": [
       "<div>\n",
       "<style scoped>\n",
       "    .dataframe tbody tr th:only-of-type {\n",
       "        vertical-align: middle;\n",
       "    }\n",
       "\n",
       "    .dataframe tbody tr th {\n",
       "        vertical-align: top;\n",
       "    }\n",
       "\n",
       "    .dataframe thead th {\n",
       "        text-align: right;\n",
       "    }\n",
       "</style>\n",
       "<table border=\"1\" class=\"dataframe\">\n",
       "  <thead>\n",
       "    <tr style=\"text-align: right;\">\n",
       "      <th></th>\n",
       "      <th>platform</th>\n",
       "      <th>year_of_release</th>\n",
       "      <th>total_sales</th>\n",
       "    </tr>\n",
       "  </thead>\n",
       "  <tbody>\n",
       "    <tr>\n",
       "      <th>1</th>\n",
       "      <td>ds</td>\n",
       "      <td>2004</td>\n",
       "      <td>17.27</td>\n",
       "    </tr>\n",
       "    <tr>\n",
       "      <th>2</th>\n",
       "      <td>ds</td>\n",
       "      <td>2005</td>\n",
       "      <td>130.14</td>\n",
       "    </tr>\n",
       "    <tr>\n",
       "      <th>3</th>\n",
       "      <td>ds</td>\n",
       "      <td>2006</td>\n",
       "      <td>119.81</td>\n",
       "    </tr>\n",
       "    <tr>\n",
       "      <th>4</th>\n",
       "      <td>ds</td>\n",
       "      <td>2007</td>\n",
       "      <td>147.23</td>\n",
       "    </tr>\n",
       "    <tr>\n",
       "      <th>5</th>\n",
       "      <td>ds</td>\n",
       "      <td>2008</td>\n",
       "      <td>145.36</td>\n",
       "    </tr>\n",
       "  </tbody>\n",
       "</table>\n",
       "</div>"
      ],
      "text/plain": [
       "  platform  year_of_release  total_sales\n",
       "1       ds             2004        17.27\n",
       "2       ds             2005       130.14\n",
       "3       ds             2006       119.81\n",
       "4       ds             2007       147.23\n",
       "5       ds             2008       145.36"
      ]
     },
     "execution_count": 39,
     "metadata": {},
     "output_type": "execute_result"
    }
   ],
   "source": [
    "top6 = top6.drop(0)\n",
    "top6.head()"
   ]
  },
  {
   "cell_type": "markdown",
   "metadata": {},
   "source": [
    "Присвоим переменным датасеты с конкретной платформой, чтобы вывести данные на графике."
   ]
  },
  {
   "cell_type": "code",
   "execution_count": 40,
   "metadata": {},
   "outputs": [
    {
     "data": {
      "image/png": "[encoded data removed]",
      "text/plain": [
       "<Figure size 720x360 with 1 Axes>"
      ]
     },
     "metadata": {
      "needs_background": "light"
     },
     "output_type": "display_data"
    }
   ],
   "source": [
    "values1 = top6.query('platform == \"ds\"')\n",
    "values2 = top6.query('platform == \"ps\"')\n",
    "values3 = top6.query('platform == \"ps2\"')\n",
    "values4 = top6.query('platform == \"ps3\"')\n",
    "values5 = top6.query('platform == \"wii\"')\n",
    "values6 = top6.query('platform == \"x360\"')\n",
    "bw = 0.3\n",
    "plt.figure(figsize=(10,5))\n",
    "plt.bar(values1['year_of_release'], values1['total_sales'], bw, color='b')\n",
    "plt.bar(values2['year_of_release']+bw, values2['total_sales'], bw, color='g')\n",
    "plt.bar(values3['year_of_release']+2*bw, values3['total_sales'], bw, color='r')\n",
    "plt.bar(values4['year_of_release']+3*bw, values4['total_sales'], bw, color='k')\n",
    "plt.bar(values5['year_of_release']+4*bw, values5['total_sales'], bw, color='m')\n",
    "plt.bar(values6['year_of_release']+5*bw, values6['total_sales'], bw, color='y')\n",
    "plt.legend(['DS', 'PS', 'PS2', 'PS3', 'Wii', 'X360'])\n",
    "plt.xlabel('Годы выхода игр')\n",
    "plt.ylabel('Количество игр')\n",
    "plt.title('Выход игр по платформам в разные годы')\n",
    "plt.show()"
   ]
  },
  {
   "cell_type": "markdown",
   "metadata": {},
   "source": [
    "По графикам видно, что как только появляется новая платформа, начинается активный рост продаж, несколько лет продажи растут, потом постепенно падают - нормальное распределение продаж. Игры для каждой платформы популярны около 10 лет. Примерно с 2007 появляются сразу несколько конкурирующих платформ: PS3, Wii, X360. Сначала лидирует Wii, затем ее вытесняют X360 и PS3. \n",
    "\n",
    "#### Платформы-лидеры\n",
    "Для дальнейшего исследования возьмем данные с 2014 года (для прогнозирования обычно берут 2-3 года, в нашем датасете данные по 2016 год, но 2016 год - неполный). Предыдущие годы учитывать не будем, так как нужно основываться на актуальных тенденциях."
   ]
  },
  {
   "cell_type": "code",
   "execution_count": 41,
   "metadata": {},
   "outputs": [],
   "source": [
    "act_data = data.query('year_of_release >= 2014')"
   ]
  },
  {
   "cell_type": "code",
   "execution_count": 42,
   "metadata": {},
   "outputs": [
    {
     "name": "stdout",
     "output_type": "stream",
     "text": [
      "<class 'pandas.core.frame.DataFrame'>\n",
      "Int64Index: 1689 entries, 31 to 16714\n",
      "Data columns (total 12 columns):\n",
      " #   Column           Non-Null Count  Dtype  \n",
      "---  ------           --------------  -----  \n",
      " 0   name             1689 non-null   object \n",
      " 1   platform         1689 non-null   object \n",
      " 2   year_of_release  1689 non-null   int64  \n",
      " 3   genre            1689 non-null   object \n",
      " 4   na_sales         1689 non-null   float64\n",
      " 5   eu_sales         1689 non-null   float64\n",
      " 6   jp_sales         1689 non-null   float64\n",
      " 7   other_sales      1689 non-null   float64\n",
      " 8   critic_score     718 non-null    float64\n",
      " 9   user_score       888 non-null    float64\n",
      " 10  rating           1689 non-null   object \n",
      " 11  total_sales      1689 non-null   float64\n",
      "dtypes: float64(7), int64(1), object(4)\n",
      "memory usage: 171.5+ KB\n"
     ]
    }
   ],
   "source": [
    "# Осталось 1689 строк с играми для дальнейшего анализа\n",
    "act_data.info()"
   ]
  },
  {
   "cell_type": "code",
   "execution_count": 43,
   "metadata": {},
   "outputs": [
    {
     "data": {
      "text/plain": [
       "array(['ps4', '3ds', 'xone', 'wiiu', 'ps3', 'x360', 'pc', 'wii', 'psv',\n",
       "       'psp'], dtype=object)"
      ]
     },
     "execution_count": 43,
     "metadata": {},
     "output_type": "execute_result"
    }
   ],
   "source": [
    "# Будем анализировать эти платформы, остальные устарели\n",
    "act_data['platform'].unique()"
   ]
  },
  {
   "cell_type": "code",
   "execution_count": 44,
   "metadata": {},
   "outputs": [
    {
     "data": {
      "text/plain": [
       "platform\n",
       "ps4    288.15\n",
       "xone   140.36\n",
       "3ds     86.68\n",
       "ps3     68.18\n",
       "x360    48.22\n",
       "wiiu    42.98\n",
       "pc      27.05\n",
       "psv     22.40\n",
       "wii      5.07\n",
       "psp      0.36\n",
       "Name: total_sales, dtype: float64"
      ]
     },
     "execution_count": 44,
     "metadata": {},
     "output_type": "execute_result"
    }
   ],
   "source": [
    "# сгруппируем по названию платформы и посчитаем суммарные продажи за исследуемые годы, отсортируем по убыванию\n",
    "act_data.groupby('platform')['total_sales'].sum().sort_values(ascending=False)"
   ]
  },
  {
   "cell_type": "code",
   "execution_count": 45,
   "metadata": {},
   "outputs": [
    {
     "data": {
      "image/png": "[encoded data removed]",
      "text/plain": [
       "<Figure size 432x288 with 1 Axes>"
      ]
     },
     "metadata": {
      "needs_background": "light"
     },
     "output_type": "display_data"
    }
   ],
   "source": [
    "# и выведем на графике для наглядности\n",
    "act_data.groupby('platform')['total_sales'].sum().sort_values(ascending=False)\\\n",
    "    .plot(kind='bar');"
   ]
  },
  {
   "cell_type": "markdown",
   "metadata": {},
   "source": [
    "Лидируют по продажам платформы PS4, XOne, 3DS, PS3, X360. Платформы PSP, Wii занимают последние места, продажи их игр совсем малы."
   ]
  },
  {
   "cell_type": "code",
   "execution_count": 46,
   "metadata": {},
   "outputs": [
    {
     "data": {
      "image/png": "[encoded data removed]",
      "text/plain": [
       "<Figure size 936x576 with 1 Axes>"
      ]
     },
     "metadata": {
      "needs_background": "light"
     },
     "output_type": "display_data"
    }
   ],
   "source": [
    "# построим ящики с усами с разбивкой по платформам\n",
    "plt.figure(figsize=(13, 8))\n",
    "(sns.boxplot(data = act_data, y = 'total_sales', x='platform')\n",
    "    .set(title = 'Продажи по перспективным платформам за 2014-2016 гг', xlabel = 'Платформы', \\\n",
    "         ylabel = 'Общие продажи'))\n",
    "\n",
    "plt.show()"
   ]
  },
  {
   "cell_type": "markdown",
   "metadata": {},
   "source": [
    "По \"ящикам с усами\" видим:\n",
    "- больше всего выбросов и 2 самые большие точечные продажи (более 12 млн) у платформы PS4 \n",
    "- выбросы до 12 млн есть у платформы 3DS, хотя по общей сумме продаж она уступает XOne\n",
    "- платформа XOne вторая платформа по сумме продаж, но все ее выбросы до 8 млн. \n",
    "- платформа X360 занимает пятое место по общим продажам, но крупных продаж у нее нет (максимум 4 млн) \n",
    "\n",
    "А теперь увеличим масштаб, чтобы был виден сам \"ящик\" и квартили с усами."
   ]
  },
  {
   "cell_type": "code",
   "execution_count": 47,
   "metadata": {},
   "outputs": [
    {
     "data": {
      "image/png": "[encoded data removed]",
      "text/plain": [
       "<Figure size 936x576 with 1 Axes>"
      ]
     },
     "metadata": {
      "needs_background": "light"
     },
     "output_type": "display_data"
    }
   ],
   "source": [
    "# платформы отсортированы по максимальному значению общих продаж\n",
    "plat_act_data = act_data[act_data['total_sales'] <= 1]\n",
    "plt.figure(figsize=(13, 8))\n",
    "(sns.boxplot(data = plat_act_data, y = 'total_sales', x='platform')\n",
    "    .set(title = 'Продажи по перспективным платформам за 2014-2016 гг', xlabel = 'Платформы', \\\n",
    "         ylabel = 'Общие продажи'))\n",
    "\n",
    "plt.show()"
   ]
  },
  {
   "cell_type": "code",
   "execution_count": 48,
   "metadata": {},
   "outputs": [
    {
     "data": {
      "image/png": "[encoded data removed]",
      "text/plain": [
       "<Figure size 936x576 with 1 Axes>"
      ]
     },
     "metadata": {
      "needs_background": "light"
     },
     "output_type": "display_data"
    }
   ],
   "source": [
    "# плафтормы отсортированы по значению медианы по убыванию\n",
    "grouped = plat_act_data.groupby('platform')\n",
    "sort_median = grouped['total_sales'].median().sort_values(ascending=False)\n",
    "plat_act_data = act_data[act_data['total_sales'] <= 1]\n",
    "plt.figure(figsize=(13, 8))\n",
    "(sns.boxplot(data = plat_act_data, y = 'total_sales', x='platform', order=sort_median.index)\n",
    "    .set(title = 'Продажи по перспективным платформам за 2014-2016 гг', xlabel = 'Платформы', \\\n",
    "         ylabel = 'Общие продажи'))\n",
    "\n",
    "plt.show()"
   ]
  },
  {
   "cell_type": "code",
   "execution_count": 49,
   "metadata": {},
   "outputs": [
    {
     "data": {
      "text/html": [
       "<div>\n",
       "<style scoped>\n",
       "    .dataframe tbody tr th:only-of-type {\n",
       "        vertical-align: middle;\n",
       "    }\n",
       "\n",
       "    .dataframe tbody tr th {\n",
       "        vertical-align: top;\n",
       "    }\n",
       "\n",
       "    .dataframe thead tr th {\n",
       "        text-align: left;\n",
       "    }\n",
       "\n",
       "    .dataframe thead tr:last-of-type th {\n",
       "        text-align: right;\n",
       "    }\n",
       "</style>\n",
       "<table border=\"1\" class=\"dataframe\">\n",
       "  <thead>\n",
       "    <tr>\n",
       "      <th></th>\n",
       "      <th colspan=\"8\" halign=\"left\">year_of_release</th>\n",
       "      <th colspan=\"2\" halign=\"left\">na_sales</th>\n",
       "      <th>...</th>\n",
       "      <th colspan=\"2\" halign=\"left\">user_score</th>\n",
       "      <th colspan=\"8\" halign=\"left\">total_sales</th>\n",
       "    </tr>\n",
       "    <tr>\n",
       "      <th></th>\n",
       "      <th>count</th>\n",
       "      <th>mean</th>\n",
       "      <th>std</th>\n",
       "      <th>min</th>\n",
       "      <th>25%</th>\n",
       "      <th>50%</th>\n",
       "      <th>75%</th>\n",
       "      <th>max</th>\n",
       "      <th>count</th>\n",
       "      <th>mean</th>\n",
       "      <th>...</th>\n",
       "      <th>75%</th>\n",
       "      <th>max</th>\n",
       "      <th>count</th>\n",
       "      <th>mean</th>\n",
       "      <th>std</th>\n",
       "      <th>min</th>\n",
       "      <th>25%</th>\n",
       "      <th>50%</th>\n",
       "      <th>75%</th>\n",
       "      <th>max</th>\n",
       "    </tr>\n",
       "    <tr>\n",
       "      <th>platform</th>\n",
       "      <th></th>\n",
       "      <th></th>\n",
       "      <th></th>\n",
       "      <th></th>\n",
       "      <th></th>\n",
       "      <th></th>\n",
       "      <th></th>\n",
       "      <th></th>\n",
       "      <th></th>\n",
       "      <th></th>\n",
       "      <th></th>\n",
       "      <th></th>\n",
       "      <th></th>\n",
       "      <th></th>\n",
       "      <th></th>\n",
       "      <th></th>\n",
       "      <th></th>\n",
       "      <th></th>\n",
       "      <th></th>\n",
       "      <th></th>\n",
       "      <th></th>\n",
       "    </tr>\n",
       "  </thead>\n",
       "  <tbody>\n",
       "    <tr>\n",
       "      <th>3ds</th>\n",
       "      <td>196.00</td>\n",
       "      <td>2,014.85</td>\n",
       "      <td>0.76</td>\n",
       "      <td>2,014.00</td>\n",
       "      <td>2,014.00</td>\n",
       "      <td>2,015.00</td>\n",
       "      <td>2,015.00</td>\n",
       "      <td>2,016.00</td>\n",
       "      <td>196.00</td>\n",
       "      <td>0.03</td>\n",
       "      <td>...</td>\n",
       "      <td>8.20</td>\n",
       "      <td>9.00</td>\n",
       "      <td>196.00</td>\n",
       "      <td>0.16</td>\n",
       "      <td>0.20</td>\n",
       "      <td>0.01</td>\n",
       "      <td>0.03</td>\n",
       "      <td>0.07</td>\n",
       "      <td>0.20</td>\n",
       "      <td>0.93</td>\n",
       "    </tr>\n",
       "    <tr>\n",
       "      <th>pc</th>\n",
       "      <td>147.00</td>\n",
       "      <td>2,015.06</td>\n",
       "      <td>0.82</td>\n",
       "      <td>2,014.00</td>\n",
       "      <td>2,014.00</td>\n",
       "      <td>2,015.00</td>\n",
       "      <td>2,016.00</td>\n",
       "      <td>2,016.00</td>\n",
       "      <td>147.00</td>\n",
       "      <td>0.04</td>\n",
       "      <td>...</td>\n",
       "      <td>7.60</td>\n",
       "      <td>9.30</td>\n",
       "      <td>147.00</td>\n",
       "      <td>0.14</td>\n",
       "      <td>0.18</td>\n",
       "      <td>0.01</td>\n",
       "      <td>0.02</td>\n",
       "      <td>0.05</td>\n",
       "      <td>0.19</td>\n",
       "      <td>0.90</td>\n",
       "    </tr>\n",
       "    <tr>\n",
       "      <th>ps3</th>\n",
       "      <td>206.00</td>\n",
       "      <td>2,014.71</td>\n",
       "      <td>0.76</td>\n",
       "      <td>2,014.00</td>\n",
       "      <td>2,014.00</td>\n",
       "      <td>2,015.00</td>\n",
       "      <td>2,015.00</td>\n",
       "      <td>2,016.00</td>\n",
       "      <td>206.00</td>\n",
       "      <td>0.06</td>\n",
       "      <td>...</td>\n",
       "      <td>7.43</td>\n",
       "      <td>8.60</td>\n",
       "      <td>206.00</td>\n",
       "      <td>0.19</td>\n",
       "      <td>0.22</td>\n",
       "      <td>0.01</td>\n",
       "      <td>0.03</td>\n",
       "      <td>0.10</td>\n",
       "      <td>0.26</td>\n",
       "      <td>0.95</td>\n",
       "    </tr>\n",
       "    <tr>\n",
       "      <th>ps4</th>\n",
       "      <td>307.00</td>\n",
       "      <td>2,015.32</td>\n",
       "      <td>0.73</td>\n",
       "      <td>2,014.00</td>\n",
       "      <td>2,015.00</td>\n",
       "      <td>2,015.00</td>\n",
       "      <td>2,016.00</td>\n",
       "      <td>2,016.00</td>\n",
       "      <td>307.00</td>\n",
       "      <td>0.07</td>\n",
       "      <td>...</td>\n",
       "      <td>7.80</td>\n",
       "      <td>8.70</td>\n",
       "      <td>307.00</td>\n",
       "      <td>0.22</td>\n",
       "      <td>0.24</td>\n",
       "      <td>0.01</td>\n",
       "      <td>0.05</td>\n",
       "      <td>0.11</td>\n",
       "      <td>0.33</td>\n",
       "      <td>0.98</td>\n",
       "    </tr>\n",
       "    <tr>\n",
       "      <th>psp</th>\n",
       "      <td>13.00</td>\n",
       "      <td>2,014.23</td>\n",
       "      <td>0.44</td>\n",
       "      <td>2,014.00</td>\n",
       "      <td>2,014.00</td>\n",
       "      <td>2,014.00</td>\n",
       "      <td>2,014.00</td>\n",
       "      <td>2,015.00</td>\n",
       "      <td>13.00</td>\n",
       "      <td>0.00</td>\n",
       "      <td>...</td>\n",
       "      <td>NaN</td>\n",
       "      <td>NaN</td>\n",
       "      <td>13.00</td>\n",
       "      <td>0.03</td>\n",
       "      <td>0.03</td>\n",
       "      <td>0.01</td>\n",
       "      <td>0.01</td>\n",
       "      <td>0.02</td>\n",
       "      <td>0.02</td>\n",
       "      <td>0.09</td>\n",
       "    </tr>\n",
       "    <tr>\n",
       "      <th>psv</th>\n",
       "      <td>294.00</td>\n",
       "      <td>2,014.95</td>\n",
       "      <td>0.79</td>\n",
       "      <td>2,014.00</td>\n",
       "      <td>2,014.00</td>\n",
       "      <td>2,015.00</td>\n",
       "      <td>2,016.00</td>\n",
       "      <td>2,016.00</td>\n",
       "      <td>294.00</td>\n",
       "      <td>0.01</td>\n",
       "      <td>...</td>\n",
       "      <td>8.40</td>\n",
       "      <td>9.30</td>\n",
       "      <td>294.00</td>\n",
       "      <td>0.07</td>\n",
       "      <td>0.09</td>\n",
       "      <td>0.01</td>\n",
       "      <td>0.02</td>\n",
       "      <td>0.04</td>\n",
       "      <td>0.09</td>\n",
       "      <td>0.65</td>\n",
       "    </tr>\n",
       "    <tr>\n",
       "      <th>wii</th>\n",
       "      <td>10.00</td>\n",
       "      <td>2,014.60</td>\n",
       "      <td>0.70</td>\n",
       "      <td>2,014.00</td>\n",
       "      <td>2,014.00</td>\n",
       "      <td>2,014.50</td>\n",
       "      <td>2,015.00</td>\n",
       "      <td>2,016.00</td>\n",
       "      <td>10.00</td>\n",
       "      <td>0.11</td>\n",
       "      <td>...</td>\n",
       "      <td>4.30</td>\n",
       "      <td>4.30</td>\n",
       "      <td>10.00</td>\n",
       "      <td>0.31</td>\n",
       "      <td>0.38</td>\n",
       "      <td>0.01</td>\n",
       "      <td>0.03</td>\n",
       "      <td>0.16</td>\n",
       "      <td>0.47</td>\n",
       "      <td>0.95</td>\n",
       "    </tr>\n",
       "    <tr>\n",
       "      <th>wiiu</th>\n",
       "      <td>62.00</td>\n",
       "      <td>2,014.77</td>\n",
       "      <td>0.76</td>\n",
       "      <td>2,014.00</td>\n",
       "      <td>2,014.00</td>\n",
       "      <td>2,015.00</td>\n",
       "      <td>2,015.00</td>\n",
       "      <td>2,016.00</td>\n",
       "      <td>62.00</td>\n",
       "      <td>0.11</td>\n",
       "      <td>...</td>\n",
       "      <td>7.78</td>\n",
       "      <td>8.90</td>\n",
       "      <td>62.00</td>\n",
       "      <td>0.23</td>\n",
       "      <td>0.24</td>\n",
       "      <td>0.01</td>\n",
       "      <td>0.04</td>\n",
       "      <td>0.11</td>\n",
       "      <td>0.42</td>\n",
       "      <td>0.84</td>\n",
       "    </tr>\n",
       "    <tr>\n",
       "      <th>x360</th>\n",
       "      <td>98.00</td>\n",
       "      <td>2,014.60</td>\n",
       "      <td>0.71</td>\n",
       "      <td>2,014.00</td>\n",
       "      <td>2,014.00</td>\n",
       "      <td>2,014.00</td>\n",
       "      <td>2,015.00</td>\n",
       "      <td>2,016.00</td>\n",
       "      <td>98.00</td>\n",
       "      <td>0.15</td>\n",
       "      <td>...</td>\n",
       "      <td>7.20</td>\n",
       "      <td>8.70</td>\n",
       "      <td>98.00</td>\n",
       "      <td>0.26</td>\n",
       "      <td>0.27</td>\n",
       "      <td>0.01</td>\n",
       "      <td>0.06</td>\n",
       "      <td>0.14</td>\n",
       "      <td>0.38</td>\n",
       "      <td>0.97</td>\n",
       "    </tr>\n",
       "    <tr>\n",
       "      <th>xone</th>\n",
       "      <td>185.00</td>\n",
       "      <td>2,015.17</td>\n",
       "      <td>0.80</td>\n",
       "      <td>2,014.00</td>\n",
       "      <td>2,015.00</td>\n",
       "      <td>2,015.00</td>\n",
       "      <td>2,016.00</td>\n",
       "      <td>2,016.00</td>\n",
       "      <td>185.00</td>\n",
       "      <td>0.12</td>\n",
       "      <td>...</td>\n",
       "      <td>7.60</td>\n",
       "      <td>8.90</td>\n",
       "      <td>185.00</td>\n",
       "      <td>0.22</td>\n",
       "      <td>0.23</td>\n",
       "      <td>0.01</td>\n",
       "      <td>0.04</td>\n",
       "      <td>0.13</td>\n",
       "      <td>0.34</td>\n",
       "      <td>0.93</td>\n",
       "    </tr>\n",
       "  </tbody>\n",
       "</table>\n",
       "<p>10 rows × 64 columns</p>\n",
       "</div>"
      ],
      "text/plain": [
       "         year_of_release                                                    \\\n",
       "                   count     mean  std      min      25%      50%      75%   \n",
       "platform                                                                     \n",
       "3ds               196.00 2,014.85 0.76 2,014.00 2,014.00 2,015.00 2,015.00   \n",
       "pc                147.00 2,015.06 0.82 2,014.00 2,014.00 2,015.00 2,016.00   \n",
       "ps3               206.00 2,014.71 0.76 2,014.00 2,014.00 2,015.00 2,015.00   \n",
       "ps4               307.00 2,015.32 0.73 2,014.00 2,015.00 2,015.00 2,016.00   \n",
       "psp                13.00 2,014.23 0.44 2,014.00 2,014.00 2,014.00 2,014.00   \n",
       "psv               294.00 2,014.95 0.79 2,014.00 2,014.00 2,015.00 2,016.00   \n",
       "wii                10.00 2,014.60 0.70 2,014.00 2,014.00 2,014.50 2,015.00   \n",
       "wiiu               62.00 2,014.77 0.76 2,014.00 2,014.00 2,015.00 2,015.00   \n",
       "x360               98.00 2,014.60 0.71 2,014.00 2,014.00 2,014.00 2,015.00   \n",
       "xone              185.00 2,015.17 0.80 2,014.00 2,015.00 2,015.00 2,016.00   \n",
       "\n",
       "                  na_sales       ... user_score      total_sales            \\\n",
       "              max    count mean  ...        75%  max       count mean  std   \n",
       "platform                         ...                                         \n",
       "3ds      2,016.00   196.00 0.03  ...       8.20 9.00      196.00 0.16 0.20   \n",
       "pc       2,016.00   147.00 0.04  ...       7.60 9.30      147.00 0.14 0.18   \n",
       "ps3      2,016.00   206.00 0.06  ...       7.43 8.60      206.00 0.19 0.22   \n",
       "ps4      2,016.00   307.00 0.07  ...       7.80 8.70      307.00 0.22 0.24   \n",
       "psp      2,015.00    13.00 0.00  ...        NaN  NaN       13.00 0.03 0.03   \n",
       "psv      2,016.00   294.00 0.01  ...       8.40 9.30      294.00 0.07 0.09   \n",
       "wii      2,016.00    10.00 0.11  ...       4.30 4.30       10.00 0.31 0.38   \n",
       "wiiu     2,016.00    62.00 0.11  ...       7.78 8.90       62.00 0.23 0.24   \n",
       "x360     2,016.00    98.00 0.15  ...       7.20 8.70       98.00 0.26 0.27   \n",
       "xone     2,016.00   185.00 0.12  ...       7.60 8.90      185.00 0.22 0.23   \n",
       "\n",
       "                                   \n",
       "          min  25%  50%  75%  max  \n",
       "platform                           \n",
       "3ds      0.01 0.03 0.07 0.20 0.93  \n",
       "pc       0.01 0.02 0.05 0.19 0.90  \n",
       "ps3      0.01 0.03 0.10 0.26 0.95  \n",
       "ps4      0.01 0.05 0.11 0.33 0.98  \n",
       "psp      0.01 0.01 0.02 0.02 0.09  \n",
       "psv      0.01 0.02 0.04 0.09 0.65  \n",
       "wii      0.01 0.03 0.16 0.47 0.95  \n",
       "wiiu     0.01 0.04 0.11 0.42 0.84  \n",
       "x360     0.01 0.06 0.14 0.38 0.97  \n",
       "xone     0.01 0.04 0.13 0.34 0.93  \n",
       "\n",
       "[10 rows x 64 columns]"
      ]
     },
     "execution_count": 49,
     "metadata": {},
     "output_type": "execute_result"
    }
   ],
   "source": [
    "act_data[act_data['total_sales'] <= 1].groupby('platform').describe()"
   ]
  },
  {
   "cell_type": "markdown",
   "metadata": {},
   "source": [
    "Самая высокая медиана у платформы Wii: 0,16, близки  Wiiu, XOne, X360 и PS4. И 75-й квартиль самый высокий у Wii. Эта была платформа с самыми долгими стабильными продажами, но потом ее сменила более новая Wiiu. У Wiiu были тоже долгие стабильные продажи, но уровень средних продаж намного ниже ее предшественницы.\n",
    "\n",
    "Следующие по высоте \"ящики\" - это платформы XOne и X360. Их \"усы\" достигают почти 0.8, 75-й квартиль у X360 почти 0.4, за усами значительное кол-во выбросов. Платформу X360 успешно заменила XOne и вышла на второе место по сумме продаж.\n",
    "\n",
    "\"Ящик\" платформы PS4 короче описанных выше конкурентов, но \"ус\" достаточно длинный, а за усом больше всего \"бестселлеров\" (например Call of duty: black ops 3 или Grand Theft Auto V). Эта платформа вышла на первое место по общим продажам."
   ]
  },
  {
   "cell_type": "markdown",
   "metadata": {},
   "source": [
    "#### Влияние отзывов на продажи\n",
    "Возьмем самую популярную платформу по продажам - PS4 и проанализируем связь между отзывами пользователей и критиков на продажи игр."
   ]
  },
  {
   "cell_type": "code",
   "execution_count": 50,
   "metadata": {},
   "outputs": [
    {
     "data": {
      "text/html": [
       "<div>\n",
       "<style scoped>\n",
       "    .dataframe tbody tr th:only-of-type {\n",
       "        vertical-align: middle;\n",
       "    }\n",
       "\n",
       "    .dataframe tbody tr th {\n",
       "        vertical-align: top;\n",
       "    }\n",
       "\n",
       "    .dataframe thead th {\n",
       "        text-align: right;\n",
       "    }\n",
       "</style>\n",
       "<table border=\"1\" class=\"dataframe\">\n",
       "  <thead>\n",
       "    <tr style=\"text-align: right;\">\n",
       "      <th></th>\n",
       "      <th>name</th>\n",
       "      <th>platform</th>\n",
       "      <th>year_of_release</th>\n",
       "      <th>genre</th>\n",
       "      <th>na_sales</th>\n",
       "      <th>eu_sales</th>\n",
       "      <th>jp_sales</th>\n",
       "      <th>other_sales</th>\n",
       "      <th>critic_score</th>\n",
       "      <th>user_score</th>\n",
       "      <th>rating</th>\n",
       "      <th>total_sales</th>\n",
       "    </tr>\n",
       "  </thead>\n",
       "  <tbody>\n",
       "    <tr>\n",
       "      <th>31</th>\n",
       "      <td>call of duty: black ops 3</td>\n",
       "      <td>ps4</td>\n",
       "      <td>2015</td>\n",
       "      <td>shooter</td>\n",
       "      <td>6.03</td>\n",
       "      <td>5.86</td>\n",
       "      <td>0.36</td>\n",
       "      <td>2.38</td>\n",
       "      <td>NaN</td>\n",
       "      <td>NaN</td>\n",
       "      <td>no rating</td>\n",
       "      <td>14.63</td>\n",
       "    </tr>\n",
       "    <tr>\n",
       "      <th>42</th>\n",
       "      <td>grand theft auto v</td>\n",
       "      <td>ps4</td>\n",
       "      <td>2014</td>\n",
       "      <td>action</td>\n",
       "      <td>3.96</td>\n",
       "      <td>6.31</td>\n",
       "      <td>0.38</td>\n",
       "      <td>1.97</td>\n",
       "      <td>97.00</td>\n",
       "      <td>8.30</td>\n",
       "      <td>m</td>\n",
       "      <td>12.62</td>\n",
       "    </tr>\n",
       "    <tr>\n",
       "      <th>77</th>\n",
       "      <td>fifa 16</td>\n",
       "      <td>ps4</td>\n",
       "      <td>2015</td>\n",
       "      <td>sports</td>\n",
       "      <td>1.12</td>\n",
       "      <td>6.12</td>\n",
       "      <td>0.06</td>\n",
       "      <td>1.28</td>\n",
       "      <td>82.00</td>\n",
       "      <td>4.30</td>\n",
       "      <td>e</td>\n",
       "      <td>8.58</td>\n",
       "    </tr>\n",
       "    <tr>\n",
       "      <th>87</th>\n",
       "      <td>star wars battlefront (2015)</td>\n",
       "      <td>ps4</td>\n",
       "      <td>2015</td>\n",
       "      <td>shooter</td>\n",
       "      <td>2.99</td>\n",
       "      <td>3.49</td>\n",
       "      <td>0.22</td>\n",
       "      <td>1.28</td>\n",
       "      <td>NaN</td>\n",
       "      <td>NaN</td>\n",
       "      <td>no rating</td>\n",
       "      <td>7.98</td>\n",
       "    </tr>\n",
       "    <tr>\n",
       "      <th>92</th>\n",
       "      <td>call of duty: advanced warfare</td>\n",
       "      <td>ps4</td>\n",
       "      <td>2014</td>\n",
       "      <td>shooter</td>\n",
       "      <td>2.81</td>\n",
       "      <td>3.48</td>\n",
       "      <td>0.14</td>\n",
       "      <td>1.23</td>\n",
       "      <td>83.00</td>\n",
       "      <td>5.70</td>\n",
       "      <td>m</td>\n",
       "      <td>7.66</td>\n",
       "    </tr>\n",
       "    <tr>\n",
       "      <th>...</th>\n",
       "      <td>...</td>\n",
       "      <td>...</td>\n",
       "      <td>...</td>\n",
       "      <td>...</td>\n",
       "      <td>...</td>\n",
       "      <td>...</td>\n",
       "      <td>...</td>\n",
       "      <td>...</td>\n",
       "      <td>...</td>\n",
       "      <td>...</td>\n",
       "      <td>...</td>\n",
       "      <td>...</td>\n",
       "    </tr>\n",
       "    <tr>\n",
       "      <th>16500</th>\n",
       "      <td>root letter</td>\n",
       "      <td>ps4</td>\n",
       "      <td>2016</td>\n",
       "      <td>adventure</td>\n",
       "      <td>0.00</td>\n",
       "      <td>0.00</td>\n",
       "      <td>0.01</td>\n",
       "      <td>0.00</td>\n",
       "      <td>69.00</td>\n",
       "      <td>7.50</td>\n",
       "      <td>no rating</td>\n",
       "      <td>0.01</td>\n",
       "    </tr>\n",
       "    <tr>\n",
       "      <th>16503</th>\n",
       "      <td>shin hayarigami 2</td>\n",
       "      <td>ps4</td>\n",
       "      <td>2016</td>\n",
       "      <td>adventure</td>\n",
       "      <td>0.00</td>\n",
       "      <td>0.00</td>\n",
       "      <td>0.01</td>\n",
       "      <td>0.00</td>\n",
       "      <td>NaN</td>\n",
       "      <td>NaN</td>\n",
       "      <td>no rating</td>\n",
       "      <td>0.01</td>\n",
       "    </tr>\n",
       "    <tr>\n",
       "      <th>16526</th>\n",
       "      <td>dungeons 2</td>\n",
       "      <td>ps4</td>\n",
       "      <td>2016</td>\n",
       "      <td>role-playing</td>\n",
       "      <td>0.01</td>\n",
       "      <td>0.00</td>\n",
       "      <td>0.00</td>\n",
       "      <td>0.00</td>\n",
       "      <td>61.00</td>\n",
       "      <td>7.90</td>\n",
       "      <td>t</td>\n",
       "      <td>0.01</td>\n",
       "    </tr>\n",
       "    <tr>\n",
       "      <th>16530</th>\n",
       "      <td>carmageddon: max damage</td>\n",
       "      <td>ps4</td>\n",
       "      <td>2016</td>\n",
       "      <td>action</td>\n",
       "      <td>0.01</td>\n",
       "      <td>0.00</td>\n",
       "      <td>0.00</td>\n",
       "      <td>0.00</td>\n",
       "      <td>51.00</td>\n",
       "      <td>5.50</td>\n",
       "      <td>m</td>\n",
       "      <td>0.01</td>\n",
       "    </tr>\n",
       "    <tr>\n",
       "      <th>16585</th>\n",
       "      <td>farming 2017 - the simulation</td>\n",
       "      <td>ps4</td>\n",
       "      <td>2016</td>\n",
       "      <td>simulation</td>\n",
       "      <td>0.00</td>\n",
       "      <td>0.01</td>\n",
       "      <td>0.00</td>\n",
       "      <td>0.00</td>\n",
       "      <td>NaN</td>\n",
       "      <td>NaN</td>\n",
       "      <td>no rating</td>\n",
       "      <td>0.01</td>\n",
       "    </tr>\n",
       "  </tbody>\n",
       "</table>\n",
       "<p>376 rows × 12 columns</p>\n",
       "</div>"
      ],
      "text/plain": [
       "                                 name platform  year_of_release         genre  \\\n",
       "31          call of duty: black ops 3      ps4             2015       shooter   \n",
       "42                 grand theft auto v      ps4             2014        action   \n",
       "77                            fifa 16      ps4             2015        sports   \n",
       "87       star wars battlefront (2015)      ps4             2015       shooter   \n",
       "92     call of duty: advanced warfare      ps4             2014       shooter   \n",
       "...                               ...      ...              ...           ...   \n",
       "16500                     root letter      ps4             2016     adventure   \n",
       "16503               shin hayarigami 2      ps4             2016     adventure   \n",
       "16526                      dungeons 2      ps4             2016  role-playing   \n",
       "16530         carmageddon: max damage      ps4             2016        action   \n",
       "16585   farming 2017 - the simulation      ps4             2016    simulation   \n",
       "\n",
       "       na_sales  eu_sales  jp_sales  other_sales  critic_score  user_score  \\\n",
       "31         6.03      5.86      0.36         2.38           NaN         NaN   \n",
       "42         3.96      6.31      0.38         1.97         97.00        8.30   \n",
       "77         1.12      6.12      0.06         1.28         82.00        4.30   \n",
       "87         2.99      3.49      0.22         1.28           NaN         NaN   \n",
       "92         2.81      3.48      0.14         1.23         83.00        5.70   \n",
       "...         ...       ...       ...          ...           ...         ...   \n",
       "16500      0.00      0.00      0.01         0.00         69.00        7.50   \n",
       "16503      0.00      0.00      0.01         0.00           NaN         NaN   \n",
       "16526      0.01      0.00      0.00         0.00         61.00        7.90   \n",
       "16530      0.01      0.00      0.00         0.00         51.00        5.50   \n",
       "16585      0.00      0.01      0.00         0.00           NaN         NaN   \n",
       "\n",
       "          rating  total_sales  \n",
       "31     no rating        14.63  \n",
       "42             m        12.62  \n",
       "77             e         8.58  \n",
       "87     no rating         7.98  \n",
       "92             m         7.66  \n",
       "...          ...          ...  \n",
       "16500  no rating         0.01  \n",
       "16503  no rating         0.01  \n",
       "16526          t         0.01  \n",
       "16530          m         0.01  \n",
       "16585  no rating         0.01  \n",
       "\n",
       "[376 rows x 12 columns]"
      ]
     },
     "execution_count": 50,
     "metadata": {},
     "output_type": "execute_result"
    }
   ],
   "source": [
    "# сделаем выборку игр PS4\n",
    "ps4 = act_data[act_data['platform'] == 'ps4']\n",
    "ps4"
   ]
  },
  {
   "cell_type": "code",
   "execution_count": 51,
   "metadata": {},
   "outputs": [
    {
     "name": "stdout",
     "output_type": "stream",
     "text": [
      "72.16455696202532\n"
     ]
    },
    {
     "data": {
      "text/plain": [
       "73.0"
      ]
     },
     "execution_count": 51,
     "metadata": {},
     "output_type": "execute_result"
    }
   ],
   "source": [
    "# Посчитаем среднее и медианное значение оценок критиков из 100\n",
    "print(ps4['critic_score'].mean())\n",
    "ps4['critic_score'].median()"
   ]
  },
  {
   "cell_type": "code",
   "execution_count": 52,
   "metadata": {},
   "outputs": [
    {
     "name": "stdout",
     "output_type": "stream",
     "text": [
      "6.828099173553719\n"
     ]
    },
    {
     "data": {
      "text/plain": [
       "7.1"
      ]
     },
     "execution_count": 52,
     "metadata": {},
     "output_type": "execute_result"
    }
   ],
   "source": [
    "# Посчитаем среднее и медианное значение оценок пользователей из 10\n",
    "print(ps4['user_score'].mean())\n",
    "ps4['user_score'].median()"
   ]
  },
  {
   "cell_type": "code",
   "execution_count": 53,
   "metadata": {},
   "outputs": [
    {
     "data": {
      "text/plain": [
       "288.15"
      ]
     },
     "execution_count": 53,
     "metadata": {},
     "output_type": "execute_result"
    }
   ],
   "source": [
    "# общая сумма продаж PS4\n",
    "ps4['total_sales'].sum()"
   ]
  },
  {
   "cell_type": "code",
   "execution_count": 54,
   "metadata": {},
   "outputs": [
    {
     "data": {
      "text/plain": [
       "219.42000000000002"
      ]
     },
     "execution_count": 54,
     "metadata": {},
     "output_type": "execute_result"
    }
   ],
   "source": [
    "# сумма продаж игр PS4 с отзывами критиков\n",
    "act_data[(act_data['platform'] == 'ps4') & ~(act_data['critic_score']\\\n",
    "                                             .isna())]['total_sales'].sum()"
   ]
  },
  {
   "cell_type": "code",
   "execution_count": 55,
   "metadata": {},
   "outputs": [
    {
     "data": {
      "text/plain": [
       "68.73000000000002"
      ]
     },
     "execution_count": 55,
     "metadata": {},
     "output_type": "execute_result"
    }
   ],
   "source": [
    "# сумма продаж игр pS4 без отзывов критиков\n",
    "act_data[(act_data['platform'] == 'ps4') & (act_data['critic_score']\\\n",
    "                                            .isna())]['total_sales'].sum()"
   ]
  },
  {
   "cell_type": "markdown",
   "metadata": {},
   "source": [
    "Рассчитаем долю продаж игр без оценки критиков - 24% от всех продаж."
   ]
  },
  {
   "cell_type": "code",
   "execution_count": 56,
   "metadata": {},
   "outputs": [
    {
     "data": {
      "text/plain": [
       "0.23852160333159822"
      ]
     },
     "execution_count": 56,
     "metadata": {},
     "output_type": "execute_result"
    }
   ],
   "source": [
    "act_data[(act_data['platform'] == 'ps4') & (act_data['critic_score']\\\n",
    "                                            .isna())]['total_sales'].sum()\\\n",
    "/ ps4['total_sales'].sum() "
   ]
  },
  {
   "cell_type": "code",
   "execution_count": 57,
   "metadata": {},
   "outputs": [
    {
     "data": {
      "image/png": "[encoded data removed]",
      "text/plain": [
       "<Figure size 864x360 with 1 Axes>"
      ]
     },
     "metadata": {
      "needs_background": "light"
     },
     "output_type": "display_data"
    }
   ],
   "source": [
    "# построим диаграмму рассеивания, x = оценки критиков до 100, y = общее кол-во продаж\n",
    "ps4.plot(x='critic_score', y='total_sales', kind='scatter', alpha=0.5, \\\n",
    "         grid=True, figsize=(12,5)); "
   ]
  },
  {
   "cell_type": "code",
   "execution_count": 58,
   "metadata": {},
   "outputs": [
    {
     "data": {
      "text/plain": [
       "0.40266141068104083"
      ]
     },
     "execution_count": 58,
     "metadata": {},
     "output_type": "execute_result"
    }
   ],
   "source": [
    "# посчитаем корреляцию между отзывами и продажами\n",
    "ps4['critic_score'].corr(ps4['total_sales'])"
   ]
  },
  {
   "cell_type": "markdown",
   "metadata": {},
   "source": [
    "Чем выше оценка критиков, тем больше продаж игры. Коэффициент корреляции Пирсона положительный 0.4, зависимость продаж игр от оценки критиков прослеживается. Но есть достаточное количество игр с рейтингом критиков 60-80 из 100 и высоким количеством продаж. Также есть высоко оцененные игры, но с малым количеством продаж. И есть игра-бестселлер с самым высоким рейтингом и самым большим числом продаж. В рамках данного проекта мы не можем оценить причины низких продаж при высоком рейтинге и высоких продаж при низком рейтинге из-за ограниченности данных.\n",
    "\n",
    "Повторим действия для оценок пользователей."
   ]
  },
  {
   "cell_type": "code",
   "execution_count": 59,
   "metadata": {},
   "outputs": [
    {
     "data": {
      "image/png": "[encoded data removed]",
      "text/plain": [
       "<Figure size 864x360 with 1 Axes>"
      ]
     },
     "metadata": {
      "needs_background": "light"
     },
     "output_type": "display_data"
    }
   ],
   "source": [
    "# построим диаграмму рассеивания, x = оценки пользователей до 10, y = общее кол-во продаж\n",
    "ps4.plot(x='user_score', y='total_sales', kind='scatter', \\\n",
    "         alpha=0.5, grid=True, figsize=(12,5)); "
   ]
  },
  {
   "cell_type": "code",
   "execution_count": 60,
   "metadata": {},
   "outputs": [
    {
     "data": {
      "text/plain": [
       "-0.040131589472697356"
      ]
     },
     "execution_count": 60,
     "metadata": {},
     "output_type": "execute_result"
    }
   ],
   "source": [
    "# посчитаем корреляцию между отзывами и продажами\n",
    "ps4['user_score'].corr(ps4['total_sales'])"
   ]
  },
  {
   "cell_type": "markdown",
   "metadata": {},
   "source": [
    "Коэффициент Пирсона отрицательный: -0.04. Зависимость между отзывами пользователей и продажей игр близка к нулю. Есть игры с очень низкой оценкой, но с очень высокими продажами. Есть высоко оцененные игры, но с минимальными продажами. Оценка пользователей не всегда объективная: одному игра понравилась во всем, а другому абсолютно не понравилась. Также бывает, что конкуренты специально занижают рейтинг игры.\n",
    "\n",
    "Возьмем данные о второй по популярности платформе XOne и рассчитаем корреляцию между отзывами пользоватеелй и критиков на количество продаж."
   ]
  },
  {
   "cell_type": "code",
   "execution_count": 61,
   "metadata": {},
   "outputs": [
    {
     "data": {
      "text/html": [
       "<div>\n",
       "<style scoped>\n",
       "    .dataframe tbody tr th:only-of-type {\n",
       "        vertical-align: middle;\n",
       "    }\n",
       "\n",
       "    .dataframe tbody tr th {\n",
       "        vertical-align: top;\n",
       "    }\n",
       "\n",
       "    .dataframe thead th {\n",
       "        text-align: right;\n",
       "    }\n",
       "</style>\n",
       "<table border=\"1\" class=\"dataframe\">\n",
       "  <thead>\n",
       "    <tr style=\"text-align: right;\">\n",
       "      <th></th>\n",
       "      <th>name</th>\n",
       "      <th>platform</th>\n",
       "      <th>year_of_release</th>\n",
       "      <th>genre</th>\n",
       "      <th>na_sales</th>\n",
       "      <th>eu_sales</th>\n",
       "      <th>jp_sales</th>\n",
       "      <th>other_sales</th>\n",
       "      <th>critic_score</th>\n",
       "      <th>user_score</th>\n",
       "      <th>rating</th>\n",
       "      <th>total_sales</th>\n",
       "    </tr>\n",
       "  </thead>\n",
       "  <tbody>\n",
       "    <tr>\n",
       "      <th>99</th>\n",
       "      <td>call of duty: black ops 3</td>\n",
       "      <td>xone</td>\n",
       "      <td>2015</td>\n",
       "      <td>shooter</td>\n",
       "      <td>4.59</td>\n",
       "      <td>2.11</td>\n",
       "      <td>0.01</td>\n",
       "      <td>0.68</td>\n",
       "      <td>NaN</td>\n",
       "      <td>NaN</td>\n",
       "      <td>no rating</td>\n",
       "      <td>7.39</td>\n",
       "    </tr>\n",
       "    <tr>\n",
       "      <th>165</th>\n",
       "      <td>grand theft auto v</td>\n",
       "      <td>xone</td>\n",
       "      <td>2014</td>\n",
       "      <td>action</td>\n",
       "      <td>2.81</td>\n",
       "      <td>2.19</td>\n",
       "      <td>0.00</td>\n",
       "      <td>0.47</td>\n",
       "      <td>97.00</td>\n",
       "      <td>7.90</td>\n",
       "      <td>m</td>\n",
       "      <td>5.47</td>\n",
       "    </tr>\n",
       "    <tr>\n",
       "      <th>179</th>\n",
       "      <td>call of duty: advanced warfare</td>\n",
       "      <td>xone</td>\n",
       "      <td>2014</td>\n",
       "      <td>shooter</td>\n",
       "      <td>3.22</td>\n",
       "      <td>1.55</td>\n",
       "      <td>0.01</td>\n",
       "      <td>0.48</td>\n",
       "      <td>81.00</td>\n",
       "      <td>5.40</td>\n",
       "      <td>m</td>\n",
       "      <td>5.26</td>\n",
       "    </tr>\n",
       "    <tr>\n",
       "      <th>242</th>\n",
       "      <td>halo 5: guardians</td>\n",
       "      <td>xone</td>\n",
       "      <td>2015</td>\n",
       "      <td>shooter</td>\n",
       "      <td>2.78</td>\n",
       "      <td>1.27</td>\n",
       "      <td>0.03</td>\n",
       "      <td>0.41</td>\n",
       "      <td>84.00</td>\n",
       "      <td>6.40</td>\n",
       "      <td>t</td>\n",
       "      <td>4.49</td>\n",
       "    </tr>\n",
       "    <tr>\n",
       "      <th>270</th>\n",
       "      <td>fallout 4</td>\n",
       "      <td>xone</td>\n",
       "      <td>2015</td>\n",
       "      <td>role-playing</td>\n",
       "      <td>2.51</td>\n",
       "      <td>1.32</td>\n",
       "      <td>0.01</td>\n",
       "      <td>0.38</td>\n",
       "      <td>88.00</td>\n",
       "      <td>6.20</td>\n",
       "      <td>m</td>\n",
       "      <td>4.22</td>\n",
       "    </tr>\n",
       "    <tr>\n",
       "      <th>...</th>\n",
       "      <td>...</td>\n",
       "      <td>...</td>\n",
       "      <td>...</td>\n",
       "      <td>...</td>\n",
       "      <td>...</td>\n",
       "      <td>...</td>\n",
       "      <td>...</td>\n",
       "      <td>...</td>\n",
       "      <td>...</td>\n",
       "      <td>...</td>\n",
       "      <td>...</td>\n",
       "      <td>...</td>\n",
       "    </tr>\n",
       "    <tr>\n",
       "      <th>16630</th>\n",
       "      <td>sébastien loeb rally evo</td>\n",
       "      <td>xone</td>\n",
       "      <td>2016</td>\n",
       "      <td>racing</td>\n",
       "      <td>0.00</td>\n",
       "      <td>0.01</td>\n",
       "      <td>0.00</td>\n",
       "      <td>0.00</td>\n",
       "      <td>63.00</td>\n",
       "      <td>8.20</td>\n",
       "      <td>e</td>\n",
       "      <td>0.01</td>\n",
       "    </tr>\n",
       "    <tr>\n",
       "      <th>16643</th>\n",
       "      <td>rugby challenge 3</td>\n",
       "      <td>xone</td>\n",
       "      <td>2016</td>\n",
       "      <td>sports</td>\n",
       "      <td>0.00</td>\n",
       "      <td>0.01</td>\n",
       "      <td>0.00</td>\n",
       "      <td>0.00</td>\n",
       "      <td>NaN</td>\n",
       "      <td>6.60</td>\n",
       "      <td>e</td>\n",
       "      <td>0.01</td>\n",
       "    </tr>\n",
       "    <tr>\n",
       "      <th>16645</th>\n",
       "      <td>zombiu</td>\n",
       "      <td>xone</td>\n",
       "      <td>2016</td>\n",
       "      <td>action</td>\n",
       "      <td>0.00</td>\n",
       "      <td>0.01</td>\n",
       "      <td>0.00</td>\n",
       "      <td>0.00</td>\n",
       "      <td>NaN</td>\n",
       "      <td>NaN</td>\n",
       "      <td>no rating</td>\n",
       "      <td>0.01</td>\n",
       "    </tr>\n",
       "    <tr>\n",
       "      <th>16660</th>\n",
       "      <td>prison architect</td>\n",
       "      <td>xone</td>\n",
       "      <td>2016</td>\n",
       "      <td>action</td>\n",
       "      <td>0.01</td>\n",
       "      <td>0.00</td>\n",
       "      <td>0.00</td>\n",
       "      <td>0.00</td>\n",
       "      <td>74.00</td>\n",
       "      <td>6.70</td>\n",
       "      <td>no rating</td>\n",
       "      <td>0.01</td>\n",
       "    </tr>\n",
       "    <tr>\n",
       "      <th>16672</th>\n",
       "      <td>metal gear solid v: the definitive experience</td>\n",
       "      <td>xone</td>\n",
       "      <td>2016</td>\n",
       "      <td>action</td>\n",
       "      <td>0.01</td>\n",
       "      <td>0.00</td>\n",
       "      <td>0.00</td>\n",
       "      <td>0.00</td>\n",
       "      <td>NaN</td>\n",
       "      <td>NaN</td>\n",
       "      <td>m</td>\n",
       "      <td>0.01</td>\n",
       "    </tr>\n",
       "  </tbody>\n",
       "</table>\n",
       "<p>228 rows × 12 columns</p>\n",
       "</div>"
      ],
      "text/plain": [
       "                                                name platform  \\\n",
       "99                         call of duty: black ops 3     xone   \n",
       "165                               grand theft auto v     xone   \n",
       "179                   call of duty: advanced warfare     xone   \n",
       "242                                halo 5: guardians     xone   \n",
       "270                                        fallout 4     xone   \n",
       "...                                              ...      ...   \n",
       "16630                       sébastien loeb rally evo     xone   \n",
       "16643                              rugby challenge 3     xone   \n",
       "16645                                         zombiu     xone   \n",
       "16660                               prison architect     xone   \n",
       "16672  metal gear solid v: the definitive experience     xone   \n",
       "\n",
       "       year_of_release         genre  na_sales  eu_sales  jp_sales  \\\n",
       "99                2015       shooter      4.59      2.11      0.01   \n",
       "165               2014        action      2.81      2.19      0.00   \n",
       "179               2014       shooter      3.22      1.55      0.01   \n",
       "242               2015       shooter      2.78      1.27      0.03   \n",
       "270               2015  role-playing      2.51      1.32      0.01   \n",
       "...                ...           ...       ...       ...       ...   \n",
       "16630             2016        racing      0.00      0.01      0.00   \n",
       "16643             2016        sports      0.00      0.01      0.00   \n",
       "16645             2016        action      0.00      0.01      0.00   \n",
       "16660             2016        action      0.01      0.00      0.00   \n",
       "16672             2016        action      0.01      0.00      0.00   \n",
       "\n",
       "       other_sales  critic_score  user_score     rating  total_sales  \n",
       "99            0.68           NaN         NaN  no rating         7.39  \n",
       "165           0.47         97.00        7.90          m         5.47  \n",
       "179           0.48         81.00        5.40          m         5.26  \n",
       "242           0.41         84.00        6.40          t         4.49  \n",
       "270           0.38         88.00        6.20          m         4.22  \n",
       "...            ...           ...         ...        ...          ...  \n",
       "16630         0.00         63.00        8.20          e         0.01  \n",
       "16643         0.00           NaN        6.60          e         0.01  \n",
       "16645         0.00           NaN         NaN  no rating         0.01  \n",
       "16660         0.00         74.00        6.70  no rating         0.01  \n",
       "16672         0.00           NaN         NaN          m         0.01  \n",
       "\n",
       "[228 rows x 12 columns]"
      ]
     },
     "execution_count": 61,
     "metadata": {},
     "output_type": "execute_result"
    }
   ],
   "source": [
    "xone = act_data[act_data['platform'] == 'xone']\n",
    "xone"
   ]
  },
  {
   "cell_type": "code",
   "execution_count": 62,
   "metadata": {},
   "outputs": [
    {
     "name": "stdout",
     "output_type": "stream",
     "text": [
      "0.42867694370333226\n"
     ]
    },
    {
     "data": {
      "text/plain": [
       "-0.0703839280647581"
      ]
     },
     "execution_count": 62,
     "metadata": {},
     "output_type": "execute_result"
    }
   ],
   "source": [
    "# корреляция отзывов критиков и продаж игр\n",
    "print(xone['critic_score'].corr(xone['total_sales']))\n",
    "# корреляция отзывов пользователей и продаж игр\n",
    "xone['user_score'].corr(xone['total_sales'])"
   ]
  },
  {
   "cell_type": "markdown",
   "metadata": {},
   "source": [
    "Ситуация аналогичная, как и у платформы-лидера PS4. И проверим платформу Nintendo 3DS."
   ]
  },
  {
   "cell_type": "code",
   "execution_count": 63,
   "metadata": {
    "scrolled": true
   },
   "outputs": [
    {
     "data": {
      "text/html": [
       "<div>\n",
       "<style scoped>\n",
       "    .dataframe tbody tr th:only-of-type {\n",
       "        vertical-align: middle;\n",
       "    }\n",
       "\n",
       "    .dataframe tbody tr th {\n",
       "        vertical-align: top;\n",
       "    }\n",
       "\n",
       "    .dataframe thead th {\n",
       "        text-align: right;\n",
       "    }\n",
       "</style>\n",
       "<table border=\"1\" class=\"dataframe\">\n",
       "  <thead>\n",
       "    <tr style=\"text-align: right;\">\n",
       "      <th></th>\n",
       "      <th>name</th>\n",
       "      <th>platform</th>\n",
       "      <th>year_of_release</th>\n",
       "      <th>genre</th>\n",
       "      <th>na_sales</th>\n",
       "      <th>eu_sales</th>\n",
       "      <th>jp_sales</th>\n",
       "      <th>other_sales</th>\n",
       "      <th>critic_score</th>\n",
       "      <th>user_score</th>\n",
       "      <th>rating</th>\n",
       "      <th>total_sales</th>\n",
       "    </tr>\n",
       "  </thead>\n",
       "  <tbody>\n",
       "    <tr>\n",
       "      <th>47</th>\n",
       "      <td>pokemon omega ruby/pokemon alpha sapphire</td>\n",
       "      <td>3ds</td>\n",
       "      <td>2014</td>\n",
       "      <td>role-playing</td>\n",
       "      <td>4.35</td>\n",
       "      <td>3.49</td>\n",
       "      <td>3.10</td>\n",
       "      <td>0.74</td>\n",
       "      <td>NaN</td>\n",
       "      <td>NaN</td>\n",
       "      <td>no rating</td>\n",
       "      <td>11.68</td>\n",
       "    </tr>\n",
       "    <tr>\n",
       "      <th>96</th>\n",
       "      <td>super smash bros. for wii u and 3ds</td>\n",
       "      <td>3ds</td>\n",
       "      <td>2014</td>\n",
       "      <td>fighting</td>\n",
       "      <td>3.27</td>\n",
       "      <td>1.37</td>\n",
       "      <td>2.43</td>\n",
       "      <td>0.48</td>\n",
       "      <td>NaN</td>\n",
       "      <td>NaN</td>\n",
       "      <td>no rating</td>\n",
       "      <td>7.55</td>\n",
       "    </tr>\n",
       "    <tr>\n",
       "      <th>108</th>\n",
       "      <td>pokemon sun/moon</td>\n",
       "      <td>3ds</td>\n",
       "      <td>2016</td>\n",
       "      <td>role-playing</td>\n",
       "      <td>2.98</td>\n",
       "      <td>1.45</td>\n",
       "      <td>2.26</td>\n",
       "      <td>0.45</td>\n",
       "      <td>NaN</td>\n",
       "      <td>NaN</td>\n",
       "      <td>no rating</td>\n",
       "      <td>7.14</td>\n",
       "    </tr>\n",
       "    <tr>\n",
       "      <th>312</th>\n",
       "      <td>monster hunter 4 ultimate</td>\n",
       "      <td>3ds</td>\n",
       "      <td>2014</td>\n",
       "      <td>role-playing</td>\n",
       "      <td>0.68</td>\n",
       "      <td>0.48</td>\n",
       "      <td>2.62</td>\n",
       "      <td>0.11</td>\n",
       "      <td>86.00</td>\n",
       "      <td>8.70</td>\n",
       "      <td>t</td>\n",
       "      <td>3.89</td>\n",
       "    </tr>\n",
       "    <tr>\n",
       "      <th>406</th>\n",
       "      <td>monster hunter x</td>\n",
       "      <td>3ds</td>\n",
       "      <td>2015</td>\n",
       "      <td>action</td>\n",
       "      <td>0.27</td>\n",
       "      <td>0.21</td>\n",
       "      <td>2.79</td>\n",
       "      <td>0.05</td>\n",
       "      <td>NaN</td>\n",
       "      <td>NaN</td>\n",
       "      <td>no rating</td>\n",
       "      <td>3.32</td>\n",
       "    </tr>\n",
       "    <tr>\n",
       "      <th>...</th>\n",
       "      <td>...</td>\n",
       "      <td>...</td>\n",
       "      <td>...</td>\n",
       "      <td>...</td>\n",
       "      <td>...</td>\n",
       "      <td>...</td>\n",
       "      <td>...</td>\n",
       "      <td>...</td>\n",
       "      <td>...</td>\n",
       "      <td>...</td>\n",
       "      <td>...</td>\n",
       "      <td>...</td>\n",
       "    </tr>\n",
       "    <tr>\n",
       "      <th>16599</th>\n",
       "      <td>legends of oz: dorothy's return</td>\n",
       "      <td>3ds</td>\n",
       "      <td>2014</td>\n",
       "      <td>puzzle</td>\n",
       "      <td>0.00</td>\n",
       "      <td>0.01</td>\n",
       "      <td>0.00</td>\n",
       "      <td>0.00</td>\n",
       "      <td>NaN</td>\n",
       "      <td>NaN</td>\n",
       "      <td>e</td>\n",
       "      <td>0.01</td>\n",
       "    </tr>\n",
       "    <tr>\n",
       "      <th>16608</th>\n",
       "      <td>mario &amp; luigi: paper jam &amp; mario kart 7 double...</td>\n",
       "      <td>3ds</td>\n",
       "      <td>2015</td>\n",
       "      <td>misc</td>\n",
       "      <td>0.00</td>\n",
       "      <td>0.00</td>\n",
       "      <td>0.01</td>\n",
       "      <td>0.00</td>\n",
       "      <td>NaN</td>\n",
       "      <td>NaN</td>\n",
       "      <td>no rating</td>\n",
       "      <td>0.01</td>\n",
       "    </tr>\n",
       "    <tr>\n",
       "      <th>16610</th>\n",
       "      <td>kiniro no corda 3</td>\n",
       "      <td>3ds</td>\n",
       "      <td>2015</td>\n",
       "      <td>adventure</td>\n",
       "      <td>0.00</td>\n",
       "      <td>0.00</td>\n",
       "      <td>0.01</td>\n",
       "      <td>0.00</td>\n",
       "      <td>NaN</td>\n",
       "      <td>NaN</td>\n",
       "      <td>no rating</td>\n",
       "      <td>0.01</td>\n",
       "    </tr>\n",
       "    <tr>\n",
       "      <th>16668</th>\n",
       "      <td>fujiko f. fujio characters: great assembly! sl...</td>\n",
       "      <td>3ds</td>\n",
       "      <td>2014</td>\n",
       "      <td>action</td>\n",
       "      <td>0.00</td>\n",
       "      <td>0.00</td>\n",
       "      <td>0.01</td>\n",
       "      <td>0.00</td>\n",
       "      <td>NaN</td>\n",
       "      <td>NaN</td>\n",
       "      <td>no rating</td>\n",
       "      <td>0.01</td>\n",
       "    </tr>\n",
       "    <tr>\n",
       "      <th>16677</th>\n",
       "      <td>aikatsu stars! my special appeal</td>\n",
       "      <td>3ds</td>\n",
       "      <td>2016</td>\n",
       "      <td>action</td>\n",
       "      <td>0.00</td>\n",
       "      <td>0.00</td>\n",
       "      <td>0.01</td>\n",
       "      <td>0.00</td>\n",
       "      <td>NaN</td>\n",
       "      <td>NaN</td>\n",
       "      <td>no rating</td>\n",
       "      <td>0.01</td>\n",
       "    </tr>\n",
       "  </tbody>\n",
       "</table>\n",
       "<p>212 rows × 12 columns</p>\n",
       "</div>"
      ],
      "text/plain": [
       "                                                    name platform  \\\n",
       "47             pokemon omega ruby/pokemon alpha sapphire      3ds   \n",
       "96                   super smash bros. for wii u and 3ds      3ds   \n",
       "108                                     pokemon sun/moon      3ds   \n",
       "312                            monster hunter 4 ultimate      3ds   \n",
       "406                                     monster hunter x      3ds   \n",
       "...                                                  ...      ...   \n",
       "16599                    legends of oz: dorothy's return      3ds   \n",
       "16608  mario & luigi: paper jam & mario kart 7 double...      3ds   \n",
       "16610                                  kiniro no corda 3      3ds   \n",
       "16668  fujiko f. fujio characters: great assembly! sl...      3ds   \n",
       "16677                   aikatsu stars! my special appeal      3ds   \n",
       "\n",
       "       year_of_release         genre  na_sales  eu_sales  jp_sales  \\\n",
       "47                2014  role-playing      4.35      3.49      3.10   \n",
       "96                2014      fighting      3.27      1.37      2.43   \n",
       "108               2016  role-playing      2.98      1.45      2.26   \n",
       "312               2014  role-playing      0.68      0.48      2.62   \n",
       "406               2015        action      0.27      0.21      2.79   \n",
       "...                ...           ...       ...       ...       ...   \n",
       "16599             2014        puzzle      0.00      0.01      0.00   \n",
       "16608             2015          misc      0.00      0.00      0.01   \n",
       "16610             2015     adventure      0.00      0.00      0.01   \n",
       "16668             2014        action      0.00      0.00      0.01   \n",
       "16677             2016        action      0.00      0.00      0.01   \n",
       "\n",
       "       other_sales  critic_score  user_score     rating  total_sales  \n",
       "47            0.74           NaN         NaN  no rating        11.68  \n",
       "96            0.48           NaN         NaN  no rating         7.55  \n",
       "108           0.45           NaN         NaN  no rating         7.14  \n",
       "312           0.11         86.00        8.70          t         3.89  \n",
       "406           0.05           NaN         NaN  no rating         3.32  \n",
       "...            ...           ...         ...        ...          ...  \n",
       "16599         0.00           NaN         NaN          e         0.01  \n",
       "16608         0.00           NaN         NaN  no rating         0.01  \n",
       "16610         0.00           NaN         NaN  no rating         0.01  \n",
       "16668         0.00           NaN         NaN  no rating         0.01  \n",
       "16677         0.00           NaN         NaN  no rating         0.01  \n",
       "\n",
       "[212 rows x 12 columns]"
      ]
     },
     "execution_count": 63,
     "metadata": {},
     "output_type": "execute_result"
    }
   ],
   "source": [
    "ds = act_data[act_data['platform'] == '3ds']\n",
    "ds"
   ]
  },
  {
   "cell_type": "code",
   "execution_count": 64,
   "metadata": {},
   "outputs": [
    {
     "name": "stdout",
     "output_type": "stream",
     "text": [
      "0.314117492869051\n"
     ]
    },
    {
     "data": {
      "text/plain": [
       "0.2151932718527028"
      ]
     },
     "execution_count": 64,
     "metadata": {},
     "output_type": "execute_result"
    }
   ],
   "source": [
    "# корреляция отзывов критиков и продаж игр\n",
    "print(ds['critic_score'].corr(ds['total_sales']))\n",
    "# корреляция отзывов пользователей и продаж игр\n",
    "ds['user_score'].corr(ds['total_sales'])"
   ]
  },
  {
   "cell_type": "markdown",
   "metadata": {},
   "source": [
    "Оценки критиков еще меньше влияют на продажу игр, чем у других приставок. А коэффициент Пирсона взаимосвязи оценки пользователей на продажи значительно выше, чем у PS4 и XOne. Скорее всего это связано с менталитетом японцев, так как большая часть игр продана именно в Японии."
   ]
  },
  {
   "cell_type": "markdown",
   "metadata": {},
   "source": [
    "#### Жанры игр\n",
    "Для начала посмотрим все существующие жанры."
   ]
  },
  {
   "cell_type": "code",
   "execution_count": 65,
   "metadata": {},
   "outputs": [
    {
     "data": {
      "text/plain": [
       "array(['shooter', 'action', 'role-playing', 'sports', 'fighting',\n",
       "       'racing', 'misc', 'platform', 'simulation', 'adventure', 'puzzle',\n",
       "       'strategy'], dtype=object)"
      ]
     },
     "execution_count": 65,
     "metadata": {},
     "output_type": "execute_result"
    }
   ],
   "source": [
    "act_data['genre'].unique()"
   ]
  },
  {
   "cell_type": "code",
   "execution_count": 66,
   "metadata": {},
   "outputs": [
    {
     "data": {
      "text/plain": [
       "action          619\n",
       "role-playing    221\n",
       "adventure       185\n",
       "sports          161\n",
       "shooter         128\n",
       "misc            113\n",
       "racing           69\n",
       "fighting         60\n",
       "simulation       44\n",
       "platform         38\n",
       "strategy         37\n",
       "puzzle           14\n",
       "Name: genre, dtype: int64"
      ]
     },
     "execution_count": 66,
     "metadata": {},
     "output_type": "execute_result"
    }
   ],
   "source": [
    "act_data['genre'].value_counts()"
   ]
  },
  {
   "cell_type": "markdown",
   "metadata": {},
   "source": [
    "Самые популярные жанры игр: Action, Role-Playing, Adventure, Sports, Shooter. Меньше всего выпускали игр в жанрах Puzzle, Strategy и Platform."
   ]
  },
  {
   "cell_type": "code",
   "execution_count": 67,
   "metadata": {},
   "outputs": [
    {
     "data": {
      "text/plain": [
       "genre\n",
       "action         199.36\n",
       "shooter        170.94\n",
       "sports         109.48\n",
       "role-playing   101.44\n",
       "misc            37.55\n",
       "fighting        28.22\n",
       "racing          27.52\n",
       "platform        18.09\n",
       "adventure       17.55\n",
       "simulation      13.13\n",
       "strategy         3.96\n",
       "puzzle           2.21\n",
       "Name: total_sales, dtype: float64"
      ]
     },
     "execution_count": 67,
     "metadata": {},
     "output_type": "execute_result"
    }
   ],
   "source": [
    "# сгруппируем игры по жанрам и найдем суммарное кол-во продаж, отсортируем по убыванию\n",
    "act_data.groupby('genre')['total_sales'].sum().sort_values(ascending=False)"
   ]
  },
  {
   "cell_type": "code",
   "execution_count": 68,
   "metadata": {},
   "outputs": [
    {
     "data": {
      "image/png": "[encoded data removed]",
      "text/plain": [
       "<Figure size 720x360 with 1 Axes>"
      ]
     },
     "metadata": {
      "needs_background": "light"
     },
     "output_type": "display_data"
    }
   ],
   "source": [
    "# диаграмма для наглядности\n",
    "act_data.groupby('genre')['total_sales'].sum().sort_values(ascending=False)\\\n",
    ".plot(kind='bar', figsize=(10,5))\n",
    "plt.xlabel('Жанры')\n",
    "plt.ylabel('Количество продаж');"
   ]
  },
  {
   "cell_type": "markdown",
   "metadata": {},
   "source": [
    "Лидер по продажам тот же, самый продаваемый жанр - Action, затем - Shooter, самый менее продаваемый жанр - Puzzle. "
   ]
  },
  {
   "cell_type": "code",
   "execution_count": 69,
   "metadata": {},
   "outputs": [
    {
     "data": {
      "image/png": "[encoded data removed]",
      "text/plain": [
       "<Figure size 936x576 with 1 Axes>"
      ]
     },
     "metadata": {
      "needs_background": "light"
     },
     "output_type": "display_data"
    }
   ],
   "source": [
    "# построим ящики с усами с разбивкой по жанрам\n",
    "plt.figure(figsize=(13, 8))\n",
    "(sns.boxplot(data = act_data, y = 'total_sales', x='genre')\n",
    "    .set(title = 'Продажи по перспективным платформам за 2014-2016 гг', xlabel = 'Жанры', \\\n",
    "         ylabel = 'Общие продажи'))\n",
    "\n",
    "plt.show()"
   ]
  },
  {
   "cell_type": "markdown",
   "metadata": {},
   "source": [
    "А теперь увеличим масштаб, чтобы был виден сам \"ящик\" и квартили с усами."
   ]
  },
  {
   "cell_type": "code",
   "execution_count": 70,
   "metadata": {},
   "outputs": [],
   "source": [
    "genre_act_data = act_data[act_data['total_sales'] <= 3]"
   ]
  },
  {
   "cell_type": "code",
   "execution_count": 71,
   "metadata": {},
   "outputs": [
    {
     "data": {
      "image/png": "[encoded data removed]",
      "text/plain": [
       "<Figure size 936x576 with 1 Axes>"
      ]
     },
     "metadata": {
      "needs_background": "light"
     },
     "output_type": "display_data"
    }
   ],
   "source": [
    "# жанры отсортированы по максимальному значению общих продаж\n",
    "plt.figure(figsize=(13, 8))\n",
    "(sns.boxplot(data = genre_act_data, y = 'total_sales', x='genre')\n",
    "    .set(title = 'Продажи по перспективным платформам за 2014-2016 гг', xlabel = 'Жанры', \\\n",
    "         ylabel = 'Общие продажи'))\n",
    "\n",
    "plt.show()"
   ]
  },
  {
   "cell_type": "code",
   "execution_count": 72,
   "metadata": {},
   "outputs": [
    {
     "data": {
      "image/png": "[encoded data removed]",
      "text/plain": [
       "<Figure size 936x576 with 1 Axes>"
      ]
     },
     "metadata": {
      "needs_background": "light"
     },
     "output_type": "display_data"
    }
   ],
   "source": [
    "# жанры отсортированы по значению медианы по убыванию\n",
    "grouped = genre_act_data.groupby('genre')\n",
    "sorted_median = grouped['total_sales'].median().sort_values(ascending=False)\n",
    "plt.figure(figsize=(13, 8))\n",
    "(sns.boxplot(data = genre_act_data, y = 'total_sales', x='genre', order=sorted_median.index)\n",
    "    .set(title = 'Продажи по перспективным платформам за 2014-2016 гг', xlabel = 'Жанры', \\\n",
    "         ylabel = 'Общие продажи'))\n",
    "\n",
    "plt.show()"
   ]
  },
  {
   "cell_type": "code",
   "execution_count": 73,
   "metadata": {},
   "outputs": [
    {
     "data": {
      "text/html": [
       "<div>\n",
       "<style scoped>\n",
       "    .dataframe tbody tr th:only-of-type {\n",
       "        vertical-align: middle;\n",
       "    }\n",
       "\n",
       "    .dataframe tbody tr th {\n",
       "        vertical-align: top;\n",
       "    }\n",
       "\n",
       "    .dataframe thead tr th {\n",
       "        text-align: left;\n",
       "    }\n",
       "\n",
       "    .dataframe thead tr:last-of-type th {\n",
       "        text-align: right;\n",
       "    }\n",
       "</style>\n",
       "<table border=\"1\" class=\"dataframe\">\n",
       "  <thead>\n",
       "    <tr>\n",
       "      <th></th>\n",
       "      <th colspan=\"8\" halign=\"left\">year_of_release</th>\n",
       "      <th colspan=\"2\" halign=\"left\">na_sales</th>\n",
       "      <th>...</th>\n",
       "      <th colspan=\"2\" halign=\"left\">user_score</th>\n",
       "      <th colspan=\"8\" halign=\"left\">total_sales</th>\n",
       "    </tr>\n",
       "    <tr>\n",
       "      <th></th>\n",
       "      <th>count</th>\n",
       "      <th>mean</th>\n",
       "      <th>std</th>\n",
       "      <th>min</th>\n",
       "      <th>25%</th>\n",
       "      <th>50%</th>\n",
       "      <th>75%</th>\n",
       "      <th>max</th>\n",
       "      <th>count</th>\n",
       "      <th>mean</th>\n",
       "      <th>...</th>\n",
       "      <th>75%</th>\n",
       "      <th>max</th>\n",
       "      <th>count</th>\n",
       "      <th>mean</th>\n",
       "      <th>std</th>\n",
       "      <th>min</th>\n",
       "      <th>25%</th>\n",
       "      <th>50%</th>\n",
       "      <th>75%</th>\n",
       "      <th>max</th>\n",
       "    </tr>\n",
       "    <tr>\n",
       "      <th>genre</th>\n",
       "      <th></th>\n",
       "      <th></th>\n",
       "      <th></th>\n",
       "      <th></th>\n",
       "      <th></th>\n",
       "      <th></th>\n",
       "      <th></th>\n",
       "      <th></th>\n",
       "      <th></th>\n",
       "      <th></th>\n",
       "      <th></th>\n",
       "      <th></th>\n",
       "      <th></th>\n",
       "      <th></th>\n",
       "      <th></th>\n",
       "      <th></th>\n",
       "      <th></th>\n",
       "      <th></th>\n",
       "      <th></th>\n",
       "      <th></th>\n",
       "      <th></th>\n",
       "    </tr>\n",
       "  </thead>\n",
       "  <tbody>\n",
       "    <tr>\n",
       "      <th>action</th>\n",
       "      <td>608.00</td>\n",
       "      <td>2,014.99</td>\n",
       "      <td>0.77</td>\n",
       "      <td>2,014.00</td>\n",
       "      <td>2,014.00</td>\n",
       "      <td>2,015.00</td>\n",
       "      <td>2,016.00</td>\n",
       "      <td>2,016.00</td>\n",
       "      <td>608.00</td>\n",
       "      <td>0.09</td>\n",
       "      <td>...</td>\n",
       "      <td>7.70</td>\n",
       "      <td>9.00</td>\n",
       "      <td>608.00</td>\n",
       "      <td>0.24</td>\n",
       "      <td>0.40</td>\n",
       "      <td>0.01</td>\n",
       "      <td>0.03</td>\n",
       "      <td>0.08</td>\n",
       "      <td>0.26</td>\n",
       "      <td>2.96</td>\n",
       "    </tr>\n",
       "    <tr>\n",
       "      <th>adventure</th>\n",
       "      <td>185.00</td>\n",
       "      <td>2,014.90</td>\n",
       "      <td>0.84</td>\n",
       "      <td>2,014.00</td>\n",
       "      <td>2,014.00</td>\n",
       "      <td>2,015.00</td>\n",
       "      <td>2,016.00</td>\n",
       "      <td>2,016.00</td>\n",
       "      <td>185.00</td>\n",
       "      <td>0.03</td>\n",
       "      <td>...</td>\n",
       "      <td>8.40</td>\n",
       "      <td>9.30</td>\n",
       "      <td>185.00</td>\n",
       "      <td>0.09</td>\n",
       "      <td>0.20</td>\n",
       "      <td>0.01</td>\n",
       "      <td>0.02</td>\n",
       "      <td>0.03</td>\n",
       "      <td>0.08</td>\n",
       "      <td>1.66</td>\n",
       "    </tr>\n",
       "    <tr>\n",
       "      <th>fighting</th>\n",
       "      <td>58.00</td>\n",
       "      <td>2,014.91</td>\n",
       "      <td>0.80</td>\n",
       "      <td>2,014.00</td>\n",
       "      <td>2,014.00</td>\n",
       "      <td>2,015.00</td>\n",
       "      <td>2,016.00</td>\n",
       "      <td>2,016.00</td>\n",
       "      <td>58.00</td>\n",
       "      <td>0.11</td>\n",
       "      <td>...</td>\n",
       "      <td>7.80</td>\n",
       "      <td>8.70</td>\n",
       "      <td>58.00</td>\n",
       "      <td>0.27</td>\n",
       "      <td>0.45</td>\n",
       "      <td>0.01</td>\n",
       "      <td>0.06</td>\n",
       "      <td>0.11</td>\n",
       "      <td>0.31</td>\n",
       "      <td>2.78</td>\n",
       "    </tr>\n",
       "    <tr>\n",
       "      <th>misc</th>\n",
       "      <td>111.00</td>\n",
       "      <td>2,014.93</td>\n",
       "      <td>0.81</td>\n",
       "      <td>2,014.00</td>\n",
       "      <td>2,014.00</td>\n",
       "      <td>2,015.00</td>\n",
       "      <td>2,016.00</td>\n",
       "      <td>2,016.00</td>\n",
       "      <td>111.00</td>\n",
       "      <td>0.10</td>\n",
       "      <td>...</td>\n",
       "      <td>8.00</td>\n",
       "      <td>8.70</td>\n",
       "      <td>111.00</td>\n",
       "      <td>0.25</td>\n",
       "      <td>0.42</td>\n",
       "      <td>0.01</td>\n",
       "      <td>0.03</td>\n",
       "      <td>0.09</td>\n",
       "      <td>0.32</td>\n",
       "      <td>2.76</td>\n",
       "    </tr>\n",
       "    <tr>\n",
       "      <th>platform</th>\n",
       "      <td>37.00</td>\n",
       "      <td>2,015.14</td>\n",
       "      <td>0.82</td>\n",
       "      <td>2,014.00</td>\n",
       "      <td>2,014.00</td>\n",
       "      <td>2,015.00</td>\n",
       "      <td>2,016.00</td>\n",
       "      <td>2,016.00</td>\n",
       "      <td>37.00</td>\n",
       "      <td>0.15</td>\n",
       "      <td>...</td>\n",
       "      <td>8.22</td>\n",
       "      <td>8.90</td>\n",
       "      <td>37.00</td>\n",
       "      <td>0.40</td>\n",
       "      <td>0.57</td>\n",
       "      <td>0.01</td>\n",
       "      <td>0.06</td>\n",
       "      <td>0.14</td>\n",
       "      <td>0.34</td>\n",
       "      <td>1.91</td>\n",
       "    </tr>\n",
       "    <tr>\n",
       "      <th>puzzle</th>\n",
       "      <td>14.00</td>\n",
       "      <td>2,014.57</td>\n",
       "      <td>0.65</td>\n",
       "      <td>2,014.00</td>\n",
       "      <td>2,014.00</td>\n",
       "      <td>2,014.50</td>\n",
       "      <td>2,015.00</td>\n",
       "      <td>2,016.00</td>\n",
       "      <td>14.00</td>\n",
       "      <td>0.05</td>\n",
       "      <td>...</td>\n",
       "      <td>8.45</td>\n",
       "      <td>8.60</td>\n",
       "      <td>14.00</td>\n",
       "      <td>0.16</td>\n",
       "      <td>0.32</td>\n",
       "      <td>0.01</td>\n",
       "      <td>0.02</td>\n",
       "      <td>0.04</td>\n",
       "      <td>0.10</td>\n",
       "      <td>1.19</td>\n",
       "    </tr>\n",
       "    <tr>\n",
       "      <th>racing</th>\n",
       "      <td>68.00</td>\n",
       "      <td>2,014.97</td>\n",
       "      <td>0.86</td>\n",
       "      <td>2,014.00</td>\n",
       "      <td>2,014.00</td>\n",
       "      <td>2,015.00</td>\n",
       "      <td>2,016.00</td>\n",
       "      <td>2,016.00</td>\n",
       "      <td>68.00</td>\n",
       "      <td>0.08</td>\n",
       "      <td>...</td>\n",
       "      <td>7.47</td>\n",
       "      <td>8.70</td>\n",
       "      <td>68.00</td>\n",
       "      <td>0.30</td>\n",
       "      <td>0.51</td>\n",
       "      <td>0.01</td>\n",
       "      <td>0.03</td>\n",
       "      <td>0.09</td>\n",
       "      <td>0.24</td>\n",
       "      <td>2.42</td>\n",
       "    </tr>\n",
       "    <tr>\n",
       "      <th>role-playing</th>\n",
       "      <td>214.00</td>\n",
       "      <td>2,014.85</td>\n",
       "      <td>0.79</td>\n",
       "      <td>2,014.00</td>\n",
       "      <td>2,014.00</td>\n",
       "      <td>2,015.00</td>\n",
       "      <td>2,015.00</td>\n",
       "      <td>2,016.00</td>\n",
       "      <td>214.00</td>\n",
       "      <td>0.09</td>\n",
       "      <td>...</td>\n",
       "      <td>8.10</td>\n",
       "      <td>9.30</td>\n",
       "      <td>214.00</td>\n",
       "      <td>0.28</td>\n",
       "      <td>0.41</td>\n",
       "      <td>0.01</td>\n",
       "      <td>0.05</td>\n",
       "      <td>0.11</td>\n",
       "      <td>0.30</td>\n",
       "      <td>2.68</td>\n",
       "    </tr>\n",
       "    <tr>\n",
       "      <th>shooter</th>\n",
       "      <td>109.00</td>\n",
       "      <td>2,015.04</td>\n",
       "      <td>0.87</td>\n",
       "      <td>2,014.00</td>\n",
       "      <td>2,014.00</td>\n",
       "      <td>2,015.00</td>\n",
       "      <td>2,016.00</td>\n",
       "      <td>2,016.00</td>\n",
       "      <td>109.00</td>\n",
       "      <td>0.30</td>\n",
       "      <td>...</td>\n",
       "      <td>7.70</td>\n",
       "      <td>8.50</td>\n",
       "      <td>109.00</td>\n",
       "      <td>0.64</td>\n",
       "      <td>0.67</td>\n",
       "      <td>0.01</td>\n",
       "      <td>0.14</td>\n",
       "      <td>0.38</td>\n",
       "      <td>0.90</td>\n",
       "      <td>2.95</td>\n",
       "    </tr>\n",
       "    <tr>\n",
       "      <th>simulation</th>\n",
       "      <td>42.00</td>\n",
       "      <td>2,015.19</td>\n",
       "      <td>0.80</td>\n",
       "      <td>2,014.00</td>\n",
       "      <td>2,015.00</td>\n",
       "      <td>2,015.00</td>\n",
       "      <td>2,016.00</td>\n",
       "      <td>2,016.00</td>\n",
       "      <td>42.00</td>\n",
       "      <td>0.03</td>\n",
       "      <td>...</td>\n",
       "      <td>7.38</td>\n",
       "      <td>8.90</td>\n",
       "      <td>42.00</td>\n",
       "      <td>0.17</td>\n",
       "      <td>0.23</td>\n",
       "      <td>0.01</td>\n",
       "      <td>0.02</td>\n",
       "      <td>0.08</td>\n",
       "      <td>0.21</td>\n",
       "      <td>1.19</td>\n",
       "    </tr>\n",
       "    <tr>\n",
       "      <th>sports</th>\n",
       "      <td>154.00</td>\n",
       "      <td>2,014.97</td>\n",
       "      <td>0.80</td>\n",
       "      <td>2,014.00</td>\n",
       "      <td>2,014.00</td>\n",
       "      <td>2,015.00</td>\n",
       "      <td>2,016.00</td>\n",
       "      <td>2,016.00</td>\n",
       "      <td>154.00</td>\n",
       "      <td>0.24</td>\n",
       "      <td>...</td>\n",
       "      <td>6.72</td>\n",
       "      <td>8.80</td>\n",
       "      <td>154.00</td>\n",
       "      <td>0.47</td>\n",
       "      <td>0.64</td>\n",
       "      <td>0.01</td>\n",
       "      <td>0.06</td>\n",
       "      <td>0.17</td>\n",
       "      <td>0.60</td>\n",
       "      <td>2.92</td>\n",
       "    </tr>\n",
       "    <tr>\n",
       "      <th>strategy</th>\n",
       "      <td>37.00</td>\n",
       "      <td>2,015.14</td>\n",
       "      <td>0.75</td>\n",
       "      <td>2,014.00</td>\n",
       "      <td>2,015.00</td>\n",
       "      <td>2,015.00</td>\n",
       "      <td>2,016.00</td>\n",
       "      <td>2,016.00</td>\n",
       "      <td>37.00</td>\n",
       "      <td>0.03</td>\n",
       "      <td>...</td>\n",
       "      <td>7.92</td>\n",
       "      <td>8.30</td>\n",
       "      <td>37.00</td>\n",
       "      <td>0.11</td>\n",
       "      <td>0.12</td>\n",
       "      <td>0.01</td>\n",
       "      <td>0.03</td>\n",
       "      <td>0.06</td>\n",
       "      <td>0.14</td>\n",
       "      <td>0.52</td>\n",
       "    </tr>\n",
       "  </tbody>\n",
       "</table>\n",
       "<p>12 rows × 64 columns</p>\n",
       "</div>"
      ],
      "text/plain": [
       "             year_of_release                                           \\\n",
       "                       count     mean  std      min      25%      50%   \n",
       "genre                                                                   \n",
       "action                608.00 2,014.99 0.77 2,014.00 2,014.00 2,015.00   \n",
       "adventure             185.00 2,014.90 0.84 2,014.00 2,014.00 2,015.00   \n",
       "fighting               58.00 2,014.91 0.80 2,014.00 2,014.00 2,015.00   \n",
       "misc                  111.00 2,014.93 0.81 2,014.00 2,014.00 2,015.00   \n",
       "platform               37.00 2,015.14 0.82 2,014.00 2,014.00 2,015.00   \n",
       "puzzle                 14.00 2,014.57 0.65 2,014.00 2,014.00 2,014.50   \n",
       "racing                 68.00 2,014.97 0.86 2,014.00 2,014.00 2,015.00   \n",
       "role-playing          214.00 2,014.85 0.79 2,014.00 2,014.00 2,015.00   \n",
       "shooter               109.00 2,015.04 0.87 2,014.00 2,014.00 2,015.00   \n",
       "simulation             42.00 2,015.19 0.80 2,014.00 2,015.00 2,015.00   \n",
       "sports                154.00 2,014.97 0.80 2,014.00 2,014.00 2,015.00   \n",
       "strategy               37.00 2,015.14 0.75 2,014.00 2,015.00 2,015.00   \n",
       "\n",
       "                               na_sales       ... user_score      total_sales  \\\n",
       "                  75%      max    count mean  ...        75%  max       count   \n",
       "genre                                         ...                               \n",
       "action       2,016.00 2,016.00   608.00 0.09  ...       7.70 9.00      608.00   \n",
       "adventure    2,016.00 2,016.00   185.00 0.03  ...       8.40 9.30      185.00   \n",
       "fighting     2,016.00 2,016.00    58.00 0.11  ...       7.80 8.70       58.00   \n",
       "misc         2,016.00 2,016.00   111.00 0.10  ...       8.00 8.70      111.00   \n",
       "platform     2,016.00 2,016.00    37.00 0.15  ...       8.22 8.90       37.00   \n",
       "puzzle       2,015.00 2,016.00    14.00 0.05  ...       8.45 8.60       14.00   \n",
       "racing       2,016.00 2,016.00    68.00 0.08  ...       7.47 8.70       68.00   \n",
       "role-playing 2,015.00 2,016.00   214.00 0.09  ...       8.10 9.30      214.00   \n",
       "shooter      2,016.00 2,016.00   109.00 0.30  ...       7.70 8.50      109.00   \n",
       "simulation   2,016.00 2,016.00    42.00 0.03  ...       7.38 8.90       42.00   \n",
       "sports       2,016.00 2,016.00   154.00 0.24  ...       6.72 8.80      154.00   \n",
       "strategy     2,016.00 2,016.00    37.00 0.03  ...       7.92 8.30       37.00   \n",
       "\n",
       "                                                 \n",
       "             mean  std  min  25%  50%  75%  max  \n",
       "genre                                            \n",
       "action       0.24 0.40 0.01 0.03 0.08 0.26 2.96  \n",
       "adventure    0.09 0.20 0.01 0.02 0.03 0.08 1.66  \n",
       "fighting     0.27 0.45 0.01 0.06 0.11 0.31 2.78  \n",
       "misc         0.25 0.42 0.01 0.03 0.09 0.32 2.76  \n",
       "platform     0.40 0.57 0.01 0.06 0.14 0.34 1.91  \n",
       "puzzle       0.16 0.32 0.01 0.02 0.04 0.10 1.19  \n",
       "racing       0.30 0.51 0.01 0.03 0.09 0.24 2.42  \n",
       "role-playing 0.28 0.41 0.01 0.05 0.11 0.30 2.68  \n",
       "shooter      0.64 0.67 0.01 0.14 0.38 0.90 2.95  \n",
       "simulation   0.17 0.23 0.01 0.02 0.08 0.21 1.19  \n",
       "sports       0.47 0.64 0.01 0.06 0.17 0.60 2.92  \n",
       "strategy     0.11 0.12 0.01 0.03 0.06 0.14 0.52  \n",
       "\n",
       "[12 rows x 64 columns]"
      ]
     },
     "execution_count": 73,
     "metadata": {},
     "output_type": "execute_result"
    }
   ],
   "source": [
    "act_data[act_data['total_sales'] <= 3].groupby('genre').describe()"
   ]
  },
  {
   "cell_type": "markdown",
   "metadata": {},
   "source": [
    "На графиках и по таблице видно:\n",
    "- Игр в стиле Puzzle выпускается очень мало, основная часть игр была продана до 2014 года, есть всего 2 выброса,  максимальная продажа игры - 1.19 млн.\n",
    "- Самый широкий \"ящик\" и самая высокая медиана у жанра Shooter, также именно в этом жанре игра была продана больше всего раз - более 14 млн. Игры в стиле \"стрелялок\" нравятся многим геймерам, их продажи высоки и стабильны долгое время.\n",
    "- Следующий стабильный жанр - Sports. После длинного \"уса\" большое количество выбросов плюс несколько единичных бестселлеров до 9 млн. продаж.\n",
    "- Игры в стиле Action имеют узкий ящик и очень короткий \"ус\", но имеют слишком много кучных выбросов после уса и одну игру с 12 млн. продаж. За счет огромного количества прибыльных выбросов этот жанр на первом месте по суммарной продаваемости игр."
   ]
  },
  {
   "cell_type": "markdown",
   "metadata": {},
   "source": [
    "#### Вывод\n",
    "1. Среди всех платформ есть лидеры по продажам и по выпущенным играм: PS2, DS, PS3, Wii, X360, PSP, PS.\n",
    "2. Игры на одной платформе популярны примерно 10 лет. С 2007 года появляются конкурирующие платформы, выпуск игр увеличивается.\n",
    "3. За последние 2,5 года (анализируемые данные) платформы-лидеры по продажам: PS4, XOne, 3DS, PS3, X360.\n",
    "4. Платформа Wii была с самыми долгими стабильными высокими продажами, затем ее сменила Wiiu. \n",
    "5. Зависимость между оценками пользователей/критиков и продажами небольшая. Есть игры со средней оценкой, но с высокими продажами. Есть высоко оцененные игры, но с минимальными продажами.\n",
    "6. Самые популярные жанры игр: Action, Role-Playing, Adventure, Sports, Shooter. Меньше всего выпускали игр в жанрах Puzzle, Strategy и Platform. Самый продаваемый жанр - Action.\n",
    "7. Игры в стиле \"стрелялок\" нравятся многим геймерам, их продажи самые высокие и стабильные в течение долгого времени."
   ]
  },
  {
   "cell_type": "markdown",
   "metadata": {},
   "source": [
    "### Портрет пользователя региона\n",
    "В нашем датасете есть данные по продажам в 4-х регионах: Северная Америка (NA), Европа (EU), Япония (JP) и другие страны (other). В данном проекте опишем портрет пользователей игр для трех регионов: NA, EU, JP.\n",
    "\n",
    "#### Популярные жанры\n",
    "Определим самые популярные жанры в разных регионах."
   ]
  },
  {
   "cell_type": "code",
   "execution_count": 74,
   "metadata": {},
   "outputs": [
    {
     "data": {
      "text/html": [
       "<div>\n",
       "<style scoped>\n",
       "    .dataframe tbody tr th:only-of-type {\n",
       "        vertical-align: middle;\n",
       "    }\n",
       "\n",
       "    .dataframe tbody tr th {\n",
       "        vertical-align: top;\n",
       "    }\n",
       "\n",
       "    .dataframe thead th {\n",
       "        text-align: right;\n",
       "    }\n",
       "</style>\n",
       "<table border=\"1\" class=\"dataframe\">\n",
       "  <thead>\n",
       "    <tr style=\"text-align: right;\">\n",
       "      <th></th>\n",
       "      <th>eu_sales</th>\n",
       "      <th>jp_sales</th>\n",
       "      <th>na_sales</th>\n",
       "    </tr>\n",
       "    <tr>\n",
       "      <th>genre</th>\n",
       "      <th></th>\n",
       "      <th></th>\n",
       "      <th></th>\n",
       "    </tr>\n",
       "  </thead>\n",
       "  <tbody>\n",
       "    <tr>\n",
       "      <th>action</th>\n",
       "      <td>74.68</td>\n",
       "      <td>29.58</td>\n",
       "      <td>72.53</td>\n",
       "    </tr>\n",
       "    <tr>\n",
       "      <th>adventure</th>\n",
       "      <td>6.49</td>\n",
       "      <td>3.60</td>\n",
       "      <td>5.64</td>\n",
       "    </tr>\n",
       "    <tr>\n",
       "      <th>fighting</th>\n",
       "      <td>6.69</td>\n",
       "      <td>6.37</td>\n",
       "      <td>12.43</td>\n",
       "    </tr>\n",
       "    <tr>\n",
       "      <th>misc</th>\n",
       "      <td>12.86</td>\n",
       "      <td>5.61</td>\n",
       "      <td>15.05</td>\n",
       "    </tr>\n",
       "    <tr>\n",
       "      <th>platform</th>\n",
       "      <td>6.80</td>\n",
       "      <td>2.69</td>\n",
       "      <td>6.79</td>\n",
       "    </tr>\n",
       "    <tr>\n",
       "      <th>puzzle</th>\n",
       "      <td>0.52</td>\n",
       "      <td>0.93</td>\n",
       "      <td>0.65</td>\n",
       "    </tr>\n",
       "    <tr>\n",
       "      <th>racing</th>\n",
       "      <td>14.13</td>\n",
       "      <td>1.76</td>\n",
       "      <td>8.74</td>\n",
       "    </tr>\n",
       "    <tr>\n",
       "      <th>role-playing</th>\n",
       "      <td>28.17</td>\n",
       "      <td>31.16</td>\n",
       "      <td>33.47</td>\n",
       "    </tr>\n",
       "    <tr>\n",
       "      <th>shooter</th>\n",
       "      <td>65.52</td>\n",
       "      <td>4.87</td>\n",
       "      <td>79.02</td>\n",
       "    </tr>\n",
       "    <tr>\n",
       "      <th>simulation</th>\n",
       "      <td>7.30</td>\n",
       "      <td>2.31</td>\n",
       "      <td>2.63</td>\n",
       "    </tr>\n",
       "    <tr>\n",
       "      <th>sports</th>\n",
       "      <td>45.73</td>\n",
       "      <td>3.26</td>\n",
       "      <td>46.13</td>\n",
       "    </tr>\n",
       "    <tr>\n",
       "      <th>strategy</th>\n",
       "      <td>1.79</td>\n",
       "      <td>0.95</td>\n",
       "      <td>0.98</td>\n",
       "    </tr>\n",
       "  </tbody>\n",
       "</table>\n",
       "</div>"
      ],
      "text/plain": [
       "              eu_sales  jp_sales  na_sales\n",
       "genre                                     \n",
       "action           74.68     29.58     72.53\n",
       "adventure         6.49      3.60      5.64\n",
       "fighting          6.69      6.37     12.43\n",
       "misc             12.86      5.61     15.05\n",
       "platform          6.80      2.69      6.79\n",
       "puzzle            0.52      0.93      0.65\n",
       "racing           14.13      1.76      8.74\n",
       "role-playing     28.17     31.16     33.47\n",
       "shooter          65.52      4.87     79.02\n",
       "simulation        7.30      2.31      2.63\n",
       "sports           45.73      3.26     46.13\n",
       "strategy          1.79      0.95      0.98"
      ]
     },
     "execution_count": 74,
     "metadata": {},
     "output_type": "execute_result"
    }
   ],
   "source": [
    "# сгруппируем игры по жанрам и по общей сумме продаж в каждом регионе\n",
    "genre_reg = act_data.pivot_table(index='genre', values=['na_sales', 'eu_sales', 'jp_sales'],\\\n",
    "                                 aggfunc='sum')\n",
    "genre_reg"
   ]
  },
  {
   "cell_type": "code",
   "execution_count": 75,
   "metadata": {},
   "outputs": [
    {
     "data": {
      "image/png": "[encoded data removed]",
      "text/plain": [
       "<Figure size 864x360 with 1 Axes>"
      ]
     },
     "metadata": {
      "needs_background": "light"
     },
     "output_type": "display_data"
    }
   ],
   "source": [
    "# построим график для наглядности\n",
    "genre_reg.plot(kind='bar', figsize=(12,5))\n",
    "plt.xlabel('Жанры игр')\n",
    "plt.ylabel('Количество продаж')\n",
    "plt.title('Количество продаж игр по жанрам в регионах');"
   ]
  },
  {
   "cell_type": "markdown",
   "metadata": {},
   "source": [
    "Теперь выделим в каждом регионе топ-5 жанров, остальные жанры объединим в одну категорию other. Добавим новые столбцы для каждого региона."
   ]
  },
  {
   "cell_type": "code",
   "execution_count": 76,
   "metadata": {},
   "outputs": [
    {
     "data": {
      "text/plain": [
       "genre\n",
       "shooter        79.02\n",
       "action         72.53\n",
       "sports         46.13\n",
       "role-playing   33.47\n",
       "misc           15.05\n",
       "fighting       12.43\n",
       "racing          8.74\n",
       "platform        6.79\n",
       "adventure       5.64\n",
       "simulation      2.63\n",
       "strategy        0.98\n",
       "puzzle          0.65\n",
       "Name: na_sales, dtype: float64"
      ]
     },
     "execution_count": 76,
     "metadata": {},
     "output_type": "execute_result"
    }
   ],
   "source": [
    "# NA регион\n",
    "act_data.groupby('genre')['na_sales'].sum().sort_values(ascending=False)"
   ]
  },
  {
   "cell_type": "code",
   "execution_count": 77,
   "metadata": {},
   "outputs": [
    {
     "name": "stderr",
     "output_type": "stream",
     "text": [
      "/var/folders/d6/grrmgpcj0rl9170z0dgjjhc80000gn/T/ipykernel_43100/231359992.py:17: SettingWithCopyWarning: \n",
      "A value is trying to be set on a copy of a slice from a DataFrame.\n",
      "Try using .loc[row_indexer,col_indexer] = value instead\n",
      "\n",
      "See the caveats in the documentation: https://pandas.pydata.org/pandas-docs/stable/user_guide/indexing.html#returning-a-view-versus-a-copy\n",
      "  act_data['top5_na'] = act_data['genre'].apply(top_genre_na)\n"
     ]
    }
   ],
   "source": [
    "# создадим функцию, которая для жанров не топ-5 NA присваивает категорию other в отдельном столбце\n",
    "def top_genre_na(row):\n",
    "        if 'shooter' in row:\n",
    "            return 'shooter'\n",
    "        elif 'action' in row:\n",
    "            return 'action'\n",
    "        elif 'sports' in row:\n",
    "            return 'sports'\n",
    "        elif 'role-playing' in row:\n",
    "            return 'role-playing'\n",
    "        elif 'misc' in row:\n",
    "            return 'misc'\n",
    "        else:\n",
    "            return 'other'\n",
    "\n",
    "# Создадим столбец с жанром для топ-5 и других, применив функцию   \n",
    "act_data['top5_na'] = act_data['genre'].apply(top_genre_na)\n",
    "\n",
    "# Проверим столбец\n",
    "#act_data['top5_na'].head(20)"
   ]
  },
  {
   "cell_type": "code",
   "execution_count": 78,
   "metadata": {
    "scrolled": true
   },
   "outputs": [
    {
     "data": {
      "text/plain": [
       "genre\n",
       "action         74.68\n",
       "shooter        65.52\n",
       "sports         45.73\n",
       "role-playing   28.17\n",
       "racing         14.13\n",
       "misc           12.86\n",
       "simulation      7.30\n",
       "platform        6.80\n",
       "fighting        6.69\n",
       "adventure       6.49\n",
       "strategy        1.79\n",
       "puzzle          0.52\n",
       "Name: eu_sales, dtype: float64"
      ]
     },
     "execution_count": 78,
     "metadata": {},
     "output_type": "execute_result"
    }
   ],
   "source": [
    "# EU регион\n",
    "act_data.groupby('genre')['eu_sales'].sum().sort_values(ascending=False)"
   ]
  },
  {
   "cell_type": "code",
   "execution_count": 79,
   "metadata": {},
   "outputs": [
    {
     "name": "stderr",
     "output_type": "stream",
     "text": [
      "/var/folders/d6/grrmgpcj0rl9170z0dgjjhc80000gn/T/ipykernel_43100/3817011439.py:17: SettingWithCopyWarning: \n",
      "A value is trying to be set on a copy of a slice from a DataFrame.\n",
      "Try using .loc[row_indexer,col_indexer] = value instead\n",
      "\n",
      "See the caveats in the documentation: https://pandas.pydata.org/pandas-docs/stable/user_guide/indexing.html#returning-a-view-versus-a-copy\n",
      "  act_data['top5_eu'] = act_data['genre'].apply(top_genre_eu)\n"
     ]
    }
   ],
   "source": [
    "# создадим функцию, которая для жанров не топ-5 EU присваивает категорию other в отдельном столбце\n",
    "def top_genre_eu(row):\n",
    "        if 'shooter' in row:\n",
    "            return 'shooter'\n",
    "        elif 'action' in row:\n",
    "            return 'action'\n",
    "        elif 'sports' in row:\n",
    "            return 'sports'\n",
    "        elif 'role-playing' in row:\n",
    "            return 'role-playing'\n",
    "        elif 'racing' in row:\n",
    "            return 'racing'\n",
    "        else:\n",
    "            return 'other'\n",
    "\n",
    "# Создадим столбец с жанром для топ-5 и других, применив функцию   \n",
    "act_data['top5_eu'] = act_data['genre'].apply(top_genre_eu)\n",
    "\n",
    "# Проверим столбец\n",
    "#act_data['top5_eu'].head(20)"
   ]
  },
  {
   "cell_type": "code",
   "execution_count": 80,
   "metadata": {
    "scrolled": true
   },
   "outputs": [
    {
     "data": {
      "text/plain": [
       "genre\n",
       "role-playing   31.16\n",
       "action         29.58\n",
       "fighting        6.37\n",
       "misc            5.61\n",
       "shooter         4.87\n",
       "adventure       3.60\n",
       "sports          3.26\n",
       "platform        2.69\n",
       "simulation      2.31\n",
       "racing          1.76\n",
       "strategy        0.95\n",
       "puzzle          0.93\n",
       "Name: jp_sales, dtype: float64"
      ]
     },
     "execution_count": 80,
     "metadata": {},
     "output_type": "execute_result"
    }
   ],
   "source": [
    "# JP регион\n",
    "act_data.groupby('genre')['jp_sales'].sum().sort_values(ascending=False)"
   ]
  },
  {
   "cell_type": "code",
   "execution_count": 81,
   "metadata": {
    "scrolled": true
   },
   "outputs": [
    {
     "name": "stderr",
     "output_type": "stream",
     "text": [
      "/var/folders/d6/grrmgpcj0rl9170z0dgjjhc80000gn/T/ipykernel_43100/2713583582.py:17: SettingWithCopyWarning: \n",
      "A value is trying to be set on a copy of a slice from a DataFrame.\n",
      "Try using .loc[row_indexer,col_indexer] = value instead\n",
      "\n",
      "See the caveats in the documentation: https://pandas.pydata.org/pandas-docs/stable/user_guide/indexing.html#returning-a-view-versus-a-copy\n",
      "  act_data['top5_jp'] = act_data['genre'].apply(top_genre_jp)\n"
     ]
    }
   ],
   "source": [
    "# создадим функцию, которая для жанров не топ-5 JP присваивает категорию other в отдельном столбце\n",
    "def top_genre_jp(row):\n",
    "        if 'shooter' in row:\n",
    "            return 'shooter'\n",
    "        elif 'action' in row:\n",
    "            return 'action'\n",
    "        elif 'fighting' in row:\n",
    "            return 'fighting'\n",
    "        elif 'role-playing' in row:\n",
    "            return 'role-playing'\n",
    "        elif 'misc' in row:\n",
    "            return 'misc'\n",
    "        else:\n",
    "            return 'other'\n",
    "\n",
    "# Создадим столбец с жанром для топ-5 и других, применив функцию   \n",
    "act_data['top5_jp'] = act_data['genre'].apply(top_genre_jp)\n",
    "\n",
    "# Проверим столбец\n",
    "#act_data['top5_jp'].head(20)"
   ]
  },
  {
   "cell_type": "code",
   "execution_count": 82,
   "metadata": {},
   "outputs": [
    {
     "data": {
      "image/png": "[encoded data removed]",
      "text/plain": [
       "<Figure size 864x360 with 3 Axes>"
      ]
     },
     "metadata": {
      "needs_background": "light"
     },
     "output_type": "display_data"
    }
   ],
   "source": [
    "# строим 3 графика для наглядности\n",
    "axes = plt.subplots(figsize=(12,5))\n",
    "#не сообразила, как добавить общий заголовок для всех трех графиков\n",
    "#plt.title('Продажи игр по топ-5 жанрам в разных регионах')\n",
    "#axes.set_title('Продажи игр по топ-5 жанрам в разных регионах')\n",
    "\n",
    "plt.subplot(1, 3, 1)\n",
    "act_data.groupby('top5_na')['na_sales'].sum().sort_values(ascending=False)\\\n",
    "    .plot(kind='bar', color='r')\n",
    "plt.title('NA')\n",
    "\n",
    "plt.subplot(1, 3, 2)\n",
    "act_data.groupby('top5_eu')['eu_sales'].sum().sort_values(ascending=False).plot(kind='bar')\n",
    "plt.title('EU')\n",
    "\n",
    "plt.subplot(1, 3, 3)\n",
    "act_data.groupby('top5_jp')['jp_sales'].sum().sort_values(ascending=False)\\\n",
    "    .plot(kind='bar', color='g')\n",
    "plt.title('JP');"
   ]
  },
  {
   "cell_type": "markdown",
   "metadata": {},
   "source": [
    "Топ-5 жанров:\n",
    "- в Северной Америке: Shooter, Action, Sports, Role-Playing, Misc \n",
    "- в Европе: Action, Shooter, Sports, Role-Playing, Racing\n",
    "- в Японии: Role-Playing, Action, Fighting, Misc, Shooter\n",
    "\n",
    "В NA больше всего любят Shooter, в EU - Action, в JP - Role-Playing."
   ]
  },
  {
   "cell_type": "code",
   "execution_count": 83,
   "metadata": {},
   "outputs": [
    {
     "data": {
      "text/plain": [
       "0.5288802623653035"
      ]
     },
     "execution_count": 83,
     "metadata": {},
     "output_type": "execute_result"
    }
   ],
   "source": [
    "# посчитаем долю продаж игр Shooter в NA относительно всех продаж игр Shooter\n",
    "genre_reg['na_sales'].values[8] / (genre_reg['na_sales'].values[8] + genre_reg['eu_sales'].values[8] + genre_reg['jp_sales'].values[8])"
   ]
  },
  {
   "cell_type": "markdown",
   "metadata": {},
   "source": [
    "Больше половины игр жанра Shooter было продано в NA. С увеличением популярности фильмов в стиле \"стрелялок\" и культом \"супергероев\" стали популярны и видеоигры в этом стиле. Обычно в игре много врагов, хорошие спецэффекты, куча разного оружия. Диалоги в игре уходят на второй план, главное - победить всех врагов."
   ]
  },
  {
   "cell_type": "code",
   "execution_count": 84,
   "metadata": {},
   "outputs": [
    {
     "data": {
      "text/plain": [
       "0.33577586206896554"
      ]
     },
     "execution_count": 84,
     "metadata": {},
     "output_type": "execute_result"
    }
   ],
   "source": [
    "# посчитаем долю продаж игр Role-Playing в JP относительно всех продаж игр Role-Playing\n",
    "genre_reg['jp_sales'].values[7] / (genre_reg['na_sales'].values[7] + genre_reg['eu_sales'].values[7] + genre_reg['jp_sales'].values[7])"
   ]
  },
  {
   "cell_type": "code",
   "execution_count": 85,
   "metadata": {},
   "outputs": [
    {
     "data": {
      "text/plain": [
       "0.33472983134600925"
      ]
     },
     "execution_count": 85,
     "metadata": {},
     "output_type": "execute_result"
    }
   ],
   "source": [
    "# посчитаем долю продаж игр Role-Playing в JP относительно всех продаж в JP\n",
    "genre_reg['jp_sales'].values[7] / sum(genre_reg['jp_sales'])"
   ]
  },
  {
   "cell_type": "markdown",
   "metadata": {},
   "source": [
    "Больше трети всех игр жанра Role-Playing было продано в Японии, это самый популярный жанр в Японии среди всех игр - 30%. Японцы больше любят \"квестовые\" игры со сложным развивающимся сюжетом и с возможностью создавать и \"прокачивать\" своих персонажей, чтобы в игре можно было развивать разные способности и навыки, взаимодействовать с другими персонажами."
   ]
  },
  {
   "cell_type": "markdown",
   "metadata": {},
   "source": [
    "#### Популярные платформы\n",
    "Определим самые популярные платформы в разных регионах."
   ]
  },
  {
   "cell_type": "code",
   "execution_count": 86,
   "metadata": {},
   "outputs": [
    {
     "data": {
      "text/html": [
       "<div>\n",
       "<style scoped>\n",
       "    .dataframe tbody tr th:only-of-type {\n",
       "        vertical-align: middle;\n",
       "    }\n",
       "\n",
       "    .dataframe tbody tr th {\n",
       "        vertical-align: top;\n",
       "    }\n",
       "\n",
       "    .dataframe thead th {\n",
       "        text-align: right;\n",
       "    }\n",
       "</style>\n",
       "<table border=\"1\" class=\"dataframe\">\n",
       "  <thead>\n",
       "    <tr style=\"text-align: right;\">\n",
       "      <th></th>\n",
       "      <th>eu_sales</th>\n",
       "      <th>jp_sales</th>\n",
       "      <th>na_sales</th>\n",
       "    </tr>\n",
       "    <tr>\n",
       "      <th>platform</th>\n",
       "      <th></th>\n",
       "      <th></th>\n",
       "      <th></th>\n",
       "    </tr>\n",
       "  </thead>\n",
       "  <tbody>\n",
       "    <tr>\n",
       "      <th>3ds</th>\n",
       "      <td>16.12</td>\n",
       "      <td>44.24</td>\n",
       "      <td>22.64</td>\n",
       "    </tr>\n",
       "    <tr>\n",
       "      <th>pc</th>\n",
       "      <td>17.97</td>\n",
       "      <td>0.00</td>\n",
       "      <td>7.23</td>\n",
       "    </tr>\n",
       "    <tr>\n",
       "      <th>ps3</th>\n",
       "      <td>25.54</td>\n",
       "      <td>11.22</td>\n",
       "      <td>22.05</td>\n",
       "    </tr>\n",
       "    <tr>\n",
       "      <th>ps4</th>\n",
       "      <td>130.04</td>\n",
       "      <td>15.02</td>\n",
       "      <td>98.61</td>\n",
       "    </tr>\n",
       "    <tr>\n",
       "      <th>psp</th>\n",
       "      <td>0.00</td>\n",
       "      <td>0.36</td>\n",
       "      <td>0.00</td>\n",
       "    </tr>\n",
       "    <tr>\n",
       "      <th>psv</th>\n",
       "      <td>3.53</td>\n",
       "      <td>14.54</td>\n",
       "      <td>2.52</td>\n",
       "    </tr>\n",
       "    <tr>\n",
       "      <th>wii</th>\n",
       "      <td>2.59</td>\n",
       "      <td>0.00</td>\n",
       "      <td>2.08</td>\n",
       "    </tr>\n",
       "    <tr>\n",
       "      <th>wiiu</th>\n",
       "      <td>13.15</td>\n",
       "      <td>7.31</td>\n",
       "      <td>19.36</td>\n",
       "    </tr>\n",
       "    <tr>\n",
       "      <th>x360</th>\n",
       "      <td>15.49</td>\n",
       "      <td>0.08</td>\n",
       "      <td>28.30</td>\n",
       "    </tr>\n",
       "    <tr>\n",
       "      <th>xone</th>\n",
       "      <td>46.25</td>\n",
       "      <td>0.32</td>\n",
       "      <td>81.27</td>\n",
       "    </tr>\n",
       "  </tbody>\n",
       "</table>\n",
       "</div>"
      ],
      "text/plain": [
       "          eu_sales  jp_sales  na_sales\n",
       "platform                              \n",
       "3ds          16.12     44.24     22.64\n",
       "pc           17.97      0.00      7.23\n",
       "ps3          25.54     11.22     22.05\n",
       "ps4         130.04     15.02     98.61\n",
       "psp           0.00      0.36      0.00\n",
       "psv           3.53     14.54      2.52\n",
       "wii           2.59      0.00      2.08\n",
       "wiiu         13.15      7.31     19.36\n",
       "x360         15.49      0.08     28.30\n",
       "xone         46.25      0.32     81.27"
      ]
     },
     "execution_count": 86,
     "metadata": {},
     "output_type": "execute_result"
    }
   ],
   "source": [
    "# сгруппируем игры по платформам и по общей сумме продаж в каждом регионе\n",
    "plat_reg = act_data.pivot_table(index='platform', \\\n",
    "                                values=['na_sales', 'eu_sales', 'jp_sales'], aggfunc='sum')\n",
    "plat_reg"
   ]
  },
  {
   "cell_type": "code",
   "execution_count": 87,
   "metadata": {},
   "outputs": [
    {
     "data": {
      "image/png": "[encoded data removed]",
      "text/plain": [
       "<Figure size 864x360 with 1 Axes>"
      ]
     },
     "metadata": {
      "needs_background": "light"
     },
     "output_type": "display_data"
    }
   ],
   "source": [
    "plat_reg.plot(kind='bar', figsize=(12,5))\n",
    "plt.xlabel('Платформы')\n",
    "plt.ylabel('Количество продаж игр')\n",
    "plt.title('Количество продаж игр по платформам в регионах');"
   ]
  },
  {
   "cell_type": "markdown",
   "metadata": {},
   "source": [
    "Теперь выделим в каждом регионе топ-5 платформ, остальные платформы объединим в одну категорию other. Добавим новые столбцы для каждого региона."
   ]
  },
  {
   "cell_type": "code",
   "execution_count": 88,
   "metadata": {
    "scrolled": true
   },
   "outputs": [
    {
     "data": {
      "text/plain": [
       "platform\n",
       "ps4    98.61\n",
       "xone   81.27\n",
       "x360   28.30\n",
       "3ds    22.64\n",
       "ps3    22.05\n",
       "wiiu   19.36\n",
       "pc      7.23\n",
       "psv     2.52\n",
       "wii     2.08\n",
       "psp     0.00\n",
       "Name: na_sales, dtype: float64"
      ]
     },
     "execution_count": 88,
     "metadata": {},
     "output_type": "execute_result"
    }
   ],
   "source": [
    "# NA регион\n",
    "act_data.groupby('platform')['na_sales'].sum().sort_values(ascending=False)"
   ]
  },
  {
   "cell_type": "code",
   "execution_count": 89,
   "metadata": {},
   "outputs": [
    {
     "name": "stderr",
     "output_type": "stream",
     "text": [
      "/var/folders/d6/grrmgpcj0rl9170z0dgjjhc80000gn/T/ipykernel_43100/1571228164.py:17: SettingWithCopyWarning: \n",
      "A value is trying to be set on a copy of a slice from a DataFrame.\n",
      "Try using .loc[row_indexer,col_indexer] = value instead\n",
      "\n",
      "See the caveats in the documentation: https://pandas.pydata.org/pandas-docs/stable/user_guide/indexing.html#returning-a-view-versus-a-copy\n",
      "  act_data['plat5_na'] = act_data['platform'].apply(top_plat_na)\n"
     ]
    }
   ],
   "source": [
    "# создадим функцию, которая для платформ не топ-5 NA присваивает категорию other в отдельном столбце\n",
    "def top_plat_na(row):\n",
    "        if 'ps4' in row:\n",
    "            return 'ps4'\n",
    "        elif 'xone' in row:\n",
    "            return 'xone'\n",
    "        elif 'x360' in row:\n",
    "            return 'x360'\n",
    "        elif '3ds' in row:\n",
    "            return '3ds'\n",
    "        elif 'ps3' in row:\n",
    "            return 'ps3'\n",
    "        else:\n",
    "            return 'other'\n",
    "\n",
    "# Создадим столбец с платформой для топ-5 и других, применив функцию   \n",
    "act_data['plat5_na'] = act_data['platform'].apply(top_plat_na)\n",
    "\n",
    "# Проверим столбец\n",
    "#act_data['plat5_na'].head(10)"
   ]
  },
  {
   "cell_type": "code",
   "execution_count": 90,
   "metadata": {
    "scrolled": true
   },
   "outputs": [
    {
     "data": {
      "text/plain": [
       "platform\n",
       "ps4    130.04\n",
       "xone    46.25\n",
       "ps3     25.54\n",
       "pc      17.97\n",
       "3ds     16.12\n",
       "x360    15.49\n",
       "wiiu    13.15\n",
       "psv      3.53\n",
       "wii      2.59\n",
       "psp      0.00\n",
       "Name: eu_sales, dtype: float64"
      ]
     },
     "execution_count": 90,
     "metadata": {},
     "output_type": "execute_result"
    }
   ],
   "source": [
    "# EU регион\n",
    "act_data.groupby('platform')['eu_sales'].sum().sort_values(ascending=False)"
   ]
  },
  {
   "cell_type": "code",
   "execution_count": 91,
   "metadata": {},
   "outputs": [
    {
     "name": "stderr",
     "output_type": "stream",
     "text": [
      "/var/folders/d6/grrmgpcj0rl9170z0dgjjhc80000gn/T/ipykernel_43100/4270696720.py:17: SettingWithCopyWarning: \n",
      "A value is trying to be set on a copy of a slice from a DataFrame.\n",
      "Try using .loc[row_indexer,col_indexer] = value instead\n",
      "\n",
      "See the caveats in the documentation: https://pandas.pydata.org/pandas-docs/stable/user_guide/indexing.html#returning-a-view-versus-a-copy\n",
      "  act_data['plat5_eu'] = act_data['platform'].apply(top_plat_eu)\n"
     ]
    }
   ],
   "source": [
    "# создадим функцию, которая для платформ не топ-5 EU присваивает категорию other в отдельном столбце\n",
    "def top_plat_eu(row):\n",
    "        if 'ps4' in row:\n",
    "            return 'ps4'\n",
    "        elif 'xone' in row:\n",
    "            return 'xone'\n",
    "        elif 'pc' in row:\n",
    "            return 'pc'\n",
    "        elif '3ds' in row:\n",
    "            return '3ds'\n",
    "        elif 'ps3' in row:\n",
    "            return 'ps3'\n",
    "        else:\n",
    "            return 'other'\n",
    "\n",
    "# Создадим столбец с платформой для топ-5 и других, применив функцию   \n",
    "act_data['plat5_eu'] = act_data['platform'].apply(top_plat_eu)\n",
    "\n",
    "# Проверим столбец\n",
    "#act_data['plat5_eu'].head(10)"
   ]
  },
  {
   "cell_type": "code",
   "execution_count": 92,
   "metadata": {},
   "outputs": [
    {
     "data": {
      "text/plain": [
       "platform\n",
       "3ds    44.24\n",
       "ps4    15.02\n",
       "psv    14.54\n",
       "ps3    11.22\n",
       "wiiu    7.31\n",
       "psp     0.36\n",
       "xone    0.32\n",
       "x360    0.08\n",
       "pc      0.00\n",
       "wii     0.00\n",
       "Name: jp_sales, dtype: float64"
      ]
     },
     "execution_count": 92,
     "metadata": {},
     "output_type": "execute_result"
    }
   ],
   "source": [
    "# JP регион\n",
    "act_data.groupby('platform')['jp_sales'].sum().sort_values(ascending=False)"
   ]
  },
  {
   "cell_type": "code",
   "execution_count": 93,
   "metadata": {},
   "outputs": [
    {
     "name": "stderr",
     "output_type": "stream",
     "text": [
      "/var/folders/d6/grrmgpcj0rl9170z0dgjjhc80000gn/T/ipykernel_43100/1766222222.py:17: SettingWithCopyWarning: \n",
      "A value is trying to be set on a copy of a slice from a DataFrame.\n",
      "Try using .loc[row_indexer,col_indexer] = value instead\n",
      "\n",
      "See the caveats in the documentation: https://pandas.pydata.org/pandas-docs/stable/user_guide/indexing.html#returning-a-view-versus-a-copy\n",
      "  act_data['plat5_jp'] = act_data['platform'].apply(top_plat_jp)\n"
     ]
    }
   ],
   "source": [
    "# создадим функцию, которая для платформ не топ-5 JP присваивает категорию other в отдельном столбце\n",
    "def top_plat_jp(row):\n",
    "        if 'ps4' in row:\n",
    "            return 'ps4'\n",
    "        elif 'psv' in row:\n",
    "            return 'psv'\n",
    "        elif 'wiiu' in row:\n",
    "            return 'wiiu'\n",
    "        elif '3ds' in row:\n",
    "            return '3ds'\n",
    "        elif 'ps3' in row:\n",
    "            return 'ps3'\n",
    "        else:\n",
    "            return 'other'\n",
    "\n",
    "# Создадим столбец с платформой для топ-5 и других, применив функцию   \n",
    "act_data['plat5_jp'] = act_data['platform'].apply(top_plat_jp)\n",
    "\n",
    "# Проверим столбец\n",
    "#act_data['plat5_jp'].head(10)"
   ]
  },
  {
   "cell_type": "code",
   "execution_count": 94,
   "metadata": {},
   "outputs": [
    {
     "data": {
      "image/png": "[encoded data removed]",
      "text/plain": [
       "<Figure size 864x360 with 3 Axes>"
      ]
     },
     "metadata": {
      "needs_background": "light"
     },
     "output_type": "display_data"
    }
   ],
   "source": [
    "# строим 3 графика для наглядности\n",
    "axes = plt.subplots(figsize=(12,5))\n",
    "#не сообразила, как добавить общий заголовок для всех трех графиков\n",
    "#plt.title('Продажи игр по топ-5 платформам в разных регионах')\n",
    "#axes.set_title('Продажи игр по топ-5 платформам в разных регионах')\n",
    "\n",
    "plt.suptitle('Продажи игр по топ-5 платформам в разных регионах')\n",
    "\n",
    "plt.subplot(1, 3, 1)\n",
    "act_data.groupby('plat5_na')['na_sales'].sum().sort_values(ascending=False)\\\n",
    "    .plot(kind='bar', color='r')\n",
    "plt.title('NA')\n",
    "\n",
    "plt.subplot(1, 3, 2)\n",
    "act_data.groupby('plat5_eu')['eu_sales'].sum().sort_values(ascending=False).plot(kind='bar')\n",
    "plt.title('EU')\n",
    "\n",
    "plt.subplot(1, 3, 3)\n",
    "act_data.groupby('plat5_jp')['jp_sales'].sum().sort_values(ascending=False)\\\n",
    "    .plot(kind='bar', color='g')\n",
    "plt.title('JP');"
   ]
  },
  {
   "cell_type": "markdown",
   "metadata": {},
   "source": [
    "Топ-5 платформ в разных регионах:\n",
    "- в NA: PS4, XOne, X360, 3DS, PS3 \n",
    "- в EU: PS4, XOne, PS3, PC, 3DS\n",
    "- в JP: 3DS, PS4, PSV, PS3, Wiiu \n",
    "\n",
    "Самой популярной платформой в NA и в EU является PS4 компании Sony, а в Японии она на втором месте после 3DS компании Nintendo. В NA и в EU 3DS всего лишь на 4-м и 5-м месте по популярности. Также в NA и в EU популярна XOne, а в Японии игры на этих платформах совсем непопулярны."
   ]
  },
  {
   "cell_type": "code",
   "execution_count": 95,
   "metadata": {},
   "outputs": [
    {
     "data": {
      "text/plain": [
       "0.4046866663930726"
      ]
     },
     "execution_count": 95,
     "metadata": {},
     "output_type": "execute_result"
    }
   ],
   "source": [
    "# посчитаем долю продаж игр на платформе PS4 в NA относительно всех регионов\n",
    "plat_reg['na_sales'].values[3] / (plat_reg['na_sales'].values[3] + \\\n",
    "                                  plat_reg['eu_sales'].values[3] + \\\n",
    "                                  plat_reg['jp_sales'].values[3])"
   ]
  },
  {
   "cell_type": "code",
   "execution_count": 96,
   "metadata": {},
   "outputs": [
    {
     "data": {
      "text/plain": [
       "0.5336725899782493"
      ]
     },
     "execution_count": 96,
     "metadata": {},
     "output_type": "execute_result"
    }
   ],
   "source": [
    "# посчитаем долю продаж игр на платформе PS4 в EU относительно всех регионов\n",
    "plat_reg['eu_sales'].values[3] / (plat_reg['na_sales'].values[3] + \\\n",
    "                                  plat_reg['eu_sales'].values[3] + \\\n",
    "                                  plat_reg['jp_sales'].values[3])"
   ]
  },
  {
   "cell_type": "code",
   "execution_count": 97,
   "metadata": {},
   "outputs": [
    {
     "data": {
      "text/plain": [
       "0.06164074362867813"
      ]
     },
     "execution_count": 97,
     "metadata": {},
     "output_type": "execute_result"
    }
   ],
   "source": [
    "# посчитаем долю продаж игр на платформе PS4 в JP относительно всех регионов\n",
    "plat_reg['jp_sales'].values[3] / (plat_reg['na_sales'].values[3] + \\\n",
    "                                  plat_reg['eu_sales'].values[3] + \\\n",
    "                                  plat_reg['jp_sales'].values[3])"
   ]
  },
  {
   "cell_type": "markdown",
   "metadata": {},
   "source": [
    "53% всех игр на платформе PS4 продано в Европе, 40% в Северной Америке и только 6% в Японии."
   ]
  },
  {
   "cell_type": "code",
   "execution_count": 98,
   "metadata": {},
   "outputs": [
    {
     "data": {
      "text/plain": [
       "0.4752390160060157"
      ]
     },
     "execution_count": 98,
     "metadata": {},
     "output_type": "execute_result"
    }
   ],
   "source": [
    "# посчитаем долю продаж игр на платформе 3DS в JP относительно всех продаж в JP\n",
    "plat_reg['jp_sales'].values[0] / sum(plat_reg['jp_sales'])"
   ]
  },
  {
   "cell_type": "markdown",
   "metadata": {},
   "source": [
    "Самая популярная платформа в Японии 3DS занимает 47% продаж от всех других платформ."
   ]
  },
  {
   "cell_type": "code",
   "execution_count": 99,
   "metadata": {},
   "outputs": [
    {
     "data": {
      "text/plain": [
       "0.6357165206508135"
      ]
     },
     "execution_count": 99,
     "metadata": {},
     "output_type": "execute_result"
    }
   ],
   "source": [
    "# посчитаем долю продаж игр на платформе XOne в NA относительно всех регионов\n",
    "plat_reg['na_sales'].values[9] / (plat_reg['na_sales'].values[9] + \\\n",
    "                                  plat_reg['eu_sales'].values[9] + \\\n",
    "                                  plat_reg['jp_sales'].values[9])"
   ]
  },
  {
   "cell_type": "code",
   "execution_count": 100,
   "metadata": {},
   "outputs": [
    {
     "data": {
      "text/plain": [
       "0.36178035043804757"
      ]
     },
     "execution_count": 100,
     "metadata": {},
     "output_type": "execute_result"
    }
   ],
   "source": [
    "# посчитаем долю продаж игр на платформе XOne в EU относительно всех регионов\n",
    "plat_reg['eu_sales'].values[9] / (plat_reg['na_sales'].values[9] + plat_reg['eu_sales']\\\n",
    "                                  .values[9] + plat_reg['jp_sales'].values[9])"
   ]
  },
  {
   "cell_type": "code",
   "execution_count": 101,
   "metadata": {},
   "outputs": [
    {
     "data": {
      "text/plain": [
       "0.0025031289111389237"
      ]
     },
     "execution_count": 101,
     "metadata": {},
     "output_type": "execute_result"
    }
   ],
   "source": [
    "# посчитаем долю продаж игр на платформе XOne в JP относительно всех регионов\n",
    "plat_reg['jp_sales'].values[9] / (plat_reg['na_sales'].values[9] + plat_reg['eu_sales']\\\n",
    "                                  .values[9] + plat_reg['jp_sales'].values[9])"
   ]
  },
  {
   "cell_type": "markdown",
   "metadata": {},
   "source": [
    "63% продаж всех игр на платформе XOne приходится на Северную Америку, 36% на Европу и 0,2% на Японию."
   ]
  },
  {
   "cell_type": "markdown",
   "metadata": {},
   "source": [
    "#### Рейтинг ESRB \n",
    "Рассмотрим все типы рейтинга ESRB"
   ]
  },
  {
   "cell_type": "code",
   "execution_count": 102,
   "metadata": {},
   "outputs": [
    {
     "data": {
      "text/plain": [
       "array(['no rating', 'm', 'e', 't', 'e10+'], dtype=object)"
      ]
     },
     "execution_count": 102,
     "metadata": {},
     "output_type": "execute_result"
    }
   ],
   "source": [
    "act_data['rating'].unique()"
   ]
  },
  {
   "cell_type": "markdown",
   "metadata": {},
   "source": [
    "Расшифровка:\n",
    "- E - для всех возрастов\n",
    "- M - материалы игры не подходят для подростков младше 17 лет\n",
    "- T - игра подходит для лиц от 13 лет\n",
    "- E10+ - для всех от 10 лет и старше\n",
    "- no rating - рейтинг не присвоен или ожидается"
   ]
  },
  {
   "cell_type": "code",
   "execution_count": 103,
   "metadata": {},
   "outputs": [
    {
     "data": {
      "text/plain": [
       "no rating    749\n",
       "t            271\n",
       "m            265\n",
       "e            219\n",
       "e10+         185\n",
       "Name: rating, dtype: int64"
      ]
     },
     "execution_count": 103,
     "metadata": {},
     "output_type": "execute_result"
    }
   ],
   "source": [
    "act_data['rating'].value_counts()"
   ]
  },
  {
   "cell_type": "code",
   "execution_count": 104,
   "metadata": {},
   "outputs": [
    {
     "data": {
      "image/png": "[encoded data removed]",
      "text/plain": [
       "<Figure size 432x288 with 1 Axes>"
      ]
     },
     "metadata": {
      "needs_background": "light"
     },
     "output_type": "display_data"
    }
   ],
   "source": [
    "# график для наглядности\n",
    "act_data['rating'].hist();"
   ]
  },
  {
   "cell_type": "markdown",
   "metadata": {},
   "source": [
    "Больше всего игр без рейтинга (мы сами присвоили играм этот рейтинг, так как было много пропущенных значений, не обращаем внимание на это значение). \n",
    "Среди игр с рейтингом почти одинаковое количество игр для подростков (13+) и для взрослых (17+). Меньше всех игр для детей от 10+."
   ]
  },
  {
   "cell_type": "code",
   "execution_count": 105,
   "metadata": {},
   "outputs": [
    {
     "data": {
      "text/plain": [
       "rating\n",
       "m           226.54\n",
       "no rating   198.97\n",
       "e           133.13\n",
       "t            99.13\n",
       "e10+         71.68\n",
       "Name: total_sales, dtype: float64"
      ]
     },
     "execution_count": 105,
     "metadata": {},
     "output_type": "execute_result"
    }
   ],
   "source": [
    "# посчитаем сумму продаж игр с разным рейтингом\n",
    "act_data.groupby('rating')['total_sales'].sum().sort_values(ascending=False)"
   ]
  },
  {
   "cell_type": "code",
   "execution_count": 106,
   "metadata": {},
   "outputs": [
    {
     "data": {
      "image/png": "[encoded data removed]",
      "text/plain": [
       "<Figure size 432x288 with 1 Axes>"
      ]
     },
     "metadata": {
      "needs_background": "light"
     },
     "output_type": "display_data"
    }
   ],
   "source": [
    "# график для наглядности\n",
    "act_data.groupby('rating')['total_sales'].sum().sort_values(ascending=False)\\\n",
    ".plot(kind='bar');"
   ]
  },
  {
   "cell_type": "markdown",
   "metadata": {},
   "source": [
    "Больше всего продаж игр для взрослых (17+), на втором месте - игры без рейтинга, затем игры для всех возрастов."
   ]
  },
  {
   "cell_type": "code",
   "execution_count": 107,
   "metadata": {},
   "outputs": [
    {
     "data": {
      "text/html": [
       "<div>\n",
       "<style scoped>\n",
       "    .dataframe tbody tr th:only-of-type {\n",
       "        vertical-align: middle;\n",
       "    }\n",
       "\n",
       "    .dataframe tbody tr th {\n",
       "        vertical-align: top;\n",
       "    }\n",
       "\n",
       "    .dataframe thead th {\n",
       "        text-align: right;\n",
       "    }\n",
       "</style>\n",
       "<table border=\"1\" class=\"dataframe\">\n",
       "  <thead>\n",
       "    <tr style=\"text-align: right;\">\n",
       "      <th></th>\n",
       "      <th>name</th>\n",
       "      <th>platform</th>\n",
       "      <th>year_of_release</th>\n",
       "      <th>genre</th>\n",
       "      <th>na_sales</th>\n",
       "      <th>eu_sales</th>\n",
       "      <th>jp_sales</th>\n",
       "      <th>other_sales</th>\n",
       "      <th>critic_score</th>\n",
       "      <th>user_score</th>\n",
       "      <th>rating</th>\n",
       "      <th>total_sales</th>\n",
       "      <th>top5_na</th>\n",
       "      <th>top5_eu</th>\n",
       "      <th>top5_jp</th>\n",
       "      <th>plat5_na</th>\n",
       "      <th>plat5_eu</th>\n",
       "      <th>plat5_jp</th>\n",
       "    </tr>\n",
       "  </thead>\n",
       "  <tbody>\n",
       "    <tr>\n",
       "      <th>31</th>\n",
       "      <td>call of duty: black ops 3</td>\n",
       "      <td>ps4</td>\n",
       "      <td>2015</td>\n",
       "      <td>shooter</td>\n",
       "      <td>6.03</td>\n",
       "      <td>5.86</td>\n",
       "      <td>0.36</td>\n",
       "      <td>2.38</td>\n",
       "      <td>NaN</td>\n",
       "      <td>NaN</td>\n",
       "      <td>no rating</td>\n",
       "      <td>14.63</td>\n",
       "      <td>shooter</td>\n",
       "      <td>shooter</td>\n",
       "      <td>shooter</td>\n",
       "      <td>ps4</td>\n",
       "      <td>ps4</td>\n",
       "      <td>ps4</td>\n",
       "    </tr>\n",
       "    <tr>\n",
       "      <th>47</th>\n",
       "      <td>pokemon omega ruby/pokemon alpha sapphire</td>\n",
       "      <td>3ds</td>\n",
       "      <td>2014</td>\n",
       "      <td>role-playing</td>\n",
       "      <td>4.35</td>\n",
       "      <td>3.49</td>\n",
       "      <td>3.10</td>\n",
       "      <td>0.74</td>\n",
       "      <td>NaN</td>\n",
       "      <td>NaN</td>\n",
       "      <td>no rating</td>\n",
       "      <td>11.68</td>\n",
       "      <td>role-playing</td>\n",
       "      <td>role-playing</td>\n",
       "      <td>role-playing</td>\n",
       "      <td>3ds</td>\n",
       "      <td>3ds</td>\n",
       "      <td>3ds</td>\n",
       "    </tr>\n",
       "    <tr>\n",
       "      <th>87</th>\n",
       "      <td>star wars battlefront (2015)</td>\n",
       "      <td>ps4</td>\n",
       "      <td>2015</td>\n",
       "      <td>shooter</td>\n",
       "      <td>2.99</td>\n",
       "      <td>3.49</td>\n",
       "      <td>0.22</td>\n",
       "      <td>1.28</td>\n",
       "      <td>NaN</td>\n",
       "      <td>NaN</td>\n",
       "      <td>no rating</td>\n",
       "      <td>7.98</td>\n",
       "      <td>shooter</td>\n",
       "      <td>shooter</td>\n",
       "      <td>shooter</td>\n",
       "      <td>ps4</td>\n",
       "      <td>ps4</td>\n",
       "      <td>ps4</td>\n",
       "    </tr>\n",
       "    <tr>\n",
       "      <th>96</th>\n",
       "      <td>super smash bros. for wii u and 3ds</td>\n",
       "      <td>3ds</td>\n",
       "      <td>2014</td>\n",
       "      <td>fighting</td>\n",
       "      <td>3.27</td>\n",
       "      <td>1.37</td>\n",
       "      <td>2.43</td>\n",
       "      <td>0.48</td>\n",
       "      <td>NaN</td>\n",
       "      <td>NaN</td>\n",
       "      <td>no rating</td>\n",
       "      <td>7.55</td>\n",
       "      <td>other</td>\n",
       "      <td>other</td>\n",
       "      <td>fighting</td>\n",
       "      <td>3ds</td>\n",
       "      <td>3ds</td>\n",
       "      <td>3ds</td>\n",
       "    </tr>\n",
       "    <tr>\n",
       "      <th>99</th>\n",
       "      <td>call of duty: black ops 3</td>\n",
       "      <td>xone</td>\n",
       "      <td>2015</td>\n",
       "      <td>shooter</td>\n",
       "      <td>4.59</td>\n",
       "      <td>2.11</td>\n",
       "      <td>0.01</td>\n",
       "      <td>0.68</td>\n",
       "      <td>NaN</td>\n",
       "      <td>NaN</td>\n",
       "      <td>no rating</td>\n",
       "      <td>7.39</td>\n",
       "      <td>shooter</td>\n",
       "      <td>shooter</td>\n",
       "      <td>shooter</td>\n",
       "      <td>xone</td>\n",
       "      <td>xone</td>\n",
       "      <td>other</td>\n",
       "    </tr>\n",
       "    <tr>\n",
       "      <th>...</th>\n",
       "      <td>...</td>\n",
       "      <td>...</td>\n",
       "      <td>...</td>\n",
       "      <td>...</td>\n",
       "      <td>...</td>\n",
       "      <td>...</td>\n",
       "      <td>...</td>\n",
       "      <td>...</td>\n",
       "      <td>...</td>\n",
       "      <td>...</td>\n",
       "      <td>...</td>\n",
       "      <td>...</td>\n",
       "      <td>...</td>\n",
       "      <td>...</td>\n",
       "      <td>...</td>\n",
       "      <td>...</td>\n",
       "      <td>...</td>\n",
       "      <td>...</td>\n",
       "    </tr>\n",
       "    <tr>\n",
       "      <th>16703</th>\n",
       "      <td>strawberry nauts</td>\n",
       "      <td>psv</td>\n",
       "      <td>2016</td>\n",
       "      <td>adventure</td>\n",
       "      <td>0.00</td>\n",
       "      <td>0.00</td>\n",
       "      <td>0.01</td>\n",
       "      <td>0.00</td>\n",
       "      <td>NaN</td>\n",
       "      <td>NaN</td>\n",
       "      <td>no rating</td>\n",
       "      <td>0.01</td>\n",
       "      <td>other</td>\n",
       "      <td>other</td>\n",
       "      <td>other</td>\n",
       "      <td>other</td>\n",
       "      <td>other</td>\n",
       "      <td>psv</td>\n",
       "    </tr>\n",
       "    <tr>\n",
       "      <th>16707</th>\n",
       "      <td>aiyoku no eustia</td>\n",
       "      <td>psv</td>\n",
       "      <td>2014</td>\n",
       "      <td>misc</td>\n",
       "      <td>0.00</td>\n",
       "      <td>0.00</td>\n",
       "      <td>0.01</td>\n",
       "      <td>0.00</td>\n",
       "      <td>NaN</td>\n",
       "      <td>NaN</td>\n",
       "      <td>no rating</td>\n",
       "      <td>0.01</td>\n",
       "      <td>misc</td>\n",
       "      <td>other</td>\n",
       "      <td>misc</td>\n",
       "      <td>other</td>\n",
       "      <td>other</td>\n",
       "      <td>psv</td>\n",
       "    </tr>\n",
       "    <tr>\n",
       "      <th>16710</th>\n",
       "      <td>samurai warriors: sanada maru</td>\n",
       "      <td>ps3</td>\n",
       "      <td>2016</td>\n",
       "      <td>action</td>\n",
       "      <td>0.00</td>\n",
       "      <td>0.00</td>\n",
       "      <td>0.01</td>\n",
       "      <td>0.00</td>\n",
       "      <td>NaN</td>\n",
       "      <td>NaN</td>\n",
       "      <td>no rating</td>\n",
       "      <td>0.01</td>\n",
       "      <td>action</td>\n",
       "      <td>action</td>\n",
       "      <td>action</td>\n",
       "      <td>ps3</td>\n",
       "      <td>ps3</td>\n",
       "      <td>ps3</td>\n",
       "    </tr>\n",
       "    <tr>\n",
       "      <th>16712</th>\n",
       "      <td>haitaka no psychedelica</td>\n",
       "      <td>psv</td>\n",
       "      <td>2016</td>\n",
       "      <td>adventure</td>\n",
       "      <td>0.00</td>\n",
       "      <td>0.00</td>\n",
       "      <td>0.01</td>\n",
       "      <td>0.00</td>\n",
       "      <td>NaN</td>\n",
       "      <td>NaN</td>\n",
       "      <td>no rating</td>\n",
       "      <td>0.01</td>\n",
       "      <td>other</td>\n",
       "      <td>other</td>\n",
       "      <td>other</td>\n",
       "      <td>other</td>\n",
       "      <td>other</td>\n",
       "      <td>psv</td>\n",
       "    </tr>\n",
       "    <tr>\n",
       "      <th>16714</th>\n",
       "      <td>winning post 8 2016</td>\n",
       "      <td>psv</td>\n",
       "      <td>2016</td>\n",
       "      <td>simulation</td>\n",
       "      <td>0.00</td>\n",
       "      <td>0.00</td>\n",
       "      <td>0.01</td>\n",
       "      <td>0.00</td>\n",
       "      <td>NaN</td>\n",
       "      <td>NaN</td>\n",
       "      <td>no rating</td>\n",
       "      <td>0.01</td>\n",
       "      <td>other</td>\n",
       "      <td>other</td>\n",
       "      <td>other</td>\n",
       "      <td>other</td>\n",
       "      <td>other</td>\n",
       "      <td>psv</td>\n",
       "    </tr>\n",
       "  </tbody>\n",
       "</table>\n",
       "<p>749 rows × 18 columns</p>\n",
       "</div>"
      ],
      "text/plain": [
       "                                            name platform  year_of_release  \\\n",
       "31                     call of duty: black ops 3      ps4             2015   \n",
       "47     pokemon omega ruby/pokemon alpha sapphire      3ds             2014   \n",
       "87                  star wars battlefront (2015)      ps4             2015   \n",
       "96           super smash bros. for wii u and 3ds      3ds             2014   \n",
       "99                     call of duty: black ops 3     xone             2015   \n",
       "...                                          ...      ...              ...   \n",
       "16703                           strawberry nauts      psv             2016   \n",
       "16707                           aiyoku no eustia      psv             2014   \n",
       "16710              samurai warriors: sanada maru      ps3             2016   \n",
       "16712                    haitaka no psychedelica      psv             2016   \n",
       "16714                        winning post 8 2016      psv             2016   \n",
       "\n",
       "              genre  na_sales  eu_sales  jp_sales  other_sales  critic_score  \\\n",
       "31          shooter      6.03      5.86      0.36         2.38           NaN   \n",
       "47     role-playing      4.35      3.49      3.10         0.74           NaN   \n",
       "87          shooter      2.99      3.49      0.22         1.28           NaN   \n",
       "96         fighting      3.27      1.37      2.43         0.48           NaN   \n",
       "99          shooter      4.59      2.11      0.01         0.68           NaN   \n",
       "...             ...       ...       ...       ...          ...           ...   \n",
       "16703     adventure      0.00      0.00      0.01         0.00           NaN   \n",
       "16707          misc      0.00      0.00      0.01         0.00           NaN   \n",
       "16710        action      0.00      0.00      0.01         0.00           NaN   \n",
       "16712     adventure      0.00      0.00      0.01         0.00           NaN   \n",
       "16714    simulation      0.00      0.00      0.01         0.00           NaN   \n",
       "\n",
       "       user_score     rating  total_sales       top5_na       top5_eu  \\\n",
       "31            NaN  no rating        14.63       shooter       shooter   \n",
       "47            NaN  no rating        11.68  role-playing  role-playing   \n",
       "87            NaN  no rating         7.98       shooter       shooter   \n",
       "96            NaN  no rating         7.55         other         other   \n",
       "99            NaN  no rating         7.39       shooter       shooter   \n",
       "...           ...        ...          ...           ...           ...   \n",
       "16703         NaN  no rating         0.01         other         other   \n",
       "16707         NaN  no rating         0.01          misc         other   \n",
       "16710         NaN  no rating         0.01        action        action   \n",
       "16712         NaN  no rating         0.01         other         other   \n",
       "16714         NaN  no rating         0.01         other         other   \n",
       "\n",
       "            top5_jp plat5_na plat5_eu plat5_jp  \n",
       "31          shooter      ps4      ps4      ps4  \n",
       "47     role-playing      3ds      3ds      3ds  \n",
       "87          shooter      ps4      ps4      ps4  \n",
       "96         fighting      3ds      3ds      3ds  \n",
       "99          shooter     xone     xone    other  \n",
       "...             ...      ...      ...      ...  \n",
       "16703         other    other    other      psv  \n",
       "16707          misc    other    other      psv  \n",
       "16710        action      ps3      ps3      ps3  \n",
       "16712         other    other    other      psv  \n",
       "16714         other    other    other      psv  \n",
       "\n",
       "[749 rows x 18 columns]"
      ]
     },
     "execution_count": 107,
     "metadata": {},
     "output_type": "execute_result"
    }
   ],
   "source": [
    "# выберем все игры без рейтинга\n",
    "no_rating = act_data[act_data['rating'] == 'no rating']\n",
    "no_rating"
   ]
  },
  {
   "cell_type": "code",
   "execution_count": 108,
   "metadata": {},
   "outputs": [
    {
     "data": {
      "text/plain": [
       "0.22783918890375268"
      ]
     },
     "execution_count": 108,
     "metadata": {},
     "output_type": "execute_result"
    }
   ],
   "source": [
    "# доля продаж игр с рейтингом и без (no rating) в NA\n",
    "no_rating['na_sales'].sum() / act_data['na_sales'].sum()"
   ]
  },
  {
   "cell_type": "code",
   "execution_count": 109,
   "metadata": {},
   "outputs": [
    {
     "data": {
      "text/plain": [
       "0.2177848381853111"
      ]
     },
     "execution_count": 109,
     "metadata": {},
     "output_type": "execute_result"
    }
   ],
   "source": [
    "# доля продаж игр с рейтингом и без в EU\n",
    "no_rating['eu_sales'].sum() / act_data['eu_sales'].sum()"
   ]
  },
  {
   "cell_type": "code",
   "execution_count": 110,
   "metadata": {},
   "outputs": [
    {
     "data": {
      "text/plain": [
       "0.6112364378558384"
      ]
     },
     "execution_count": 110,
     "metadata": {},
     "output_type": "execute_result"
    }
   ],
   "source": [
    "# доля продаж игр с рейтингом и без в JP\n",
    "no_rating['jp_sales'].sum() / act_data['jp_sales'].sum()"
   ]
  },
  {
   "cell_type": "code",
   "execution_count": 111,
   "metadata": {},
   "outputs": [
    {
     "data": {
      "text/plain": [
       "0.443457667258733"
      ]
     },
     "execution_count": 111,
     "metadata": {},
     "output_type": "execute_result"
    }
   ],
   "source": [
    "# доля игр без рейтинга ко всем играм\n",
    "no_rating.shape[0] / act_data.shape[0]"
   ]
  },
  {
   "cell_type": "markdown",
   "metadata": {},
   "source": [
    "Рейтинг ESRB присвоен чуть больше половине всех игр (56%). В NA и в EU доля купленных игр с рейтингом составляет 78% и 79% соответственно. В Японии только 39% проданных игр имеют рейтинг ESRB."
   ]
  },
  {
   "cell_type": "code",
   "execution_count": 112,
   "metadata": {},
   "outputs": [
    {
     "data": {
      "text/plain": [
       "rating\n",
       "e           50.74\n",
       "e10+        33.23\n",
       "m           96.42\n",
       "no rating   64.72\n",
       "t           38.95\n",
       "Name: na_sales, dtype: float64"
      ]
     },
     "execution_count": 112,
     "metadata": {},
     "output_type": "execute_result"
    }
   ],
   "source": [
    "# суммы проданных игр с рейтином в NA\n",
    "act_data.groupby('rating')['na_sales'].sum()"
   ]
  },
  {
   "cell_type": "code",
   "execution_count": 113,
   "metadata": {},
   "outputs": [
    {
     "data": {
      "text/plain": [
       "rating\n",
       "e           58.06\n",
       "e10+        26.16\n",
       "m           93.44\n",
       "no rating   58.95\n",
       "t           34.07\n",
       "Name: eu_sales, dtype: float64"
      ]
     },
     "execution_count": 113,
     "metadata": {},
     "output_type": "execute_result"
    }
   ],
   "source": [
    "# суммы проданных игр с рейтином в EU\n",
    "act_data.groupby('rating')['eu_sales'].sum()"
   ]
  },
  {
   "cell_type": "code",
   "execution_count": 114,
   "metadata": {},
   "outputs": [
    {
     "data": {
      "text/plain": [
       "rating\n",
       "e            8.94\n",
       "e10+         4.46\n",
       "m            8.01\n",
       "no rating   56.90\n",
       "t           14.78\n",
       "Name: jp_sales, dtype: float64"
      ]
     },
     "execution_count": 114,
     "metadata": {},
     "output_type": "execute_result"
    }
   ],
   "source": [
    "# суммы проданных игр с рейтином в JP\n",
    "act_data.groupby('rating')['jp_sales'].sum()"
   ]
  },
  {
   "cell_type": "code",
   "execution_count": 115,
   "metadata": {},
   "outputs": [
    {
     "data": {
      "text/html": [
       "<div>\n",
       "<style scoped>\n",
       "    .dataframe tbody tr th:only-of-type {\n",
       "        vertical-align: middle;\n",
       "    }\n",
       "\n",
       "    .dataframe tbody tr th {\n",
       "        vertical-align: top;\n",
       "    }\n",
       "\n",
       "    .dataframe thead th {\n",
       "        text-align: right;\n",
       "    }\n",
       "</style>\n",
       "<table border=\"1\" class=\"dataframe\">\n",
       "  <thead>\n",
       "    <tr style=\"text-align: right;\">\n",
       "      <th></th>\n",
       "      <th>eu_sales</th>\n",
       "      <th>jp_sales</th>\n",
       "      <th>na_sales</th>\n",
       "    </tr>\n",
       "    <tr>\n",
       "      <th>rating</th>\n",
       "      <th></th>\n",
       "      <th></th>\n",
       "      <th></th>\n",
       "    </tr>\n",
       "  </thead>\n",
       "  <tbody>\n",
       "    <tr>\n",
       "      <th>e</th>\n",
       "      <td>58.06</td>\n",
       "      <td>8.94</td>\n",
       "      <td>50.74</td>\n",
       "    </tr>\n",
       "    <tr>\n",
       "      <th>e10+</th>\n",
       "      <td>26.16</td>\n",
       "      <td>4.46</td>\n",
       "      <td>33.23</td>\n",
       "    </tr>\n",
       "    <tr>\n",
       "      <th>m</th>\n",
       "      <td>93.44</td>\n",
       "      <td>8.01</td>\n",
       "      <td>96.42</td>\n",
       "    </tr>\n",
       "    <tr>\n",
       "      <th>no rating</th>\n",
       "      <td>58.95</td>\n",
       "      <td>56.90</td>\n",
       "      <td>64.72</td>\n",
       "    </tr>\n",
       "    <tr>\n",
       "      <th>t</th>\n",
       "      <td>34.07</td>\n",
       "      <td>14.78</td>\n",
       "      <td>38.95</td>\n",
       "    </tr>\n",
       "  </tbody>\n",
       "</table>\n",
       "</div>"
      ],
      "text/plain": [
       "           eu_sales  jp_sales  na_sales\n",
       "rating                                 \n",
       "e             58.06      8.94     50.74\n",
       "e10+          26.16      4.46     33.23\n",
       "m             93.44      8.01     96.42\n",
       "no rating     58.95     56.90     64.72\n",
       "t             34.07     14.78     38.95"
      ]
     },
     "execution_count": 115,
     "metadata": {},
     "output_type": "execute_result"
    }
   ],
   "source": [
    "# сгруппируем игры по рейтингу и по общей сумме продаж в каждом регионе\n",
    "rat_reg = act_data.pivot_table(index='rating', \\\n",
    "                               values=['na_sales', 'eu_sales', 'jp_sales'], aggfunc='sum')\n",
    "rat_reg"
   ]
  },
  {
   "cell_type": "code",
   "execution_count": 116,
   "metadata": {},
   "outputs": [
    {
     "data": {
      "image/png": "[encoded data removed]",
      "text/plain": [
       "<Figure size 864x360 with 1 Axes>"
      ]
     },
     "metadata": {
      "needs_background": "light"
     },
     "output_type": "display_data"
    }
   ],
   "source": [
    "# для наглядности\n",
    "rat_reg.plot(kind='bar', figsize=(12,5))\n",
    "plt.title('Продажи игр по рейтингу ESRB в разных регионах')\n",
    "plt.xlabel('Рейтинг ESRB')\n",
    "plt.ylabel('Количество продаж игр');"
   ]
  },
  {
   "cell_type": "markdown",
   "metadata": {},
   "source": [
    "Среди проданных игр с рейтингом в NA и в EU лидируют игры для взрослых (17+), в JP - для подростков (13+)."
   ]
  },
  {
   "cell_type": "markdown",
   "metadata": {},
   "source": [
    "#### Вывод\n",
    "В разных регионах игры продаются по-разному:\n",
    "1. В NA больше всего любят Shooter, в EU - Action, в JP - Role-Playing.\n",
    "2. Больше половины игр жанра Shooter было продано в NA. Больше трети всех игр жанра Role-Playing было продано в Японии, это самый популярный жанр в Японии среди всех игр - 30%.\n",
    "3. В разных регионах популярны разные платформы. Самой популярной платформой в NA и в EU является PS4 компании Sony, а в Японии - 3DS компании Nintendo. Также в NA и в EU популярна XOne, а в Японии игры на этих платформах совсем непопулярны.\n",
    "4. Рейтинг ESRB присвоен чуть больше половине всех игр (56%). В NA и в EU доля купленных игр с рейтингом составляет 78% и 79% соответственно. В Японии только 39% проданных игр имеют рейтинг ESRB.\n",
    "5. В NA и в EU больше всего продаж игр для взрослых (17+), в JP - игры для подростков (13+). "
   ]
  },
  {
   "cell_type": "markdown",
   "metadata": {},
   "source": [
    "### Проверка гипотез\n",
    "#### Пользовательские рейтинги платформ\n",
    "Проверим, что средние пользовательские рейтинги платформ Xbox One и PC одинаковые. \n",
    "\n",
    "- Нулевая гипотеза H0: cредние пользовательские рейтинги платформ Xbox One и PC равны.\n",
    "- Альтернативная гипотеза H1: средние пользовательские рейтинги платформ Xbox One и PC неравны.\n",
    "\n",
    "Это две разные генеральные совокупности, они не зависят друг от друга. Значения дисперсий могут быть разные, так как сами выборки разного размера, пользователи, которые оставляли оценку играм, могут проживать в разных регионах и иметь разный менталитет. Проверим гипотезу с помощью t-test'a (критерия Стьюдента)."
   ]
  },
  {
   "cell_type": "code",
   "execution_count": 130,
   "metadata": {},
   "outputs": [
    {
     "data": {
      "text/plain": [
       "array([2015, 2014, 2013, 2016])"
      ]
     },
     "execution_count": 130,
     "metadata": {},
     "output_type": "execute_result"
    }
   ],
   "source": [
    "data[data['platform'] == 'xone']['year_of_release'].unique()"
   ]
  },
  {
   "cell_type": "code",
   "execution_count": 131,
   "metadata": {},
   "outputs": [
    {
     "data": {
      "text/plain": [
       "array([2009, 2004, 2012, 1996, 2010, 1995, 1997, 2007, 2011, 2002, 1994,\n",
       "       2014, 2000, 2001, 1992, 1998, 1999, 2003, 2013, 2008, 2015, 2005,\n",
       "       2016, 2006, 1985, 1988])"
      ]
     },
     "execution_count": 131,
     "metadata": {},
     "output_type": "execute_result"
    }
   ],
   "source": [
    "data[data['platform'] == 'pc']['year_of_release'].unique()"
   ]
  },
  {
   "cell_type": "markdown",
   "metadata": {},
   "source": [
    "Игры на этих платформах выпускались в разные годы. Для сравнения нужно выбрать одинаковый период, возьмем все игры с 2013 по 2016 (годы выпуска игр XOne)."
   ]
  },
  {
   "cell_type": "code",
   "execution_count": 132,
   "metadata": {},
   "outputs": [
    {
     "data": {
      "text/html": [
       "<div>\n",
       "<style scoped>\n",
       "    .dataframe tbody tr th:only-of-type {\n",
       "        vertical-align: middle;\n",
       "    }\n",
       "\n",
       "    .dataframe tbody tr th {\n",
       "        vertical-align: top;\n",
       "    }\n",
       "\n",
       "    .dataframe thead th {\n",
       "        text-align: right;\n",
       "    }\n",
       "</style>\n",
       "<table border=\"1\" class=\"dataframe\">\n",
       "  <thead>\n",
       "    <tr style=\"text-align: right;\">\n",
       "      <th></th>\n",
       "      <th>name</th>\n",
       "      <th>platform</th>\n",
       "      <th>year_of_release</th>\n",
       "      <th>genre</th>\n",
       "      <th>na_sales</th>\n",
       "      <th>eu_sales</th>\n",
       "      <th>jp_sales</th>\n",
       "      <th>other_sales</th>\n",
       "      <th>critic_score</th>\n",
       "      <th>user_score</th>\n",
       "      <th>rating</th>\n",
       "      <th>total_sales</th>\n",
       "    </tr>\n",
       "  </thead>\n",
       "  <tbody>\n",
       "    <tr>\n",
       "      <th>165</th>\n",
       "      <td>grand theft auto v</td>\n",
       "      <td>xone</td>\n",
       "      <td>2014</td>\n",
       "      <td>action</td>\n",
       "      <td>2.81</td>\n",
       "      <td>2.19</td>\n",
       "      <td>0.00</td>\n",
       "      <td>0.47</td>\n",
       "      <td>97.00</td>\n",
       "      <td>7.90</td>\n",
       "      <td>m</td>\n",
       "      <td>5.47</td>\n",
       "    </tr>\n",
       "    <tr>\n",
       "      <th>179</th>\n",
       "      <td>call of duty: advanced warfare</td>\n",
       "      <td>xone</td>\n",
       "      <td>2014</td>\n",
       "      <td>shooter</td>\n",
       "      <td>3.22</td>\n",
       "      <td>1.55</td>\n",
       "      <td>0.01</td>\n",
       "      <td>0.48</td>\n",
       "      <td>81.00</td>\n",
       "      <td>5.40</td>\n",
       "      <td>m</td>\n",
       "      <td>5.26</td>\n",
       "    </tr>\n",
       "    <tr>\n",
       "      <th>242</th>\n",
       "      <td>halo 5: guardians</td>\n",
       "      <td>xone</td>\n",
       "      <td>2015</td>\n",
       "      <td>shooter</td>\n",
       "      <td>2.78</td>\n",
       "      <td>1.27</td>\n",
       "      <td>0.03</td>\n",
       "      <td>0.41</td>\n",
       "      <td>84.00</td>\n",
       "      <td>6.40</td>\n",
       "      <td>t</td>\n",
       "      <td>4.49</td>\n",
       "    </tr>\n",
       "    <tr>\n",
       "      <th>270</th>\n",
       "      <td>fallout 4</td>\n",
       "      <td>xone</td>\n",
       "      <td>2015</td>\n",
       "      <td>role-playing</td>\n",
       "      <td>2.51</td>\n",
       "      <td>1.32</td>\n",
       "      <td>0.01</td>\n",
       "      <td>0.38</td>\n",
       "      <td>88.00</td>\n",
       "      <td>6.20</td>\n",
       "      <td>m</td>\n",
       "      <td>4.22</td>\n",
       "    </tr>\n",
       "    <tr>\n",
       "      <th>373</th>\n",
       "      <td>assassin's creed: unity</td>\n",
       "      <td>xone</td>\n",
       "      <td>2014</td>\n",
       "      <td>action</td>\n",
       "      <td>2.27</td>\n",
       "      <td>0.90</td>\n",
       "      <td>0.00</td>\n",
       "      <td>0.33</td>\n",
       "      <td>72.00</td>\n",
       "      <td>4.10</td>\n",
       "      <td>m</td>\n",
       "      <td>3.50</td>\n",
       "    </tr>\n",
       "    <tr>\n",
       "      <th>...</th>\n",
       "      <td>...</td>\n",
       "      <td>...</td>\n",
       "      <td>...</td>\n",
       "      <td>...</td>\n",
       "      <td>...</td>\n",
       "      <td>...</td>\n",
       "      <td>...</td>\n",
       "      <td>...</td>\n",
       "      <td>...</td>\n",
       "      <td>...</td>\n",
       "      <td>...</td>\n",
       "      <td>...</td>\n",
       "    </tr>\n",
       "    <tr>\n",
       "      <th>16544</th>\n",
       "      <td>assassin's creed chronicles</td>\n",
       "      <td>xone</td>\n",
       "      <td>2016</td>\n",
       "      <td>action</td>\n",
       "      <td>0.00</td>\n",
       "      <td>0.01</td>\n",
       "      <td>0.00</td>\n",
       "      <td>0.00</td>\n",
       "      <td>NaN</td>\n",
       "      <td>6.80</td>\n",
       "      <td>t</td>\n",
       "      <td>0.01</td>\n",
       "    </tr>\n",
       "    <tr>\n",
       "      <th>16597</th>\n",
       "      <td>saints row: gat out of hell</td>\n",
       "      <td>xone</td>\n",
       "      <td>2015</td>\n",
       "      <td>action</td>\n",
       "      <td>0.00</td>\n",
       "      <td>0.01</td>\n",
       "      <td>0.00</td>\n",
       "      <td>0.00</td>\n",
       "      <td>65.00</td>\n",
       "      <td>6.00</td>\n",
       "      <td>m</td>\n",
       "      <td>0.01</td>\n",
       "    </tr>\n",
       "    <tr>\n",
       "      <th>16630</th>\n",
       "      <td>sébastien loeb rally evo</td>\n",
       "      <td>xone</td>\n",
       "      <td>2016</td>\n",
       "      <td>racing</td>\n",
       "      <td>0.00</td>\n",
       "      <td>0.01</td>\n",
       "      <td>0.00</td>\n",
       "      <td>0.00</td>\n",
       "      <td>63.00</td>\n",
       "      <td>8.20</td>\n",
       "      <td>e</td>\n",
       "      <td>0.01</td>\n",
       "    </tr>\n",
       "    <tr>\n",
       "      <th>16643</th>\n",
       "      <td>rugby challenge 3</td>\n",
       "      <td>xone</td>\n",
       "      <td>2016</td>\n",
       "      <td>sports</td>\n",
       "      <td>0.00</td>\n",
       "      <td>0.01</td>\n",
       "      <td>0.00</td>\n",
       "      <td>0.00</td>\n",
       "      <td>NaN</td>\n",
       "      <td>6.60</td>\n",
       "      <td>e</td>\n",
       "      <td>0.01</td>\n",
       "    </tr>\n",
       "    <tr>\n",
       "      <th>16660</th>\n",
       "      <td>prison architect</td>\n",
       "      <td>xone</td>\n",
       "      <td>2016</td>\n",
       "      <td>action</td>\n",
       "      <td>0.01</td>\n",
       "      <td>0.00</td>\n",
       "      <td>0.00</td>\n",
       "      <td>0.00</td>\n",
       "      <td>74.00</td>\n",
       "      <td>6.70</td>\n",
       "      <td>no rating</td>\n",
       "      <td>0.01</td>\n",
       "    </tr>\n",
       "  </tbody>\n",
       "</table>\n",
       "<p>182 rows × 12 columns</p>\n",
       "</div>"
      ],
      "text/plain": [
       "                                 name platform  year_of_release         genre  \\\n",
       "165                grand theft auto v     xone             2014        action   \n",
       "179    call of duty: advanced warfare     xone             2014       shooter   \n",
       "242                 halo 5: guardians     xone             2015       shooter   \n",
       "270                         fallout 4     xone             2015  role-playing   \n",
       "373           assassin's creed: unity     xone             2014        action   \n",
       "...                               ...      ...              ...           ...   \n",
       "16544     assassin's creed chronicles     xone             2016        action   \n",
       "16597     saints row: gat out of hell     xone             2015        action   \n",
       "16630        sébastien loeb rally evo     xone             2016        racing   \n",
       "16643               rugby challenge 3     xone             2016        sports   \n",
       "16660                prison architect     xone             2016        action   \n",
       "\n",
       "       na_sales  eu_sales  jp_sales  other_sales  critic_score  user_score  \\\n",
       "165        2.81      2.19      0.00         0.47         97.00        7.90   \n",
       "179        3.22      1.55      0.01         0.48         81.00        5.40   \n",
       "242        2.78      1.27      0.03         0.41         84.00        6.40   \n",
       "270        2.51      1.32      0.01         0.38         88.00        6.20   \n",
       "373        2.27      0.90      0.00         0.33         72.00        4.10   \n",
       "...         ...       ...       ...          ...           ...         ...   \n",
       "16544      0.00      0.01      0.00         0.00           NaN        6.80   \n",
       "16597      0.00      0.01      0.00         0.00         65.00        6.00   \n",
       "16630      0.00      0.01      0.00         0.00         63.00        8.20   \n",
       "16643      0.00      0.01      0.00         0.00           NaN        6.60   \n",
       "16660      0.01      0.00      0.00         0.00         74.00        6.70   \n",
       "\n",
       "          rating  total_sales  \n",
       "165            m         5.47  \n",
       "179            m         5.26  \n",
       "242            t         4.49  \n",
       "270            m         4.22  \n",
       "373            m         3.50  \n",
       "...          ...          ...  \n",
       "16544          t         0.01  \n",
       "16597          m         0.01  \n",
       "16630          e         0.01  \n",
       "16643          e         0.01  \n",
       "16660  no rating         0.01  \n",
       "\n",
       "[182 rows x 12 columns]"
      ]
     },
     "execution_count": 132,
     "metadata": {},
     "output_type": "execute_result"
    }
   ],
   "source": [
    "# выборка игр на XOne с пользовательским рейтингом\n",
    "xbox = data[(data['platform'] == 'xone') & ~(data['user_score'].isna())]\n",
    "xbox"
   ]
  },
  {
   "cell_type": "code",
   "execution_count": 120,
   "metadata": {},
   "outputs": [
    {
     "data": {
      "text/html": [
       "<div>\n",
       "<style scoped>\n",
       "    .dataframe tbody tr th:only-of-type {\n",
       "        vertical-align: middle;\n",
       "    }\n",
       "\n",
       "    .dataframe tbody tr th {\n",
       "        vertical-align: top;\n",
       "    }\n",
       "\n",
       "    .dataframe thead th {\n",
       "        text-align: right;\n",
       "    }\n",
       "</style>\n",
       "<table border=\"1\" class=\"dataframe\">\n",
       "  <thead>\n",
       "    <tr style=\"text-align: right;\">\n",
       "      <th></th>\n",
       "      <th>name</th>\n",
       "      <th>platform</th>\n",
       "      <th>year_of_release</th>\n",
       "      <th>genre</th>\n",
       "      <th>na_sales</th>\n",
       "      <th>eu_sales</th>\n",
       "      <th>jp_sales</th>\n",
       "      <th>other_sales</th>\n",
       "      <th>critic_score</th>\n",
       "      <th>user_score</th>\n",
       "      <th>rating</th>\n",
       "      <th>total_sales</th>\n",
       "    </tr>\n",
       "  </thead>\n",
       "  <tbody>\n",
       "    <tr>\n",
       "      <th>458</th>\n",
       "      <td>the sims 4</td>\n",
       "      <td>pc</td>\n",
       "      <td>2014</td>\n",
       "      <td>simulation</td>\n",
       "      <td>1.00</td>\n",
       "      <td>1.82</td>\n",
       "      <td>0.00</td>\n",
       "      <td>0.23</td>\n",
       "      <td>70.00</td>\n",
       "      <td>3.90</td>\n",
       "      <td>t</td>\n",
       "      <td>3.05</td>\n",
       "    </tr>\n",
       "    <tr>\n",
       "      <th>1095</th>\n",
       "      <td>starcraft ii: heart of the swarm</td>\n",
       "      <td>pc</td>\n",
       "      <td>2013</td>\n",
       "      <td>strategy</td>\n",
       "      <td>0.83</td>\n",
       "      <td>0.66</td>\n",
       "      <td>0.00</td>\n",
       "      <td>0.18</td>\n",
       "      <td>86.00</td>\n",
       "      <td>7.90</td>\n",
       "      <td>t</td>\n",
       "      <td>1.67</td>\n",
       "    </tr>\n",
       "    <tr>\n",
       "      <th>1351</th>\n",
       "      <td>simcity (2013)</td>\n",
       "      <td>pc</td>\n",
       "      <td>2013</td>\n",
       "      <td>simulation</td>\n",
       "      <td>0.48</td>\n",
       "      <td>0.77</td>\n",
       "      <td>0.00</td>\n",
       "      <td>0.17</td>\n",
       "      <td>64.00</td>\n",
       "      <td>2.20</td>\n",
       "      <td>e10+</td>\n",
       "      <td>1.42</td>\n",
       "    </tr>\n",
       "    <tr>\n",
       "      <th>1437</th>\n",
       "      <td>battlefield 4</td>\n",
       "      <td>pc</td>\n",
       "      <td>2013</td>\n",
       "      <td>shooter</td>\n",
       "      <td>0.39</td>\n",
       "      <td>0.87</td>\n",
       "      <td>0.00</td>\n",
       "      <td>0.10</td>\n",
       "      <td>81.00</td>\n",
       "      <td>6.00</td>\n",
       "      <td>m</td>\n",
       "      <td>1.36</td>\n",
       "    </tr>\n",
       "    <tr>\n",
       "      <th>1530</th>\n",
       "      <td>fallout 4</td>\n",
       "      <td>pc</td>\n",
       "      <td>2015</td>\n",
       "      <td>role-playing</td>\n",
       "      <td>0.51</td>\n",
       "      <td>0.67</td>\n",
       "      <td>0.00</td>\n",
       "      <td>0.10</td>\n",
       "      <td>84.00</td>\n",
       "      <td>5.40</td>\n",
       "      <td>m</td>\n",
       "      <td>1.28</td>\n",
       "    </tr>\n",
       "    <tr>\n",
       "      <th>...</th>\n",
       "      <td>...</td>\n",
       "      <td>...</td>\n",
       "      <td>...</td>\n",
       "      <td>...</td>\n",
       "      <td>...</td>\n",
       "      <td>...</td>\n",
       "      <td>...</td>\n",
       "      <td>...</td>\n",
       "      <td>...</td>\n",
       "      <td>...</td>\n",
       "      <td>...</td>\n",
       "      <td>...</td>\n",
       "    </tr>\n",
       "    <tr>\n",
       "      <th>16456</th>\n",
       "      <td>fallout anthology</td>\n",
       "      <td>pc</td>\n",
       "      <td>2015</td>\n",
       "      <td>action</td>\n",
       "      <td>0.00</td>\n",
       "      <td>0.01</td>\n",
       "      <td>0.00</td>\n",
       "      <td>0.00</td>\n",
       "      <td>NaN</td>\n",
       "      <td>8.30</td>\n",
       "      <td>no rating</td>\n",
       "      <td>0.01</td>\n",
       "    </tr>\n",
       "    <tr>\n",
       "      <th>16463</th>\n",
       "      <td>trackmania turbo</td>\n",
       "      <td>pc</td>\n",
       "      <td>2016</td>\n",
       "      <td>action</td>\n",
       "      <td>0.00</td>\n",
       "      <td>0.01</td>\n",
       "      <td>0.00</td>\n",
       "      <td>0.00</td>\n",
       "      <td>79.00</td>\n",
       "      <td>6.80</td>\n",
       "      <td>e</td>\n",
       "      <td>0.01</td>\n",
       "    </tr>\n",
       "    <tr>\n",
       "      <th>16509</th>\n",
       "      <td>ride 2</td>\n",
       "      <td>pc</td>\n",
       "      <td>2016</td>\n",
       "      <td>racing</td>\n",
       "      <td>0.00</td>\n",
       "      <td>0.01</td>\n",
       "      <td>0.00</td>\n",
       "      <td>0.00</td>\n",
       "      <td>78.00</td>\n",
       "      <td>7.90</td>\n",
       "      <td>e</td>\n",
       "      <td>0.01</td>\n",
       "    </tr>\n",
       "    <tr>\n",
       "      <th>16518</th>\n",
       "      <td>rugby world cup 2015</td>\n",
       "      <td>pc</td>\n",
       "      <td>2015</td>\n",
       "      <td>sports</td>\n",
       "      <td>0.00</td>\n",
       "      <td>0.01</td>\n",
       "      <td>0.00</td>\n",
       "      <td>0.00</td>\n",
       "      <td>NaN</td>\n",
       "      <td>1.40</td>\n",
       "      <td>e</td>\n",
       "      <td>0.01</td>\n",
       "    </tr>\n",
       "    <tr>\n",
       "      <th>16692</th>\n",
       "      <td>metal gear solid v: ground zeroes</td>\n",
       "      <td>pc</td>\n",
       "      <td>2014</td>\n",
       "      <td>action</td>\n",
       "      <td>0.00</td>\n",
       "      <td>0.01</td>\n",
       "      <td>0.00</td>\n",
       "      <td>0.00</td>\n",
       "      <td>80.00</td>\n",
       "      <td>7.60</td>\n",
       "      <td>m</td>\n",
       "      <td>0.01</td>\n",
       "    </tr>\n",
       "  </tbody>\n",
       "</table>\n",
       "<p>158 rows × 12 columns</p>\n",
       "</div>"
      ],
      "text/plain": [
       "                                    name platform  year_of_release  \\\n",
       "458                           the sims 4       pc             2014   \n",
       "1095    starcraft ii: heart of the swarm       pc             2013   \n",
       "1351                      simcity (2013)       pc             2013   \n",
       "1437                       battlefield 4       pc             2013   \n",
       "1530                           fallout 4       pc             2015   \n",
       "...                                  ...      ...              ...   \n",
       "16456                  fallout anthology       pc             2015   \n",
       "16463                   trackmania turbo       pc             2016   \n",
       "16509                             ride 2       pc             2016   \n",
       "16518               rugby world cup 2015       pc             2015   \n",
       "16692  metal gear solid v: ground zeroes       pc             2014   \n",
       "\n",
       "              genre  na_sales  eu_sales  jp_sales  other_sales  critic_score  \\\n",
       "458      simulation      1.00      1.82      0.00         0.23         70.00   \n",
       "1095       strategy      0.83      0.66      0.00         0.18         86.00   \n",
       "1351     simulation      0.48      0.77      0.00         0.17         64.00   \n",
       "1437        shooter      0.39      0.87      0.00         0.10         81.00   \n",
       "1530   role-playing      0.51      0.67      0.00         0.10         84.00   \n",
       "...             ...       ...       ...       ...          ...           ...   \n",
       "16456        action      0.00      0.01      0.00         0.00           NaN   \n",
       "16463        action      0.00      0.01      0.00         0.00         79.00   \n",
       "16509        racing      0.00      0.01      0.00         0.00         78.00   \n",
       "16518        sports      0.00      0.01      0.00         0.00           NaN   \n",
       "16692        action      0.00      0.01      0.00         0.00         80.00   \n",
       "\n",
       "       user_score     rating  total_sales  \n",
       "458          3.90          t         3.05  \n",
       "1095         7.90          t         1.67  \n",
       "1351         2.20       e10+         1.42  \n",
       "1437         6.00          m         1.36  \n",
       "1530         5.40          m         1.28  \n",
       "...           ...        ...          ...  \n",
       "16456        8.30  no rating         0.01  \n",
       "16463        6.80          e         0.01  \n",
       "16509        7.90          e         0.01  \n",
       "16518        1.40          e         0.01  \n",
       "16692        7.60          m         0.01  \n",
       "\n",
       "[158 rows x 12 columns]"
      ]
     },
     "execution_count": 120,
     "metadata": {},
     "output_type": "execute_result"
    }
   ],
   "source": [
    "# выборка игр на PC с 2013 года с пользовательским рейтингом\n",
    "pc = data[(data['platform'] == 'pc') & (data['year_of_release'] >= 2013) \\\n",
    "          & ~(data['user_score'].isna())]\n",
    "pc"
   ]
  },
  {
   "cell_type": "code",
   "execution_count": 121,
   "metadata": {},
   "outputs": [
    {
     "name": "stdout",
     "output_type": "stream",
     "text": [
      "p-значение: 0.16174359801784308\n",
      "Не получилось отвергнуть нулевую гипотезу\n"
     ]
    }
   ],
   "source": [
    "# установим критический уровень статистической значимости 5%\n",
    "alpha = .05\n",
    "results = st.ttest_ind(xbox['user_score'], pc['user_score'], equal_var = False)\n",
    "\n",
    "print('p-значение:', results.pvalue)\n",
    "\n",
    "if results.pvalue < alpha:\n",
    "    print(\"Отвергаем нулевую гипотезу\")\n",
    "else:\n",
    "    print(\"Не получилось отвергнуть нулевую гипотезу\")"
   ]
  },
  {
   "cell_type": "markdown",
   "metadata": {},
   "source": [
    "В результате вычислений получили значение p-value 0,16 (p-value - минимальный уровень значимости, на котором нулевая гипотеза может быть отвергнута, наш p-value больше фиксированного уровня значимости),  и не получилось отвергнуть нулевую гипотезу, значит средние пользовательские рейтинги игр на платформах XOne и PC приблизительно равны. Если просто вычислить средние двух выборок, получим достаточно близкие значения: 6,5 и 6,2."
   ]
  },
  {
   "cell_type": "code",
   "execution_count": 122,
   "metadata": {},
   "outputs": [
    {
     "name": "stdout",
     "output_type": "stream",
     "text": [
      "6.52142857142857\n"
     ]
    },
    {
     "data": {
      "text/plain": [
       "6.2803797468354405"
      ]
     },
     "execution_count": 122,
     "metadata": {},
     "output_type": "execute_result"
    }
   ],
   "source": [
    "print(xbox['user_score'].mean())\n",
    "pc['user_score'].mean()"
   ]
  },
  {
   "cell_type": "code",
   "execution_count": 134,
   "metadata": {},
   "outputs": [
    {
     "data": {
      "image/png": "[encoded data removed]",
      "text/plain": [
       "<Figure size 432x288 with 1 Axes>"
      ]
     },
     "metadata": {
      "needs_background": "light"
     },
     "output_type": "display_data"
    }
   ],
   "source": [
    "xbox['user_score'].hist()\n",
    "pc['user_score'].hist(alpha=0.5);"
   ]
  },
  {
   "cell_type": "markdown",
   "metadata": {},
   "source": [
    "#### Пользовательские рейтинги жанров\n",
    "Проверим, что средние пользовательские рейтинги жанров Action и Sports разные.\n",
    "\n",
    "Нулевая гипотеза H0: cредние пользовательские рейтинги жанров Action и Sports равны (в нулевой гипотезе всегда должно быть использовано равенство).\n",
    "\n",
    "Альтернативная гипотеза H1: средние пользовательские рейтинги жанров Action и Sports неравны.\n",
    "\n",
    "Это две разные генеральные совокупности, они не зависят друг от друга. Значения дисперсий могут быть разные, так как сами выборки разного размера, пользователи, которые оставляли оценку играм, могут проживать в разных регионах и иметь разный менталитет. Проверим гипотезу с помощью t-test'a (критерия Стьюдента)."
   ]
  },
  {
   "cell_type": "code",
   "execution_count": 124,
   "metadata": {},
   "outputs": [
    {
     "data": {
      "text/html": [
       "<div>\n",
       "<style scoped>\n",
       "    .dataframe tbody tr th:only-of-type {\n",
       "        vertical-align: middle;\n",
       "    }\n",
       "\n",
       "    .dataframe tbody tr th {\n",
       "        vertical-align: top;\n",
       "    }\n",
       "\n",
       "    .dataframe thead th {\n",
       "        text-align: right;\n",
       "    }\n",
       "</style>\n",
       "<table border=\"1\" class=\"dataframe\">\n",
       "  <thead>\n",
       "    <tr style=\"text-align: right;\">\n",
       "      <th></th>\n",
       "      <th>name</th>\n",
       "      <th>platform</th>\n",
       "      <th>year_of_release</th>\n",
       "      <th>genre</th>\n",
       "      <th>na_sales</th>\n",
       "      <th>eu_sales</th>\n",
       "      <th>jp_sales</th>\n",
       "      <th>other_sales</th>\n",
       "      <th>critic_score</th>\n",
       "      <th>user_score</th>\n",
       "      <th>rating</th>\n",
       "      <th>total_sales</th>\n",
       "    </tr>\n",
       "  </thead>\n",
       "  <tbody>\n",
       "    <tr>\n",
       "      <th>16</th>\n",
       "      <td>grand theft auto v</td>\n",
       "      <td>ps3</td>\n",
       "      <td>2013</td>\n",
       "      <td>action</td>\n",
       "      <td>7.02</td>\n",
       "      <td>9.09</td>\n",
       "      <td>0.98</td>\n",
       "      <td>3.96</td>\n",
       "      <td>97.00</td>\n",
       "      <td>8.20</td>\n",
       "      <td>m</td>\n",
       "      <td>21.05</td>\n",
       "    </tr>\n",
       "    <tr>\n",
       "      <th>17</th>\n",
       "      <td>grand theft auto: san andreas</td>\n",
       "      <td>ps2</td>\n",
       "      <td>2004</td>\n",
       "      <td>action</td>\n",
       "      <td>9.43</td>\n",
       "      <td>0.40</td>\n",
       "      <td>0.41</td>\n",
       "      <td>10.57</td>\n",
       "      <td>95.00</td>\n",
       "      <td>9.00</td>\n",
       "      <td>m</td>\n",
       "      <td>20.81</td>\n",
       "    </tr>\n",
       "    <tr>\n",
       "      <th>23</th>\n",
       "      <td>grand theft auto v</td>\n",
       "      <td>x360</td>\n",
       "      <td>2013</td>\n",
       "      <td>action</td>\n",
       "      <td>9.66</td>\n",
       "      <td>5.14</td>\n",
       "      <td>0.06</td>\n",
       "      <td>1.41</td>\n",
       "      <td>97.00</td>\n",
       "      <td>8.10</td>\n",
       "      <td>m</td>\n",
       "      <td>16.27</td>\n",
       "    </tr>\n",
       "    <tr>\n",
       "      <th>24</th>\n",
       "      <td>grand theft auto: vice city</td>\n",
       "      <td>ps2</td>\n",
       "      <td>2002</td>\n",
       "      <td>action</td>\n",
       "      <td>8.41</td>\n",
       "      <td>5.49</td>\n",
       "      <td>0.47</td>\n",
       "      <td>1.78</td>\n",
       "      <td>95.00</td>\n",
       "      <td>8.70</td>\n",
       "      <td>m</td>\n",
       "      <td>16.15</td>\n",
       "    </tr>\n",
       "    <tr>\n",
       "      <th>38</th>\n",
       "      <td>grand theft auto iii</td>\n",
       "      <td>ps2</td>\n",
       "      <td>2001</td>\n",
       "      <td>action</td>\n",
       "      <td>6.99</td>\n",
       "      <td>4.51</td>\n",
       "      <td>0.30</td>\n",
       "      <td>1.30</td>\n",
       "      <td>97.00</td>\n",
       "      <td>8.50</td>\n",
       "      <td>m</td>\n",
       "      <td>13.10</td>\n",
       "    </tr>\n",
       "    <tr>\n",
       "      <th>...</th>\n",
       "      <td>...</td>\n",
       "      <td>...</td>\n",
       "      <td>...</td>\n",
       "      <td>...</td>\n",
       "      <td>...</td>\n",
       "      <td>...</td>\n",
       "      <td>...</td>\n",
       "      <td>...</td>\n",
       "      <td>...</td>\n",
       "      <td>...</td>\n",
       "      <td>...</td>\n",
       "      <td>...</td>\n",
       "    </tr>\n",
       "    <tr>\n",
       "      <th>16652</th>\n",
       "      <td>fast racing neo</td>\n",
       "      <td>wiiu</td>\n",
       "      <td>2016</td>\n",
       "      <td>action</td>\n",
       "      <td>0.00</td>\n",
       "      <td>0.01</td>\n",
       "      <td>0.00</td>\n",
       "      <td>0.00</td>\n",
       "      <td>81.00</td>\n",
       "      <td>8.50</td>\n",
       "      <td>e</td>\n",
       "      <td>0.01</td>\n",
       "    </tr>\n",
       "    <tr>\n",
       "      <th>16654</th>\n",
       "      <td>ben 10 omniverse 2</td>\n",
       "      <td>x360</td>\n",
       "      <td>2013</td>\n",
       "      <td>action</td>\n",
       "      <td>0.00</td>\n",
       "      <td>0.01</td>\n",
       "      <td>0.00</td>\n",
       "      <td>0.00</td>\n",
       "      <td>NaN</td>\n",
       "      <td>5.10</td>\n",
       "      <td>e10+</td>\n",
       "      <td>0.01</td>\n",
       "    </tr>\n",
       "    <tr>\n",
       "      <th>16660</th>\n",
       "      <td>prison architect</td>\n",
       "      <td>xone</td>\n",
       "      <td>2016</td>\n",
       "      <td>action</td>\n",
       "      <td>0.01</td>\n",
       "      <td>0.00</td>\n",
       "      <td>0.00</td>\n",
       "      <td>0.00</td>\n",
       "      <td>74.00</td>\n",
       "      <td>6.70</td>\n",
       "      <td>no rating</td>\n",
       "      <td>0.01</td>\n",
       "    </tr>\n",
       "    <tr>\n",
       "      <th>16663</th>\n",
       "      <td>e.t. the extra-terrestrial</td>\n",
       "      <td>gba</td>\n",
       "      <td>2001</td>\n",
       "      <td>action</td>\n",
       "      <td>0.01</td>\n",
       "      <td>0.00</td>\n",
       "      <td>0.00</td>\n",
       "      <td>0.00</td>\n",
       "      <td>46.00</td>\n",
       "      <td>2.40</td>\n",
       "      <td>e</td>\n",
       "      <td>0.01</td>\n",
       "    </tr>\n",
       "    <tr>\n",
       "      <th>16692</th>\n",
       "      <td>metal gear solid v: ground zeroes</td>\n",
       "      <td>pc</td>\n",
       "      <td>2014</td>\n",
       "      <td>action</td>\n",
       "      <td>0.00</td>\n",
       "      <td>0.01</td>\n",
       "      <td>0.00</td>\n",
       "      <td>0.00</td>\n",
       "      <td>80.00</td>\n",
       "      <td>7.60</td>\n",
       "      <td>m</td>\n",
       "      <td>0.01</td>\n",
       "    </tr>\n",
       "  </tbody>\n",
       "</table>\n",
       "<p>1820 rows × 12 columns</p>\n",
       "</div>"
      ],
      "text/plain": [
       "                                    name platform  year_of_release   genre  \\\n",
       "16                    grand theft auto v      ps3             2013  action   \n",
       "17         grand theft auto: san andreas      ps2             2004  action   \n",
       "23                    grand theft auto v     x360             2013  action   \n",
       "24           grand theft auto: vice city      ps2             2002  action   \n",
       "38                  grand theft auto iii      ps2             2001  action   \n",
       "...                                  ...      ...              ...     ...   \n",
       "16652                   fast racing neo      wiiu             2016  action   \n",
       "16654                 ben 10 omniverse 2     x360             2013  action   \n",
       "16660                   prison architect     xone             2016  action   \n",
       "16663         e.t. the extra-terrestrial      gba             2001  action   \n",
       "16692  metal gear solid v: ground zeroes       pc             2014  action   \n",
       "\n",
       "       na_sales  eu_sales  jp_sales  other_sales  critic_score  user_score  \\\n",
       "16         7.02      9.09      0.98         3.96         97.00        8.20   \n",
       "17         9.43      0.40      0.41        10.57         95.00        9.00   \n",
       "23         9.66      5.14      0.06         1.41         97.00        8.10   \n",
       "24         8.41      5.49      0.47         1.78         95.00        8.70   \n",
       "38         6.99      4.51      0.30         1.30         97.00        8.50   \n",
       "...         ...       ...       ...          ...           ...         ...   \n",
       "16652      0.00      0.01      0.00         0.00         81.00        8.50   \n",
       "16654      0.00      0.01      0.00         0.00           NaN        5.10   \n",
       "16660      0.01      0.00      0.00         0.00         74.00        6.70   \n",
       "16663      0.01      0.00      0.00         0.00         46.00        2.40   \n",
       "16692      0.00      0.01      0.00         0.00         80.00        7.60   \n",
       "\n",
       "          rating  total_sales  \n",
       "16             m        21.05  \n",
       "17             m        20.81  \n",
       "23             m        16.27  \n",
       "24             m        16.15  \n",
       "38             m        13.10  \n",
       "...          ...          ...  \n",
       "16652          e         0.01  \n",
       "16654       e10+         0.01  \n",
       "16660  no rating         0.01  \n",
       "16663          e         0.01  \n",
       "16692          m         0.01  \n",
       "\n",
       "[1820 rows x 12 columns]"
      ]
     },
     "execution_count": 124,
     "metadata": {},
     "output_type": "execute_result"
    }
   ],
   "source": [
    "# выборка игр жанра Action с пользовательским рейтингом\n",
    "action = data[(data['genre'] == 'action') & ~(data['user_score'].isna())]\n",
    "action"
   ]
  },
  {
   "cell_type": "code",
   "execution_count": 125,
   "metadata": {},
   "outputs": [
    {
     "data": {
      "text/html": [
       "<div>\n",
       "<style scoped>\n",
       "    .dataframe tbody tr th:only-of-type {\n",
       "        vertical-align: middle;\n",
       "    }\n",
       "\n",
       "    .dataframe tbody tr th {\n",
       "        vertical-align: top;\n",
       "    }\n",
       "\n",
       "    .dataframe thead th {\n",
       "        text-align: right;\n",
       "    }\n",
       "</style>\n",
       "<table border=\"1\" class=\"dataframe\">\n",
       "  <thead>\n",
       "    <tr style=\"text-align: right;\">\n",
       "      <th></th>\n",
       "      <th>name</th>\n",
       "      <th>platform</th>\n",
       "      <th>year_of_release</th>\n",
       "      <th>genre</th>\n",
       "      <th>na_sales</th>\n",
       "      <th>eu_sales</th>\n",
       "      <th>jp_sales</th>\n",
       "      <th>other_sales</th>\n",
       "      <th>critic_score</th>\n",
       "      <th>user_score</th>\n",
       "      <th>rating</th>\n",
       "      <th>total_sales</th>\n",
       "    </tr>\n",
       "  </thead>\n",
       "  <tbody>\n",
       "    <tr>\n",
       "      <th>0</th>\n",
       "      <td>wii sports</td>\n",
       "      <td>wii</td>\n",
       "      <td>2006</td>\n",
       "      <td>sports</td>\n",
       "      <td>41.36</td>\n",
       "      <td>28.96</td>\n",
       "      <td>3.77</td>\n",
       "      <td>8.45</td>\n",
       "      <td>76.00</td>\n",
       "      <td>8.00</td>\n",
       "      <td>e</td>\n",
       "      <td>82.54</td>\n",
       "    </tr>\n",
       "    <tr>\n",
       "      <th>3</th>\n",
       "      <td>wii sports resort</td>\n",
       "      <td>wii</td>\n",
       "      <td>2009</td>\n",
       "      <td>sports</td>\n",
       "      <td>15.61</td>\n",
       "      <td>10.93</td>\n",
       "      <td>3.28</td>\n",
       "      <td>2.95</td>\n",
       "      <td>80.00</td>\n",
       "      <td>8.00</td>\n",
       "      <td>e</td>\n",
       "      <td>32.77</td>\n",
       "    </tr>\n",
       "    <tr>\n",
       "      <th>13</th>\n",
       "      <td>wii fit</td>\n",
       "      <td>wii</td>\n",
       "      <td>2007</td>\n",
       "      <td>sports</td>\n",
       "      <td>8.92</td>\n",
       "      <td>8.03</td>\n",
       "      <td>3.60</td>\n",
       "      <td>2.15</td>\n",
       "      <td>80.00</td>\n",
       "      <td>7.70</td>\n",
       "      <td>e</td>\n",
       "      <td>22.70</td>\n",
       "    </tr>\n",
       "    <tr>\n",
       "      <th>15</th>\n",
       "      <td>wii fit plus</td>\n",
       "      <td>wii</td>\n",
       "      <td>2009</td>\n",
       "      <td>sports</td>\n",
       "      <td>9.01</td>\n",
       "      <td>8.49</td>\n",
       "      <td>2.53</td>\n",
       "      <td>1.77</td>\n",
       "      <td>80.00</td>\n",
       "      <td>7.40</td>\n",
       "      <td>e</td>\n",
       "      <td>21.80</td>\n",
       "    </tr>\n",
       "    <tr>\n",
       "      <th>77</th>\n",
       "      <td>fifa 16</td>\n",
       "      <td>ps4</td>\n",
       "      <td>2015</td>\n",
       "      <td>sports</td>\n",
       "      <td>1.12</td>\n",
       "      <td>6.12</td>\n",
       "      <td>0.06</td>\n",
       "      <td>1.28</td>\n",
       "      <td>82.00</td>\n",
       "      <td>4.30</td>\n",
       "      <td>e</td>\n",
       "      <td>8.58</td>\n",
       "    </tr>\n",
       "    <tr>\n",
       "      <th>...</th>\n",
       "      <td>...</td>\n",
       "      <td>...</td>\n",
       "      <td>...</td>\n",
       "      <td>...</td>\n",
       "      <td>...</td>\n",
       "      <td>...</td>\n",
       "      <td>...</td>\n",
       "      <td>...</td>\n",
       "      <td>...</td>\n",
       "      <td>...</td>\n",
       "      <td>...</td>\n",
       "      <td>...</td>\n",
       "    </tr>\n",
       "    <tr>\n",
       "      <th>16450</th>\n",
       "      <td>turbo: super stunt squad</td>\n",
       "      <td>x360</td>\n",
       "      <td>2013</td>\n",
       "      <td>sports</td>\n",
       "      <td>0.00</td>\n",
       "      <td>0.01</td>\n",
       "      <td>0.00</td>\n",
       "      <td>0.00</td>\n",
       "      <td>NaN</td>\n",
       "      <td>4.50</td>\n",
       "      <td>e</td>\n",
       "      <td>0.01</td>\n",
       "    </tr>\n",
       "    <tr>\n",
       "      <th>16518</th>\n",
       "      <td>rugby world cup 2015</td>\n",
       "      <td>pc</td>\n",
       "      <td>2015</td>\n",
       "      <td>sports</td>\n",
       "      <td>0.00</td>\n",
       "      <td>0.01</td>\n",
       "      <td>0.00</td>\n",
       "      <td>0.00</td>\n",
       "      <td>NaN</td>\n",
       "      <td>1.40</td>\n",
       "      <td>e</td>\n",
       "      <td>0.01</td>\n",
       "    </tr>\n",
       "    <tr>\n",
       "      <th>16528</th>\n",
       "      <td>pro evolution soccer 2010</td>\n",
       "      <td>pc</td>\n",
       "      <td>2009</td>\n",
       "      <td>sports</td>\n",
       "      <td>0.00</td>\n",
       "      <td>0.01</td>\n",
       "      <td>0.00</td>\n",
       "      <td>0.00</td>\n",
       "      <td>78.00</td>\n",
       "      <td>6.90</td>\n",
       "      <td>e</td>\n",
       "      <td>0.01</td>\n",
       "    </tr>\n",
       "    <tr>\n",
       "      <th>16546</th>\n",
       "      <td>wade hixton's counter punch</td>\n",
       "      <td>gba</td>\n",
       "      <td>2004</td>\n",
       "      <td>sports</td>\n",
       "      <td>0.01</td>\n",
       "      <td>0.00</td>\n",
       "      <td>0.00</td>\n",
       "      <td>0.00</td>\n",
       "      <td>78.00</td>\n",
       "      <td>9.50</td>\n",
       "      <td>t</td>\n",
       "      <td>0.01</td>\n",
       "    </tr>\n",
       "    <tr>\n",
       "      <th>16643</th>\n",
       "      <td>rugby challenge 3</td>\n",
       "      <td>xone</td>\n",
       "      <td>2016</td>\n",
       "      <td>sports</td>\n",
       "      <td>0.00</td>\n",
       "      <td>0.01</td>\n",
       "      <td>0.00</td>\n",
       "      <td>0.00</td>\n",
       "      <td>NaN</td>\n",
       "      <td>6.60</td>\n",
       "      <td>e</td>\n",
       "      <td>0.01</td>\n",
       "    </tr>\n",
       "  </tbody>\n",
       "</table>\n",
       "<p>1098 rows × 12 columns</p>\n",
       "</div>"
      ],
      "text/plain": [
       "                              name platform  year_of_release   genre  \\\n",
       "0                       wii sports      wii             2006  sports   \n",
       "3                wii sports resort      wii             2009  sports   \n",
       "13                         wii fit      wii             2007  sports   \n",
       "15                    wii fit plus      wii             2009  sports   \n",
       "77                         fifa 16      ps4             2015  sports   \n",
       "...                            ...      ...              ...     ...   \n",
       "16450     turbo: super stunt squad     x360             2013  sports   \n",
       "16518         rugby world cup 2015       pc             2015  sports   \n",
       "16528    pro evolution soccer 2010       pc             2009  sports   \n",
       "16546  wade hixton's counter punch      gba             2004  sports   \n",
       "16643            rugby challenge 3     xone             2016  sports   \n",
       "\n",
       "       na_sales  eu_sales  jp_sales  other_sales  critic_score  user_score  \\\n",
       "0         41.36     28.96      3.77         8.45         76.00        8.00   \n",
       "3         15.61     10.93      3.28         2.95         80.00        8.00   \n",
       "13         8.92      8.03      3.60         2.15         80.00        7.70   \n",
       "15         9.01      8.49      2.53         1.77         80.00        7.40   \n",
       "77         1.12      6.12      0.06         1.28         82.00        4.30   \n",
       "...         ...       ...       ...          ...           ...         ...   \n",
       "16450      0.00      0.01      0.00         0.00           NaN        4.50   \n",
       "16518      0.00      0.01      0.00         0.00           NaN        1.40   \n",
       "16528      0.00      0.01      0.00         0.00         78.00        6.90   \n",
       "16546      0.01      0.00      0.00         0.00         78.00        9.50   \n",
       "16643      0.00      0.01      0.00         0.00           NaN        6.60   \n",
       "\n",
       "      rating  total_sales  \n",
       "0          e        82.54  \n",
       "3          e        32.77  \n",
       "13         e        22.70  \n",
       "15         e        21.80  \n",
       "77         e         8.58  \n",
       "...      ...          ...  \n",
       "16450      e         0.01  \n",
       "16518      e         0.01  \n",
       "16528      e         0.01  \n",
       "16546      t         0.01  \n",
       "16643      e         0.01  \n",
       "\n",
       "[1098 rows x 12 columns]"
      ]
     },
     "execution_count": 125,
     "metadata": {},
     "output_type": "execute_result"
    }
   ],
   "source": [
    "# выборка игр жанра Sports с пользовательским рейтингом\n",
    "sports = data[(data['genre'] == 'sports') & ~(data['user_score'].isna())]\n",
    "sports"
   ]
  },
  {
   "cell_type": "code",
   "execution_count": 126,
   "metadata": {},
   "outputs": [
    {
     "name": "stdout",
     "output_type": "stream",
     "text": [
      "p-значение: 0.08991887133875968\n",
      "Не получилось отвергнуть нулевую гипотезу\n"
     ]
    }
   ],
   "source": [
    "# установим критический уровень статистической значимости 5%\n",
    "alpha = .05\n",
    "results = st.ttest_ind(action['user_score'], sports['user_score'], equal_var = False)\n",
    "\n",
    "print('p-значение:', results.pvalue)\n",
    "\n",
    "if results.pvalue < alpha:\n",
    "    print(\"Отвергаем нулевую гипотезу\")\n",
    "else:\n",
    "    print(\"Не получилось отвергнуть нулевую гипотезу\")"
   ]
  },
  {
   "cell_type": "markdown",
   "metadata": {},
   "source": [
    "В результате вычислений мы не смогли отвергнуть нулевую гипотезу - средние пользовательские рейтинги двух жанров игр близки по значениям. Если просто расчитать средние, получим 7.0 и 6.9.\n",
    "\n",
    "P-value 0.08 означает, что есть 8% вероятности, что результат обусловлен случайностью, что не соответствует действительности. Чем ниже значение p, тем более \"нелепой\" выглядит наша нулевая гипотеза. Наше p значение больше alpha, значит нет причин отвергать нулевую гипотезу."
   ]
  },
  {
   "cell_type": "code",
   "execution_count": 127,
   "metadata": {},
   "outputs": [
    {
     "name": "stdout",
     "output_type": "stream",
     "text": [
      "7.05648351648351\n"
     ]
    },
    {
     "data": {
      "text/plain": [
       "6.9563752276867055"
      ]
     },
     "execution_count": 127,
     "metadata": {},
     "output_type": "execute_result"
    }
   ],
   "source": [
    "print(action['user_score'].mean())\n",
    "sports['user_score'].mean()"
   ]
  },
  {
   "cell_type": "code",
   "execution_count": 128,
   "metadata": {},
   "outputs": [
    {
     "data": {
      "image/png": "[encoded data removed]",
      "text/plain": [
       "<Figure size 432x288 with 1 Axes>"
      ]
     },
     "metadata": {
      "needs_background": "light"
     },
     "output_type": "display_data"
    }
   ],
   "source": [
    "action['user_score'].hist()\n",
    "sports['user_score'].hist(alpha=0.5);"
   ]
  },
  {
   "cell_type": "markdown",
   "metadata": {},
   "source": [
    "### Общие выводы по исследованию\n",
    "Проанализировав и подготовив данные для работы по продажам компьютерных игр в разных регионах и в разные года, получили следующее:\n",
    "1. Игры в разное время создавались и продавались по-разному: пик продаж пришелся на 2005-2011 года.\n",
    "2. Платформы-лидеры по продажам: PS2, DS, PS3, Wii, X360, PSP, PS.\n",
    "3. Игры для каждой платформы популярны примерно 10 лет. Примерно с 2007 появляются несколько одновременно конкурирующих платформ: PS3, Wii, X360.\n",
    "4. Рассматривая данные начиная с 2014 года и только лидеров-платформ, можно выделить следующие факты:\n",
    "- лидируют по продажам платформы PS4, XOne, 3DS, PS3, X360\n",
    "- 2 самые большие продажи игр (более 12 млн) у платформы PS4\n",
    "- платформа Wii была с самыми долгими и стабильными продажами игр\n",
    "- PS4 - платформа-лидер по общим продажам, у нее очень много игр \"бестселлеров\"\n",
    "- есть достаточное количество игр с рейтингом критиков 60-80 из 100 и высоким количеством продаж. Также есть высоко оцененные игры, но с малым количеством продаж. И есть игра-бестселлер с самым высоким рейтингом и самым большим числом продаж\n",
    "- оценки пользователей игр практически не влияют на общие продажи\n",
    "5. Больше всего создано игр в жанрах: Action, Role-Playing, Adventure, Sports, Shooter. Меньше всего выпускали игр в жанрах Puzzle, Strategy и Platform.\n",
    "6. Самый продаваемый жанр - Action, самый менее продаваемый жанр - Strategy.\n",
    "7. Продажи игр в жанре Shooter самые высокие и стабильные в течение долгого времени.\n",
    "8. В разных регионах предпочитают разные жанры игр и разные платформы:\n",
    "- в NA больше всего любят Shooter, в EU - Action, в JP - Role-Playing\n",
    "- больше трети всех игр жанра Role-Playing было продано в Японии, это самый популярный жанр в Японии среди всех игр - 30%\n",
    "- больше половины игр жанра Shooter было продано в NA\n",
    "- cамой популярной платформой в NA и в EU является PS4 компании Sony, а в Японии она на втором месте после 3DS компании Nintendo. В NA и в EU 3DS всего лишь на 4-м и 5-м месте по популярности \n",
    "- в NA и в EU популярна платформа XOne, а в Японии игры на этих платформах совсем непопулярны\n",
    "- 53% всех игр на платформе PS4 продано в Европе, 40% в Северной Америке и только 6% в Японии\n",
    "- самая популярная платформа в Японии 3DS занимает 47% продаж от всех других платформ\n",
    "- 63% продаж всех игр на платформе XOne приходится на Северную Америку, 36% на Европу и 0,2% на Японию\n",
    "- рейтинг ESRB присвоен чуть больше половине всех игр (56%). В NA и в EU доля купленных игр с рейтингом составляет 78% и 79% соответственно. В Японии только 39% проданных игр имеют рейтинг ESRB\n",
    "9. Среди игр с рейтингом почти одинаковое количество игр для подростков (13+) и для взрослых (17+).\n",
    "10. В NA и в EU больше всего продаж игр для взрослых (17+), в JP - игры для подростков (13+).\n",
    "11. Проверив разные гипотезы, выяснили, что средние пользовательские рейтинги одинаковы для игр на платформах Xbox One и PC, средние пользовательские рейтинги жанров Action и Sports также почти одинаковы.\n",
    "\n",
    "Если создавать новую игру для продажи в Северной Америке, лучше создать ее на платформе PS4 в жанре Shooter.\n",
    "Для жителей Европы - жанр Action на платформе PS4. Эти игры должны быть для подростков от 17+.\n",
    "Для японцев самая идеальная игра - в жанре RPG на 3DS. И эта игра должна быть для детей от 13 лет."
   ]
  }
 ],
 "metadata": {
  "ExecuteTimeLog": [
   {
    "duration": 1116,
    "start_time": "2022-07-15T13:42:23.537Z"
   },
   {
    "duration": 13,
    "start_time": "2022-07-15T13:42:24.655Z"
   },
   {
    "duration": 5,
    "start_time": "2022-07-15T13:42:24.669Z"
   },
   {
    "duration": 11,
    "start_time": "2022-07-15T13:42:24.675Z"
   },
   {
    "duration": 1015,
    "start_time": "2022-07-15T13:42:24.688Z"
   },
   {
    "duration": 8,
    "start_time": "2022-07-15T13:42:25.708Z"
   },
   {
    "duration": 30,
    "start_time": "2022-07-15T13:42:25.718Z"
   },
   {
    "duration": 100,
    "start_time": "2022-07-15T13:42:25.750Z"
   },
   {
    "duration": 60,
    "start_time": "2022-07-15T13:42:25.852Z"
   },
   {
    "duration": 19,
    "start_time": "2022-07-15T13:42:25.914Z"
   },
   {
    "duration": 19,
    "start_time": "2022-07-15T13:42:25.935Z"
   },
   {
    "duration": 52,
    "start_time": "2022-07-15T13:42:25.956Z"
   },
   {
    "duration": 21,
    "start_time": "2022-07-15T13:42:26.014Z"
   },
   {
    "duration": 10,
    "start_time": "2022-07-15T13:42:26.039Z"
   },
   {
    "duration": 64,
    "start_time": "2022-07-15T13:42:26.052Z"
   },
   {
    "duration": 173,
    "start_time": "2022-07-15T13:42:26.118Z"
   },
   {
    "duration": 22,
    "start_time": "2022-07-15T13:42:26.292Z"
   },
   {
    "duration": 19,
    "start_time": "2022-07-15T13:42:26.315Z"
   },
   {
    "duration": 11,
    "start_time": "2022-07-15T13:42:26.335Z"
   },
   {
    "duration": 30,
    "start_time": "2022-07-15T13:42:26.348Z"
   },
   {
    "duration": 40705,
    "start_time": "2022-07-15T13:42:26.380Z"
   },
   {
    "duration": 7,
    "start_time": "2022-07-15T13:43:07.086Z"
   },
   {
    "duration": 30,
    "start_time": "2022-07-15T13:43:07.094Z"
   },
   {
    "duration": 31,
    "start_time": "2022-07-15T13:43:07.126Z"
   },
   {
    "duration": 6,
    "start_time": "2022-07-15T13:43:07.159Z"
   },
   {
    "duration": 126,
    "start_time": "2022-07-15T13:43:07.168Z"
   },
   {
    "duration": 0,
    "start_time": "2022-07-15T13:43:07.309Z"
   },
   {
    "duration": 0,
    "start_time": "2022-07-15T13:43:07.310Z"
   },
   {
    "duration": 0,
    "start_time": "2022-07-15T13:43:07.311Z"
   },
   {
    "duration": 0,
    "start_time": "2022-07-15T13:43:07.314Z"
   },
   {
    "duration": 0,
    "start_time": "2022-07-15T13:43:07.314Z"
   },
   {
    "duration": 0,
    "start_time": "2022-07-15T13:43:07.315Z"
   },
   {
    "duration": 0,
    "start_time": "2022-07-15T13:43:07.316Z"
   },
   {
    "duration": 0,
    "start_time": "2022-07-15T13:43:07.317Z"
   },
   {
    "duration": 0,
    "start_time": "2022-07-15T13:43:07.319Z"
   },
   {
    "duration": 0,
    "start_time": "2022-07-15T13:43:07.320Z"
   },
   {
    "duration": 0,
    "start_time": "2022-07-15T13:43:07.320Z"
   },
   {
    "duration": 0,
    "start_time": "2022-07-15T13:43:07.325Z"
   },
   {
    "duration": 0,
    "start_time": "2022-07-15T13:43:07.326Z"
   },
   {
    "duration": 0,
    "start_time": "2022-07-15T13:43:07.328Z"
   },
   {
    "duration": 0,
    "start_time": "2022-07-15T13:43:07.329Z"
   },
   {
    "duration": 0,
    "start_time": "2022-07-15T13:43:07.331Z"
   },
   {
    "duration": 0,
    "start_time": "2022-07-15T13:43:07.333Z"
   },
   {
    "duration": 0,
    "start_time": "2022-07-15T13:43:07.334Z"
   },
   {
    "duration": 0,
    "start_time": "2022-07-15T13:43:07.335Z"
   },
   {
    "duration": 0,
    "start_time": "2022-07-15T13:43:07.337Z"
   },
   {
    "duration": 0,
    "start_time": "2022-07-15T13:43:07.338Z"
   },
   {
    "duration": 0,
    "start_time": "2022-07-15T13:43:07.339Z"
   },
   {
    "duration": 0,
    "start_time": "2022-07-15T13:43:07.340Z"
   },
   {
    "duration": 0,
    "start_time": "2022-07-15T13:43:07.341Z"
   },
   {
    "duration": 0,
    "start_time": "2022-07-15T13:43:07.342Z"
   },
   {
    "duration": 0,
    "start_time": "2022-07-15T13:43:07.343Z"
   },
   {
    "duration": 0,
    "start_time": "2022-07-15T13:43:07.345Z"
   },
   {
    "duration": 0,
    "start_time": "2022-07-15T13:43:07.346Z"
   },
   {
    "duration": 0,
    "start_time": "2022-07-15T13:43:07.349Z"
   },
   {
    "duration": 0,
    "start_time": "2022-07-15T13:43:07.350Z"
   },
   {
    "duration": 0,
    "start_time": "2022-07-15T13:43:07.352Z"
   },
   {
    "duration": 0,
    "start_time": "2022-07-15T13:43:07.356Z"
   },
   {
    "duration": 0,
    "start_time": "2022-07-15T13:43:07.357Z"
   },
   {
    "duration": 0,
    "start_time": "2022-07-15T13:43:07.358Z"
   },
   {
    "duration": 0,
    "start_time": "2022-07-15T13:43:07.402Z"
   },
   {
    "duration": 0,
    "start_time": "2022-07-15T13:43:07.403Z"
   },
   {
    "duration": 0,
    "start_time": "2022-07-15T13:43:07.405Z"
   },
   {
    "duration": 0,
    "start_time": "2022-07-15T13:43:07.407Z"
   },
   {
    "duration": 0,
    "start_time": "2022-07-15T13:43:07.410Z"
   },
   {
    "duration": 0,
    "start_time": "2022-07-15T13:43:07.411Z"
   },
   {
    "duration": 0,
    "start_time": "2022-07-15T13:43:07.412Z"
   },
   {
    "duration": 0,
    "start_time": "2022-07-15T13:43:07.412Z"
   },
   {
    "duration": 0,
    "start_time": "2022-07-15T13:43:07.414Z"
   },
   {
    "duration": 0,
    "start_time": "2022-07-15T13:43:07.416Z"
   },
   {
    "duration": 0,
    "start_time": "2022-07-15T13:43:07.417Z"
   },
   {
    "duration": 0,
    "start_time": "2022-07-15T13:43:07.418Z"
   },
   {
    "duration": 0,
    "start_time": "2022-07-15T13:43:07.422Z"
   },
   {
    "duration": 0,
    "start_time": "2022-07-15T13:43:07.423Z"
   },
   {
    "duration": 0,
    "start_time": "2022-07-15T13:43:07.426Z"
   },
   {
    "duration": 0,
    "start_time": "2022-07-15T13:43:07.427Z"
   },
   {
    "duration": 0,
    "start_time": "2022-07-15T13:43:07.428Z"
   },
   {
    "duration": 0,
    "start_time": "2022-07-15T13:43:07.429Z"
   },
   {
    "duration": 0,
    "start_time": "2022-07-15T13:43:07.430Z"
   },
   {
    "duration": 0,
    "start_time": "2022-07-15T13:43:07.431Z"
   },
   {
    "duration": 0,
    "start_time": "2022-07-15T13:43:07.433Z"
   },
   {
    "duration": 0,
    "start_time": "2022-07-15T13:43:07.434Z"
   },
   {
    "duration": 0,
    "start_time": "2022-07-15T13:43:07.434Z"
   },
   {
    "duration": 0,
    "start_time": "2022-07-15T13:43:07.435Z"
   },
   {
    "duration": 0,
    "start_time": "2022-07-15T13:43:07.436Z"
   },
   {
    "duration": 0,
    "start_time": "2022-07-15T13:43:07.436Z"
   },
   {
    "duration": 0,
    "start_time": "2022-07-15T13:43:07.437Z"
   },
   {
    "duration": 0,
    "start_time": "2022-07-15T13:43:07.438Z"
   },
   {
    "duration": 0,
    "start_time": "2022-07-15T13:43:07.439Z"
   },
   {
    "duration": 0,
    "start_time": "2022-07-15T13:43:07.440Z"
   },
   {
    "duration": 0,
    "start_time": "2022-07-15T13:43:07.442Z"
   },
   {
    "duration": 0,
    "start_time": "2022-07-15T13:43:07.445Z"
   },
   {
    "duration": 0,
    "start_time": "2022-07-15T13:43:07.455Z"
   },
   {
    "duration": 0,
    "start_time": "2022-07-15T13:43:07.456Z"
   },
   {
    "duration": 0,
    "start_time": "2022-07-15T13:43:07.456Z"
   },
   {
    "duration": 0,
    "start_time": "2022-07-15T13:43:07.456Z"
   },
   {
    "duration": 0,
    "start_time": "2022-07-15T13:43:07.457Z"
   },
   {
    "duration": 0,
    "start_time": "2022-07-15T13:43:07.457Z"
   },
   {
    "duration": 0,
    "start_time": "2022-07-15T13:43:07.458Z"
   },
   {
    "duration": 0,
    "start_time": "2022-07-15T13:43:07.458Z"
   },
   {
    "duration": 0,
    "start_time": "2022-07-15T13:43:07.508Z"
   },
   {
    "duration": 0,
    "start_time": "2022-07-15T13:43:07.511Z"
   },
   {
    "duration": 0,
    "start_time": "2022-07-15T13:43:07.512Z"
   },
   {
    "duration": 0,
    "start_time": "2022-07-15T13:43:07.514Z"
   },
   {
    "duration": 0,
    "start_time": "2022-07-15T13:43:07.515Z"
   },
   {
    "duration": 6,
    "start_time": "2022-07-15T13:49:59.180Z"
   },
   {
    "duration": 10,
    "start_time": "2022-07-15T13:50:05.497Z"
   },
   {
    "duration": 5,
    "start_time": "2022-07-15T13:50:06.290Z"
   },
   {
    "duration": 11,
    "start_time": "2022-07-15T13:51:29.312Z"
   },
   {
    "duration": 1046,
    "start_time": "2022-07-15T13:51:35.036Z"
   },
   {
    "duration": 13,
    "start_time": "2022-07-15T13:51:36.084Z"
   },
   {
    "duration": 19,
    "start_time": "2022-07-15T13:51:36.099Z"
   },
   {
    "duration": 6,
    "start_time": "2022-07-15T13:51:36.120Z"
   },
   {
    "duration": 641,
    "start_time": "2022-07-15T13:51:36.128Z"
   },
   {
    "duration": 4,
    "start_time": "2022-07-15T13:51:36.771Z"
   },
   {
    "duration": 55,
    "start_time": "2022-07-15T13:51:36.776Z"
   },
   {
    "duration": 17,
    "start_time": "2022-07-15T13:51:36.832Z"
   },
   {
    "duration": 11,
    "start_time": "2022-07-15T13:51:36.850Z"
   },
   {
    "duration": 30,
    "start_time": "2022-07-15T13:51:36.863Z"
   },
   {
    "duration": 30,
    "start_time": "2022-07-15T13:51:36.894Z"
   },
   {
    "duration": 26,
    "start_time": "2022-07-15T13:51:36.926Z"
   },
   {
    "duration": 30,
    "start_time": "2022-07-15T13:51:36.953Z"
   },
   {
    "duration": 29,
    "start_time": "2022-07-15T13:51:36.985Z"
   },
   {
    "duration": 31,
    "start_time": "2022-07-15T13:51:37.016Z"
   },
   {
    "duration": 135,
    "start_time": "2022-07-15T13:51:37.049Z"
   },
   {
    "duration": 28,
    "start_time": "2022-07-15T13:51:37.186Z"
   },
   {
    "duration": 52,
    "start_time": "2022-07-15T13:51:37.215Z"
   },
   {
    "duration": 27,
    "start_time": "2022-07-15T13:51:37.268Z"
   },
   {
    "duration": 53,
    "start_time": "2022-07-15T13:51:37.296Z"
   },
   {
    "duration": 32932,
    "start_time": "2022-07-15T13:51:37.351Z"
   },
   {
    "duration": 4,
    "start_time": "2022-07-15T13:52:10.284Z"
   },
   {
    "duration": 22,
    "start_time": "2022-07-15T13:52:10.290Z"
   },
   {
    "duration": 18,
    "start_time": "2022-07-15T13:52:10.314Z"
   },
   {
    "duration": 4,
    "start_time": "2022-07-15T13:52:10.333Z"
   },
   {
    "duration": 11,
    "start_time": "2022-07-15T13:52:10.338Z"
   },
   {
    "duration": 7,
    "start_time": "2022-07-15T13:52:10.350Z"
   },
   {
    "duration": 5,
    "start_time": "2022-07-15T13:52:10.360Z"
   },
   {
    "duration": 13,
    "start_time": "2022-07-15T13:52:10.367Z"
   },
   {
    "duration": 35,
    "start_time": "2022-07-15T13:52:10.381Z"
   },
   {
    "duration": 5,
    "start_time": "2022-07-15T13:52:10.418Z"
   },
   {
    "duration": 115,
    "start_time": "2022-07-15T13:52:10.425Z"
   },
   {
    "duration": 7,
    "start_time": "2022-07-15T13:52:10.542Z"
   },
   {
    "duration": 241,
    "start_time": "2022-07-15T13:52:10.550Z"
   },
   {
    "duration": 6,
    "start_time": "2022-07-15T13:52:10.792Z"
   },
   {
    "duration": 17,
    "start_time": "2022-07-15T13:52:10.799Z"
   },
   {
    "duration": 12,
    "start_time": "2022-07-15T13:52:10.817Z"
   },
   {
    "duration": 7,
    "start_time": "2022-07-15T13:52:10.830Z"
   },
   {
    "duration": 273,
    "start_time": "2022-07-15T13:52:10.838Z"
   },
   {
    "duration": 6,
    "start_time": "2022-07-15T13:52:11.114Z"
   },
   {
    "duration": 14,
    "start_time": "2022-07-15T13:52:11.121Z"
   },
   {
    "duration": 4,
    "start_time": "2022-07-15T13:52:11.137Z"
   },
   {
    "duration": 7,
    "start_time": "2022-07-15T13:52:11.142Z"
   },
   {
    "duration": 151,
    "start_time": "2022-07-15T13:52:11.151Z"
   },
   {
    "duration": 378,
    "start_time": "2022-07-15T13:52:11.316Z"
   },
   {
    "duration": 97,
    "start_time": "2022-07-15T13:52:11.702Z"
   },
   {
    "duration": 31,
    "start_time": "2022-07-15T13:52:11.802Z"
   },
   {
    "duration": 9,
    "start_time": "2022-07-15T13:52:11.835Z"
   },
   {
    "duration": 13,
    "start_time": "2022-07-15T13:52:11.846Z"
   },
   {
    "duration": 5,
    "start_time": "2022-07-15T13:52:11.860Z"
   },
   {
    "duration": 8,
    "start_time": "2022-07-15T13:52:11.866Z"
   },
   {
    "duration": 32,
    "start_time": "2022-07-15T13:52:11.876Z"
   },
   {
    "duration": 9,
    "start_time": "2022-07-15T13:52:11.910Z"
   },
   {
    "duration": 6,
    "start_time": "2022-07-15T13:52:11.920Z"
   },
   {
    "duration": 7,
    "start_time": "2022-07-15T13:52:11.928Z"
   },
   {
    "duration": 5,
    "start_time": "2022-07-15T13:52:11.937Z"
   },
   {
    "duration": 154,
    "start_time": "2022-07-15T13:52:11.944Z"
   },
   {
    "duration": 16,
    "start_time": "2022-07-15T13:52:12.100Z"
   },
   {
    "duration": 116,
    "start_time": "2022-07-15T13:52:12.118Z"
   },
   {
    "duration": 5,
    "start_time": "2022-07-15T13:52:12.235Z"
   },
   {
    "duration": 8,
    "start_time": "2022-07-15T13:52:12.242Z"
   },
   {
    "duration": 5,
    "start_time": "2022-07-15T13:52:12.252Z"
   },
   {
    "duration": 4,
    "start_time": "2022-07-15T13:52:12.258Z"
   },
   {
    "duration": 7,
    "start_time": "2022-07-15T13:52:12.264Z"
   },
   {
    "duration": 44,
    "start_time": "2022-07-15T13:52:12.273Z"
   },
   {
    "duration": 141,
    "start_time": "2022-07-15T13:52:12.318Z"
   },
   {
    "duration": 7,
    "start_time": "2022-07-15T13:52:12.460Z"
   },
   {
    "duration": 5,
    "start_time": "2022-07-15T13:52:12.468Z"
   },
   {
    "duration": 10,
    "start_time": "2022-07-15T13:52:12.474Z"
   },
   {
    "duration": 33,
    "start_time": "2022-07-15T13:52:12.485Z"
   },
   {
    "duration": 208,
    "start_time": "2022-07-15T13:52:12.520Z"
   },
   {
    "duration": 4,
    "start_time": "2022-07-15T13:52:12.730Z"
   },
   {
    "duration": 6,
    "start_time": "2022-07-15T13:52:12.735Z"
   },
   {
    "duration": 5,
    "start_time": "2022-07-15T13:52:12.742Z"
   },
   {
    "duration": 9,
    "start_time": "2022-07-15T13:52:12.748Z"
   },
   {
    "duration": 5,
    "start_time": "2022-07-15T13:52:12.758Z"
   },
   {
    "duration": 9,
    "start_time": "2022-07-15T13:52:12.764Z"
   },
   {
    "duration": 41,
    "start_time": "2022-07-15T13:52:12.774Z"
   },
   {
    "duration": 253,
    "start_time": "2022-07-15T13:52:12.816Z"
   },
   {
    "duration": 4,
    "start_time": "2022-07-15T13:52:13.070Z"
   },
   {
    "duration": 19,
    "start_time": "2022-07-15T13:52:13.076Z"
   },
   {
    "duration": 16,
    "start_time": "2022-07-15T13:52:13.099Z"
   },
   {
    "duration": 20,
    "start_time": "2022-07-15T13:52:13.117Z"
   },
   {
    "duration": 7,
    "start_time": "2022-07-15T13:52:13.138Z"
   },
   {
    "duration": 16,
    "start_time": "2022-07-15T13:52:13.147Z"
   },
   {
    "duration": 101,
    "start_time": "2022-07-15T13:52:13.165Z"
   },
   {
    "duration": 6,
    "start_time": "2022-07-15T13:52:13.267Z"
   },
   {
    "duration": 117,
    "start_time": "2022-07-15T13:52:13.274Z"
   },
   {
    "duration": 21,
    "start_time": "2022-07-15T13:52:13.392Z"
   },
   {
    "duration": 9,
    "start_time": "2022-07-15T13:52:13.415Z"
   },
   {
    "duration": 5,
    "start_time": "2022-07-15T13:52:13.426Z"
   },
   {
    "duration": 12,
    "start_time": "2022-07-15T13:52:13.432Z"
   },
   {
    "duration": 13,
    "start_time": "2022-07-15T13:52:13.446Z"
   },
   {
    "duration": 9,
    "start_time": "2022-07-15T13:52:13.460Z"
   },
   {
    "duration": 5,
    "start_time": "2022-07-15T13:52:13.470Z"
   },
   {
    "duration": 6,
    "start_time": "2022-07-15T13:52:13.477Z"
   },
   {
    "duration": 27,
    "start_time": "2022-07-15T13:52:13.484Z"
   },
   {
    "duration": 160,
    "start_time": "2022-07-15T13:52:13.512Z"
   },
   {
    "duration": 18,
    "start_time": "2022-07-15T13:52:13.674Z"
   },
   {
    "duration": 29,
    "start_time": "2022-07-15T13:52:13.693Z"
   },
   {
    "duration": 4,
    "start_time": "2022-07-15T13:52:13.723Z"
   },
   {
    "duration": 8,
    "start_time": "2022-07-15T13:52:13.729Z"
   },
   {
    "duration": 28,
    "start_time": "2022-07-15T13:52:13.739Z"
   },
   {
    "duration": 17,
    "start_time": "2022-07-15T13:52:13.768Z"
   },
   {
    "duration": 28,
    "start_time": "2022-07-15T13:52:13.786Z"
   },
   {
    "duration": 7,
    "start_time": "2022-07-15T13:52:13.818Z"
   },
   {
    "duration": 1147,
    "start_time": "2022-07-15T14:14:23.562Z"
   },
   {
    "duration": 11,
    "start_time": "2022-07-15T14:14:24.711Z"
   },
   {
    "duration": 6,
    "start_time": "2022-07-15T14:14:24.724Z"
   },
   {
    "duration": 5,
    "start_time": "2022-07-15T14:14:24.731Z"
   },
   {
    "duration": 656,
    "start_time": "2022-07-15T14:14:24.738Z"
   },
   {
    "duration": 9,
    "start_time": "2022-07-15T14:14:25.395Z"
   },
   {
    "duration": 16,
    "start_time": "2022-07-15T14:14:25.406Z"
   },
   {
    "duration": 21,
    "start_time": "2022-07-15T14:14:25.427Z"
   },
   {
    "duration": 17,
    "start_time": "2022-07-15T14:14:25.450Z"
   },
   {
    "duration": 12,
    "start_time": "2022-07-15T14:14:25.470Z"
   },
   {
    "duration": 7,
    "start_time": "2022-07-15T14:14:25.484Z"
   },
   {
    "duration": 10,
    "start_time": "2022-07-15T14:14:25.493Z"
   },
   {
    "duration": 5,
    "start_time": "2022-07-15T14:14:25.505Z"
   },
   {
    "duration": 5,
    "start_time": "2022-07-15T14:14:25.512Z"
   },
   {
    "duration": 18,
    "start_time": "2022-07-15T14:14:25.518Z"
   },
   {
    "duration": 146,
    "start_time": "2022-07-15T14:14:25.538Z"
   },
   {
    "duration": 20,
    "start_time": "2022-07-15T14:14:25.685Z"
   },
   {
    "duration": 7,
    "start_time": "2022-07-15T14:14:25.706Z"
   },
   {
    "duration": 7,
    "start_time": "2022-07-15T14:14:25.714Z"
   },
   {
    "duration": 29,
    "start_time": "2022-07-15T14:14:25.722Z"
   },
   {
    "duration": 32671,
    "start_time": "2022-07-15T14:14:25.753Z"
   },
   {
    "duration": 5,
    "start_time": "2022-07-15T14:14:58.426Z"
   },
   {
    "duration": 13,
    "start_time": "2022-07-15T14:14:58.432Z"
   },
   {
    "duration": 25,
    "start_time": "2022-07-15T14:14:58.447Z"
   },
   {
    "duration": 4,
    "start_time": "2022-07-15T14:14:58.473Z"
   },
   {
    "duration": 24,
    "start_time": "2022-07-15T14:14:58.478Z"
   },
   {
    "duration": 4,
    "start_time": "2022-07-15T14:14:58.504Z"
   },
   {
    "duration": 9,
    "start_time": "2022-07-15T14:14:58.512Z"
   },
   {
    "duration": 19,
    "start_time": "2022-07-15T14:14:58.522Z"
   },
   {
    "duration": 11,
    "start_time": "2022-07-15T14:14:58.543Z"
   },
   {
    "duration": 6,
    "start_time": "2022-07-15T14:14:58.556Z"
   },
   {
    "duration": 148,
    "start_time": "2022-07-15T14:14:58.563Z"
   },
   {
    "duration": 10,
    "start_time": "2022-07-15T14:14:58.713Z"
   },
   {
    "duration": 244,
    "start_time": "2022-07-15T14:14:58.725Z"
   },
   {
    "duration": 7,
    "start_time": "2022-07-15T14:14:58.971Z"
   },
   {
    "duration": 3,
    "start_time": "2022-07-15T14:14:58.980Z"
   },
   {
    "duration": 25,
    "start_time": "2022-07-15T14:14:58.985Z"
   },
   {
    "duration": 9,
    "start_time": "2022-07-15T14:14:59.012Z"
   },
   {
    "duration": 323,
    "start_time": "2022-07-15T14:14:59.022Z"
   },
   {
    "duration": 7,
    "start_time": "2022-07-15T14:14:59.347Z"
   },
   {
    "duration": 14,
    "start_time": "2022-07-15T14:14:59.355Z"
   },
   {
    "duration": 4,
    "start_time": "2022-07-15T14:14:59.370Z"
   },
   {
    "duration": 26,
    "start_time": "2022-07-15T14:14:59.376Z"
   },
   {
    "duration": 162,
    "start_time": "2022-07-15T14:14:59.404Z"
   },
   {
    "duration": 384,
    "start_time": "2022-07-15T14:14:59.568Z"
   },
   {
    "duration": 136,
    "start_time": "2022-07-15T14:14:59.954Z"
   },
   {
    "duration": 48,
    "start_time": "2022-07-15T14:15:00.091Z"
   },
   {
    "duration": 16,
    "start_time": "2022-07-15T14:15:00.141Z"
   },
   {
    "duration": 15,
    "start_time": "2022-07-15T14:15:00.159Z"
   },
   {
    "duration": 27,
    "start_time": "2022-07-15T14:15:00.176Z"
   },
   {
    "duration": 7,
    "start_time": "2022-07-15T14:15:00.205Z"
   },
   {
    "duration": 13,
    "start_time": "2022-07-15T14:15:00.214Z"
   },
   {
    "duration": 7,
    "start_time": "2022-07-15T14:15:00.229Z"
   },
   {
    "duration": 16,
    "start_time": "2022-07-15T14:15:00.238Z"
   },
   {
    "duration": 24,
    "start_time": "2022-07-15T14:15:00.256Z"
   },
   {
    "duration": 10,
    "start_time": "2022-07-15T14:15:00.282Z"
   },
   {
    "duration": 171,
    "start_time": "2022-07-15T14:15:00.294Z"
   },
   {
    "duration": 6,
    "start_time": "2022-07-15T14:15:00.466Z"
   },
   {
    "duration": 134,
    "start_time": "2022-07-15T14:15:00.473Z"
   },
   {
    "duration": 5,
    "start_time": "2022-07-15T14:15:00.609Z"
   },
   {
    "duration": 29,
    "start_time": "2022-07-15T14:15:00.615Z"
   },
   {
    "duration": 7,
    "start_time": "2022-07-15T14:15:00.646Z"
   },
   {
    "duration": 12,
    "start_time": "2022-07-15T14:15:00.654Z"
   },
   {
    "duration": 9,
    "start_time": "2022-07-15T14:15:00.667Z"
   },
   {
    "duration": 17,
    "start_time": "2022-07-15T14:15:00.678Z"
   },
   {
    "duration": 161,
    "start_time": "2022-07-15T14:15:00.696Z"
   },
   {
    "duration": 8,
    "start_time": "2022-07-15T14:15:00.858Z"
   },
   {
    "duration": 15,
    "start_time": "2022-07-15T14:15:00.867Z"
   },
   {
    "duration": 19,
    "start_time": "2022-07-15T14:15:00.884Z"
   },
   {
    "duration": 16,
    "start_time": "2022-07-15T14:15:00.904Z"
   },
   {
    "duration": 243,
    "start_time": "2022-07-15T14:15:00.921Z"
   },
   {
    "duration": 5,
    "start_time": "2022-07-15T14:15:01.166Z"
   },
   {
    "duration": 8,
    "start_time": "2022-07-15T14:15:01.173Z"
   },
   {
    "duration": 6,
    "start_time": "2022-07-15T14:15:01.183Z"
   },
   {
    "duration": 24,
    "start_time": "2022-07-15T14:15:01.189Z"
   },
   {
    "duration": 12,
    "start_time": "2022-07-15T14:15:01.214Z"
   },
   {
    "duration": 6,
    "start_time": "2022-07-15T14:15:01.227Z"
   },
   {
    "duration": 13,
    "start_time": "2022-07-15T14:15:01.235Z"
   },
   {
    "duration": 256,
    "start_time": "2022-07-15T14:15:01.249Z"
   },
   {
    "duration": 5,
    "start_time": "2022-07-15T14:15:01.507Z"
   },
   {
    "duration": 8,
    "start_time": "2022-07-15T14:15:01.514Z"
   },
   {
    "duration": 12,
    "start_time": "2022-07-15T14:15:01.526Z"
   },
   {
    "duration": 17,
    "start_time": "2022-07-15T14:15:01.539Z"
   },
   {
    "duration": 8,
    "start_time": "2022-07-15T14:15:01.557Z"
   },
   {
    "duration": 12,
    "start_time": "2022-07-15T14:15:01.566Z"
   },
   {
    "duration": 113,
    "start_time": "2022-07-15T14:15:01.580Z"
   },
   {
    "duration": 7,
    "start_time": "2022-07-15T14:15:01.701Z"
   },
   {
    "duration": 141,
    "start_time": "2022-07-15T14:15:01.710Z"
   },
   {
    "duration": 7,
    "start_time": "2022-07-15T14:15:01.853Z"
   },
   {
    "duration": 35,
    "start_time": "2022-07-15T14:15:01.862Z"
   },
   {
    "duration": 5,
    "start_time": "2022-07-15T14:15:01.898Z"
   },
   {
    "duration": 6,
    "start_time": "2022-07-15T14:15:01.905Z"
   },
   {
    "duration": 12,
    "start_time": "2022-07-15T14:15:01.912Z"
   },
   {
    "duration": 8,
    "start_time": "2022-07-15T14:15:01.926Z"
   },
   {
    "duration": 6,
    "start_time": "2022-07-15T14:15:01.936Z"
   },
   {
    "duration": 28,
    "start_time": "2022-07-15T14:15:01.944Z"
   },
   {
    "duration": 15,
    "start_time": "2022-07-15T14:15:01.973Z"
   },
   {
    "duration": 173,
    "start_time": "2022-07-15T14:15:01.990Z"
   },
   {
    "duration": 19,
    "start_time": "2022-07-15T14:15:02.165Z"
   },
   {
    "duration": 30,
    "start_time": "2022-07-15T14:15:02.186Z"
   },
   {
    "duration": 5,
    "start_time": "2022-07-15T14:15:02.217Z"
   },
   {
    "duration": 10,
    "start_time": "2022-07-15T14:15:02.224Z"
   },
   {
    "duration": 26,
    "start_time": "2022-07-15T14:15:02.236Z"
   },
   {
    "duration": 40,
    "start_time": "2022-07-15T14:15:02.263Z"
   },
   {
    "duration": 5,
    "start_time": "2022-07-15T14:15:02.305Z"
   },
   {
    "duration": 7,
    "start_time": "2022-07-15T14:15:02.311Z"
   },
   {
    "duration": 47,
    "start_time": "2022-07-15T20:54:56.506Z"
   },
   {
    "duration": 1325,
    "start_time": "2022-07-15T20:55:22.082Z"
   },
   {
    "duration": 1242,
    "start_time": "2022-07-15T20:55:35.007Z"
   },
   {
    "duration": 0,
    "start_time": "2022-07-15T20:55:36.253Z"
   },
   {
    "duration": 0,
    "start_time": "2022-07-15T20:55:36.254Z"
   },
   {
    "duration": 0,
    "start_time": "2022-07-15T20:55:36.255Z"
   },
   {
    "duration": 0,
    "start_time": "2022-07-15T20:55:36.256Z"
   },
   {
    "duration": 0,
    "start_time": "2022-07-15T20:55:36.257Z"
   },
   {
    "duration": 0,
    "start_time": "2022-07-15T20:55:36.258Z"
   },
   {
    "duration": 0,
    "start_time": "2022-07-15T20:55:36.259Z"
   },
   {
    "duration": 0,
    "start_time": "2022-07-15T20:55:36.260Z"
   },
   {
    "duration": 0,
    "start_time": "2022-07-15T20:55:36.261Z"
   },
   {
    "duration": 0,
    "start_time": "2022-07-15T20:55:36.262Z"
   },
   {
    "duration": 0,
    "start_time": "2022-07-15T20:55:36.263Z"
   },
   {
    "duration": 0,
    "start_time": "2022-07-15T20:55:36.264Z"
   },
   {
    "duration": 0,
    "start_time": "2022-07-15T20:55:36.265Z"
   },
   {
    "duration": 0,
    "start_time": "2022-07-15T20:55:36.266Z"
   },
   {
    "duration": 0,
    "start_time": "2022-07-15T20:55:36.267Z"
   },
   {
    "duration": 0,
    "start_time": "2022-07-15T20:55:36.268Z"
   },
   {
    "duration": 0,
    "start_time": "2022-07-15T20:55:36.269Z"
   },
   {
    "duration": 0,
    "start_time": "2022-07-15T20:55:36.270Z"
   },
   {
    "duration": 0,
    "start_time": "2022-07-15T20:55:36.270Z"
   },
   {
    "duration": 0,
    "start_time": "2022-07-15T20:55:36.271Z"
   },
   {
    "duration": 0,
    "start_time": "2022-07-15T20:55:36.301Z"
   },
   {
    "duration": 0,
    "start_time": "2022-07-15T20:55:36.302Z"
   },
   {
    "duration": 0,
    "start_time": "2022-07-15T20:55:36.304Z"
   },
   {
    "duration": 0,
    "start_time": "2022-07-15T20:55:36.305Z"
   },
   {
    "duration": 0,
    "start_time": "2022-07-15T20:55:36.306Z"
   },
   {
    "duration": 0,
    "start_time": "2022-07-15T20:55:36.308Z"
   },
   {
    "duration": 0,
    "start_time": "2022-07-15T20:55:36.309Z"
   },
   {
    "duration": 0,
    "start_time": "2022-07-15T20:55:36.310Z"
   },
   {
    "duration": 0,
    "start_time": "2022-07-15T20:55:36.312Z"
   },
   {
    "duration": 0,
    "start_time": "2022-07-15T20:55:36.313Z"
   },
   {
    "duration": 0,
    "start_time": "2022-07-15T20:55:36.315Z"
   },
   {
    "duration": 0,
    "start_time": "2022-07-15T20:55:36.316Z"
   },
   {
    "duration": 0,
    "start_time": "2022-07-15T20:55:36.318Z"
   },
   {
    "duration": 0,
    "start_time": "2022-07-15T20:55:36.319Z"
   },
   {
    "duration": 0,
    "start_time": "2022-07-15T20:55:36.321Z"
   },
   {
    "duration": 0,
    "start_time": "2022-07-15T20:55:36.322Z"
   },
   {
    "duration": 0,
    "start_time": "2022-07-15T20:55:36.323Z"
   },
   {
    "duration": 0,
    "start_time": "2022-07-15T20:55:36.325Z"
   },
   {
    "duration": 0,
    "start_time": "2022-07-15T20:55:36.326Z"
   },
   {
    "duration": 0,
    "start_time": "2022-07-15T20:55:36.327Z"
   },
   {
    "duration": 0,
    "start_time": "2022-07-15T20:55:36.329Z"
   },
   {
    "duration": 0,
    "start_time": "2022-07-15T20:55:36.330Z"
   },
   {
    "duration": 0,
    "start_time": "2022-07-15T20:55:36.331Z"
   },
   {
    "duration": 0,
    "start_time": "2022-07-15T20:55:36.333Z"
   },
   {
    "duration": 0,
    "start_time": "2022-07-15T20:55:36.335Z"
   },
   {
    "duration": 0,
    "start_time": "2022-07-15T20:55:36.336Z"
   },
   {
    "duration": 0,
    "start_time": "2022-07-15T20:55:36.337Z"
   },
   {
    "duration": 0,
    "start_time": "2022-07-15T20:55:36.338Z"
   },
   {
    "duration": 0,
    "start_time": "2022-07-15T20:55:36.402Z"
   },
   {
    "duration": 0,
    "start_time": "2022-07-15T20:55:36.403Z"
   },
   {
    "duration": 0,
    "start_time": "2022-07-15T20:55:36.405Z"
   },
   {
    "duration": 0,
    "start_time": "2022-07-15T20:55:36.406Z"
   },
   {
    "duration": 0,
    "start_time": "2022-07-15T20:55:36.409Z"
   },
   {
    "duration": 0,
    "start_time": "2022-07-15T20:55:36.410Z"
   },
   {
    "duration": 0,
    "start_time": "2022-07-15T20:55:36.411Z"
   },
   {
    "duration": 0,
    "start_time": "2022-07-15T20:55:36.413Z"
   },
   {
    "duration": 0,
    "start_time": "2022-07-15T20:55:36.414Z"
   },
   {
    "duration": 0,
    "start_time": "2022-07-15T20:55:36.415Z"
   },
   {
    "duration": 0,
    "start_time": "2022-07-15T20:55:36.416Z"
   },
   {
    "duration": 0,
    "start_time": "2022-07-15T20:55:36.417Z"
   },
   {
    "duration": 0,
    "start_time": "2022-07-15T20:55:36.418Z"
   },
   {
    "duration": 0,
    "start_time": "2022-07-15T20:55:36.419Z"
   },
   {
    "duration": 0,
    "start_time": "2022-07-15T20:55:36.420Z"
   },
   {
    "duration": 0,
    "start_time": "2022-07-15T20:55:36.422Z"
   },
   {
    "duration": 0,
    "start_time": "2022-07-15T20:55:36.422Z"
   },
   {
    "duration": 0,
    "start_time": "2022-07-15T20:55:36.424Z"
   },
   {
    "duration": 0,
    "start_time": "2022-07-15T20:55:36.425Z"
   },
   {
    "duration": 0,
    "start_time": "2022-07-15T20:55:36.426Z"
   },
   {
    "duration": 0,
    "start_time": "2022-07-15T20:55:36.427Z"
   },
   {
    "duration": 0,
    "start_time": "2022-07-15T20:55:36.429Z"
   },
   {
    "duration": 0,
    "start_time": "2022-07-15T20:55:36.429Z"
   },
   {
    "duration": 0,
    "start_time": "2022-07-15T20:55:36.430Z"
   },
   {
    "duration": 0,
    "start_time": "2022-07-15T20:55:36.431Z"
   },
   {
    "duration": 0,
    "start_time": "2022-07-15T20:55:36.432Z"
   },
   {
    "duration": 0,
    "start_time": "2022-07-15T20:55:36.433Z"
   },
   {
    "duration": 0,
    "start_time": "2022-07-15T20:55:36.434Z"
   },
   {
    "duration": 0,
    "start_time": "2022-07-15T20:55:36.435Z"
   },
   {
    "duration": 0,
    "start_time": "2022-07-15T20:55:36.436Z"
   },
   {
    "duration": 0,
    "start_time": "2022-07-15T20:55:36.436Z"
   },
   {
    "duration": 0,
    "start_time": "2022-07-15T20:55:36.437Z"
   },
   {
    "duration": 0,
    "start_time": "2022-07-15T20:55:36.438Z"
   },
   {
    "duration": 0,
    "start_time": "2022-07-15T20:55:36.439Z"
   },
   {
    "duration": 0,
    "start_time": "2022-07-15T20:55:36.501Z"
   },
   {
    "duration": 0,
    "start_time": "2022-07-15T20:55:36.502Z"
   },
   {
    "duration": 0,
    "start_time": "2022-07-15T20:55:36.503Z"
   },
   {
    "duration": 0,
    "start_time": "2022-07-15T20:55:36.504Z"
   },
   {
    "duration": 0,
    "start_time": "2022-07-15T20:55:36.505Z"
   },
   {
    "duration": 0,
    "start_time": "2022-07-15T20:55:36.506Z"
   },
   {
    "duration": 0,
    "start_time": "2022-07-15T20:55:36.507Z"
   },
   {
    "duration": 0,
    "start_time": "2022-07-15T20:55:36.508Z"
   },
   {
    "duration": 0,
    "start_time": "2022-07-15T20:55:36.509Z"
   },
   {
    "duration": 0,
    "start_time": "2022-07-15T20:55:36.510Z"
   },
   {
    "duration": 0,
    "start_time": "2022-07-15T20:55:36.512Z"
   },
   {
    "duration": 0,
    "start_time": "2022-07-15T20:55:36.513Z"
   },
   {
    "duration": 0,
    "start_time": "2022-07-15T20:55:36.514Z"
   },
   {
    "duration": 0,
    "start_time": "2022-07-15T20:55:36.516Z"
   },
   {
    "duration": 0,
    "start_time": "2022-07-15T20:55:36.517Z"
   },
   {
    "duration": 0,
    "start_time": "2022-07-15T20:55:36.518Z"
   },
   {
    "duration": 0,
    "start_time": "2022-07-15T20:55:36.519Z"
   },
   {
    "duration": 0,
    "start_time": "2022-07-15T20:55:36.520Z"
   },
   {
    "duration": 0,
    "start_time": "2022-07-15T20:55:36.522Z"
   },
   {
    "duration": 0,
    "start_time": "2022-07-15T20:55:36.523Z"
   },
   {
    "duration": 0,
    "start_time": "2022-07-15T20:55:36.524Z"
   },
   {
    "duration": 0,
    "start_time": "2022-07-15T20:55:36.526Z"
   },
   {
    "duration": 1,
    "start_time": "2022-07-15T20:55:36.527Z"
   },
   {
    "duration": 0,
    "start_time": "2022-07-15T20:55:36.528Z"
   },
   {
    "duration": 24,
    "start_time": "2022-07-15T20:55:48.181Z"
   },
   {
    "duration": 14,
    "start_time": "2022-07-15T20:56:26.661Z"
   },
   {
    "duration": 121,
    "start_time": "2022-07-15T20:56:29.875Z"
   },
   {
    "duration": 977,
    "start_time": "2022-07-15T20:56:44.988Z"
   },
   {
    "duration": 1146,
    "start_time": "2022-07-15T20:57:04.299Z"
   },
   {
    "duration": 15,
    "start_time": "2022-07-15T20:57:05.447Z"
   },
   {
    "duration": 12,
    "start_time": "2022-07-15T20:57:05.463Z"
   },
   {
    "duration": 13,
    "start_time": "2022-07-15T20:57:05.477Z"
   },
   {
    "duration": 685,
    "start_time": "2022-07-15T20:57:05.492Z"
   },
   {
    "duration": 6,
    "start_time": "2022-07-15T20:57:06.179Z"
   },
   {
    "duration": 41,
    "start_time": "2022-07-15T20:57:06.186Z"
   },
   {
    "duration": 16,
    "start_time": "2022-07-15T20:57:06.229Z"
   },
   {
    "duration": 8,
    "start_time": "2022-07-15T20:57:06.247Z"
   },
   {
    "duration": 9,
    "start_time": "2022-07-15T20:57:06.258Z"
   },
   {
    "duration": 7,
    "start_time": "2022-07-15T20:57:06.269Z"
   },
   {
    "duration": 13,
    "start_time": "2022-07-15T20:57:06.277Z"
   },
   {
    "duration": 21,
    "start_time": "2022-07-15T20:57:06.292Z"
   },
   {
    "duration": 10,
    "start_time": "2022-07-15T20:57:06.319Z"
   },
   {
    "duration": 18,
    "start_time": "2022-07-15T20:57:06.331Z"
   },
   {
    "duration": 145,
    "start_time": "2022-07-15T20:57:06.351Z"
   },
   {
    "duration": 19,
    "start_time": "2022-07-15T20:57:06.498Z"
   },
   {
    "duration": 16,
    "start_time": "2022-07-15T20:57:06.518Z"
   },
   {
    "duration": 9,
    "start_time": "2022-07-15T20:57:06.536Z"
   },
   {
    "duration": 25,
    "start_time": "2022-07-15T20:57:06.546Z"
   },
   {
    "duration": 32304,
    "start_time": "2022-07-15T20:57:06.572Z"
   },
   {
    "duration": 4,
    "start_time": "2022-07-15T20:57:38.878Z"
   },
   {
    "duration": 30,
    "start_time": "2022-07-15T20:57:38.884Z"
   },
   {
    "duration": 18,
    "start_time": "2022-07-15T20:57:38.915Z"
   },
   {
    "duration": 5,
    "start_time": "2022-07-15T20:57:38.934Z"
   },
   {
    "duration": 11,
    "start_time": "2022-07-15T20:57:38.940Z"
   },
   {
    "duration": 5,
    "start_time": "2022-07-15T20:57:38.953Z"
   },
   {
    "duration": 5,
    "start_time": "2022-07-15T20:57:38.962Z"
   },
   {
    "duration": 16,
    "start_time": "2022-07-15T20:57:38.968Z"
   },
   {
    "duration": 35,
    "start_time": "2022-07-15T20:57:38.986Z"
   },
   {
    "duration": 8,
    "start_time": "2022-07-15T20:57:39.023Z"
   },
   {
    "duration": 144,
    "start_time": "2022-07-15T20:57:39.033Z"
   },
   {
    "duration": 6,
    "start_time": "2022-07-15T20:57:39.179Z"
   },
   {
    "duration": 270,
    "start_time": "2022-07-15T20:57:39.187Z"
   },
   {
    "duration": 7,
    "start_time": "2022-07-15T20:57:39.459Z"
   },
   {
    "duration": 3,
    "start_time": "2022-07-15T20:57:39.468Z"
   },
   {
    "duration": 21,
    "start_time": "2022-07-15T20:57:39.472Z"
   },
   {
    "duration": 21,
    "start_time": "2022-07-15T20:57:39.495Z"
   },
   {
    "duration": 324,
    "start_time": "2022-07-15T20:57:39.518Z"
   },
   {
    "duration": 5,
    "start_time": "2022-07-15T20:57:39.844Z"
   },
   {
    "duration": 13,
    "start_time": "2022-07-15T20:57:39.851Z"
   },
   {
    "duration": 5,
    "start_time": "2022-07-15T20:57:39.865Z"
   },
   {
    "duration": 10,
    "start_time": "2022-07-15T20:57:39.871Z"
   },
   {
    "duration": 188,
    "start_time": "2022-07-15T20:57:39.883Z"
   },
   {
    "duration": 438,
    "start_time": "2022-07-15T20:57:40.073Z"
   },
   {
    "duration": 119,
    "start_time": "2022-07-15T20:57:40.513Z"
   },
   {
    "duration": 34,
    "start_time": "2022-07-15T20:57:40.634Z"
   },
   {
    "duration": 10,
    "start_time": "2022-07-15T20:57:40.670Z"
   },
   {
    "duration": 32,
    "start_time": "2022-07-15T20:57:40.682Z"
   },
   {
    "duration": 6,
    "start_time": "2022-07-15T20:57:40.715Z"
   },
   {
    "duration": 8,
    "start_time": "2022-07-15T20:57:40.723Z"
   },
   {
    "duration": 8,
    "start_time": "2022-07-15T20:57:40.732Z"
   },
   {
    "duration": 7,
    "start_time": "2022-07-15T20:57:40.741Z"
   },
   {
    "duration": 9,
    "start_time": "2022-07-15T20:57:40.749Z"
   },
   {
    "duration": 7,
    "start_time": "2022-07-15T20:57:40.760Z"
   },
   {
    "duration": 8,
    "start_time": "2022-07-15T20:57:40.800Z"
   },
   {
    "duration": 157,
    "start_time": "2022-07-15T20:57:40.809Z"
   },
   {
    "duration": 5,
    "start_time": "2022-07-15T20:57:40.968Z"
   },
   {
    "duration": 159,
    "start_time": "2022-07-15T20:57:40.974Z"
   },
   {
    "duration": 5,
    "start_time": "2022-07-15T20:57:41.135Z"
   },
   {
    "duration": 15,
    "start_time": "2022-07-15T20:57:41.142Z"
   },
   {
    "duration": 8,
    "start_time": "2022-07-15T20:57:41.159Z"
   },
   {
    "duration": 5,
    "start_time": "2022-07-15T20:57:41.169Z"
   },
   {
    "duration": 27,
    "start_time": "2022-07-15T20:57:41.176Z"
   },
   {
    "duration": 33,
    "start_time": "2022-07-15T20:57:41.205Z"
   },
   {
    "duration": 157,
    "start_time": "2022-07-15T20:57:41.239Z"
   },
   {
    "duration": 15,
    "start_time": "2022-07-15T20:57:41.399Z"
   },
   {
    "duration": 11,
    "start_time": "2022-07-15T20:57:41.416Z"
   },
   {
    "duration": 15,
    "start_time": "2022-07-15T20:57:41.429Z"
   },
   {
    "duration": 15,
    "start_time": "2022-07-15T20:57:41.446Z"
   },
   {
    "duration": 242,
    "start_time": "2022-07-15T20:57:41.463Z"
   },
   {
    "duration": 6,
    "start_time": "2022-07-15T20:57:41.712Z"
   },
   {
    "duration": 6,
    "start_time": "2022-07-15T20:57:41.719Z"
   },
   {
    "duration": 8,
    "start_time": "2022-07-15T20:57:41.726Z"
   },
   {
    "duration": 17,
    "start_time": "2022-07-15T20:57:41.735Z"
   },
   {
    "duration": 6,
    "start_time": "2022-07-15T20:57:41.754Z"
   },
   {
    "duration": 7,
    "start_time": "2022-07-15T20:57:41.762Z"
   },
   {
    "duration": 14,
    "start_time": "2022-07-15T20:57:41.770Z"
   },
   {
    "duration": 250,
    "start_time": "2022-07-15T20:57:41.809Z"
   },
   {
    "duration": 5,
    "start_time": "2022-07-15T20:57:42.061Z"
   },
   {
    "duration": 7,
    "start_time": "2022-07-15T20:57:42.067Z"
   },
   {
    "duration": 3,
    "start_time": "2022-07-15T20:57:42.079Z"
   },
   {
    "duration": 13,
    "start_time": "2022-07-15T20:57:42.100Z"
   },
   {
    "duration": 11,
    "start_time": "2022-07-15T20:57:42.115Z"
   },
   {
    "duration": 11,
    "start_time": "2022-07-15T20:57:42.128Z"
   },
   {
    "duration": 111,
    "start_time": "2022-07-15T20:57:42.140Z"
   },
   {
    "duration": 7,
    "start_time": "2022-07-15T20:57:42.253Z"
   },
   {
    "duration": 132,
    "start_time": "2022-07-15T20:57:42.262Z"
   },
   {
    "duration": 19,
    "start_time": "2022-07-15T20:57:42.396Z"
   },
   {
    "duration": 9,
    "start_time": "2022-07-15T20:57:42.417Z"
   },
   {
    "duration": 6,
    "start_time": "2022-07-15T20:57:42.428Z"
   },
   {
    "duration": 5,
    "start_time": "2022-07-15T20:57:42.436Z"
   },
   {
    "duration": 5,
    "start_time": "2022-07-15T20:57:42.442Z"
   },
   {
    "duration": 7,
    "start_time": "2022-07-15T20:57:42.449Z"
   },
   {
    "duration": 8,
    "start_time": "2022-07-15T20:57:42.457Z"
   },
   {
    "duration": 9,
    "start_time": "2022-07-15T20:57:42.467Z"
   },
   {
    "duration": 36,
    "start_time": "2022-07-15T20:57:42.477Z"
   },
   {
    "duration": 192,
    "start_time": "2022-07-15T20:57:42.515Z"
   },
   {
    "duration": 23,
    "start_time": "2022-07-15T20:57:42.708Z"
   },
   {
    "duration": 27,
    "start_time": "2022-07-15T20:57:42.733Z"
   },
   {
    "duration": 9,
    "start_time": "2022-07-15T20:57:42.762Z"
   },
   {
    "duration": 7,
    "start_time": "2022-07-15T20:57:42.773Z"
   },
   {
    "duration": 52,
    "start_time": "2022-07-15T20:57:42.782Z"
   },
   {
    "duration": 19,
    "start_time": "2022-07-15T20:57:42.835Z"
   },
   {
    "duration": 4,
    "start_time": "2022-07-15T20:57:42.855Z"
   },
   {
    "duration": 8,
    "start_time": "2022-07-15T20:57:42.861Z"
   },
   {
    "duration": 11,
    "start_time": "2022-07-15T20:57:42.870Z"
   },
   {
    "duration": 8,
    "start_time": "2022-07-15T20:59:17.819Z"
   },
   {
    "duration": 8,
    "start_time": "2022-07-15T21:00:04.579Z"
   },
   {
    "duration": 9,
    "start_time": "2022-07-15T21:00:34.815Z"
   },
   {
    "duration": 9,
    "start_time": "2022-07-15T21:01:05.952Z"
   },
   {
    "duration": 7,
    "start_time": "2022-07-15T21:01:40.052Z"
   },
   {
    "duration": 103,
    "start_time": "2022-07-15T21:04:22.062Z"
   },
   {
    "duration": 11,
    "start_time": "2022-07-15T21:04:28.059Z"
   },
   {
    "duration": 10,
    "start_time": "2022-07-15T21:05:22.360Z"
   },
   {
    "duration": 9,
    "start_time": "2022-07-15T21:05:41.087Z"
   },
   {
    "duration": 10,
    "start_time": "2022-07-15T21:06:18.506Z"
   },
   {
    "duration": 1380,
    "start_time": "2022-07-17T10:53:48.690Z"
   },
   {
    "duration": 18,
    "start_time": "2022-07-17T10:53:58.982Z"
   },
   {
    "duration": 6,
    "start_time": "2022-07-17T10:54:24.958Z"
   },
   {
    "duration": 5,
    "start_time": "2022-07-17T10:54:44.590Z"
   },
   {
    "duration": 632,
    "start_time": "2022-07-17T10:54:53.838Z"
   },
   {
    "duration": 3,
    "start_time": "2022-07-17T10:56:10.497Z"
   },
   {
    "duration": 13,
    "start_time": "2022-07-17T10:56:17.436Z"
   },
   {
    "duration": 4,
    "start_time": "2022-07-17T11:01:50.037Z"
   },
   {
    "duration": 10,
    "start_time": "2022-07-17T11:03:14.825Z"
   },
   {
    "duration": 8,
    "start_time": "2022-07-17T11:03:43.684Z"
   },
   {
    "duration": 17,
    "start_time": "2022-07-17T11:04:45.420Z"
   },
   {
    "duration": 22,
    "start_time": "2022-07-17T11:05:09.535Z"
   },
   {
    "duration": 14,
    "start_time": "2022-07-17T11:06:39.827Z"
   },
   {
    "duration": 19,
    "start_time": "2022-07-17T11:06:48.715Z"
   },
   {
    "duration": 8,
    "start_time": "2022-07-17T11:07:02.446Z"
   },
   {
    "duration": 6,
    "start_time": "2022-07-17T11:07:15.085Z"
   },
   {
    "duration": 7,
    "start_time": "2022-07-17T11:26:41.217Z"
   },
   {
    "duration": 11,
    "start_time": "2022-07-17T11:27:56.675Z"
   },
   {
    "duration": 132,
    "start_time": "2022-07-17T11:28:21.137Z"
   },
   {
    "duration": 12,
    "start_time": "2022-07-17T11:28:38.099Z"
   },
   {
    "duration": 7,
    "start_time": "2022-07-17T11:28:49.680Z"
   },
   {
    "duration": 6,
    "start_time": "2022-07-17T11:31:36.306Z"
   },
   {
    "duration": 7,
    "start_time": "2022-07-17T11:31:59.571Z"
   },
   {
    "duration": 8,
    "start_time": "2022-07-17T11:47:53.155Z"
   },
   {
    "duration": 6,
    "start_time": "2022-07-17T11:54:05.840Z"
   },
   {
    "duration": 8,
    "start_time": "2022-07-17T11:54:15.559Z"
   },
   {
    "duration": 14,
    "start_time": "2022-07-17T12:01:05.186Z"
   },
   {
    "duration": 8,
    "start_time": "2022-07-17T12:01:55.159Z"
   },
   {
    "duration": 16,
    "start_time": "2022-07-17T12:04:20.277Z"
   },
   {
    "duration": 6,
    "start_time": "2022-07-17T12:06:05.006Z"
   },
   {
    "duration": 5,
    "start_time": "2022-07-17T12:06:23.011Z"
   },
   {
    "duration": 27,
    "start_time": "2022-07-17T12:06:30.334Z"
   },
   {
    "duration": 32425,
    "start_time": "2022-07-17T12:06:41.335Z"
   },
   {
    "duration": 5,
    "start_time": "2022-07-17T12:13:17.284Z"
   },
   {
    "duration": 9,
    "start_time": "2022-07-17T12:14:21.896Z"
   },
   {
    "duration": 16,
    "start_time": "2022-07-17T12:15:09.564Z"
   },
   {
    "duration": 5,
    "start_time": "2022-07-17T12:17:52.457Z"
   },
   {
    "duration": 7,
    "start_time": "2022-07-17T12:18:01.863Z"
   },
   {
    "duration": 4,
    "start_time": "2022-07-17T12:18:05.578Z"
   },
   {
    "duration": 19,
    "start_time": "2022-07-17T12:18:38.363Z"
   },
   {
    "duration": 3,
    "start_time": "2022-07-17T12:19:01.499Z"
   },
   {
    "duration": 4,
    "start_time": "2022-07-17T12:20:55.062Z"
   },
   {
    "duration": 13,
    "start_time": "2022-07-17T12:21:05.781Z"
   },
   {
    "duration": 13,
    "start_time": "2022-07-17T12:21:51.395Z"
   },
   {
    "duration": 6,
    "start_time": "2022-07-17T12:23:35.999Z"
   },
   {
    "duration": 124,
    "start_time": "2022-07-17T12:23:43.623Z"
   },
   {
    "duration": 230,
    "start_time": "2022-07-17T12:25:17.650Z"
   },
   {
    "duration": 133,
    "start_time": "2022-07-17T12:26:22.267Z"
   },
   {
    "duration": 133,
    "start_time": "2022-07-17T12:26:28.147Z"
   },
   {
    "duration": 143,
    "start_time": "2022-07-17T12:26:42.626Z"
   },
   {
    "duration": 198,
    "start_time": "2022-07-17T12:26:53.335Z"
   },
   {
    "duration": 128,
    "start_time": "2022-07-17T12:27:25.770Z"
   },
   {
    "duration": 135,
    "start_time": "2022-07-17T12:27:59.916Z"
   },
   {
    "duration": 128,
    "start_time": "2022-07-17T12:28:14.107Z"
   },
   {
    "duration": 10,
    "start_time": "2022-07-17T12:29:58.988Z"
   },
   {
    "duration": 12,
    "start_time": "2022-07-17T12:31:46.867Z"
   },
   {
    "duration": 290,
    "start_time": "2022-07-17T12:32:01.253Z"
   },
   {
    "duration": 254,
    "start_time": "2022-07-17T12:32:16.953Z"
   },
   {
    "duration": 247,
    "start_time": "2022-07-17T12:32:42.151Z"
   },
   {
    "duration": 6,
    "start_time": "2022-07-17T12:35:39.027Z"
   },
   {
    "duration": 12,
    "start_time": "2022-07-17T12:36:55.726Z"
   },
   {
    "duration": 13,
    "start_time": "2022-07-17T12:37:07.448Z"
   },
   {
    "duration": 7,
    "start_time": "2022-07-17T12:37:11.929Z"
   },
   {
    "duration": 12,
    "start_time": "2022-07-17T12:37:39.139Z"
   },
   {
    "duration": 5,
    "start_time": "2022-07-17T12:37:41.938Z"
   },
   {
    "duration": 13,
    "start_time": "2022-07-17T12:37:53.799Z"
   },
   {
    "duration": 260,
    "start_time": "2022-07-17T12:38:12.273Z"
   },
   {
    "duration": 12,
    "start_time": "2022-07-17T12:38:27.413Z"
   },
   {
    "duration": 7,
    "start_time": "2022-07-17T12:38:53.917Z"
   },
   {
    "duration": 340,
    "start_time": "2022-07-17T12:39:05.932Z"
   },
   {
    "duration": 18,
    "start_time": "2022-07-17T12:39:36.099Z"
   },
   {
    "duration": 7,
    "start_time": "2022-07-17T12:39:45.378Z"
   },
   {
    "duration": 12,
    "start_time": "2022-07-17T12:39:49.374Z"
   },
   {
    "duration": 8,
    "start_time": "2022-07-17T12:39:51.970Z"
   },
   {
    "duration": 16,
    "start_time": "2022-07-17T12:53:07.857Z"
   },
   {
    "duration": 50,
    "start_time": "2022-07-17T12:54:08.364Z"
   },
   {
    "duration": 13,
    "start_time": "2022-07-17T12:55:52.342Z"
   },
   {
    "duration": 8,
    "start_time": "2022-07-17T12:57:47.254Z"
   },
   {
    "duration": 9,
    "start_time": "2022-07-17T12:58:01.074Z"
   },
   {
    "duration": 13,
    "start_time": "2022-07-17T12:58:06.235Z"
   },
   {
    "duration": 9,
    "start_time": "2022-07-17T12:58:23.523Z"
   },
   {
    "duration": 1243,
    "start_time": "2022-07-17T13:02:08.196Z"
   },
   {
    "duration": 297,
    "start_time": "2022-07-17T13:02:49.637Z"
   },
   {
    "duration": 10,
    "start_time": "2022-07-17T13:06:32.199Z"
   },
   {
    "duration": 7,
    "start_time": "2022-07-17T13:06:40.731Z"
   },
   {
    "duration": 19,
    "start_time": "2022-07-17T13:06:55.416Z"
   },
   {
    "duration": 6,
    "start_time": "2022-07-17T13:15:55.803Z"
   },
   {
    "duration": 12,
    "start_time": "2022-07-17T13:17:03.493Z"
   },
   {
    "duration": 5,
    "start_time": "2022-07-17T13:17:31.927Z"
   },
   {
    "duration": 7,
    "start_time": "2022-07-17T13:17:55.071Z"
   },
   {
    "duration": 134,
    "start_time": "2022-07-17T13:18:42.538Z"
   },
   {
    "duration": 946,
    "start_time": "2022-07-17T13:21:38.752Z"
   },
   {
    "duration": 969,
    "start_time": "2022-07-17T13:21:55.678Z"
   },
   {
    "duration": 668,
    "start_time": "2022-07-17T13:22:21.299Z"
   },
   {
    "duration": 705,
    "start_time": "2022-07-17T13:22:30.305Z"
   },
   {
    "duration": 833,
    "start_time": "2022-07-17T13:22:38.039Z"
   },
   {
    "duration": 818,
    "start_time": "2022-07-17T13:27:01.155Z"
   },
   {
    "duration": 970,
    "start_time": "2022-07-17T13:27:11.350Z"
   },
   {
    "duration": 866,
    "start_time": "2022-07-17T13:27:24.906Z"
   },
   {
    "duration": 1042,
    "start_time": "2022-07-17T13:28:09.477Z"
   },
   {
    "duration": 768,
    "start_time": "2022-07-17T13:29:32.755Z"
   },
   {
    "duration": 985,
    "start_time": "2022-07-17T13:30:01.303Z"
   },
   {
    "duration": 828,
    "start_time": "2022-07-17T13:30:16.712Z"
   },
   {
    "duration": 1006,
    "start_time": "2022-07-17T13:30:42.390Z"
   },
   {
    "duration": 858,
    "start_time": "2022-07-17T13:32:27.882Z"
   },
   {
    "duration": 856,
    "start_time": "2022-07-17T13:32:40.257Z"
   },
   {
    "duration": 964,
    "start_time": "2022-07-17T13:34:13.673Z"
   },
   {
    "duration": 873,
    "start_time": "2022-07-17T13:34:26.568Z"
   },
   {
    "duration": 990,
    "start_time": "2022-07-17T13:37:45.865Z"
   },
   {
    "duration": 796,
    "start_time": "2022-07-17T13:38:01.630Z"
   },
   {
    "duration": 1029,
    "start_time": "2022-07-17T13:38:12.981Z"
   },
   {
    "duration": 872,
    "start_time": "2022-07-17T13:38:24.718Z"
   },
   {
    "duration": 941,
    "start_time": "2022-07-17T13:38:59.067Z"
   },
   {
    "duration": 189,
    "start_time": "2022-07-17T13:40:36.861Z"
   },
   {
    "duration": 178,
    "start_time": "2022-07-17T15:24:36.480Z"
   },
   {
    "duration": 835,
    "start_time": "2022-07-17T15:39:51.596Z"
   },
   {
    "duration": 1151,
    "start_time": "2022-07-17T15:40:10.512Z"
   },
   {
    "duration": 1038,
    "start_time": "2022-07-17T15:40:18.827Z"
   },
   {
    "duration": 958,
    "start_time": "2022-07-17T15:40:24.501Z"
   },
   {
    "duration": 1746,
    "start_time": "2022-07-17T15:41:40.188Z"
   },
   {
    "duration": 1745,
    "start_time": "2022-07-17T15:42:00.420Z"
   },
   {
    "duration": 1201,
    "start_time": "2022-07-17T15:42:38.119Z"
   },
   {
    "duration": 165,
    "start_time": "2022-07-17T15:42:55.519Z"
   },
   {
    "duration": 808,
    "start_time": "2022-07-17T15:43:27.428Z"
   },
   {
    "duration": 139,
    "start_time": "2022-07-17T15:44:20.622Z"
   },
   {
    "duration": 817,
    "start_time": "2022-07-17T15:44:32.081Z"
   },
   {
    "duration": 1704,
    "start_time": "2022-07-17T15:44:42.911Z"
   },
   {
    "duration": 766,
    "start_time": "2022-07-17T15:44:50.890Z"
   },
   {
    "duration": 950,
    "start_time": "2022-07-17T15:45:24.482Z"
   },
   {
    "duration": 8,
    "start_time": "2022-07-17T16:16:36.716Z"
   },
   {
    "duration": 8,
    "start_time": "2022-07-17T16:16:51.891Z"
   },
   {
    "duration": 14,
    "start_time": "2022-07-17T16:17:43.736Z"
   },
   {
    "duration": 13,
    "start_time": "2022-07-17T16:17:49.050Z"
   },
   {
    "duration": 204,
    "start_time": "2022-07-17T16:18:00.287Z"
   },
   {
    "duration": 11,
    "start_time": "2022-07-17T16:18:17.011Z"
   },
   {
    "duration": 43,
    "start_time": "2022-07-17T16:20:10.082Z"
   },
   {
    "duration": 792,
    "start_time": "2022-07-17T16:20:40.585Z"
   },
   {
    "duration": 21,
    "start_time": "2022-07-17T16:22:48.521Z"
   },
   {
    "duration": 19,
    "start_time": "2022-07-17T16:24:28.390Z"
   },
   {
    "duration": 11,
    "start_time": "2022-07-17T16:24:38.382Z"
   },
   {
    "duration": 773,
    "start_time": "2022-07-17T16:27:06.142Z"
   },
   {
    "duration": 828,
    "start_time": "2022-07-17T16:27:13.310Z"
   },
   {
    "duration": 838,
    "start_time": "2022-07-17T16:27:34.689Z"
   },
   {
    "duration": 13,
    "start_time": "2022-07-17T16:27:50.608Z"
   },
   {
    "duration": 18,
    "start_time": "2022-07-17T16:28:15.117Z"
   },
   {
    "duration": 4,
    "start_time": "2022-07-17T19:27:41.619Z"
   },
   {
    "duration": 25,
    "start_time": "2022-07-17T19:27:47.715Z"
   },
   {
    "duration": 6,
    "start_time": "2022-07-17T19:28:50.640Z"
   },
   {
    "duration": 6,
    "start_time": "2022-07-17T19:29:10.953Z"
   },
   {
    "duration": 5,
    "start_time": "2022-07-17T19:29:26.150Z"
   },
   {
    "duration": 7,
    "start_time": "2022-07-17T19:30:04.386Z"
   },
   {
    "duration": 7,
    "start_time": "2022-07-17T19:30:37.131Z"
   },
   {
    "duration": 9,
    "start_time": "2022-07-17T19:33:27.910Z"
   },
   {
    "duration": 163,
    "start_time": "2022-07-17T19:34:31.035Z"
   },
   {
    "duration": 6,
    "start_time": "2022-07-17T19:35:20.102Z"
   },
   {
    "duration": 146,
    "start_time": "2022-07-17T19:41:54.840Z"
   },
   {
    "duration": 6,
    "start_time": "2022-07-17T19:42:22.251Z"
   },
   {
    "duration": 25,
    "start_time": "2022-07-17T19:50:41.211Z"
   },
   {
    "duration": 5,
    "start_time": "2022-07-17T19:51:06.274Z"
   },
   {
    "duration": 5,
    "start_time": "2022-07-17T19:52:11.145Z"
   },
   {
    "duration": 7,
    "start_time": "2022-07-17T19:52:52.440Z"
   },
   {
    "duration": 22,
    "start_time": "2022-07-17T19:55:39.884Z"
   },
   {
    "duration": 7,
    "start_time": "2022-07-17T19:56:45.619Z"
   },
   {
    "duration": 5,
    "start_time": "2022-07-17T20:05:30.659Z"
   },
   {
    "duration": 6,
    "start_time": "2022-07-17T20:05:41.136Z"
   },
   {
    "duration": 7,
    "start_time": "2022-07-17T20:07:03.880Z"
   },
   {
    "duration": 162,
    "start_time": "2022-07-17T20:07:34.274Z"
   },
   {
    "duration": 972,
    "start_time": "2022-07-17T20:10:15.663Z"
   },
   {
    "duration": 46,
    "start_time": "2022-07-18T09:48:49.424Z"
   },
   {
    "duration": 1480,
    "start_time": "2022-07-18T09:49:41.888Z"
   },
   {
    "duration": 14,
    "start_time": "2022-07-18T09:49:46.969Z"
   },
   {
    "duration": 5,
    "start_time": "2022-07-18T09:49:51.462Z"
   },
   {
    "duration": 9,
    "start_time": "2022-07-18T09:49:55.016Z"
   },
   {
    "duration": 677,
    "start_time": "2022-07-18T09:49:58.974Z"
   },
   {
    "duration": 5,
    "start_time": "2022-07-18T09:50:12.669Z"
   },
   {
    "duration": 23,
    "start_time": "2022-07-18T09:50:14.960Z"
   },
   {
    "duration": 15,
    "start_time": "2022-07-18T09:50:21.792Z"
   },
   {
    "duration": 17,
    "start_time": "2022-07-18T09:50:26.376Z"
   },
   {
    "duration": 10,
    "start_time": "2022-07-18T09:50:29.304Z"
   },
   {
    "duration": 6,
    "start_time": "2022-07-18T09:50:32.013Z"
   },
   {
    "duration": 8,
    "start_time": "2022-07-18T09:50:36.141Z"
   },
   {
    "duration": 10,
    "start_time": "2022-07-18T09:50:43.179Z"
   },
   {
    "duration": 123,
    "start_time": "2022-07-18T09:51:33.472Z"
   },
   {
    "duration": 13,
    "start_time": "2022-07-18T09:51:38.934Z"
   },
   {
    "duration": 7,
    "start_time": "2022-07-18T09:51:41.063Z"
   },
   {
    "duration": 9,
    "start_time": "2022-07-18T09:51:45.312Z"
   },
   {
    "duration": 6,
    "start_time": "2022-07-18T09:51:47.887Z"
   },
   {
    "duration": 16,
    "start_time": "2022-07-18T09:51:58.032Z"
   },
   {
    "duration": 5,
    "start_time": "2022-07-18T09:53:02.629Z"
   },
   {
    "duration": 28,
    "start_time": "2022-07-18T09:53:05.020Z"
   },
   {
    "duration": 36179,
    "start_time": "2022-07-18T09:53:12.474Z"
   },
   {
    "duration": 8,
    "start_time": "2022-07-18T09:53:52.909Z"
   },
   {
    "duration": 11,
    "start_time": "2022-07-18T09:54:01.918Z"
   },
   {
    "duration": 24,
    "start_time": "2022-07-18T09:54:19.993Z"
   },
   {
    "duration": 7,
    "start_time": "2022-07-18T09:54:27.587Z"
   },
   {
    "duration": 8,
    "start_time": "2022-07-18T09:54:31.483Z"
   },
   {
    "duration": 18,
    "start_time": "2022-07-18T09:54:39.666Z"
   },
   {
    "duration": 5,
    "start_time": "2022-07-18T09:54:56.141Z"
   },
   {
    "duration": 4,
    "start_time": "2022-07-18T09:55:00.870Z"
   },
   {
    "duration": 12,
    "start_time": "2022-07-18T09:55:10.074Z"
   },
   {
    "duration": 12,
    "start_time": "2022-07-18T09:55:19.078Z"
   },
   {
    "duration": 6,
    "start_time": "2022-07-18T09:55:32.695Z"
   },
   {
    "duration": 146,
    "start_time": "2022-07-18T09:55:38.596Z"
   },
   {
    "duration": 11,
    "start_time": "2022-07-18T09:56:01.900Z"
   },
   {
    "duration": 258,
    "start_time": "2022-07-18T09:56:21.036Z"
   },
   {
    "duration": 13,
    "start_time": "2022-07-18T09:56:35.006Z"
   },
   {
    "duration": 11,
    "start_time": "2022-07-18T09:56:37.994Z"
   },
   {
    "duration": 8,
    "start_time": "2022-07-18T09:56:42.870Z"
   },
   {
    "duration": 11,
    "start_time": "2022-07-18T09:56:50.328Z"
   },
   {
    "duration": 291,
    "start_time": "2022-07-18T09:56:58.863Z"
   },
   {
    "duration": 460,
    "start_time": "2022-07-18T09:58:11.611Z"
   },
   {
    "duration": 286,
    "start_time": "2022-07-18T09:58:20.999Z"
   },
   {
    "duration": 276,
    "start_time": "2022-07-18T09:58:54.398Z"
   },
   {
    "duration": 311,
    "start_time": "2022-07-18T09:59:33.774Z"
   },
   {
    "duration": 284,
    "start_time": "2022-07-18T09:59:47.988Z"
   },
   {
    "duration": 7,
    "start_time": "2022-07-18T10:00:08.496Z"
   },
   {
    "duration": 12,
    "start_time": "2022-07-18T10:00:12.282Z"
   },
   {
    "duration": 4,
    "start_time": "2022-07-18T10:00:16.565Z"
   },
   {
    "duration": 6,
    "start_time": "2022-07-18T10:00:19.469Z"
   },
   {
    "duration": 145,
    "start_time": "2022-07-18T10:00:26.188Z"
   },
   {
    "duration": 1028,
    "start_time": "2022-07-18T10:00:34.547Z"
   },
   {
    "duration": 876,
    "start_time": "2022-07-18T10:00:42.046Z"
   },
   {
    "duration": 157,
    "start_time": "2022-07-18T10:00:53.783Z"
   },
   {
    "duration": 25,
    "start_time": "2022-07-18T10:01:40.989Z"
   },
   {
    "duration": 8,
    "start_time": "2022-07-18T10:01:45.621Z"
   },
   {
    "duration": 6,
    "start_time": "2022-07-18T10:01:48.265Z"
   },
   {
    "duration": 5,
    "start_time": "2022-07-18T10:01:50.815Z"
   },
   {
    "duration": 9,
    "start_time": "2022-07-18T10:01:52.800Z"
   },
   {
    "duration": 10,
    "start_time": "2022-07-18T10:01:54.998Z"
   },
   {
    "duration": 7,
    "start_time": "2022-07-18T10:01:58.973Z"
   },
   {
    "duration": 163,
    "start_time": "2022-07-18T10:02:12.762Z"
   },
   {
    "duration": 4,
    "start_time": "2022-07-18T10:02:16.560Z"
   },
   {
    "duration": 146,
    "start_time": "2022-07-18T10:02:24.245Z"
   },
   {
    "duration": 6,
    "start_time": "2022-07-18T10:02:27.772Z"
   },
   {
    "duration": 16,
    "start_time": "2022-07-18T10:02:32.451Z"
   },
   {
    "duration": 9,
    "start_time": "2022-07-18T10:02:42.108Z"
   },
   {
    "duration": 17,
    "start_time": "2022-07-18T10:02:47.268Z"
   },
   {
    "duration": 9,
    "start_time": "2022-07-18T10:02:51.602Z"
   },
   {
    "duration": 8,
    "start_time": "2022-07-18T10:03:22.611Z"
   },
   {
    "duration": 6,
    "start_time": "2022-07-18T10:03:25.154Z"
   },
   {
    "duration": 7,
    "start_time": "2022-07-18T10:03:28.361Z"
   },
   {
    "duration": 250,
    "start_time": "2022-07-18T10:03:33.097Z"
   },
   {
    "duration": 886,
    "start_time": "2022-07-18T10:03:40.216Z"
   },
   {
    "duration": 1093,
    "start_time": "2022-07-18T10:03:47.042Z"
   },
   {
    "duration": 1132,
    "start_time": "2022-07-18T10:04:08.598Z"
   },
   {
    "duration": 243,
    "start_time": "2022-07-18T10:05:42.221Z"
   },
   {
    "duration": 11,
    "start_time": "2022-07-18T10:26:36.770Z"
   },
   {
    "duration": 7,
    "start_time": "2022-07-18T10:26:43.428Z"
   },
   {
    "duration": 8,
    "start_time": "2022-07-18T10:27:01.483Z"
   },
   {
    "duration": 7,
    "start_time": "2022-07-18T10:27:17.544Z"
   },
   {
    "duration": 15,
    "start_time": "2022-07-18T10:27:48.757Z"
   },
   {
    "duration": 226,
    "start_time": "2022-07-18T10:28:03.441Z"
   },
   {
    "duration": 9,
    "start_time": "2022-07-18T10:33:52.124Z"
   },
   {
    "duration": 6,
    "start_time": "2022-07-18T10:36:20.299Z"
   },
   {
    "duration": 5,
    "start_time": "2022-07-18T10:36:40.130Z"
   },
   {
    "duration": 9,
    "start_time": "2022-07-18T10:37:21.007Z"
   },
   {
    "duration": 8,
    "start_time": "2022-07-18T10:37:28.690Z"
   },
   {
    "duration": 6,
    "start_time": "2022-07-18T10:37:41.520Z"
   },
   {
    "duration": 14,
    "start_time": "2022-07-18T10:38:12.602Z"
   },
   {
    "duration": 187,
    "start_time": "2022-07-18T10:38:26.916Z"
   },
   {
    "duration": 5,
    "start_time": "2022-07-18T10:46:05.354Z"
   },
   {
    "duration": 7,
    "start_time": "2022-07-18T10:46:55.343Z"
   },
   {
    "duration": 4,
    "start_time": "2022-07-18T10:47:44.715Z"
   },
   {
    "duration": 3,
    "start_time": "2022-07-18T10:49:38.002Z"
   },
   {
    "duration": 5,
    "start_time": "2022-07-18T11:04:36.362Z"
   },
   {
    "duration": 5,
    "start_time": "2022-07-18T11:05:17.758Z"
   },
   {
    "duration": 4,
    "start_time": "2022-07-18T11:05:35.919Z"
   },
   {
    "duration": 6,
    "start_time": "2022-07-18T11:08:11.368Z"
   },
   {
    "duration": 5,
    "start_time": "2022-07-18T11:09:22.679Z"
   },
   {
    "duration": 107,
    "start_time": "2022-07-18T11:09:40.517Z"
   },
   {
    "duration": 6,
    "start_time": "2022-07-18T11:14:32.461Z"
   },
   {
    "duration": 100,
    "start_time": "2022-07-18T11:17:43.290Z"
   },
   {
    "duration": 6,
    "start_time": "2022-07-18T11:33:11.249Z"
   },
   {
    "duration": 4,
    "start_time": "2022-07-18T11:35:11.419Z"
   },
   {
    "duration": 17,
    "start_time": "2022-07-18T11:35:18.841Z"
   },
   {
    "duration": 4,
    "start_time": "2022-07-18T11:36:40.038Z"
   },
   {
    "duration": 4,
    "start_time": "2022-07-18T11:36:55.952Z"
   },
   {
    "duration": 5,
    "start_time": "2022-07-18T11:37:04.496Z"
   },
   {
    "duration": 3,
    "start_time": "2022-07-18T11:38:00.033Z"
   },
   {
    "duration": 4,
    "start_time": "2022-07-18T11:38:13.321Z"
   },
   {
    "duration": 9,
    "start_time": "2022-07-18T11:44:04.120Z"
   },
   {
    "duration": 6,
    "start_time": "2022-07-18T11:44:16.273Z"
   },
   {
    "duration": 6,
    "start_time": "2022-07-18T11:44:22.229Z"
   },
   {
    "duration": 21,
    "start_time": "2022-07-18T11:45:25.328Z"
   },
   {
    "duration": 194,
    "start_time": "2022-07-18T11:45:30.996Z"
   },
   {
    "duration": 315,
    "start_time": "2022-07-18T11:46:27.451Z"
   },
   {
    "duration": 194,
    "start_time": "2022-07-18T11:46:59.922Z"
   },
   {
    "duration": 178,
    "start_time": "2022-07-18T11:49:27.053Z"
   },
   {
    "duration": 269,
    "start_time": "2022-07-18T11:50:54.296Z"
   },
   {
    "duration": 230,
    "start_time": "2022-07-18T11:51:58.829Z"
   },
   {
    "duration": 190,
    "start_time": "2022-07-18T11:53:25.355Z"
   },
   {
    "duration": 6,
    "start_time": "2022-07-18T12:21:34.874Z"
   },
   {
    "duration": 21,
    "start_time": "2022-07-18T12:22:00.951Z"
   },
   {
    "duration": 6,
    "start_time": "2022-07-18T12:23:26.685Z"
   },
   {
    "duration": 21,
    "start_time": "2022-07-18T12:25:45.018Z"
   },
   {
    "duration": 7,
    "start_time": "2022-07-18T12:25:56.472Z"
   },
   {
    "duration": 9,
    "start_time": "2022-07-18T12:31:29.264Z"
   },
   {
    "duration": 203,
    "start_time": "2022-07-18T12:34:09.529Z"
   },
   {
    "duration": 216,
    "start_time": "2022-07-18T12:34:23.193Z"
   },
   {
    "duration": 230,
    "start_time": "2022-07-18T12:34:49.812Z"
   },
   {
    "duration": 295,
    "start_time": "2022-07-18T12:37:24.983Z"
   },
   {
    "duration": 368,
    "start_time": "2022-07-18T12:37:53.090Z"
   },
   {
    "duration": 9,
    "start_time": "2022-07-18T12:38:07.055Z"
   },
   {
    "duration": 278,
    "start_time": "2022-07-18T12:38:10.875Z"
   },
   {
    "duration": 416,
    "start_time": "2022-07-18T12:38:33.558Z"
   },
   {
    "duration": 387,
    "start_time": "2022-07-18T12:38:55.861Z"
   },
   {
    "duration": 439,
    "start_time": "2022-07-18T12:39:06.578Z"
   },
   {
    "duration": 329,
    "start_time": "2022-07-18T12:39:17.221Z"
   },
   {
    "duration": 173,
    "start_time": "2022-07-18T12:39:34.433Z"
   },
   {
    "duration": 247,
    "start_time": "2022-07-18T12:39:50.090Z"
   },
   {
    "duration": 282,
    "start_time": "2022-07-18T12:40:15.049Z"
   },
   {
    "duration": 292,
    "start_time": "2022-07-18T12:42:20.569Z"
   },
   {
    "duration": 400,
    "start_time": "2022-07-18T12:43:09.599Z"
   },
   {
    "duration": 441,
    "start_time": "2022-07-18T12:43:17.227Z"
   },
   {
    "duration": 272,
    "start_time": "2022-07-18T12:43:21.337Z"
   },
   {
    "duration": 512,
    "start_time": "2022-07-18T12:43:27.176Z"
   },
   {
    "duration": 289,
    "start_time": "2022-07-18T12:43:59.729Z"
   },
   {
    "duration": 394,
    "start_time": "2022-07-18T12:44:06.816Z"
   },
   {
    "duration": 404,
    "start_time": "2022-07-18T12:44:20.164Z"
   },
   {
    "duration": 401,
    "start_time": "2022-07-18T12:44:30.655Z"
   },
   {
    "duration": 86,
    "start_time": "2022-07-18T12:47:37.074Z"
   },
   {
    "duration": 204,
    "start_time": "2022-07-18T12:47:46.526Z"
   },
   {
    "duration": 275,
    "start_time": "2022-07-18T12:48:21.659Z"
   },
   {
    "duration": 357,
    "start_time": "2022-07-18T12:48:43.327Z"
   },
   {
    "duration": 284,
    "start_time": "2022-07-18T12:48:59.045Z"
   },
   {
    "duration": 281,
    "start_time": "2022-07-18T12:49:15.529Z"
   },
   {
    "duration": 262,
    "start_time": "2022-07-18T12:49:45.823Z"
   },
   {
    "duration": 303,
    "start_time": "2022-07-18T12:50:21.470Z"
   },
   {
    "duration": 393,
    "start_time": "2022-07-18T12:50:32.126Z"
   },
   {
    "duration": 474,
    "start_time": "2022-07-18T12:52:15.099Z"
   },
   {
    "duration": 299,
    "start_time": "2022-07-18T12:52:29.320Z"
   },
   {
    "duration": 302,
    "start_time": "2022-07-18T12:53:05.849Z"
   },
   {
    "duration": 290,
    "start_time": "2022-07-18T12:53:17.059Z"
   },
   {
    "duration": 407,
    "start_time": "2022-07-18T12:53:35.109Z"
   },
   {
    "duration": 431,
    "start_time": "2022-07-18T12:53:58.996Z"
   },
   {
    "duration": 2064,
    "start_time": "2022-07-18T13:08:46.883Z"
   },
   {
    "duration": 16,
    "start_time": "2022-07-18T13:09:44.266Z"
   },
   {
    "duration": 5,
    "start_time": "2022-07-18T13:11:36.024Z"
   },
   {
    "duration": 4,
    "start_time": "2022-07-18T13:11:48.095Z"
   },
   {
    "duration": 14,
    "start_time": "2022-07-18T13:12:13.262Z"
   },
   {
    "duration": 32,
    "start_time": "2022-07-18T13:12:56.618Z"
   },
   {
    "duration": 164,
    "start_time": "2022-07-18T13:15:04.752Z"
   },
   {
    "duration": 2189,
    "start_time": "2022-07-18T13:15:16.971Z"
   },
   {
    "duration": 8,
    "start_time": "2022-07-18T13:15:33.354Z"
   },
   {
    "duration": 8,
    "start_time": "2022-07-18T13:20:20.230Z"
   },
   {
    "duration": 11,
    "start_time": "2022-07-18T13:21:04.836Z"
   },
   {
    "duration": 9,
    "start_time": "2022-07-18T13:21:22.429Z"
   },
   {
    "duration": 97,
    "start_time": "2022-07-18T13:22:37.399Z"
   },
   {
    "duration": 881,
    "start_time": "2022-07-18T13:23:01.929Z"
   },
   {
    "duration": 8,
    "start_time": "2022-07-18T13:23:21.843Z"
   },
   {
    "duration": 9,
    "start_time": "2022-07-18T13:23:55.060Z"
   },
   {
    "duration": 8,
    "start_time": "2022-07-18T13:24:52.782Z"
   },
   {
    "duration": 6,
    "start_time": "2022-07-18T13:25:05.054Z"
   },
   {
    "duration": 6,
    "start_time": "2022-07-18T13:27:34.873Z"
   },
   {
    "duration": 7,
    "start_time": "2022-07-18T13:27:41.967Z"
   },
   {
    "duration": 21,
    "start_time": "2022-07-18T13:27:49.498Z"
   },
   {
    "duration": 11,
    "start_time": "2022-07-18T13:29:02.250Z"
   },
   {
    "duration": 8,
    "start_time": "2022-07-18T13:29:12.248Z"
   },
   {
    "duration": 325,
    "start_time": "2022-07-18T13:30:33.355Z"
   },
   {
    "duration": 144,
    "start_time": "2022-07-18T13:31:20.128Z"
   },
   {
    "duration": 319,
    "start_time": "2022-07-18T13:31:30.868Z"
   },
   {
    "duration": 94,
    "start_time": "2022-07-18T13:34:26.746Z"
   },
   {
    "duration": 865,
    "start_time": "2022-07-18T13:34:37.629Z"
   },
   {
    "duration": 9,
    "start_time": "2022-07-18T13:35:03.436Z"
   },
   {
    "duration": 171,
    "start_time": "2022-07-18T13:39:43.296Z"
   },
   {
    "duration": 109,
    "start_time": "2022-07-18T13:40:01.498Z"
   },
   {
    "duration": 335,
    "start_time": "2022-07-18T13:41:58.739Z"
   },
   {
    "duration": 365,
    "start_time": "2022-07-18T13:42:17.883Z"
   },
   {
    "duration": 338,
    "start_time": "2022-07-18T13:43:25.516Z"
   },
   {
    "duration": 480,
    "start_time": "2022-07-18T13:43:44.740Z"
   },
   {
    "duration": 319,
    "start_time": "2022-07-18T13:43:56.283Z"
   },
   {
    "duration": 329,
    "start_time": "2022-07-18T13:44:01.270Z"
   },
   {
    "duration": 300,
    "start_time": "2022-07-18T13:46:06.625Z"
   },
   {
    "duration": 302,
    "start_time": "2022-07-18T13:46:13.284Z"
   },
   {
    "duration": 376,
    "start_time": "2022-07-18T13:47:43.638Z"
   },
   {
    "duration": 511,
    "start_time": "2022-07-18T13:47:52.532Z"
   },
   {
    "duration": 367,
    "start_time": "2022-07-18T13:48:36.929Z"
   },
   {
    "duration": 344,
    "start_time": "2022-07-18T13:48:44.270Z"
   },
   {
    "duration": 117,
    "start_time": "2022-07-18T13:49:00.677Z"
   },
   {
    "duration": 126,
    "start_time": "2022-07-18T13:49:10.640Z"
   },
   {
    "duration": 332,
    "start_time": "2022-07-18T13:49:18.858Z"
   },
   {
    "duration": 336,
    "start_time": "2022-07-18T13:49:30.836Z"
   },
   {
    "duration": 538,
    "start_time": "2022-07-18T13:49:35.495Z"
   },
   {
    "duration": 127,
    "start_time": "2022-07-18T13:49:54.180Z"
   },
   {
    "duration": 175,
    "start_time": "2022-07-18T13:50:07.378Z"
   },
   {
    "duration": 436,
    "start_time": "2022-07-18T13:50:16.695Z"
   },
   {
    "duration": 386,
    "start_time": "2022-07-18T13:50:40.197Z"
   },
   {
    "duration": 358,
    "start_time": "2022-07-18T13:50:50.542Z"
   },
   {
    "duration": 362,
    "start_time": "2022-07-18T13:52:57.036Z"
   },
   {
    "duration": 521,
    "start_time": "2022-07-18T13:53:04.606Z"
   },
   {
    "duration": 125,
    "start_time": "2022-07-18T13:53:32.486Z"
   },
   {
    "duration": 346,
    "start_time": "2022-07-18T13:53:58.773Z"
   },
   {
    "duration": 58,
    "start_time": "2022-07-18T13:54:20.498Z"
   },
   {
    "duration": 373,
    "start_time": "2022-07-18T13:54:29.670Z"
   },
   {
    "duration": 9,
    "start_time": "2022-07-18T13:58:43.394Z"
   },
   {
    "duration": 9,
    "start_time": "2022-07-18T13:58:50.479Z"
   },
   {
    "duration": 24,
    "start_time": "2022-07-18T13:59:08.828Z"
   },
   {
    "duration": 8,
    "start_time": "2022-07-18T13:59:17.260Z"
   },
   {
    "duration": 9,
    "start_time": "2022-07-18T14:00:34.263Z"
   },
   {
    "duration": 14,
    "start_time": "2022-07-18T14:00:42.929Z"
   },
   {
    "duration": 7,
    "start_time": "2022-07-18T14:00:54.181Z"
   },
   {
    "duration": 23,
    "start_time": "2022-07-18T14:01:53.529Z"
   },
   {
    "duration": 8,
    "start_time": "2022-07-18T14:02:03.035Z"
   },
   {
    "duration": 349,
    "start_time": "2022-07-18T14:03:25.446Z"
   },
   {
    "duration": 13,
    "start_time": "2022-07-18T14:14:59.613Z"
   },
   {
    "duration": 7,
    "start_time": "2022-07-18T14:15:19.086Z"
   },
   {
    "duration": 6,
    "start_time": "2022-07-18T14:15:31.865Z"
   },
   {
    "duration": 9,
    "start_time": "2022-07-18T14:17:55.988Z"
   },
   {
    "duration": 8,
    "start_time": "2022-07-18T14:18:19.369Z"
   },
   {
    "duration": 18,
    "start_time": "2022-07-18T14:18:25.762Z"
   },
   {
    "duration": 24,
    "start_time": "2022-07-18T14:18:33.425Z"
   },
   {
    "duration": 5,
    "start_time": "2022-07-18T14:19:57.552Z"
   },
   {
    "duration": 5,
    "start_time": "2022-07-18T14:22:06.366Z"
   },
   {
    "duration": 5,
    "start_time": "2022-07-18T14:23:19.869Z"
   },
   {
    "duration": 4,
    "start_time": "2022-07-18T14:23:27.465Z"
   },
   {
    "duration": 5,
    "start_time": "2022-07-18T14:27:10.022Z"
   },
   {
    "duration": 4,
    "start_time": "2022-07-18T14:27:16.578Z"
   },
   {
    "duration": 120,
    "start_time": "2022-07-18T14:38:05.739Z"
   },
   {
    "duration": 11,
    "start_time": "2022-07-18T14:38:10.484Z"
   },
   {
    "duration": 128,
    "start_time": "2022-07-18T14:38:24.183Z"
   },
   {
    "duration": 153,
    "start_time": "2022-07-18T14:38:30.393Z"
   },
   {
    "duration": 195,
    "start_time": "2022-07-18T14:40:34.840Z"
   },
   {
    "duration": 197,
    "start_time": "2022-07-18T14:41:34.495Z"
   },
   {
    "duration": 8,
    "start_time": "2022-07-18T14:46:51.051Z"
   },
   {
    "duration": 17,
    "start_time": "2022-07-18T14:46:55.483Z"
   },
   {
    "duration": 17,
    "start_time": "2022-07-18T14:48:13.383Z"
   },
   {
    "duration": 5,
    "start_time": "2022-07-18T14:49:48.769Z"
   },
   {
    "duration": 5,
    "start_time": "2022-07-18T14:52:42.591Z"
   },
   {
    "duration": 259,
    "start_time": "2022-07-18T15:09:04.369Z"
   },
   {
    "duration": 1921,
    "start_time": "2022-07-18T15:35:37.624Z"
   },
   {
    "duration": 13,
    "start_time": "2022-07-18T15:35:43.164Z"
   },
   {
    "duration": 6,
    "start_time": "2022-07-18T15:35:47.763Z"
   },
   {
    "duration": 5,
    "start_time": "2022-07-18T15:35:50.086Z"
   },
   {
    "duration": 650,
    "start_time": "2022-07-18T15:35:52.534Z"
   },
   {
    "duration": 4,
    "start_time": "2022-07-18T15:35:57.534Z"
   },
   {
    "duration": 21,
    "start_time": "2022-07-18T15:36:00.157Z"
   },
   {
    "duration": 15,
    "start_time": "2022-07-18T15:36:04.059Z"
   },
   {
    "duration": 28,
    "start_time": "2022-07-18T15:36:07.186Z"
   },
   {
    "duration": 8,
    "start_time": "2022-07-18T15:36:10.568Z"
   },
   {
    "duration": 5,
    "start_time": "2022-07-18T15:36:13.868Z"
   },
   {
    "duration": 7,
    "start_time": "2022-07-18T15:36:17.170Z"
   },
   {
    "duration": 11,
    "start_time": "2022-07-18T15:36:21.166Z"
   },
   {
    "duration": 130,
    "start_time": "2022-07-18T15:36:23.928Z"
   },
   {
    "duration": 12,
    "start_time": "2022-07-18T15:36:27.932Z"
   },
   {
    "duration": 7,
    "start_time": "2022-07-18T15:36:31.280Z"
   },
   {
    "duration": 5,
    "start_time": "2022-07-18T15:36:34.762Z"
   },
   {
    "duration": 8,
    "start_time": "2022-07-18T15:36:36.988Z"
   },
   {
    "duration": 15,
    "start_time": "2022-07-18T15:36:42.238Z"
   },
   {
    "duration": 6,
    "start_time": "2022-07-18T15:36:45.195Z"
   },
   {
    "duration": 19,
    "start_time": "2022-07-18T15:36:47.060Z"
   },
   {
    "duration": 34627,
    "start_time": "2022-07-18T15:36:49.965Z"
   },
   {
    "duration": 6,
    "start_time": "2022-07-18T15:37:27.872Z"
   },
   {
    "duration": 8,
    "start_time": "2022-07-18T15:37:31.631Z"
   },
   {
    "duration": 18,
    "start_time": "2022-07-18T15:37:34.130Z"
   },
   {
    "duration": 5,
    "start_time": "2022-07-18T15:37:38.081Z"
   },
   {
    "duration": 7,
    "start_time": "2022-07-18T15:37:40.389Z"
   },
   {
    "duration": 22,
    "start_time": "2022-07-18T15:37:42.372Z"
   },
   {
    "duration": 9,
    "start_time": "2022-07-18T15:37:45.335Z"
   },
   {
    "duration": 8,
    "start_time": "2022-07-18T15:37:48.008Z"
   },
   {
    "duration": 12,
    "start_time": "2022-07-18T15:37:50.445Z"
   },
   {
    "duration": 7,
    "start_time": "2022-07-18T15:37:56.344Z"
   },
   {
    "duration": 146,
    "start_time": "2022-07-18T15:38:00.747Z"
   },
   {
    "duration": 8,
    "start_time": "2022-07-18T15:38:09.130Z"
   },
   {
    "duration": 279,
    "start_time": "2022-07-18T15:38:13.262Z"
   },
   {
    "duration": 6,
    "start_time": "2022-07-18T15:38:18.953Z"
   },
   {
    "duration": 21,
    "start_time": "2022-07-18T15:38:25.102Z"
   },
   {
    "duration": 15,
    "start_time": "2022-07-18T15:38:30.521Z"
   },
   {
    "duration": 8,
    "start_time": "2022-07-18T15:38:33.866Z"
   },
   {
    "duration": 363,
    "start_time": "2022-07-18T15:38:37.598Z"
   },
   {
    "duration": 6,
    "start_time": "2022-07-18T15:38:49.578Z"
   },
   {
    "duration": 12,
    "start_time": "2022-07-18T15:38:53.285Z"
   },
   {
    "duration": 7,
    "start_time": "2022-07-18T15:38:56.033Z"
   },
   {
    "duration": 7,
    "start_time": "2022-07-18T15:39:03.160Z"
   },
   {
    "duration": 134,
    "start_time": "2022-07-18T15:39:07.050Z"
   },
   {
    "duration": 1005,
    "start_time": "2022-07-18T15:39:10.246Z"
   },
   {
    "duration": 841,
    "start_time": "2022-07-18T15:39:17.258Z"
   },
   {
    "duration": 898,
    "start_time": "2022-07-18T15:39:27.433Z"
   },
   {
    "duration": 179,
    "start_time": "2022-07-18T15:39:34.824Z"
   },
   {
    "duration": 16,
    "start_time": "2022-07-18T15:39:44.568Z"
   },
   {
    "duration": 6,
    "start_time": "2022-07-18T15:39:48.025Z"
   },
   {
    "duration": 8,
    "start_time": "2022-07-18T15:39:50.320Z"
   },
   {
    "duration": 4,
    "start_time": "2022-07-18T15:39:52.879Z"
   },
   {
    "duration": 6,
    "start_time": "2022-07-18T15:39:57.745Z"
   },
   {
    "duration": 5,
    "start_time": "2022-07-18T15:40:01.133Z"
   },
   {
    "duration": 8,
    "start_time": "2022-07-18T15:40:04.625Z"
   },
   {
    "duration": 155,
    "start_time": "2022-07-18T15:40:10.294Z"
   },
   {
    "duration": 6,
    "start_time": "2022-07-18T15:40:14.343Z"
   },
   {
    "duration": 145,
    "start_time": "2022-07-18T15:40:18.973Z"
   },
   {
    "duration": 17,
    "start_time": "2022-07-18T15:40:22.598Z"
   },
   {
    "duration": 15,
    "start_time": "2022-07-18T15:40:25.547Z"
   },
   {
    "duration": 6,
    "start_time": "2022-07-18T15:40:28.756Z"
   },
   {
    "duration": 16,
    "start_time": "2022-07-18T15:40:33.529Z"
   },
   {
    "duration": 9,
    "start_time": "2022-07-18T15:40:37.515Z"
   },
   {
    "duration": 4,
    "start_time": "2022-07-18T15:40:41.493Z"
   },
   {
    "duration": 6,
    "start_time": "2022-07-18T15:40:43.632Z"
   },
   {
    "duration": 6,
    "start_time": "2022-07-18T15:40:46.440Z"
   },
   {
    "duration": 167,
    "start_time": "2022-07-18T15:40:48.955Z"
   },
   {
    "duration": 1081,
    "start_time": "2022-07-18T15:40:53.199Z"
   },
   {
    "duration": 908,
    "start_time": "2022-07-18T15:41:00.729Z"
   },
   {
    "duration": 927,
    "start_time": "2022-07-18T15:41:08.801Z"
   },
   {
    "duration": 291,
    "start_time": "2022-07-18T15:41:14.376Z"
   },
   {
    "duration": 14,
    "start_time": "2022-07-18T15:41:21.348Z"
   },
   {
    "duration": 252,
    "start_time": "2022-07-18T15:41:25.968Z"
   },
   {
    "duration": 7,
    "start_time": "2022-07-18T15:41:32.234Z"
   },
   {
    "duration": 9,
    "start_time": "2022-07-18T15:41:34.919Z"
   },
   {
    "duration": 6,
    "start_time": "2022-07-18T15:41:37.926Z"
   },
   {
    "duration": 6,
    "start_time": "2022-07-18T15:41:40.099Z"
   },
   {
    "duration": 6,
    "start_time": "2022-07-18T15:41:44.883Z"
   },
   {
    "duration": 5,
    "start_time": "2022-07-18T15:41:47.341Z"
   },
   {
    "duration": 345,
    "start_time": "2022-07-18T15:41:53.297Z"
   },
   {
    "duration": 5,
    "start_time": "2022-07-18T15:42:00.587Z"
   },
   {
    "duration": 4,
    "start_time": "2022-07-18T15:42:03.868Z"
   },
   {
    "duration": 7,
    "start_time": "2022-07-18T15:42:06.103Z"
   },
   {
    "duration": 17,
    "start_time": "2022-07-18T15:42:08.698Z"
   },
   {
    "duration": 217,
    "start_time": "2022-07-18T15:42:11.265Z"
   },
   {
    "duration": 8,
    "start_time": "2022-07-18T15:42:15.326Z"
   },
   {
    "duration": 6,
    "start_time": "2022-07-18T15:42:18.877Z"
   },
   {
    "duration": 10,
    "start_time": "2022-07-18T15:42:21.722Z"
   },
   {
    "duration": 6,
    "start_time": "2022-07-18T15:42:23.930Z"
   },
   {
    "duration": 6,
    "start_time": "2022-07-18T15:42:26.686Z"
   },
   {
    "duration": 5,
    "start_time": "2022-07-18T15:42:28.951Z"
   },
   {
    "duration": 315,
    "start_time": "2022-07-18T15:42:32.194Z"
   },
   {
    "duration": 5,
    "start_time": "2022-07-18T15:42:36.148Z"
   },
   {
    "duration": 4,
    "start_time": "2022-07-18T15:42:38.230Z"
   },
   {
    "duration": 5,
    "start_time": "2022-07-18T15:42:42.226Z"
   },
   {
    "duration": 5,
    "start_time": "2022-07-18T15:42:44.930Z"
   },
   {
    "duration": 8,
    "start_time": "2022-07-18T15:42:59.023Z"
   },
   {
    "duration": 10,
    "start_time": "2022-07-18T15:43:01.123Z"
   },
   {
    "duration": 5,
    "start_time": "2022-07-18T15:43:03.328Z"
   },
   {
    "duration": 4,
    "start_time": "2022-07-18T15:43:53.248Z"
   },
   {
    "duration": 4,
    "start_time": "2022-07-18T15:44:00.263Z"
   },
   {
    "duration": 8,
    "start_time": "2022-07-18T15:44:07.330Z"
   },
   {
    "duration": 5,
    "start_time": "2022-07-18T15:44:17.570Z"
   },
   {
    "duration": 4,
    "start_time": "2022-07-18T15:44:25.347Z"
   },
   {
    "duration": 5,
    "start_time": "2022-07-18T15:44:30.682Z"
   },
   {
    "duration": 8,
    "start_time": "2022-07-18T15:44:35.423Z"
   },
   {
    "duration": 5,
    "start_time": "2022-07-18T15:44:38.236Z"
   },
   {
    "duration": 110,
    "start_time": "2022-07-18T15:44:40.394Z"
   },
   {
    "duration": 7,
    "start_time": "2022-07-18T15:44:43.640Z"
   },
   {
    "duration": 102,
    "start_time": "2022-07-18T15:44:50.234Z"
   },
   {
    "duration": 39,
    "start_time": "2022-07-18T15:44:53.881Z"
   },
   {
    "duration": 3,
    "start_time": "2022-07-18T15:44:58.429Z"
   },
   {
    "duration": 5,
    "start_time": "2022-07-18T15:45:00.734Z"
   },
   {
    "duration": 5,
    "start_time": "2022-07-18T15:45:02.672Z"
   },
   {
    "duration": 3,
    "start_time": "2022-07-18T15:45:05.297Z"
   },
   {
    "duration": 7,
    "start_time": "2022-07-18T15:45:07.636Z"
   },
   {
    "duration": 9,
    "start_time": "2022-07-18T15:45:09.598Z"
   },
   {
    "duration": 6,
    "start_time": "2022-07-18T15:45:11.584Z"
   },
   {
    "duration": 14,
    "start_time": "2022-07-18T15:45:14.419Z"
   },
   {
    "duration": 163,
    "start_time": "2022-07-18T15:45:16.717Z"
   },
   {
    "duration": 6,
    "start_time": "2022-07-18T15:45:25.432Z"
   },
   {
    "duration": 7,
    "start_time": "2022-07-18T15:45:27.264Z"
   },
   {
    "duration": 19,
    "start_time": "2022-07-18T15:45:29.871Z"
   },
   {
    "duration": 17,
    "start_time": "2022-07-18T15:45:36.653Z"
   },
   {
    "duration": 5,
    "start_time": "2022-07-18T15:45:42.283Z"
   },
   {
    "duration": 5,
    "start_time": "2022-07-18T15:45:44.724Z"
   },
   {
    "duration": 148,
    "start_time": "2022-07-18T15:45:46.629Z"
   },
   {
    "duration": 20,
    "start_time": "2022-07-18T15:45:58.056Z"
   },
   {
    "duration": 17,
    "start_time": "2022-07-18T15:46:01.075Z"
   },
   {
    "duration": 5,
    "start_time": "2022-07-18T15:46:03.890Z"
   },
   {
    "duration": 10,
    "start_time": "2022-07-18T15:46:06.920Z"
   },
   {
    "duration": 126,
    "start_time": "2022-07-18T15:46:08.626Z"
   },
   {
    "duration": 1312,
    "start_time": "2022-07-19T11:26:04.374Z"
   },
   {
    "duration": 1174,
    "start_time": "2022-07-19T11:26:12.717Z"
   },
   {
    "duration": 15,
    "start_time": "2022-07-19T11:26:13.892Z"
   },
   {
    "duration": 6,
    "start_time": "2022-07-19T11:26:13.909Z"
   },
   {
    "duration": 11,
    "start_time": "2022-07-19T11:26:13.916Z"
   },
   {
    "duration": 671,
    "start_time": "2022-07-19T11:26:13.930Z"
   },
   {
    "duration": 4,
    "start_time": "2022-07-19T11:26:14.602Z"
   },
   {
    "duration": 26,
    "start_time": "2022-07-19T11:26:14.607Z"
   },
   {
    "duration": 23,
    "start_time": "2022-07-19T11:26:14.635Z"
   },
   {
    "duration": 18,
    "start_time": "2022-07-19T11:26:14.660Z"
   },
   {
    "duration": 21,
    "start_time": "2022-07-19T11:26:14.680Z"
   },
   {
    "duration": 9,
    "start_time": "2022-07-19T11:26:14.702Z"
   },
   {
    "duration": 7,
    "start_time": "2022-07-19T11:26:14.712Z"
   },
   {
    "duration": 25,
    "start_time": "2022-07-19T11:26:14.721Z"
   },
   {
    "duration": 141,
    "start_time": "2022-07-19T11:26:14.749Z"
   },
   {
    "duration": 13,
    "start_time": "2022-07-19T11:26:14.891Z"
   },
   {
    "duration": 17,
    "start_time": "2022-07-19T11:26:14.905Z"
   },
   {
    "duration": 10,
    "start_time": "2022-07-19T11:26:14.924Z"
   },
   {
    "duration": 12,
    "start_time": "2022-07-19T11:26:14.935Z"
   },
   {
    "duration": 21,
    "start_time": "2022-07-19T11:26:14.949Z"
   },
   {
    "duration": 5,
    "start_time": "2022-07-19T11:26:14.971Z"
   },
   {
    "duration": 35,
    "start_time": "2022-07-19T11:26:14.977Z"
   },
   {
    "duration": 32357,
    "start_time": "2022-07-19T11:26:15.014Z"
   },
   {
    "duration": 4,
    "start_time": "2022-07-19T11:26:47.373Z"
   },
   {
    "duration": 12,
    "start_time": "2022-07-19T11:26:47.378Z"
   },
   {
    "duration": 23,
    "start_time": "2022-07-19T11:26:47.391Z"
   },
   {
    "duration": 5,
    "start_time": "2022-07-19T11:26:47.416Z"
   },
   {
    "duration": 14,
    "start_time": "2022-07-19T11:26:47.422Z"
   },
   {
    "duration": 19,
    "start_time": "2022-07-19T11:26:47.438Z"
   },
   {
    "duration": 5,
    "start_time": "2022-07-19T11:26:47.458Z"
   },
   {
    "duration": 5,
    "start_time": "2022-07-19T11:26:47.465Z"
   },
   {
    "duration": 36,
    "start_time": "2022-07-19T11:26:47.472Z"
   },
   {
    "duration": 12,
    "start_time": "2022-07-19T11:26:47.510Z"
   },
   {
    "duration": 7,
    "start_time": "2022-07-19T11:26:47.523Z"
   },
   {
    "duration": 170,
    "start_time": "2022-07-19T11:26:47.532Z"
   },
   {
    "duration": 8,
    "start_time": "2022-07-19T11:26:47.704Z"
   },
   {
    "duration": 260,
    "start_time": "2022-07-19T11:26:47.713Z"
   },
   {
    "duration": 7,
    "start_time": "2022-07-19T11:26:47.975Z"
   },
   {
    "duration": 25,
    "start_time": "2022-07-19T11:26:47.983Z"
   },
   {
    "duration": 7,
    "start_time": "2022-07-19T11:26:48.010Z"
   },
   {
    "duration": 11,
    "start_time": "2022-07-19T11:26:48.019Z"
   },
   {
    "duration": 325,
    "start_time": "2022-07-19T11:26:48.035Z"
   },
   {
    "duration": 6,
    "start_time": "2022-07-19T11:26:48.361Z"
   },
   {
    "duration": 15,
    "start_time": "2022-07-19T11:26:48.369Z"
   },
   {
    "duration": 15,
    "start_time": "2022-07-19T11:26:48.386Z"
   },
   {
    "duration": 9,
    "start_time": "2022-07-19T11:26:48.403Z"
   },
   {
    "duration": 149,
    "start_time": "2022-07-19T11:26:48.414Z"
   },
   {
    "duration": 893,
    "start_time": "2022-07-19T11:26:48.565Z"
   },
   {
    "duration": 765,
    "start_time": "2022-07-19T11:26:49.460Z"
   },
   {
    "duration": 381,
    "start_time": "2022-07-19T11:26:50.226Z"
   },
   {
    "duration": 173,
    "start_time": "2022-07-19T11:26:50.608Z"
   },
   {
    "duration": 26,
    "start_time": "2022-07-19T11:26:50.783Z"
   },
   {
    "duration": 43,
    "start_time": "2022-07-19T11:26:50.810Z"
   },
   {
    "duration": 19,
    "start_time": "2022-07-19T11:26:50.855Z"
   },
   {
    "duration": 35,
    "start_time": "2022-07-19T11:26:50.876Z"
   },
   {
    "duration": 38,
    "start_time": "2022-07-19T11:26:50.913Z"
   },
   {
    "duration": 30,
    "start_time": "2022-07-19T11:26:50.952Z"
   },
   {
    "duration": 38,
    "start_time": "2022-07-19T11:26:50.984Z"
   },
   {
    "duration": 149,
    "start_time": "2022-07-19T11:26:51.024Z"
   },
   {
    "duration": 6,
    "start_time": "2022-07-19T11:26:51.175Z"
   },
   {
    "duration": 157,
    "start_time": "2022-07-19T11:26:51.183Z"
   },
   {
    "duration": 5,
    "start_time": "2022-07-19T11:26:51.341Z"
   },
   {
    "duration": 26,
    "start_time": "2022-07-19T11:26:51.348Z"
   },
   {
    "duration": 16,
    "start_time": "2022-07-19T11:26:51.375Z"
   },
   {
    "duration": 28,
    "start_time": "2022-07-19T11:26:51.393Z"
   },
   {
    "duration": 9,
    "start_time": "2022-07-19T11:26:51.423Z"
   },
   {
    "duration": 9,
    "start_time": "2022-07-19T11:26:51.434Z"
   },
   {
    "duration": 9,
    "start_time": "2022-07-19T11:26:51.444Z"
   },
   {
    "duration": 9,
    "start_time": "2022-07-19T11:26:51.455Z"
   },
   {
    "duration": 181,
    "start_time": "2022-07-19T11:26:51.466Z"
   },
   {
    "duration": 916,
    "start_time": "2022-07-19T11:26:51.649Z"
   },
   {
    "duration": 1031,
    "start_time": "2022-07-19T11:26:52.566Z"
   },
   {
    "duration": 203,
    "start_time": "2022-07-19T11:26:53.600Z"
   },
   {
    "duration": 14,
    "start_time": "2022-07-19T11:26:53.805Z"
   },
   {
    "duration": 313,
    "start_time": "2022-07-19T11:26:53.821Z"
   },
   {
    "duration": 7,
    "start_time": "2022-07-19T11:26:54.136Z"
   },
   {
    "duration": 40,
    "start_time": "2022-07-19T11:26:54.145Z"
   },
   {
    "duration": 51,
    "start_time": "2022-07-19T11:26:54.187Z"
   },
   {
    "duration": 31,
    "start_time": "2022-07-19T11:26:54.239Z"
   },
   {
    "duration": 84,
    "start_time": "2022-07-19T11:26:54.271Z"
   },
   {
    "duration": 54,
    "start_time": "2022-07-19T11:26:54.357Z"
   },
   {
    "duration": 382,
    "start_time": "2022-07-19T11:26:54.413Z"
   },
   {
    "duration": 6,
    "start_time": "2022-07-19T11:26:54.797Z"
   },
   {
    "duration": 59,
    "start_time": "2022-07-19T11:26:54.804Z"
   },
   {
    "duration": 30,
    "start_time": "2022-07-19T11:26:54.865Z"
   },
   {
    "duration": 36,
    "start_time": "2022-07-19T11:26:54.896Z"
   },
   {
    "duration": 254,
    "start_time": "2022-07-19T11:26:54.934Z"
   },
   {
    "duration": 20,
    "start_time": "2022-07-19T11:26:55.190Z"
   },
   {
    "duration": 13,
    "start_time": "2022-07-19T11:26:55.212Z"
   },
   {
    "duration": 68,
    "start_time": "2022-07-19T11:26:55.227Z"
   },
   {
    "duration": 22,
    "start_time": "2022-07-19T11:26:55.296Z"
   },
   {
    "duration": 25,
    "start_time": "2022-07-19T11:26:55.321Z"
   },
   {
    "duration": 35,
    "start_time": "2022-07-19T11:26:55.348Z"
   },
   {
    "duration": 333,
    "start_time": "2022-07-19T11:26:55.385Z"
   },
   {
    "duration": 6,
    "start_time": "2022-07-19T11:26:55.719Z"
   },
   {
    "duration": 8,
    "start_time": "2022-07-19T11:26:55.727Z"
   },
   {
    "duration": 8,
    "start_time": "2022-07-19T11:26:55.737Z"
   },
   {
    "duration": 16,
    "start_time": "2022-07-19T11:26:55.747Z"
   },
   {
    "duration": 19,
    "start_time": "2022-07-19T11:26:55.765Z"
   },
   {
    "duration": 8,
    "start_time": "2022-07-19T11:26:55.785Z"
   },
   {
    "duration": 10,
    "start_time": "2022-07-19T11:26:55.794Z"
   },
   {
    "duration": 15,
    "start_time": "2022-07-19T11:26:55.805Z"
   },
   {
    "duration": 15,
    "start_time": "2022-07-19T11:26:55.822Z"
   },
   {
    "duration": 225,
    "start_time": "2022-07-19T11:26:55.838Z"
   },
   {
    "duration": 7,
    "start_time": "2022-07-19T11:26:56.065Z"
   },
   {
    "duration": 113,
    "start_time": "2022-07-19T11:26:56.073Z"
   },
   {
    "duration": 28,
    "start_time": "2022-07-19T11:26:56.188Z"
   },
   {
    "duration": 5,
    "start_time": "2022-07-19T11:26:56.218Z"
   },
   {
    "duration": 18,
    "start_time": "2022-07-19T11:26:56.224Z"
   },
   {
    "duration": 53,
    "start_time": "2022-07-19T11:26:56.243Z"
   },
   {
    "duration": 12,
    "start_time": "2022-07-19T11:26:56.297Z"
   },
   {
    "duration": 17,
    "start_time": "2022-07-19T11:26:56.310Z"
   },
   {
    "duration": 23,
    "start_time": "2022-07-19T11:26:56.329Z"
   },
   {
    "duration": 17,
    "start_time": "2022-07-19T11:26:56.353Z"
   },
   {
    "duration": 19,
    "start_time": "2022-07-19T11:26:56.372Z"
   },
   {
    "duration": 187,
    "start_time": "2022-07-19T11:26:56.393Z"
   },
   {
    "duration": 7,
    "start_time": "2022-07-19T11:26:56.582Z"
   },
   {
    "duration": 8,
    "start_time": "2022-07-19T11:26:56.600Z"
   },
   {
    "duration": 27,
    "start_time": "2022-07-19T11:26:56.610Z"
   },
   {
    "duration": 22,
    "start_time": "2022-07-19T11:26:56.638Z"
   },
   {
    "duration": 5,
    "start_time": "2022-07-19T11:26:56.662Z"
   },
   {
    "duration": 32,
    "start_time": "2022-07-19T11:26:56.669Z"
   },
   {
    "duration": 152,
    "start_time": "2022-07-19T11:26:56.708Z"
   },
   {
    "duration": 19,
    "start_time": "2022-07-19T11:26:56.861Z"
   },
   {
    "duration": 31,
    "start_time": "2022-07-19T11:26:56.882Z"
   },
   {
    "duration": 7,
    "start_time": "2022-07-19T11:26:56.915Z"
   },
   {
    "duration": 7,
    "start_time": "2022-07-19T11:26:56.924Z"
   },
   {
    "duration": 137,
    "start_time": "2022-07-19T11:26:56.933Z"
   },
   {
    "duration": 301,
    "start_time": "2022-07-19T11:30:42.020Z"
   },
   {
    "duration": 1170,
    "start_time": "2022-07-19T11:34:06.935Z"
   },
   {
    "duration": 15,
    "start_time": "2022-07-19T11:34:08.107Z"
   },
   {
    "duration": 16,
    "start_time": "2022-07-19T11:34:08.123Z"
   },
   {
    "duration": 12,
    "start_time": "2022-07-19T11:34:08.141Z"
   },
   {
    "duration": 669,
    "start_time": "2022-07-19T11:34:08.156Z"
   },
   {
    "duration": 4,
    "start_time": "2022-07-19T11:34:08.827Z"
   },
   {
    "duration": 26,
    "start_time": "2022-07-19T11:34:08.833Z"
   },
   {
    "duration": 14,
    "start_time": "2022-07-19T11:34:08.861Z"
   },
   {
    "duration": 39,
    "start_time": "2022-07-19T11:34:08.877Z"
   },
   {
    "duration": 8,
    "start_time": "2022-07-19T11:34:08.920Z"
   },
   {
    "duration": 16,
    "start_time": "2022-07-19T11:34:08.929Z"
   },
   {
    "duration": 26,
    "start_time": "2022-07-19T11:34:08.946Z"
   },
   {
    "duration": 21,
    "start_time": "2022-07-19T11:34:08.973Z"
   },
   {
    "duration": 149,
    "start_time": "2022-07-19T11:34:08.996Z"
   },
   {
    "duration": 13,
    "start_time": "2022-07-19T11:34:09.147Z"
   },
   {
    "duration": 7,
    "start_time": "2022-07-19T11:34:09.161Z"
   },
   {
    "duration": 7,
    "start_time": "2022-07-19T11:34:09.169Z"
   },
   {
    "duration": 24,
    "start_time": "2022-07-19T11:34:09.177Z"
   },
   {
    "duration": 36,
    "start_time": "2022-07-19T11:34:09.203Z"
   },
   {
    "duration": 4,
    "start_time": "2022-07-19T11:34:09.241Z"
   },
   {
    "duration": 30,
    "start_time": "2022-07-19T11:34:09.246Z"
   },
   {
    "duration": 34760,
    "start_time": "2022-07-19T11:34:09.277Z"
   },
   {
    "duration": 5,
    "start_time": "2022-07-19T11:34:44.039Z"
   },
   {
    "duration": 21,
    "start_time": "2022-07-19T11:34:44.045Z"
   },
   {
    "duration": 18,
    "start_time": "2022-07-19T11:34:44.068Z"
   },
   {
    "duration": 14,
    "start_time": "2022-07-19T11:34:44.088Z"
   },
   {
    "duration": 24,
    "start_time": "2022-07-19T11:34:44.103Z"
   },
   {
    "duration": 19,
    "start_time": "2022-07-19T11:34:44.132Z"
   },
   {
    "duration": 4,
    "start_time": "2022-07-19T11:34:44.153Z"
   },
   {
    "duration": 5,
    "start_time": "2022-07-19T11:34:44.158Z"
   },
   {
    "duration": 13,
    "start_time": "2022-07-19T11:34:44.165Z"
   },
   {
    "duration": 31,
    "start_time": "2022-07-19T11:34:44.179Z"
   },
   {
    "duration": 17,
    "start_time": "2022-07-19T11:34:44.212Z"
   },
   {
    "duration": 153,
    "start_time": "2022-07-19T11:34:44.231Z"
   },
   {
    "duration": 8,
    "start_time": "2022-07-19T11:34:44.386Z"
   },
   {
    "duration": 286,
    "start_time": "2022-07-19T11:34:44.395Z"
   },
   {
    "duration": 7,
    "start_time": "2022-07-19T11:34:44.683Z"
   },
   {
    "duration": 14,
    "start_time": "2022-07-19T11:34:44.700Z"
   },
   {
    "duration": 15,
    "start_time": "2022-07-19T11:34:44.716Z"
   },
   {
    "duration": 15,
    "start_time": "2022-07-19T11:34:44.733Z"
   },
   {
    "duration": 321,
    "start_time": "2022-07-19T11:34:44.749Z"
   },
   {
    "duration": 6,
    "start_time": "2022-07-19T11:34:45.072Z"
   },
   {
    "duration": 62,
    "start_time": "2022-07-19T11:34:45.079Z"
   },
   {
    "duration": 16,
    "start_time": "2022-07-19T11:34:45.142Z"
   },
   {
    "duration": 27,
    "start_time": "2022-07-19T11:34:45.159Z"
   },
   {
    "duration": 174,
    "start_time": "2022-07-19T11:34:45.188Z"
   },
   {
    "duration": 1031,
    "start_time": "2022-07-19T11:34:45.364Z"
   },
   {
    "duration": 859,
    "start_time": "2022-07-19T11:34:46.396Z"
   },
   {
    "duration": 457,
    "start_time": "2022-07-19T11:34:47.257Z"
   },
   {
    "duration": 194,
    "start_time": "2022-07-19T11:34:47.716Z"
   },
   {
    "duration": 26,
    "start_time": "2022-07-19T11:34:47.912Z"
   },
   {
    "duration": 12,
    "start_time": "2022-07-19T11:34:47.940Z"
   },
   {
    "duration": 12,
    "start_time": "2022-07-19T11:34:47.953Z"
   },
   {
    "duration": 8,
    "start_time": "2022-07-19T11:34:47.967Z"
   },
   {
    "duration": 10,
    "start_time": "2022-07-19T11:34:47.977Z"
   },
   {
    "duration": 12,
    "start_time": "2022-07-19T11:34:47.989Z"
   },
   {
    "duration": 23,
    "start_time": "2022-07-19T11:34:48.002Z"
   },
   {
    "duration": 157,
    "start_time": "2022-07-19T11:34:48.026Z"
   },
   {
    "duration": 17,
    "start_time": "2022-07-19T11:34:48.185Z"
   },
   {
    "duration": 168,
    "start_time": "2022-07-19T11:34:48.204Z"
   },
   {
    "duration": 4,
    "start_time": "2022-07-19T11:34:48.374Z"
   },
   {
    "duration": 25,
    "start_time": "2022-07-19T11:34:48.380Z"
   },
   {
    "duration": 7,
    "start_time": "2022-07-19T11:34:48.408Z"
   },
   {
    "duration": 23,
    "start_time": "2022-07-19T11:34:48.417Z"
   },
   {
    "duration": 7,
    "start_time": "2022-07-19T11:34:48.442Z"
   },
   {
    "duration": 6,
    "start_time": "2022-07-19T11:34:48.450Z"
   },
   {
    "duration": 15,
    "start_time": "2022-07-19T11:34:48.457Z"
   },
   {
    "duration": 27,
    "start_time": "2022-07-19T11:34:48.474Z"
   },
   {
    "duration": 189,
    "start_time": "2022-07-19T11:34:48.502Z"
   },
   {
    "duration": 985,
    "start_time": "2022-07-19T11:34:48.692Z"
   },
   {
    "duration": 1101,
    "start_time": "2022-07-19T11:34:49.679Z"
   },
   {
    "duration": 235,
    "start_time": "2022-07-19T11:34:50.781Z"
   },
   {
    "duration": 17,
    "start_time": "2022-07-19T11:34:51.019Z"
   },
   {
    "duration": 288,
    "start_time": "2022-07-19T11:34:51.037Z"
   },
   {
    "duration": 7,
    "start_time": "2022-07-19T11:34:51.327Z"
   },
   {
    "duration": 9,
    "start_time": "2022-07-19T11:34:51.336Z"
   },
   {
    "duration": 13,
    "start_time": "2022-07-19T11:34:51.347Z"
   },
   {
    "duration": 8,
    "start_time": "2022-07-19T11:34:51.362Z"
   },
   {
    "duration": 36,
    "start_time": "2022-07-19T11:34:51.372Z"
   },
   {
    "duration": 34,
    "start_time": "2022-07-19T11:34:51.410Z"
   },
   {
    "duration": 380,
    "start_time": "2022-07-19T11:34:51.446Z"
   },
   {
    "duration": 6,
    "start_time": "2022-07-19T11:34:51.832Z"
   },
   {
    "duration": 9,
    "start_time": "2022-07-19T11:34:51.839Z"
   },
   {
    "duration": 17,
    "start_time": "2022-07-19T11:34:51.850Z"
   },
   {
    "duration": 25,
    "start_time": "2022-07-19T11:34:51.868Z"
   },
   {
    "duration": 244,
    "start_time": "2022-07-19T11:34:51.895Z"
   },
   {
    "duration": 7,
    "start_time": "2022-07-19T11:34:52.141Z"
   },
   {
    "duration": 9,
    "start_time": "2022-07-19T11:34:52.151Z"
   },
   {
    "duration": 11,
    "start_time": "2022-07-19T11:34:52.162Z"
   },
   {
    "duration": 16,
    "start_time": "2022-07-19T11:34:52.174Z"
   },
   {
    "duration": 31,
    "start_time": "2022-07-19T11:34:52.192Z"
   },
   {
    "duration": 8,
    "start_time": "2022-07-19T11:34:52.224Z"
   },
   {
    "duration": 333,
    "start_time": "2022-07-19T11:34:52.234Z"
   },
   {
    "duration": 5,
    "start_time": "2022-07-19T11:34:52.568Z"
   },
   {
    "duration": 14,
    "start_time": "2022-07-19T11:34:52.575Z"
   },
   {
    "duration": 43,
    "start_time": "2022-07-19T11:34:52.590Z"
   },
   {
    "duration": 15,
    "start_time": "2022-07-19T11:34:52.635Z"
   },
   {
    "duration": 20,
    "start_time": "2022-07-19T11:34:52.652Z"
   },
   {
    "duration": 7,
    "start_time": "2022-07-19T11:34:52.674Z"
   },
   {
    "duration": 8,
    "start_time": "2022-07-19T11:34:52.683Z"
   },
   {
    "duration": 26,
    "start_time": "2022-07-19T11:34:52.693Z"
   },
   {
    "duration": 8,
    "start_time": "2022-07-19T11:34:52.721Z"
   },
   {
    "duration": 236,
    "start_time": "2022-07-19T11:34:52.731Z"
   },
   {
    "duration": 7,
    "start_time": "2022-07-19T11:34:52.969Z"
   },
   {
    "duration": 157,
    "start_time": "2022-07-19T11:34:52.978Z"
   },
   {
    "duration": 22,
    "start_time": "2022-07-19T11:34:53.137Z"
   },
   {
    "duration": 5,
    "start_time": "2022-07-19T11:34:53.161Z"
   },
   {
    "duration": 10,
    "start_time": "2022-07-19T11:34:53.167Z"
   },
   {
    "duration": 47,
    "start_time": "2022-07-19T11:34:53.179Z"
   },
   {
    "duration": 35,
    "start_time": "2022-07-19T11:34:53.228Z"
   },
   {
    "duration": 9,
    "start_time": "2022-07-19T11:34:53.265Z"
   },
   {
    "duration": 10,
    "start_time": "2022-07-19T11:34:53.275Z"
   },
   {
    "duration": 34,
    "start_time": "2022-07-19T11:34:53.287Z"
   },
   {
    "duration": 22,
    "start_time": "2022-07-19T11:34:53.323Z"
   },
   {
    "duration": 228,
    "start_time": "2022-07-19T11:34:53.347Z"
   },
   {
    "duration": 7,
    "start_time": "2022-07-19T11:34:53.576Z"
   },
   {
    "duration": 9,
    "start_time": "2022-07-19T11:34:53.585Z"
   },
   {
    "duration": 28,
    "start_time": "2022-07-19T11:34:53.601Z"
   },
   {
    "duration": 19,
    "start_time": "2022-07-19T11:34:53.631Z"
   },
   {
    "duration": 5,
    "start_time": "2022-07-19T11:34:53.651Z"
   },
   {
    "duration": 23,
    "start_time": "2022-07-19T11:34:53.657Z"
   },
   {
    "duration": 179,
    "start_time": "2022-07-19T11:34:53.682Z"
   },
   {
    "duration": 43,
    "start_time": "2022-07-19T11:34:53.864Z"
   },
   {
    "duration": 27,
    "start_time": "2022-07-19T11:34:53.909Z"
   },
   {
    "duration": 13,
    "start_time": "2022-07-19T11:34:53.938Z"
   },
   {
    "duration": 15,
    "start_time": "2022-07-19T11:34:53.953Z"
   },
   {
    "duration": 155,
    "start_time": "2022-07-19T11:34:53.969Z"
   },
   {
    "duration": 44,
    "start_time": "2022-07-19T11:34:54.126Z"
   },
   {
    "duration": 3,
    "start_time": "2022-07-19T11:34:54.171Z"
   },
   {
    "duration": 17,
    "start_time": "2022-07-19T11:34:54.176Z"
   },
   {
    "duration": 6,
    "start_time": "2022-07-19T11:34:54.194Z"
   },
   {
    "duration": 13,
    "start_time": "2022-07-19T11:34:54.205Z"
   },
   {
    "duration": 12,
    "start_time": "2022-07-19T11:34:54.220Z"
   },
   {
    "duration": 5,
    "start_time": "2022-07-19T11:34:54.233Z"
   },
   {
    "duration": 634,
    "start_time": "2022-07-19T11:34:54.240Z"
   },
   {
    "duration": 79,
    "start_time": "2022-07-19T11:46:40.499Z"
   },
   {
    "duration": 1433,
    "start_time": "2022-07-19T11:46:50.004Z"
   },
   {
    "duration": 55,
    "start_time": "2022-07-19T11:46:57.681Z"
   },
   {
    "duration": 3,
    "start_time": "2022-07-19T11:47:29.034Z"
   },
   {
    "duration": 15,
    "start_time": "2022-07-19T11:47:31.014Z"
   },
   {
    "duration": 6,
    "start_time": "2022-07-19T11:47:33.205Z"
   },
   {
    "duration": 4,
    "start_time": "2022-07-19T11:47:35.902Z"
   },
   {
    "duration": 7,
    "start_time": "2022-07-19T11:47:37.807Z"
   },
   {
    "duration": 7,
    "start_time": "2022-07-19T11:47:42.206Z"
   },
   {
    "duration": 835,
    "start_time": "2022-07-19T11:49:23.421Z"
   }
  ],
  "kernelspec": {
   "display_name": "Python 3 (ipykernel)",
   "language": "python",
   "name": "python3"
  },
  "language_info": {
   "codemirror_mode": {
    "name": "ipython",
    "version": 3
   },
   "file_extension": ".py",
   "mimetype": "text/x-python",
   "name": "python",
   "nbconvert_exporter": "python",
   "pygments_lexer": "ipython3",
   "version": "3.9.12"
  },
  "toc": {
   "base_numbering": 1,
   "nav_menu": {},
   "number_sections": true,
   "sideBar": true,
   "skip_h1_title": true,
   "title_cell": "Table of Contents",
   "title_sidebar": "Contents",
   "toc_cell": false,
   "toc_position": {},
   "toc_section_display": true,
   "toc_window_display": true
  }
 },
 "nbformat": 4,
 "nbformat_minor": 2
}
